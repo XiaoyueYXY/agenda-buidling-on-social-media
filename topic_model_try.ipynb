{
 "cells": [
  {
   "cell_type": "code",
   "execution_count": 3,
   "id": "aware-memorabilia",
   "metadata": {},
   "outputs": [],
   "source": [
    "from bertopic import BERTopic\n",
    "from sklearn.feature_extraction.text import CountVectorizer\n",
    "import csv\n",
    "import pandas as pd\n",
    "from hdbscan import HDBSCAN\n",
    "from transformers import AutoModel\n",
    "from gensim.models.coherencemodel import CoherenceModel\n",
    "import gensim.corpora as corpora\n",
    "import nltk\n",
    "import random\n",
    "random.seed(\"ic2s2colgne\")\n",
    "import numpy as np"
   ]
  },
  {
   "cell_type": "code",
   "execution_count": 4,
   "id": "wireless-nirvana",
   "metadata": {},
   "outputs": [],
   "source": [
    "random.seed(2022)\n",
    "np.random.seed(2022)"
   ]
  },
  {
   "cell_type": "markdown",
   "id": "civil-valentine",
   "metadata": {},
   "source": [
    "### Datasets combination"
   ]
  },
  {
   "cell_type": "code",
   "execution_count": 5,
   "id": "productive-desktop",
   "metadata": {},
   "outputs": [],
   "source": [
    "media = pd.read_csv(\"media_clean.csv\", header = 0, delimiter = \",\")\n",
    "media.drop(labels = [\"Unnamed: 0\"], axis = 1, inplace = True)"
   ]
  },
  {
   "cell_type": "code",
   "execution_count": 6,
   "id": "structured-printing",
   "metadata": {},
   "outputs": [
    {
     "data": {
      "text/plain": [
       "38138"
      ]
     },
     "execution_count": 6,
     "metadata": {},
     "output_type": "execute_result"
    }
   ],
   "source": [
    "len(media)"
   ]
  },
  {
   "cell_type": "code",
   "execution_count": 7,
   "id": "robust-combat",
   "metadata": {},
   "outputs": [],
   "source": [
    "corporation = pd.read_csv(\"corporation_clean.csv\", header = 0, delimiter = \",\")\n",
    "corporation.drop(labels = [\"Unnamed: 0\"], axis = 1, inplace = True)"
   ]
  },
  {
   "cell_type": "code",
   "execution_count": 8,
   "id": "going-letter",
   "metadata": {},
   "outputs": [
    {
     "data": {
      "text/plain": [
       "161135"
      ]
     },
     "execution_count": 8,
     "metadata": {},
     "output_type": "execute_result"
    }
   ],
   "source": [
    "len(corporation)"
   ]
  },
  {
   "cell_type": "code",
   "execution_count": 10,
   "id": "stone-leadership",
   "metadata": {},
   "outputs": [],
   "source": [
    "media[\"source_media\"] = 1\n",
    "corporation[\"source_media\"] = 0"
   ]
  },
  {
   "cell_type": "code",
   "execution_count": 11,
   "id": "public-separation",
   "metadata": {},
   "outputs": [],
   "source": [
    "all_tweets = pd.concat([media, corporation], ignore_index=True)"
   ]
  },
  {
   "cell_type": "code",
   "execution_count": 12,
   "id": "thorough-profile",
   "metadata": {},
   "outputs": [
    {
     "data": {
      "text/plain": [
       "199273"
      ]
     },
     "execution_count": 12,
     "metadata": {},
     "output_type": "execute_result"
    }
   ],
   "source": [
    "len(all_tweets)"
   ]
  },
  {
   "cell_type": "code",
   "execution_count": 13,
   "id": "congressional-negotiation",
   "metadata": {},
   "outputs": [
    {
     "data": {
      "text/html": [
       "<div>\n",
       "<style scoped>\n",
       "    .dataframe tbody tr th:only-of-type {\n",
       "        vertical-align: middle;\n",
       "    }\n",
       "\n",
       "    .dataframe tbody tr th {\n",
       "        vertical-align: top;\n",
       "    }\n",
       "\n",
       "    .dataframe thead th {\n",
       "        text-align: right;\n",
       "    }\n",
       "</style>\n",
       "<table border=\"1\" class=\"dataframe\">\n",
       "  <thead>\n",
       "    <tr style=\"text-align: right;\">\n",
       "      <th></th>\n",
       "      <th>created_at</th>\n",
       "      <th>text</th>\n",
       "      <th>id</th>\n",
       "      <th>author_id</th>\n",
       "      <th>lang</th>\n",
       "      <th>username</th>\n",
       "      <th>text_clean</th>\n",
       "      <th>source_media</th>\n",
       "    </tr>\n",
       "  </thead>\n",
       "  <tbody>\n",
       "    <tr>\n",
       "      <th>0</th>\n",
       "      <td>2021-12-31 12:06:05</td>\n",
       "      <td>'That was not the basis of the CDC's decision'...</td>\n",
       "      <td>1476887381336801280</td>\n",
       "      <td>2836421</td>\n",
       "      <td>en</td>\n",
       "      <td>MSNBC</td>\n",
       "      <td>that was not the basis of the cdcs decision dr...</td>\n",
       "      <td>1</td>\n",
       "    </tr>\n",
       "    <tr>\n",
       "      <th>1</th>\n",
       "      <td>2021-12-30 02:46:02</td>\n",
       "      <td>'That was not the basis of the CDC's decision'...</td>\n",
       "      <td>1476384051154112512</td>\n",
       "      <td>2836421</td>\n",
       "      <td>en</td>\n",
       "      <td>MSNBC</td>\n",
       "      <td>that was not the basis of the cdcs decision dr...</td>\n",
       "      <td>1</td>\n",
       "    </tr>\n",
       "    <tr>\n",
       "      <th>2</th>\n",
       "      <td>2021-12-29 13:31:07</td>\n",
       "      <td>'That was not the basis of the CDC's decision'...</td>\n",
       "      <td>1476184003526938624</td>\n",
       "      <td>2836421</td>\n",
       "      <td>en</td>\n",
       "      <td>MSNBC</td>\n",
       "      <td>that was not the basis of the cdcs decision dr...</td>\n",
       "      <td>1</td>\n",
       "    </tr>\n",
       "    <tr>\n",
       "      <th>3</th>\n",
       "      <td>2021-12-29 06:31:02</td>\n",
       "      <td>'That was not the basis of the CDC's decision'...</td>\n",
       "      <td>1476078288661581824</td>\n",
       "      <td>2836421</td>\n",
       "      <td>en</td>\n",
       "      <td>MSNBC</td>\n",
       "      <td>that was not the basis of the cdcs decision dr...</td>\n",
       "      <td>1</td>\n",
       "    </tr>\n",
       "    <tr>\n",
       "      <th>4</th>\n",
       "      <td>2021-08-25 19:34:01</td>\n",
       "      <td>Delta Air Lines CEO tells employees that they ...</td>\n",
       "      <td>1430614459077349376</td>\n",
       "      <td>2836421</td>\n",
       "      <td>en</td>\n",
       "      <td>MSNBC</td>\n",
       "      <td>delta air lines ceo tells employees that they ...</td>\n",
       "      <td>1</td>\n",
       "    </tr>\n",
       "  </tbody>\n",
       "</table>\n",
       "</div>"
      ],
      "text/plain": [
       "            created_at                                               text  \\\n",
       "0  2021-12-31 12:06:05  'That was not the basis of the CDC's decision'...   \n",
       "1  2021-12-30 02:46:02  'That was not the basis of the CDC's decision'...   \n",
       "2  2021-12-29 13:31:07  'That was not the basis of the CDC's decision'...   \n",
       "3  2021-12-29 06:31:02  'That was not the basis of the CDC's decision'...   \n",
       "4  2021-08-25 19:34:01  Delta Air Lines CEO tells employees that they ...   \n",
       "\n",
       "                    id  author_id lang username  \\\n",
       "0  1476887381336801280    2836421   en    MSNBC   \n",
       "1  1476384051154112512    2836421   en    MSNBC   \n",
       "2  1476184003526938624    2836421   en    MSNBC   \n",
       "3  1476078288661581824    2836421   en    MSNBC   \n",
       "4  1430614459077349376    2836421   en    MSNBC   \n",
       "\n",
       "                                          text_clean  source_media  \n",
       "0  that was not the basis of the cdcs decision dr...             1  \n",
       "1  that was not the basis of the cdcs decision dr...             1  \n",
       "2  that was not the basis of the cdcs decision dr...             1  \n",
       "3  that was not the basis of the cdcs decision dr...             1  \n",
       "4  delta air lines ceo tells employees that they ...             1  "
      ]
     },
     "execution_count": 13,
     "metadata": {},
     "output_type": "execute_result"
    }
   ],
   "source": [
    "all_tweets.head()"
   ]
  },
  {
   "cell_type": "markdown",
   "id": "mobile-scale",
   "metadata": {},
   "source": [
    "### Sampling"
   ]
  },
  {
   "cell_type": "code",
   "execution_count": 14,
   "id": "straight-physics",
   "metadata": {},
   "outputs": [],
   "source": [
    "df = all_tweets.sample(40000, ignore_index = True)"
   ]
  },
  {
   "cell_type": "code",
   "execution_count": 15,
   "id": "boxed-variance",
   "metadata": {},
   "outputs": [],
   "source": [
    "text = df[\"text_clean\"].to_list()"
   ]
  },
  {
   "cell_type": "markdown",
   "id": "democratic-substance",
   "metadata": {},
   "source": [
    "### Reduce outliers"
   ]
  },
  {
   "cell_type": "markdown",
   "id": "computational-manitoba",
   "metadata": {},
   "source": [
    "**Reason for too many outliers**\n",
    "\n",
    "\"The reduced embeddings are clustering used HDBSCAN (McInnes et al., 2017). It is an extension of DBSCAN that finds clusters of varying\n",
    "densities by converting DBSCAN into a hierarchical clustering algorithm. HDBSCAN models clusters using a soft-clustering approach allowing noise to be modeled as outliers. This prevents unrelated documents to be assigned to any cluster and is expected to improve topic representations.‘Moreover, (Allaoui et al., 2020) demonstrated that reducing high dimensional embeddings with UMAP can improve the performance of well-known clustering algorithms, such as k-Means and HDBSCAN, both in terms of clustering accuracy and time.\"\n",
    "\n",
    "*from: Grootendorst, M. (2022). BERTopic: Neural topic modeling with a class-based TF-IDF procedure. arXiv preprint arXiv:2203.05794.*\n",
    "\n",
    "https://github.com/MaartenGr/BERTopic/issues/334\n",
    "\n",
    "\n",
    "Importantly HDBSCAN is noise aware – it has a notion of data samples that are not assigned to any cluster. This is handled by assigning these samples the label -1\n",
    "\n",
    "The amount of data classified as noise is controlled by the min_samples parameter. By default, if not otherwise set, this value is set to the same value as min_cluster_size. You can set it independently if you wish by specifying it separately. The lower the value, the less noise you’ll get\n",
    "https://hdbscan.readthedocs.io/en/latest/faq.html#q-most-of-data-is-classified-as-noise-why\n",
    "\n",
    "\n",
    "For hdbscan: \n",
    "- min_samples = the minimum number of neighbours to a core point.  The higher this is, the more points are going to be discarded as noise/outliers.\n",
    "- min_cluster_size = the minimum size a final cluster can be."
   ]
  },
  {
   "cell_type": "markdown",
   "id": "individual-sculpture",
   "metadata": {},
   "source": [
    "#### Original results"
   ]
  },
  {
   "cell_type": "code",
   "execution_count": 16,
   "id": "young-ambassador",
   "metadata": {},
   "outputs": [],
   "source": [
    "vectorizer_model = CountVectorizer(ngram_range=(1, 2), stop_words=\"english\", min_df=5, max_df=.5)"
   ]
  },
  {
   "cell_type": "code",
   "execution_count": 17,
   "id": "sharing-bonus",
   "metadata": {},
   "outputs": [],
   "source": [
    "topic_modela = BERTopic(vectorizer_model=vectorizer_model, calculate_probabilities=False, low_memory=True, verbose=True, \n",
    "                       nr_topics=\"auto\", diversity = 0.2, min_topic_size = 30)"
   ]
  },
  {
   "cell_type": "code",
   "execution_count": 18,
   "id": "smaller-moderator",
   "metadata": {},
   "outputs": [
    {
     "data": {
      "application/vnd.jupyter.widget-view+json": {
       "model_id": "b1a282c7805749c695bbd24c89198b37",
       "version_major": 2,
       "version_minor": 0
      },
      "text/plain": [
       "Batches:   0%|          | 0/1250 [00:00<?, ?it/s]"
      ]
     },
     "metadata": {},
     "output_type": "display_data"
    },
    {
     "name": "stderr",
     "output_type": "stream",
     "text": [
      "2022-06-08 17:59:24,826 - BERTopic - Transformed documents to Embeddings\n",
      "2022-06-08 17:59:53,873 - BERTopic - Reduced dimensionality\n",
      "2022-06-08 17:59:58,101 - BERTopic - Clustered reduced embeddings\n",
      "2022-06-08 18:00:24,114 - BERTopic - Reduced number of topics from 184 to 30\n"
     ]
    }
   ],
   "source": [
    "topics, probs = topic_modela.fit_transform(text)"
   ]
  },
  {
   "cell_type": "code",
   "execution_count": 19,
   "id": "laden-independence",
   "metadata": {},
   "outputs": [
    {
     "data": {
      "text/html": [
       "<div>\n",
       "<style scoped>\n",
       "    .dataframe tbody tr th:only-of-type {\n",
       "        vertical-align: middle;\n",
       "    }\n",
       "\n",
       "    .dataframe tbody tr th {\n",
       "        vertical-align: top;\n",
       "    }\n",
       "\n",
       "    .dataframe thead th {\n",
       "        text-align: right;\n",
       "    }\n",
       "</style>\n",
       "<table border=\"1\" class=\"dataframe\">\n",
       "  <thead>\n",
       "    <tr style=\"text-align: right;\">\n",
       "      <th></th>\n",
       "      <th>Topic</th>\n",
       "      <th>Count</th>\n",
       "      <th>Name</th>\n",
       "    </tr>\n",
       "  </thead>\n",
       "  <tbody>\n",
       "    <tr>\n",
       "      <th>0</th>\n",
       "      <td>0</td>\n",
       "      <td>19627</td>\n",
       "      <td>0_covid19_vaccine_data_card</td>\n",
       "    </tr>\n",
       "    <tr>\n",
       "      <th>1</th>\n",
       "      <td>-1</td>\n",
       "      <td>17399</td>\n",
       "      <td>-1_covid19_health_tech_amazon</td>\n",
       "    </tr>\n",
       "    <tr>\n",
       "      <th>2</th>\n",
       "      <td>1</td>\n",
       "      <td>328</td>\n",
       "      <td>1_happy_holiday_christmas_holiday season</td>\n",
       "    </tr>\n",
       "    <tr>\n",
       "      <th>3</th>\n",
       "      <td>2</td>\n",
       "      <td>321</td>\n",
       "      <td>2_students_teachers_education_schools</td>\n",
       "    </tr>\n",
       "    <tr>\n",
       "      <th>4</th>\n",
       "      <td>3</td>\n",
       "      <td>313</td>\n",
       "      <td>3_women_gender_womens_leadership</td>\n",
       "    </tr>\n",
       "    <tr>\n",
       "      <th>5</th>\n",
       "      <td>4</td>\n",
       "      <td>278</td>\n",
       "      <td>4_airlines_flight_southwest_max</td>\n",
       "    </tr>\n",
       "    <tr>\n",
       "      <th>6</th>\n",
       "      <td>5</td>\n",
       "      <td>220</td>\n",
       "      <td>5_diversity_diversity inclusion_workplace_equi...</td>\n",
       "    </tr>\n",
       "    <tr>\n",
       "      <th>7</th>\n",
       "      <td>6</td>\n",
       "      <td>173</td>\n",
       "      <td>6_retirement_income_tiaa_savings</td>\n",
       "    </tr>\n",
       "    <tr>\n",
       "      <th>8</th>\n",
       "      <td>7</td>\n",
       "      <td>131</td>\n",
       "      <td>7_giving_donate_grants_donating</td>\n",
       "    </tr>\n",
       "    <tr>\n",
       "      <th>9</th>\n",
       "      <td>8</td>\n",
       "      <td>100</td>\n",
       "      <td>8_kkr_real estate_estate_equity</td>\n",
       "    </tr>\n",
       "    <tr>\n",
       "      <th>10</th>\n",
       "      <td>9</td>\n",
       "      <td>91</td>\n",
       "      <td>9_accessible_inclusion_awareness_employment</td>\n",
       "    </tr>\n",
       "    <tr>\n",
       "      <th>11</th>\n",
       "      <td>10</td>\n",
       "      <td>86</td>\n",
       "      <td>10_supplychain_supply_chains_disruptions</td>\n",
       "    </tr>\n",
       "    <tr>\n",
       "      <th>12</th>\n",
       "      <td>11</td>\n",
       "      <td>74</td>\n",
       "      <td>11_tree_plant_academy_nature</td>\n",
       "    </tr>\n",
       "    <tr>\n",
       "      <th>13</th>\n",
       "      <td>12</td>\n",
       "      <td>73</td>\n",
       "      <td>12_olympic_dallas_turned_american</td>\n",
       "    </tr>\n",
       "    <tr>\n",
       "      <th>15</th>\n",
       "      <td>13</td>\n",
       "      <td>72</td>\n",
       "      <td>13_career_businesses_ct_cdw</td>\n",
       "    </tr>\n",
       "    <tr>\n",
       "      <th>14</th>\n",
       "      <td>14</td>\n",
       "      <td>72</td>\n",
       "      <td>14_mask_wear_travelers_require</td>\n",
       "    </tr>\n",
       "    <tr>\n",
       "      <th>16</th>\n",
       "      <td>15</td>\n",
       "      <td>68</td>\n",
       "      <td>15_riding_tradition_adventure_gift</td>\n",
       "    </tr>\n",
       "    <tr>\n",
       "      <th>17</th>\n",
       "      <td>16</td>\n",
       "      <td>62</td>\n",
       "      <td>16_travel_wednesday_trip_chat</td>\n",
       "    </tr>\n",
       "    <tr>\n",
       "      <th>18</th>\n",
       "      <td>17</td>\n",
       "      <td>57</td>\n",
       "      <td>17_interns_summer_students_programs</td>\n",
       "    </tr>\n",
       "    <tr>\n",
       "      <th>19</th>\n",
       "      <td>18</td>\n",
       "      <td>49</td>\n",
       "      <td>18_insurance_welcoming_ally_proud sponsor</td>\n",
       "    </tr>\n",
       "    <tr>\n",
       "      <th>20</th>\n",
       "      <td>19</td>\n",
       "      <td>47</td>\n",
       "      <td>19_esg_investors_sustainability_investment</td>\n",
       "    </tr>\n",
       "    <tr>\n",
       "      <th>21</th>\n",
       "      <td>20</td>\n",
       "      <td>46</td>\n",
       "      <td>20_resilience_resilient_chief operating_operat...</td>\n",
       "    </tr>\n",
       "    <tr>\n",
       "      <th>22</th>\n",
       "      <td>21</td>\n",
       "      <td>45</td>\n",
       "      <td>21_walma_delivery_gap_tuition</td>\n",
       "    </tr>\n",
       "    <tr>\n",
       "      <th>23</th>\n",
       "      <td>22</td>\n",
       "      <td>43</td>\n",
       "      <td>22_transformation_digital_leadership_initiatives</td>\n",
       "    </tr>\n",
       "    <tr>\n",
       "      <th>24</th>\n",
       "      <td>23</td>\n",
       "      <td>42</td>\n",
       "      <td>23_wireless_sound_speakers_music</td>\n",
       "    </tr>\n",
       "    <tr>\n",
       "      <th>25</th>\n",
       "      <td>24</td>\n",
       "      <td>41</td>\n",
       "      <td>24_games_strength_challenge_spo</td>\n",
       "    </tr>\n",
       "    <tr>\n",
       "      <th>26</th>\n",
       "      <td>25</td>\n",
       "      <td>40</td>\n",
       "      <td>25_diabetes_app_affordability_adults</td>\n",
       "    </tr>\n",
       "    <tr>\n",
       "      <th>27</th>\n",
       "      <td>26</td>\n",
       "      <td>37</td>\n",
       "      <td>26_bills_easier_monthly_payment</td>\n",
       "    </tr>\n",
       "    <tr>\n",
       "      <th>28</th>\n",
       "      <td>27</td>\n",
       "      <td>34</td>\n",
       "      <td>27_colgate_health_teeth_healthier</td>\n",
       "    </tr>\n",
       "    <tr>\n",
       "      <th>29</th>\n",
       "      <td>28</td>\n",
       "      <td>31</td>\n",
       "      <td>28_dont miss_miss_conversations_bloomberg</td>\n",
       "    </tr>\n",
       "  </tbody>\n",
       "</table>\n",
       "</div>"
      ],
      "text/plain": [
       "    Topic  Count                                               Name\n",
       "0       0  19627                        0_covid19_vaccine_data_card\n",
       "1      -1  17399                      -1_covid19_health_tech_amazon\n",
       "2       1    328           1_happy_holiday_christmas_holiday season\n",
       "3       2    321              2_students_teachers_education_schools\n",
       "4       3    313                   3_women_gender_womens_leadership\n",
       "5       4    278                    4_airlines_flight_southwest_max\n",
       "6       5    220  5_diversity_diversity inclusion_workplace_equi...\n",
       "7       6    173                   6_retirement_income_tiaa_savings\n",
       "8       7    131                    7_giving_donate_grants_donating\n",
       "9       8    100                    8_kkr_real estate_estate_equity\n",
       "10      9     91        9_accessible_inclusion_awareness_employment\n",
       "11     10     86           10_supplychain_supply_chains_disruptions\n",
       "12     11     74                       11_tree_plant_academy_nature\n",
       "13     12     73                  12_olympic_dallas_turned_american\n",
       "15     13     72                        13_career_businesses_ct_cdw\n",
       "14     14     72                     14_mask_wear_travelers_require\n",
       "16     15     68                 15_riding_tradition_adventure_gift\n",
       "17     16     62                      16_travel_wednesday_trip_chat\n",
       "18     17     57                17_interns_summer_students_programs\n",
       "19     18     49          18_insurance_welcoming_ally_proud sponsor\n",
       "20     19     47         19_esg_investors_sustainability_investment\n",
       "21     20     46  20_resilience_resilient_chief operating_operat...\n",
       "22     21     45                      21_walma_delivery_gap_tuition\n",
       "23     22     43   22_transformation_digital_leadership_initiatives\n",
       "24     23     42                   23_wireless_sound_speakers_music\n",
       "25     24     41                    24_games_strength_challenge_spo\n",
       "26     25     40               25_diabetes_app_affordability_adults\n",
       "27     26     37                    26_bills_easier_monthly_payment\n",
       "28     27     34                  27_colgate_health_teeth_healthier\n",
       "29     28     31          28_dont miss_miss_conversations_bloomberg"
      ]
     },
     "execution_count": 19,
     "metadata": {},
     "output_type": "execute_result"
    }
   ],
   "source": [
    "topic_modela.get_topic_info()"
   ]
  },
  {
   "cell_type": "code",
   "execution_count": 20,
   "id": "spread-special",
   "metadata": {},
   "outputs": [
    {
     "data": {
      "text/plain": [
       "[('covid19', 0.009876706346381565),\n",
       " ('health', 0.00819433643380386),\n",
       " ('tech', 0.008175962714220534),\n",
       " ('amazon', 0.007418425884371932),\n",
       " ('financial', 0.007244041964170928),\n",
       " ('communities', 0.007011570898784041),\n",
       " ('game', 0.0069204995394863515),\n",
       " ('sta', 0.006908631436662869),\n",
       " ('service', 0.006454063777933257),\n",
       " ('episode', 0.006409802180186001)]"
      ]
     },
     "execution_count": 20,
     "metadata": {},
     "output_type": "execute_result"
    }
   ],
   "source": [
    "topic_modela.get_topic(-1)\n",
    "# all_tweets[\"text_clean\"][all_tweets['topic'] == -1].to_list()[:10]"
   ]
  },
  {
   "cell_type": "code",
   "execution_count": 21,
   "id": "fifth-disclosure",
   "metadata": {},
   "outputs": [],
   "source": [
    "# Calculate cohenrence\n",
    "text_bigrams = [[\" \".join(tup) for tup in nltk.ngrams(n.split(),2)] for n in text]"
   ]
  },
  {
   "cell_type": "code",
   "execution_count": 22,
   "id": "tested-stuff",
   "metadata": {},
   "outputs": [],
   "source": [
    "assert len(text)==len(text_bigrams)\n",
    "text_uniandbigrams = []\n",
    "for a,b in zip([n.split() for n in text],text_bigrams):\n",
    "    text_uniandbigrams.append(a + b)"
   ]
  },
  {
   "cell_type": "code",
   "execution_count": 23,
   "id": "painful-upper",
   "metadata": {},
   "outputs": [],
   "source": [
    "id2word = corpora.Dictionary(text_uniandbigrams)\n",
    "corpus = [id2word.doc2bow(text) for text in text_uniandbigrams]"
   ]
  },
  {
   "cell_type": "code",
   "execution_count": 24,
   "id": "herbal-difference",
   "metadata": {},
   "outputs": [],
   "source": [
    "topics=[]\n",
    "for i in topic_modela.get_topics():\n",
    "    row=[]\n",
    "    topic= topic_modela.get_topic(i)\n",
    "    for word in topic:\n",
    "        row.append(word[0])\n",
    "        topics.append(row)"
   ]
  },
  {
   "cell_type": "code",
   "execution_count": 25,
   "id": "possible-hygiene",
   "metadata": {},
   "outputs": [
    {
     "name": "stdout",
     "output_type": "stream",
     "text": [
      "\n",
      "Coherence Score:  -10.136064900148764\n"
     ]
    }
   ],
   "source": [
    "cma = CoherenceModel(topics=topics, texts=text_uniandbigrams, corpus=corpus, dictionary=id2word, coherence='u_mass')\n",
    "coherence = cma.get_coherence() \n",
    "print('\\nCoherence Score: ', coherence)"
   ]
  },
  {
   "cell_type": "markdown",
   "id": "color-advisory",
   "metadata": {},
   "source": [
    "#### Option1: fine tune the hdbscan model\n",
    "- can reduce the outliers, but generate more topics (min_topic_size stops working)\n",
    "- Force texts go to topics will lower the coherence"
   ]
  },
  {
   "cell_type": "code",
   "execution_count": 26,
   "id": "linear-identification",
   "metadata": {},
   "outputs": [],
   "source": [
    "hdbscan_model = HDBSCAN(min_samples=5)"
   ]
  },
  {
   "cell_type": "code",
   "execution_count": 27,
   "id": "separated-appraisal",
   "metadata": {},
   "outputs": [],
   "source": [
    "topic_modelb = BERTopic(vectorizer_model=vectorizer_model, hdbscan_model=hdbscan_model, calculate_probabilities=False, low_memory=True, verbose=True, \n",
    "                       nr_topics=\"auto\", diversity = 0.2, min_topic_size = 30)"
   ]
  },
  {
   "cell_type": "code",
   "execution_count": 28,
   "id": "urban-forward",
   "metadata": {},
   "outputs": [
    {
     "data": {
      "application/vnd.jupyter.widget-view+json": {
       "model_id": "e694664402554501a003534ebbb8dc9c",
       "version_major": 2,
       "version_minor": 0
      },
      "text/plain": [
       "Batches:   0%|          | 0/1250 [00:00<?, ?it/s]"
      ]
     },
     "metadata": {},
     "output_type": "display_data"
    },
    {
     "name": "stderr",
     "output_type": "stream",
     "text": [
      "2022-06-08 18:16:19,959 - BERTopic - Transformed documents to Embeddings\n",
      "2022-06-08 18:16:38,504 - BERTopic - Reduced dimensionality\n",
      "2022-06-08 18:16:42,491 - BERTopic - Clustered reduced embeddings\n",
      "2022-06-08 18:20:33,115 - BERTopic - Reduced number of topics from 1269 to 822\n"
     ]
    }
   ],
   "source": [
    "topics, probs = topic_modelb.fit_transform(text)"
   ]
  },
  {
   "cell_type": "code",
   "execution_count": 29,
   "id": "married-iraqi",
   "metadata": {},
   "outputs": [
    {
     "data": {
      "text/html": [
       "<div>\n",
       "<style scoped>\n",
       "    .dataframe tbody tr th:only-of-type {\n",
       "        vertical-align: middle;\n",
       "    }\n",
       "\n",
       "    .dataframe tbody tr th {\n",
       "        vertical-align: top;\n",
       "    }\n",
       "\n",
       "    .dataframe thead th {\n",
       "        text-align: right;\n",
       "    }\n",
       "</style>\n",
       "<table border=\"1\" class=\"dataframe\">\n",
       "  <thead>\n",
       "    <tr style=\"text-align: right;\">\n",
       "      <th></th>\n",
       "      <th>Topic</th>\n",
       "      <th>Count</th>\n",
       "      <th>Name</th>\n",
       "    </tr>\n",
       "  </thead>\n",
       "  <tbody>\n",
       "    <tr>\n",
       "      <th>0</th>\n",
       "      <td>-1</td>\n",
       "      <td>15161</td>\n",
       "      <td>-1_amp_pandemic_work_join</td>\n",
       "    </tr>\n",
       "    <tr>\n",
       "      <th>1</th>\n",
       "      <td>0</td>\n",
       "      <td>741</td>\n",
       "      <td>0_vaccine_covid19 vaccine_vaccines_covid19</td>\n",
       "    </tr>\n",
       "    <tr>\n",
       "      <th>2</th>\n",
       "      <td>1</td>\n",
       "      <td>661</td>\n",
       "      <td>1_cash_fee_banking_visa</td>\n",
       "    </tr>\n",
       "    <tr>\n",
       "      <th>3</th>\n",
       "      <td>2</td>\n",
       "      <td>394</td>\n",
       "      <td>2_boeing_airlines_american airlines_aircraft</td>\n",
       "    </tr>\n",
       "    <tr>\n",
       "      <th>4</th>\n",
       "      <td>3</td>\n",
       "      <td>355</td>\n",
       "      <td>3_netflix_vegas_las vegas_new netflix</td>\n",
       "    </tr>\n",
       "    <tr>\n",
       "      <th>...</th>\n",
       "      <td>...</td>\n",
       "      <td>...</td>\n",
       "      <td>...</td>\n",
       "    </tr>\n",
       "    <tr>\n",
       "      <th>796</th>\n",
       "      <td>816</td>\n",
       "      <td>5</td>\n",
       "      <td>816_employees committed_hardworking_day today_...</td>\n",
       "    </tr>\n",
       "    <tr>\n",
       "      <th>797</th>\n",
       "      <td>817</td>\n",
       "      <td>5</td>\n",
       "      <td>817_plans expand_impact repo_foundations_susta...</td>\n",
       "    </tr>\n",
       "    <tr>\n",
       "      <th>798</th>\n",
       "      <td>818</td>\n",
       "      <td>5</td>\n",
       "      <td>818_togetherness_digital capabilities_minneapo...</td>\n",
       "    </tr>\n",
       "    <tr>\n",
       "      <th>799</th>\n",
       "      <td>819</td>\n",
       "      <td>5</td>\n",
       "      <td>819_spencer_mental wellbeing_pulse_steps taking</td>\n",
       "    </tr>\n",
       "    <tr>\n",
       "      <th>821</th>\n",
       "      <td>820</td>\n",
       "      <td>5</td>\n",
       "      <td>820_crews_dedication_officer lisa_work amp</td>\n",
       "    </tr>\n",
       "  </tbody>\n",
       "</table>\n",
       "<p>822 rows × 3 columns</p>\n",
       "</div>"
      ],
      "text/plain": [
       "     Topic  Count                                               Name\n",
       "0       -1  15161                          -1_amp_pandemic_work_join\n",
       "1        0    741         0_vaccine_covid19 vaccine_vaccines_covid19\n",
       "2        1    661                            1_cash_fee_banking_visa\n",
       "3        2    394       2_boeing_airlines_american airlines_aircraft\n",
       "4        3    355              3_netflix_vegas_las vegas_new netflix\n",
       "..     ...    ...                                                ...\n",
       "796    816      5  816_employees committed_hardworking_day today_...\n",
       "797    817      5  817_plans expand_impact repo_foundations_susta...\n",
       "798    818      5  818_togetherness_digital capabilities_minneapo...\n",
       "799    819      5    819_spencer_mental wellbeing_pulse_steps taking\n",
       "821    820      5         820_crews_dedication_officer lisa_work amp\n",
       "\n",
       "[822 rows x 3 columns]"
      ]
     },
     "execution_count": 29,
     "metadata": {},
     "output_type": "execute_result"
    }
   ],
   "source": [
    "topic_modelb.get_topic_info()"
   ]
  },
  {
   "cell_type": "code",
   "execution_count": 30,
   "id": "alien-trust",
   "metadata": {},
   "outputs": [
    {
     "data": {
      "text/plain": [
       "[('amp', 0.001280847923530813),\n",
       " ('pandemic', 0.0011384250234501736),\n",
       " ('work', 0.0011383323648571913),\n",
       " ('join', 0.0011080656436283454),\n",
       " ('day', 0.001090624688410012),\n",
       " ('cloud', 0.0010793524028327793),\n",
       " ('ceo', 0.0010634773733559557),\n",
       " ('suppo', 0.001022915152561685),\n",
       " ('industry', 0.001017115484560298),\n",
       " ('tech', 0.0010029119883239233)]"
      ]
     },
     "execution_count": 30,
     "metadata": {},
     "output_type": "execute_result"
    }
   ],
   "source": [
    "# Investigate the outliers\n",
    "topic_modelb.get_topic(-1)"
   ]
  },
  {
   "cell_type": "code",
   "execution_count": 31,
   "id": "curious-actor",
   "metadata": {},
   "outputs": [],
   "source": [
    "topics=[]\n",
    "for i in topic_modelb.get_topics():\n",
    "    row=[]\n",
    "    topic= topic_modelb.get_topic(i)\n",
    "    for word in topic:\n",
    "        row.append(word[0])\n",
    "        topics.append(row)"
   ]
  },
  {
   "cell_type": "code",
   "execution_count": 32,
   "id": "northern-letters",
   "metadata": {},
   "outputs": [
    {
     "name": "stdout",
     "output_type": "stream",
     "text": [
      "\n",
      "Coherence Score:  -12.15737822900106\n"
     ]
    }
   ],
   "source": [
    "cmb = CoherenceModel(topics=topics, texts=text_uniandbigrams, corpus=corpus, dictionary=id2word, coherence='u_mass')\n",
    "coherence = cmb.get_coherence() \n",
    "print('\\nCoherence Score: ', coherence)"
   ]
  },
  {
   "cell_type": "markdown",
   "id": "monetary-recycling",
   "metadata": {},
   "source": [
    "#### Option2: fine tune the transformer model"
   ]
  },
  {
   "cell_type": "code",
   "execution_count": 33,
   "id": "ongoing-token",
   "metadata": {},
   "outputs": [
    {
     "data": {
      "application/vnd.jupyter.widget-view+json": {
       "model_id": "5fd40089f3bb4c75a5b7dfab4ef3684f",
       "version_major": 2,
       "version_minor": 0
      },
      "text/plain": [
       "Downloading:   0%|          | 0.00/558 [00:00<?, ?B/s]"
      ]
     },
     "metadata": {},
     "output_type": "display_data"
    },
    {
     "data": {
      "application/vnd.jupyter.widget-view+json": {
       "model_id": "ab25e3aa6c6d45898953933812bdfcca",
       "version_major": 2,
       "version_minor": 0
      },
      "text/plain": [
       "Downloading:   0%|          | 0.00/517M [00:00<?, ?B/s]"
      ]
     },
     "metadata": {},
     "output_type": "display_data"
    },
    {
     "name": "stderr",
     "output_type": "stream",
     "text": [
      "Some weights of the model checkpoint at vinai/bertweet-base were not used when initializing RobertaModel: ['lm_head.layer_norm.weight', 'lm_head.decoder.bias', 'lm_head.layer_norm.bias', 'lm_head.dense.bias', 'lm_head.dense.weight', 'lm_head.bias', 'lm_head.decoder.weight']\n",
      "- This IS expected if you are initializing RobertaModel from the checkpoint of a model trained on another task or with another architecture (e.g. initializing a BertForSequenceClassification model from a BertForPreTraining model).\n",
      "- This IS NOT expected if you are initializing RobertaModel from the checkpoint of a model that you expect to be exactly identical (initializing a BertForSequenceClassification model from a BertForSequenceClassification model).\n"
     ]
    }
   ],
   "source": [
    "bertweet = AutoModel.from_pretrained(\"vinai/bertweet-base\")"
   ]
  },
  {
   "cell_type": "code",
   "execution_count": 34,
   "id": "qualified-beaver",
   "metadata": {},
   "outputs": [],
   "source": [
    "topic_modelc = BERTopic(vectorizer_model=vectorizer_model, embedding_model=bertweet, calculate_probabilities=False, low_memory=True, verbose=True, \n",
    "                       nr_topics=\"auto\", diversity = 0.2, min_topic_size = 30)"
   ]
  },
  {
   "cell_type": "code",
   "execution_count": 35,
   "id": "controlling-russian",
   "metadata": {},
   "outputs": [
    {
     "data": {
      "application/vnd.jupyter.widget-view+json": {
       "model_id": "4d9528fbbd1e4d6685eadf1b0b180f3d",
       "version_major": 2,
       "version_minor": 0
      },
      "text/plain": [
       "Batches:   0%|          | 0/1250 [00:00<?, ?it/s]"
      ]
     },
     "metadata": {},
     "output_type": "display_data"
    },
    {
     "name": "stderr",
     "output_type": "stream",
     "text": [
      "2022-06-08 18:36:34,842 - BERTopic - Transformed documents to Embeddings\n",
      "2022-06-08 18:36:53,515 - BERTopic - Reduced dimensionality\n",
      "2022-06-08 18:36:57,612 - BERTopic - Clustered reduced embeddings\n",
      "2022-06-08 18:37:35,131 - BERTopic - Reduced number of topics from 183 to 126\n"
     ]
    }
   ],
   "source": [
    "topics, probs = topic_modelc.fit_transform(text)"
   ]
  },
  {
   "cell_type": "code",
   "execution_count": 36,
   "id": "intensive-religion",
   "metadata": {},
   "outputs": [
    {
     "data": {
      "text/html": [
       "<div>\n",
       "<style scoped>\n",
       "    .dataframe tbody tr th:only-of-type {\n",
       "        vertical-align: middle;\n",
       "    }\n",
       "\n",
       "    .dataframe tbody tr th {\n",
       "        vertical-align: top;\n",
       "    }\n",
       "\n",
       "    .dataframe thead th {\n",
       "        text-align: right;\n",
       "    }\n",
       "</style>\n",
       "<table border=\"1\" class=\"dataframe\">\n",
       "  <thead>\n",
       "    <tr style=\"text-align: right;\">\n",
       "      <th></th>\n",
       "      <th>Topic</th>\n",
       "      <th>Count</th>\n",
       "      <th>Name</th>\n",
       "    </tr>\n",
       "  </thead>\n",
       "  <tbody>\n",
       "    <tr>\n",
       "      <th>0</th>\n",
       "      <td>-1</td>\n",
       "      <td>17892</td>\n",
       "      <td>-1_covid19_pandemic_data_ceo</td>\n",
       "    </tr>\n",
       "    <tr>\n",
       "      <th>1</th>\n",
       "      <td>0</td>\n",
       "      <td>1765</td>\n",
       "      <td>0_vaccine_covid19_covid_vaccines</td>\n",
       "    </tr>\n",
       "    <tr>\n",
       "      <th>2</th>\n",
       "      <td>1</td>\n",
       "      <td>1571</td>\n",
       "      <td>1_apple_cloud_security_cybersecurity</td>\n",
       "    </tr>\n",
       "    <tr>\n",
       "      <th>3</th>\n",
       "      <td>2</td>\n",
       "      <td>1071</td>\n",
       "      <td>2_sustainability_emissions_carbon_climate change</td>\n",
       "    </tr>\n",
       "    <tr>\n",
       "      <th>4</th>\n",
       "      <td>3</td>\n",
       "      <td>1028</td>\n",
       "      <td>3_netflix_disney_streaming_movies</td>\n",
       "    </tr>\n",
       "    <tr>\n",
       "      <th>...</th>\n",
       "      <td>...</td>\n",
       "      <td>...</td>\n",
       "      <td>...</td>\n",
       "    </tr>\n",
       "    <tr>\n",
       "      <th>121</th>\n",
       "      <td>120</td>\n",
       "      <td>32</td>\n",
       "      <td>120_valentine_valentines day_valentines_friends</td>\n",
       "    </tr>\n",
       "    <tr>\n",
       "      <th>122</th>\n",
       "      <td>121</td>\n",
       "      <td>32</td>\n",
       "      <td>121_trailblazers_trailblazer_df21_salesforce</td>\n",
       "    </tr>\n",
       "    <tr>\n",
       "      <th>123</th>\n",
       "      <td>122</td>\n",
       "      <td>31</td>\n",
       "      <td>122_juneteenth_slavery_historic_statue</td>\n",
       "    </tr>\n",
       "    <tr>\n",
       "      <th>124</th>\n",
       "      <td>123</td>\n",
       "      <td>31</td>\n",
       "      <td>123_gifts_gift_gifting_holiday season</td>\n",
       "    </tr>\n",
       "    <tr>\n",
       "      <th>125</th>\n",
       "      <td>124</td>\n",
       "      <td>30</td>\n",
       "      <td>124_omicron_pfizer_south africa_booster</td>\n",
       "    </tr>\n",
       "  </tbody>\n",
       "</table>\n",
       "<p>126 rows × 3 columns</p>\n",
       "</div>"
      ],
      "text/plain": [
       "     Topic  Count                                              Name\n",
       "0       -1  17892                      -1_covid19_pandemic_data_ceo\n",
       "1        0   1765                  0_vaccine_covid19_covid_vaccines\n",
       "2        1   1571              1_apple_cloud_security_cybersecurity\n",
       "3        2   1071  2_sustainability_emissions_carbon_climate change\n",
       "4        3   1028                 3_netflix_disney_streaming_movies\n",
       "..     ...    ...                                               ...\n",
       "121    120     32   120_valentine_valentines day_valentines_friends\n",
       "122    121     32      121_trailblazers_trailblazer_df21_salesforce\n",
       "123    122     31            122_juneteenth_slavery_historic_statue\n",
       "124    123     31             123_gifts_gift_gifting_holiday season\n",
       "125    124     30           124_omicron_pfizer_south africa_booster\n",
       "\n",
       "[126 rows x 3 columns]"
      ]
     },
     "execution_count": 36,
     "metadata": {},
     "output_type": "execute_result"
    }
   ],
   "source": [
    "topic_modelc.get_topic_info()"
   ]
  },
  {
   "cell_type": "code",
   "execution_count": 37,
   "id": "radio-language",
   "metadata": {},
   "outputs": [
    {
     "data": {
      "text/plain": [
       "[('covid19', 0.0046239186738339),\n",
       " ('pandemic', 0.0041639110059784705),\n",
       " ('data', 0.0037046881760774),\n",
       " ('ceo', 0.0035692291292427625),\n",
       " ('program', 0.003490336435868489),\n",
       " ('health', 0.0033655546311951077),\n",
       " ('tech', 0.003300576553909974),\n",
       " ('financial', 0.003247008254228667),\n",
       " ('employees', 0.003168455234804353),\n",
       " ('businesses', 0.00301553538031827)]"
      ]
     },
     "execution_count": 37,
     "metadata": {},
     "output_type": "execute_result"
    }
   ],
   "source": [
    "topic_modelc.get_topic(-1)"
   ]
  },
  {
   "cell_type": "code",
   "execution_count": 38,
   "id": "eleven-lease",
   "metadata": {},
   "outputs": [],
   "source": [
    "topics=[]\n",
    "for i in topic_modelc.get_topics():\n",
    "    row=[]\n",
    "    topic= topic_modelc.get_topic(i)\n",
    "    for word in topic:\n",
    "        row.append(word[0])\n",
    "        topics.append(row)"
   ]
  },
  {
   "cell_type": "code",
   "execution_count": 39,
   "id": "statutory-dubai",
   "metadata": {},
   "outputs": [
    {
     "name": "stdout",
     "output_type": "stream",
     "text": [
      "\n",
      "Coherence Score:  -10.299237950315236\n"
     ]
    }
   ],
   "source": [
    "cmc = CoherenceModel(topics=topics, texts=text_uniandbigrams, corpus=corpus, dictionary=id2word, coherence='u_mass')\n",
    "coherence = cmc.get_coherence() \n",
    "print('\\nCoherence Score: ', coherence)"
   ]
  },
  {
   "cell_type": "code",
   "execution_count": 40,
   "id": "present-casting",
   "metadata": {},
   "outputs": [],
   "source": [
    "# another transformer model\n",
    "from transformers import BertModel"
   ]
  },
  {
   "cell_type": "code",
   "execution_count": 41,
   "id": "broad-baptist",
   "metadata": {},
   "outputs": [
    {
     "data": {
      "application/vnd.jupyter.widget-view+json": {
       "model_id": "4c0293abcc004cdb92288dec862bbf1a",
       "version_major": 2,
       "version_minor": 0
      },
      "text/plain": [
       "Downloading:   0%|          | 0.00/570 [00:00<?, ?B/s]"
      ]
     },
     "metadata": {},
     "output_type": "display_data"
    },
    {
     "data": {
      "application/vnd.jupyter.widget-view+json": {
       "model_id": "c7cca28a242c4f91bbc827ebbbcc71e6",
       "version_major": 2,
       "version_minor": 0
      },
      "text/plain": [
       "Downloading:   0%|          | 0.00/420M [00:00<?, ?B/s]"
      ]
     },
     "metadata": {},
     "output_type": "display_data"
    },
    {
     "name": "stderr",
     "output_type": "stream",
     "text": [
      "Some weights of the model checkpoint at bert-base-uncased were not used when initializing BertModel: ['cls.predictions.transform.LayerNorm.bias', 'cls.predictions.transform.dense.bias', 'cls.predictions.bias', 'cls.predictions.transform.dense.weight', 'cls.predictions.decoder.weight', 'cls.predictions.transform.LayerNorm.weight', 'cls.seq_relationship.bias', 'cls.seq_relationship.weight']\n",
      "- This IS expected if you are initializing BertModel from the checkpoint of a model trained on another task or with another architecture (e.g. initializing a BertForSequenceClassification model from a BertForPreTraining model).\n",
      "- This IS NOT expected if you are initializing BertModel from the checkpoint of a model that you expect to be exactly identical (initializing a BertForSequenceClassification model from a BertForSequenceClassification model).\n"
     ]
    }
   ],
   "source": [
    "model = BertModel.from_pretrained(\"bert-base-uncased\")"
   ]
  },
  {
   "cell_type": "code",
   "execution_count": 42,
   "id": "corporate-aging",
   "metadata": {},
   "outputs": [],
   "source": [
    "topic_modeld = BERTopic(vectorizer_model=vectorizer_model, embedding_model=model, calculate_probabilities=False, low_memory=True, verbose=True, \n",
    "                       nr_topics=\"auto\", diversity = 0.2, min_topic_size = 30)"
   ]
  },
  {
   "cell_type": "code",
   "execution_count": 43,
   "id": "fiscal-postage",
   "metadata": {},
   "outputs": [
    {
     "data": {
      "application/vnd.jupyter.widget-view+json": {
       "model_id": "7a72a309e8f840b79a78248ff37b6dd7",
       "version_major": 2,
       "version_minor": 0
      },
      "text/plain": [
       "Batches:   0%|          | 0/1250 [00:00<?, ?it/s]"
      ]
     },
     "metadata": {},
     "output_type": "display_data"
    },
    {
     "name": "stderr",
     "output_type": "stream",
     "text": [
      "2022-06-08 18:59:19,995 - BERTopic - Transformed documents to Embeddings\n",
      "2022-06-08 18:59:38,831 - BERTopic - Reduced dimensionality\n",
      "2022-06-08 18:59:42,954 - BERTopic - Clustered reduced embeddings\n",
      "2022-06-08 19:00:23,803 - BERTopic - Reduced number of topics from 189 to 134\n"
     ]
    }
   ],
   "source": [
    "topics, probs = topic_modeld.fit_transform(text)"
   ]
  },
  {
   "cell_type": "code",
   "execution_count": 44,
   "id": "korean-burke",
   "metadata": {},
   "outputs": [
    {
     "data": {
      "text/html": [
       "<div>\n",
       "<style scoped>\n",
       "    .dataframe tbody tr th:only-of-type {\n",
       "        vertical-align: middle;\n",
       "    }\n",
       "\n",
       "    .dataframe tbody tr th {\n",
       "        vertical-align: top;\n",
       "    }\n",
       "\n",
       "    .dataframe thead th {\n",
       "        text-align: right;\n",
       "    }\n",
       "</style>\n",
       "<table border=\"1\" class=\"dataframe\">\n",
       "  <thead>\n",
       "    <tr style=\"text-align: right;\">\n",
       "      <th></th>\n",
       "      <th>Topic</th>\n",
       "      <th>Count</th>\n",
       "      <th>Name</th>\n",
       "    </tr>\n",
       "  </thead>\n",
       "  <tbody>\n",
       "    <tr>\n",
       "      <th>0</th>\n",
       "      <td>-1</td>\n",
       "      <td>16592</td>\n",
       "      <td>-1_covid19_pandemic_data_cash</td>\n",
       "    </tr>\n",
       "    <tr>\n",
       "      <th>1</th>\n",
       "      <td>0</td>\n",
       "      <td>1467</td>\n",
       "      <td>0_netflix_disney_shows_unlimited</td>\n",
       "    </tr>\n",
       "    <tr>\n",
       "      <th>2</th>\n",
       "      <td>1</td>\n",
       "      <td>1200</td>\n",
       "      <td>1_cloud_facebook_netapp_privacy</td>\n",
       "    </tr>\n",
       "    <tr>\n",
       "      <th>3</th>\n",
       "      <td>2</td>\n",
       "      <td>1168</td>\n",
       "      <td>2_vaccine_covid19_pfizer_fda</td>\n",
       "    </tr>\n",
       "    <tr>\n",
       "      <th>4</th>\n",
       "      <td>3</td>\n",
       "      <td>1119</td>\n",
       "      <td>3_sustainability_emissions_carbon_climate change</td>\n",
       "    </tr>\n",
       "    <tr>\n",
       "      <th>...</th>\n",
       "      <td>...</td>\n",
       "      <td>...</td>\n",
       "      <td>...</td>\n",
       "    </tr>\n",
       "    <tr>\n",
       "      <th>129</th>\n",
       "      <td>128</td>\n",
       "      <td>32</td>\n",
       "      <td>128_cognizant_cognizantnews_leadership_becogni...</td>\n",
       "    </tr>\n",
       "    <tr>\n",
       "      <th>130</th>\n",
       "      <td>129</td>\n",
       "      <td>31</td>\n",
       "      <td>129_zones_digital divide_spaces_end year</td>\n",
       "    </tr>\n",
       "    <tr>\n",
       "      <th>131</th>\n",
       "      <td>130</td>\n",
       "      <td>31</td>\n",
       "      <td>130_oral_colgate_dental_mouth</td>\n",
       "    </tr>\n",
       "    <tr>\n",
       "      <th>132</th>\n",
       "      <td>131</td>\n",
       "      <td>31</td>\n",
       "      <td>131_sta saving_pay_safer_18 months</td>\n",
       "    </tr>\n",
       "    <tr>\n",
       "      <th>133</th>\n",
       "      <td>132</td>\n",
       "      <td>30</td>\n",
       "      <td>132_toys_toy_chance featured_kids</td>\n",
       "    </tr>\n",
       "  </tbody>\n",
       "</table>\n",
       "<p>134 rows × 3 columns</p>\n",
       "</div>"
      ],
      "text/plain": [
       "     Topic  Count                                               Name\n",
       "0       -1  16592                      -1_covid19_pandemic_data_cash\n",
       "1        0   1467                   0_netflix_disney_shows_unlimited\n",
       "2        1   1200                    1_cloud_facebook_netapp_privacy\n",
       "3        2   1168                       2_vaccine_covid19_pfizer_fda\n",
       "4        3   1119   3_sustainability_emissions_carbon_climate change\n",
       "..     ...    ...                                                ...\n",
       "129    128     32  128_cognizant_cognizantnews_leadership_becogni...\n",
       "130    129     31           129_zones_digital divide_spaces_end year\n",
       "131    130     31                      130_oral_colgate_dental_mouth\n",
       "132    131     31                 131_sta saving_pay_safer_18 months\n",
       "133    132     30                  132_toys_toy_chance featured_kids\n",
       "\n",
       "[134 rows x 3 columns]"
      ]
     },
     "execution_count": 44,
     "metadata": {},
     "output_type": "execute_result"
    }
   ],
   "source": [
    "topic_modeld.get_topic_info()"
   ]
  },
  {
   "cell_type": "code",
   "execution_count": 45,
   "id": "guided-disposition",
   "metadata": {},
   "outputs": [
    {
     "data": {
      "text/plain": [
       "[('covid19', 0.004384889400178895),\n",
       " ('pandemic', 0.003977198644704518),\n",
       " ('data', 0.0036418217928967126),\n",
       " ('cash', 0.0035203871516700414),\n",
       " ('tech', 0.0033444488165364976),\n",
       " ('innovation', 0.0033156774572741994),\n",
       " ('companies', 0.0032424087575896885),\n",
       " ('employees', 0.0032027078224905223),\n",
       " ('businesses', 0.0029668561701399797),\n",
       " ('microsoft', 0.002891244812657453)]"
      ]
     },
     "execution_count": 45,
     "metadata": {},
     "output_type": "execute_result"
    }
   ],
   "source": [
    "topic_modeld.get_topic(-1)"
   ]
  },
  {
   "cell_type": "code",
   "execution_count": 46,
   "id": "desirable-jacksonville",
   "metadata": {},
   "outputs": [],
   "source": [
    "topics=[]\n",
    "for i in topic_modeld.get_topics():\n",
    "    row=[]\n",
    "    topic= topic_modeld.get_topic(i)\n",
    "    for word in topic:\n",
    "        row.append(word[0])\n",
    "        topics.append(row)"
   ]
  },
  {
   "cell_type": "code",
   "execution_count": 47,
   "id": "rough-sample",
   "metadata": {},
   "outputs": [
    {
     "name": "stdout",
     "output_type": "stream",
     "text": [
      "\n",
      "Coherence Score:  -10.713354660056531\n"
     ]
    }
   ],
   "source": [
    "cmd = CoherenceModel(topics=topics, texts=text_uniandbigrams, corpus=corpus, dictionary=id2word, coherence='u_mass')\n",
    "coherence = cmd.get_coherence() \n",
    "print('\\nCoherence Score: ', coherence)"
   ]
  },
  {
   "cell_type": "code",
   "execution_count": 48,
   "id": "palestinian-navigator",
   "metadata": {},
   "outputs": [],
   "source": [
    "# another transformer model\n",
    "from transformers import GPT2Model"
   ]
  },
  {
   "cell_type": "code",
   "execution_count": 49,
   "id": "wireless-bread",
   "metadata": {},
   "outputs": [
    {
     "data": {
      "application/vnd.jupyter.widget-view+json": {
       "model_id": "fed87f58dc3144a8bf7bb1e1f06d6807",
       "version_major": 2,
       "version_minor": 0
      },
      "text/plain": [
       "Downloading:   0%|          | 0.00/762 [00:00<?, ?B/s]"
      ]
     },
     "metadata": {},
     "output_type": "display_data"
    },
    {
     "data": {
      "application/vnd.jupyter.widget-view+json": {
       "model_id": "f0406448d24248169be8ae22e447e521",
       "version_major": 2,
       "version_minor": 0
      },
      "text/plain": [
       "Downloading:   0%|          | 0.00/336M [00:00<?, ?B/s]"
      ]
     },
     "metadata": {},
     "output_type": "display_data"
    },
    {
     "name": "stderr",
     "output_type": "stream",
     "text": [
      "Some weights of the model checkpoint at distilgpt2 were not used when initializing GPT2Model: ['lm_head.weight']\n",
      "- This IS expected if you are initializing GPT2Model from the checkpoint of a model trained on another task or with another architecture (e.g. initializing a BertForSequenceClassification model from a BertForPreTraining model).\n",
      "- This IS NOT expected if you are initializing GPT2Model from the checkpoint of a model that you expect to be exactly identical (initializing a BertForSequenceClassification model from a BertForSequenceClassification model).\n"
     ]
    }
   ],
   "source": [
    "model = GPT2Model.from_pretrained('distilgpt2')"
   ]
  },
  {
   "cell_type": "code",
   "execution_count": 50,
   "id": "rocky-constant",
   "metadata": {},
   "outputs": [],
   "source": [
    "topic_modele = BERTopic(vectorizer_model=vectorizer_model, embedding_model=model, calculate_probabilities=False, low_memory=True, verbose=True, \n",
    "                       nr_topics=\"auto\", diversity = 0.2, min_topic_size = 30)"
   ]
  },
  {
   "cell_type": "code",
   "execution_count": 51,
   "id": "worst-andrews",
   "metadata": {},
   "outputs": [
    {
     "data": {
      "application/vnd.jupyter.widget-view+json": {
       "model_id": "3193caee0a19419cb5bb97d3767b265f",
       "version_major": 2,
       "version_minor": 0
      },
      "text/plain": [
       "Batches:   0%|          | 0/1250 [00:00<?, ?it/s]"
      ]
     },
     "metadata": {},
     "output_type": "display_data"
    },
    {
     "name": "stderr",
     "output_type": "stream",
     "text": [
      "2022-06-08 19:24:34,092 - BERTopic - Transformed documents to Embeddings\n",
      "2022-06-08 19:24:52,758 - BERTopic - Reduced dimensionality\n",
      "2022-06-08 19:24:56,710 - BERTopic - Clustered reduced embeddings\n",
      "2022-06-08 19:25:36,029 - BERTopic - Reduced number of topics from 188 to 124\n"
     ]
    }
   ],
   "source": [
    "topics, probs = topic_modele.fit_transform(text)"
   ]
  },
  {
   "cell_type": "code",
   "execution_count": 52,
   "id": "excessive-aurora",
   "metadata": {},
   "outputs": [
    {
     "data": {
      "text/html": [
       "<div>\n",
       "<style scoped>\n",
       "    .dataframe tbody tr th:only-of-type {\n",
       "        vertical-align: middle;\n",
       "    }\n",
       "\n",
       "    .dataframe tbody tr th {\n",
       "        vertical-align: top;\n",
       "    }\n",
       "\n",
       "    .dataframe thead th {\n",
       "        text-align: right;\n",
       "    }\n",
       "</style>\n",
       "<table border=\"1\" class=\"dataframe\">\n",
       "  <thead>\n",
       "    <tr style=\"text-align: right;\">\n",
       "      <th></th>\n",
       "      <th>Topic</th>\n",
       "      <th>Count</th>\n",
       "      <th>Name</th>\n",
       "    </tr>\n",
       "  </thead>\n",
       "  <tbody>\n",
       "    <tr>\n",
       "      <th>0</th>\n",
       "      <td>-1</td>\n",
       "      <td>16938</td>\n",
       "      <td>-1_digital_health_pandemic_covid19</td>\n",
       "    </tr>\n",
       "    <tr>\n",
       "      <th>1</th>\n",
       "      <td>0</td>\n",
       "      <td>2005</td>\n",
       "      <td>0_netflix_disney_streaming_nfl</td>\n",
       "    </tr>\n",
       "    <tr>\n",
       "      <th>2</th>\n",
       "      <td>1</td>\n",
       "      <td>1940</td>\n",
       "      <td>1_points_cash_earn_purchases</td>\n",
       "    </tr>\n",
       "    <tr>\n",
       "      <th>3</th>\n",
       "      <td>2</td>\n",
       "      <td>1336</td>\n",
       "      <td>2_vaccine_covid19_vaccines_covid</td>\n",
       "    </tr>\n",
       "    <tr>\n",
       "      <th>4</th>\n",
       "      <td>3</td>\n",
       "      <td>1146</td>\n",
       "      <td>3_sustainability_emissions_carbon_climate change</td>\n",
       "    </tr>\n",
       "    <tr>\n",
       "      <th>...</th>\n",
       "      <td>...</td>\n",
       "      <td>...</td>\n",
       "      <td>...</td>\n",
       "    </tr>\n",
       "    <tr>\n",
       "      <th>119</th>\n",
       "      <td>118</td>\n",
       "      <td>32</td>\n",
       "      <td>118_relief_storms_disaster_impacted</td>\n",
       "    </tr>\n",
       "    <tr>\n",
       "      <th>120</th>\n",
       "      <td>119</td>\n",
       "      <td>32</td>\n",
       "      <td>119_comcast_bold_designer_monica</td>\n",
       "    </tr>\n",
       "    <tr>\n",
       "      <th>121</th>\n",
       "      <td>120</td>\n",
       "      <td>32</td>\n",
       "      <td>120_wildlife_protecting_animals_backyard</td>\n",
       "    </tr>\n",
       "    <tr>\n",
       "      <th>122</th>\n",
       "      <td>121</td>\n",
       "      <td>31</td>\n",
       "      <td>121_iot_edge_internet_ecosystem</td>\n",
       "    </tr>\n",
       "    <tr>\n",
       "      <th>123</th>\n",
       "      <td>122</td>\n",
       "      <td>31</td>\n",
       "      <td>122_halloween_barbie_treats_tricks</td>\n",
       "    </tr>\n",
       "  </tbody>\n",
       "</table>\n",
       "<p>124 rows × 3 columns</p>\n",
       "</div>"
      ],
      "text/plain": [
       "     Topic  Count                                              Name\n",
       "0       -1  16938                -1_digital_health_pandemic_covid19\n",
       "1        0   2005                    0_netflix_disney_streaming_nfl\n",
       "2        1   1940                      1_points_cash_earn_purchases\n",
       "3        2   1336                  2_vaccine_covid19_vaccines_covid\n",
       "4        3   1146  3_sustainability_emissions_carbon_climate change\n",
       "..     ...    ...                                               ...\n",
       "119    118     32               118_relief_storms_disaster_impacted\n",
       "120    119     32                  119_comcast_bold_designer_monica\n",
       "121    120     32          120_wildlife_protecting_animals_backyard\n",
       "122    121     31                   121_iot_edge_internet_ecosystem\n",
       "123    122     31                122_halloween_barbie_treats_tricks\n",
       "\n",
       "[124 rows x 3 columns]"
      ]
     },
     "execution_count": 52,
     "metadata": {},
     "output_type": "execute_result"
    }
   ],
   "source": [
    "topic_modele.get_topic_info()"
   ]
  },
  {
   "cell_type": "code",
   "execution_count": 53,
   "id": "silver-anger",
   "metadata": {},
   "outputs": [
    {
     "data": {
      "text/plain": [
       "[('digital', 0.0042004737679891095),\n",
       " ('health', 0.00418569186462933),\n",
       " ('pandemic', 0.004147426909685661),\n",
       " ('covid19', 0.004002570021606288),\n",
       " ('data', 0.0038391853854446213),\n",
       " ('ceo', 0.0038295914943291937),\n",
       " ('amazon', 0.0033477511004835485),\n",
       " ('companies', 0.0032728694024012077),\n",
       " ('tech', 0.003207347043225077),\n",
       " ('security', 0.002976029133802952)]"
      ]
     },
     "execution_count": 53,
     "metadata": {},
     "output_type": "execute_result"
    }
   ],
   "source": [
    "topic_modele.get_topic(-1)"
   ]
  },
  {
   "cell_type": "code",
   "execution_count": 54,
   "id": "obvious-vietnam",
   "metadata": {},
   "outputs": [],
   "source": [
    "topics=[]\n",
    "for i in topic_modele.get_topics():\n",
    "    row=[]\n",
    "    topic= topic_modele.get_topic(i)\n",
    "    for word in topic:\n",
    "        row.append(word[0])\n",
    "        topics.append(row)"
   ]
  },
  {
   "cell_type": "code",
   "execution_count": 55,
   "id": "surprised-cement",
   "metadata": {},
   "outputs": [
    {
     "name": "stdout",
     "output_type": "stream",
     "text": [
      "\n",
      "Coherence Score:  -10.141653816637218\n"
     ]
    }
   ],
   "source": [
    "cme = CoherenceModel(topics=topics, texts=text_uniandbigrams, corpus=corpus, dictionary=id2word, coherence='u_mass')\n",
    "coherence = cme.get_coherence() \n",
    "print('\\nCoherence Score: ', coherence)"
   ]
  },
  {
   "cell_type": "markdown",
   "id": "moral-insulation",
   "metadata": {},
   "source": [
    "**Go with the \"bert-base-uncased\" model**"
   ]
  },
  {
   "cell_type": "markdown",
   "id": "hindu-madagascar",
   "metadata": {},
   "source": [
    "# LDA"
   ]
  },
  {
   "cell_type": "code",
   "execution_count": 32,
   "id": "complete-shame",
   "metadata": {},
   "outputs": [],
   "source": [
    "import csv\n",
    "from nltk.sentiment import vader\n",
    "import nltk\n",
    "import gensim\n",
    "from gensim import corpora\n",
    "from gensim import models\n",
    "import pyLDAvis\n",
    "import pyLDAvis.gensim_models as gensimvis\n",
    "import pandas as pd\n",
    "import random\n",
    "random.seed(\"ic2s2colgne\")\n",
    "import seaborn as sns\n",
    "import matplotlib.pyplot as plt\n",
    "import numpy as np\n",
    "%matplotlib inline"
   ]
  },
  {
   "cell_type": "code",
   "execution_count": 33,
   "id": "broken-basic",
   "metadata": {},
   "outputs": [
    {
     "name": "stderr",
     "output_type": "stream",
     "text": [
      "c:\\users\\tuski\\appdata\\local\\programs\\python\\python39\\lib\\site-packages\\ipykernel\\ipkernel.py:283: DeprecationWarning: `should_run_async` will not call `transform_cell` automatically in the future. Please pass the result to `transformed_cell` argument and any exception that happen during thetransform in `preprocessing_exc_tuple` in IPython 7.17 and above.\n",
      "  and should_run_async(code)\n"
     ]
    }
   ],
   "source": [
    "random.seed(2345)\n",
    "np.random.seed(2345)"
   ]
  },
  {
   "cell_type": "code",
   "execution_count": 36,
   "id": "initial-thousand",
   "metadata": {},
   "outputs": [
    {
     "name": "stderr",
     "output_type": "stream",
     "text": [
      "c:\\users\\tuski\\appdata\\local\\programs\\python\\python39\\lib\\site-packages\\ipykernel\\ipkernel.py:283: DeprecationWarning: `should_run_async` will not call `transform_cell` automatically in the future. Please pass the result to `transformed_cell` argument and any exception that happen during thetransform in `preprocessing_exc_tuple` in IPython 7.17 and above.\n",
      "  and should_run_async(code)\n"
     ]
    }
   ],
   "source": [
    "media_text = media[\"text_clean\"].to_list()"
   ]
  },
  {
   "cell_type": "code",
   "execution_count": 37,
   "id": "federal-organizer",
   "metadata": {},
   "outputs": [
    {
     "name": "stderr",
     "output_type": "stream",
     "text": [
      "c:\\users\\tuski\\appdata\\local\\programs\\python\\python39\\lib\\site-packages\\ipykernel\\ipkernel.py:283: DeprecationWarning: `should_run_async` will not call `transform_cell` automatically in the future. Please pass the result to `transformed_cell` argument and any exception that happen during thetransform in `preprocessing_exc_tuple` in IPython 7.17 and above.\n",
      "  and should_run_async(code)\n"
     ]
    }
   ],
   "source": [
    "from nltk.corpus import stopwords\n",
    "mystopwords = stopwords.words(\"english\")\n",
    "text = [\" \".join([w for w in n.split() if w not in mystopwords]) for n in media_text]"
   ]
  },
  {
   "cell_type": "markdown",
   "id": "designing-dialogue",
   "metadata": {},
   "source": [
    "#### Word frequency or tf-idf score"
   ]
  },
  {
   "cell_type": "code",
   "execution_count": 63,
   "id": "willing-liberia",
   "metadata": {},
   "outputs": [
    {
     "name": "stderr",
     "output_type": "stream",
     "text": [
      "c:\\users\\tuski\\appdata\\local\\programs\\python\\python39\\lib\\site-packages\\ipykernel\\ipkernel.py:283: DeprecationWarning: `should_run_async` will not call `transform_cell` automatically in the future. Please pass the result to `transformed_cell` argument and any exception that happen during thetransform in `preprocessing_exc_tuple` in IPython 7.17 and above.\n",
      "  and should_run_async(code)\n"
     ]
    },
    {
     "data": {
      "text/plain": [
       "[(0,\n",
       "  '0.039*\"200\" + 0.030*\"unvaccinated\" + 0.018*\"shooting\" + 0.013*\"say\" + 0.012*\"man\"'),\n",
       " (1,\n",
       "  '0.044*\"pfizer\" + 0.036*\"vaccine\" + 0.028*\"covid19\" + 0.015*\"vaccines\" + 0.013*\"booster\"'),\n",
       " (2,\n",
       "  '0.045*\"lines\" + 0.043*\"air\" + 0.042*\"delta\" + 0.028*\"apple\" + 0.025*\"flight\"'),\n",
       " (3,\n",
       "  '0.035*\"buy\" + 0.035*\"best\" + 0.020*\"pill\" + 0.017*\"google\" + 0.011*\"amazon\"'),\n",
       " (4,\n",
       "  '0.020*\"dose\" + 0.017*\"health\" + 0.015*\"us\" + 0.014*\"insurance\" + 0.014*\"covid19\"'),\n",
       " (5,\n",
       "  '0.052*\"johnson\" + 0.019*\"amp\" + 0.016*\"new\" + 0.012*\"series\" + 0.012*\"2021\"'),\n",
       " (6,\n",
       "  '0.030*\"monthly\" + 0.014*\"approved\" + 0.013*\"kids\" + 0.012*\"review\" + 0.012*\"seats\"'),\n",
       " (7,\n",
       "  '0.035*\"vaccine\" + 0.030*\"delta\" + 0.030*\"covid19\" + 0.028*\"air\" + 0.022*\"lines\"'),\n",
       " (8,\n",
       "  '0.020*\"passenger\" + 0.017*\"app\" + 0.016*\"know\" + 0.014*\"pilots\" + 0.012*\"via\"'),\n",
       " (9,\n",
       "  '0.041*\"disney\" + 0.009*\"target\" + 0.009*\"new\" + 0.009*\"netflix\" + 0.009*\"us\"')]"
      ]
     },
     "execution_count": 63,
     "metadata": {},
     "output_type": "execute_result"
    }
   ],
   "source": [
    "ldainput_m1 = [n.split() for n in text]\n",
    "id2word_m1 = corpora.Dictionary(ldainput_m1)\n",
    "ldacorpus_m1 = [id2word_m1.doc2bow(doc) for doc in ldainput_m1]\n",
    "lda_m1 = models.LdaModel(ldacorpus_m1, id2word=id2word_m1, num_topics=10, random_state=40)\n",
    "lda_m1.print_topics(num_words=5)"
   ]
  },
  {
   "cell_type": "code",
   "execution_count": 64,
   "id": "coral-exhibit",
   "metadata": {},
   "outputs": [
    {
     "name": "stderr",
     "output_type": "stream",
     "text": [
      "c:\\users\\tuski\\appdata\\local\\programs\\python\\python39\\lib\\site-packages\\ipykernel\\ipkernel.py:283: DeprecationWarning: `should_run_async` will not call `transform_cell` automatically in the future. Please pass the result to `transformed_cell` argument and any exception that happen during thetransform in `preprocessing_exc_tuple` in IPython 7.17 and above.\n",
      "  and should_run_async(code)\n"
     ]
    },
    {
     "data": {
      "text/plain": [
       "[(0,\n",
       "  '0.010*\"places\" + 0.010*\"shooting\" + 0.008*\"recommended\" + 0.008*\"facility\" + 0.008*\"cleaning\"'),\n",
       " (1,\n",
       "  '0.014*\"vaccine\" + 0.012*\"covid19\" + 0.011*\"delta\" + 0.010*\"air\" + 0.010*\"booster\"'),\n",
       " (2,\n",
       "  '0.031*\"delta\" + 0.026*\"lines\" + 0.018*\"air\" + 0.013*\"flight\" + 0.009*\"pfizer\"'),\n",
       " (3,\n",
       "  '0.035*\"unvaccinated\" + 0.026*\"monthly\" + 0.018*\"insurance\" + 0.011*\"fda\" + 0.009*\"mr\"'),\n",
       " (4,\n",
       "  '0.031*\"johnson\" + 0.020*\"surcharge\" + 0.008*\"amp\" + 0.006*\"polish\" + 0.006*\"regulators\"'),\n",
       " (5,\n",
       "  '0.019*\"series\" + 0.011*\"doesnt\" + 0.010*\"markgurman\" + 0.008*\"blood\" + 0.007*\"subject\"'),\n",
       " (6,\n",
       "  '0.011*\"complicated\" + 0.011*\"seats\" + 0.011*\"defense\" + 0.011*\"approved\" + 0.010*\"young\"'),\n",
       " (7,\n",
       "  '0.017*\"spokesperson\" + 0.011*\"netflix\" + 0.007*\"holiday\" + 0.007*\"additional\" + 0.006*\"severe\"'),\n",
       " (8,\n",
       "  '0.015*\"passenger\" + 0.012*\"pilots\" + 0.010*\"unruly\" + 0.008*\"8\" + 0.008*\"protection\"'),\n",
       " (9,\n",
       "  '0.016*\"lines\" + 0.012*\"pfizer\" + 0.012*\"buy\" + 0.011*\"disney\" + 0.011*\"best\"')]"
      ]
     },
     "execution_count": 64,
     "metadata": {},
     "output_type": "execute_result"
    }
   ],
   "source": [
    "ldacorpus_m2 = ldacorpus_m1\n",
    "id2word_m2 = id2word_m1\n",
    "tfidfcorpus_m2 = models.TfidfModel(ldacorpus_m2)\n",
    "lda_m2 = models.ldamodel.LdaModel(corpus=tfidfcorpus_m2[ldacorpus_m2],id2word=id2word_m2,num_topics=10,random_state=40)\n",
    "lda_m2.print_topics(num_words=5)"
   ]
  },
  {
   "cell_type": "markdown",
   "id": "stock-spotlight",
   "metadata": {},
   "source": [
    "#### Number of topics\n",
    "I looped through several possible topic numbers and plotted the coherence and perplexity value to find out the inflection point."
   ]
  },
  {
   "cell_type": "code",
   "execution_count": 65,
   "id": "separated-specific",
   "metadata": {},
   "outputs": [
    {
     "name": "stderr",
     "output_type": "stream",
     "text": [
      "c:\\users\\tuski\\appdata\\local\\programs\\python\\python39\\lib\\site-packages\\ipykernel\\ipkernel.py:283: DeprecationWarning: `should_run_async` will not call `transform_cell` automatically in the future. Please pass the result to `transformed_cell` argument and any exception that happen during thetransform in `preprocessing_exc_tuple` in IPython 7.17 and above.\n",
      "  and should_run_async(code)\n"
     ]
    }
   ],
   "source": [
    "ldacorpus_perplex = ldacorpus_m2.copy()\n",
    "random.shuffle(ldacorpus_perplex)\n",
    "\n",
    "splitidx = int(0.8 * len(ldacorpus_perplex))\n",
    "\n",
    "train = ldacorpus_perplex[:splitidx]\n",
    "test = ldacorpus_perplex[splitidx:]\n",
    "\n",
    "tfidfcorpus_train = models.TfidfModel(train)\n",
    "tfidfcorpus_test = models.TfidfModel(test)"
   ]
  },
  {
   "cell_type": "code",
   "execution_count": 66,
   "id": "tamil-sheffield",
   "metadata": {},
   "outputs": [
    {
     "name": "stderr",
     "output_type": "stream",
     "text": [
      "c:\\users\\tuski\\appdata\\local\\programs\\python\\python39\\lib\\site-packages\\ipykernel\\ipkernel.py:283: DeprecationWarning: `should_run_async` will not call `transform_cell` automatically in the future. Please pass the result to `transformed_cell` argument and any exception that happen during thetransform in `preprocessing_exc_tuple` in IPython 7.17 and above.\n",
      "  and should_run_async(code)\n"
     ]
    },
    {
     "data": {
      "image/png": "[encoded data removed]",
      "text/plain": [
       "<Figure size 432x288 with 1 Axes>"
      ]
     },
     "metadata": {
      "needs_background": "light"
     },
     "output_type": "display_data"
    }
   ],
   "source": [
    "result = []\n",
    "\n",
    "for k in [10, 30, 50, 100, 150, 200]:\n",
    "    lda = models.ldamodel.LdaModel(corpus=tfidfcorpus_train[train], id2word=id2word_m1, num_topics=k, random_state=40)\n",
    "    perplexity = lda.log_perplexity(tfidfcorpus_test[test])\n",
    "    coherence = models.CoherenceModel(model=lda, corpus=tfidfcorpus_test[test], coherence= \"u_mass\").get_coherence()\n",
    "    result.append(dict(k=k, perplexity=perplexity, coherence=coherence))\n",
    "\n",
    "result = pd.DataFrame(result)\n",
    "result.plot(x=\"k\", y=[\"perplexity\", \"coherence\"])\n",
    "plt.show()"
   ]
  },
  {
   "cell_type": "markdown",
   "id": "metric-wales",
   "metadata": {},
   "source": [
    "no large difference to coherence, explore 45-55 topics for perplexity"
   ]
  },
  {
   "cell_type": "code",
   "execution_count": 67,
   "id": "distributed-cable",
   "metadata": {},
   "outputs": [
    {
     "name": "stderr",
     "output_type": "stream",
     "text": [
      "c:\\users\\tuski\\appdata\\local\\programs\\python\\python39\\lib\\site-packages\\ipykernel\\ipkernel.py:283: DeprecationWarning: `should_run_async` will not call `transform_cell` automatically in the future. Please pass the result to `transformed_cell` argument and any exception that happen during thetransform in `preprocessing_exc_tuple` in IPython 7.17 and above.\n",
      "  and should_run_async(code)\n"
     ]
    },
    {
     "name": "stdout",
     "output_type": "stream",
     "text": [
      "-23.410690340000365 -2761262.6466261325\n",
      "-25.063813330113167 -2956173.9878457505\n",
      "-26.570008638422255 -3133895.1324252994\n",
      "-28.714044140447374 -3386803.8694926896\n",
      "-31.628509813820585 -3730491.9220177922\n",
      "-34.25878431931146 -4040749.974515808\n",
      "-38.99467301065707 -4599305.239704966\n",
      "-42.90579584266947 -5060660.86182851\n",
      "-47.14941054039575 -5561164.71446617\n",
      "-52.78704171643259 -6226124.877868057\n",
      "-56.38529571909093 -6650466.812915655\n"
     ]
    }
   ],
   "source": [
    "perplexityvalues = []\n",
    "for n in np.arange(45,56):\n",
    "    lda = models.LdaModel(corpus=tfidfcorpus_train[train], id2word=id2word_m1, num_topics=n, random_state=40)\n",
    "    print(lda.log_perplexity(test), lda.bound(test))\n",
    "    perplexityvalues.append((n, lda.log_perplexity(test)))"
   ]
  },
  {
   "cell_type": "code",
   "execution_count": 68,
   "id": "heard-hopkins",
   "metadata": {},
   "outputs": [
    {
     "name": "stderr",
     "output_type": "stream",
     "text": [
      "c:\\users\\tuski\\appdata\\local\\programs\\python\\python39\\lib\\site-packages\\ipykernel\\ipkernel.py:283: DeprecationWarning: `should_run_async` will not call `transform_cell` automatically in the future. Please pass the result to `transformed_cell` argument and any exception that happen during thetransform in `preprocessing_exc_tuple` in IPython 7.17 and above.\n",
      "  and should_run_async(code)\n"
     ]
    },
    {
     "data": {
      "text/plain": [
       "([<matplotlib.axis.XTick at 0x16d472edbe0>,\n",
       "  <matplotlib.axis.XTick at 0x16d472ed6d0>,\n",
       "  <matplotlib.axis.XTick at 0x16d4b7a41f0>,\n",
       "  <matplotlib.axis.XTick at 0x16c5c584880>,\n",
       "  <matplotlib.axis.XTick at 0x16d49f0c730>,\n",
       "  <matplotlib.axis.XTick at 0x16d49f0c430>,\n",
       "  <matplotlib.axis.XTick at 0x16d49e9e070>,\n",
       "  <matplotlib.axis.XTick at 0x16d49e9e580>,\n",
       "  <matplotlib.axis.XTick at 0x16d49e9ea90>,\n",
       "  <matplotlib.axis.XTick at 0x16d49e9efa0>,\n",
       "  <matplotlib.axis.XTick at 0x16d4d2004f0>],\n",
       " [Text(0, 0, '45'),\n",
       "  Text(1, 0, '46'),\n",
       "  Text(2, 0, '47'),\n",
       "  Text(3, 0, '48'),\n",
       "  Text(4, 0, '49'),\n",
       "  Text(5, 0, '50'),\n",
       "  Text(6, 0, '51'),\n",
       "  Text(7, 0, '52'),\n",
       "  Text(8, 0, '53'),\n",
       "  Text(9, 0, '54'),\n",
       "  Text(10, 0, '55')])"
      ]
     },
     "execution_count": 68,
     "metadata": {},
     "output_type": "execute_result"
    },
    {
     "data": {
      "image/png": "[encoded data removed]",
      "text/plain": [
       "<Figure size 432x288 with 1 Axes>"
      ]
     },
     "metadata": {
      "needs_background": "light"
     },
     "output_type": "display_data"
    }
   ],
   "source": [
    "fig, ax = plt.subplots()\n",
    "plt.plot([e[1] for e in perplexityvalues])\n",
    "plt.xticks(range(len(perplexityvalues)), [e[0] for e in perplexityvalues])"
   ]
  },
  {
   "cell_type": "markdown",
   "id": "prospective-village",
   "metadata": {},
   "source": [
    "I looped through 49 topics to 51 topics and printed the typical words for the topics."
   ]
  },
  {
   "cell_type": "code",
   "execution_count": 69,
   "id": "suburban-healthcare",
   "metadata": {},
   "outputs": [
    {
     "name": "stderr",
     "output_type": "stream",
     "text": [
      "c:\\users\\tuski\\appdata\\local\\programs\\python\\python39\\lib\\site-packages\\ipykernel\\ipkernel.py:283: DeprecationWarning: `should_run_async` will not call `transform_cell` automatically in the future. Please pass the result to `transformed_cell` argument and any exception that happen during thetransform in `preprocessing_exc_tuple` in IPython 7.17 and above.\n",
      "  and should_run_async(code)\n"
     ]
    },
    {
     "name": "stdout",
     "output_type": "stream",
     "text": [
      "When the number of topics is 49\n",
      "[(32, '0.068*\"shooting\" + 0.060*\"series\" + 0.047*\"case\" + 0.041*\"middle\" + 0.037*\"age\"'), (0, '0.124*\"children\" + 0.104*\"american\" + 0.051*\"trial\" + 0.028*\"infections\" + 0.028*\"former\"'), (12, '0.058*\"second\" + 0.053*\"tv\" + 0.049*\"right\" + 0.047*\"wednesday\" + 0.046*\"seats\"'), (17, '0.051*\"kids\" + 0.030*\"federal\" + 0.030*\"officials\" + 0.026*\"health\" + 0.024*\"care\"'), (21, '0.311*\"buy\" + 0.051*\"international\" + 0.028*\"healthcare\" + 0.023*\"familiar\" + 0.021*\"talks\"'), (16, '0.048*\"plan\" + 0.047*\"man\" + 0.039*\"strategy\" + 0.035*\"better\" + 0.034*\"mask\"'), (40, '0.131*\"unvaccinated\" + 0.047*\"employees\" + 0.044*\"mandate\" + 0.044*\"vaccinated\" + 0.039*\"results\"'), (27, '0.046*\"make\" + 0.036*\"recovery\" + 0.028*\"days\" + 0.025*\"supply\" + 0.023*\"amid\"'), (23, '0.085*\"5\" + 0.037*\"2022\" + 0.035*\"weeks\" + 0.035*\"come\" + 0.024*\"turn\"'), (9, '0.061*\"review\" + 0.051*\"potential\" + 0.038*\"sale\" + 0.025*\"closing\" + 0.013*\"saudi\"'), (7, '0.078*\"200\" + 0.030*\"vaccine\" + 0.029*\"flights\" + 0.028*\"month\" + 0.028*\"starting\"'), (19, '0.170*\"lines\" + 0.150*\"air\" + 0.128*\"delta\" + 0.085*\"pfizer\" + 0.021*\"says\"'), (10, '0.063*\"february\" + 0.048*\"reported\" + 0.038*\"policy\" + 0.034*\"within\" + 0.033*\"digital\"'), (37, '0.050*\"defense\" + 0.048*\"news\" + 0.041*\"severe\" + 0.038*\"told\" + 0.033*\"director\"'), (8, '0.068*\"thursday\" + 0.043*\"several\" + 0.038*\"died\" + 0.036*\"technology\" + 0.035*\"19\"'), (20, '0.066*\"business\" + 0.046*\"rare\" + 0.038*\"africa\" + 0.036*\"fight\" + 0.035*\"election\"'), (24, '0.058*\"forced\" + 0.025*\"reached\" + 0.019*\"settlement\" + 0.017*\"included\" + 0.008*\"physical\"'), (3, '0.128*\"best\" + 0.055*\"shots\" + 0.041*\"covid19\" + 0.040*\"effective\" + 0.039*\"11\"'), (47, '0.000*\"nonetheless\" + 0.000*\"loopholes\" + 0.000*\"soundly\" + 0.000*\"zimmer\" + 0.000*\"chop\"'), (38, '0.075*\"soon\" + 0.050*\"get\" + 0.047*\"israel\" + 0.043*\"customers\" + 0.024*\"well\"')]\n",
      "\n",
      "\n",
      "When the number of topics is 50\n",
      "[(22, '0.216*\"lines\" + 0.192*\"air\" + 0.146*\"delta\" + 0.110*\"pfizer\" + 0.029*\"says\"'), (38, '0.142*\"expected\" + 0.046*\"saying\" + 0.033*\"open\" + 0.027*\"seeking\" + 0.017*\"positions\"'), (10, '0.073*\"died\" + 0.071*\"demand\" + 0.042*\"thursday\" + 0.034*\"buying\" + 0.034*\"19\"'), (1, '0.088*\"use\" + 0.084*\"google\" + 0.067*\"world\" + 0.039*\"tech\" + 0.033*\"like\"'), (15, '0.058*\"chief\" + 0.054*\"following\" + 0.050*\"executive\" + 0.039*\"penalty\" + 0.037*\"cut\"'), (7, '0.114*\"know\" + 0.074*\"second\" + 0.046*\"home\" + 0.033*\"lost\" + 0.027*\"might\"'), (5, '0.038*\"partnership\" + 0.023*\"startup\" + 0.019*\"founder\" + 0.019*\"held\" + 0.019*\"failed\"'), (28, '0.058*\"going\" + 0.042*\"13\" + 0.032*\"control\" + 0.029*\"able\" + 0.024*\"moment\"'), (33, '0.122*\"airlines\" + 0.041*\"americans\" + 0.038*\"change\" + 0.037*\"care\" + 0.031*\"united\"'), (26, '0.000*\"nonetheless\" + 0.000*\"loopholes\" + 0.000*\"soundly\" + 0.000*\"zimmer\" + 0.000*\"chop\"'), (11, '0.098*\"kids\" + 0.039*\"past\" + 0.036*\"give\" + 0.033*\"different\" + 0.032*\"parents\"'), (23, '0.000*\"waned\" + 0.000*\"complacent\" + 0.000*\"plummeting\" + 0.000*\"compliance\" + 0.000*\"improved\"'), (3, '0.069*\"children\" + 0.062*\"american\" + 0.043*\"make\" + 0.037*\"data\" + 0.031*\"apple\"'), (48, '0.041*\"via\" + 0.039*\"back\" + 0.036*\"take\" + 0.032*\"big\" + 0.031*\"bw\"'), (27, '0.000*\"nonetheless\" + 0.000*\"loopholes\" + 0.000*\"soundly\" + 0.000*\"zimmer\" + 0.000*\"chop\"'), (41, '0.068*\"business\" + 0.042*\"north\" + 0.040*\"management\" + 0.035*\"expand\" + 0.019*\"unit\"'), (30, '0.153*\"shot\" + 0.048*\"receive\" + 0.045*\"made\" + 0.042*\"season\" + 0.031*\"director\"'), (4, '0.075*\"latest\" + 0.066*\"south\" + 0.060*\"reports\" + 0.058*\"china\" + 0.039*\"death\"'), (37, '0.050*\"media\" + 0.040*\"recent\" + 0.036*\"person\" + 0.035*\"social\" + 0.028*\"increase\"'), (9, '0.092*\"plan\" + 0.070*\"least\" + 0.033*\"deaths\" + 0.030*\"lead\" + 0.026*\"“we\"')]\n",
      "\n",
      "\n",
      "When the number of topics is 51\n",
      "[(12, '0.093*\"workers\" + 0.068*\"1\" + 0.064*\"pay\" + 0.057*\"need\" + 0.031*\"chief\"'), (38, '0.000*\"nonetheless\" + 0.000*\"loopholes\" + 0.000*\"soundly\" + 0.000*\"zimmer\" + 0.000*\"chop\"'), (9, '0.000*\"nonetheless\" + 0.000*\"loopholes\" + 0.000*\"soundly\" + 0.000*\"zimmer\" + 0.000*\"chop\"'), (49, '0.093*\"apple\" + 0.060*\"says\" + 0.043*\"ceo\" + 0.043*\"get\" + 0.039*\"next\"'), (5, '0.076*\"5\" + 0.068*\"according\" + 0.048*\"surge\" + 0.044*\"weeks\" + 0.040*\"nearly\"'), (7, '0.067*\"could\" + 0.040*\"year\" + 0.039*\"week\" + 0.036*\"case\" + 0.035*\"news\"'), (22, '0.139*\"world\" + 0.056*\"around\" + 0.051*\"live\" + 0.041*\"long\" + 0.008*\"progress\"'), (28, '0.000*\"nonetheless\" + 0.000*\"loopholes\" + 0.000*\"soundly\" + 0.000*\"zimmer\" + 0.000*\"chop\"'), (13, '0.079*\"end\" + 0.077*\"data\" + 0.075*\"companies\" + 0.043*\"millions\" + 0.042*\"government\"'), (45, '0.148*\"buy\" + 0.079*\"people\" + 0.045*\"effective\" + 0.038*\"vaccine\" + 0.037*\"covid19\"'), (15, '0.000*\"nonetheless\" + 0.000*\"loopholes\" + 0.000*\"soundly\" + 0.000*\"zimmer\" + 0.000*\"chop\"'), (37, '0.090*\"trial\" + 0.045*\"decision\" + 0.033*\"partnership\" + 0.025*\"ground\" + 0.020*\"startup\"'), (16, '0.068*\"support\" + 0.067*\"face\" + 0.055*\"mass\" + 0.054*\"ahead\" + 0.039*\"writes\"'), (10, '0.071*\"second\" + 0.047*\"calls\" + 0.044*\"amid\" + 0.036*\"20\" + 0.035*\"popular\"'), (34, '0.084*\"it’s\" + 0.041*\"little\" + 0.006*\"singer\" + 0.002*\"“all\" + 0.002*\"said\"'), (4, '0.110*\"one\" + 0.096*\"expected\" + 0.050*\"right\" + 0.044*\"israel\" + 0.035*\"coming\"'), (26, '0.066*\"here’s\" + 0.066*\"put\" + 0.030*\"came\" + 0.030*\"current\" + 0.028*\"light\"'), (40, '0.168*\"amp\" + 0.110*\"study\" + 0.071*\"amazon\" + 0.038*\"large\" + 0.020*\"information\"'), (32, '0.092*\"early\" + 0.072*\"results\" + 0.045*\"show\" + 0.042*\"behind\" + 0.022*\"whats\"'), (31, '0.059*\"netflix\" + 0.037*\"games\" + 0.037*\"former\" + 0.030*\"increased\" + 0.027*\"read\"')]\n",
      "\n",
      "\n"
     ]
    }
   ],
   "source": [
    "ldacorpus_m3 = ldacorpus_m1\n",
    "id2word_m3 = id2word_m1\n",
    "tfidfcorpus_m3 = models.TfidfModel(ldacorpus_m3)\n",
    "for n in np.arange(49,52):\n",
    "    lda_m3 = models.ldamodel.LdaModel(corpus=tfidfcorpus_m3[ldacorpus_m3],id2word=id2word_m3,num_topics=n,random_state=40)\n",
    "    print(f\"When the number of topics is {n}\")\n",
    "    print(lda_m3.print_topics(num_words=5))\n",
    "    print(\"\\n\")"
   ]
  },
  {
   "cell_type": "markdown",
   "id": "prostate-startup",
   "metadata": {},
   "source": [
    "#### Filtering extremes\n",
    "I looped through different percentages for the \"no_above\" hyperparameter and realized there was no significant differences in results when varying the percentages. Therefore, I decided to set the \"no_above\" to 0.7 because I think model with no words occur in more than 70.0 % of the documents makes sense to me."
   ]
  },
  {
   "cell_type": "code",
   "execution_count": 70,
   "id": "exterior-yugoslavia",
   "metadata": {},
   "outputs": [
    {
     "name": "stderr",
     "output_type": "stream",
     "text": [
      "c:\\users\\tuski\\appdata\\local\\programs\\python\\python39\\lib\\site-packages\\ipykernel\\ipkernel.py:283: DeprecationWarning: `should_run_async` will not call `transform_cell` automatically in the future. Please pass the result to `transformed_cell` argument and any exception that happen during thetransform in `preprocessing_exc_tuple` in IPython 7.17 and above.\n",
      "  and should_run_async(code)\n"
     ]
    }
   ],
   "source": [
    "percentage = [0.4,0.5,0.6,0.7,0.8,0.9]"
   ]
  },
  {
   "cell_type": "code",
   "execution_count": 71,
   "id": "persistent-billion",
   "metadata": {},
   "outputs": [
    {
     "name": "stderr",
     "output_type": "stream",
     "text": [
      "c:\\users\\tuski\\appdata\\local\\programs\\python\\python39\\lib\\site-packages\\ipykernel\\ipkernel.py:283: DeprecationWarning: `should_run_async` will not call `transform_cell` automatically in the future. Please pass the result to `transformed_cell` argument and any exception that happen during thetransform in `preprocessing_exc_tuple` in IPython 7.17 and above.\n",
      "  and should_run_async(code)\n"
     ]
    },
    {
     "name": "stdout",
     "output_type": "stream",
     "text": [
      "\n",
      "Model with no words that occur more than in  40.0 % of the documents results in the following words:\n",
      "\n",
      "\n",
      "[(46, '0.070*\"demand\" + 0.038*\"earlier\" + 0.036*\"buying\" + 0.032*\"enough\" + 0.030*\"means\" + 0.030*\"raising\" + 0.027*\"stronger\" + 0.026*\"research\" + 0.025*\"instead\" + 0.023*\"prices\"'), (32, '0.063*\"others\" + 0.056*\"results\" + 0.047*\"middle\" + 0.040*\"wave\" + 0.033*\"levels\" + 0.033*\"africa\" + 0.032*\"increased\" + 0.030*\"virus\" + 0.026*\"approach\" + 0.025*\"election\"'), (25, '0.053*\"tv\" + 0.035*\"age\" + 0.031*\"lawsuit\" + 0.030*\"full\" + 0.026*\"expects\" + 0.025*\"impact\" + 0.024*\"repeat\" + 0.020*\"turn\" + 0.019*\"preparing\" + 0.018*\"youtube\"'), (48, '0.071*\"shooting\" + 0.033*\"similar\" + 0.026*\"police\" + 0.022*\"longer\" + 0.022*\"speaks\" + 0.022*\"america\" + 0.019*\"protected\" + 0.019*\"violence\" + 0.018*\"surge\" + 0.018*\"california\"'), (38, '0.038*\"2022\" + 0.036*\"uk\" + 0.028*\"variants\" + 0.026*\"disease\" + 0.025*\"packages\" + 0.024*\"normal\" + 0.023*\"thing\" + 0.022*\"looking\" + 0.019*\"control\" + 0.019*\"representation\"'), (45, '0.065*\"protection\" + 0.050*\"everything\" + 0.043*\"review\" + 0.035*\"motors\" + 0.033*\"claims\" + 0.025*\"true\" + 0.025*\"general\" + 0.017*\"startup\" + 0.016*\"thought\" + 0.016*\"save\"'), (11, '0.057*\"sales\" + 0.041*\"car\" + 0.029*\"treat\" + 0.023*\"theme\" + 0.023*\"cover\" + 0.022*\"land\" + 0.022*\"board\" + 0.019*\"names\" + 0.017*\"shares\" + 0.017*\"electronics\"'), (36, '0.067*\"things\" + 0.058*\"online\" + 0.040*\"going\" + 0.035*\"popular\" + 0.032*\"nbcnewsthink\" + 0.028*\"access\" + 0.025*\"reality\" + 0.023*\"shopping\" + 0.023*\"wear\" + 0.022*\"opinion\"'), (7, '0.061*\"recovery\" + 0.046*\"money\" + 0.034*\"quest\" + 0.033*\"experience\" + 0.032*\"coming\" + 0.029*\"shortages\" + 0.028*\"given\" + 0.026*\"low\" + 0.026*\"develop\" + 0.024*\"closed\"'), (37, '0.045*\"study\" + 0.039*\"third\" + 0.037*\"places\" + 0.036*\"poised\" + 0.023*\"microsoft\" + 0.023*\"19\" + 0.021*\"joe\" + 0.021*\"service\" + 0.020*\"ready\" + 0.020*\"google\"'), (40, '0.056*\"vaccine\" + 0.041*\"booster\" + 0.039*\"covid19\" + 0.033*\"shots\" + 0.030*\"coronavirus\" + 0.028*\"doses\" + 0.027*\"shot\" + 0.020*\"covid\" + 0.017*\"15\" + 0.017*\"require\"'), (5, '0.153*\"fda\" + 0.064*\"vaccines\" + 0.046*\"100\" + 0.033*\"strategy\" + 0.021*\"international\" + 0.020*\"“the\" + 0.019*\"covid\" + 0.019*\"hospitalizations\" + 0.019*\"half\" + 0.018*\"covid19\"'), (15, '0.105*\"delta\" + 0.051*\"airport\" + 0.048*\"air\" + 0.038*\"travel\" + 0.038*\"5\" + 0.028*\"expected\" + 0.024*\"young\" + 0.023*\"seats\" + 0.022*\"return\" + 0.019*\"11\"'), (3, '0.071*\"authorization\" + 0.065*\"store\" + 0.033*\"regulators\" + 0.030*\"requirements\" + 0.030*\"vaccine\" + 0.026*\"penalty\" + 0.026*\"several\" + 0.022*\"covid19\" + 0.021*\"black\" + 0.021*\"efficacy\"'), (20, '0.165*\"buy\" + 0.161*\"best\" + 0.033*\"received\" + 0.025*\"defense\" + 0.022*\"pfizer\" + 0.017*\"members\" + 0.015*\"continues\" + 0.013*\"faces\" + 0.013*\"allegedly\" + 0.013*\"official\"'), (42, '0.048*\"via\" + 0.048*\"streaming\" + 0.047*\"bw\" + 0.042*\"older\" + 0.042*\"flying\" + 0.036*\"look\" + 0.028*\"plan\" + 0.026*\"released\" + 0.026*\"employee\" + 0.024*\"pay\"'), (34, '0.067*\"aren’t\" + 0.046*\"forced\" + 0.035*\"test\" + 0.028*\"boost\" + 0.027*\"round\" + 0.027*\"able\" + 0.023*\"division\" + 0.021*\"gets\" + 0.021*\"hasn’t\" + 0.019*\"love\"'), (18, '0.100*\"pilots\" + 0.048*\"better\" + 0.035*\"hit\" + 0.029*\"avoid\" + 0.027*\"sources\" + 0.027*\"house\" + 0.026*\"seattle\" + 0.025*\"white\" + 0.022*\"event\" + 0.021*\"fully\"'), (28, '0.067*\"heres\" + 0.034*\"story\" + 0.028*\"highly\" + 0.027*\"researchers\" + 0.023*\"came\" + 0.022*\"revenue\" + 0.020*\"asks\" + 0.020*\"serious\" + 0.017*\"jobs\" + 0.017*\"run\"'), (44, '0.266*\"disney\" + 0.128*\"2021\" + 0.040*\"facebook\" + 0.034*\"google\" + 0.024*\"subject\" + 0.024*\"final\" + 0.023*\"asked\" + 0.019*\"announced\" + 0.019*\"500\" + 0.015*\"search\"')]\n",
      "\n",
      "Model with no words that occur more than in  50.0 % of the documents results in the following words:\n",
      "\n",
      "\n",
      "[(46, '0.070*\"demand\" + 0.038*\"earlier\" + 0.036*\"buying\" + 0.032*\"enough\" + 0.030*\"means\" + 0.030*\"raising\" + 0.027*\"stronger\" + 0.026*\"research\" + 0.025*\"instead\" + 0.023*\"prices\"'), (32, '0.063*\"others\" + 0.056*\"results\" + 0.047*\"middle\" + 0.040*\"wave\" + 0.033*\"levels\" + 0.033*\"africa\" + 0.032*\"increased\" + 0.030*\"virus\" + 0.026*\"approach\" + 0.025*\"election\"'), (25, '0.053*\"tv\" + 0.035*\"age\" + 0.031*\"lawsuit\" + 0.030*\"full\" + 0.026*\"expects\" + 0.025*\"impact\" + 0.024*\"repeat\" + 0.020*\"turn\" + 0.019*\"preparing\" + 0.018*\"youtube\"'), (48, '0.071*\"shooting\" + 0.033*\"similar\" + 0.026*\"police\" + 0.022*\"longer\" + 0.022*\"speaks\" + 0.022*\"america\" + 0.019*\"protected\" + 0.019*\"violence\" + 0.018*\"surge\" + 0.018*\"california\"'), (38, '0.038*\"2022\" + 0.036*\"uk\" + 0.028*\"variants\" + 0.026*\"disease\" + 0.025*\"packages\" + 0.024*\"normal\" + 0.023*\"thing\" + 0.022*\"looking\" + 0.019*\"control\" + 0.019*\"representation\"'), (45, '0.065*\"protection\" + 0.050*\"everything\" + 0.043*\"review\" + 0.035*\"motors\" + 0.033*\"claims\" + 0.025*\"true\" + 0.025*\"general\" + 0.017*\"startup\" + 0.016*\"thought\" + 0.016*\"save\"'), (11, '0.057*\"sales\" + 0.041*\"car\" + 0.029*\"treat\" + 0.023*\"theme\" + 0.023*\"cover\" + 0.022*\"land\" + 0.022*\"board\" + 0.019*\"names\" + 0.017*\"shares\" + 0.017*\"electronics\"'), (36, '0.067*\"things\" + 0.058*\"online\" + 0.040*\"going\" + 0.035*\"popular\" + 0.032*\"nbcnewsthink\" + 0.028*\"access\" + 0.025*\"reality\" + 0.023*\"shopping\" + 0.023*\"wear\" + 0.022*\"opinion\"'), (7, '0.061*\"recovery\" + 0.046*\"money\" + 0.034*\"quest\" + 0.033*\"experience\" + 0.032*\"coming\" + 0.029*\"shortages\" + 0.028*\"given\" + 0.026*\"low\" + 0.026*\"develop\" + 0.024*\"closed\"'), (37, '0.045*\"study\" + 0.039*\"third\" + 0.037*\"places\" + 0.036*\"poised\" + 0.023*\"microsoft\" + 0.023*\"19\" + 0.021*\"joe\" + 0.021*\"service\" + 0.020*\"ready\" + 0.020*\"google\"'), (40, '0.056*\"vaccine\" + 0.041*\"booster\" + 0.039*\"covid19\" + 0.033*\"shots\" + 0.030*\"coronavirus\" + 0.028*\"doses\" + 0.027*\"shot\" + 0.020*\"covid\" + 0.017*\"15\" + 0.017*\"require\"'), (5, '0.153*\"fda\" + 0.064*\"vaccines\" + 0.046*\"100\" + 0.033*\"strategy\" + 0.021*\"international\" + 0.020*\"“the\" + 0.019*\"covid\" + 0.019*\"hospitalizations\" + 0.019*\"half\" + 0.018*\"covid19\"'), (15, '0.105*\"delta\" + 0.051*\"airport\" + 0.048*\"air\" + 0.038*\"travel\" + 0.038*\"5\" + 0.028*\"expected\" + 0.024*\"young\" + 0.023*\"seats\" + 0.022*\"return\" + 0.019*\"11\"'), (3, '0.071*\"authorization\" + 0.065*\"store\" + 0.033*\"regulators\" + 0.030*\"requirements\" + 0.030*\"vaccine\" + 0.026*\"penalty\" + 0.026*\"several\" + 0.022*\"covid19\" + 0.021*\"black\" + 0.021*\"efficacy\"'), (20, '0.165*\"buy\" + 0.161*\"best\" + 0.033*\"received\" + 0.025*\"defense\" + 0.022*\"pfizer\" + 0.017*\"members\" + 0.015*\"continues\" + 0.013*\"faces\" + 0.013*\"allegedly\" + 0.013*\"official\"'), (42, '0.048*\"via\" + 0.048*\"streaming\" + 0.047*\"bw\" + 0.042*\"older\" + 0.042*\"flying\" + 0.036*\"look\" + 0.028*\"plan\" + 0.026*\"released\" + 0.026*\"employee\" + 0.024*\"pay\"'), (34, '0.067*\"aren’t\" + 0.046*\"forced\" + 0.035*\"test\" + 0.028*\"boost\" + 0.027*\"round\" + 0.027*\"able\" + 0.023*\"division\" + 0.021*\"gets\" + 0.021*\"hasn’t\" + 0.019*\"love\"'), (18, '0.100*\"pilots\" + 0.048*\"better\" + 0.035*\"hit\" + 0.029*\"avoid\" + 0.027*\"sources\" + 0.027*\"house\" + 0.026*\"seattle\" + 0.025*\"white\" + 0.022*\"event\" + 0.021*\"fully\"'), (28, '0.067*\"heres\" + 0.034*\"story\" + 0.028*\"highly\" + 0.027*\"researchers\" + 0.023*\"came\" + 0.022*\"revenue\" + 0.020*\"asks\" + 0.020*\"serious\" + 0.017*\"jobs\" + 0.017*\"run\"'), (44, '0.266*\"disney\" + 0.128*\"2021\" + 0.040*\"facebook\" + 0.034*\"google\" + 0.024*\"subject\" + 0.024*\"final\" + 0.023*\"asked\" + 0.019*\"announced\" + 0.019*\"500\" + 0.015*\"search\"')]\n",
      "\n",
      "Model with no words that occur more than in  60.0 % of the documents results in the following words:\n",
      "\n",
      "\n",
      "[(46, '0.070*\"demand\" + 0.038*\"earlier\" + 0.036*\"buying\" + 0.032*\"enough\" + 0.030*\"means\" + 0.030*\"raising\" + 0.027*\"stronger\" + 0.026*\"research\" + 0.025*\"instead\" + 0.023*\"prices\"'), (32, '0.063*\"others\" + 0.056*\"results\" + 0.047*\"middle\" + 0.040*\"wave\" + 0.033*\"levels\" + 0.033*\"africa\" + 0.032*\"increased\" + 0.030*\"virus\" + 0.026*\"approach\" + 0.025*\"election\"'), (25, '0.053*\"tv\" + 0.035*\"age\" + 0.031*\"lawsuit\" + 0.030*\"full\" + 0.026*\"expects\" + 0.025*\"impact\" + 0.024*\"repeat\" + 0.020*\"turn\" + 0.019*\"preparing\" + 0.018*\"youtube\"'), (48, '0.071*\"shooting\" + 0.033*\"similar\" + 0.026*\"police\" + 0.022*\"longer\" + 0.022*\"speaks\" + 0.022*\"america\" + 0.019*\"protected\" + 0.019*\"violence\" + 0.018*\"surge\" + 0.018*\"california\"'), (38, '0.038*\"2022\" + 0.036*\"uk\" + 0.028*\"variants\" + 0.026*\"disease\" + 0.025*\"packages\" + 0.024*\"normal\" + 0.023*\"thing\" + 0.022*\"looking\" + 0.019*\"control\" + 0.019*\"representation\"'), (45, '0.065*\"protection\" + 0.050*\"everything\" + 0.043*\"review\" + 0.035*\"motors\" + 0.033*\"claims\" + 0.025*\"true\" + 0.025*\"general\" + 0.017*\"startup\" + 0.016*\"thought\" + 0.016*\"save\"'), (11, '0.057*\"sales\" + 0.041*\"car\" + 0.029*\"treat\" + 0.023*\"theme\" + 0.023*\"cover\" + 0.022*\"land\" + 0.022*\"board\" + 0.019*\"names\" + 0.017*\"shares\" + 0.017*\"electronics\"'), (36, '0.067*\"things\" + 0.058*\"online\" + 0.040*\"going\" + 0.035*\"popular\" + 0.032*\"nbcnewsthink\" + 0.028*\"access\" + 0.025*\"reality\" + 0.023*\"shopping\" + 0.023*\"wear\" + 0.022*\"opinion\"'), (7, '0.061*\"recovery\" + 0.046*\"money\" + 0.034*\"quest\" + 0.033*\"experience\" + 0.032*\"coming\" + 0.029*\"shortages\" + 0.028*\"given\" + 0.026*\"low\" + 0.026*\"develop\" + 0.024*\"closed\"'), (37, '0.045*\"study\" + 0.039*\"third\" + 0.037*\"places\" + 0.036*\"poised\" + 0.023*\"microsoft\" + 0.023*\"19\" + 0.021*\"joe\" + 0.021*\"service\" + 0.020*\"ready\" + 0.020*\"google\"'), (40, '0.056*\"vaccine\" + 0.041*\"booster\" + 0.039*\"covid19\" + 0.033*\"shots\" + 0.030*\"coronavirus\" + 0.028*\"doses\" + 0.027*\"shot\" + 0.020*\"covid\" + 0.017*\"15\" + 0.017*\"require\"'), (5, '0.153*\"fda\" + 0.064*\"vaccines\" + 0.046*\"100\" + 0.033*\"strategy\" + 0.021*\"international\" + 0.020*\"“the\" + 0.019*\"covid\" + 0.019*\"hospitalizations\" + 0.019*\"half\" + 0.018*\"covid19\"'), (15, '0.105*\"delta\" + 0.051*\"airport\" + 0.048*\"air\" + 0.038*\"travel\" + 0.038*\"5\" + 0.028*\"expected\" + 0.024*\"young\" + 0.023*\"seats\" + 0.022*\"return\" + 0.019*\"11\"'), (3, '0.071*\"authorization\" + 0.065*\"store\" + 0.033*\"regulators\" + 0.030*\"requirements\" + 0.030*\"vaccine\" + 0.026*\"penalty\" + 0.026*\"several\" + 0.022*\"covid19\" + 0.021*\"black\" + 0.021*\"efficacy\"'), (20, '0.165*\"buy\" + 0.161*\"best\" + 0.033*\"received\" + 0.025*\"defense\" + 0.022*\"pfizer\" + 0.017*\"members\" + 0.015*\"continues\" + 0.013*\"faces\" + 0.013*\"allegedly\" + 0.013*\"official\"'), (42, '0.048*\"via\" + 0.048*\"streaming\" + 0.047*\"bw\" + 0.042*\"older\" + 0.042*\"flying\" + 0.036*\"look\" + 0.028*\"plan\" + 0.026*\"released\" + 0.026*\"employee\" + 0.024*\"pay\"'), (34, '0.067*\"aren’t\" + 0.046*\"forced\" + 0.035*\"test\" + 0.028*\"boost\" + 0.027*\"round\" + 0.027*\"able\" + 0.023*\"division\" + 0.021*\"gets\" + 0.021*\"hasn’t\" + 0.019*\"love\"'), (18, '0.100*\"pilots\" + 0.048*\"better\" + 0.035*\"hit\" + 0.029*\"avoid\" + 0.027*\"sources\" + 0.027*\"house\" + 0.026*\"seattle\" + 0.025*\"white\" + 0.022*\"event\" + 0.021*\"fully\"'), (28, '0.067*\"heres\" + 0.034*\"story\" + 0.028*\"highly\" + 0.027*\"researchers\" + 0.023*\"came\" + 0.022*\"revenue\" + 0.020*\"asks\" + 0.020*\"serious\" + 0.017*\"jobs\" + 0.017*\"run\"'), (44, '0.266*\"disney\" + 0.128*\"2021\" + 0.040*\"facebook\" + 0.034*\"google\" + 0.024*\"subject\" + 0.024*\"final\" + 0.023*\"asked\" + 0.019*\"announced\" + 0.019*\"500\" + 0.015*\"search\"')]\n"
     ]
    },
    {
     "name": "stdout",
     "output_type": "stream",
     "text": [
      "\n",
      "Model with no words that occur more than in  70.0 % of the documents results in the following words:\n",
      "\n",
      "\n",
      "[(46, '0.070*\"demand\" + 0.038*\"earlier\" + 0.036*\"buying\" + 0.032*\"enough\" + 0.030*\"means\" + 0.030*\"raising\" + 0.027*\"stronger\" + 0.026*\"research\" + 0.025*\"instead\" + 0.023*\"prices\"'), (32, '0.063*\"others\" + 0.056*\"results\" + 0.047*\"middle\" + 0.040*\"wave\" + 0.033*\"levels\" + 0.033*\"africa\" + 0.032*\"increased\" + 0.030*\"virus\" + 0.026*\"approach\" + 0.025*\"election\"'), (25, '0.053*\"tv\" + 0.035*\"age\" + 0.031*\"lawsuit\" + 0.030*\"full\" + 0.026*\"expects\" + 0.025*\"impact\" + 0.024*\"repeat\" + 0.020*\"turn\" + 0.019*\"preparing\" + 0.018*\"youtube\"'), (48, '0.071*\"shooting\" + 0.033*\"similar\" + 0.026*\"police\" + 0.022*\"longer\" + 0.022*\"speaks\" + 0.022*\"america\" + 0.019*\"protected\" + 0.019*\"violence\" + 0.018*\"surge\" + 0.018*\"california\"'), (38, '0.038*\"2022\" + 0.036*\"uk\" + 0.028*\"variants\" + 0.026*\"disease\" + 0.025*\"packages\" + 0.024*\"normal\" + 0.023*\"thing\" + 0.022*\"looking\" + 0.019*\"control\" + 0.019*\"representation\"'), (45, '0.065*\"protection\" + 0.050*\"everything\" + 0.043*\"review\" + 0.035*\"motors\" + 0.033*\"claims\" + 0.025*\"true\" + 0.025*\"general\" + 0.017*\"startup\" + 0.016*\"thought\" + 0.016*\"save\"'), (11, '0.057*\"sales\" + 0.041*\"car\" + 0.029*\"treat\" + 0.023*\"theme\" + 0.023*\"cover\" + 0.022*\"land\" + 0.022*\"board\" + 0.019*\"names\" + 0.017*\"shares\" + 0.017*\"electronics\"'), (36, '0.067*\"things\" + 0.058*\"online\" + 0.040*\"going\" + 0.035*\"popular\" + 0.032*\"nbcnewsthink\" + 0.028*\"access\" + 0.025*\"reality\" + 0.023*\"shopping\" + 0.023*\"wear\" + 0.022*\"opinion\"'), (7, '0.061*\"recovery\" + 0.046*\"money\" + 0.034*\"quest\" + 0.033*\"experience\" + 0.032*\"coming\" + 0.029*\"shortages\" + 0.028*\"given\" + 0.026*\"low\" + 0.026*\"develop\" + 0.024*\"closed\"'), (37, '0.045*\"study\" + 0.039*\"third\" + 0.037*\"places\" + 0.036*\"poised\" + 0.023*\"microsoft\" + 0.023*\"19\" + 0.021*\"joe\" + 0.021*\"service\" + 0.020*\"ready\" + 0.020*\"google\"'), (40, '0.056*\"vaccine\" + 0.041*\"booster\" + 0.039*\"covid19\" + 0.033*\"shots\" + 0.030*\"coronavirus\" + 0.028*\"doses\" + 0.027*\"shot\" + 0.020*\"covid\" + 0.017*\"15\" + 0.017*\"require\"'), (5, '0.153*\"fda\" + 0.064*\"vaccines\" + 0.046*\"100\" + 0.033*\"strategy\" + 0.021*\"international\" + 0.020*\"“the\" + 0.019*\"covid\" + 0.019*\"hospitalizations\" + 0.019*\"half\" + 0.018*\"covid19\"'), (15, '0.105*\"delta\" + 0.051*\"airport\" + 0.048*\"air\" + 0.038*\"travel\" + 0.038*\"5\" + 0.028*\"expected\" + 0.024*\"young\" + 0.023*\"seats\" + 0.022*\"return\" + 0.019*\"11\"'), (3, '0.071*\"authorization\" + 0.065*\"store\" + 0.033*\"regulators\" + 0.030*\"requirements\" + 0.030*\"vaccine\" + 0.026*\"penalty\" + 0.026*\"several\" + 0.022*\"covid19\" + 0.021*\"black\" + 0.021*\"efficacy\"'), (20, '0.165*\"buy\" + 0.161*\"best\" + 0.033*\"received\" + 0.025*\"defense\" + 0.022*\"pfizer\" + 0.017*\"members\" + 0.015*\"continues\" + 0.013*\"faces\" + 0.013*\"allegedly\" + 0.013*\"official\"'), (42, '0.048*\"via\" + 0.048*\"streaming\" + 0.047*\"bw\" + 0.042*\"older\" + 0.042*\"flying\" + 0.036*\"look\" + 0.028*\"plan\" + 0.026*\"released\" + 0.026*\"employee\" + 0.024*\"pay\"'), (34, '0.067*\"aren’t\" + 0.046*\"forced\" + 0.035*\"test\" + 0.028*\"boost\" + 0.027*\"round\" + 0.027*\"able\" + 0.023*\"division\" + 0.021*\"gets\" + 0.021*\"hasn’t\" + 0.019*\"love\"'), (18, '0.100*\"pilots\" + 0.048*\"better\" + 0.035*\"hit\" + 0.029*\"avoid\" + 0.027*\"sources\" + 0.027*\"house\" + 0.026*\"seattle\" + 0.025*\"white\" + 0.022*\"event\" + 0.021*\"fully\"'), (28, '0.067*\"heres\" + 0.034*\"story\" + 0.028*\"highly\" + 0.027*\"researchers\" + 0.023*\"came\" + 0.022*\"revenue\" + 0.020*\"asks\" + 0.020*\"serious\" + 0.017*\"jobs\" + 0.017*\"run\"'), (44, '0.266*\"disney\" + 0.128*\"2021\" + 0.040*\"facebook\" + 0.034*\"google\" + 0.024*\"subject\" + 0.024*\"final\" + 0.023*\"asked\" + 0.019*\"announced\" + 0.019*\"500\" + 0.015*\"search\"')]\n",
      "\n",
      "Model with no words that occur more than in  80.0 % of the documents results in the following words:\n",
      "\n",
      "\n",
      "[(46, '0.070*\"demand\" + 0.038*\"earlier\" + 0.036*\"buying\" + 0.032*\"enough\" + 0.030*\"means\" + 0.030*\"raising\" + 0.027*\"stronger\" + 0.026*\"research\" + 0.025*\"instead\" + 0.023*\"prices\"'), (32, '0.063*\"others\" + 0.056*\"results\" + 0.047*\"middle\" + 0.040*\"wave\" + 0.033*\"levels\" + 0.033*\"africa\" + 0.032*\"increased\" + 0.030*\"virus\" + 0.026*\"approach\" + 0.025*\"election\"'), (25, '0.053*\"tv\" + 0.035*\"age\" + 0.031*\"lawsuit\" + 0.030*\"full\" + 0.026*\"expects\" + 0.025*\"impact\" + 0.024*\"repeat\" + 0.020*\"turn\" + 0.019*\"preparing\" + 0.018*\"youtube\"'), (48, '0.071*\"shooting\" + 0.033*\"similar\" + 0.026*\"police\" + 0.022*\"longer\" + 0.022*\"speaks\" + 0.022*\"america\" + 0.019*\"protected\" + 0.019*\"violence\" + 0.018*\"surge\" + 0.018*\"california\"'), (38, '0.038*\"2022\" + 0.036*\"uk\" + 0.028*\"variants\" + 0.026*\"disease\" + 0.025*\"packages\" + 0.024*\"normal\" + 0.023*\"thing\" + 0.022*\"looking\" + 0.019*\"control\" + 0.019*\"representation\"'), (45, '0.065*\"protection\" + 0.050*\"everything\" + 0.043*\"review\" + 0.035*\"motors\" + 0.033*\"claims\" + 0.025*\"true\" + 0.025*\"general\" + 0.017*\"startup\" + 0.016*\"thought\" + 0.016*\"save\"'), (11, '0.057*\"sales\" + 0.041*\"car\" + 0.029*\"treat\" + 0.023*\"theme\" + 0.023*\"cover\" + 0.022*\"land\" + 0.022*\"board\" + 0.019*\"names\" + 0.017*\"shares\" + 0.017*\"electronics\"'), (36, '0.067*\"things\" + 0.058*\"online\" + 0.040*\"going\" + 0.035*\"popular\" + 0.032*\"nbcnewsthink\" + 0.028*\"access\" + 0.025*\"reality\" + 0.023*\"shopping\" + 0.023*\"wear\" + 0.022*\"opinion\"'), (7, '0.061*\"recovery\" + 0.046*\"money\" + 0.034*\"quest\" + 0.033*\"experience\" + 0.032*\"coming\" + 0.029*\"shortages\" + 0.028*\"given\" + 0.026*\"low\" + 0.026*\"develop\" + 0.024*\"closed\"'), (37, '0.045*\"study\" + 0.039*\"third\" + 0.037*\"places\" + 0.036*\"poised\" + 0.023*\"microsoft\" + 0.023*\"19\" + 0.021*\"joe\" + 0.021*\"service\" + 0.020*\"ready\" + 0.020*\"google\"'), (40, '0.056*\"vaccine\" + 0.041*\"booster\" + 0.039*\"covid19\" + 0.033*\"shots\" + 0.030*\"coronavirus\" + 0.028*\"doses\" + 0.027*\"shot\" + 0.020*\"covid\" + 0.017*\"15\" + 0.017*\"require\"'), (5, '0.153*\"fda\" + 0.064*\"vaccines\" + 0.046*\"100\" + 0.033*\"strategy\" + 0.021*\"international\" + 0.020*\"“the\" + 0.019*\"covid\" + 0.019*\"hospitalizations\" + 0.019*\"half\" + 0.018*\"covid19\"'), (15, '0.105*\"delta\" + 0.051*\"airport\" + 0.048*\"air\" + 0.038*\"travel\" + 0.038*\"5\" + 0.028*\"expected\" + 0.024*\"young\" + 0.023*\"seats\" + 0.022*\"return\" + 0.019*\"11\"'), (3, '0.071*\"authorization\" + 0.065*\"store\" + 0.033*\"regulators\" + 0.030*\"requirements\" + 0.030*\"vaccine\" + 0.026*\"penalty\" + 0.026*\"several\" + 0.022*\"covid19\" + 0.021*\"black\" + 0.021*\"efficacy\"'), (20, '0.165*\"buy\" + 0.161*\"best\" + 0.033*\"received\" + 0.025*\"defense\" + 0.022*\"pfizer\" + 0.017*\"members\" + 0.015*\"continues\" + 0.013*\"faces\" + 0.013*\"allegedly\" + 0.013*\"official\"'), (42, '0.048*\"via\" + 0.048*\"streaming\" + 0.047*\"bw\" + 0.042*\"older\" + 0.042*\"flying\" + 0.036*\"look\" + 0.028*\"plan\" + 0.026*\"released\" + 0.026*\"employee\" + 0.024*\"pay\"'), (34, '0.067*\"aren’t\" + 0.046*\"forced\" + 0.035*\"test\" + 0.028*\"boost\" + 0.027*\"round\" + 0.027*\"able\" + 0.023*\"division\" + 0.021*\"gets\" + 0.021*\"hasn’t\" + 0.019*\"love\"'), (18, '0.100*\"pilots\" + 0.048*\"better\" + 0.035*\"hit\" + 0.029*\"avoid\" + 0.027*\"sources\" + 0.027*\"house\" + 0.026*\"seattle\" + 0.025*\"white\" + 0.022*\"event\" + 0.021*\"fully\"'), (28, '0.067*\"heres\" + 0.034*\"story\" + 0.028*\"highly\" + 0.027*\"researchers\" + 0.023*\"came\" + 0.022*\"revenue\" + 0.020*\"asks\" + 0.020*\"serious\" + 0.017*\"jobs\" + 0.017*\"run\"'), (44, '0.266*\"disney\" + 0.128*\"2021\" + 0.040*\"facebook\" + 0.034*\"google\" + 0.024*\"subject\" + 0.024*\"final\" + 0.023*\"asked\" + 0.019*\"announced\" + 0.019*\"500\" + 0.015*\"search\"')]\n",
      "\n",
      "Model with no words that occur more than in  90.0 % of the documents results in the following words:\n",
      "\n",
      "\n",
      "[(46, '0.070*\"demand\" + 0.038*\"earlier\" + 0.036*\"buying\" + 0.032*\"enough\" + 0.030*\"means\" + 0.030*\"raising\" + 0.027*\"stronger\" + 0.026*\"research\" + 0.025*\"instead\" + 0.023*\"prices\"'), (32, '0.063*\"others\" + 0.056*\"results\" + 0.047*\"middle\" + 0.040*\"wave\" + 0.033*\"levels\" + 0.033*\"africa\" + 0.032*\"increased\" + 0.030*\"virus\" + 0.026*\"approach\" + 0.025*\"election\"'), (25, '0.053*\"tv\" + 0.035*\"age\" + 0.031*\"lawsuit\" + 0.030*\"full\" + 0.026*\"expects\" + 0.025*\"impact\" + 0.024*\"repeat\" + 0.020*\"turn\" + 0.019*\"preparing\" + 0.018*\"youtube\"'), (48, '0.071*\"shooting\" + 0.033*\"similar\" + 0.026*\"police\" + 0.022*\"longer\" + 0.022*\"speaks\" + 0.022*\"america\" + 0.019*\"protected\" + 0.019*\"violence\" + 0.018*\"surge\" + 0.018*\"california\"'), (38, '0.038*\"2022\" + 0.036*\"uk\" + 0.028*\"variants\" + 0.026*\"disease\" + 0.025*\"packages\" + 0.024*\"normal\" + 0.023*\"thing\" + 0.022*\"looking\" + 0.019*\"control\" + 0.019*\"representation\"'), (45, '0.065*\"protection\" + 0.050*\"everything\" + 0.043*\"review\" + 0.035*\"motors\" + 0.033*\"claims\" + 0.025*\"true\" + 0.025*\"general\" + 0.017*\"startup\" + 0.016*\"thought\" + 0.016*\"save\"'), (11, '0.057*\"sales\" + 0.041*\"car\" + 0.029*\"treat\" + 0.023*\"theme\" + 0.023*\"cover\" + 0.022*\"land\" + 0.022*\"board\" + 0.019*\"names\" + 0.017*\"shares\" + 0.017*\"electronics\"'), (36, '0.067*\"things\" + 0.058*\"online\" + 0.040*\"going\" + 0.035*\"popular\" + 0.032*\"nbcnewsthink\" + 0.028*\"access\" + 0.025*\"reality\" + 0.023*\"shopping\" + 0.023*\"wear\" + 0.022*\"opinion\"'), (7, '0.061*\"recovery\" + 0.046*\"money\" + 0.034*\"quest\" + 0.033*\"experience\" + 0.032*\"coming\" + 0.029*\"shortages\" + 0.028*\"given\" + 0.026*\"low\" + 0.026*\"develop\" + 0.024*\"closed\"'), (37, '0.045*\"study\" + 0.039*\"third\" + 0.037*\"places\" + 0.036*\"poised\" + 0.023*\"microsoft\" + 0.023*\"19\" + 0.021*\"joe\" + 0.021*\"service\" + 0.020*\"ready\" + 0.020*\"google\"'), (40, '0.056*\"vaccine\" + 0.041*\"booster\" + 0.039*\"covid19\" + 0.033*\"shots\" + 0.030*\"coronavirus\" + 0.028*\"doses\" + 0.027*\"shot\" + 0.020*\"covid\" + 0.017*\"15\" + 0.017*\"require\"'), (5, '0.153*\"fda\" + 0.064*\"vaccines\" + 0.046*\"100\" + 0.033*\"strategy\" + 0.021*\"international\" + 0.020*\"“the\" + 0.019*\"covid\" + 0.019*\"hospitalizations\" + 0.019*\"half\" + 0.018*\"covid19\"'), (15, '0.105*\"delta\" + 0.051*\"airport\" + 0.048*\"air\" + 0.038*\"travel\" + 0.038*\"5\" + 0.028*\"expected\" + 0.024*\"young\" + 0.023*\"seats\" + 0.022*\"return\" + 0.019*\"11\"'), (3, '0.071*\"authorization\" + 0.065*\"store\" + 0.033*\"regulators\" + 0.030*\"requirements\" + 0.030*\"vaccine\" + 0.026*\"penalty\" + 0.026*\"several\" + 0.022*\"covid19\" + 0.021*\"black\" + 0.021*\"efficacy\"'), (20, '0.165*\"buy\" + 0.161*\"best\" + 0.033*\"received\" + 0.025*\"defense\" + 0.022*\"pfizer\" + 0.017*\"members\" + 0.015*\"continues\" + 0.013*\"faces\" + 0.013*\"allegedly\" + 0.013*\"official\"'), (42, '0.048*\"via\" + 0.048*\"streaming\" + 0.047*\"bw\" + 0.042*\"older\" + 0.042*\"flying\" + 0.036*\"look\" + 0.028*\"plan\" + 0.026*\"released\" + 0.026*\"employee\" + 0.024*\"pay\"'), (34, '0.067*\"aren’t\" + 0.046*\"forced\" + 0.035*\"test\" + 0.028*\"boost\" + 0.027*\"round\" + 0.027*\"able\" + 0.023*\"division\" + 0.021*\"gets\" + 0.021*\"hasn’t\" + 0.019*\"love\"'), (18, '0.100*\"pilots\" + 0.048*\"better\" + 0.035*\"hit\" + 0.029*\"avoid\" + 0.027*\"sources\" + 0.027*\"house\" + 0.026*\"seattle\" + 0.025*\"white\" + 0.022*\"event\" + 0.021*\"fully\"'), (28, '0.067*\"heres\" + 0.034*\"story\" + 0.028*\"highly\" + 0.027*\"researchers\" + 0.023*\"came\" + 0.022*\"revenue\" + 0.020*\"asks\" + 0.020*\"serious\" + 0.017*\"jobs\" + 0.017*\"run\"'), (44, '0.266*\"disney\" + 0.128*\"2021\" + 0.040*\"facebook\" + 0.034*\"google\" + 0.024*\"subject\" + 0.024*\"final\" + 0.023*\"asked\" + 0.019*\"announced\" + 0.019*\"500\" + 0.015*\"search\"')]\n"
     ]
    }
   ],
   "source": [
    "for p in percentage:\n",
    "    id2word_m4 = id2word_m1    \n",
    "    id2word_m4.filter_extremes(no_below=5, no_above=p)\n",
    "    ldacorpus_m4 = [id2word_m4.doc2bow(doc) for doc in ldainput_m1]\n",
    "    tfidfcorpus_m4 = models.TfidfModel(ldacorpus_m4)\n",
    "    lda_m4 = models.ldamodel.LdaModel(corpus=tfidfcorpus_m4[ldacorpus_m4], id2word=id2word_m4, num_topics=49, random_state=40) \n",
    "    print (\"\\nModel with no words that occur more than in \",(p*100),\"% of the documents results in the following words:\\n\\n\")\n",
    "    print (lda_m4.print_topics())"
   ]
  },
  {
   "cell_type": "markdown",
   "id": "blessed-invitation",
   "metadata": {},
   "source": [
    "#### N-grams\n",
    "Including bigrams doesn't improve the model, therefore, use unigram only."
   ]
  },
  {
   "cell_type": "code",
   "execution_count": 72,
   "id": "innovative-collins",
   "metadata": {},
   "outputs": [
    {
     "name": "stderr",
     "output_type": "stream",
     "text": [
      "c:\\users\\tuski\\appdata\\local\\programs\\python\\python39\\lib\\site-packages\\ipykernel\\ipkernel.py:283: DeprecationWarning: `should_run_async` will not call `transform_cell` automatically in the future. Please pass the result to `transformed_cell` argument and any exception that happen during thetransform in `preprocessing_exc_tuple` in IPython 7.17 and above.\n",
      "  and should_run_async(code)\n"
     ]
    }
   ],
   "source": [
    "text_bigrams = [[\"_\".join(tup) for tup in nltk.ngrams(n.split(),2)] for n in text]"
   ]
  },
  {
   "cell_type": "code",
   "execution_count": 73,
   "id": "worse-geneva",
   "metadata": {},
   "outputs": [
    {
     "name": "stderr",
     "output_type": "stream",
     "text": [
      "c:\\users\\tuski\\appdata\\local\\programs\\python\\python39\\lib\\site-packages\\ipykernel\\ipkernel.py:283: DeprecationWarning: `should_run_async` will not call `transform_cell` automatically in the future. Please pass the result to `transformed_cell` argument and any exception that happen during thetransform in `preprocessing_exc_tuple` in IPython 7.17 and above.\n",
      "  and should_run_async(code)\n"
     ]
    }
   ],
   "source": [
    "assert len(text)==len(text_bigrams)\n",
    "text_uniandbigrams = []\n",
    "for a,b in zip([n.split() for n in text],text_bigrams):\n",
    "    text_uniandbigrams.append(a + b)"
   ]
  },
  {
   "cell_type": "code",
   "execution_count": 74,
   "id": "taken-diesel",
   "metadata": {},
   "outputs": [
    {
     "name": "stderr",
     "output_type": "stream",
     "text": [
      "c:\\users\\tuski\\appdata\\local\\programs\\python\\python39\\lib\\site-packages\\ipykernel\\ipkernel.py:283: DeprecationWarning: `should_run_async` will not call `transform_cell` automatically in the future. Please pass the result to `transformed_cell` argument and any exception that happen during thetransform in `preprocessing_exc_tuple` in IPython 7.17 and above.\n",
      "  and should_run_async(code)\n"
     ]
    },
    {
     "data": {
      "text/plain": [
       "[(39,\n",
       "  '0.026*\"soon\" + 0.019*\"quicktake\" + 0.017*\"issues\" + 0.017*\"2\" + 0.016*\"potential\" + 0.015*\"evidence\" + 0.013*\"extend\" + 0.011*\"management\" + 0.011*\"options\" + 0.011*\"russia\"'),\n",
       " (4,\n",
       "  '0.078*\"vaccines\" + 0.048*\"covid19_vaccines\" + 0.033*\"strategy\" + 0.033*\"treatment\" + 0.028*\"lawsuit\" + 0.022*\"shortages\" + 0.022*\"covid19\" + 0.018*\"focus\" + 0.016*\"announce\" + 0.015*\"moment\"'),\n",
       " (17,\n",
       "  '0.025*\"city\" + 0.021*\"“the\" + 0.021*\"16\" + 0.021*\"new_york\" + 0.020*\"york\" + 0.019*\"price\" + 0.019*\"meet\" + 0.016*\"initial\" + 0.016*\"california\" + 0.015*\"new\"'),\n",
       " (37,\n",
       "  '0.027*\"star\" + 0.022*\"investments\" + 0.021*\"last_week\" + 0.020*\"sunday\" + 0.020*\"daily\" + 0.020*\"election_results\" + 0.018*\"likely\" + 0.018*\"claims\" + 0.016*\"election\" + 0.015*\"results\"'),\n",
       " (47,\n",
       "  '0.063*\"delta\" + 0.027*\"members\" + 0.024*\"nail\" + 0.023*\"step\" + 0.019*\"official\" + 0.016*\"faces\" + 0.016*\"variant\" + 0.016*\"impact\" + 0.015*\"delta_variant\" + 0.014*\"november\"'),\n",
       " (43,\n",
       "  '0.058*\"series\" + 0.031*\"right\" + 0.026*\"19\" + 0.023*\"time\" + 0.018*\"night\" + 0.017*\"agency\" + 0.016*\"first_time\" + 0.015*\"seeks\" + 0.014*\"second\" + 0.013*\"hard\"'),\n",
       " (5,\n",
       "  '0.035*\"breaking\" + 0.026*\"holiday\" + 0.022*\"season\" + 0.019*\"older\" + 0.019*\"israel\" + 0.017*\"enough\" + 0.017*\"month\" + 0.017*\"air\" + 0.017*\"regulators\" + 0.016*\"microsoft\"'),\n",
       " (44,\n",
       "  '0.106*\"passengers\" + 0.054*\"february\" + 0.037*\"young\" + 0.032*\"based\" + 0.026*\"hit\" + 0.023*\"two_weeks\" + 0.023*\"50\" + 0.021*\"bonuses\" + 0.015*\"manufacturing\" + 0.015*\"capitol\"'),\n",
       " (18,\n",
       "  '0.042*\"recovery\" + 0.035*\"polish\" + 0.032*\"15\" + 0.020*\"richard\" + 0.019*\"looking\" + 0.018*\"next\" + 0.018*\"strong\" + 0.016*\"thing\" + 0.016*\"instead\" + 0.016*\"space\"'),\n",
       " (11,\n",
       "  '0.099*\"unvaccinated\" + 0.035*\"omicron\" + 0.034*\"put\" + 0.033*\"variant\" + 0.028*\"health\" + 0.020*\"got\" + 0.020*\"despite\" + 0.019*\"much\" + 0.018*\"child\" + 0.018*\"mandate\"'),\n",
       " (36,\n",
       "  '0.160*\"disney\" + 0.050*\"summer\" + 0.043*\"airlines\" + 0.042*\"american\" + 0.025*\"united_airlines\" + 0.019*\"cook\" + 0.019*\"tim\" + 0.018*\"expect\" + 0.017*\"tim_cook\" + 0.017*\"quest\"'),\n",
       " (41,\n",
       "  '0.040*\"use\" + 0.036*\"plane\" + 0.032*\"authorization\" + 0.032*\"emergency\" + 0.028*\"heres\" + 0.026*\"available\" + 0.022*\"emergency_use\" + 0.020*\"travel\" + 0.018*\"administration\" + 0.017*\"2022\"'),\n",
       " (32,\n",
       "  '0.039*\"need\" + 0.031*\"film\" + 0.024*\"watch\" + 0.020*\"11\" + 0.018*\"packages\" + 0.018*\"biggest\" + 0.018*\"working\" + 0.016*\"taken\" + 0.015*\"long\" + 0.014*\"app\"'),\n",
       " (16,\n",
       "  '0.078*\"insurance\" + 0.074*\"covid_vaccine\" + 0.053*\"covid\" + 0.034*\"story\" + 0.029*\"system\" + 0.027*\"per\" + 0.026*\"vaccine\" + 0.021*\"stronger\" + 0.021*\"united\" + 0.018*\"warning\"'),\n",
       " (14,\n",
       "  '0.044*\"best\" + 0.037*\"others\" + 0.028*\"better\" + 0.028*\"thats\" + 0.027*\"safe\" + 0.023*\"case\" + 0.017*\"late\" + 0.015*\"given\" + 0.015*\"paid\" + 0.014*\"land\"'),\n",
       " (9,\n",
       "  '0.027*\"showing\" + 0.025*\"experts\" + 0.024*\"order\" + 0.023*\"test\" + 0.020*\"employees_vaccinated\" + 0.020*\"different\" + 0.020*\"began\" + 0.020*\"vaccine\" + 0.018*\"effectiveness\" + 0.015*\"florida\"'),\n",
       " (20,\n",
       "  '0.036*\"target\" + 0.028*\"chief\" + 0.023*\"return\" + 0.022*\"eight\" + 0.022*\"via\" + 0.020*\"via_bw\" + 0.020*\"bw\" + 0.018*\"experience\" + 0.016*\"cnns\" + 0.016*\"executive\"'),\n",
       " (0,\n",
       "  '0.080*\"airport\" + 0.044*\"world\" + 0.027*\"policy\" + 0.025*\"fight\" + 0.019*\"agreed\" + 0.019*\"apple\" + 0.016*\"facebook\" + 0.015*\"selling\" + 0.015*\"around\" + 0.013*\"highest\"'),\n",
       " (3,\n",
       "  '0.184*\"pfizer\" + 0.041*\"pfizer_vaccine\" + 0.036*\"vaccine\" + 0.025*\"five\" + 0.022*\"rare\" + 0.021*\"children\" + 0.019*\"cdc\" + 0.018*\"access\" + 0.017*\"north\" + 0.014*\"risk\"'),\n",
       " (12,\n",
       "  '0.049*\"weekly\" + 0.048*\"12\" + 0.044*\"hire\" + 0.040*\"games\" + 0.031*\"service\" + 0.028*\"killed\" + 0.021*\"violence\" + 0.021*\"fourth\" + 0.020*\"names\" + 0.018*\"apple\"')]"
      ]
     },
     "execution_count": 74,
     "metadata": {},
     "output_type": "execute_result"
    }
   ],
   "source": [
    "id2word_m5 = corpora.Dictionary(text_uniandbigrams)\n",
    "id2word_m5.filter_extremes(no_below=5, no_above=0.7)\n",
    "ldacorpus_m5 = [id2word_m5.doc2bow(doc) for doc in text_uniandbigrams]\n",
    "tfidfcorpus_m5 = models.TfidfModel(ldacorpus_m5)\n",
    "lda_m5 = models.ldamodel.LdaModel(corpus=tfidfcorpus_m5[ldacorpus_m5],id2word=id2word_m5,num_topics=49, random_state=40)\n",
    "lda_m5.print_topics()"
   ]
  },
  {
   "cell_type": "markdown",
   "id": "seeing-mirror",
   "metadata": {},
   "source": [
    "#### Tuning alpha and eta\n",
    "I set both the alpha and eta to \"auto\", set iterations to 20 and passes to 5 to optimize the result."
   ]
  },
  {
   "cell_type": "code",
   "execution_count": 75,
   "id": "valuable-architecture",
   "metadata": {},
   "outputs": [
    {
     "name": "stderr",
     "output_type": "stream",
     "text": [
      "c:\\users\\tuski\\appdata\\local\\programs\\python\\python39\\lib\\site-packages\\ipykernel\\ipkernel.py:283: DeprecationWarning: `should_run_async` will not call `transform_cell` automatically in the future. Please pass the result to `transformed_cell` argument and any exception that happen during thetransform in `preprocessing_exc_tuple` in IPython 7.17 and above.\n",
      "  and should_run_async(code)\n"
     ]
    }
   ],
   "source": [
    "id2word_m6 = id2word_m5\n",
    "ldacorpus_m6 = ldacorpus_m5\n",
    "tfidfcorpus_m6 = models.TfidfModel(ldacorpus_m6)\n",
    "lda_m6 = models.ldamodel.LdaModel(corpus=tfidfcorpus_m6[ldacorpus_m6],\n",
    "                                  id2word=id2word_m6,\n",
    "                                  num_topics=49, \n",
    "                                  alpha='auto', \n",
    "                                  eta = 'auto',\n",
    "                                  passes=5,\n",
    "                                  iterations=20,\n",
    "                                  random_state=40)"
   ]
  },
  {
   "cell_type": "code",
   "execution_count": 76,
   "id": "loaded-potential",
   "metadata": {},
   "outputs": [
    {
     "name": "stdout",
     "output_type": "stream",
     "text": [
      "[(15, '0.110*\"monthly\" + 0.094*\"health_insurance\" + 0.054*\"nov\" + 0.049*\"100\" + 0.045*\"middle\" + 0.035*\"age\" + 0.029*\"starting_nov\" + 0.027*\"face\" + 0.024*\"half\" + 0.023*\"dozens\"'), (6, '0.068*\"music\" + 0.044*\"read\" + 0.025*\"20\" + 0.024*\"makers\" + 0.019*\"beyond\" + 0.019*\"gap\" + 0.018*\"built\" + 0.011*\"traders\" + 0.010*\"months_ago\" + 0.010*\"20_years\"'), (34, '0.092*\"tv\" + 0.025*\"annual\" + 0.023*\"worth\" + 0.022*\"helped\" + 0.020*\"36\" + 0.019*\"atlanta\" + 0.017*\"steve\" + 0.014*\"talk\" + 0.014*\"end_year\" + 0.014*\"whose\"'), (1, '0.048*\"canceled\" + 0.026*\"run\" + 0.026*\"conservative\" + 0.025*\"fifth\" + 0.023*\"town\" + 0.022*\"expensive\" + 0.021*\"arrested\" + 0.020*\"jobs\" + 0.017*\"two_years\" + 0.014*\"targeting\"'), (12, '0.058*\"weekly\" + 0.052*\"hire\" + 0.050*\"games\" + 0.026*\"violence\" + 0.025*\"fourth\" + 0.025*\"names\" + 0.023*\"cities\" + 0.021*\"paying\" + 0.019*\"mark\" + 0.016*\"credit\"'), (24, '0.054*\"wsjwhatsnow\" + 0.044*\"game\" + 0.029*\"means\" + 0.025*\"turning\" + 0.019*\"theres\" + 0.018*\"emissions\" + 0.018*\"moving\" + 0.014*\"hear\" + 0.013*\"jan\" + 0.013*\"advocates\"'), (16, '0.082*\"insurance\" + 0.079*\"covid_vaccine\" + 0.039*\"story\" + 0.034*\"system\" + 0.030*\"per\" + 0.029*\"covid\" + 0.023*\"united\" + 0.022*\"stronger\" + 0.019*\"warning\" + 0.014*\"united_states\"'), (44, '0.115*\"passengers\" + 0.060*\"february\" + 0.041*\"young\" + 0.037*\"based\" + 0.026*\"50\" + 0.025*\"two_weeks\" + 0.018*\"manufacturing\" + 0.017*\"sell\" + 0.017*\"prime\" + 0.014*\"17\"'), (4, '0.058*\"covid19_vaccines\" + 0.040*\"strategy\" + 0.040*\"treatment\" + 0.038*\"lawsuit\" + 0.034*\"vaccines\" + 0.026*\"shortages\" + 0.023*\"focus\" + 0.020*\"moment\" + 0.019*\"announce\" + 0.017*\"version\"'), (40, '0.037*\"production\" + 0.029*\"infections\" + 0.024*\"maker\" + 0.022*\"information\" + 0.022*\"without\" + 0.022*\"include\" + 0.020*\"decided\" + 0.017*\"hours\" + 0.016*\"breach\" + 0.016*\"fire\"'), (42, '0.052*\"app\" + 0.047*\"store\" + 0.045*\"shooting\" + 0.038*\"man\" + 0.038*\"received\" + 0.032*\"calls\" + 0.029*\"security\" + 0.028*\"china\" + 0.023*\"hong\" + 0.022*\"law\"'), (31, '0.074*\"covid19_vaccine\" + 0.054*\"booster\" + 0.052*\"shot\" + 0.047*\"shots\" + 0.043*\"vaccines\" + 0.035*\"7\" + 0.029*\"covid\" + 0.025*\"require\" + 0.024*\"booster_shots\" + 0.024*\"soon\"'), (5, '0.046*\"breaking\" + 0.030*\"holiday\" + 0.026*\"season\" + 0.026*\"major\" + 0.023*\"news\" + 0.023*\"enough\" + 0.023*\"microsoft\" + 0.022*\"older\" + 0.021*\"israel\" + 0.020*\"regulators\"'), (47, '0.031*\"variant\" + 0.031*\"national\" + 0.030*\"full\" + 0.027*\"members\" + 0.026*\"second\" + 0.023*\"shows\" + 0.022*\"nail\" + 0.022*\"toward\" + 0.021*\"step\" + 0.020*\"among\"'), (27, '0.188*\"best\" + 0.039*\"netflix\" + 0.031*\"right\" + 0.031*\"amazon\" + 0.028*\"know\" + 0.026*\"service\" + 0.019*\"media\" + 0.019*\"video\" + 0.018*\"large\" + 0.016*\"years\"'), (48, '0.078*\"fda\" + 0.063*\"2021\" + 0.040*\"expected\" + 0.032*\"5\" + 0.020*\"way\" + 0.020*\"days\" + 0.019*\"make\" + 0.018*\"access\" + 0.018*\"coming\" + 0.016*\"data\"'), (41, '0.039*\"travel\" + 0.038*\"use\" + 0.037*\"two\" + 0.030*\"heres\" + 0.027*\"friday\" + 0.027*\"plane\" + 0.026*\"next\" + 0.024*\"emergency\" + 0.024*\"starting\" + 0.023*\"authorization\"'), (20, '0.039*\"american\" + 0.033*\"target\" + 0.021*\"black\" + 0.021*\"getting\" + 0.019*\"end\" + 0.018*\"via\" + 0.017*\"trial\" + 0.017*\"take\" + 0.017*\"chief\" + 0.016*\"return\"'), (28, '0.035*\"coronavirus\" + 0.033*\"pandemic\" + 0.027*\"could\" + 0.026*\"health\" + 0.024*\"world\" + 0.024*\"may\" + 0.023*\"company\" + 0.022*\"effective\" + 0.021*\"day\" + 0.017*\"demand\"'), (23, '0.062*\"delta_air\" + 0.060*\"air_lines\" + 0.054*\"lines\" + 0.051*\"delta\" + 0.049*\"air\" + 0.032*\"vaccine\" + 0.030*\"buy\" + 0.027*\"covid19\" + 0.020*\"new\" + 0.020*\"says\"')]\n"
     ]
    },
    {
     "name": "stderr",
     "output_type": "stream",
     "text": [
      "c:\\users\\tuski\\appdata\\local\\programs\\python\\python39\\lib\\site-packages\\ipykernel\\ipkernel.py:283: DeprecationWarning: `should_run_async` will not call `transform_cell` automatically in the future. Please pass the result to `transformed_cell` argument and any exception that happen during thetransform in `preprocessing_exc_tuple` in IPython 7.17 and above.\n",
      "  and should_run_async(code)\n"
     ]
    }
   ],
   "source": [
    "topics = lda_m6.print_topics()\n",
    "print(topics)"
   ]
  },
  {
   "cell_type": "code",
   "execution_count": 77,
   "id": "innovative-anderson",
   "metadata": {},
   "outputs": [
    {
     "name": "stderr",
     "output_type": "stream",
     "text": [
      "c:\\users\\tuski\\appdata\\local\\programs\\python\\python39\\lib\\site-packages\\ipykernel\\ipkernel.py:283: DeprecationWarning: `should_run_async` will not call `transform_cell` automatically in the future. Please pass the result to `transformed_cell` argument and any exception that happen during thetransform in `preprocessing_exc_tuple` in IPython 7.17 and above.\n",
      "  and should_run_async(code)\n"
     ]
    },
    {
     "data": {
      "text/plain": [
       "[([(0.061544858, 'delta_air'),\n",
       "   (0.05994645, 'air_lines'),\n",
       "   (0.054301273, 'lines'),\n",
       "   (0.05141787, 'delta'),\n",
       "   (0.048599984, 'air'),\n",
       "   (0.031557314, 'vaccine'),\n",
       "   (0.029823607, 'buy'),\n",
       "   (0.026800977, 'covid19'),\n",
       "   (0.020428086, 'new'),\n",
       "   (0.019931871, 'says'),\n",
       "   (0.019286834, 'rt'),\n",
       "   (0.016610598, 'us'),\n",
       "   (0.015981155, 'said'),\n",
       "   (0.014633855, 'employees'),\n",
       "   (0.013528052, 'people'),\n",
       "   (0.013145961, '200'),\n",
       "   (0.01069174, 'week'),\n",
       "   (0.010649019, 'first'),\n",
       "   (0.010591709, 'one'),\n",
       "   (0.010523261, 'year')],\n",
       "  -3.0632341402477956),\n",
       " ([(0.03474702, 'coronavirus'),\n",
       "   (0.032674197, 'pandemic'),\n",
       "   (0.027029887, 'could'),\n",
       "   (0.026324378, 'health'),\n",
       "   (0.024412917, 'world'),\n",
       "   (0.023508875, 'may'),\n",
       "   (0.023095898, 'company'),\n",
       "   (0.022069538, 'effective'),\n",
       "   (0.020956807, 'day'),\n",
       "   (0.017347103, 'demand'),\n",
       "   (0.016148945, 'made'),\n",
       "   (0.015765715, 'help'),\n",
       "   (0.015550662, 'still'),\n",
       "   (0.015089512, 'since'),\n",
       "   (0.015053537, 'plans'),\n",
       "   (0.014718858, 'even'),\n",
       "   (0.013237889, '15'),\n",
       "   (0.0127266245, 'also'),\n",
       "   (0.012603373, 'found'),\n",
       "   (0.012237123, 'make')],\n",
       "  -4.65790114732546),\n",
       " ([(0.039198693, 'travel'),\n",
       "   (0.037684567, 'use'),\n",
       "   (0.036843013, 'two'),\n",
       "   (0.030090377, 'heres'),\n",
       "   (0.027002934, 'friday'),\n",
       "   (0.026575008, 'plane'),\n",
       "   (0.02636509, 'next'),\n",
       "   (0.024140842, 'emergency'),\n",
       "   (0.023802659, 'starting'),\n",
       "   (0.02332867, 'authorization'),\n",
       "   (0.02324734, 'month'),\n",
       "   (0.022423467, 'early'),\n",
       "   (0.02075831, 'available'),\n",
       "   (0.019088423, 'surge'),\n",
       "   (0.01834728, 'months'),\n",
       "   (0.01694555, 'wednesday'),\n",
       "   (0.016144674, 'emergency_use'),\n",
       "   (0.015745806, 'watch'),\n",
       "   (0.015500602, 'administration'),\n",
       "   (0.015146112, 'reported')],\n",
       "  -6.352171875414732),\n",
       " ([(0.038559057, 'american'),\n",
       "   (0.033211313, 'target'),\n",
       "   (0.020787708, 'black'),\n",
       "   (0.020685336, 'getting'),\n",
       "   (0.019258268, 'end'),\n",
       "   (0.01805351, 'via'),\n",
       "   (0.017337777, 'trial'),\n",
       "   (0.017201744, 'take'),\n",
       "   (0.016972875, 'chief'),\n",
       "   (0.015702916, 'return'),\n",
       "   (0.014981331, 'executive'),\n",
       "   (0.014811194, 'set'),\n",
       "   (0.013636222, 'bw'),\n",
       "   (0.013476137, 'another'),\n",
       "   (0.013017208, 'covid'),\n",
       "   (0.01198471, 'mass'),\n",
       "   (0.011930151, 'eight'),\n",
       "   (0.01186427, 'via_bw'),\n",
       "   (0.011800678, 'former'),\n",
       "   (0.01176711, 'last_year')],\n",
       "  -6.491559756074229),\n",
       " ([(0.07378348, 'covid19_vaccine'),\n",
       "   (0.053790387, 'booster'),\n",
       "   (0.051997423, 'shot'),\n",
       "   (0.047166687, 'shots'),\n",
       "   (0.042538743, 'vaccines'),\n",
       "   (0.03532646, '7'),\n",
       "   (0.029349437, 'covid'),\n",
       "   (0.024844263, 'require'),\n",
       "   (0.023669606, 'booster_shots'),\n",
       "   (0.02357509, 'soon'),\n",
       "   (0.022924487, 'vaccinated_covid19'),\n",
       "   (0.02052782, 'panel'),\n",
       "   (0.019695146, 'adults'),\n",
       "   (0.01879795, 'wave'),\n",
       "   (0.015520959, 'everything'),\n",
       "   (0.015500476, 'advisory'),\n",
       "   (0.013811656, 'fully'),\n",
       "   (0.012623076, 'americans'),\n",
       "   (0.010395405, 'vaccination'),\n",
       "   (0.010058539, 'cbseveningnews')],\n",
       "  -6.5957208176475985),\n",
       " ([(0.07843145, 'fda'),\n",
       "   (0.06339636, '2021'),\n",
       "   (0.040053193, 'expected'),\n",
       "   (0.03232457, '5'),\n",
       "   (0.01996846, 'way'),\n",
       "   (0.019577201, 'days'),\n",
       "   (0.019002747, 'make'),\n",
       "   (0.01771699, 'access'),\n",
       "   (0.017607348, 'coming'),\n",
       "   (0.016396485, 'data'),\n",
       "   (0.015488611, 'support'),\n",
       "   (0.015428729, 'giant'),\n",
       "   (0.015199081, 'every'),\n",
       "   (0.014919947, 'countries'),\n",
       "   (0.0147904055, 'time'),\n",
       "   (0.014689702, '13'),\n",
       "   (0.013985341, 'products'),\n",
       "   (0.012996965, 'pause'),\n",
       "   (0.012692615, 'four'),\n",
       "   (0.012402355, 'good')],\n",
       "  -7.198255454355721),\n",
       " ([(0.031000251, 'variant'),\n",
       "   (0.03068564, 'national'),\n",
       "   (0.03034985, 'full'),\n",
       "   (0.0271373, 'members'),\n",
       "   (0.025767058, 'second'),\n",
       "   (0.023390956, 'shows'),\n",
       "   (0.021907993, 'nail'),\n",
       "   (0.021633409, 'toward'),\n",
       "   (0.021150906, 'step'),\n",
       "   (0.019788062, 'among'),\n",
       "   (0.01798293, 'due'),\n",
       "   (0.017390719, 'official'),\n",
       "   (0.016071988, 'monday'),\n",
       "   (0.015279339, 'faces'),\n",
       "   (0.015272564, 'impact'),\n",
       "   (0.014909091, 'union'),\n",
       "   (0.014137814, 'delta_variant'),\n",
       "   (0.013280144, 'committee'),\n",
       "   (0.0132131325, 'vote'),\n",
       "   (0.013150575, 'uk')],\n",
       "  -8.505316229694918),\n",
       " ([(0.18785308, 'best'),\n",
       "   (0.039016705, 'netflix'),\n",
       "   (0.03128363, 'right'),\n",
       "   (0.03071806, 'amazon'),\n",
       "   (0.02846742, 'know'),\n",
       "   (0.025881723, 'service'),\n",
       "   (0.019494923, 'media'),\n",
       "   (0.01928062, 'video'),\n",
       "   (0.018166473, 'large'),\n",
       "   (0.016365899, 'years'),\n",
       "   (0.016217176, 'come'),\n",
       "   (0.01586259, 'released'),\n",
       "   (0.01578981, 'start'),\n",
       "   (0.015488098, 'penalty'),\n",
       "   (0.01421783, 'want'),\n",
       "   (0.014197297, 'social'),\n",
       "   (0.0131502375, 'turn'),\n",
       "   (0.011985627, 'illness'),\n",
       "   (0.011402038, '“we'),\n",
       "   (0.011383505, 'message')],\n",
       "  -9.67225994626952),\n",
       " ([(0.11676072, 'unvaccinated'),\n",
       "   (0.04451451, 'omicron'),\n",
       "   (0.0431296, 'put'),\n",
       "   (0.029441029, 'mask'),\n",
       "   (0.025856923, 'got'),\n",
       "   (0.024875937, 'much'),\n",
       "   (0.0244202, 'despite'),\n",
       "   (0.024137262, 'mandate'),\n",
       "   (0.021956433, 'child'),\n",
       "   (0.021540234, 'makes'),\n",
       "   (0.020114636, 'final'),\n",
       "   (0.019930571, 'omicron_variant'),\n",
       "   (0.019526811, 'variant'),\n",
       "   (0.017632557, 'health_officials'),\n",
       "   (0.014980524, 'christmas'),\n",
       "   (0.014490822, 'essential'),\n",
       "   (0.012522446, 'bloombergtv'),\n",
       "   (0.010590788, 'health'),\n",
       "   (0.010518539, 'pregnant'),\n",
       "   (0.009935667, 'rt_bloombergtv')],\n",
       "  -11.848371339939762),\n",
       " ([(0.052480135, 'app'),\n",
       "   (0.046950977, 'store'),\n",
       "   (0.045020934, 'shooting'),\n",
       "   (0.03809719, 'man'),\n",
       "   (0.03757398, 'received'),\n",
       "   (0.03198418, 'calls'),\n",
       "   (0.028932545, 'security'),\n",
       "   (0.02806301, 'china'),\n",
       "   (0.022662116, 'hong'),\n",
       "   (0.021928422, 'law'),\n",
       "   (0.019235536, 'related'),\n",
       "   (0.018114625, 'rules'),\n",
       "   (0.017318508, 'police'),\n",
       "   (0.01708374, 'coronavirus_pandemic'),\n",
       "   (0.016733022, 'hong_kong'),\n",
       "   (0.016733022, 'kong'),\n",
       "   (0.016723095, 'texas'),\n",
       "   (0.01500769, 'theme'),\n",
       "   (0.011632254, 'response'),\n",
       "   (0.01141531, 'reporting')],\n",
       "  -11.895646788207873),\n",
       " ([(0.046371996, 'breaking'),\n",
       "   (0.030382078, 'holiday'),\n",
       "   (0.026165, 'season'),\n",
       "   (0.026130997, 'major'),\n",
       "   (0.023414964, 'news'),\n",
       "   (0.023025066, 'enough'),\n",
       "   (0.022515452, 'microsoft'),\n",
       "   (0.021992266, 'older'),\n",
       "   (0.021390684, 'israel'),\n",
       "   (0.020375168, 'regulators'),\n",
       "   (0.017962005, 'increased'),\n",
       "   (0.017908469, '3'),\n",
       "   (0.017474854, 'concerns'),\n",
       "   (0.016078526, 'holiday_season'),\n",
       "   (0.015539564, 'pilot'),\n",
       "   (0.015523028, 'recent'),\n",
       "   (0.01539412, 'food'),\n",
       "   (0.014730986, 'justice'),\n",
       "   (0.0139143905, 'develop'),\n",
       "   (0.013399368, 'breaking_news')],\n",
       "  -12.274350332649522),\n",
       " ([(0.07983427, 'airlines'),\n",
       "   (0.049629103, 'flights'),\n",
       "   (0.0361055, 'places'),\n",
       "   (0.029709527, 'weekend'),\n",
       "   (0.029129969, 'flying'),\n",
       "   (0.024002282, 'killed'),\n",
       "   (0.01677186, 'rebound'),\n",
       "   (0.016199589, 'low'),\n",
       "   (0.015134378, 'normal'),\n",
       "   (0.0150777055, 'close'),\n",
       "   (0.013360865, 'industry'),\n",
       "   (0.012431063, 'travel'),\n",
       "   (0.012040279, 'july'),\n",
       "   (0.011476708, 'partner'),\n",
       "   (0.011376602, 'june'),\n",
       "   (0.010953255, 'gets'),\n",
       "   (0.010371828, 'country'),\n",
       "   (0.010106827, 'check'),\n",
       "   (0.009908985, 'purchase'),\n",
       "   (0.009669318, 'led')],\n",
       "  -12.312042256725434),\n",
       " ([(0.03256114, 'opinion'),\n",
       "   (0.031793818, 'drug'),\n",
       "   (0.028159317, 'going'),\n",
       "   (0.02737035, 'change'),\n",
       "   (0.026107946, 'aren’t'),\n",
       "   (0.02593499, 'must'),\n",
       "   (0.024876641, 'podcast'),\n",
       "   (0.024533233, 'writes'),\n",
       "   (0.024041908, 'explains'),\n",
       "   (0.022836726, 'recommended'),\n",
       "   (0.021810796, 'shares'),\n",
       "   (0.021230657, 'episode'),\n",
       "   (0.019873206, 'climate'),\n",
       "   (0.019651292, 'levels'),\n",
       "   (0.019205304, 'hires'),\n",
       "   (0.019069348, 'bad'),\n",
       "   (0.017560706, 'lost'),\n",
       "   (0.017381497, 'possible'),\n",
       "   (0.014287971, 'listen'),\n",
       "   (0.014107528, 'launch')],\n",
       "  -12.33878045102216),\n",
       " ([(0.026978193, 'live'),\n",
       "   (0.025295462, 'severe'),\n",
       "   (0.023065446, 'motors'),\n",
       "   (0.022769526, 'general_motors'),\n",
       "   (0.021488898, 'general'),\n",
       "   (0.019909993, 'repeat'),\n",
       "   (0.019503474, 'india'),\n",
       "   (0.019447884, 'lead'),\n",
       "   (0.019076345, 'well'),\n",
       "   (0.017822187, 'protect'),\n",
       "   (0.017266203, 'sources'),\n",
       "   (0.01571233, 'increase'),\n",
       "   (0.014492942, 'play'),\n",
       "   (0.013968363, 'asks'),\n",
       "   (0.013879779, 'follow'),\n",
       "   (0.012668321, 'march'),\n",
       "   (0.012010834, 'sources_say'),\n",
       "   (0.011222245, 'businesses'),\n",
       "   (0.011135576, 'added'),\n",
       "   (0.011121288, 'infection')],\n",
       "  -13.892313036645383),\n",
       " ([(0.044370294, 'need'),\n",
       "   (0.03764238, 'film'),\n",
       "   (0.028289286, 'biggest'),\n",
       "   (0.027990004, 'working'),\n",
       "   (0.022439511, 'long'),\n",
       "   (0.021480493, 'packages'),\n",
       "   (0.019059712, 'taken'),\n",
       "   (0.017245414, 'battle'),\n",
       "   (0.017078798, 'team'),\n",
       "   (0.016503552, 'ask'),\n",
       "   (0.015676746, 'hollywood'),\n",
       "   (0.015326736, 'know'),\n",
       "   (0.0138732, 'stars'),\n",
       "   (0.013835574, 'documentary'),\n",
       "   (0.012986563, 'don’t'),\n",
       "   (0.012675631, 'israeli'),\n",
       "   (0.012449902, 'wealth'),\n",
       "   (0.011448143, 'helping'),\n",
       "   (0.011319859, 'job'),\n",
       "   (0.010049605, 'held')],\n",
       "  -13.90161833976681),\n",
       " ([(0.19062933, 'disney'),\n",
       "   (0.065131046, 'summer'),\n",
       "   (0.029842488, 'united_airlines'),\n",
       "   (0.027765144, 'expect'),\n",
       "   (0.02313225, 'cook'),\n",
       "   (0.022774676, 'share'),\n",
       "   (0.022569919, 'tim'),\n",
       "   (0.020933507, 'tim_cook'),\n",
       "   (0.02066186, 'united'),\n",
       "   (0.020091536, 'quest'),\n",
       "   (0.019272745, '90'),\n",
       "   (0.01563263, 'little'),\n",
       "   (0.0154759, 'apple'),\n",
       "   (0.015185423, 'later'),\n",
       "   (0.015004238, 'round'),\n",
       "   (0.0117508415, 'extra'),\n",
       "   (0.011719601, 'commitment'),\n",
       "   (0.010494718, 'airlines'),\n",
       "   (0.009519623, 'remains'),\n",
       "   (0.008434123, 'ceo_tim')],\n",
       "  -13.946586291143445),\n",
       " ([(0.09051149, 'doses'),\n",
       "   (0.068626724, 'charge'),\n",
       "   (0.0684676, '11'),\n",
       "   (0.060268234, 'third'),\n",
       "   (0.023196828, 'senior'),\n",
       "   (0.021274852, 'millions'),\n",
       "   (0.01645801, 'dollars'),\n",
       "   (0.016224062, 'rt_bw'),\n",
       "   (0.015898094, 'receiving'),\n",
       "   (0.015811596, 'nbcnightlynews'),\n",
       "   (0.015797481, 'deliver'),\n",
       "   (0.0152167, 'billions'),\n",
       "   (0.0135997115, 'covid19_vaccine'),\n",
       "   (0.013426517, 'unit'),\n",
       "   (0.01185517, 'wealth_management'),\n",
       "   (0.01090478, 'try'),\n",
       "   (0.010640235, 'doses_covid19'),\n",
       "   (0.009223978, 'left'),\n",
       "   (0.00906511, 'suspected'),\n",
       "   (0.008807509, 'probe')],\n",
       "  -13.986171987498198),\n",
       " ([(0.032590635, 'showing'),\n",
       "   (0.03245461, 'test'),\n",
       "   (0.02740009, 'experts'),\n",
       "   (0.025618784, 'different'),\n",
       "   (0.025236333, 'began'),\n",
       "   (0.024495779, 'employees_vaccinated'),\n",
       "   (0.023034276, 'florida'),\n",
       "   (0.02195998, 'effectiveness'),\n",
       "   (0.018953167, 'mandates'),\n",
       "   (0.015949382, 'campaign'),\n",
       "   (0.015682055, 'requirement'),\n",
       "   (0.013902539, 'beach'),\n",
       "   (0.013808491, 'experts_say'),\n",
       "   (0.013758555, 'vaccine_mandates'),\n",
       "   (0.012854611, 'pandemic_began'),\n",
       "   (0.012413776, 'embrace'),\n",
       "   (0.012178483, 'school'),\n",
       "   (0.011461344, 'nbcnews'),\n",
       "   (0.011366296, 'order'),\n",
       "   (0.010161508, 'schools')],\n",
       "  -14.296400731696021),\n",
       " ([(0.04645421, 'city'),\n",
       "   (0.028885959, 'new_york'),\n",
       "   (0.028879372, 'york'),\n",
       "   (0.027409535, 'california'),\n",
       "   (0.026867589, 'saying'),\n",
       "   (0.023329835, 'price'),\n",
       "   (0.023325805, '“the'),\n",
       "   (0.02259993, '16'),\n",
       "   (0.017325642, 'community'),\n",
       "   (0.01714141, 'initial'),\n",
       "   (0.01580638, 'research'),\n",
       "   (0.015604985, 'water'),\n",
       "   (0.015369161, 'seeking'),\n",
       "   (0.0142737925, 'questions'),\n",
       "   (0.012863391, 'groups'),\n",
       "   (0.012154833, 'cut'),\n",
       "   (0.012070701, 'paper'),\n",
       "   (0.011470571, 'managed'),\n",
       "   (0.011304766, 'adopt'),\n",
       "   (0.010200846, 'linked')],\n",
       "  -14.29910679808134),\n",
       " ([(0.14279547, 'johnson'),\n",
       "   (0.07977015, 'johnson_amp'),\n",
       "   (0.07656717, 'amp'),\n",
       "   (0.066056855, 'amp_johnson'),\n",
       "   (0.021573994, 'facing'),\n",
       "   (0.014626068, 'wont'),\n",
       "   (0.013917421, 'finds'),\n",
       "   (0.012051524, 'box'),\n",
       "   (0.011703005, 'think'),\n",
       "   (0.010835604, 'building'),\n",
       "   (0.0107980175, 'finally'),\n",
       "   (0.010164656, 'mean'),\n",
       "   (0.010126325, 'cloud'),\n",
       "   (0.0097683305, 'filed'),\n",
       "   (0.008657313, 'scale'),\n",
       "   (0.008469467, 'heard'),\n",
       "   (0.007804847, 'jersey'),\n",
       "   (0.0077842805, 'new_jersey'),\n",
       "   (0.00749144, 'running'),\n",
       "   (0.0074012144, 'decide')],\n",
       "  -14.3064714626039),\n",
       " ([(0.082001075, 'insurance'),\n",
       "   (0.07866471, 'covid_vaccine'),\n",
       "   (0.039474417, 'story'),\n",
       "   (0.033646997, 'system'),\n",
       "   (0.029568944, 'per'),\n",
       "   (0.029367337, 'covid'),\n",
       "   (0.022566922, 'united'),\n",
       "   (0.022172749, 'stronger'),\n",
       "   (0.019143041, 'warning'),\n",
       "   (0.0140742855, 'united_states'),\n",
       "   (0.013837758, 'operating'),\n",
       "   (0.01207748, 'nearly_two'),\n",
       "   (0.011670988, 'fell'),\n",
       "   (0.010847971, 'workers_get'),\n",
       "   (0.01049796, 'limited'),\n",
       "   (0.0102432165, 'states'),\n",
       "   (0.009818608, 'two_months'),\n",
       "   (0.009025245, 'university'),\n",
       "   (0.0086102765, 'secret'),\n",
       "   (0.007149724, 'gains')],\n",
       "  -14.751541511195171),\n",
       " ([(0.053449422, 'streaming'),\n",
       "   (0.03551755, 'requirements'),\n",
       "   (0.029202351, 'devices'),\n",
       "   (0.029014349, 'see'),\n",
       "   (0.024617504, 'idea'),\n",
       "   (0.023355154, 'avoid'),\n",
       "   (0.022565162, 'court'),\n",
       "   (0.021799251, 'corporations'),\n",
       "   (0.021458693, 'process'),\n",
       "   (0.021370452, 'charges'),\n",
       "   (0.020513872, 'able'),\n",
       "   (0.020350827, 'allowed'),\n",
       "   (0.020124184, 'fans'),\n",
       "   (0.019766903, 'expand'),\n",
       "   (0.019765342, 'offer'),\n",
       "   (0.019671805, 'platform'),\n",
       "   (0.016071012, 'decade'),\n",
       "   (0.012823415, 'hasn’t'),\n",
       "   (0.012543356, 'site'),\n",
       "   (0.012174637, 'mobile')],\n",
       "  -14.876846496831048),\n",
       " ([(0.082816064, 'children'),\n",
       "   (0.06698641, 'ages'),\n",
       "   (0.05174786, 'kids'),\n",
       "   (0.045016993, 'defense'),\n",
       "   (0.03570244, 'protection'),\n",
       "   (0.027853524, 'rare'),\n",
       "   (0.021300975, 'approach'),\n",
       "   (0.019887928, 'taking'),\n",
       "   (0.018188506, 'parents'),\n",
       "   (0.016580796, 'cbsmornings'),\n",
       "   (0.016249968, 'first_major'),\n",
       "   (0.016242485, 'medical'),\n",
       "   (0.016199104, 'rt_cbsmornings'),\n",
       "   (0.013925201, 'begun'),\n",
       "   (0.013045368, 'started'),\n",
       "   (0.012316148, 'affecting'),\n",
       "   (0.0103765065, 'asking'),\n",
       "   (0.0093419645, 'kick'),\n",
       "   (0.008921352, 'vaccinate'),\n",
       "   (0.008837047, 'threat')],\n",
       "  -14.961863240325554),\n",
       " ([(0.08136469, 'testing'),\n",
       "   (0.06476047, 'things'),\n",
       "   (0.044976294, 'online'),\n",
       "   (0.031668287, 'boosters'),\n",
       "   (0.022991432, 'speaks'),\n",
       "   (0.02226841, 'reality'),\n",
       "   (0.022194916, 'shopping'),\n",
       "   (0.019922327, 'opened'),\n",
       "   (0.019517293, 'eligible'),\n",
       "   (0.017374929, 'sent'),\n",
       "   (0.013645849, 'lot'),\n",
       "   (0.013574547, 'subscribers'),\n",
       "   (0.013383829, 'important'),\n",
       "   (0.012803888, 'changed'),\n",
       "   (0.012202077, 'canada'),\n",
       "   (0.011587563, 'didn’t'),\n",
       "   (0.0111886095, 'together'),\n",
       "   (0.011056168, 'according_memo'),\n",
       "   (0.009723181, 'future'),\n",
       "   (0.009467529, 'vision')],\n",
       "  -15.152882690363667),\n",
       " ([(0.060652647, 'spokesperson'),\n",
       "   (0.031540003, 'additional'),\n",
       "   (0.030740175, 'april'),\n",
       "   (0.02387968, 'within'),\n",
       "   (0.023120563, 'privacy'),\n",
       "   (0.021058027, 'sale'),\n",
       "   (0.02049871, 'internet'),\n",
       "   (0.020012718, 'consumers'),\n",
       "   (0.019430216, 'enter'),\n",
       "   (0.019094098, 'question'),\n",
       "   (0.018589769, 'todayshow'),\n",
       "   (0.01819697, 'rt_todayshow'),\n",
       "   (0.018012937, 'status'),\n",
       "   (0.01708421, 'ending'),\n",
       "   (0.016353609, 'provide'),\n",
       "   (0.015333112, 'potentially'),\n",
       "   (0.01533204, '30'),\n",
       "   (0.014788054, 'spring'),\n",
       "   (0.012634635, 'company_says'),\n",
       "   (0.012197351, 'add')],\n",
       "  -15.211093356790688),\n",
       " ([(0.073153116, 'series'),\n",
       "   (0.040417485, 'thursday'),\n",
       "   (0.03103744, '19'),\n",
       "   (0.022351753, 'night'),\n",
       "   (0.021572571, 'agency'),\n",
       "   (0.020688348, 'calling'),\n",
       "   (0.02028757, 'first_time'),\n",
       "   (0.018030694, 'seeks'),\n",
       "   (0.016366238, 'hard'),\n",
       "   (0.014671108, 'unveiled'),\n",
       "   (0.01430422, 'urging'),\n",
       "   (0.014240239, 'thanks'),\n",
       "   (0.013875793, 'time'),\n",
       "   (0.013782513, 'sweeping'),\n",
       "   (0.013323695, 'problem'),\n",
       "   (0.0132672675, 'action'),\n",
       "   (0.013138345, 'scientists'),\n",
       "   (0.013066093, 'keeping'),\n",
       "   (0.012555885, 'blocking'),\n",
       "   (0.011978521, 'feel')],\n",
       "  -15.263185830721417),\n",
       " ([(0.05718469, 'died'),\n",
       "   (0.043559723, 'profit'),\n",
       "   (0.040710207, 'nov_1'),\n",
       "   (0.034780692, 'company’s'),\n",
       "   (0.029867688, 'movie'),\n",
       "   (0.029699674, 'safety'),\n",
       "   (0.024847161, 'researchers'),\n",
       "   (0.02178457, 'old'),\n",
       "   (0.020703278, 'partnership'),\n",
       "   (0.019567663, 'woman'),\n",
       "   (0.017168228, 'planning'),\n",
       "   (0.016318874, 'years_old'),\n",
       "   (0.015489691, 'actor'),\n",
       "   (0.0144669525, '400'),\n",
       "   (0.011950708, 'soaring'),\n",
       "   (0.010779895, 'apple'),\n",
       "   (0.010649352, 'becoming_first'),\n",
       "   (0.010322929, 'source'),\n",
       "   (0.010032293, 'lawyer'),\n",
       "   (0.0096448865, 'sold')],\n",
       "  -15.402381613750055),\n",
       " ([(0.109955855, 'monthly'),\n",
       "   (0.09366121, 'health_insurance'),\n",
       "   (0.05424255, 'nov'),\n",
       "   (0.048674084, '100'),\n",
       "   (0.044722006, 'middle'),\n",
       "   (0.034975924, 'age'),\n",
       "   (0.028918153, 'starting_nov'),\n",
       "   (0.026690746, 'face'),\n",
       "   (0.02396889, 'half'),\n",
       "   (0.022609683, 'dozens'),\n",
       "   (0.012324642, 'military'),\n",
       "   (0.010958232, 'course'),\n",
       "   (0.010036375, 'seeing'),\n",
       "   (0.005680343, 'theory'),\n",
       "   (0.0055966107, 'forces'),\n",
       "   (0.0037143927, 'starting'),\n",
       "   (0.0035727397, 'critical_race'),\n",
       "   (0.003571108, 'cracking'),\n",
       "   (0.0035678386, 'race_theory'),\n",
       "   (0.003325887, 'counts')],\n",
       "  -15.522169259470262),\n",
       " ([(0.043748893, 'case'),\n",
       "   (0.041948657, 'others'),\n",
       "   (0.034487672, 'thats'),\n",
       "   (0.0323178, 'better'),\n",
       "   (0.030339515, 'safe'),\n",
       "   (0.01980954, 'late'),\n",
       "   (0.018341502, 'paid'),\n",
       "   (0.017750602, 'hundreds'),\n",
       "   (0.0170145, 'given'),\n",
       "   (0.015818385, 'land'),\n",
       "   (0.015401806, 'opening'),\n",
       "   (0.015195363, 'discuss'),\n",
       "   (0.014206749, 'trading'),\n",
       "   (0.013349927, 'profits'),\n",
       "   (0.012891091, 'bitcoin'),\n",
       "   (0.012272548, 'search'),\n",
       "   (0.01221457, 'unusual'),\n",
       "   (0.011689428, 'join'),\n",
       "   (0.011608112, 'services'),\n",
       "   (0.010705926, 'build')],\n",
       "  -15.55158545021476),\n",
       " ([(0.06760311, 'music'),\n",
       "   (0.044059478, 'read'),\n",
       "   (0.024711076, '20'),\n",
       "   (0.024299417, 'makers'),\n",
       "   (0.018759029, 'beyond'),\n",
       "   (0.018549545, 'gap'),\n",
       "   (0.017889064, 'built'),\n",
       "   (0.010971434, 'traders'),\n",
       "   (0.01013042, 'months_ago'),\n",
       "   (0.01011161, '20_years'),\n",
       "   (0.009899657, 'diversity'),\n",
       "   (0.009407846, '“it'),\n",
       "   (0.009217693, 'read_big'),\n",
       "   (0.008955191, 'big_take'),\n",
       "   (0.008469688, 'ago'),\n",
       "   (0.008393971, 'friend'),\n",
       "   (0.0075884303, 'jon'),\n",
       "   (0.006225025, 'diverse'),\n",
       "   (0.0058944323, 'take'),\n",
       "   (0.0055532856, 'crimes')],\n",
       "  -15.6662360512322),\n",
       " ([(0.16695614, 'apple'),\n",
       "   (0.02344118, 'software'),\n",
       "   (0.022943174, 'markgurman'),\n",
       "   (0.022240117, 'bonds'),\n",
       "   (0.02167338, 'give'),\n",
       "   (0.021426113, 'allegedly'),\n",
       "   (0.020357193, 'power'),\n",
       "   (0.017134337, 'know'),\n",
       "   (0.01657952, 'stocks'),\n",
       "   (0.016361075, 'seek'),\n",
       "   (0.015271877, 'development'),\n",
       "   (0.014772937, 'didnt'),\n",
       "   (0.014596027, 'morning'),\n",
       "   (0.013122683, 'investigation'),\n",
       "   (0.012808409, 'pills'),\n",
       "   (0.011071669, 'us_stocks'),\n",
       "   (0.010427148, 'regular'),\n",
       "   (0.010118294, 'regulator'),\n",
       "   (0.009918159, 'charged'),\n",
       "   (0.009828143, 'increases')],\n",
       "  -15.697264962859203),\n",
       " ([(0.036363915, 'care'),\n",
       "   (0.036203716, '1000'),\n",
       "   (0.03258266, 'health_care'),\n",
       "   (0.028409548, 'place'),\n",
       "   (0.025538186, 'joe'),\n",
       "   (0.022962097, 'certain'),\n",
       "   (0.022795754, 'earlier'),\n",
       "   (0.022506155, 'trend'),\n",
       "   (0.019332724, 'john'),\n",
       "   (0.018387154, 'light'),\n",
       "   (0.018230114, 'current'),\n",
       "   (0.018165644, 'joe_biden'),\n",
       "   (0.017570034, 'couldn’t'),\n",
       "   (0.015525527, 'contract'),\n",
       "   (0.014557313, 'signs'),\n",
       "   (0.013842023, 'asian'),\n",
       "   (0.013449573, 'reached'),\n",
       "   (0.0133603215, 'agreement'),\n",
       "   (0.01316124, 'pres'),\n",
       "   (0.012846586, 'announces')],\n",
       "  -15.718077240702055),\n",
       " ([(0.046185937, 'recovery'),\n",
       "   (0.03697094, 'polish'),\n",
       "   (0.03269204, 'making'),\n",
       "   (0.022824548, 'looking'),\n",
       "   (0.022587564, 'richard'),\n",
       "   (0.020013183, 'space'),\n",
       "   (0.019984132, 'strong'),\n",
       "   (0.018780023, 'thing'),\n",
       "   (0.01872074, 'using'),\n",
       "   (0.01822314, 'instead'),\n",
       "   (0.017891385, 'giving'),\n",
       "   (0.015426178, 'payments'),\n",
       "   (0.015021848, 'division'),\n",
       "   (0.013187025, 'stock'),\n",
       "   (0.013063069, 'martin'),\n",
       "   (0.011789799, 'boost'),\n",
       "   (0.009740595, 'nation'),\n",
       "   (0.00945566, 'anyone'),\n",
       "   (0.009040428, 'athletes'),\n",
       "   (0.008992205, 'issue')],\n",
       "  -15.833414723779189),\n",
       " ([(0.025318667, 'potential'),\n",
       "   (0.02407553, 'quicktake'),\n",
       "   (0.023940416, 'issues'),\n",
       "   (0.018420435, 'evidence'),\n",
       "   (0.01570209, 'extend'),\n",
       "   (0.014862216, 'raise'),\n",
       "   (0.01442462, 'options'),\n",
       "   (0.014244376, 'address'),\n",
       "   (0.013761169, 'control'),\n",
       "   (0.013646053, 'russia'),\n",
       "   (0.013330505, 'company_said'),\n",
       "   (0.013016053, 'break'),\n",
       "   (0.012928823, 'local'),\n",
       "   (0.01255812, 'force'),\n",
       "   (0.012448284, 'failed'),\n",
       "   (0.012128995, 'grants'),\n",
       "   (0.011581566, 'created'),\n",
       "   (0.011550524, 'lawsuits'),\n",
       "   (0.011364321, 'ways'),\n",
       "   (0.010642332, 'huge')],\n",
       "  -15.860030117862028),\n",
       " ([(0.0413863, 'update'),\n",
       "   (0.027039936, '18'),\n",
       "   (0.026883518, 'stay'),\n",
       "   (0.020392613, 'inside'),\n",
       "   (0.01984319, 'world’s'),\n",
       "   (0.019345451, 'mother'),\n",
       "   (0.016842991, 'outside'),\n",
       "   (0.016657516, 'girl'),\n",
       "   (0.016223347, 'date'),\n",
       "   (0.01531152, 'learned'),\n",
       "   (0.015000669, 'person'),\n",
       "   (0.0145653365, 'suing'),\n",
       "   (0.0141560845, 'police_say'),\n",
       "   (0.0140396925, 'targets'),\n",
       "   (0.013013931, 'double'),\n",
       "   (0.012904096, 'analysts'),\n",
       "   (0.012699563, 'near'),\n",
       "   (0.012485278, 'worked'),\n",
       "   (0.01240234, 'drive'),\n",
       "   (0.011377183, 'models')],\n",
       "  -16.00180281281006),\n",
       " ([(0.03548243, 'last_week'),\n",
       "   (0.031014377, 'star'),\n",
       "   (0.026957694, 'results'),\n",
       "   (0.024673728, 'investments'),\n",
       "   (0.0243953, 'sunday'),\n",
       "   (0.02389687, 'claims'),\n",
       "   (0.023637163, 'likely'),\n",
       "   (0.023168081, 'election'),\n",
       "   (0.022606678, 'daily'),\n",
       "   (0.021497456, 'election_results'),\n",
       "   (0.01963284, 'white'),\n",
       "   (0.018271606, 'white_house'),\n",
       "   (0.014659035, 'appears'),\n",
       "   (0.013546196, 'never'),\n",
       "   (0.012930228, 'stepping'),\n",
       "   (0.012689386, 'explore'),\n",
       "   (0.012141222, 'coronavirus_vaccines'),\n",
       "   (0.011740822, 'dc'),\n",
       "   (0.01142587, 'effects'),\n",
       "   (0.010829994, 'supporters')],\n",
       "  -16.128447962835548),\n",
       " ([(0.057551876, 'covid19_vaccines'),\n",
       "   (0.04028075, 'strategy'),\n",
       "   (0.039988756, 'treatment'),\n",
       "   (0.03802034, 'lawsuit'),\n",
       "   (0.03444878, 'vaccines'),\n",
       "   (0.026158825, 'shortages'),\n",
       "   (0.022977266, 'focus'),\n",
       "   (0.019531, 'moment'),\n",
       "   (0.01949879, 'announce'),\n",
       "   (0.017269978, 'version'),\n",
       "   (0.016689928, 'ground'),\n",
       "   (0.015861735, 'violent'),\n",
       "   (0.015570799, 'believe'),\n",
       "   (0.01281408, 'prepandemic'),\n",
       "   (0.012251498, 'preliminary'),\n",
       "   (0.011784415, 'brought'),\n",
       "   (0.010014603, 'control'),\n",
       "   (0.009439636, 'estimates'),\n",
       "   (0.009010252, 'cnn'),\n",
       "   (0.008288759, 'criminal')],\n",
       "  -16.24795081796783),\n",
       " ([(0.037151746, 'production'),\n",
       "   (0.028649222, 'infections'),\n",
       "   (0.024181863, 'maker'),\n",
       "   (0.022144988, 'information'),\n",
       "   (0.021572515, 'without'),\n",
       "   (0.021552995, 'include'),\n",
       "   (0.01997851, 'decided'),\n",
       "   (0.017030789, 'hours'),\n",
       "   (0.016355911, 'breach'),\n",
       "   (0.015756432, 'fire'),\n",
       "   (0.0141836945, 'significant'),\n",
       "   (0.01392466, 'new_data'),\n",
       "   (0.012720175, 'appear'),\n",
       "   (0.012581859, 'founder'),\n",
       "   (0.012344348, 'conditions'),\n",
       "   (0.012120822, 'accounts'),\n",
       "   (0.010593662, 'elizabeth'),\n",
       "   (0.010193795, 'currently'),\n",
       "   (0.009690991, 'conference'),\n",
       "   (0.009336602, 'internal')],\n",
       "  -16.56525028052509),\n",
       " ([(0.06827279, 'study'),\n",
       "   (0.030559972, 'vaccine_mandate'),\n",
       "   (0.026669202, 'impose'),\n",
       "   (0.026269209, 'south'),\n",
       "   (0.024621947, 'healthcare'),\n",
       "   (0.024013413, 'africa'),\n",
       "   (0.024010386, 'recently'),\n",
       "   (0.023676977, 'mandate'),\n",
       "   (0.01980636, 'closed'),\n",
       "   (0.01973045, 'adding'),\n",
       "   (0.017903939, 'dont'),\n",
       "   (0.017499274, 'new_study'),\n",
       "   (0.014408227, 'real'),\n",
       "   (0.014252758, 'carry'),\n",
       "   (0.012593396, 'needs'),\n",
       "   (0.011132698, 'authority'),\n",
       "   (0.010960546, 'activists'),\n",
       "   (0.010874948, 'french'),\n",
       "   (0.01049597, '38'),\n",
       "   (0.010050479, 'shut')],\n",
       "  -16.62816067653658),\n",
       " ([(0.04229884, 'supply'),\n",
       "   (0.025379965, '4'),\n",
       "   (0.022413058, 'begins'),\n",
       "   (0.02074475, 'track'),\n",
       "   (0.019696036, 'ideas'),\n",
       "   (0.018881533, 'event'),\n",
       "   (0.0181995, 'via_bopinion'),\n",
       "   (0.017699525, 'russian'),\n",
       "   (0.017662784, 'bopinion'),\n",
       "   (0.01689523, 'wait'),\n",
       "   (0.015663737, 'gave'),\n",
       "   (0.015250765, 'love'),\n",
       "   (0.014932224, 'staff'),\n",
       "   (0.014921425, 'something'),\n",
       "   (0.012856806, 'becoming'),\n",
       "   (0.012504961, 'trade'),\n",
       "   (0.011215486, 'leaving'),\n",
       "   (0.011048809, 'chain'),\n",
       "   (0.01083152, 'friday_night'),\n",
       "   (0.010797039, 'designed')],\n",
       "  -16.7034686834963),\n",
       " ([(0.26482558, 'pfizer'),\n",
       "   (0.050622184, 'pfizer_vaccine'),\n",
       "   (0.036937583, 'five'),\n",
       "   (0.021406934, 'north'),\n",
       "   (0.016512768, 'begin'),\n",
       "   (0.015747603, 'serious'),\n",
       "   (0.015248404, 'deals'),\n",
       "   (0.012752078, 'aid'),\n",
       "   (0.012296048, 'that’s'),\n",
       "   (0.011495246, 'wanted'),\n",
       "   (0.010915004, 'new_apple'),\n",
       "   (0.010842994, 'high_risk'),\n",
       "   (0.010717953, 'legal'),\n",
       "   (0.010168507, 'frontline_workers'),\n",
       "   (0.009954297, 'frontline'),\n",
       "   (0.009299324, 'scheduled'),\n",
       "   (0.008712375, 'georgia'),\n",
       "   (0.00783884, 'loss'),\n",
       "   (0.0070441496, 'effect'),\n",
       "   (0.0069018174, 'quickly')],\n",
       "  -16.773037436890387),\n",
       " ([(0.057869643, 'weekly'),\n",
       "   (0.05189204, 'hire'),\n",
       "   (0.049616963, 'games'),\n",
       "   (0.025868036, 'violence'),\n",
       "   (0.025361953, 'fourth'),\n",
       "   (0.024667602, 'names'),\n",
       "   (0.02298203, 'cities'),\n",
       "   (0.020638442, 'paying'),\n",
       "   (0.018779796, 'mark'),\n",
       "   (0.016172197, 'credit'),\n",
       "   (0.015483651, 'gun'),\n",
       "   (0.014240409, 'equity'),\n",
       "   (0.013691943, '25'),\n",
       "   (0.013491081, 'apple'),\n",
       "   (0.012407701, '40000'),\n",
       "   (0.010155268, 'refusing'),\n",
       "   (0.01002982, 'missing'),\n",
       "   (0.0077987537, 'shootings'),\n",
       "   (0.007302803, 'shes'),\n",
       "   (0.0071740476, 'investing')],\n",
       "  -16.98990366511105),\n",
       " ([(0.05378338, 'wsjwhatsnow'),\n",
       "   (0.043656413, 'game'),\n",
       "   (0.028792335, 'means'),\n",
       "   (0.025422996, 'turning'),\n",
       "   (0.018540481, 'theres'),\n",
       "   (0.01840904, 'emissions'),\n",
       "   (0.0175553, 'moving'),\n",
       "   (0.013551224, 'hear'),\n",
       "   (0.012601633, 'jan'),\n",
       "   (0.012587786, 'advocates'),\n",
       "   (0.012417382, 'parts'),\n",
       "   (0.012166034, 'september'),\n",
       "   (0.011592315, 'hospital'),\n",
       "   (0.011045296, 'homes'),\n",
       "   (0.010640709, 'zero'),\n",
       "   (0.010638917, 'hospitalized'),\n",
       "   (0.010634561, 'movement'),\n",
       "   (0.010394305, 'breaks'),\n",
       "   (0.010031799, 'cash'),\n",
       "   (0.009527707, 'jumped')],\n",
       "  -17.151251628096517),\n",
       " ([(0.03661877, 'chinese'),\n",
       "   (0.034498736, 'buying'),\n",
       "   (0.031136163, 'expects'),\n",
       "   (0.02788102, 'accused'),\n",
       "   (0.022771038, 'next_year'),\n",
       "   (0.021417057, 'citing'),\n",
       "   (0.021122826, 'park'),\n",
       "   (0.020979073, 'google’s'),\n",
       "   (0.018972684, 'pushed'),\n",
       "   (0.0184196, 'risks'),\n",
       "   (0.018309882, 'reach'),\n",
       "   (0.018036949, 'tesla'),\n",
       "   (0.017564118, 'side'),\n",
       "   (0.017284112, 'immunity'),\n",
       "   (0.016236704, 'alternative'),\n",
       "   (0.015059201, 'pace'),\n",
       "   (0.012773658, 'county'),\n",
       "   (0.010133212, 'political'),\n",
       "   (0.009299216, 'luxury'),\n",
       "   (0.00899231, 'isnt')],\n",
       "  -17.325027471024757),\n",
       " ([(0.10190223, 'airport'),\n",
       "   (0.035428014, 'policy'),\n",
       "   (0.025768282, 'agreed'),\n",
       "   (0.024862582, 'fight'),\n",
       "   (0.022215862, 'selling'),\n",
       "   (0.018539151, 'covid19_cases'),\n",
       "   (0.016944341, 'known'),\n",
       "   (0.016886096, 'highest'),\n",
       "   (0.016294364, 'rival'),\n",
       "   (0.01621645, 'officials_say'),\n",
       "   (0.0143966265, 'success'),\n",
       "   (0.012941375, 'approximately'),\n",
       "   (0.012151279, 'holds'),\n",
       "   (0.012123087, 'extraordinary'),\n",
       "   (0.01194327, 'breakthrough'),\n",
       "   (0.011890057, 'around_world'),\n",
       "   (0.011541481, 'apple'),\n",
       "   (0.01047303, 'level'),\n",
       "   (0.010199808, 'usa'),\n",
       "   (0.010086644, 'fast')],\n",
       "  -17.355652023923653),\n",
       " ([(0.11524883, 'passengers'),\n",
       "   (0.059508886, 'february'),\n",
       "   (0.041330658, 'young'),\n",
       "   (0.03677597, 'based'),\n",
       "   (0.025620766, '50'),\n",
       "   (0.024902655, 'two_weeks'),\n",
       "   (0.01782714, 'manufacturing'),\n",
       "   (0.017204622, 'sell'),\n",
       "   (0.017078696, 'prime'),\n",
       "   (0.014055871, '17'),\n",
       "   (0.013648923, 'rivals'),\n",
       "   (0.012984017, 'confirmed'),\n",
       "   (0.012859241, 'minister'),\n",
       "   (0.011977208, 'hourly'),\n",
       "   (0.0116239535, 'roughly'),\n",
       "   (0.009918079, 'worried'),\n",
       "   (0.009392566, 'shipments'),\n",
       "   (0.008961525, 'million_people'),\n",
       "   (0.008677642, 'voice'),\n",
       "   (0.008446605, 'prime_minister')],\n",
       "  -17.40359317259659),\n",
       " ([(0.123380035, 'airline'),\n",
       "   (0.032782275, 'popular'),\n",
       "   (0.024841627, 'sure'),\n",
       "   (0.022624739, 'came'),\n",
       "   (0.021068783, 'wants'),\n",
       "   (0.020616164, 'pressure'),\n",
       "   (0.018779797, 'developing'),\n",
       "   (0.017471498, 'takes'),\n",
       "   (0.01625407, 'vaccinations'),\n",
       "   (0.015686825, '500'),\n",
       "   (0.014582701, 'african'),\n",
       "   (0.014315838, 'showed'),\n",
       "   (0.014104229, 'year_ago'),\n",
       "   (0.013686737, '500_million'),\n",
       "   (0.013489388, 'expansion'),\n",
       "   (0.012832505, 'benefits'),\n",
       "   (0.012224873, 'point'),\n",
       "   (0.011611492, 'challenges'),\n",
       "   (0.011155565, 'racist'),\n",
       "   (0.0110058915, 'ago')],\n",
       "  -17.43727515319292),\n",
       " ([(0.04846342, 'canceled'),\n",
       "   (0.026435243, 'run'),\n",
       "   (0.025736716, 'conservative'),\n",
       "   (0.024918394, 'fifth'),\n",
       "   (0.023092939, 'town'),\n",
       "   (0.022146145, 'expensive'),\n",
       "   (0.021176, 'arrested'),\n",
       "   (0.02024041, 'jobs'),\n",
       "   (0.016761974, 'two_years'),\n",
       "   (0.014427836, 'targeting'),\n",
       "   (0.0132413125, 'across_us'),\n",
       "   (0.012331009, 'aimed'),\n",
       "   (0.012094689, 'dispute'),\n",
       "   (0.011007665, '23'),\n",
       "   (0.0109095285, 'probably'),\n",
       "   (0.010588915, 'recommendations'),\n",
       "   (0.010002181, 'introduced'),\n",
       "   (0.009287397, 'gone'),\n",
       "   (0.009162231, 'announced_new'),\n",
       "   (0.0075780503, 'protecting')],\n",
       "  -17.602033717653576),\n",
       " ([(0.09191799, 'tv'),\n",
       "   (0.024724057, 'annual'),\n",
       "   (0.022723136, 'worth'),\n",
       "   (0.022492198, 'helped'),\n",
       "   (0.020450503, '36'),\n",
       "   (0.018896013, 'atlanta'),\n",
       "   (0.016864292, 'steve'),\n",
       "   (0.014276777, 'talk'),\n",
       "   (0.014042654, 'end_year'),\n",
       "   (0.013961215, 'whose'),\n",
       "   (0.013787559, 'worst'),\n",
       "   (0.013741526, 'rich'),\n",
       "   (0.011145159, 'americans_get'),\n",
       "   (0.010605735, 'arrest'),\n",
       "   (0.010468034, 'body'),\n",
       "   (0.009929772, 'trumps'),\n",
       "   (0.008962518, 'scoop'),\n",
       "   (0.008437835, 'fueled'),\n",
       "   (0.0075797015, 'fraud'),\n",
       "   (0.0073518925, 'doj')],\n",
       "  -17.886662399364926)]"
      ]
     },
     "execution_count": 77,
     "metadata": {},
     "output_type": "execute_result"
    }
   ],
   "source": [
    "lda_m6.top_topics(tfidfcorpus_m6[ldacorpus_m6])"
   ]
  },
  {
   "cell_type": "code",
   "execution_count": 78,
   "id": "placed-width",
   "metadata": {},
   "outputs": [
    {
     "name": "stderr",
     "output_type": "stream",
     "text": [
      "c:\\users\\tuski\\appdata\\local\\programs\\python\\python39\\lib\\site-packages\\ipykernel\\ipkernel.py:283: DeprecationWarning: `should_run_async` will not call `transform_cell` automatically in the future. Please pass the result to `transformed_cell` argument and any exception that happen during thetransform in `preprocessing_exc_tuple` in IPython 7.17 and above.\n",
      "  and should_run_async(code)\n"
     ]
    },
    {
     "data": {
      "text/html": [
       "\n",
       "<link rel=\"stylesheet\" type=\"text/css\" href=\"https://cdn.jsdelivr.net/gh/bmabey/pyLDAvis@3.3.1/pyLDAvis/js/ldavis.v1.0.0.css\">\n",
       "\n",
       "\n",
       "<div id=\"ldavis_el5523615685467715681990132953\"></div>\n",
       "<script type=\"text/javascript\">\n",
       "\n",
       "var ldavis_el5523615685467715681990132953_data = {\"mdsDat\": {\"x\": [-0.4186590734493428, -0.2033385014463661, -0.15829960213673225, -0.14065801000470682, -0.09593531246105931, -0.0712040498294834, -0.05559664636456826, -0.1417347696258162, -0.030825327141751978, -0.026917883418636594, -0.04575932188002686, -0.008268211420403224, 0.0055460526196295865, -0.01823395280495625, -0.010954082358815473, 0.0005308862166017534, 0.014567092192851646, -0.005020559588791852, 0.02305766332647805, 0.029838955677638317, 0.02747382128660799, 0.022895493073600975, 0.03256421049821091, 0.022365848354824525, 0.026710065373053753, 0.05637017551635565, 0.041216157166359256, 0.048021395643746106, 0.04948738073477996, 0.018628571082798234, 0.002479770942609354, 0.040564765235103946, 0.03031399472856132, 0.04295859786131103, 0.0471921914752244, 0.054072955012383746, 0.049325744085677234, 0.06119910363335923, 0.046480081711135504, 0.04947534913350779, 0.04621552597090703, 0.05071864244345798, 0.07011933840895136, 0.05150563953549889, 0.08830098220822447, 0.07457898418084473, 0.07476590373676943, 0.08212586506181813, 0.04973809980257648], \"y\": [-0.31354719199562725, 0.23203342996532497, 0.1753441952066427, 0.05727397199650941, 0.07575686063407928, 0.06515036155578369, 0.03884626408993479, 0.03294245150507679, 0.03789262181469551, 0.022597055396060623, 0.035875518010335596, 0.00042820403864968253, 0.00846913482302765, 0.009833462520739043, 0.015399424352324897, 0.020852300106774614, -0.008130515385538052, 0.014503442400174931, -0.0024227663730920844, -0.004571824275022262, -0.02816898855041971, -0.029456649592099027, -0.016305039012404484, -0.01904232481246661, -0.007659729686824246, -0.013223090791712008, -0.004267770219927352, -0.00979732090629644, -0.021710714827142555, 0.003289217023104741, -0.016867324584127156, -0.025023989026084503, -0.011054006274197678, -0.025367115127359497, -0.007889752083551263, -0.020713518366232357, -0.016396223414323244, -0.008282351227078932, -0.015600098538678239, -0.017989539868875953, -0.012885184848932463, -0.0269799873878632, -0.026526034722010264, -0.02488644152135172, -0.018115779931773192, -0.02592377993282298, -0.028316335605545292, -0.025046747603065255, -0.014319778946795076], \"topics\": [1, 2, 3, 4, 5, 6, 7, 8, 9, 10, 11, 12, 13, 14, 15, 16, 17, 18, 19, 20, 21, 22, 23, 24, 25, 26, 27, 28, 29, 30, 31, 32, 33, 34, 35, 36, 37, 38, 39, 40, 41, 42, 43, 44, 45, 46, 47, 48, 49], \"cluster\": [1, 1, 1, 1, 1, 1, 1, 1, 1, 1, 1, 1, 1, 1, 1, 1, 1, 1, 1, 1, 1, 1, 1, 1, 1, 1, 1, 1, 1, 1, 1, 1, 1, 1, 1, 1, 1, 1, 1, 1, 1, 1, 1, 1, 1, 1, 1, 1, 1], \"Freq\": [18.486057801430608, 6.142547658118629, 5.091299123809649, 4.045704924882179, 3.3311542717746208, 3.0020716252297475, 2.997959247656259, 2.74644351326894, 2.5614989064130196, 2.555351868246834, 2.347953245084872, 2.0715676719325953, 2.039869071054559, 1.9522404734592245, 1.901002746267778, 1.8030584701890462, 1.729000765820012, 1.703453652018555, 1.6264951219051988, 1.6011283277195896, 1.3366403790183632, 1.314518648417599, 1.2586291444775446, 1.254191675506762, 1.2133359339950356, 1.2130702297329332, 1.1918617048002542, 1.1879547784913063, 1.1762004677073943, 1.1563047591663254, 1.1491019613846973, 1.138705912354977, 1.116979029806335, 1.1110385769530813, 1.1046030497809938, 1.0798151680699166, 1.0337950683973303, 1.0300394312136927, 1.0238243445289508, 1.0237402909534055, 0.9630427527836919, 0.9572395699432853, 0.9279605808097714, 0.9020108293708929, 0.7324501971681218, 0.7025749218720038, 0.7023489752835707, 0.6724081099318624, 0.5897550217979867]}, \"tinfo\": {\"Term\": [\"best\", \"delta_air\", \"air_lines\", \"lines\", \"pfizer\", \"delta\", \"air\", \"johnson\", \"apple\", \"disney\", \"fda\", \"buy\", \"vaccine\", \"johnson_amp\", \"amp\", \"covid19\", \"2021\", \"covid19_vaccine\", \"airline\", \"airlines\", \"amp_johnson\", \"unvaccinated\", \"says\", \"american\", \"booster\", \"rt\", \"new\", \"vaccines\", \"shot\", \"travel\", \"delta_air\", \"air_lines\", \"lines\", \"air\", \"buy\", \"200\", \"says\", \"employees\", \"delta\", \"google\", \"rt\", \"said\", \"cdc\", \"1\", \"one\", \"12\", \"million\", \"billion\", \"people\", \"plan\", \"pay\", \"ceo\", \"first\", \"back\", \"latest\", \"us\", \"tech\", \"money\", \"list\", \"companies\", \"new\", \"year\", \"get\", \"\\u2014\", \"vaccine\", \"week\", \"covid19\", \"last\", \"say\", \"workers\", \"effective\", \"demand\", \"stores\", \"car\", \"become\", \"made\", \"technology\", \"customers\", \"digital\", \"raising\", \"works\", \"variants\", \"retailer\", \"cover\", \"masks\", \"cost\", \"wear\", \"true\", \"shortage\", \"almost\", \"tried\", \"electronics\", \"offering\", \"expanding\", \"younger\", \"startup\", \"tests\", \"markets\", \"covid19_pandemic\", \"wear_masks\", \"found\", \"world\", \"sign\", \"help\", \"day\", \"used\", \"global\", \"also\", \"even\", \"coronavirus\", \"pandemic\", \"may\", \"amid\", \"plans\", \"still\", \"health\", \"since\", \"public\", \"many\", \"15\", \"could\", \"company\", \"work\", \"make\", \"according\", \"chief\", \"return\", \"getting\", \"target\", \"eight\", \"via_bw\", \"last_year\", \"experience\", \"cnns\", \"black\", \"executive\", \"chief_executive\", \"statement\", \"trial\", \"single\", \"took\", \"women\", \"abc\", \"betting\", \"mass\", \"urged\", \"representation\", \"lives\", \"less\", \"elections\", \"american\", \"end\", \"big_us\", \"officer\", \"wrote\", \"set\", \"board\", \"hit\", \"10\", \"via\", \"bw\", \"yet\", \"take\", \"several\", \"another\", \"former\", \"show\", \"future\", \"reports\", \"trump\", \"big\", \"covid\", \"officials\", \"use\", \"plane\", \"emergency\", \"authorization\", \"available\", \"emergency_use\", \"administration\", \"2022\", \"heres\", \"release\", \"continues\", \"six\", \"use_authorization\", \"ahead\", \"treat\", \"biden_administration\", \"past\", \"movies\", \"next_week\", \"deaths\", \"details\", \"friday\", \"hospitalizations\", \"six_months\", \"comes\", \"whats\", \"judge\", \"issued\", \"lower\", \"pushing\", \"starting\", \"wednesday\", \"surge\", \"reported\", \"early\", \"travel\", \"two\", \"authorities\", \"months\", \"month\", \"next\", \"watch\", \"behind\", \"fda\", \"2021\", \"expected\", \"every\", \"countries\", \"13\", \"pause\", \"four\", \"good\", \"find\", \"products\", \"coming\", \"youtube\", \"secured\", \"giant\", \"looks\", \"pharmaceutical\", \"push\", \"call\", \"clear\", \"leave\", \"critical\", \"companys\", \"october\", \"act\", \"employees_get\", \"tsa\", \"exclusive\", \"period\", \"alleged\", \"way\", \"5\", \"ready\", \"analysis\", \"access\", \"became\", \"support\", \"investors\", \"days\", \"data\", \"make\", \"time\", \"government\", \"three\", \"next\", \"members\", \"nail\", \"step\", \"toward\", \"due\", \"official\", \"faces\", \"impact\", \"delta_variant\", \"committee\", \"vote\", \"november\", \"national\", \"costs\", \"stop\", \"reportedly\", \"\\u201ci\", \"plant\", \"spike\", \"vehicles\", \"among\", \"sites\", \"along\", \"announcement\", \"votes\", \"higher\", \"effort\", \"extended\", \"fine\", \"civil\", \"voted\", \"union\", \"second\", \"full\", \"shows\", \"variant\", \"monday\", \"labor\", \"key\", \"uk\", \"history\", \"rights\", \"best\", \"netflix\", \"right\", \"media\", \"video\", \"large\", \"released\", \"penalty\", \"social\", \"service\", \"turn\", \"illness\", \"\\u201cwe\", \"message\", \"social_media\", \"warehouse\", \"fall\", \"settlement\", \"aims\", \"decades\", \"appeared\", \"suppliers\", \"owners\", \"couple\", \"posts\", \"deadline\", \"living\", \"efforts\", \"suit\", \"employers\", \"want\", \"amazon\", \"come\", \"start\", \"know\", \"left\", \"years\", \"move\", \"need\", \"booster\", \"shots\", \"7\", \"shot\", \"booster_shots\", \"vaccinated_covid19\", \"panel\", \"adults\", \"wave\", \"require\", \"everything\", \"advisory\", \"fully\", \"cbseveningnews\", \"phone\", \"advisory_panel\", \"rt_cbseveningnews\", \"fully_vaccinated\", \"vaccine_booster\", \"soon\", \"lose\", \"\\u2014_even\", \"worlds\", \"one_first\", \"thought\", \"require_employees\", \"families\", \"bid\", \"doctors\", \"afghanistan\", \"covid19_vaccine\", \"vaccines\", \"covid\", \"vaccination\", \"americans\", \"data\", \"vaccinated\", \"covid19\", \"johnson\", \"johnson_amp\", \"amp_johnson\", \"facing\", \"wont\", \"finds\", \"box\", \"building\", \"finally\", \"mean\", \"cloud\", \"filed\", \"scale\", \"heard\", \"jersey\", \"new_jersey\", \"running\", \"decide\", \"tell\", \"send\", \"heard_street\", \"republicans\", \"red\", \"beat\", \"events\", \"harris\", \"gop\", \"surging\", \"attention\", \"could_mean\", \"mayor\", \"amp\", \"think\", \"democrats\", \"another\", \"app\", \"store\", \"shooting\", \"man\", \"received\", \"calls\", \"hong\", \"related\", \"coronavirus_pandemic\", \"hong_kong\", \"kong\", \"theme\", \"security\", \"reporting\", \"delayed\", \"heart\", \"multiple\", \"hits\", \"sports\", \"texas\", \"china\", \"passed\", \"proposed\", \"rally\", \"bills\", \"facilities\", \"concerned\", \"criticism\", \"hate\", \"adds\", \"rules\", \"law\", \"response\", \"voting\", \"police\", \"bill\", \"season\", \"microsoft\", \"enough\", \"older\", \"israel\", \"regulators\", \"increased\", \"concerns\", \"holiday_season\", \"pilot\", \"food\", \"develop\", \"breaking_news\", \"apps\", \"turned\", \"modern\", \"pro\", \"3\", \"efficacy\", \"raised\", \"justice\", \"department\", \"disappointing\", \"victims\", \"carrier\", \"air_travel\", \"chips\", \"though\", \"records\", \"major_us\", \"holiday\", \"breaking\", \"recent\", \"major\", \"news\", \"month\", \"drug\", \"aren\\u2019t\", \"must\", \"podcast\", \"explains\", \"recommended\", \"episode\", \"writes\", \"climate\", \"levels\", \"hires\", \"bad\", \"lost\", \"possible\", \"listen\", \"launch\", \"rental\", \"protected\", \"driver\", \"wall_street\", \"todays\", \"offset\", \"climate_change\", \"indigenous\", \"cars\", \"anticipated\", \"kingdom\", \"considering\", \"phase\", \"rose\", \"opinion\", \"going\", \"shares\", \"wall\", \"change\", \"washington\", \"street\", \"city\", \"new_york\", \"york\", \"saying\", \"\\u201cthe\", \"16\", \"community\", \"initial\", \"research\", \"water\", \"seeking\", \"questions\", \"california\", \"paper\", \"managed\", \"adopt\", \"linked\", \"photos\", \"positions\", \"massive\", \"york_city\", \"relationship\", \"progressive\", \"remote\", \"reveals\", \"eric\", \"author\", \"crime\", \"95\", \"emerged\", \"residents\", \"price\", \"groups\", \"leaders\", \"cut\", \"flights\", \"places\", \"flying\", \"weekend\", \"killed\", \"rebound\", \"low\", \"normal\", \"close\", \"partner\", \"june\", \"gets\", \"check\", \"purchase\", \"people_killed\", \"28\", \"rates\", \"central\", \"images\", \"led\", \"anniversary\", \"problems\", \"often\", \"assault\", \"kind\", \"backed\", \"flag\", \"opens\", \"26\", \"london\", \"virgin\", \"airlines\", \"july\", \"weather\", \"industry\", \"country\", \"travel\", \"expects\", \"others\", \"thats\", \"better\", \"safe\", \"case\", \"late\", \"given\", \"land\", \"opening\", \"discuss\", \"profits\", \"bitcoin\", \"search\", \"unusual\", \"join\", \"offers\", \"joins\", \"thousands_dollars\", \"barred\", \"bought\", \"paid\", \"scope\", \"last_month\", \"ended\", \"paul\", \"michael\", \"officials_said\", \"web\", \"cofounder\", \"sec\", \"trading\", \"center\", \"hundreds\", \"build\", \"services\", \"post\", \"thousands\", \"live\", \"severe\", \"motors\", \"general_motors\", \"repeat\", \"protect\", \"india\", \"sources\", \"play\", \"asks\", \"march\", \"sources_say\", \"added\", \"infection\", \"first_quarter\", \"rollout\", \"spending\", \"lead\", \"40\", \"china\\u2019s\", \"chinas\", \"vehicle\", \"starts\", \"magic\", \"europe\", \"ipo\", \"stake\", \"plus\", \"2025\", \"surges\", \"follow\", \"well\", \"increase\", \"general\", \"businesses\", \"small\", \"growth\", \"software\", \"markgurman\", \"bonds\", \"give\", \"allegedly\", \"development\", \"didnt\", \"morning\", \"seek\", \"investigation\", \"pills\", \"us_stocks\", \"regular\", \"regulator\", \"charged\", \"increases\", \"rt_markgurman\", \"consider\", \"cast\", \"expert\", \"heres_know\", \"significantly\", \"new_covid\", \"st\", \"returns\", \"drivers\", \"country\\u2019s\", \"chance\", \"previous\", \"lots\", \"apple\", \"power\", \"stocks\", \"inflation\", \"know\", \"last_week\", \"star\", \"investments\", \"sunday\", \"claims\", \"daily\", \"election_results\", \"white_house\", \"appears\", \"never\", \"stepping\", \"explore\", \"coronavirus_vaccines\", \"dc\", \"effects\", \"supporters\", \"broke\", \"caused\", \"average\", \"network\", \"14\", \"stand\", \"joined\", \"protest\", \"saw\", \"posted\", \"singapore\", \"drop\", \"greater\", \"false\", \"election\", \"likely\", \"results\", \"white\", \"let\", \"measures\", \"doses\", \"vaccines\", \"recovery\", \"polish\", \"looking\", \"richard\", \"space\", \"strong\", \"thing\", \"using\", \"instead\", \"giving\", \"payments\", \"division\", \"martin\", \"nation\", \"anyone\", \"athletes\", \"female\", \"vulnerable\", \"workplace\", \"continued\", \"college\", \"halt\", \"10_million\", \"moderate\", \"trip\", \"books\", \"size\", \"relief\", \"rather\", \"japanese\", \"making\", \"issue\", \"boost\", \"stock\", \"economy\", \"15\", \"film\", \"packages\", \"taken\", \"team\", \"ask\", \"hollywood\", \"stars\", \"documentary\", \"don\\u2019t\", \"israeli\", \"helping\", \"held\", \"losing\", \"he\\u2019s\", \"longterm\", \"war\", \"hearing\", \"students\", \"battle\", \"olympics\", \"senate\", \"pledge\", \"auto\", \"cause\", \"favor\", \"benefit\", \"biggest\", \"view\", \"pop\", \"york_times\", \"long\", \"working\", \"need\", \"wealth\", \"job\", \"know\", \"pfizer\", \"pfizer_vaccine\", \"five\", \"north\", \"serious\", \"deals\", \"aid\", \"that\\u2019s\", \"wanted\", \"new_apple\", \"high_risk\", \"frontline_workers\", \"frontline\", \"scheduled\", \"loss\", \"effect\", \"quickly\", \"dropped\", \"fears\", \"five_years\", \"endorsed\", \"acquisition\", \"arm\", \"worry\", \"collapse\", \"served\", \"north_carolina\", \"predicted\", \"earlier_year\", \"georgia\", \"begin\", \"legal\", \"children\", \"earlier\", \"ages\", \"kids\", \"defense\", \"protection\", \"rare\", \"approach\", \"taking\", \"parents\", \"cbsmornings\", \"first_major\", \"medical\", \"rt_cbsmornings\", \"begun\", \"started\", \"affecting\", \"asking\", \"kick\", \"vaccinate\", \"threat\", \"children\", \"citigroup\", \"immediately\", \"wells\", \"meets\", \"host\", \"pm\", \"fargo\", \"wells_fargo\", \"veteran\", \"c\\u2026\", \"study\", \"vaccine_mandate\", \"impose\", \"healthcare\", \"recently\", \"closed\", \"new_study\", \"carry\", \"needs\", \"authority\", \"activists\", \"french\", \"38\", \"shut\", \"launches\", \"real\", \"ruling\", \"previously\", \"payment\", \"performance\", \"playing\", \"positive\", \"easier\", \"party\", \"adding\", \"capacity\", \"option\", \"tested\", \"reopening\", \"estate\", \"africa\", \"dont\", \"south\", \"mandate\", \"pressure\", \"covid19_vaccine\", \"spokesperson\", \"additional\", \"april\", \"within\", \"privacy\", \"internet\", \"consumers\", \"enter\", \"question\", \"todayshow\", \"rt_todayshow\", \"status\", \"ending\", \"provide\", \"potentially\", \"spring\", \"company_says\", \"add\", \"anthony\", \"submitted\", \"bring\", \"anthony_fauci\", \"percent\", \"dr_anthony\", \"sale\", \"james\", \"investor\", \"beginning\", \"speak\", \"pass\", \"30\", \"value\", \"restrictions\", \"care\", \"1000\", \"health_care\", \"place\", \"certain\", \"trend\", \"john\", \"light\", \"current\", \"joe_biden\", \"couldn\\u2019t\", \"contract\", \"signs\", \"asian\", \"reached\", \"agreement\", \"said_tuesday\", \"joe\", \"abuse\", \"president_joe\", \"70\", \"earth\", \"havent\", \"protests\", \"cocacola\", \"kelly\", \"terms\", \"two_new\", \"described\", \"earlier_month\", \"legislation\", \"pres\", \"earlier\", \"chairman\", \"went\", \"announces\", \"quicktake\", \"evidence\", \"extend\", \"options\", \"address\", \"russia\", \"company_said\", \"break\", \"force\", \"raise\", \"failed\", \"grants\", \"created\", \"lawsuits\", \"issues\", \"huge\", \"activist\", \"forward\", \"allowing\", \"southeast\", \"via_quicktake\", \"2_billion\", \"southeast_asian\", \"85\", \"virginia\", \"published\", \"fed\", \"ransomware\", \"frozen\", \"22\", \"ways\", \"potential\", \"personal\", \"agencies\", \"local\", \"control\", \"series\", \"19\", \"agency\", \"calling\", \"first_time\", \"hard\", \"unveiled\", \"urging\", \"thanks\", \"sweeping\", \"problem\", \"scientists\", \"keeping\", \"night\", \"blocking\", \"feel\", \"suggests\", \"action\", \"steps\", \"laws\", \"widespread\", \"indian\", \"heres_latest\", \"marking\", \"seeks\", \"10000\", \"scenes\", \"latest_coronavirus\", \"initiative\", \"happening\", \"thursday\", \"time\", \"third\", \"supply\", \"begins\", \"track\", \"ideas\", \"event\", \"via_bopinion\", \"russian\", \"wait\", \"gave\", \"love\", \"something\", \"trade\", \"chain\", \"friday_night\", \"designed\", \"years_ago\", \"halloween\", \"common\", \"least_one\", \"supply_chain\", \"teen\", \"prevented\", \"ill\", \"breaking_us\", \"therapy\", \"goal\", \"threatening\", \"effectively\", \"rule\", \"verdict\", \"bopinion\", \"4\", \"leaving\", \"becoming\", \"staff\", \"ago\", \"via\", \"years\", \"streaming\", \"requirements\", \"devices\", \"idea\", \"corporations\", \"process\", \"charges\", \"allowed\", \"expand\", \"platform\", \"decade\", \"hasn\\u2019t\", \"site\", \"mobile\", \"finding\", \"able\", \"firearms\", \"shift\", \"hiring\", \"supreme\", \"sues\", \"high_school\", \"supreme_court\", \"discrimination\", \"trans\", \"reviewing\", \"could_make\", \"fans\", \"see\", \"fill\", \"avoid\", \"offer\", \"court\", \"several\", \"unvaccinated\", \"omicron\", \"got\", \"child\", \"makes\", \"final\", \"omicron_variant\", \"put\", \"health_officials\", \"christmas\", \"essential\", \"bloombergtv\", \"pregnant\", \"rt_bloombergtv\", \"shipping\", \"t\\u2026\", \"shared\", \"met\", \"operation\", \"ordered\", \"germany\", \"combat\", \"mask_mandate\", \"despite\", \"fresh\", \"intended\", \"66\", \"spreads\", \"warehouses\", \"closely\", \"mask\", \"much\", \"mandate\", \"variant\", \"health\", \"officials\", \"disney\", \"summer\", \"united_airlines\", \"expect\", \"cook\", \"tim\", \"tim_cook\", \"quest\", \"90\", \"little\", \"round\", \"extra\", \"commitment\", \"remains\", \"ceo_tim\", \"labor_day\", \"mostly\", \"evening\", \"apple_ceo\", \"briefing\", \"robust\", \"miss\", \"plants\", \"nba\", \"innovation\", \"later\", \"requires\", \"shareholders\", \"share\", \"evening_briefing\", \"united\", \"remain\", \"apple\", \"airlines\", \"airline\", \"popular\", \"sure\", \"came\", \"developing\", \"takes\", \"african\", \"showed\", \"year_ago\", \"500_million\", \"expansion\", \"benefits\", \"point\", \"challenges\", \"racist\", \"isn\\u2019t\", \"encourage\", \"20_million\", \"south_african\", \"ai\", \"crackdown\", \"milestone\", \"wants\", \"covid19_vaccinations\", \"historic\", \"ensure\", \"jet\", \"meme\", \"easing\", \"500\", \"racial\", \"human\", \"pressure\", \"vaccinations\", \"ago\", \"20\", \"south\", \"charge\", \"rt_bw\", \"receiving\", \"nbcnightlynews\", \"deliver\", \"unit\", \"wealth_management\", \"try\", \"doses_covid19\", \"11\", \"suspected\", \"senior\", \"probe\", \"eventually\", \"prosecutors\", \"2019\", \"voting_rights\", \"doses\", \"third\", \"federal_government\", \"tens_millions\", \"pharmacies\", \"grown\", \"losses\", \"street\\u2019s\", \"wall_street\\u2019s\", \"departure\", \"top_executive\", \"fights\", \"legislative\", \"billions\", \"millions\", \"dollars\", \"left\", \"retail\", \"start\", \"covid19_vaccine\", \"bw\", \"yet\", \"died\", \"profit\", \"nov_1\", \"company\\u2019s\", \"movie\", \"safety\", \"researchers\", \"old\", \"partnership\", \"planning\", \"years_old\", \"actor\", \"400\", \"soaring\", \"becoming_first\", \"source\", \"lawyer\", \"sold\", \"advantage\", \"era\", \"witness\", \"opposition\", \"funding\", \"robert\", \"watched\", \"range\", \"prominent\", \"nfl\", \"aim\", \"owned\", \"woman\", \"becoming\", \"apple\", \"years\", \"showing\", \"different\", \"began\", \"employees_vaccinated\", \"florida\", \"effectiveness\", \"test\", \"mandates\", \"requirement\", \"beach\", \"experts_say\", \"vaccine_mandates\", \"pandemic_began\", \"embrace\", \"nbcnews\", \"compared\", \"a\\u2026\", \"miami\", \"rest\", \"district\", \"rt_bopinion\", \"august\", \"finance\", \"health_experts\", \"doctor\", \"safely\", \"data_shows\", \"promote\", \"opportunity\", \"numbers\", \"campaign\", \"experts\", \"schools\", \"school\", \"order\", \"update\", \"18\", \"stay\", \"inside\", \"mother\", \"girl\", \"date\", \"learned\", \"suing\", \"police_say\", \"targets\", \"double\", \"analysts\", \"near\", \"worked\", \"drive\", \"models\", \"concern\", \"killing\", \"2030\", \"san\", \"bigger\", \"musk\", \"elon\", \"bbgequality\", \"new_report\", \"outside\", \"elon_musk\", \"world\\u2019s\", \"gender\", \"person\", \"airport\", \"agreed\", \"selling\", \"covid19_cases\", \"highest\", \"rival\", \"officials_say\", \"success\", \"approximately\", \"holds\", \"extraordinary\", \"breakthrough\", \"around_world\", \"level\", \"usa\", \"fast\", \"particularly\", \"charging\", \"directly\", \"winter\", \"practices\", \"india\\u2019s\", \"improved\", \"progress\", \"meta\", \"reflects\", \"standard\", \"feeling\", \"representing\", \"fiscal\", \"policy\", \"known\", \"fight\", \"apple\", \"officials\", \"information\", \"include\", \"decided\", \"breach\", \"fire\", \"significant\", \"new_data\", \"appear\", \"conditions\", \"accounts\", \"elizabeth\", \"infections\", \"currently\", \"conference\", \"updated\", \"attorney\", \"inspired\", \"speaking\", \"holding\", \"production\", \"account\", \"covid19_infections\", \"former_president\", \"president_trump\", \"lawyers\", \"soared\", \"maker\", \"trends\", \"obtained\", \"manhattan\", \"hours\", \"without\", \"founder\", \"internal\", \"former\", \"testing\", \"things\", \"boosters\", \"speaks\", \"reality\", \"shopping\", \"opened\", \"eligible\", \"subscribers\", \"important\", \"changed\", \"lot\", \"canada\", \"didn\\u2019t\", \"together\", \"according_memo\", \"vision\", \"letter\", \"centers\", \"saudi\", \"locations\", \"involving\", \"america\\u2019s\", \"youth\", \"housing\", \"rapid\", \"royal\", \"predicts\", \"controls\", \"hall\", \"sent\", \"online\", \"memo\", \"future\", \"staff\", \"chinese\", \"buying\", \"citing\", \"park\", \"google\\u2019s\", \"pushed\", \"risks\", \"tesla\", \"side\", \"immunity\", \"alternative\", \"pace\", \"reach\", \"county\", \"accused\", \"next_year\", \"luxury\", \"isnt\", \"harder\", \"providing\", \"24\", \"unlikely\", \"longtime\", \"driving\", \"complete\", \"forever\", \"truck\", \"hesitancy\", \"governments\", \"nearing\", \"expects\", \"political\", \"area\", \"record\", \"insurance\", \"covid_vaccine\", \"story\", \"per\", \"stronger\", \"united_states\", \"operating\", \"nearly_two\", \"fell\", \"workers_get\", \"limited\", \"two_months\", \"university\", \"secret\", \"system\", \"gains\", \"ok\", \"hands\", \"troops\", \"victory\", \"term\", \"inoculated\", \"warning\", \"hoping\", \"code\", \"offerings\", \"including_new\", \"runs\", \"dollar\", \"apart\", \"united\", \"covid\", \"states\", \"manager\", \"covid19_vaccines\", \"strategy\", \"treatment\", \"lawsuit\", \"shortages\", \"focus\", \"moment\", \"announce\", \"version\", \"ground\", \"violent\", \"believe\", \"prepandemic\", \"preliminary\", \"brought\", \"estimates\", \"cnn\", \"criminal\", \"stage\", \"super\", \"position\", \"person_familiar\", \"bowl\", \"base\", \"super_bowl\", \"goals\", \"surveillance\", \"remarks\", \"incident\", \"commercial\", \"vaccines\", \"control\", \"person\", \"wsjwhatsnow\", \"game\", \"means\", \"turning\", \"theres\", \"emissions\", \"moving\", \"hear\", \"jan\", \"advocates\", \"parts\", \"homes\", \"zero\", \"hospitalized\", \"movement\", \"breaks\", \"jumped\", \"jan_6\", \"extreme\", \"prompting\", \"generation\", \"three_weeks\", \"committed\", \"spreading\", \"could_become\", \"net_zero\", \"net\", \"grab\", \"winners\", \"heads\", \"cash\", \"september\", \"hospital\", \"6\", \"passengers\", \"february\", \"young\", \"based\", \"two_weeks\", \"manufacturing\", \"sell\", \"prime\", \"17\", \"rivals\", \"confirmed\", \"minister\", \"hourly\", \"roughly\", \"worried\", \"shipments\", \"million_people\", \"voice\", \"prime_minister\", \"300\", \"admin\", \"riot\", \"spend\", \"50\", \"fox\", \"50_million\", \"sometimes\", \"capitol_riot\", \"biden_admin\", \"struggles\", \"80\", \"music\", \"makers\", \"beyond\", \"built\", \"months_ago\", \"20_years\", \"diversity\", \"\\u201cit\", \"read_big\", \"big_take\", \"friend\", \"gap\", \"jon\", \"traders\", \"diverse\", \"read\", \"crimes\", \"traditional\", \"setback\", \"title\", \"album\", \"extensive\", \"55\", \"religious\", \"managing\", \"75_billion\", \"promoted\", \"foray\", \"20\", \"go_beyond\", \"ago\", \"take\", \"years\", \"big\", \"shows\", \"canceled\", \"run\", \"conservative\", \"fifth\", \"town\", \"expensive\", \"arrested\", \"targeting\", \"across_us\", \"aimed\", \"dispute\", \"23\", \"probably\", \"recommendations\", \"introduced\", \"gone\", \"announced_new\", \"protecting\", \"experienced\", \"damage\", \"hospitals\", \"jump\", \"miles\", \"choice\", \"citys\", \"31\", \"77\", \"snow\", \"two_years\", \"buildings\", \"jobs\", \"years\", \"weekly\", \"hire\", \"games\", \"violence\", \"fourth\", \"names\", \"cities\", \"paying\", \"mark\", \"credit\", \"gun\", \"equity\", \"25\", \"40000\", \"refusing\", \"missing\", \"shootings\", \"shes\", \"gun_violence\", \"prison\", \"2000\", \"card\", \"private_equity\", \"wife\", \"pouring\", \"12_million\", \"debuted\", \"cnnopinion\", \"secretly\", \"admissions\", \"investing\", \"private\", \"apple\", \"tv\", \"annual\", \"worth\", \"helped\", \"36\", \"atlanta\", \"steve\", \"talk\", \"end_year\", \"worst\", \"rich\", \"americans_get\", \"arrest\", \"body\", \"trumps\", \"scoop\", \"fueled\", \"fraud\", \"doj\", \"convince\", \"presidential\", \"compensation\", \"scandal\", \"shocked\", \"spree\", \"garland\", \"quick\", \"aggressively\", \"coal\", \"mining\", \"whose\", \"monthly\", \"health_insurance\", \"nov\", \"middle\", \"starting_nov\", \"dozens\", \"military\", \"course\", \"age\", \"seeing\", \"theory\", \"forces\", \"critical_race\", \"cracking\", \"race_theory\", \"counts\", \"contains\", \"teach\", \"protesters\", \"deadliest\", \"middle_east\", \"100\", \"half\", \"article\", \"gary\", \"feb\", \"myanmar\", \"upbeat\", \"perhaps\", \"chose\", \"face\", \"starting\", \"health\", \"mass\"], \"Freq\": [4054.0, 8181.0, 7969.0, 7219.0, 2549.0, 6860.0, 6461.0, 2634.0, 2447.0, 1580.0, 1883.0, 3967.0, 4313.0, 1474.0, 1644.0, 3725.0, 1523.0, 1645.0, 1015.0, 1295.0, 1221.0, 976.0, 2657.0, 1465.0, 1067.0, 2576.0, 2756.0, 1182.0, 1035.0, 1366.0, 8175.350342806763, 7963.024987794903, 7213.144143634866, 6455.809849103935, 3961.637780894784, 1746.2520723491182, 2647.662819471725, 1943.8974159429915, 6830.125273984483, 1368.9342608822744, 2561.9788209874287, 2122.86682382297, 1030.7265275334194, 917.9488633381911, 1406.9564084040337, 860.7777022540059, 1155.4902944932128, 1066.3102952448899, 1797.007362538255, 820.9376566032615, 909.4886379852519, 1339.658857619625, 1414.569200895457, 863.5132402735449, 821.182855425382, 2206.479374740373, 677.9107836315995, 664.557159282918, 648.0026511178227, 978.8412443870436, 2713.5777557071847, 1397.8640105076863, 1386.4370278624822, 1061.5532896403622, 4191.935887914721, 1420.2440319597783, 3560.1248333854596, 1160.2554651442892, 1085.1249130372896, 1163.5375664312994, 974.1191239142709, 765.6773219579749, 536.4800740248601, 521.4848296347583, 445.2610422220565, 712.7922866060024, 513.0171779166885, 528.9258676307019, 420.7137355272872, 307.2035301091241, 292.45042827248534, 286.6636713696598, 282.32294597573303, 281.08245096922207, 267.6460776278299, 264.78698266501544, 256.6117888361931, 255.88233978921903, 239.4161323124789, 355.1316416330113, 230.77870744343682, 226.301629133826, 390.49448461992614, 288.75500528145517, 212.69811350869216, 196.0887087507385, 190.2508554734194, 257.4158887408345, 173.56435397342008, 173.3281103175756, 556.2956015762597, 1077.552655659072, 259.93260099797146, 695.8770435324958, 925.0046968059021, 472.1836931676205, 458.2791076737891, 561.7357417214586, 649.6701768942045, 1533.6857567114305, 1442.1942246137614, 1037.6494702271114, 483.92899438196724, 664.4424552865161, 686.384874564624, 1161.9219368760012, 666.0303480893627, 420.17206462889453, 498.19376204258293, 584.3022520354167, 1193.0621146359606, 1019.4212599763518, 472.1044382922998, 540.1298268050598, 486.8650422112757, 620.9467018200786, 574.4856992888975, 756.7657666494538, 1215.0242735440597, 436.46039715679376, 434.05017012816586, 430.49559719440083, 364.7397628879643, 329.43257239631725, 760.5110411860013, 548.0867643184743, 321.73329757395555, 254.43803420442856, 634.2964954570637, 226.19106202955302, 402.85279168390605, 363.6823008647452, 199.37721393283286, 191.37019980792846, 438.45640953739115, 183.36964234797446, 177.86072722482217, 176.7229913091329, 304.08394430589624, 166.97323983744988, 1410.6696032797936, 704.5570035001222, 146.7600624663758, 145.050766896108, 137.28368857373968, 541.8623348736438, 299.7335490858724, 378.42428093905255, 327.82235852354654, 660.4813212847524, 498.87641504230044, 373.9502721019312, 629.3197867007976, 378.5269061360475, 493.0197599588126, 431.7236923472849, 417.63340953158405, 376.3058474652271, 399.6911042569634, 380.99880368478193, 418.99912193900417, 476.2300119679731, 382.69644659323956, 1095.5394716722467, 772.5701202695662, 701.8057387448529, 678.194814621431, 603.4711283895944, 469.34671674949664, 450.6227057098682, 377.1333307440197, 874.7664578943509, 311.85069479588884, 310.9627780184188, 308.95093377437354, 297.8803619426022, 434.3877586465518, 276.0845839266706, 260.86932650119763, 351.2412768065352, 258.56477701912127, 236.9765811935499, 236.44594295840324, 223.4132090684886, 785.0104854699164, 216.9145084048943, 209.42182558875027, 198.75378776182828, 184.21044467288445, 180.78414724246997, 178.94506704651238, 174.94282176890377, 140.93673279437118, 691.974297486476, 492.6292240255116, 554.925324344053, 440.3172124662276, 651.8793926507311, 1139.5570761386355, 1071.0743929979596, 350.55685393055825, 533.3793380704278, 675.830484067708, 766.4675233551528, 457.7510840832848, 307.0917911807302, 1877.3933794423235, 1517.5022413775803, 958.74293585684, 363.81648154514, 357.134919665905, 351.62359750963816, 311.1050001202719, 303.8198599178121, 296.8719656201998, 283.942638005465, 334.7635092572566, 421.4625473681901, 235.6879610850262, 227.87679930861214, 369.31351399853753, 204.743642960736, 198.7010827087186, 199.8441028884676, 188.0440184856609, 181.80088965842452, 167.3395877441083, 162.724727087817, 179.30573142409693, 158.0156569395978, 148.52774009092695, 141.7879604908757, 137.58395665811284, 130.91767651260162, 125.80111575791055, 125.28974057207664, 477.9798604215323, 773.7449202436496, 275.0916049653338, 259.1573378676531, 424.08703744525775, 227.49423208405588, 370.74687597262374, 278.9166975973634, 468.6144203709334, 392.4784376265834, 454.8638472585337, 354.03412102174514, 271.8470844578376, 239.7416666701369, 227.56583664819985, 585.4070902699988, 472.6002305875543, 456.26831434402516, 466.6768983737558, 387.92859620464327, 375.1533874933277, 329.60660076304896, 329.4604622213602, 304.9815734103552, 286.4798795338343, 285.0343053669208, 281.2291582957297, 661.9520636149427, 265.46256957826307, 264.7761162248921, 218.67549375379224, 186.7757846231526, 166.81556823078796, 160.45641207076275, 154.97712083144935, 426.86899266793756, 137.13382387807277, 125.92011171276668, 124.31580223957293, 122.123171624567, 188.67612810951425, 231.81106636698718, 101.7210137184826, 101.03209927474089, 100.55792249979763, 142.06604988640132, 321.61960911493895, 555.8481693946844, 654.7083815304014, 504.59078911130865, 668.7388467834701, 346.70567403357614, 242.86996088007257, 239.1443120504902, 283.68480413186813, 211.78016143201438, 194.68175114909727, 4046.824259471557, 840.517205310969, 673.9274302789686, 419.9692940124968, 415.3526744144858, 391.35117195554017, 341.7197726756898, 333.6522948320116, 305.84522006304223, 557.5569007986313, 283.28893666019735, 258.2003198586521, 245.62835459488653, 245.22910064235847, 226.48037578779366, 206.18382963023214, 200.74958207607162, 129.72157162136884, 123.76861493712488, 118.41950477731375, 110.26846448578235, 108.81917263810554, 106.05132956494533, 96.1098258949462, 94.39708662763894, 87.58410884143181, 86.52287578520212, 226.43629734891405, 85.16795031771201, 84.40573640261186, 306.28754930381535, 661.7436843107516, 349.35844374914774, 340.1519284860286, 613.2592874663801, 203.51998318334978, 352.56230624559015, 171.59561707619443, 116.35700700978431, 1061.562652467932, 930.8427740460535, 697.1738122118962, 1026.1782036237814, 467.12379884412434, 452.4187351882874, 405.1200870491864, 388.6871371511079, 370.98083379209453, 490.3058529217962, 306.3088326107358, 305.9045869984407, 272.57544238950373, 198.50701900903212, 196.49352884892875, 195.5132231302159, 195.0656930577519, 179.0215313490377, 178.34506232291602, 465.2585051181364, 144.43694440716348, 132.51874750283426, 128.139104516177, 115.31375354981105, 109.40253910607746, 108.36894111888913, 99.38357425287498, 93.43004947907396, 92.30501192104049, 91.2244443211296, 1456.12982270962, 839.5095120406648, 579.2162511868937, 205.15512611489814, 249.1186101039655, 177.17643703779527, 180.03946054544303, 141.9243412287515, 2628.3240433951296, 1468.2664128577362, 1215.8566110693082, 397.09555652203596, 269.2105390466893, 256.16702936869183, 221.8229238155728, 199.4424427832236, 198.75062099810404, 187.09282908718401, 186.38731074608273, 179.79798165967478, 159.34835503617384, 155.89082318585798, 143.65768164203098, 143.2791321479828, 137.88904881867828, 136.22833712036322, 131.28616031326965, 110.80277227924806, 110.56337396565256, 111.2930112732949, 103.37430200583448, 101.86374673070083, 100.75384571674729, 91.81173458612658, 91.77790460711539, 91.30661622963652, 90.36445945668322, 80.29244245499925, 122.60581796627719, 1409.311773255028, 215.40801582692967, 103.01014332373458, 100.28464867822933, 963.6425041570093, 862.1158698689858, 826.6763352093792, 699.5422751417033, 689.9350100161906, 587.2948963747144, 416.1227552395561, 353.20374994186113, 313.6923680815352, 307.25247904536275, 307.25247904536275, 275.5718435558792, 531.2606451442265, 209.60841825299633, 203.2664323575432, 195.73069508374004, 180.18555744589023, 147.7062204389749, 141.66664836718653, 307.0701825422941, 515.2942076330559, 116.04830360843378, 115.7086267378472, 101.93667316253836, 98.73626652013279, 94.77513964859904, 93.17273457554165, 80.3117333850325, 78.51638644557059, 64.76978935618341, 332.6215170902331, 402.65063323913495, 213.59195596573755, 157.17705390393576, 318.0031844505361, 123.36669590984002, 441.44892501032734, 379.87472456962576, 388.47279887539804, 371.0476800288295, 360.8979442689934, 343.7644277845972, 303.05018255031683, 294.8311064650207, 271.27262736191074, 262.17940413724773, 259.72550065085636, 234.75990423257807, 226.07058437679316, 218.17320110110765, 213.73958186868677, 208.0576568888568, 204.92154089258094, 302.14693488423677, 198.98574052932503, 185.51769622070805, 248.53729091128272, 184.05779884656047, 162.23213669021212, 157.93297383310693, 142.78341561213358, 132.3559363802769, 132.2460237537333, 107.08346453721009, 101.80329024150673, 112.58874366320123, 512.5983615036905, 782.376020014335, 261.90040362303654, 440.87524238057676, 395.05105778925963, 150.16633865827473, 473.27340428698704, 388.6351970773967, 386.0606262864535, 370.30634919096553, 357.8807560345772, 339.94077633341317, 316.0332989371251, 365.19447241057645, 295.82668213953315, 292.52334048359455, 285.8844940989965, 283.86068820161097, 261.4034881171647, 258.73583850283893, 212.6865254954898, 210.00050688489023, 177.52779527213985, 174.096106319973, 160.73657793945316, 153.70871087226044, 153.2594953354615, 141.30829363831225, 122.32358247285073, 121.34697572379041, 111.23504429429083, 101.63199644684472, 96.35179034362095, 95.47974823938691, 90.36965290505154, 88.47879001881108, 484.69550957448496, 419.17128967394314, 324.669083962672, 162.67499919680088, 407.4269713967134, 189.56410434145863, 186.9617513101135, 680.9224658277183, 423.4083048022016, 423.31176309643763, 393.82318643889136, 341.9079660718702, 331.2681472715517, 253.95800797807388, 251.25754316602385, 231.68879059083747, 228.7367467211624, 225.28005674897364, 209.22422368302944, 401.7669907376914, 176.93147359653705, 168.1348068730192, 165.70444587746323, 149.52326694863373, 143.83940132429836, 140.21929212703884, 137.85773347835087, 134.28589513397333, 117.76635609215373, 111.08983914787672, 110.34463055399245, 109.9447646922298, 101.82495470728509, 101.01598790684389, 94.90910388497443, 93.60834364264973, 91.73141152471317, 128.92518211976872, 341.96704872211717, 188.55066104149913, 146.17447652994588, 178.16467375659, 696.2096428762775, 506.49708775204874, 408.6425886761709, 416.77277960174877, 336.7100955212448, 235.27990948282886, 227.25193778058153, 212.30889571823516, 211.51387473432516, 160.99816407289427, 159.59385171638144, 153.6550376502693, 141.781132994355, 139.00575827153588, 134.82074074190757, 134.65036230486078, 133.79905803693902, 125.02411779242404, 120.33861278741898, 135.64364207124032, 116.18751155428427, 106.73784474032966, 103.27652729223897, 99.47007625228684, 88.88495166864303, 85.19469268680574, 83.91845485052674, 82.98490748305666, 80.42957714532767, 78.29108018187809, 127.78506894385293, 1119.9353416481954, 168.9040841411495, 100.31130753692797, 187.42960687719594, 145.49863867740086, 174.38609952058854, 107.88974459751395, 573.0217455802668, 471.1041373503764, 441.46350490195437, 414.4400034463304, 597.6130929757641, 270.5997778721644, 232.4193176630524, 216.080307744579, 210.3897990095747, 207.56977859984102, 182.36098481849302, 176.09325645562325, 167.64390709556318, 166.85192848555013, 159.67844924933306, 129.022899004644, 120.25263883807533, 116.45566288565728, 108.33838146896636, 100.15581108264207, 250.54626830488422, 94.45814625928651, 89.25128732135008, 86.3294341841358, 85.38778201065108, 77.04026537807161, 79.20997228327792, 71.99138106609436, 70.03263564548382, 69.27106245975446, 194.06524120908716, 114.74096234121143, 242.47453141494458, 146.24374255895285, 158.56765895206112, 97.89713968705263, 93.15812990310444, 349.53684187125737, 327.73492689282176, 298.84222328731477, 295.0081990142125, 257.9593098899129, 230.90913210237827, 252.69234405249748, 223.70564264661326, 187.77451889332082, 180.97793493490133, 164.1342289625521, 155.61565115380702, 144.27557069265995, 144.09044691173727, 141.56593628252983, 139.41497942791528, 125.60050038697882, 251.97209646526798, 120.55361489373294, 111.21292435901834, 106.69394692309011, 104.73589672247184, 101.43674285980887, 100.13032426543867, 99.93070262095331, 97.47097083530494, 94.23263198084497, 90.54586087294214, 79.8670772604183, 79.59073096719113, 179.83020851917829, 247.15834723660345, 203.57324444098836, 278.416030673014, 145.39847637983667, 138.78228614614628, 116.3282267364926, 291.23593388460796, 285.0486483511127, 276.3137836085199, 269.27256866696456, 266.20050555260224, 189.7395622171726, 183.54067111191196, 181.34272855489235, 203.2718787419174, 163.03773345751662, 159.13314702459164, 137.55569310257997, 129.5480915725183, 125.71084754006634, 123.22435089662125, 122.10598107268308, 119.71281497944682, 110.97808908716428, 110.05513950404897, 105.24005373249474, 100.52925611480022, 88.3185341993386, 88.22350273282916, 87.8284446730095, 84.81627232580321, 76.65108147903324, 88.76676035712622, 71.50313680122342, 69.70649478255528, 62.978595566087364, 2074.282378140817, 252.92012134495351, 205.98587004785392, 101.94084308141656, 212.87897799180536, 434.32412805179615, 379.63275763596636, 302.01978357628053, 298.611671804792, 292.5106090989589, 276.7179736406376, 263.1404968348618, 223.6543482321792, 179.43451979312678, 165.8127658060543, 158.2729911052756, 155.3249447832183, 148.61512783401656, 143.71401778093596, 139.85882503722962, 132.5649916107287, 127.25025926903116, 112.31101974064569, 111.05981317257138, 107.72676969120612, 95.84245047423337, 94.20360767180728, 82.61686554082281, 81.88897672403986, 80.15748699772132, 79.00325361262857, 73.16399513106668, 67.92879983723398, 66.8277583491367, 65.55105022221566, 283.58985145732487, 289.3316579604329, 329.9767652035242, 240.3165902671419, 126.79384178510327, 108.19977401828199, 106.26370752652576, 95.52623456450152, 539.7999184183473, 432.09928196623474, 266.7627877105019, 263.99302406421134, 233.90485277461988, 233.56531018567708, 219.49224189275708, 218.79937647131172, 212.98365652463565, 209.10624865667353, 180.29405608057897, 175.5684230626346, 152.67512810201748, 113.8435773165548, 110.51339532909891, 105.66035492500411, 96.75873121043534, 95.21608410280786, 93.41981955841793, 91.77691192675529, 91.15868949125837, 87.81795462376208, 85.08589071962713, 85.02282923379522, 83.72995720433889, 80.97842027040272, 80.55596763786251, 71.585377396284, 70.1061836297555, 63.43502186526138, 382.08949367355905, 105.09674731735937, 137.79372770227977, 154.12386056396315, 93.92863273787974, 97.36510546653672, 433.0853466149137, 247.13865778029933, 219.28694111921763, 196.4960129591272, 189.87765488836502, 180.36503892014116, 159.61477098661723, 159.1818698970043, 149.41378431717303, 145.83642755176464, 131.7138612634229, 115.62331532797663, 112.2530494602923, 112.10323081632387, 106.27587275388616, 104.91621123404347, 104.88369088041424, 88.76134250359345, 198.4129672606032, 82.12475267609318, 81.8513674034419, 79.78021733626514, 74.28591698448902, 73.99758949334152, 72.47386895062654, 72.06284275456686, 325.47559289170607, 69.64165688765914, 68.96554962786504, 63.04924009404241, 258.17241195014276, 322.03227141576997, 510.4917602930845, 143.23935318244372, 130.23791938852762, 176.3380762113116, 2543.5765104575607, 486.212081473739, 354.7752758192955, 205.6076800323461, 151.25137376016448, 146.45670397754404, 122.4801795554078, 118.10014180167073, 110.40865639197744, 104.83559331180555, 104.14395849910169, 97.66569644231873, 95.608270721538, 89.31743525852876, 75.28988798110521, 67.65710923560977, 66.29004812391929, 65.0224520057604, 56.99148679013941, 55.51027731004602, 52.69889182108401, 48.65637489727902, 46.40451410011007, 40.742389172903955, 40.6655105464453, 35.90916602708184, 35.86028778697168, 35.28582478507495, 34.94526262254691, 83.67994959789783, 158.60057507637464, 102.94297203734216, 47.75275025754115, 41.410216612948595, 632.737769703769, 488.798007012767, 425.2198449948296, 337.23679489444675, 263.09778917271177, 201.20396357232042, 187.85665354939712, 171.80432031763206, 156.61826801502121, 153.49334390532857, 153.42266838707175, 153.01290169048175, 131.53415072668466, 123.22345225089431, 116.3354130746431, 98.01402095240482, 88.2419825380692, 84.26897860045132, 83.47265183126457, 782.2609159311666, 75.87787506654949, 65.32647059988038, 63.4370704944669, 63.332209630934216, 63.14327533847687, 62.99487786306303, 61.472970219364846, 60.75098294072197, 53.6130327039281, 51.338713176173634, 617.4698249902452, 276.38917378592413, 241.20044437437892, 222.68474367672778, 217.15369543563943, 179.13183026365346, 158.26617234187998, 128.90417312071054, 113.89664643497552, 100.68586096529404, 99.12889806653666, 98.35473763014751, 94.92719725828746, 90.89810954788314, 89.66524789242227, 130.310262755007, 81.01789856012904, 80.8124693480401, 76.49207966252878, 73.75542125643904, 73.5861942155567, 71.12946669775938, 70.20395288435492, 69.02045859172375, 178.44528615692724, 60.20442129229346, 59.83089793649001, 59.31073388742884, 45.89017713510071, 43.75232858369247, 217.18107027426706, 161.92602822887494, 237.58283839217046, 214.13828536507503, 66.7830793385791, 73.91913121445948, 546.6180479437517, 284.2470279348719, 277.03876835141307, 215.21013681142847, 208.36876650113916, 184.7399121707233, 180.36002039230914, 175.1103613229574, 172.08117468670272, 167.53601822607982, 163.99601348118, 162.33745775425407, 153.9675108368298, 147.38314431370304, 138.18615215879183, 133.27393855838469, 113.86674493533178, 109.92582435445524, 104.79040690976288, 104.56894048494017, 89.92896567381517, 89.54773219841638, 88.73496401651282, 81.7128936887897, 189.78062766471172, 75.80988936155028, 67.33341848707917, 65.15686835372811, 60.89388308248226, 60.395604609958, 138.1764914351137, 86.83003045913719, 87.67006017927407, 317.0457835483862, 315.64906073076247, 284.078181648218, 247.69410927528722, 200.19945977966486, 196.22424171646483, 168.55606985624084, 160.31193640457593, 158.94275633860542, 158.38066334319123, 153.1877178684536, 135.3622958438822, 126.92073477909904, 120.68433962829963, 117.26268864977207, 116.48453283633266, 99.346315457374, 222.65958312326592, 96.17617884572722, 95.01468184551005, 98.92433971506374, 76.77563947115529, 73.81416031506092, 58.312532102550605, 48.26068633593602, 44.338998812321506, 42.15034474547421, 42.008388331624545, 41.7990691030003, 38.75211566174141, 107.73882411568981, 114.74880356778807, 198.7491617629231, 93.60507272279379, 80.19180138714817, 112.00543344829691, 209.86117610622068, 160.56693998323263, 136.8717059387602, 125.7362849433485, 124.16513321190833, 118.94968490795793, 116.19912213828529, 113.45810629753633, 109.46641029523774, 129.5507133096118, 108.50898970889139, 105.72581638353302, 100.95399990347073, 100.68341428446118, 208.6834130497667, 92.7668994911508, 92.04525395304465, 89.97924495425681, 87.67531771910305, 87.43373820302234, 83.61063154847723, 81.0590686671602, 72.70161727139254, 71.02348473267664, 67.85579179682962, 58.14297280589383, 53.38041911996582, 50.14177772720681, 50.006310377759974, 48.045601731922034, 99.06032271351955, 220.69733010516757, 83.38638425454963, 81.34861013569085, 112.69774536484087, 119.95312721204947, 626.5114137449402, 265.81657563549777, 184.7557955819374, 177.1829635483385, 173.7505474465565, 140.16675369726318, 125.64900836535975, 122.50683837478431, 121.95888109116069, 118.0387440033129, 114.10925082740428, 112.52184252928923, 111.9030485721207, 191.42900744485928, 107.53342842332526, 102.58866010923583, 97.08954557159379, 113.62598056353623, 75.58250733868296, 71.32951525435928, 59.44391745874888, 57.23168120464346, 56.773177056230516, 53.25293097688521, 154.42179475263526, 50.150546295131086, 42.364964954757816, 41.95698607473472, 39.360679614060864, 37.43803941048259, 346.1508829690413, 118.8376247091918, 69.94758196437283, 361.0760173595524, 191.3248231332475, 177.08362870349498, 168.1314810808131, 161.17863010307647, 155.356579565068, 151.0886382887183, 144.22293585370792, 133.71052562398594, 130.18526292493996, 127.37391549106636, 106.74623226053576, 94.3160611872005, 92.46121710760251, 92.1668741368036, 89.31528350613375, 81.6256051942467, 80.71242965951663, 75.41761905993762, 73.11121960008879, 56.67351539593115, 49.50484417650592, 48.42278952128114, 47.77901762342074, 47.2808391243213, 89.91885195749107, 44.30604245999879, 41.81945094622162, 39.96801744177685, 38.639153216315144, 150.77500847567762, 216.6512613174072, 95.73886728048971, 109.74968491119807, 127.46609642090682, 88.32213038156365, 88.42389908211457, 65.97559677439766, 451.7463524430745, 300.18891650186845, 246.81381350984026, 208.06338675581918, 184.24394374997, 181.3655945734011, 180.61979553004656, 172.0020808146839, 167.06684136478927, 166.2630931029058, 135.8297409593176, 108.38154496679147, 106.01452955616335, 102.89817297390873, 99.23294393742695, 173.38011039759854, 85.50219854710689, 80.60016064621455, 67.30954437217314, 59.0912361050561, 58.405991712359345, 53.10348078904174, 50.98361147504095, 46.446172708575325, 44.230846973343894, 43.41456744877393, 42.627667910370654, 170.08652933080464, 245.22484625263365, 35.74799288838815, 197.39419728768877, 167.05364890482534, 190.71730123787853, 57.67318834406472, 970.1511046010595, 369.8658297640178, 214.84213188505424, 182.43341382012932, 178.97526744036122, 167.13014300476385, 165.60077082323235, 358.35877397851175, 146.50684104124605, 124.47140911642963, 120.40253686065081, 104.0475295842775, 87.39730034604659, 82.55428585844703, 77.46608493113533, 68.69475575414265, 61.74442243445835, 58.98307835052545, 56.28186046626317, 54.888739515195034, 47.809243201713834, 42.28746814730508, 41.513774733963196, 202.9045663193069, 38.0057089057942, 36.8999014254558, 34.30590085902313, 31.582729560543918, 30.004948823852924, 28.844426114901786, 244.6220427366844, 206.69123234911564, 200.5536706034343, 162.2459765056008, 87.99761053804747, 54.73873354600395, 1574.0502315108276, 537.7951865578164, 246.41315729692732, 229.26026159424092, 191.00587718474762, 186.36264224371533, 172.85058386801884, 165.8983200632536, 159.13746152594913, 129.08057483642366, 123.89186948833917, 97.02816711538061, 96.77021218200557, 78.60471417303411, 69.64161076331692, 66.76174971783969, 59.55946710810515, 57.10133207991131, 56.12698775697769, 51.54875293740834, 51.43681276963842, 45.974330216672236, 37.68434430258023, 36.34336930341275, 34.22712991558345, 125.38793735348293, 31.95422696969756, 31.871472452443143, 188.0533451960199, 29.844408771033777, 170.6075663669168, 50.23896876848677, 127.78643991295338, 86.65620097242025, 1009.5475007925797, 268.2384065216337, 203.26467347518178, 185.1251557299091, 153.66422603090612, 142.95916673324635, 119.32181213665189, 117.1382262117286, 115.40675540200579, 111.99065683761145, 110.37586310872322, 105.00096736804764, 100.02906516572845, 95.01012939650239, 91.27954148138231, 81.43761519663666, 76.28917708845803, 75.5271601480143, 73.82463189939199, 72.29423492252798, 64.86453165083046, 52.21913577569566, 172.39367516770957, 46.68316988159705, 46.50962882210742, 43.14396255612358, 42.58286322881707, 40.234896054420695, 40.150807931602515, 128.35621962936585, 81.79288932540608, 71.2218970307587, 168.69015517703104, 132.99765234651278, 90.05484744846446, 63.55998266852554, 56.571493423651916, 550.8185800367664, 130.21916663340645, 127.60284620704489, 126.90859132021792, 126.79529911270738, 107.76523565553077, 95.15313538843196, 87.52501766824747, 85.40170073633978, 549.5414189516239, 72.75928157285254, 186.18466498528537, 70.69169878578509, 55.15943505954661, 49.703323159737735, 65.13514806661654, 43.45845649929956, 726.4722723744306, 483.73084570725393, 35.581658048087036, 34.56308590333211, 30.405183025674166, 28.696770024742516, 28.14015926473314, 21.35699577331705, 21.1109574806207, 20.94049404547143, 20.528830558673, 19.96498205915966, 19.944251812757006, 122.13377626806212, 170.75831183189678, 132.09690498961186, 74.03440196304597, 52.422627667840715, 67.89185784038213, 109.15534509482255, 57.37082703994948, 39.25730845513988, 456.54037678750603, 347.7639313147784, 325.01450448239865, 277.6755582603099, 238.45203883452078, 237.11067768326637, 198.3700970476165, 173.91955862639622, 165.286945964157, 137.06447060123168, 130.28356446340825, 123.66368501264671, 115.49853824329524, 95.40981773612414, 85.02029885699282, 82.41426442678195, 80.09393953515173, 77.00103303145418, 73.48270735950001, 69.62210424781696, 66.78504704465968, 59.36280381463194, 51.62367847431432, 49.36560578462461, 48.69934922334851, 43.155509027867005, 40.729621205564875, 40.592164477314725, 39.94334001964562, 39.718871479725244, 156.220631189145, 60.55957404978765, 86.0624999789756, 62.360991799306454, 258.683873088518, 203.34572425147667, 200.3100671163505, 194.4320158366954, 182.83153492969754, 174.30444120311387, 257.60419058566157, 150.43826557341023, 124.47424324459381, 110.34957499742947, 109.60307599794673, 109.20671832391653, 102.03177805224041, 98.532708141045, 90.97290514448108, 78.76336934694234, 75.7392589067103, 67.51077512907008, 62.653844945772306, 61.27436603780696, 54.01187565026719, 50.4954080781029, 49.38879560757721, 48.7316097756433, 47.770753999468205, 45.81442084306117, 45.511737764228684, 43.227040851612514, 42.71585935441266, 41.238351815850976, 126.59611475702671, 217.48460040362602, 80.65563017428718, 96.665107860542, 90.21847426047758, 321.12661817584944, 209.80960819119534, 208.59592586887197, 158.23137580907655, 150.10618196239065, 129.2498253413981, 125.88099551433655, 118.8059007832814, 113.01607996480911, 109.84059151226981, 108.93747664473406, 100.97833742130163, 100.12610338419053, 98.5390781811601, 96.87638571845397, 96.23284907981802, 88.27839976675992, 84.34180172983707, 74.69081889046277, 72.1083836961665, 71.1007611493805, 67.48595311086827, 67.31848934659322, 64.51904643497672, 64.47570270242637, 59.18517306653175, 130.68897022717107, 58.786187432414394, 153.96826895791193, 51.70724104923366, 116.39393552077284, 756.9870389397666, 191.4212780882038, 165.03190560450054, 137.71923280788025, 125.43941336466794, 121.04369137976303, 120.46489908733227, 106.94623168050049, 96.1358085436397, 90.26652538315014, 90.05710579563066, 88.72132430572326, 88.32602148472269, 77.79954972316952, 75.76990240270082, 74.92926298280271, 69.00073075235885, 65.99593672356939, 65.80870440453934, 64.35566316607338, 60.888250406585136, 50.43194493035152, 48.33478798533657, 46.766787362132675, 39.637423706999606, 39.422126949357974, 38.51460747816978, 36.58178990817754, 33.49149152913525, 32.755136422169905, 263.1791937832166, 125.87208931456777, 184.69322933274836, 85.73660743725695, 45.1547235293843, 163.90779046913994, 159.52610743456478, 147.87244137815873, 121.05950365134106, 116.62241264217633, 104.98167833002631, 103.06441627224497, 94.14932968546385, 91.36761912638794, 89.71317615882515, 78.40978390445875, 212.04936557251833, 75.45013778329266, 71.72859409862363, 68.93307635205046, 65.47174610763795, 63.885904802567765, 62.68954612753742, 62.29664444357914, 274.98143705088745, 59.190309880105744, 55.97533418904849, 51.77851099007374, 51.39551491192352, 47.57031736884401, 46.6547347103579, 178.98387435187462, 45.424840355260585, 40.79684412685339, 35.24969453445655, 126.05465870713715, 159.6705900356344, 93.12557119402997, 69.10555935033118, 48.33455863866202, 598.593126402569, 476.43727207908563, 232.98089739969316, 169.14601253981445, 163.8268076492482, 163.28611566362576, 146.56687034182954, 143.58706921742618, 99.86679090233524, 98.46369403486264, 94.19711669382066, 100.39135407768123, 89.7696417946981, 85.24871708956007, 82.3136504606091, 81.33928943605838, 69.65180811752285, 66.56869079509124, 63.67267863452418, 62.71897536825023, 53.85191183314496, 45.42615008745564, 40.73299175091401, 37.29707897158387, 35.90048433051414, 35.525283941753244, 32.72922038777395, 32.30206385274021, 29.66407154662951, 27.82192194750361, 127.8258779667151, 330.88677714779453, 69.63195885525825, 71.53261650160297, 46.15134017788644, 269.3790589451956, 253.78343729387421, 157.55053567183796, 155.38608178869663, 154.32858731312498, 139.5689641191624, 135.50030218485728, 132.68540499923742, 129.20711593475727, 127.14730573185669, 119.44224507924164, 110.78016816333799, 134.69318795925804, 93.96700352170724, 205.10146254770663, 167.51084096643618, 68.40792507042488, 66.15022773513765, 60.36315269300052, 58.011006112211184, 55.225099350379374, 53.20466241121741, 47.08470276404049, 43.645903431975405, 41.04643904229442, 38.29173218355391, 36.088288698196386, 34.018140187486246, 46.726431413083965, 33.3771102945043, 229.04729910599104, 74.54306332658265, 41.016277080643256, 62.20351535617401, 567.4601999387329, 544.372051996823, 273.16910482799443, 204.62169447806104, 153.43887360081936, 97.39624581346375, 95.75944173265435, 83.57803832878766, 80.76505341039748, 75.06964625187064, 72.64751856520861, 67.94629479403052, 62.45609960522065, 59.584453233095864, 232.8424553809674, 49.47720140725942, 46.42010634248612, 44.43821024451346, 42.52186519531412, 40.92059505486573, 40.42166656550751, 37.88204518160214, 132.47282404918522, 35.05278045304567, 34.990422850803384, 29.445262356766563, 27.870190723177238, 27.12406175925903, 25.3236152952618, 25.023299200952984, 156.16661186478765, 203.22654181537726, 70.88465229641317, 28.417294818629316, 395.86801943478156, 277.0693361090127, 275.06088225855916, 261.5212112234527, 179.93231224295565, 158.04810622615483, 134.3431183202269, 134.12155829652284, 118.79077824656775, 114.80092974707536, 109.10423755835173, 107.10304818100526, 88.14108217152024, 84.27138575103648, 81.05857322549969, 64.93011687323722, 61.97661528852955, 57.013859095750746, 55.319494413232505, 53.618573127341186, 50.22238710736942, 48.93279579146667, 48.41481131287207, 47.54168442480206, 45.80748365232245, 43.482519142898, 40.48938966520955, 39.72759691326295, 38.37984497007722, 36.06800007345986, 236.95440312701552, 68.88500109211387, 43.27543041085959, 358.6310671919523, 291.10379369870645, 191.98915770420112, 169.52218770969097, 123.62913203881091, 122.75267304627256, 117.05988142537382, 90.36044180901102, 84.02850469863387, 83.9361726432747, 82.79990709518042, 73.65074931533299, 70.95293682184106, 70.94098855209994, 70.9119438236284, 69.30990068957075, 63.5313659500048, 58.899945837139036, 52.228513918961596, 47.80309588710028, 47.48820867745446, 44.70117539842681, 37.521606669803575, 36.34004451074683, 34.71194371565292, 34.30547587509632, 49.71915370902691, 31.146543385197084, 30.65972591467919, 27.764484410025652, 66.892686231413, 81.12390764909208, 77.29830642049787, 44.887177789877576, 746.9964987218327, 385.71263554213493, 267.8886802993602, 238.3670208634204, 161.40897998063653, 115.54834342514208, 111.51343010502973, 110.69722856253719, 91.10449802738556, 88.46681946627817, 84.15716883880063, 83.34842232178644, 77.6314379412754, 75.34178532262032, 64.28499255913958, 60.87883065505895, 58.08499496512616, 56.2449799843704, 54.74749173294085, 51.80865428833974, 49.911627981162724, 49.75337620145394, 45.28574241664315, 166.06348741018087, 40.32305570309391, 39.0592991006697, 36.71140673641537, 33.79300873818647, 31.0910298277711, 26.99953075151784, 47.82633360748253, 355.80748235390666, 127.89225397271369, 98.73218480398852, 94.15339967268102, 53.31824651623408, 53.21924647202445, 52.10369826875853, 49.51520763420208, 48.514393997199214, 47.13280002478331, 44.17899888397288, 97.62963106114739, 39.93929025205646, 57.744656771356965, 32.76343892658738, 231.89305280446516, 29.227953092687116, 27.97588462743651, 24.178421452206923, 24.141884029345178, 23.905917666606662, 23.05171938447603, 21.74838137610463, 21.66492223599791, 15.148129258015324, 14.065616198481187, 9.543489439011767, 8.737582904940417, 130.05889275774942, 6.830085203345161, 44.57750874158755, 31.023470382093695, 28.737298246654618, 27.680514316796, 22.729392063233405, 244.66789567010042, 133.45850108773763, 129.93198123016245, 125.80067975320242, 116.58485505605687, 111.80496069677211, 106.90717369883595, 72.83902690331315, 66.84885463344426, 62.25318103969361, 61.060116375903064, 55.572269057601645, 55.07682752403632, 53.4582087072705, 50.496077406200136, 46.88748783467184, 46.255586300644666, 38.257837429900576, 37.39981044253598, 35.33691025018387, 33.30932989118701, 33.237312600518436, 33.04502826813075, 29.676577829827426, 28.73150428564409, 28.51480591775359, 27.806801239066132, 27.67274150150735, 84.622935431636, 24.349639810902563, 102.18384185223273, 29.880680106988596, 292.06132345455626, 261.8930520979922, 250.4110106631192, 130.55295312436084, 127.9988136542216, 124.49450395620762, 115.9876151283768, 104.1598025774952, 94.7794332277436, 81.61918638881176, 78.14417821242789, 71.86968085022136, 69.10163651196133, 62.62021889201938, 51.25245057133816, 50.61932807181058, 39.35939818724738, 36.85639302153772, 33.670517633340395, 33.51223113311329, 30.7155198105058, 30.202096894005702, 29.18606169619147, 26.483952832013454, 20.636294599019823, 18.586136365628587, 17.97182672146266, 16.61475123560269, 15.329998899136783, 15.22212873615463, 36.20657984133825, 32.526712478318544, 68.08790914974549, 444.12350873367, 119.46012662498626, 109.79220627547525, 108.67637377999588, 98.81143858051601, 91.30055679393662, 81.48381557927166, 68.98162543240707, 67.85040326110446, 66.61785222424982, 66.39543090945696, 53.850469163557285, 51.24411506525977, 50.57878158021693, 47.97803886371812, 43.304522809277806, 40.76939321066753, 36.62311980009287, 35.52240698612407, 28.069189234877133, 23.404070003561433, 23.246607070448846, 20.240191149277624, 20.034396984241177, 18.741006103951076, 18.286892544653426, 18.226366569606462, 17.491916790467958, 16.795203216432892, 15.918589056924516, 67.4569090498869, 465.9725130418865, 396.91883782464043, 229.86986933339674, 189.52356334392582, 122.54976608179102, 95.81564091538657, 52.22954795593919, 46.438954161167445, 148.22147540244634, 42.53229686438036, 24.072240382269655, 23.717397925961503, 15.140607860225918, 15.133693115173232, 15.119837971047971, 14.094492184035929, 13.807891394014007, 11.061260528567818, 10.975297854697933, 10.615287100075575, 10.494380691040037, 206.27173891927723, 101.57571037326477, 9.132367334116886, 8.972218168198438, 7.633257414876661, 7.21322513395579, 6.51605198284642, 5.69848402305965, 5.387922378463037, 113.11042866586173, 15.740906992122206, 9.9825829942894, 8.599392243949323], \"Total\": [4054.0, 8181.0, 7969.0, 7219.0, 2549.0, 6860.0, 6461.0, 2634.0, 2447.0, 1580.0, 1883.0, 3967.0, 4313.0, 1474.0, 1644.0, 3725.0, 1523.0, 1645.0, 1015.0, 1295.0, 1221.0, 976.0, 2657.0, 1465.0, 1067.0, 2576.0, 2756.0, 1182.0, 1035.0, 1366.0, 8181.5085071761, 7969.183152164239, 7219.302309371462, 6461.974967986747, 3967.7998264067123, 1752.549013449485, 2657.410741733697, 1952.2857633802062, 6860.722108807575, 1375.3108368485648, 2576.029431364163, 2134.9808111365805, 1036.901395951069, 924.1624388344032, 1416.8058396508266, 867.0805165177364, 1163.9847160938334, 1074.1708995028239, 1810.7028362407193, 827.2134446920691, 916.6270596599519, 1350.4518204025353, 1426.2178369623348, 871.1967965271749, 828.5026816488311, 2226.5055633441634, 684.1989653090295, 670.7281248326931, 654.1728725101949, 988.2868703720981, 2756.5620368750006, 1412.247013836183, 1402.9850520334699, 1071.9699447177125, 4313.448997707909, 1440.9032756527054, 3725.681225647676, 1175.9917751603055, 1102.6643737728705, 1190.1837481530113, 980.2547067531067, 772.7985972365314, 542.6156569201943, 527.6204124735941, 451.56783052914466, 725.4368857029399, 522.5801025750596, 538.8233636158749, 428.9853031327636, 313.5256138307393, 298.5860111778684, 292.79925420849577, 288.4585331084425, 287.218033808058, 273.78166046666587, 270.9225655038514, 262.74737167502906, 262.017922628055, 245.55180406363036, 364.53884362496785, 236.91429028227293, 232.4372119726621, 401.29073888562976, 296.9047172304499, 218.83369634752827, 202.23069392784902, 196.38666150546374, 266.49570084404235, 179.6999368122562, 179.46369315641172, 578.5420869299666, 1130.1842657567513, 269.2842514772525, 735.5855123175686, 989.0361456414425, 498.8824655103068, 484.057651275802, 598.7899819544001, 698.3170929121933, 1733.9228296400001, 1635.768664798595, 1174.0383410802601, 518.5717859566408, 741.2199437246896, 790.3242229026378, 1444.1878997163242, 768.7816426715349, 453.87522417193816, 555.2811051368951, 690.4622360717452, 1687.794457969577, 1483.8827555685493, 558.1678030074762, 1070.1704292564402, 1041.1358010930278, 627.0850541091197, 580.6660842828045, 765.6087581512189, 1230.517397825393, 442.5987394043386, 440.1885123757107, 437.02287205155955, 370.8781051488404, 335.57091464386207, 774.7372598130459, 558.3975946463459, 327.87163982150037, 260.5763764519734, 650.2100405071075, 232.32940427709804, 414.02447355176935, 374.82997166293336, 205.51555618037787, 197.50854205547347, 453.1289001674097, 189.50798459551947, 183.99906947236718, 182.86133355667792, 314.6539957844189, 173.11171889978914, 1465.9188443813046, 732.4361312529493, 152.89840471392083, 151.189109143653, 143.42203120226563, 575.398001834296, 320.5074579602043, 409.467651115269, 355.8327547170821, 758.8369448864127, 562.2770881262486, 419.2657012918106, 753.8635121518117, 446.29419314418374, 632.6621736139385, 561.4254916576436, 547.9535143763385, 463.0476964682914, 516.9090494537533, 498.9706482882689, 710.9837756687587, 1441.091835971957, 574.4667110208944, 1101.8212424912908, 778.7336202281675, 707.969328848562, 684.3583145800322, 609.6355334767175, 475.510216708098, 456.8865115913038, 383.2989809027761, 889.9016744956996, 318.01419477034597, 317.1262779770202, 315.1145806135831, 304.04386190120357, 443.561284763288, 282.24808388527197, 267.032826459799, 359.5667955088458, 264.72827697772266, 243.14008115959334, 242.61536366700832, 229.5767090270902, 806.9440021770025, 223.07800836349588, 215.58532554735186, 204.92739578525283, 190.37394463148604, 186.94928403507075, 185.10856700511397, 181.12083259532508, 147.1015263608475, 725.9753520192335, 517.7146353163973, 584.8080223278773, 462.9063941858402, 692.3443828303361, 1366.27894534578, 1391.495746510371, 389.1912488496549, 649.5149742334983, 941.969864816711, 1116.1849343717463, 598.2603685866707, 386.9444950359696, 1883.5491248015928, 1523.6579867368496, 968.0670377490718, 369.9939421045572, 363.29081718700866, 357.7800856305304, 317.2607454795417, 310.04441991769664, 303.0277655923761, 290.1071742788633, 342.1173682723201, 432.4524634715598, 241.8437064442962, 234.03254466788215, 379.9018529739187, 210.899388320006, 204.8568280679886, 206.15735740486465, 194.19976448929054, 187.9566536093156, 173.4953331033783, 168.88047244708702, 186.28036805044238, 164.1714022988678, 154.85450770844855, 147.9437058501457, 143.73970201738285, 137.07342187187163, 131.95686111718058, 131.4454864659624, 503.3884753741805, 829.1498285351336, 299.9790307563982, 282.4499652014905, 501.52196074973114, 271.2224899754532, 516.7427216072871, 366.99117782706486, 820.2104682742334, 796.3840665433395, 1070.1704292564402, 912.1889477239864, 479.5920447643695, 390.3338810028144, 1116.1849343717463, 591.719381341238, 478.75289980949265, 462.4209835659635, 473.87024027844535, 394.0837767585894, 381.3060567152661, 335.7592699849873, 335.61313151024723, 311.13424267832784, 292.6325487557727, 291.1869865403659, 287.38182751766806, 676.6799317437999, 271.6152393658172, 271.650021026367, 224.82816297573075, 192.9284538450911, 172.96823745272647, 166.60908129270126, 161.12979010626827, 444.0350526359908, 143.28649310001128, 132.0727809347052, 130.46847146151146, 128.29425322430802, 198.3535816990223, 244.26968944944522, 107.873682940421, 107.1847684966793, 106.71059172173604, 151.38530289536942, 349.98793919254075, 626.0343246765407, 757.7863786143181, 603.0035370045096, 837.1596413226464, 416.8133589554151, 289.70991914630326, 294.1667190219244, 437.51688901391276, 281.6860266592776, 277.22341804015065, 4054.4219974135804, 846.6657636225468, 680.9572670688734, 426.11793610882927, 421.5022221673538, 397.4997302671181, 347.8683309872677, 339.8008531435895, 311.9986130134274, 569.8157925864072, 289.77921143881207, 264.34887817023, 251.77703892070792, 251.37765895393653, 232.62893409937172, 212.3323879418102, 206.89814038764968, 135.8701299329469, 129.9171732487029, 124.56806308889169, 116.41702279736029, 114.96773094968349, 112.19988787652328, 102.25838420652414, 100.54564493921688, 93.73266715300976, 92.67143409678006, 242.66598822816047, 91.31650862928996, 90.55429471418981, 342.16821984715205, 911.0889153703623, 446.9998639178104, 451.2600199587423, 1008.3283456057608, 283.623643265179, 768.9759640461625, 338.50343531459566, 717.0398566358031, 1067.7590518858347, 937.0457325163511, 703.3702116297994, 1035.848199737356, 473.32019826202753, 458.6151346061906, 411.3164864670896, 394.8835365690111, 377.1772340912699, 498.8973703307079, 312.505232028639, 312.1009864250794, 278.7718418270266, 204.70341858770135, 202.68992826683214, 201.70962254811928, 201.26209263642113, 185.2179307669411, 184.54146174081941, 484.4049373226315, 150.63334382506687, 138.71514692073765, 134.3355039340804, 121.51015296771433, 115.59893852398073, 114.5653405367924, 105.57997367077826, 99.62644889697724, 98.50141133894377, 97.42084373903288, 1645.1738847755973, 1182.6338138711512, 1441.091835971957, 331.4719629070063, 521.5342242212545, 796.3840665433395, 1197.8950182558444, 3725.681225647676, 2634.4656599230043, 1474.4080293774134, 1221.9982275889854, 403.2371730417137, 275.352155566367, 262.30864588836954, 227.96454033525072, 205.59033075280936, 204.89238540102014, 193.23444564652223, 192.52892726576064, 185.93959817935269, 165.48997155585175, 162.0324397055359, 149.7992981617089, 149.42074866766072, 144.0306653383562, 142.36995364004113, 137.42777683294756, 116.94438879892584, 116.70499048533034, 117.50762223483892, 109.51591852551226, 108.00536325037861, 106.89546223642508, 97.95335110580436, 97.91958063818555, 97.4482327493143, 96.506075976361, 86.43405897467703, 132.96682169758628, 1644.815016260253, 246.0960389776932, 163.36899357339033, 632.6621736139385, 970.177740926765, 868.2584091899851, 832.818877512915, 705.6848144748317, 696.0775495922455, 593.4390509083134, 422.2652945605554, 359.3462892628604, 319.83490742919713, 313.395018366362, 313.395018366362, 281.71438287687846, 546.6000776073257, 215.75095757399575, 209.40897167854263, 201.87323440473946, 186.32809676688964, 153.8487597599743, 147.80918768818594, 320.4420665278261, 538.4515582270125, 122.19084303437401, 121.85116802607342, 108.0801825061172, 104.90510850497739, 100.91767896959836, 99.31527389654097, 86.45427270603182, 84.65892576656991, 70.91232867718273, 364.3173900059398, 456.0604515661753, 273.66486307442227, 196.3290195619242, 707.5545723996756, 282.7030254471063, 447.6228364209697, 386.0486359802681, 394.84485621544854, 377.22159143947187, 367.07185567963575, 349.93833919523956, 309.22409397142314, 301.0285310563211, 277.4465387725531, 268.3533155478901, 265.899412316676, 240.9338156432206, 232.2444957874357, 224.3471125117502, 219.91349327932932, 214.23156829949934, 211.09545230322348, 311.2998670489754, 205.15965193996757, 191.6916076313506, 256.81015041775294, 190.2317107852423, 168.40604810085466, 164.10688524374947, 148.95732702277613, 138.52984779091943, 138.41993516437586, 113.25737594785251, 107.97720165214915, 119.99685830974849, 564.0402278061714, 900.6006415346934, 304.4862896295222, 580.3902345667999, 662.6397707452167, 941.969864816711, 479.48761202541766, 394.80531588592174, 392.23074509497854, 376.4764679994906, 364.05087484310224, 346.1108951419382, 322.20341774565014, 372.5006219970688, 301.9968009480582, 298.6934592921196, 292.0546129075216, 290.030807010136, 267.5736069459585, 264.90595732588605, 218.85664430401502, 216.17062569341545, 183.69791408066507, 180.2662251284982, 166.90669674797837, 159.87882968078566, 159.42977488914633, 147.47841244683747, 128.49370128137588, 127.5170945323155, 117.40516310281592, 107.80211525536981, 102.52190915214604, 101.64986717894367, 96.53977171357663, 94.64890882733617, 539.1619217427208, 466.32832555528205, 360.38048314406683, 183.0761928594814, 516.5426835698937, 247.4141246757567, 265.47286454704664, 687.1761220111847, 429.6477524981446, 429.5510389948731, 400.3580093313498, 348.056798211014, 337.4173525951385, 260.10693838037844, 257.4063753051678, 237.85605960825364, 234.88557887352647, 231.4288888881176, 215.3730558221734, 414.6406837133251, 183.080305735681, 174.28363901216315, 171.8532780166072, 155.6720990877777, 149.98823346344233, 146.3681242661828, 144.00656561749483, 140.4347272731173, 123.91518823129756, 117.23867128702055, 116.49346269313628, 116.09359683137363, 107.97378684642892, 107.16482004598772, 101.05814919517839, 99.75717578179356, 97.880243663857, 139.07042027361908, 390.02329244586855, 257.6922719391816, 211.33615612283958, 323.24818722001635, 702.3882520896066, 512.6756933378828, 414.82119427734966, 423.3147997498615, 343.0724389249776, 241.45851506866302, 233.827156200214, 218.48750130406933, 217.69248032015932, 167.17676965872843, 165.7724573022156, 159.8350574580639, 147.95973858018917, 145.18436385737004, 140.99934632774173, 140.82896789069494, 139.97766362277318, 131.2027234326043, 126.51721837325303, 142.6960283546042, 122.36611714011832, 112.91645032616371, 109.46074559019827, 105.6486818381209, 95.06355725447708, 91.37329827263979, 90.09706043636079, 89.16351306889071, 86.60818273116172, 84.46968678046585, 138.30151482385517, 1295.8001103195736, 198.55576597102956, 111.31950143293605, 257.04195546977746, 326.96154446003, 1366.27894534578, 343.00645526194245, 579.2011333656319, 477.28354512593967, 447.6428926082217, 420.61939115259776, 610.9412974729769, 276.77916557843173, 238.59870536931987, 222.25969545084646, 216.56918671584216, 213.74921066288974, 188.5403725247605, 182.27264416189072, 173.8268602829361, 173.0313161918176, 165.86482457436546, 135.202287460298, 126.43202654434268, 122.63505059192462, 114.51776917523371, 106.33519878890942, 266.77032213666934, 100.63753396555386, 95.43067502761743, 92.50882189040315, 91.56716971691843, 83.21965308433896, 85.83419756287867, 78.17076877236171, 76.21202335175117, 75.45045016602181, 222.60983470718784, 128.16346896766174, 321.7967333001684, 198.9347885477961, 253.03433717522603, 150.39737513916947, 310.56944119527174, 355.70816611002334, 333.90619053403486, 305.01348692852787, 301.1794626554256, 264.130573531126, 237.0804710417044, 259.4841322216803, 229.87690628782653, 193.9457825345341, 187.1491985761146, 170.30549262046554, 161.7869147950203, 150.4468351535193, 150.26171055295055, 147.7371999237431, 145.594077863081, 131.78368379089144, 264.53842150076224, 126.72487853494607, 117.38418800023148, 112.86521056430324, 110.90716036368497, 107.608006501022, 106.3015879066518, 106.10196626216644, 103.64223447651807, 100.40389564690562, 96.71712451415527, 86.03834090163143, 85.76199460840427, 204.425370453346, 290.95910248127564, 242.58655036175372, 400.52924849084945, 181.47057401142834, 186.0622148866541, 226.23677274858653, 297.4119567322879, 291.22467119879263, 282.4898064561998, 275.451262431123, 272.37652840028215, 195.91558506485265, 189.71669395959202, 187.51883105500656, 210.91338257060647, 169.2137836732093, 165.3091698722717, 143.73171595026002, 135.72411442019836, 131.8868703877464, 129.40037374430122, 128.28200392036302, 125.88883782712672, 117.15411193484418, 116.23116235172887, 111.41607658017465, 106.70527896248012, 94.4945570470185, 94.39952558050906, 94.0044675206894, 90.99229517348311, 82.82710432671314, 95.92249733175888, 77.67915964890332, 75.88251763023518, 69.15461841376727, 2447.73329419148, 371.88596626884885, 322.69813966924215, 151.1783836921763, 1008.3283456057608, 440.50674216679965, 385.81537121968637, 308.20239716000054, 304.79926607732625, 298.7134442555365, 282.9005872243576, 269.3231104185818, 229.83696208581677, 185.61713337684694, 171.99537940429656, 164.45560468899575, 161.50755836693847, 154.79774141773672, 149.89663136465612, 146.04143862094978, 138.74760519444885, 133.4328728527513, 118.4936333243657, 117.2424267562914, 113.90938327492613, 102.11995486053578, 100.38622125552729, 88.79947915399894, 88.07348239842315, 86.34010058144133, 85.18586719634858, 79.37942457551013, 74.111413420954, 73.01037193285671, 71.73366380593568, 347.0874446677366, 388.20457137070946, 503.1247828321727, 352.33429170081, 178.14952128801124, 185.37608581084774, 838.8100972811303, 1182.6338138711512, 545.9702033625396, 438.26956691042693, 272.9330726546941, 270.16330902116215, 240.07513771881221, 239.7355951298694, 225.6625268369494, 224.97131318856728, 219.15394146882798, 215.30246687820755, 186.4643410247713, 181.73870800682693, 158.8454130462098, 120.01402872829495, 116.6836802732911, 111.8306398691963, 102.92901615462753, 101.38636904700004, 99.59010450261012, 97.94719687094748, 97.32897443545056, 93.98823956795427, 91.25617566381932, 91.19311417798741, 89.90024214853108, 87.14870521459491, 86.7262525820547, 77.75566234047619, 76.2764685739477, 69.60530680945357, 458.70737200664536, 118.40002322333146, 200.29115506906038, 291.4620794786472, 117.9167881930875, 690.4622360717452, 439.2496047799828, 253.30291594536854, 225.45119928428684, 202.66559366757468, 196.04191305343423, 186.52929708521037, 165.77902915168644, 165.34612806207352, 155.57804248224224, 152.00068571683386, 137.8781194284921, 121.78757349304571, 118.41737690118507, 118.26748898139296, 112.44013091895523, 111.08046939911254, 111.04794904548332, 94.92560149113228, 213.08005228845207, 88.28901084116227, 88.01562556851097, 85.94447550133422, 80.45017514955809, 80.1618476584106, 78.63812711569561, 78.22710091963593, 353.449088364741, 75.80591505272822, 75.12980779293413, 69.21349825911149, 300.9506853414539, 415.17729933013356, 717.0398566358031, 203.2387782307072, 197.3758062561548, 1008.3283456057608, 2549.779125019073, 492.4146960352506, 361.00030472922367, 211.81029459385783, 157.4539883216762, 152.65931949952747, 128.6828319169941, 124.30275675582557, 116.61127095348904, 111.03820787331715, 110.34657306061328, 103.86831100383033, 101.8108852830496, 95.52004982004036, 81.4925025426168, 73.85972379712136, 72.49266268543089, 71.225066567272, 63.19410135165099, 61.7128918715576, 58.90150638259559, 54.8589894587906, 52.60712866162165, 46.945003734415536, 46.86812510795688, 42.11178058859342, 42.06290234848326, 41.48843934658653, 41.147877184058494, 100.37196884201553, 213.99985049242557, 166.68625982903626, 844.4751545708303, 264.77667845701563, 638.9468480271004, 495.00708533609827, 431.42892331816086, 343.445873217778, 269.306867496043, 207.41304189565182, 194.54852238256552, 178.0133986894437, 162.8273463383526, 159.70242222865997, 159.63174671040315, 159.22198001381315, 137.74322905001605, 129.4325306832753, 122.54449139797435, 104.22309927573608, 94.45106086140045, 90.47805692378257, 89.68173015459583, 844.4751545708303, 82.08695338988075, 71.53554892321164, 69.64614881779816, 69.54128795426547, 69.35235366180812, 69.2039561863943, 67.68204854269611, 66.96006126405322, 59.822111027259346, 57.54779149950489, 623.6695971650099, 282.5889449810495, 247.40021556950444, 228.8845148718533, 223.35346663076496, 185.33160145877898, 164.4659435370055, 135.10394431583606, 120.09641763010092, 106.88563216041943, 105.32866926166206, 104.5545088252729, 101.12696845341286, 97.09788074300853, 95.86501908754767, 139.95786856550131, 87.21772151902977, 87.01224054316549, 82.69185085765417, 79.95519245156443, 79.7859654106821, 77.3292379683931, 76.40372407948031, 75.22022978684915, 196.41643222727828, 66.40419248741884, 66.03066913161538, 65.51050509765587, 52.08994836326358, 49.95209977881786, 251.76785927691148, 188.39681423644478, 388.35169219814946, 420.7893166446964, 241.56409855174493, 1645.1738847755973, 552.825070065349, 290.4540500564691, 283.2457904730103, 221.4267407960687, 214.5757886227365, 190.94693429232063, 186.56704251390647, 181.3173834598995, 178.28819680830006, 173.74304034767715, 170.20303560277733, 168.5444798758514, 160.17453299515986, 153.59016643530038, 144.39317428038916, 139.48096067998202, 120.073767056929, 116.13304395174085, 110.9974290313601, 110.77596260653739, 96.13598779541239, 95.7547543200136, 94.94198613811004, 87.91991581038693, 205.28544358459925, 82.635824402867, 73.54044060867639, 71.36389047532533, 67.10090520407948, 66.60262673155522, 171.1753067133685, 109.11819860252595, 128.11933745305038, 323.24881660621816, 321.85209375081, 290.28121466826553, 253.89714229533493, 206.40249279971258, 202.42727473651254, 174.75913261137111, 166.51496942462364, 165.14578935865313, 164.58369636323894, 159.39075088850132, 141.56532886392992, 133.12376779914675, 126.8873726571361, 123.46572166981967, 122.68756585638026, 105.5493484774216, 236.8107861798987, 102.37921186577482, 101.21771486555765, 106.41907875058476, 82.97867249120289, 80.01719333510852, 64.51556512259819, 54.46371935598361, 50.5420318323691, 48.3533777655218, 48.211421351672136, 48.00210212304789, 44.955148681789005, 129.01559930902812, 143.16626217938102, 264.77667845701563, 116.62745650569492, 104.6231664714223, 194.6743886562238, 216.03861089033094, 166.7443747673429, 143.0491407341701, 131.91371972745875, 130.3469888043657, 125.12711969206806, 122.37655698377444, 119.63554108164647, 115.64384507934787, 136.9253409869374, 114.68642450752364, 111.90325116764315, 107.13143468758086, 106.86084906857131, 222.53456846834985, 98.94433427526093, 98.22268873715478, 96.15667973836695, 93.85275250321318, 93.61117298713248, 89.78806633258736, 87.23650345127034, 78.87905205550267, 77.20091951678677, 74.03335421557493, 64.32040759000397, 59.55785390407596, 56.31921251131695, 56.183745161870114, 54.223036516032174, 123.02959486898195, 317.5665287334871, 103.0256834230257, 102.00637356450635, 171.48645074689918, 236.57759994115875, 632.7065323698025, 272.01169426036006, 190.95091420679975, 183.37816771976287, 179.94566607141886, 146.36187232212552, 131.8441269902221, 128.7019569996466, 128.15399971602295, 124.23386262817515, 120.30436958586797, 118.71696115415148, 118.09816719698294, 202.17366273945757, 113.72854704818751, 108.78377873409808, 103.28466419645603, 122.63656284057605, 81.7776259635452, 77.52463585994676, 65.6390360836111, 63.42679982950571, 62.96829568109277, 59.448049601747464, 172.81340390816575, 56.34566491999334, 48.56008357962007, 48.152104699596975, 45.55579825851591, 43.63315803534484, 500.4892976554048, 912.1889477239864, 559.7650500929429, 367.2675137028821, 197.5163194765773, 183.2751250468248, 174.32297742414292, 167.3701264464063, 161.5480759083978, 157.28013463204812, 150.41443219703774, 139.90202196731576, 136.37675926826978, 133.57864394184995, 112.93772860386548, 100.50755753053022, 98.65271345093223, 98.35837048013332, 95.50677984946347, 87.81710153757642, 86.90392600284635, 81.60911540326734, 79.3027159434185, 62.865011739260886, 55.69634051983566, 54.61428586461088, 53.97051396675048, 53.472335467651035, 102.07059878120116, 50.49753880332853, 48.01094728955136, 46.15951378510659, 44.83064955964488, 196.2527490157499, 305.4819166799278, 123.89081646012703, 176.39259780337045, 224.27385319855227, 240.3057706176815, 758.8369448864127, 768.9759640461625, 457.94159018969884, 306.3841542484928, 253.0090512564647, 214.2586245024436, 190.43918149659441, 187.56083232002553, 186.815033276671, 178.19731856130832, 173.26207913609053, 172.45833093178635, 142.02497870594203, 114.5767827134158, 112.20976730278768, 109.09341072053306, 105.42818168405128, 184.557925004534, 91.69743629373122, 86.79539839283888, 73.50478211879746, 65.28647385168041, 64.60122945898368, 59.29871853566608, 57.178849221665295, 52.64141047479246, 50.42608471996824, 49.60980519539827, 48.822905656995, 197.10918654259254, 285.40890067496565, 41.94323063501249, 232.33428171513114, 213.00018677458868, 365.2763314979295, 446.29419314418374, 976.3671117602971, 376.0818838146146, 221.05813904429178, 188.64942097936685, 185.19127459959876, 173.3461501640014, 171.8167779824699, 373.189919627425, 152.72284862352643, 130.68741627566715, 126.61854401988825, 110.26353674351493, 93.61330750528403, 88.77029301768447, 83.68209209037276, 74.91076291338008, 67.96042959369579, 65.19908550976288, 62.497867625500625, 61.10474667443249, 54.02525036095129, 48.50349849193301, 47.72978189320065, 235.80410321546216, 44.22171606503166, 43.11590858469326, 40.52190801826059, 37.798736719781374, 36.220955983090384, 35.06043327413924, 298.0036566753869, 309.0328214143373, 420.7893166446964, 837.1596413226464, 1444.1878997163242, 574.4667110208944, 1580.282731675187, 544.1614491294756, 252.645657461287, 236.5320472346172, 197.23837734910728, 192.595142408075, 179.0830840323785, 172.13082022761327, 165.3699616903088, 135.31307500078333, 130.12436965269885, 103.26066727974018, 103.00271234636513, 84.83721433739368, 75.87411092767648, 72.99424988219926, 65.79196730594542, 63.33383224427091, 62.35948792133729, 57.781253147072924, 57.669312933998015, 52.206830381031835, 43.91684446693982, 42.57586946777235, 40.45963007994304, 149.1100096651631, 38.18672713405716, 38.103972616802736, 225.24401144009028, 36.07690893539338, 355.4570054430432, 77.71755877485357, 2447.73329419148, 1295.8001103195736, 1015.7570113276207, 274.4479172069761, 209.47418401022267, 192.3024825646191, 159.873736565947, 149.1687837148409, 125.5313226716927, 123.34773674676941, 121.6162659370466, 118.20016737265227, 116.58537364376404, 111.21047790308846, 106.23857570076927, 101.21963993154321, 97.48905203316349, 87.64712575127027, 82.49868762349885, 81.73667068305512, 80.03414243443281, 78.5037454575688, 71.07404218587128, 58.42864631073651, 193.35175640239942, 52.892680429858, 52.71913935714827, 49.35347309116443, 48.79237376385792, 46.44440658946154, 46.36031846664336, 148.3860397446313, 97.49412904232905, 86.7420937475867, 241.56409855174493, 310.4769754281765, 240.3057706176815, 244.45869565392536, 388.35169219814946, 557.0285015272518, 136.4290881238919, 133.81276769753032, 133.11851281070335, 133.0052206031928, 113.97515715277235, 101.3630568789173, 93.73493915873281, 91.61162222682512, 590.7203085246229, 78.96920306333789, 202.51443459819495, 76.90162030293305, 61.36935655003199, 55.91324465022311, 73.93853036210531, 49.668377989784936, 838.8100972811303, 559.7650500929429, 41.791579538572414, 40.77300739381749, 36.615106504900965, 34.90669151522789, 34.350080755218514, 27.566917263802413, 27.320878971106065, 27.150415535956792, 26.738752049158368, 26.174903549645027, 26.15417330324237, 168.36973101586392, 263.5827362942382, 224.37792437147638, 283.623643265179, 181.79524105864718, 451.2600199587423, 1645.1738847755973, 562.2770881262486, 419.2657012918106, 462.7506372469095, 353.9741915078649, 331.2247646754851, 283.8858184533964, 244.6622990276073, 243.3209378763529, 204.58035724070302, 180.12981885483373, 171.49720615724354, 143.2747307943182, 136.49382465649478, 129.87394520573324, 121.70879843638168, 101.62007792921058, 91.23055905007926, 88.6245246198684, 86.30419972823817, 83.21129322454063, 79.69296755258645, 75.8323644409034, 72.99530723774612, 65.57306400771839, 57.833938667400794, 55.57586597771109, 54.90960941643499, 49.36576922095348, 46.93988139865135, 46.8024246704012, 46.153600212732094, 45.92913167281172, 184.20354963819665, 176.39259780337045, 2447.73329419148, 768.9759640461625, 264.87903326812125, 209.54088443108, 206.5052273077375, 200.62717601629873, 189.0266951666441, 180.4996013827172, 267.2987366385136, 156.63342575301357, 130.66940342419713, 116.54473517703273, 115.79823617755, 115.4018785035198, 108.22693823184368, 104.72786832064827, 97.25842393317872, 84.9585295265456, 81.93441908631357, 73.70593530867335, 68.84900512537557, 67.46952621741022, 60.207035829870485, 56.69056825770619, 55.583955822531486, 54.92676995524659, 53.9659141790715, 52.00958102266446, 51.706897943831976, 49.422201031215806, 48.91101953401595, 47.43351199545427, 168.54556079420956, 320.145180366908, 102.86515631692733, 194.69024270739123, 357.5725755061103, 327.32390729402846, 216.00689730777697, 214.79321496368325, 164.42866490388784, 156.30347105720193, 135.44711443620938, 132.07828460914783, 125.00318987809261, 119.21336905962032, 116.03788060708102, 115.13476573954527, 107.17562651611284, 106.32339247900174, 104.73636738697226, 103.07367481326519, 102.43053405637873, 94.47568886157113, 90.53909082464828, 80.88810798527398, 78.30567279097771, 77.29805024419171, 73.68324220567948, 73.51577844140444, 70.71633552978793, 70.67299179723759, 65.38246221125328, 144.4654201254003, 64.9834765272256, 172.06032003677075, 57.9045301440449, 213.50672511800838, 763.193334956736, 197.62757411863643, 171.2382016302587, 143.925531917417, 131.6457093816372, 127.24998739673222, 126.67119510430146, 113.15252769746968, 102.34210456060889, 96.47282140011933, 96.26340181259985, 94.92762032269245, 94.5323175106664, 84.00584574013871, 81.97619841967001, 81.1355589997719, 75.20702676932804, 72.20223274053858, 72.01500042150853, 70.56195918304257, 67.0945468354645, 56.638240947320746, 54.541084002305794, 52.9730833791019, 45.84371972396883, 45.6284229663272, 44.720903495139005, 42.78808592514677, 39.69778754610448, 38.96143243913913, 325.9031732725635, 162.27359485458348, 308.46480296842645, 2447.73329419148, 574.4667110208944, 170.09690221786587, 165.7152184971353, 154.06155244072926, 127.24861471391152, 122.81152371796688, 111.17078939259677, 109.25352733481543, 100.33844074803432, 97.5567301889584, 95.90228722139561, 84.59889496702921, 229.22497118402103, 81.63924884586312, 77.91770516119409, 75.12218741462092, 71.66085717020842, 70.07501586513823, 68.87865719010787, 68.48575552333133, 303.05108861212364, 65.3794209426762, 62.16444525161897, 57.96762214471274, 57.584625974494, 53.75942843141449, 52.84384577292838, 203.1238148699609, 51.61395141783107, 46.98595518942387, 41.438805597027034, 149.77775009447979, 233.43050023288092, 128.4211466794124, 88.74271421782642, 561.4254916576436, 604.8041857839233, 482.64835864260453, 239.1919567434984, 175.35707188361968, 170.03786699305343, 169.497175007431, 152.77792968563477, 149.7981285612314, 106.07785024614043, 104.67475337866783, 100.40817603762585, 107.13887134309803, 95.98070113850329, 91.45977643336526, 88.52470980441429, 87.55034877986357, 75.86286746132804, 72.77975013889643, 69.88373797832936, 68.93003471205542, 60.06297117695017, 51.63720943126085, 46.94405109471922, 43.50813831538908, 42.11154367431935, 41.736343285558455, 38.94027973157916, 38.51312319654542, 35.87513089043472, 34.03298129130882, 164.33292810847405, 585.7963521136377, 95.7494063505264, 463.0476964682914, 224.27385319855227, 275.58828261183055, 259.99266096050917, 163.75975936153367, 161.59530545533158, 160.53781097975994, 145.7819235869346, 141.70952585149223, 138.89462866587237, 135.41633960139222, 133.35652939849166, 125.65146874587653, 116.98939185004481, 142.80891982457072, 100.17622718834212, 220.76723227847987, 181.40054026302636, 74.61714873705976, 72.35945140177253, 66.57237635963541, 64.22022977884609, 61.434323017014286, 59.413886077852325, 53.293926430675405, 49.85512709861032, 47.255662708929336, 44.500955850188824, 42.2975123648313, 40.22736385412116, 55.41411333015037, 39.58633396113921, 343.00645526194245, 129.2940038961155, 65.44274954988227, 292.19471050522714, 573.6724075531732, 550.5842596112633, 279.38131244243476, 210.83390232628824, 159.65108121525972, 103.60845342790404, 101.97164934709464, 89.79024594322794, 86.97726103276739, 81.28185386631093, 78.8597261796489, 74.15850240847081, 68.66830721966095, 65.79666084753616, 259.1304749085824, 55.691803152026935, 52.632313956926424, 50.650417858953766, 48.73407280975442, 47.13280268937761, 46.63387417994781, 44.09425279604244, 154.54661751008868, 41.2649880802446, 41.202630465243686, 35.657469971206865, 34.08239833761754, 33.33626937369933, 31.5358229097021, 31.235506815393283, 355.4570054430432, 1441.091835971957, 363.9885095395672, 42.09930719438587, 402.0823347035496, 283.2836514435856, 281.2751975273272, 268.14282253376285, 186.14662751172364, 164.26242149492282, 140.55743358899488, 140.33587356529083, 125.00509351533572, 121.01524501584332, 115.31855282711969, 113.31736344977323, 94.3553974402882, 90.48570101980444, 87.27288850605761, 71.14443214200519, 68.1909305572975, 63.228174364518715, 61.533809682000474, 59.832888396109155, 56.43670237613739, 55.147111060234636, 54.62912658164004, 53.755999693570025, 52.02179892109042, 49.69683441166597, 46.70370493397752, 45.94191218203092, 44.59416023884519, 42.282315342227825, 1182.6338138711512, 236.57759994115875, 213.50672511800838, 364.8292028176359, 297.3019293243901, 198.18729332988477, 175.72032337552108, 129.82726779134043, 128.95081065815612, 123.25801705105742, 96.55857743469463, 90.22664243767183, 90.1343082689583, 88.99804272086402, 79.84888494101659, 77.15107251407176, 77.13912417778354, 77.1100795437057, 75.5080363220106, 69.7295015756884, 65.09808146282263, 58.42664954464521, 54.00123151278389, 53.68634430313807, 50.899311024110425, 43.71974229548719, 42.53818013643044, 40.910079341336534, 40.50361150077993, 58.91217221758153, 37.3446790108807, 36.857861540362805, 33.962620035709264, 90.01977183500674, 133.7636864544445, 138.18612383596235, 279.6353162711299, 753.2173244826055, 391.93346130290763, 274.1095060601329, 244.58784662419313, 167.62980574140926, 121.76916918591476, 117.73425588254277, 116.91805434798671, 97.32532378815824, 94.68764522705085, 90.37799459957331, 89.56924816481525, 83.85226370204808, 81.56268989404597, 70.50581831991227, 67.09965641583163, 64.30582072589884, 62.46580574514309, 60.96831752661599, 58.02948004911243, 56.132453741935414, 55.97420196222663, 51.50656817741584, 190.17861808603143, 46.5438814638666, 45.28012486144239, 42.93223249718806, 40.01383449895916, 37.311855588543786, 33.22035651229053, 71.52052546502858, 362.006229171731, 134.09100079053798, 104.93093162181277, 100.35214649050528, 59.51699333405835, 59.41799328984872, 58.30244508658279, 55.71395445202634, 54.71314081502348, 53.33154684260757, 50.377745701797146, 112.08198028956953, 46.138037069880724, 68.11567059831026, 38.96218574441165, 280.12788821930127, 35.42669991051138, 34.17463144526078, 30.377168270031188, 30.34063084716944, 30.104664484430923, 29.25046620230029, 27.947128193928894, 27.863669053822175, 21.346876075839585, 20.26436301630545, 15.742236256836033, 14.936329722764684, 244.45869565392536, 13.028832021169428, 240.3057706176815, 753.8635121518117, 768.9759640461625, 710.9837756687587, 603.0035370045096, 250.89303466963275, 139.68364009519956, 136.15712022969478, 132.02581875273475, 122.80999405558916, 118.0300996963044, 113.13231490572835, 79.06416590284545, 73.07399363297655, 68.4783200392259, 67.28525537543536, 61.79740805713394, 61.301966523568616, 59.6833477068028, 56.721216405732434, 53.112626834204136, 52.480725300176964, 44.482976429432874, 43.62494944206828, 41.56204924971617, 39.53446889071931, 39.462451600050734, 39.27016726766305, 35.90171682935973, 34.95664328517639, 34.73994491728589, 34.03194023859843, 33.89788050103965, 104.09229016119862, 30.57477881043486, 132.87436540402544, 768.9759640461625, 298.2873745803186, 268.11910322375456, 256.63706178888157, 136.7790042501232, 134.22486477998396, 130.72055508196996, 122.21425596962497, 110.38585370325752, 101.00548435350592, 87.84523751457408, 84.37022939699546, 78.09573197598368, 75.32768763772366, 68.8462700177817, 57.478501697100484, 56.84537919757291, 45.585449313009704, 43.08244414730005, 39.89656875910272, 39.738282258875614, 36.94157093626813, 36.42814801976803, 35.4121128219538, 32.71000395777578, 26.862345724782152, 24.812187491390915, 24.197877847224987, 22.840802361365018, 21.55605002489911, 21.44817986191696, 51.86388478414894, 141.71282192328388, 2447.73329419148, 450.3434131177338, 125.6800188680459, 116.0120985185349, 114.8963055925925, 105.03133082357566, 97.52044903699627, 87.70370782233131, 75.20151767546672, 74.07029550416411, 72.8378150249714, 72.61532315251661, 60.070361406616925, 57.46400730831941, 56.79867382327657, 54.19793110677776, 49.524415052337446, 46.98928545372717, 42.84301224208125, 41.74229922918371, 34.289081477936776, 29.623962246621076, 29.466499313508486, 26.460083392337268, 26.254289227300816, 24.96089834701072, 24.506784787713066, 24.446258812666102, 23.7118090335276, 23.015095459492535, 22.138481299984157, 102.56392664090822, 472.2256868744425, 403.17201165719644, 236.12304317917287, 195.77673717648184, 128.80293991434704, 102.0688147624647, 58.482721813670594, 52.69212799372347, 169.46190696824, 48.785470696936386, 30.32541421482568, 29.97057175851753, 21.393781692781943, 21.386866947729256, 21.373011803603998, 20.347666016591955, 20.061065226570033, 17.314434361123844, 17.228471687253958, 16.8684609326316, 16.74755452359606, 343.5713758990611, 169.52603350194195, 15.385541166672912, 15.225392000754464, 13.886431422629713, 13.466398966511814, 12.769225815402447, 11.951657855615675, 11.641096211019061, 376.76788998887986, 725.9753520192335, 1444.1878997163242, 453.1289001674097], \"Category\": [\"Default\", \"Default\", \"Default\", \"Default\", \"Default\", \"Default\", \"Default\", \"Default\", \"Default\", \"Default\", \"Default\", \"Default\", \"Default\", \"Default\", \"Default\", \"Default\", \"Default\", \"Default\", \"Default\", \"Default\", \"Default\", \"Default\", \"Default\", \"Default\", \"Default\", \"Default\", \"Default\", \"Default\", \"Default\", \"Default\", \"Topic1\", \"Topic1\", \"Topic1\", \"Topic1\", \"Topic1\", \"Topic1\", \"Topic1\", \"Topic1\", \"Topic1\", \"Topic1\", \"Topic1\", \"Topic1\", \"Topic1\", \"Topic1\", \"Topic1\", \"Topic1\", \"Topic1\", \"Topic1\", \"Topic1\", \"Topic1\", \"Topic1\", \"Topic1\", \"Topic1\", \"Topic1\", \"Topic1\", \"Topic1\", \"Topic1\", \"Topic1\", \"Topic1\", \"Topic1\", \"Topic1\", \"Topic1\", \"Topic1\", \"Topic1\", \"Topic1\", \"Topic1\", \"Topic1\", \"Topic1\", \"Topic1\", \"Topic1\", \"Topic2\", \"Topic2\", \"Topic2\", \"Topic2\", \"Topic2\", \"Topic2\", \"Topic2\", \"Topic2\", \"Topic2\", \"Topic2\", \"Topic2\", \"Topic2\", \"Topic2\", \"Topic2\", \"Topic2\", \"Topic2\", \"Topic2\", \"Topic2\", \"Topic2\", \"Topic2\", \"Topic2\", \"Topic2\", \"Topic2\", \"Topic2\", \"Topic2\", \"Topic2\", \"Topic2\", \"Topic2\", \"Topic2\", \"Topic2\", \"Topic2\", \"Topic2\", \"Topic2\", \"Topic2\", \"Topic2\", \"Topic2\", \"Topic2\", \"Topic2\", \"Topic2\", \"Topic2\", \"Topic2\", \"Topic2\", \"Topic2\", \"Topic2\", \"Topic2\", \"Topic2\", \"Topic2\", \"Topic2\", \"Topic2\", \"Topic2\", \"Topic2\", \"Topic2\", \"Topic2\", \"Topic2\", \"Topic2\", \"Topic3\", \"Topic3\", \"Topic3\", \"Topic3\", \"Topic3\", \"Topic3\", \"Topic3\", \"Topic3\", \"Topic3\", \"Topic3\", \"Topic3\", \"Topic3\", \"Topic3\", \"Topic3\", \"Topic3\", \"Topic3\", \"Topic3\", \"Topic3\", \"Topic3\", \"Topic3\", \"Topic3\", \"Topic3\", \"Topic3\", \"Topic3\", \"Topic3\", \"Topic3\", \"Topic3\", \"Topic3\", \"Topic3\", \"Topic3\", \"Topic3\", \"Topic3\", \"Topic3\", \"Topic3\", \"Topic3\", \"Topic3\", \"Topic3\", \"Topic3\", \"Topic3\", \"Topic3\", \"Topic3\", \"Topic3\", \"Topic3\", \"Topic3\", \"Topic3\", \"Topic3\", \"Topic3\", \"Topic3\", \"Topic4\", \"Topic4\", \"Topic4\", \"Topic4\", \"Topic4\", \"Topic4\", \"Topic4\", \"Topic4\", \"Topic4\", \"Topic4\", \"Topic4\", \"Topic4\", \"Topic4\", \"Topic4\", \"Topic4\", \"Topic4\", \"Topic4\", \"Topic4\", \"Topic4\", \"Topic4\", \"Topic4\", \"Topic4\", \"Topic4\", \"Topic4\", \"Topic4\", \"Topic4\", \"Topic4\", \"Topic4\", \"Topic4\", \"Topic4\", \"Topic4\", \"Topic4\", \"Topic4\", \"Topic4\", \"Topic4\", \"Topic4\", \"Topic4\", \"Topic4\", \"Topic4\", \"Topic4\", \"Topic4\", \"Topic4\", \"Topic4\", \"Topic5\", \"Topic5\", \"Topic5\", \"Topic5\", \"Topic5\", \"Topic5\", \"Topic5\", \"Topic5\", \"Topic5\", \"Topic5\", \"Topic5\", \"Topic5\", \"Topic5\", \"Topic5\", \"Topic5\", \"Topic5\", \"Topic5\", \"Topic5\", \"Topic5\", \"Topic5\", \"Topic5\", \"Topic5\", \"Topic5\", \"Topic5\", \"Topic5\", \"Topic5\", \"Topic5\", \"Topic5\", \"Topic5\", \"Topic5\", \"Topic5\", \"Topic5\", \"Topic5\", \"Topic5\", \"Topic5\", \"Topic5\", \"Topic5\", \"Topic5\", \"Topic5\", \"Topic5\", \"Topic5\", \"Topic5\", \"Topic5\", \"Topic5\", \"Topic5\", \"Topic6\", \"Topic6\", \"Topic6\", \"Topic6\", \"Topic6\", \"Topic6\", \"Topic6\", \"Topic6\", \"Topic6\", \"Topic6\", \"Topic6\", \"Topic6\", \"Topic6\", \"Topic6\", \"Topic6\", \"Topic6\", \"Topic6\", \"Topic6\", \"Topic6\", \"Topic6\", \"Topic6\", \"Topic6\", \"Topic6\", \"Topic6\", \"Topic6\", \"Topic6\", \"Topic6\", \"Topic6\", \"Topic6\", \"Topic6\", \"Topic6\", \"Topic6\", \"Topic6\", \"Topic6\", \"Topic6\", \"Topic6\", \"Topic6\", \"Topic6\", \"Topic6\", \"Topic6\", \"Topic6\", \"Topic6\", \"Topic7\", \"Topic7\", \"Topic7\", \"Topic7\", \"Topic7\", \"Topic7\", \"Topic7\", \"Topic7\", \"Topic7\", \"Topic7\", \"Topic7\", \"Topic7\", \"Topic7\", \"Topic7\", \"Topic7\", \"Topic7\", \"Topic7\", \"Topic7\", \"Topic7\", \"Topic7\", \"Topic7\", \"Topic7\", \"Topic7\", \"Topic7\", \"Topic7\", \"Topic7\", \"Topic7\", \"Topic7\", \"Topic7\", \"Topic7\", \"Topic7\", \"Topic7\", \"Topic7\", \"Topic7\", \"Topic7\", \"Topic7\", \"Topic7\", \"Topic7\", \"Topic7\", \"Topic8\", \"Topic8\", \"Topic8\", \"Topic8\", \"Topic8\", \"Topic8\", \"Topic8\", \"Topic8\", \"Topic8\", \"Topic8\", \"Topic8\", \"Topic8\", \"Topic8\", \"Topic8\", \"Topic8\", \"Topic8\", \"Topic8\", \"Topic8\", \"Topic8\", \"Topic8\", \"Topic8\", \"Topic8\", \"Topic8\", \"Topic8\", \"Topic8\", \"Topic8\", \"Topic8\", \"Topic8\", \"Topic8\", \"Topic8\", \"Topic8\", \"Topic8\", \"Topic8\", \"Topic8\", \"Topic8\", \"Topic8\", \"Topic8\", \"Topic8\", \"Topic9\", \"Topic9\", \"Topic9\", \"Topic9\", \"Topic9\", \"Topic9\", \"Topic9\", \"Topic9\", \"Topic9\", \"Topic9\", \"Topic9\", \"Topic9\", \"Topic9\", \"Topic9\", \"Topic9\", \"Topic9\", \"Topic9\", \"Topic9\", \"Topic9\", \"Topic9\", \"Topic9\", \"Topic9\", \"Topic9\", \"Topic9\", \"Topic9\", \"Topic9\", \"Topic9\", \"Topic9\", \"Topic9\", \"Topic9\", \"Topic9\", \"Topic9\", \"Topic9\", \"Topic9\", \"Topic9\", \"Topic10\", \"Topic10\", \"Topic10\", \"Topic10\", \"Topic10\", \"Topic10\", \"Topic10\", \"Topic10\", \"Topic10\", \"Topic10\", \"Topic10\", \"Topic10\", \"Topic10\", \"Topic10\", \"Topic10\", \"Topic10\", \"Topic10\", \"Topic10\", \"Topic10\", \"Topic10\", \"Topic10\", \"Topic10\", \"Topic10\", \"Topic10\", \"Topic10\", \"Topic10\", \"Topic10\", \"Topic10\", \"Topic10\", \"Topic10\", \"Topic10\", \"Topic10\", \"Topic10\", \"Topic10\", \"Topic10\", \"Topic10\", \"Topic11\", \"Topic11\", \"Topic11\", \"Topic11\", \"Topic11\", \"Topic11\", \"Topic11\", \"Topic11\", \"Topic11\", \"Topic11\", \"Topic11\", \"Topic11\", \"Topic11\", \"Topic11\", \"Topic11\", \"Topic11\", \"Topic11\", \"Topic11\", \"Topic11\", \"Topic11\", \"Topic11\", \"Topic11\", \"Topic11\", \"Topic11\", \"Topic11\", \"Topic11\", \"Topic11\", \"Topic11\", \"Topic11\", \"Topic11\", \"Topic11\", \"Topic11\", \"Topic11\", \"Topic11\", \"Topic11\", \"Topic11\", \"Topic12\", \"Topic12\", \"Topic12\", \"Topic12\", \"Topic12\", \"Topic12\", \"Topic12\", \"Topic12\", \"Topic12\", \"Topic12\", \"Topic12\", \"Topic12\", \"Topic12\", \"Topic12\", \"Topic12\", \"Topic12\", \"Topic12\", \"Topic12\", \"Topic12\", \"Topic12\", \"Topic12\", \"Topic12\", \"Topic12\", \"Topic12\", \"Topic12\", \"Topic12\", \"Topic12\", \"Topic12\", \"Topic12\", \"Topic12\", \"Topic12\", \"Topic12\", \"Topic12\", \"Topic12\", \"Topic12\", \"Topic12\", \"Topic12\", \"Topic13\", \"Topic13\", \"Topic13\", \"Topic13\", \"Topic13\", \"Topic13\", \"Topic13\", \"Topic13\", \"Topic13\", \"Topic13\", \"Topic13\", \"Topic13\", \"Topic13\", \"Topic13\", \"Topic13\", \"Topic13\", \"Topic13\", \"Topic13\", \"Topic13\", \"Topic13\", \"Topic13\", \"Topic13\", \"Topic13\", \"Topic13\", \"Topic13\", \"Topic13\", \"Topic13\", \"Topic13\", \"Topic13\", \"Topic13\", \"Topic13\", \"Topic13\", \"Topic13\", \"Topic13\", \"Topic13\", \"Topic14\", \"Topic14\", \"Topic14\", \"Topic14\", \"Topic14\", \"Topic14\", \"Topic14\", \"Topic14\", \"Topic14\", \"Topic14\", \"Topic14\", \"Topic14\", \"Topic14\", \"Topic14\", \"Topic14\", \"Topic14\", \"Topic14\", \"Topic14\", \"Topic14\", \"Topic14\", \"Topic14\", \"Topic14\", \"Topic14\", \"Topic14\", \"Topic14\", \"Topic14\", \"Topic14\", \"Topic14\", \"Topic14\", \"Topic14\", \"Topic14\", \"Topic14\", \"Topic14\", \"Topic14\", \"Topic14\", \"Topic14\", \"Topic14\", \"Topic14\", \"Topic15\", \"Topic15\", \"Topic15\", \"Topic15\", \"Topic15\", \"Topic15\", \"Topic15\", \"Topic15\", \"Topic15\", \"Topic15\", \"Topic15\", \"Topic15\", \"Topic15\", \"Topic15\", \"Topic15\", \"Topic15\", \"Topic15\", \"Topic15\", \"Topic15\", \"Topic15\", \"Topic15\", \"Topic15\", \"Topic15\", \"Topic15\", \"Topic15\", \"Topic15\", \"Topic15\", \"Topic15\", \"Topic15\", \"Topic15\", \"Topic15\", \"Topic15\", \"Topic15\", \"Topic15\", \"Topic15\", \"Topic15\", \"Topic15\", \"Topic16\", \"Topic16\", \"Topic16\", \"Topic16\", \"Topic16\", \"Topic16\", \"Topic16\", \"Topic16\", \"Topic16\", \"Topic16\", \"Topic16\", \"Topic16\", \"Topic16\", \"Topic16\", \"Topic16\", \"Topic16\", \"Topic16\", \"Topic16\", \"Topic16\", \"Topic16\", \"Topic16\", \"Topic16\", \"Topic16\", \"Topic16\", \"Topic16\", \"Topic16\", \"Topic16\", \"Topic16\", \"Topic16\", \"Topic16\", \"Topic16\", \"Topic16\", \"Topic16\", \"Topic16\", \"Topic16\", \"Topic16\", \"Topic16\", \"Topic17\", \"Topic17\", \"Topic17\", \"Topic17\", \"Topic17\", \"Topic17\", \"Topic17\", \"Topic17\", \"Topic17\", \"Topic17\", \"Topic17\", \"Topic17\", \"Topic17\", \"Topic17\", \"Topic17\", \"Topic17\", \"Topic17\", \"Topic17\", \"Topic17\", \"Topic17\", \"Topic17\", \"Topic17\", \"Topic17\", \"Topic17\", \"Topic17\", \"Topic17\", \"Topic17\", \"Topic17\", \"Topic17\", \"Topic17\", \"Topic17\", \"Topic17\", \"Topic17\", \"Topic17\", \"Topic17\", \"Topic18\", \"Topic18\", \"Topic18\", \"Topic18\", \"Topic18\", \"Topic18\", \"Topic18\", \"Topic18\", \"Topic18\", \"Topic18\", \"Topic18\", \"Topic18\", \"Topic18\", \"Topic18\", \"Topic18\", \"Topic18\", \"Topic18\", \"Topic18\", \"Topic18\", \"Topic18\", \"Topic18\", \"Topic18\", \"Topic18\", \"Topic18\", \"Topic18\", \"Topic18\", \"Topic18\", \"Topic18\", \"Topic18\", \"Topic18\", \"Topic18\", \"Topic18\", \"Topic18\", \"Topic18\", \"Topic18\", \"Topic18\", \"Topic18\", \"Topic18\", \"Topic19\", \"Topic19\", \"Topic19\", \"Topic19\", \"Topic19\", \"Topic19\", \"Topic19\", \"Topic19\", \"Topic19\", \"Topic19\", \"Topic19\", \"Topic19\", \"Topic19\", \"Topic19\", \"Topic19\", \"Topic19\", \"Topic19\", \"Topic19\", \"Topic19\", \"Topic19\", \"Topic19\", \"Topic19\", \"Topic19\", \"Topic19\", \"Topic19\", \"Topic19\", \"Topic19\", \"Topic19\", \"Topic19\", \"Topic19\", \"Topic19\", \"Topic19\", \"Topic19\", \"Topic19\", \"Topic19\", \"Topic19\", \"Topic20\", \"Topic20\", \"Topic20\", \"Topic20\", \"Topic20\", \"Topic20\", \"Topic20\", \"Topic20\", \"Topic20\", \"Topic20\", \"Topic20\", \"Topic20\", \"Topic20\", \"Topic20\", \"Topic20\", \"Topic20\", \"Topic20\", \"Topic20\", \"Topic20\", \"Topic20\", \"Topic20\", \"Topic20\", \"Topic20\", \"Topic20\", \"Topic20\", \"Topic20\", \"Topic20\", \"Topic20\", \"Topic20\", \"Topic20\", \"Topic20\", \"Topic20\", \"Topic20\", \"Topic20\", \"Topic20\", \"Topic20\", \"Topic21\", \"Topic21\", \"Topic21\", \"Topic21\", \"Topic21\", \"Topic21\", \"Topic21\", \"Topic21\", \"Topic21\", \"Topic21\", \"Topic21\", \"Topic21\", \"Topic21\", \"Topic21\", \"Topic21\", \"Topic21\", \"Topic21\", \"Topic21\", \"Topic21\", \"Topic21\", \"Topic21\", \"Topic21\", \"Topic21\", \"Topic21\", \"Topic21\", \"Topic21\", \"Topic21\", \"Topic21\", \"Topic21\", \"Topic21\", \"Topic21\", \"Topic21\", \"Topic21\", \"Topic21\", \"Topic22\", \"Topic22\", \"Topic22\", \"Topic22\", \"Topic22\", \"Topic22\", \"Topic22\", \"Topic22\", \"Topic22\", \"Topic22\", \"Topic22\", \"Topic22\", \"Topic22\", \"Topic22\", \"Topic22\", \"Topic22\", \"Topic22\", \"Topic22\", \"Topic22\", \"Topic22\", \"Topic22\", \"Topic22\", \"Topic22\", \"Topic22\", \"Topic22\", \"Topic22\", \"Topic22\", \"Topic22\", \"Topic22\", \"Topic22\", \"Topic23\", \"Topic23\", \"Topic23\", \"Topic23\", \"Topic23\", \"Topic23\", \"Topic23\", \"Topic23\", \"Topic23\", \"Topic23\", \"Topic23\", \"Topic23\", \"Topic23\", \"Topic23\", \"Topic23\", \"Topic23\", \"Topic23\", \"Topic23\", \"Topic23\", \"Topic23\", \"Topic23\", \"Topic23\", \"Topic23\", \"Topic23\", \"Topic23\", \"Topic23\", \"Topic23\", \"Topic23\", \"Topic23\", \"Topic23\", \"Topic23\", \"Topic23\", \"Topic23\", \"Topic23\", \"Topic23\", \"Topic23\", \"Topic24\", \"Topic24\", \"Topic24\", \"Topic24\", \"Topic24\", \"Topic24\", \"Topic24\", \"Topic24\", \"Topic24\", \"Topic24\", \"Topic24\", \"Topic24\", \"Topic24\", \"Topic24\", \"Topic24\", \"Topic24\", \"Topic24\", \"Topic24\", \"Topic24\", \"Topic24\", \"Topic24\", \"Topic24\", \"Topic24\", \"Topic24\", \"Topic24\", \"Topic24\", \"Topic24\", \"Topic24\", \"Topic24\", \"Topic24\", \"Topic24\", \"Topic24\", \"Topic24\", \"Topic25\", \"Topic25\", \"Topic25\", \"Topic25\", \"Topic25\", \"Topic25\", \"Topic25\", \"Topic25\", \"Topic25\", \"Topic25\", \"Topic25\", \"Topic25\", \"Topic25\", \"Topic25\", \"Topic25\", \"Topic25\", \"Topic25\", \"Topic25\", \"Topic25\", \"Topic25\", \"Topic25\", \"Topic25\", \"Topic25\", \"Topic25\", \"Topic25\", \"Topic25\", \"Topic25\", \"Topic25\", \"Topic25\", \"Topic25\", \"Topic25\", \"Topic25\", \"Topic25\", \"Topic25\", \"Topic25\", \"Topic25\", \"Topic26\", \"Topic26\", \"Topic26\", \"Topic26\", \"Topic26\", \"Topic26\", \"Topic26\", \"Topic26\", \"Topic26\", \"Topic26\", \"Topic26\", \"Topic26\", \"Topic26\", \"Topic26\", \"Topic26\", \"Topic26\", \"Topic26\", \"Topic26\", \"Topic26\", \"Topic26\", \"Topic26\", \"Topic26\", \"Topic26\", \"Topic26\", \"Topic26\", \"Topic26\", \"Topic26\", \"Topic26\", \"Topic26\", \"Topic26\", \"Topic26\", \"Topic26\", \"Topic26\", \"Topic26\", \"Topic26\", \"Topic26\", \"Topic27\", \"Topic27\", \"Topic27\", \"Topic27\", \"Topic27\", \"Topic27\", \"Topic27\", \"Topic27\", \"Topic27\", \"Topic27\", \"Topic27\", \"Topic27\", \"Topic27\", \"Topic27\", \"Topic27\", \"Topic27\", \"Topic27\", \"Topic27\", \"Topic27\", \"Topic27\", \"Topic27\", \"Topic27\", \"Topic27\", \"Topic27\", \"Topic27\", \"Topic27\", \"Topic27\", \"Topic27\", \"Topic27\", \"Topic27\", \"Topic27\", \"Topic27\", \"Topic27\", \"Topic28\", \"Topic28\", \"Topic28\", \"Topic28\", \"Topic28\", \"Topic28\", \"Topic28\", \"Topic28\", \"Topic28\", \"Topic28\", \"Topic28\", \"Topic28\", \"Topic28\", \"Topic28\", \"Topic28\", \"Topic28\", \"Topic28\", \"Topic28\", \"Topic28\", \"Topic28\", \"Topic28\", \"Topic28\", \"Topic28\", \"Topic28\", \"Topic28\", \"Topic28\", \"Topic28\", \"Topic28\", \"Topic28\", \"Topic28\", \"Topic28\", \"Topic28\", \"Topic28\", \"Topic28\", \"Topic28\", \"Topic28\", \"Topic28\", \"Topic28\", \"Topic29\", \"Topic29\", \"Topic29\", \"Topic29\", \"Topic29\", \"Topic29\", \"Topic29\", \"Topic29\", \"Topic29\", \"Topic29\", \"Topic29\", \"Topic29\", \"Topic29\", \"Topic29\", \"Topic29\", \"Topic29\", \"Topic29\", \"Topic29\", \"Topic29\", \"Topic29\", \"Topic29\", \"Topic29\", \"Topic29\", \"Topic29\", \"Topic29\", \"Topic29\", \"Topic29\", \"Topic29\", \"Topic29\", \"Topic29\", \"Topic29\", \"Topic29\", \"Topic29\", \"Topic29\", \"Topic30\", \"Topic30\", \"Topic30\", \"Topic30\", \"Topic30\", \"Topic30\", \"Topic30\", \"Topic30\", \"Topic30\", \"Topic30\", \"Topic30\", \"Topic30\", \"Topic30\", \"Topic30\", \"Topic30\", \"Topic30\", \"Topic30\", \"Topic30\", \"Topic30\", \"Topic30\", \"Topic30\", \"Topic30\", \"Topic30\", \"Topic30\", \"Topic30\", \"Topic30\", \"Topic30\", \"Topic30\", \"Topic30\", \"Topic30\", \"Topic30\", \"Topic30\", \"Topic30\", \"Topic30\", \"Topic30\", \"Topic30\", \"Topic31\", \"Topic31\", \"Topic31\", \"Topic31\", \"Topic31\", \"Topic31\", \"Topic31\", \"Topic31\", \"Topic31\", \"Topic31\", \"Topic31\", \"Topic31\", \"Topic31\", \"Topic31\", \"Topic31\", \"Topic31\", \"Topic31\", \"Topic31\", \"Topic31\", \"Topic31\", \"Topic31\", \"Topic31\", \"Topic31\", \"Topic31\", \"Topic31\", \"Topic31\", \"Topic31\", \"Topic31\", \"Topic31\", \"Topic31\", \"Topic31\", \"Topic31\", \"Topic31\", \"Topic31\", \"Topic32\", \"Topic32\", \"Topic32\", \"Topic32\", \"Topic32\", \"Topic32\", \"Topic32\", \"Topic32\", \"Topic32\", \"Topic32\", \"Topic32\", \"Topic32\", \"Topic32\", \"Topic32\", \"Topic32\", \"Topic32\", \"Topic32\", \"Topic32\", \"Topic32\", \"Topic32\", \"Topic32\", \"Topic32\", \"Topic32\", \"Topic32\", \"Topic32\", \"Topic32\", \"Topic32\", \"Topic32\", \"Topic32\", \"Topic32\", \"Topic32\", \"Topic32\", \"Topic32\", \"Topic32\", \"Topic32\", \"Topic32\", \"Topic32\", \"Topic33\", \"Topic33\", \"Topic33\", \"Topic33\", \"Topic33\", \"Topic33\", \"Topic33\", \"Topic33\", \"Topic33\", \"Topic33\", \"Topic33\", \"Topic33\", \"Topic33\", \"Topic33\", \"Topic33\", \"Topic33\", \"Topic33\", \"Topic33\", \"Topic33\", \"Topic33\", \"Topic33\", \"Topic33\", \"Topic33\", \"Topic33\", \"Topic33\", \"Topic33\", \"Topic33\", \"Topic33\", \"Topic33\", \"Topic33\", \"Topic33\", \"Topic33\", \"Topic33\", \"Topic33\", \"Topic33\", \"Topic33\", \"Topic33\", \"Topic33\", \"Topic33\", \"Topic34\", \"Topic34\", \"Topic34\", \"Topic34\", \"Topic34\", \"Topic34\", \"Topic34\", \"Topic34\", \"Topic34\", \"Topic34\", \"Topic34\", \"Topic34\", \"Topic34\", \"Topic34\", \"Topic34\", \"Topic34\", \"Topic34\", \"Topic34\", \"Topic34\", \"Topic34\", \"Topic34\", \"Topic34\", \"Topic34\", \"Topic34\", \"Topic34\", \"Topic34\", \"Topic34\", \"Topic34\", \"Topic34\", \"Topic34\", \"Topic34\", \"Topic34\", \"Topic34\", \"Topic34\", \"Topic35\", \"Topic35\", \"Topic35\", \"Topic35\", \"Topic35\", \"Topic35\", \"Topic35\", \"Topic35\", \"Topic35\", \"Topic35\", \"Topic35\", \"Topic35\", \"Topic35\", \"Topic35\", \"Topic35\", \"Topic35\", \"Topic35\", \"Topic35\", \"Topic35\", \"Topic35\", \"Topic35\", \"Topic35\", \"Topic35\", \"Topic35\", \"Topic35\", \"Topic35\", \"Topic35\", \"Topic35\", \"Topic35\", \"Topic35\", \"Topic35\", \"Topic35\", \"Topic35\", \"Topic35\", \"Topic35\", \"Topic36\", \"Topic36\", \"Topic36\", \"Topic36\", \"Topic36\", \"Topic36\", \"Topic36\", \"Topic36\", \"Topic36\", \"Topic36\", \"Topic36\", \"Topic36\", \"Topic36\", \"Topic36\", \"Topic36\", \"Topic36\", \"Topic36\", \"Topic36\", \"Topic36\", \"Topic36\", \"Topic36\", \"Topic36\", \"Topic36\", \"Topic36\", \"Topic36\", \"Topic36\", \"Topic36\", \"Topic36\", \"Topic36\", \"Topic36\", \"Topic36\", \"Topic37\", \"Topic37\", \"Topic37\", \"Topic37\", \"Topic37\", \"Topic37\", \"Topic37\", \"Topic37\", \"Topic37\", \"Topic37\", \"Topic37\", \"Topic37\", \"Topic37\", \"Topic37\", \"Topic37\", \"Topic37\", \"Topic37\", \"Topic37\", \"Topic37\", \"Topic37\", \"Topic37\", \"Topic37\", \"Topic37\", \"Topic37\", \"Topic37\", \"Topic37\", \"Topic37\", \"Topic37\", \"Topic37\", \"Topic37\", \"Topic37\", \"Topic37\", \"Topic37\", \"Topic37\", \"Topic37\", \"Topic38\", \"Topic38\", \"Topic38\", \"Topic38\", \"Topic38\", \"Topic38\", \"Topic38\", \"Topic38\", \"Topic38\", \"Topic38\", \"Topic38\", \"Topic38\", \"Topic38\", \"Topic38\", \"Topic38\", \"Topic38\", \"Topic38\", \"Topic38\", \"Topic38\", \"Topic38\", \"Topic38\", \"Topic38\", \"Topic38\", \"Topic38\", \"Topic38\", \"Topic38\", \"Topic38\", \"Topic38\", \"Topic38\", \"Topic38\", \"Topic38\", \"Topic38\", \"Topic38\", \"Topic38\", \"Topic38\", \"Topic39\", \"Topic39\", \"Topic39\", \"Topic39\", \"Topic39\", \"Topic39\", \"Topic39\", \"Topic39\", \"Topic39\", \"Topic39\", \"Topic39\", \"Topic39\", \"Topic39\", \"Topic39\", \"Topic39\", \"Topic39\", \"Topic39\", \"Topic39\", \"Topic39\", \"Topic39\", \"Topic39\", \"Topic39\", \"Topic39\", \"Topic39\", \"Topic39\", \"Topic39\", \"Topic39\", \"Topic39\", \"Topic39\", \"Topic39\", \"Topic39\", \"Topic39\", \"Topic39\", \"Topic39\", \"Topic39\", \"Topic40\", \"Topic40\", \"Topic40\", \"Topic40\", \"Topic40\", \"Topic40\", \"Topic40\", \"Topic40\", \"Topic40\", \"Topic40\", \"Topic40\", \"Topic40\", \"Topic40\", \"Topic40\", \"Topic40\", \"Topic40\", \"Topic40\", \"Topic40\", \"Topic40\", \"Topic40\", \"Topic40\", \"Topic40\", \"Topic40\", \"Topic40\", \"Topic40\", \"Topic40\", \"Topic40\", \"Topic40\", \"Topic40\", \"Topic40\", \"Topic40\", \"Topic40\", \"Topic40\", \"Topic40\", \"Topic41\", \"Topic41\", \"Topic41\", \"Topic41\", \"Topic41\", \"Topic41\", \"Topic41\", \"Topic41\", \"Topic41\", \"Topic41\", \"Topic41\", \"Topic41\", \"Topic41\", \"Topic41\", \"Topic41\", \"Topic41\", \"Topic41\", \"Topic41\", \"Topic41\", \"Topic41\", \"Topic41\", \"Topic41\", \"Topic41\", \"Topic41\", \"Topic41\", \"Topic41\", \"Topic41\", \"Topic41\", \"Topic41\", \"Topic41\", \"Topic41\", \"Topic41\", \"Topic41\", \"Topic41\", \"Topic42\", \"Topic42\", \"Topic42\", \"Topic42\", \"Topic42\", \"Topic42\", \"Topic42\", \"Topic42\", \"Topic42\", \"Topic42\", \"Topic42\", \"Topic42\", \"Topic42\", \"Topic42\", \"Topic42\", \"Topic42\", \"Topic42\", \"Topic42\", \"Topic42\", \"Topic42\", \"Topic42\", \"Topic42\", \"Topic42\", \"Topic42\", \"Topic42\", \"Topic42\", \"Topic42\", \"Topic42\", \"Topic42\", \"Topic42\", \"Topic42\", \"Topic42\", \"Topic42\", \"Topic43\", \"Topic43\", \"Topic43\", \"Topic43\", \"Topic43\", \"Topic43\", \"Topic43\", \"Topic43\", \"Topic43\", \"Topic43\", \"Topic43\", \"Topic43\", \"Topic43\", \"Topic43\", \"Topic43\", \"Topic43\", \"Topic43\", \"Topic43\", \"Topic43\", \"Topic43\", \"Topic43\", \"Topic43\", \"Topic43\", \"Topic43\", \"Topic43\", \"Topic43\", \"Topic43\", \"Topic43\", \"Topic43\", \"Topic43\", \"Topic43\", \"Topic43\", \"Topic43\", \"Topic43\", \"Topic44\", \"Topic44\", \"Topic44\", \"Topic44\", \"Topic44\", \"Topic44\", \"Topic44\", \"Topic44\", \"Topic44\", \"Topic44\", \"Topic44\", \"Topic44\", \"Topic44\", \"Topic44\", \"Topic44\", \"Topic44\", \"Topic44\", \"Topic44\", \"Topic44\", \"Topic44\", \"Topic44\", \"Topic44\", \"Topic44\", \"Topic44\", \"Topic44\", \"Topic44\", \"Topic44\", \"Topic44\", \"Topic44\", \"Topic44\", \"Topic44\", \"Topic45\", \"Topic45\", \"Topic45\", \"Topic45\", \"Topic45\", \"Topic45\", \"Topic45\", \"Topic45\", \"Topic45\", \"Topic45\", \"Topic45\", \"Topic45\", \"Topic45\", \"Topic45\", \"Topic45\", \"Topic45\", \"Topic45\", \"Topic45\", \"Topic45\", \"Topic45\", \"Topic45\", \"Topic45\", \"Topic45\", \"Topic45\", \"Topic45\", \"Topic45\", \"Topic45\", \"Topic45\", \"Topic45\", \"Topic45\", \"Topic45\", \"Topic45\", \"Topic45\", \"Topic45\", \"Topic45\", \"Topic46\", \"Topic46\", \"Topic46\", \"Topic46\", \"Topic46\", \"Topic46\", \"Topic46\", \"Topic46\", \"Topic46\", \"Topic46\", \"Topic46\", \"Topic46\", \"Topic46\", \"Topic46\", \"Topic46\", \"Topic46\", \"Topic46\", \"Topic46\", \"Topic46\", \"Topic46\", \"Topic46\", \"Topic46\", \"Topic46\", \"Topic46\", \"Topic46\", \"Topic46\", \"Topic46\", \"Topic46\", \"Topic46\", \"Topic46\", \"Topic46\", \"Topic46\", \"Topic47\", \"Topic47\", \"Topic47\", \"Topic47\", \"Topic47\", \"Topic47\", \"Topic47\", \"Topic47\", \"Topic47\", \"Topic47\", \"Topic47\", \"Topic47\", \"Topic47\", \"Topic47\", \"Topic47\", \"Topic47\", \"Topic47\", \"Topic47\", \"Topic47\", \"Topic47\", \"Topic47\", \"Topic47\", \"Topic47\", \"Topic47\", \"Topic47\", \"Topic47\", \"Topic47\", \"Topic47\", \"Topic47\", \"Topic47\", \"Topic47\", \"Topic47\", \"Topic47\", \"Topic48\", \"Topic48\", \"Topic48\", \"Topic48\", \"Topic48\", \"Topic48\", \"Topic48\", \"Topic48\", \"Topic48\", \"Topic48\", \"Topic48\", \"Topic48\", \"Topic48\", \"Topic48\", \"Topic48\", \"Topic48\", \"Topic48\", \"Topic48\", \"Topic48\", \"Topic48\", \"Topic48\", \"Topic48\", \"Topic48\", \"Topic48\", \"Topic48\", \"Topic48\", \"Topic48\", \"Topic48\", \"Topic48\", \"Topic48\", \"Topic48\", \"Topic49\", \"Topic49\", \"Topic49\", \"Topic49\", \"Topic49\", \"Topic49\", \"Topic49\", \"Topic49\", \"Topic49\", \"Topic49\", \"Topic49\", \"Topic49\", \"Topic49\", \"Topic49\", \"Topic49\", \"Topic49\", \"Topic49\", \"Topic49\", \"Topic49\", \"Topic49\", \"Topic49\", \"Topic49\", \"Topic49\", \"Topic49\", \"Topic49\", \"Topic49\", \"Topic49\", \"Topic49\", \"Topic49\", \"Topic49\", \"Topic49\", \"Topic49\", \"Topic49\", \"Topic49\"], \"logprob\": [30.0, 29.0, 28.0, 27.0, 26.0, 25.0, 24.0, 23.0, 22.0, 21.0, 20.0, 19.0, 18.0, 17.0, 16.0, 15.0, 14.0, 13.0, 12.0, 11.0, 10.0, 9.0, 8.0, 7.0, 6.0, 5.0, 4.0, 3.0, 2.0, 1.0, -2.788, -2.8143, -2.9132, -3.0241, -3.5125, -4.3316, -3.9154, -4.2244, -2.9678, -4.5751, -3.9483, -4.1363, -4.8588, -4.9747, -4.5477, -5.039, -4.7446, -4.8249, -4.303, -5.0864, -4.984, -4.5967, -4.5423, -5.0359, -5.0861, -4.0977, -5.2779, -5.2977, -5.323, -4.9105, -3.8908, -4.5542, -4.5624, -4.8294, -3.4559, -4.5383, -3.6193, -4.7405, -4.8074, -4.7376, -3.8136, -4.0543, -4.4101, -4.4384, -4.5964, -4.1259, -4.4548, -4.4242, -4.6531, -4.9676, -5.0168, -5.0368, -5.052, -5.0564, -5.1054, -5.1162, -5.1475, -5.1504, -5.2169, -4.8226, -5.2536, -5.2732, -4.7277, -5.0295, -5.3352, -5.4165, -5.4467, -5.1444, -5.5385, -5.5399, -4.3738, -3.7126, -5.1347, -4.1499, -3.8653, -4.5377, -4.5676, -4.3641, -4.2186, -3.3597, -3.4212, -3.7504, -4.5132, -4.1961, -4.1637, -3.6373, -4.1938, -4.6544, -4.4841, -4.3247, -3.6108, -3.7681, -4.5379, -4.4033, -4.5071, -4.0761, -4.1539, -3.8783, -3.4049, -4.4287, -4.4342, -4.4424, -4.6082, -4.71, -3.8734, -4.201, -4.7337, -4.9683, -4.0549, -5.086, -4.5088, -4.6111, -5.2122, -5.2532, -4.4241, -5.2959, -5.3264, -5.3328, -4.7901, -5.3896, -3.2556, -3.9498, -5.5186, -5.5303, -5.5853, -4.2124, -4.8045, -4.5714, -4.7149, -4.0144, -4.295, -4.5833, -4.0627, -4.5711, -4.3068, -4.4396, -4.4728, -4.577, -4.5167, -4.5646, -4.4695, -4.3415, -4.5601, -3.2785, -3.6278, -3.7239, -3.7581, -3.8748, -4.1262, -4.1669, -4.3449, -3.5035, -4.535, -4.5378, -4.5443, -4.5808, -4.2036, -4.6568, -4.7135, -4.416, -4.7224, -4.8095, -4.8118, -4.8685, -3.6118, -4.898, -4.9332, -4.9854, -5.0614, -5.0802, -5.0904, -5.113, -5.3292, -3.738, -4.0778, -3.9587, -4.19, -3.7976, -3.2391, -3.3011, -4.418, -3.9983, -3.7616, -3.6357, -4.1512, -4.5504, -2.5455, -2.7583, -3.2175, -4.1865, -4.2051, -4.2206, -4.343, -4.3667, -4.3899, -4.4344, -4.2697, -4.0394, -4.6207, -4.6544, -4.1715, -4.7614, -4.7914, -4.7856, -4.8465, -4.8803, -4.9631, -4.9911, -4.8941, -5.0205, -5.0824, -5.1288, -5.1589, -5.2086, -5.2485, -5.2525, -3.9136, -3.4319, -4.4661, -4.5257, -4.0332, -4.656, -4.1677, -4.4523, -3.9334, -4.1107, -3.9632, -4.2138, -4.4779, -4.6036, -4.6557, -3.6068, -3.8209, -3.8561, -3.8335, -4.0183, -4.0518, -4.1813, -4.1817, -4.2589, -4.3215, -4.3265, -4.34, -3.484, -4.3977, -4.4003, -4.5916, -4.7492, -4.8623, -4.9011, -4.9359, -3.9227, -5.0582, -5.1435, -5.1563, -5.1741, -4.7391, -4.5332, -5.3569, -5.3637, -5.3684, -5.0229, -4.2058, -3.6587, -3.495, -3.7554, -3.4738, -4.1307, -4.4866, -4.5021, -4.3313, -4.6236, -4.7078, -1.6721, -3.2438, -3.4647, -3.9376, -3.9487, -4.0082, -4.1438, -4.1677, -4.2547, -3.6542, -4.3313, -4.424, -4.474, -4.4756, -4.5551, -4.649, -4.6757, -5.1124, -5.1594, -5.2035, -5.2749, -5.2881, -5.3139, -5.4123, -5.4303, -5.5052, -5.5174, -4.5553, -5.5332, -5.5421, -4.2533, -3.4829, -4.1217, -4.1484, -3.559, -4.662, -4.1126, -4.8326, -5.2211, -2.9227, -3.0541, -3.3431, -2.9566, -3.7436, -3.7755, -3.886, -3.9274, -3.974, -3.6951, -4.1656, -4.1669, -4.2822, -4.5993, -4.6095, -4.6145, -4.6168, -4.7027, -4.7064, -3.7476, -4.9173, -5.0034, -5.037, -5.1425, -5.1951, -5.2046, -5.2912, -5.3529, -5.3651, -5.3768, -2.6066, -3.1573, -3.5285, -4.5664, -4.3722, -4.713, -4.697, -4.9349, -1.9463, -2.5286, -2.7172, -3.8363, -4.2249, -4.2746, -4.4186, -4.5249, -4.5284, -4.5888, -4.5926, -4.6286, -4.7494, -4.7713, -4.853, -4.8556, -4.894, -4.9061, -4.9431, -5.1127, -5.1149, -5.1083, -5.1821, -5.1968, -5.2078, -5.3007, -5.3011, -5.3062, -5.3166, -5.4348, -5.0115, -2.5696, -4.4479, -5.1856, -5.2124, -2.9473, -3.0587, -3.1006, -3.2676, -3.2814, -3.4425, -3.7871, -3.951, -4.0696, -4.0904, -4.0904, -4.1992, -3.5428, -4.4728, -4.5035, -4.5413, -4.6241, -4.8228, -4.8646, -4.091, -3.5733, -5.064, -5.067, -5.1937, -5.2256, -5.2665, -5.2836, -5.4321, -5.4547, -5.6472, -4.011, -3.82, -4.454, -4.7607, -4.056, -5.0029, -3.6433, -3.7936, -3.7712, -3.8171, -3.8448, -3.8934, -4.0195, -4.047, -4.1303, -4.1644, -4.1738, -4.2748, -4.3125, -4.3481, -4.3686, -4.3956, -4.4108, -4.0225, -4.4402, -4.5102, -4.2178, -4.5181, -4.6444, -4.6712, -4.7721, -4.8479, -4.8487, -5.0598, -5.1104, -5.0097, -3.4939, -3.0711, -4.1654, -3.6446, -3.7544, -4.7217, -3.4485, -3.6455, -3.6522, -3.6938, -3.728, -3.7794, -3.8523, -3.7077, -3.9184, -3.9296, -3.9526, -3.9597, -4.0421, -4.0523, -4.2483, -4.261, -4.429, -4.4485, -4.5284, -4.5731, -4.576, -4.6572, -4.8015, -4.8095, -4.8965, -4.9868, -5.0402, -5.0492, -5.1042, -5.1254, -3.4246, -3.5699, -3.8254, -4.5164, -3.5983, -4.3634, -4.3773, -3.0693, -3.5444, -3.5446, -3.6168, -3.7582, -3.7898, -4.0556, -4.0663, -4.1473, -4.1602, -4.1754, -4.2493, -3.5969, -4.417, -4.468, -4.4825, -4.5853, -4.624, -4.6495, -4.6665, -4.6928, -4.824, -4.8824, -4.8891, -4.8928, -4.9695, -4.9775, -5.0398, -5.0536, -5.0739, -4.7335, -3.758, -4.3534, -4.6079, -4.41, -3.0032, -3.3213, -3.536, -3.5163, -3.7296, -4.0881, -4.1228, -4.1908, -4.1945, -4.4674, -4.4762, -4.5141, -4.5945, -4.6143, -4.6449, -4.6461, -4.6525, -4.7203, -4.7585, -4.6388, -4.7936, -4.8785, -4.9114, -4.949, -5.0615, -5.1039, -5.119, -5.1302, -5.1614, -5.1884, -4.6985, -2.5278, -4.4195, -4.9406, -4.3154, -4.5687, -4.3876, -4.8677, -3.1713, -3.3672, -3.4321, -3.4953, -3.1293, -3.9216, -4.0737, -4.1466, -4.1733, -4.1868, -4.3162, -4.3512, -4.4004, -4.4051, -4.4491, -4.6622, -4.7326, -4.7647, -4.837, -4.9155, -3.9986, -4.9741, -5.0308, -5.0641, -5.075, -5.1779, -5.1501, -5.2457, -5.2733, -5.2842, -4.254, -4.7796, -4.0313, -4.537, -4.4561, -4.9383, -4.9879, -3.6127, -3.6771, -3.7694, -3.7823, -3.9165, -4.0273, -3.9372, -4.059, -4.2341, -4.271, -4.3687, -4.4219, -4.4976, -4.4989, -4.5166, -4.5319, -4.6362, -3.94, -4.6772, -4.7579, -4.7994, -4.8179, -4.8499, -4.8629, -4.8649, -4.8898, -4.9236, -4.9635, -5.089, -5.0924, -4.2773, -3.9593, -4.1533, -3.8402, -4.4899, -4.5364, -4.7129, -3.7533, -3.7747, -3.8059, -3.8317, -3.8431, -4.1817, -4.215, -4.227, -4.1129, -4.3334, -4.3577, -4.5034, -4.5633, -4.5934, -4.6134, -4.6225, -4.6423, -4.7181, -4.7264, -4.7712, -4.8169, -4.9464, -4.9475, -4.952, -4.9869, -5.0881, -4.9414, -5.1577, -5.1831, -5.2846, -1.79, -3.8943, -4.0996, -4.803, -4.0667, -3.3387, -3.4733, -3.702, -3.7134, -3.734, -3.7895, -3.8398, -4.0024, -4.2227, -4.3016, -4.3482, -4.367, -4.4111, -4.4447, -4.4719, -4.5254, -4.5664, -4.6912, -4.7024, -4.7329, -4.8498, -4.8671, -4.9983, -5.0071, -5.0285, -5.043, -5.1198, -5.194, -5.2104, -5.2297, -3.765, -3.7449, -3.6135, -3.9306, -4.5699, -4.7285, -4.7466, -4.8531, -3.0751, -3.2976, -3.7799, -3.7904, -3.9114, -3.9128, -3.975, -3.9781, -4.0051, -4.0234, -4.1717, -4.1982, -4.338, -4.6315, -4.6611, -4.706, -4.7941, -4.8101, -4.8292, -4.8469, -4.8537, -4.891, -4.9226, -4.9234, -4.9387, -4.9721, -4.9773, -5.0954, -5.1163, -5.2163, -3.4206, -4.7114, -4.4405, -4.3285, -4.8237, -4.7878, -3.2796, -3.8406, -3.9602, -4.0699, -4.1042, -4.1556, -4.2778, -4.2805, -4.3438, -4.3681, -4.4699, -4.6002, -4.6298, -4.6311, -4.6845, -4.6974, -4.6977, -4.8646, -4.0602, -4.9423, -4.9457, -4.9713, -5.0426, -5.0465, -5.0673, -5.073, -3.5653, -5.1072, -5.117, -5.2066, -3.7969, -3.5759, -3.1152, -4.386, -4.4812, -4.1782, -1.3287, -2.9834, -3.2985, -3.844, -4.1511, -4.1833, -4.3621, -4.3985, -4.4658, -4.5176, -4.5242, -4.5885, -4.6098, -4.6778, -4.8487, -4.9556, -4.976, -4.9953, -5.1271, -5.1534, -5.2054, -5.2852, -5.3326, -5.4627, -5.4646, -5.589, -5.5904, -5.6065, -5.6162, -4.743, -4.1036, -4.5358, -5.304, -5.4465, -2.7033, -2.9614, -3.1007, -3.3325, -3.5808, -3.849, -3.9176, -4.007, -4.0995, -4.1197, -4.1201, -4.1228, -4.2741, -4.3393, -4.3968, -4.5682, -4.6732, -4.7193, -4.7288, -2.4911, -4.8242, -4.9739, -5.0033, -5.0049, -5.0079, -5.0103, -5.0347, -5.0465, -5.1715, -5.2149, -2.6842, -3.4881, -3.6242, -3.7041, -3.7293, -3.9218, -4.0456, -4.2508, -4.3746, -4.4979, -4.5135, -4.5213, -4.5568, -4.6001, -4.6138, -4.24, -4.7152, -4.7177, -4.7727, -4.8091, -4.8114, -4.8454, -4.8585, -4.8755, -3.9256, -5.0121, -5.0184, -5.0271, -5.2836, -5.3313, -3.7291, -4.0227, -3.6394, -3.7433, -4.9084, -4.8069, -2.8026, -3.4565, -3.4822, -3.7347, -3.767, -3.8874, -3.9114, -3.9409, -3.9584, -3.9851, -4.0065, -4.0167, -4.0696, -4.1133, -4.1777, -4.2139, -4.3713, -4.4065, -4.4544, -4.4565, -4.6073, -4.6116, -4.6207, -4.7031, -3.8605, -4.7781, -4.8967, -4.9295, -4.9972, -5.0054, -4.1778, -4.6424, -4.6328, -3.3142, -3.3186, -3.424, -3.561, -3.7739, -3.794, -3.946, -3.9961, -4.0047, -4.0082, -4.0416, -4.1653, -4.2297, -4.28, -4.3088, -4.3155, -4.4746, -3.6676, -4.507, -4.5192, -4.4789, -4.7323, -4.7717, -5.0074, -5.1966, -5.2814, -5.332, -5.3354, -5.3404, -5.416, -4.3935, -4.3305, -3.7812, -4.5341, -4.6888, -4.3547, -3.7266, -3.9943, -4.154, -4.2388, -4.2514, -4.2943, -4.3177, -4.3416, -4.3774, -4.2089, -4.3862, -4.4122, -4.4583, -4.461, -3.7322, -4.5429, -4.5507, -4.5734, -4.5994, -4.6021, -4.6468, -4.6778, -4.7866, -4.81, -4.8556, -5.0101, -5.0956, -5.1582, -5.1609, -5.2009, -4.4773, -3.6762, -4.6495, -4.6743, -4.3483, -4.2859, -2.6152, -3.4726, -3.8363, -3.8782, -3.8977, -4.1125, -4.2219, -4.2472, -4.2517, -4.2844, -4.3182, -4.3322, -4.3377, -3.8009, -4.3776, -4.4246, -4.4797, -4.3225, -4.7301, -4.7881, -4.9703, -5.0083, -5.0163, -5.0803, -4.0157, -5.1403, -5.309, -5.3187, -5.3826, -5.4327, -3.2085, -4.2776, -4.8076, -3.163, -3.7981, -3.8755, -3.9273, -3.9696, -4.0064, -4.0342, -4.0807, -4.1564, -4.1831, -4.205, -4.3816, -4.5054, -4.5253, -4.5285, -4.5599, -4.6499, -4.6612, -4.729, -4.7601, -5.0148, -5.15, -5.1721, -5.1855, -5.196, -4.5532, -5.261, -5.3187, -5.364, -5.3978, -4.0363, -3.6738, -4.4905, -4.3539, -4.2042, -4.5711, -4.5699, -4.8628, -2.929, -3.3377, -3.5335, -3.7043, -3.8259, -3.8416, -3.8457, -3.8946, -3.9237, -3.9286, -4.1307, -4.3565, -4.3786, -4.4084, -4.4447, -3.8867, -4.5936, -4.6526, -4.8328, -4.9631, -4.9747, -5.0699, -5.1106, -5.2038, -5.2527, -5.2713, -5.2896, -3.9058, -3.54, -5.4656, -3.7569, -3.9238, -3.7913, -4.9873, -2.1476, -3.1119, -3.6552, -3.8187, -3.8378, -3.9063, -3.9155, -3.1435, -4.038, -4.201, -4.2342, -4.3802, -4.5546, -4.6116, -4.6752, -4.7954, -4.9021, -4.9478, -4.9947, -5.0198, -5.1579, -5.2806, -5.2991, -3.7123, -5.3873, -5.4169, -5.4898, -5.5725, -5.6237, -5.6632, -3.5254, -3.6939, -3.724, -3.936, -4.5478, -5.0225, -1.6574, -2.7314, -3.5118, -3.584, -3.7665, -3.7911, -3.8664, -3.9075, -3.9491, -4.1584, -4.1994, -4.4438, -4.4465, -4.6544, -4.7755, -4.8177, -4.9319, -4.974, -4.9912, -5.0763, -5.0785, -5.1907, -5.3896, -5.4258, -5.4858, -4.1874, -5.5545, -5.5571, -3.7821, -5.6228, -3.8795, -5.102, -4.1685, -4.5569, -2.0925, -3.4179, -3.6952, -3.7887, -3.975, -4.0472, -4.2279, -4.2464, -4.2613, -4.2913, -4.3059, -4.3558, -4.4043, -4.4558, -4.4958, -4.6099, -4.6752, -4.6853, -4.7081, -4.729, -4.8374, -5.0543, -3.86, -5.1664, -5.1701, -5.2452, -5.2583, -5.315, -5.3171, -4.1549, -4.6056, -4.7439, -3.8817, -4.1194, -4.5093, -4.8578, -4.9742, -2.6791, -4.1213, -4.1416, -4.147, -4.1479, -4.3105, -4.435, -4.5186, -4.5431, -2.6814, -4.7033, -3.7637, -4.7322, -4.9803, -5.0844, -4.814, -5.2187, -2.4023, -2.809, -5.4186, -5.4477, -5.5759, -5.6337, -5.6533, -5.9291, -5.9407, -5.9488, -5.9686, -5.9965, -5.9975, -4.1854, -3.8502, -4.1069, -4.6859, -5.0311, -4.7726, -4.2977, -4.9409, -5.3203, -2.8615, -3.1336, -3.2013, -3.3587, -3.511, -3.5166, -3.695, -3.8266, -3.8775, -4.0647, -4.1154, -4.1676, -4.2359, -4.427, -4.5423, -4.5734, -4.6019, -4.6413, -4.6881, -4.7421, -4.7837, -4.9015, -5.0412, -5.0859, -5.0995, -5.2203, -5.2782, -5.2816, -5.2977, -5.3033, -3.9339, -4.8815, -4.5301, -4.8522, -3.4237, -3.6644, -3.6795, -3.7093, -3.7708, -3.8185, -3.4279, -3.9658, -4.1552, -4.2757, -4.2825, -4.2861, -4.3541, -4.3889, -4.4688, -4.6129, -4.652, -4.767, -4.8417, -4.864, -4.9901, -5.0575, -5.0796, -5.093, -5.1129, -5.1547, -5.1614, -5.2129, -5.2248, -5.26, -4.1383, -3.5972, -4.5891, -4.4081, -4.4771, -3.1848, -3.6104, -3.6162, -3.8926, -3.9453, -4.0949, -4.1213, -4.1791, -4.2291, -4.2576, -4.2659, -4.3417, -4.3502, -4.3662, -4.3832, -4.3899, -4.4761, -4.5218, -4.6433, -4.6785, -4.6925, -4.7447, -4.7472, -4.7897, -4.7904, -4.876, -4.0838, -4.8827, -3.9199, -5.011, -4.1997, -2.2837, -3.6586, -3.8069, -3.9879, -4.0813, -4.1169, -4.1217, -4.2408, -4.3473, -4.4103, -4.4126, -4.4276, -4.4321, -4.559, -4.5854, -4.5965, -4.679, -4.7235, -4.7263, -4.7487, -4.804, -4.9925, -5.0349, -5.0679, -5.2333, -5.2388, -5.262, -5.3135, -5.4018, -5.424, -3.3403, -4.0778, -3.6944, -4.4618, -5.103, -3.8101, -3.8372, -3.9131, -4.1132, -4.1505, -4.2557, -4.2741, -4.3646, -4.3946, -4.4128, -4.5475, -3.5526, -4.586, -4.6366, -4.6763, -4.7278, -4.7523, -4.7713, -4.7775, -3.2927, -4.8287, -4.8845, -4.9625, -4.9699, -5.0472, -5.0667, -3.7222, -5.0934, -5.2008, -5.347, -4.0727, -3.8363, -4.3755, -4.6738, -5.0313, -2.5088, -2.7371, -3.4524, -3.7726, -3.8046, -3.8079, -3.9159, -3.9365, -4.2996, -4.3137, -4.358, -4.2943, -4.4061, -4.4578, -4.4929, -4.5048, -4.6599, -4.7052, -4.7496, -4.7647, -4.9172, -5.0873, -5.1964, -5.2845, -5.3226, -5.3332, -5.4151, -5.4283, -5.5135, -5.5776, -4.0527, -3.1016, -4.6602, -4.6332, -5.0715, -3.3072, -3.3668, -3.8436, -3.8574, -3.8642, -3.9648, -3.9943, -4.0153, -4.0419, -4.058, -4.1205, -4.1958, -4.0003, -4.3604, -3.5798, -3.7823, -4.6778, -4.7114, -4.8029, -4.8427, -4.8919, -4.9292, -5.0514, -5.1272, -5.1886, -5.2581, -5.3173, -5.3764, -5.059, -5.3954, -3.4694, -4.5919, -5.1893, -4.7729, -2.501, -2.5426, -3.2321, -3.521, -3.8089, -4.2634, -4.2804, -4.4164, -4.4506, -4.5238, -4.5566, -4.6235, -4.7077, -4.7548, -3.3918, -4.9407, -5.0045, -5.0481, -5.0922, -5.1306, -5.1428, -5.2077, -3.9558, -5.2853, -5.2871, -5.4597, -5.5146, -5.5418, -5.6105, -5.6224, -3.7913, -3.5279, -4.5811, -5.4952, -2.8551, -3.2119, -3.2192, -3.2696, -3.6436, -3.7732, -3.9358, -3.9374, -4.0588, -4.0929, -4.1438, -4.1624, -4.3572, -4.4021, -4.441, -4.6628, -4.7094, -4.7929, -4.823, -4.8543, -4.9197, -4.9457, -4.9563, -4.9745, -5.0117, -5.0638, -5.1351, -5.1541, -5.1886, -5.2507, -3.3683, -4.6037, -5.0686, -2.9228, -3.1314, -3.5476, -3.6721, -3.9878, -3.9949, -4.0424, -4.3013, -4.3739, -4.375, -4.3887, -4.5058, -4.5431, -4.5432, -4.5436, -4.5665, -4.6536, -4.7292, -4.8495, -4.938, -4.9446, -5.0051, -5.1802, -5.2122, -5.258, -5.2698, -4.8987, -5.3664, -5.3821, -5.4813, -4.602, -4.4091, -4.4574, -5.0009, -2.1607, -2.8216, -3.1862, -3.3029, -3.6928, -4.027, -4.0626, -4.0699, -4.2647, -4.2941, -4.344, -4.3537, -4.4247, -4.4547, -4.6134, -4.6678, -4.7148, -4.747, -4.774, -4.8292, -4.8665, -4.8696, -4.9637, -3.6644, -5.0798, -5.1116, -5.1736, -5.2565, -5.3398, -5.4809, -4.9091, -2.6941, -3.7173, -3.9761, -4.0236, -4.5922, -4.5941, -4.6153, -4.6662, -4.6866, -4.7155, -4.7802, -3.9873, -4.8811, -4.5125, -5.0792, -3.1222, -5.1934, -5.2371, -5.383, -5.3845, -5.3944, -5.4308, -5.489, -5.4928, -5.8506, -5.9248, -6.3126, -6.4009, -3.7005, -6.6472, -4.7713, -5.1337, -5.2103, -5.2478, -5.4448, -3.0269, -3.6331, -3.6598, -3.6921, -3.7682, -3.8101, -3.8549, -4.2386, -4.3244, -4.3956, -4.415, -4.5092, -4.5181, -4.5479, -4.605, -4.6791, -4.6927, -4.8825, -4.9052, -4.9619, -5.021, -5.0232, -5.029, -5.1365, -5.1689, -5.1764, -5.2016, -5.2064, -4.0886, -5.3343, -3.9001, -5.1296, -2.8496, -2.9586, -3.0034, -3.6547, -3.6745, -3.7023, -3.773, -3.8806, -3.975, -4.1245, -4.168, -4.2517, -4.2909, -4.3894, -4.5898, -4.6022, -4.8538, -4.9195, -5.0099, -5.0146, -5.1018, -5.1186, -5.1528, -5.25, -5.4995, -5.6041, -5.6377, -5.7162, -5.7967, -5.8038, -4.9373, -5.0445, -4.3057, -2.3869, -3.7, -3.7844, -3.7946, -3.8897, -3.9688, -4.0826, -4.2491, -4.2657, -4.284, -4.2873, -4.4968, -4.5464, -4.5594, -4.6122, -4.7147, -4.775, -4.8823, -4.9128, -5.1483, -5.3301, -5.3368, -5.4753, -5.4855, -5.5522, -5.5768, -5.5801, -5.6212, -5.6619, -5.7155, -4.2715, -2.2077, -2.3681, -2.9143, -3.1073, -3.5433, -3.7894, -4.3962, -4.5137, -3.3531, -4.6015, -5.1707, -5.1856, -5.6344, -5.6349, -5.6358, -5.706, -5.7266, -5.9484, -5.9562, -5.9895, -6.001, -3.0226, -3.731, -6.14, -6.1577, -6.3193, -6.3759, -6.4775, -6.6116, -6.6676, -3.6234, -5.5955, -6.051, -6.2001], \"loglift\": [30.0, 29.0, 28.0, 27.0, 26.0, 25.0, 24.0, 23.0, 22.0, 21.0, 20.0, 19.0, 18.0, 17.0, 16.0, 15.0, 14.0, 13.0, 12.0, 11.0, 10.0, 9.0, 8.0, 7.0, 6.0, 5.0, 4.0, 3.0, 2.0, 1.0, 1.6874, 1.6874, 1.6873, 1.6872, 1.6866, 1.6846, 1.6845, 1.6838, 1.6837, 1.6835, 1.6827, 1.6825, 1.6822, 1.6814, 1.6812, 1.6809, 1.6808, 1.6808, 1.6806, 1.6805, 1.6803, 1.6801, 1.68, 1.6793, 1.6793, 1.6791, 1.6789, 1.6789, 1.6787, 1.6785, 1.6724, 1.6779, 1.6763, 1.6784, 1.6596, 1.6737, 1.6427, 1.6747, 1.6721, 1.6655, 2.7837, 2.7807, 2.7786, 2.7782, 2.7759, 2.7723, 2.7715, 2.7714, 2.7705, 2.7696, 2.7692, 2.7688, 2.7684, 2.7683, 2.7673, 2.767, 2.7663, 2.7662, 2.7646, 2.7638, 2.7637, 2.7632, 2.7627, 2.7621, 2.7615, 2.7591, 2.7582, 2.7553, 2.7552, 2.7551, 2.7507, 2.7422, 2.7546, 2.7344, 2.723, 2.7349, 2.7352, 2.7261, 2.7177, 2.6672, 2.664, 2.6664, 2.7208, 2.6806, 2.6489, 2.5725, 2.6465, 2.7128, 2.6814, 2.623, 2.443, 2.4145, 2.6225, 2.1062, 2.0299, 2.9678, 2.9669, 2.966, 2.965, 2.9637, 2.9636, 2.9626, 2.9609, 2.9592, 2.9591, 2.959, 2.9587, 2.9538, 2.9529, 2.9509, 2.9503, 2.9474, 2.9473, 2.9461, 2.9447, 2.9447, 2.9437, 2.9435, 2.9435, 2.9415, 2.9392, 2.9388, 2.9367, 2.9362, 2.9339, 2.9176, 2.9106, 2.8988, 2.8956, 2.8388, 2.858, 2.8633, 2.7971, 2.8129, 2.7282, 2.7149, 2.7061, 2.7702, 2.7205, 2.7079, 2.4489, 1.8704, 2.5714, 3.2018, 3.1996, 3.1988, 3.1985, 3.1974, 3.1945, 3.1937, 3.1913, 3.1904, 3.1879, 3.1879, 3.1878, 3.187, 3.1866, 3.1854, 3.1842, 3.1841, 3.184, 3.1818, 3.1818, 3.1803, 3.18, 3.1795, 3.1785, 3.1769, 3.1746, 3.174, 3.1737, 3.1728, 3.1647, 3.1595, 3.1578, 3.1551, 3.1575, 3.1473, 3.0261, 2.9458, 3.103, 3.0105, 2.8755, 2.8316, 2.9398, 2.9764, 3.3986, 3.3978, 3.3922, 3.385, 3.3848, 3.3845, 3.3823, 3.3816, 3.3813, 3.3804, 3.3801, 3.3761, 3.3761, 3.3752, 3.3736, 3.3722, 3.3713, 3.3707, 3.3696, 3.3686, 3.3657, 3.3647, 3.3637, 3.3636, 3.3601, 3.3594, 3.3581, 3.3559, 3.3541, 3.3539, 3.3501, 3.3327, 3.3152, 3.3158, 3.2341, 3.226, 3.0698, 3.1274, 2.8421, 2.6943, 2.5463, 2.4554, 2.8342, 2.9144, 1.8116, 3.4951, 3.4929, 3.4925, 3.4906, 3.4901, 3.4896, 3.4874, 3.4874, 3.4859, 3.4846, 3.4845, 3.4842, 3.4839, 3.483, 3.4802, 3.4781, 3.4735, 3.4696, 3.4682, 3.4669, 3.4664, 3.462, 3.4582, 3.4576, 3.4566, 3.4558, 3.4535, 3.4471, 3.4468, 3.4465, 3.4423, 3.4213, 3.387, 3.3597, 3.3277, 3.2812, 3.3217, 3.3295, 3.2988, 3.0726, 3.2206, 3.1524, 3.5054, 3.4999, 3.4969, 3.4927, 3.4925, 3.4916, 3.4894, 3.489, 3.4873, 3.4855, 3.4846, 3.4837, 3.4825, 3.4825, 3.4805, 3.4779, 3.4771, 3.4609, 3.4588, 3.4566, 3.453, 3.4523, 3.4509, 3.4452, 3.4441, 3.4394, 3.4386, 3.438, 3.4375, 3.4369, 3.3965, 3.1875, 3.2608, 3.2246, 3.01, 3.1754, 2.7274, 2.8278, 1.6888, 3.589, 3.5882, 3.586, 3.5855, 3.5817, 3.5813, 3.5797, 3.579, 3.5783, 3.5775, 3.5748, 3.5748, 3.5724, 3.5641, 3.5638, 3.5637, 3.5636, 3.5608, 3.5607, 3.5545, 3.5529, 3.5492, 3.5476, 3.5425, 3.5398, 3.5393, 3.5344, 3.5306, 3.5299, 3.5291, 3.4728, 3.2522, 2.6834, 3.1151, 2.856, 2.0919, 1.6997, 0.3272, 3.6622, 3.6604, 3.6595, 3.6492, 3.642, 3.6409, 3.6373, 3.6342, 3.6341, 3.6323, 3.6322, 3.631, 3.6268, 3.6259, 3.6227, 3.6226, 3.621, 3.6205, 3.6189, 3.6106, 3.6105, 3.6102, 3.6069, 3.606, 3.6054, 3.5998, 3.5998, 3.5995, 3.5988, 3.5909, 3.5835, 3.5101, 3.5314, 3.2034, 1.8227, 3.6602, 3.6599, 3.6596, 3.6582, 3.6581, 3.6566, 3.6523, 3.6497, 3.6476, 3.6472, 3.6472, 3.6449, 3.6385, 3.6381, 3.6372, 3.6361, 3.6335, 3.6262, 3.6245, 3.6244, 3.623, 3.6154, 3.6153, 3.6085, 3.6064, 3.6042, 3.6031, 3.5933, 3.5917, 3.5764, 3.576, 3.5424, 3.4191, 3.4446, 2.8672, 2.8377, 3.7377, 3.7355, 3.7354, 3.7351, 3.7347, 3.7338, 3.7315, 3.7308, 3.7291, 3.7284, 3.7281, 3.7257, 3.7247, 3.7237, 3.7232, 3.7224, 3.7219, 3.7218, 3.7211, 3.7189, 3.7189, 3.7186, 3.7143, 3.7133, 3.7093, 3.706, 3.706, 3.6956, 3.6927, 3.6879, 3.656, 3.6109, 3.601, 3.4767, 3.2344, 1.9154, 3.8638, 3.8611, 3.861, 3.8603, 3.8598, 3.8589, 3.8575, 3.8571, 3.8562, 3.856, 3.8555, 3.8554, 3.8535, 3.8533, 3.8483, 3.8479, 3.8427, 3.842, 3.8392, 3.8375, 3.8374, 3.8341, 3.8277, 3.8273, 3.8229, 3.8179, 3.8148, 3.8142, 3.8108, 3.8095, 3.7704, 3.7703, 3.7725, 3.7587, 3.6396, 3.6105, 3.5263, 3.8831, 3.8777, 3.8777, 3.8758, 3.8745, 3.8739, 3.8684, 3.8681, 3.866, 3.8658, 3.8654, 3.8633, 3.8607, 3.8581, 3.8564, 3.8558, 3.852, 3.8504, 3.8494, 3.8486, 3.8475, 3.8414, 3.8384, 3.8381, 3.8379, 3.8337, 3.8332, 3.8295, 3.8287, 3.8274, 3.8165, 3.7608, 3.5799, 3.5236, 3.2966, 3.9274, 3.9241, 3.9212, 3.9206, 3.9175, 3.9103, 3.9077, 3.9075, 3.9074, 3.8985, 3.8982, 3.8968, 3.8935, 3.8927, 3.8914, 3.8913, 3.891, 3.888, 3.8861, 3.8855, 3.8844, 3.8799, 3.878, 3.8759, 3.869, 3.8662, 3.8652, 3.8644, 3.8622, 3.8602, 3.8571, 3.7903, 3.7745, 3.8321, 3.6204, 3.1265, 1.8776, 2.7796, 3.9521, 3.9498, 3.9489, 3.948, 3.9407, 3.9402, 3.9365, 3.9346, 3.9338, 3.9335, 3.9295, 3.9283, 3.9266, 3.9264, 3.9248, 3.916, 3.9127, 3.9111, 3.9073, 3.9029, 3.9, 3.8994, 3.8958, 3.8937, 3.8929, 3.8856, 3.8825, 3.8804, 3.8782, 3.8773, 3.8256, 3.8522, 3.6798, 3.6551, 3.4954, 3.5334, 2.7587, 3.9982, 3.997, 3.9952, 3.995, 3.992, 3.9893, 3.9892, 3.9885, 3.9833, 3.9822, 3.9788, 3.9768, 3.9738, 3.9737, 3.973, 3.9723, 3.9676, 3.967, 3.9658, 3.9617, 3.9595, 3.9584, 3.9566, 3.9559, 3.9558, 3.9543, 3.9523, 3.9498, 3.9413, 3.941, 3.8875, 3.8525, 3.8404, 3.652, 3.7941, 3.7225, 3.3505, 4.0366, 4.0362, 4.0355, 4.0349, 4.0347, 4.0256, 4.0245, 4.0241, 4.0207, 4.0204, 4.0196, 4.0137, 4.0111, 4.0097, 4.0087, 4.0083, 4.0073, 4.0035, 4.003, 4.0006, 3.998, 3.99, 3.99, 3.9897, 3.9873, 3.9801, 3.9801, 3.9748, 3.9727, 3.9641, 3.8921, 3.6721, 3.6087, 3.6636, 2.5023, 4.0584, 4.0564, 4.0522, 4.052, 4.0515, 4.0504, 4.0493, 4.0452, 4.0386, 4.0359, 4.0342, 4.0335, 4.0318, 4.0304, 4.0293, 4.0269, 4.0251, 4.0189, 4.0183, 4.0167, 4.0091, 4.0089, 4.0003, 3.9997, 3.9982, 3.9972, 3.991, 3.9854, 3.984, 3.9824, 3.8705, 3.7786, 3.6507, 3.6899, 3.7325, 3.5341, 2.0065, 1.5564, 4.1074, 4.1046, 4.0959, 4.0956, 4.0927, 4.0927, 4.091, 4.0909, 4.0902, 4.0895, 4.0851, 4.0842, 4.0791, 4.066, 4.0644, 4.062, 4.0569, 4.056, 4.0548, 4.0537, 4.0532, 4.0508, 4.0487, 4.0487, 4.0476, 4.0453, 4.0449, 4.0361, 4.0344, 4.0259, 3.936, 3.9996, 3.7447, 3.4816, 3.8913, 2.1598, 4.1203, 4.1098, 4.1067, 4.1035, 4.1025, 4.1009, 4.0966, 4.0965, 4.094, 4.0931, 4.0887, 4.0825, 4.081, 4.0809, 4.0781, 4.0774, 4.0774, 4.0673, 4.0631, 4.0621, 4.0619, 4.06, 4.0547, 4.0544, 4.0528, 4.0524, 4.052, 4.0496, 4.0489, 4.0412, 3.9811, 3.8804, 3.7947, 3.7846, 3.7187, 2.3908, 4.3126, 4.3023, 4.2976, 4.2853, 4.2748, 4.2735, 4.2656, 4.2638, 4.2604, 4.2575, 4.2572, 4.2534, 4.2522, 4.2479, 4.2358, 4.2273, 4.2256, 4.2239, 4.2117, 4.2091, 4.2037, 4.195, 4.1896, 4.1733, 4.1731, 4.1557, 4.1555, 4.1531, 4.1516, 4.1331, 4.0154, 3.8331, 1.4423, 2.4597, 4.3219, 4.3191, 4.3172, 4.3135, 4.3084, 4.3013, 4.2967, 4.2962, 4.2928, 4.292, 4.292, 4.2919, 4.2856, 4.2825, 4.2797, 4.2703, 4.2637, 4.2606, 4.26, 4.2552, 4.253, 4.2409, 4.2383, 4.2382, 4.2379, 4.2377, 4.2355, 4.2344, 4.2221, 4.2175, 4.3652, 4.353, 4.3498, 4.3477, 4.347, 4.3411, 4.3367, 4.3282, 4.3221, 4.3154, 4.3145, 4.314, 4.3119, 4.3092, 4.3083, 4.3037, 4.3014, 4.3012, 4.2972, 4.2944, 4.2943, 4.2916, 4.2905, 4.2891, 4.2792, 4.2771, 4.2765, 4.2757, 4.2484, 4.2426, 4.2274, 4.2237, 3.8838, 3.6996, 3.0895, 1.2725, 4.3674, 4.3571, 4.3565, 4.3502, 4.3493, 4.3456, 4.3448, 4.3438, 4.3432, 4.3423, 4.3415, 4.3412, 4.3392, 4.3374, 4.3347, 4.3332, 4.3256, 4.3237, 4.3211, 4.321, 4.3119, 4.3117, 4.3111, 4.3055, 4.3001, 4.2925, 4.2905, 4.2877, 4.2816, 4.2809, 4.1645, 4.1502, 3.9993, 4.3924, 4.3923, 4.3902, 4.3871, 4.3813, 4.3807, 4.3757, 4.3738, 4.3735, 4.3734, 4.3721, 4.367, 4.3641, 4.3617, 4.3602, 4.3599, 4.3512, 4.3502, 4.3493, 4.3486, 4.3388, 4.3341, 4.3311, 4.3107, 4.2909, 4.2809, 4.2745, 4.2741, 4.2734, 4.2633, 4.2316, 4.1905, 4.125, 4.1919, 4.1459, 3.859, 4.383, 4.3743, 4.3679, 4.3641, 4.3634, 4.3614, 4.3602, 4.359, 4.3571, 4.3567, 4.3566, 4.3552, 4.3526, 4.3525, 4.3478, 4.3475, 4.3471, 4.3456, 4.3439, 4.3437, 4.3407, 4.3386, 4.3305, 4.3286, 4.3249, 4.311, 4.3025, 4.2958, 4.2955, 4.2911, 4.1953, 4.0481, 4.2005, 4.1857, 3.9922, 3.7328, 4.4198, 4.4066, 4.3967, 4.3953, 4.3946, 4.3864, 4.3815, 4.3803, 4.3801, 4.3785, 4.3768, 4.3761, 4.3758, 4.375, 4.3736, 4.371, 4.3678, 4.3533, 4.3509, 4.3464, 4.3305, 4.3269, 4.3261, 4.3196, 4.3171, 4.3132, 4.2932, 4.2919, 4.2835, 4.2765, 4.0609, 2.3916, 2.3499, 4.4159, 4.4011, 4.3986, 4.3968, 4.3952, 4.3939, 4.3928, 4.3909, 4.3877, 4.3865, 4.3854, 4.3766, 4.3694, 4.3681, 4.3679, 4.3659, 4.3598, 4.359, 4.354, 4.3516, 4.3293, 4.3151, 4.3126, 4.3111, 4.3099, 4.3062, 4.3021, 4.2949, 4.2889, 4.2843, 4.1693, 4.0893, 4.1752, 3.9584, 3.8679, 3.432, 2.2833, 1.9772, 4.4293, 4.4225, 4.4181, 4.4135, 4.4098, 4.4093, 4.4092, 4.4075, 4.4065, 4.4063, 4.3983, 4.3873, 4.3861, 4.3844, 4.3823, 4.3804, 4.3729, 4.3688, 4.3548, 4.3432, 4.3421, 4.3325, 4.3282, 4.3177, 4.3118, 4.3095, 4.3072, 4.2954, 4.2911, 4.2831, 4.2799, 4.1999, 3.793, 2.3967, 4.4536, 4.4433, 4.4314, 4.4264, 4.4258, 4.4234, 4.4231, 4.4194, 4.4184, 4.4112, 4.4096, 4.4019, 4.3912, 4.3873, 4.3828, 4.3733, 4.364, 4.3597, 4.3552, 4.3527, 4.3377, 4.3228, 4.3204, 4.3097, 4.3085, 4.3043, 4.2934, 4.2803, 4.2717, 4.2648, 4.2625, 4.0577, 3.7189, 2.819, 1.6619, 2.1091, 4.4622, 4.4544, 4.4412, 4.435, 4.4341, 4.4333, 4.4308, 4.4293, 4.4278, 4.419, 4.4171, 4.4039, 4.4038, 4.3899, 4.3805, 4.3769, 4.3667, 4.3626, 4.3609, 4.3521, 4.3518, 4.3391, 4.3131, 4.3079, 4.2989, 4.2929, 4.288, 4.2876, 4.2857, 4.2765, 3.7322, 4.0299, 1.5136, 1.7613, 4.4691, 4.4524, 4.4452, 4.4372, 4.4357, 4.4328, 4.4245, 4.4236, 4.4229, 4.4213, 4.4205, 4.4178, 4.4151, 4.412, 4.4095, 4.4018, 4.397, 4.3963, 4.3945, 4.3929, 4.3839, 4.3629, 4.3605, 4.3504, 4.35, 4.3408, 4.3392, 4.3318, 4.3315, 4.3303, 4.2997, 4.2781, 4.1162, 3.6275, 3.4938, 3.1282, 2.5489, 4.4833, 4.448, 4.447, 4.4468, 4.4467, 4.4385, 4.4313, 4.426, 4.4244, 4.4223, 4.4126, 4.4105, 4.4103, 4.3879, 4.3768, 4.3678, 4.361, 4.3508, 4.3486, 4.3337, 4.3293, 4.3087, 4.2986, 4.2951, 4.2393, 4.2367, 4.2348, 4.2303, 4.2237, 4.2235, 4.1735, 4.0604, 3.9647, 3.1514, 3.251, 2.6004, 1.7817, 2.2121, 2.1262, 4.4864, 4.4822, 4.4809, 4.4778, 4.4742, 4.474, 4.469, 4.4648, 4.463, 4.4556, 4.4533, 4.4509, 4.4475, 4.4368, 4.4294, 4.4272, 4.4252, 4.4223, 4.4187, 4.4144, 4.411, 4.4004, 4.3863, 4.3814, 4.3799, 4.3654, 4.358, 4.3575, 4.3554, 4.3546, 4.3351, 3.4308, 1.152, 1.9878, 4.482, 4.4757, 4.4752, 4.4743, 4.4724, 4.4708, 4.4687, 4.4653, 4.4571, 4.4511, 4.4507, 4.4505, 4.4467, 4.4447, 4.4389, 4.43, 4.4271, 4.4179, 4.4114, 4.4094, 4.3971, 4.39, 4.3875, 4.386, 4.3837, 4.3789, 4.3781, 4.3718, 4.3703, 4.3657, 4.2195, 4.119, 4.2625, 3.8055, 3.1286, 4.5093, 4.4993, 4.4991, 4.49, 4.4879, 4.4815, 4.4803, 4.4775, 4.475, 4.4735, 4.4731, 4.4688, 4.4683, 4.4674, 4.4664, 4.466, 4.4605, 4.4575, 4.4487, 4.4459, 4.4448, 4.4405, 4.4403, 4.4367, 4.4366, 4.4288, 4.4282, 4.4282, 4.4173, 4.4152, 3.9217, 4.5638, 4.54, 4.535, 4.5279, 4.5236, 4.5219, 4.5217, 4.5155, 4.5094, 4.5054, 4.5053, 4.5043, 4.504, 4.4952, 4.4932, 4.4924, 4.4858, 4.4821, 4.4818, 4.4799, 4.4749, 4.4559, 4.4511, 4.4473, 4.4265, 4.4257, 4.4225, 4.4152, 4.4019, 4.3984, 4.3582, 4.3179, 4.059, 1.2203, 2.0286, 4.5385, 4.5375, 4.5346, 4.5257, 4.5239, 4.5183, 4.5173, 4.5119, 4.51, 4.5089, 4.4996, 4.4977, 4.4967, 4.4928, 4.4896, 4.4852, 4.4831, 4.4814, 4.4809, 4.4784, 4.4761, 4.4707, 4.4627, 4.4619, 4.4533, 4.451, 4.4491, 4.4478, 4.4343, 4.4138, 4.4031, 4.1958, 4.2542, 4.3255, 2.1232, 4.5713, 4.5687, 4.5553, 4.5456, 4.5444, 4.5443, 4.5401, 4.5393, 4.5213, 4.5205, 4.5178, 4.5166, 4.5147, 4.5113, 4.5089, 4.508, 4.4962, 4.4924, 4.4885, 4.4872, 4.4725, 4.4535, 4.4397, 4.4276, 4.4221, 4.4205, 4.4079, 4.4058, 4.3915, 4.3801, 4.3304, 4.0104, 4.2631, 2.7139, 3.0007, 4.5589, 4.5575, 4.5431, 4.5425, 4.5423, 4.5382, 4.5369, 4.536, 4.5348, 4.534, 4.531, 4.5272, 4.5232, 4.5177, 4.5081, 4.502, 4.4948, 4.492, 4.4838, 4.48, 4.4752, 4.4713, 4.4578, 4.4487, 4.4408, 4.4314, 4.4229, 4.4141, 4.4112, 4.4111, 4.1779, 4.031, 4.1145, 3.0347, 4.6319, 4.6315, 4.6203, 4.6129, 4.6031, 4.581, 4.58, 4.5711, 4.5687, 4.5633, 4.5608, 4.5553, 4.548, 4.5437, 4.5359, 4.5245, 4.5172, 4.512, 4.5065, 4.5015, 4.4999, 4.491, 4.4887, 4.4797, 4.4794, 4.4514, 4.4416, 4.4366, 4.4234, 4.4211, 3.8203, 2.684, 3.0068, 4.2498, 4.6333, 4.6267, 4.6265, 4.6239, 4.6149, 4.6103, 4.6037, 4.6036, 4.5979, 4.5962, 4.5935, 4.5925, 4.5807, 4.5777, 4.575, 4.5575, 4.5533, 4.5454, 4.5424, 4.5392, 4.5322, 4.5293, 4.5281, 4.526, 4.5217, 4.5153, 4.5061, 4.5035, 4.4988, 4.4899, 3.0412, 3.415, 3.0528, 4.6628, 4.6589, 4.6482, 4.644, 4.631, 4.6307, 4.6283, 4.6136, 4.6088, 4.6087, 4.6077, 4.5991, 4.5962, 4.5962, 4.5961, 4.5943, 4.5868, 4.5799, 4.5678, 4.558, 4.5573, 4.5501, 4.5271, 4.5225, 4.5156, 4.5139, 4.5103, 4.4984, 4.4958, 4.4784, 4.383, 4.1798, 4.099, 2.8506, 4.7, 4.6923, 4.6853, 4.6825, 4.6705, 4.6559, 4.654, 4.6536, 4.6422, 4.6403, 4.637, 4.6363, 4.6312, 4.629, 4.6159, 4.611, 4.6066, 4.6034, 4.6007, 4.5949, 4.5908, 4.5905, 4.5796, 4.5727, 4.5648, 4.5605, 4.5518, 4.5393, 4.5259, 4.501, 4.3059, 4.8993, 4.8692, 4.8556, 4.8528, 4.8065, 4.8064, 4.8041, 4.7986, 4.7963, 4.793, 4.7852, 4.7785, 4.7723, 4.7514, 4.7433, 4.7276, 4.7242, 4.7164, 4.6883, 4.688, 4.686, 4.6784, 4.6658, 4.6649, 4.5735, 4.5514, 4.416, 4.3804, 4.2855, 4.2707, 3.2318, 1.7261, 1.6297, 1.6706, 1.6383, 4.933, 4.9126, 4.9114, 4.9099, 4.9062, 4.904, 4.9016, 4.8762, 4.8691, 4.8629, 4.8611, 4.852, 4.8511, 4.848, 4.8419, 4.8335, 4.8319, 4.8074, 4.8042, 4.7959, 4.7868, 4.7865, 4.7856, 4.7677, 4.7621, 4.7607, 4.7562, 4.7553, 4.7511, 4.7305, 4.6955, 1.7103, 4.9374, 4.935, 4.9339, 4.9119, 4.911, 4.9097, 4.9062, 4.9004, 4.8949, 4.885, 4.8818, 4.8754, 4.8722, 4.8637, 4.8438, 4.8425, 4.8116, 4.8024, 4.7888, 4.7881, 4.7739, 4.7711, 4.7651, 4.7474, 4.6948, 4.6696, 4.661, 4.6402, 4.6177, 4.6156, 4.5991, 3.4868, 1.3764, 4.9882, 4.9513, 4.947, 4.9464, 4.941, 4.9362, 4.9285, 4.9157, 4.9144, 4.9128, 4.9125, 4.8928, 4.8875, 4.8861, 4.8802, 4.8679, 4.8601, 4.8452, 4.8407, 4.8019, 4.7664, 4.765, 4.7341, 4.7317, 4.7155, 4.7093, 4.7085, 4.6978, 4.687, 4.6722, 4.5831, 5.1199, 5.1176, 5.1064, 5.1008, 5.0835, 5.07, 5.0201, 5.0069, 4.9993, 4.996, 4.9023, 4.8992, 4.7875, 4.7874, 4.7871, 4.766, 4.7597, 4.6851, 4.6823, 4.6701, 4.6658, 4.623, 4.621, 4.6116, 4.6044, 4.5348, 4.5089, 4.4604, 4.3925, 4.3628, 3.93, 1.302, 0.1588, 1.1687]}, \"token.table\": {\"Topic\": [1, 3, 7, 19, 11, 35, 49, 25, 27, 19, 20, 33, 1, 47, 5, 18, 2, 19, 21, 13, 44, 36, 27, 27, 32, 41, 45, 1, 47, 26, 33, 5, 4, 16, 36, 32, 45, 26, 46, 40, 47, 14, 14, 26, 11, 36, 7, 24, 44, 46, 48, 23, 4, 28, 16, 34, 47, 5, 11, 15, 34, 15, 44, 31, 32, 32, 44, 45, 4, 10, 43, 30, 8, 25, 44, 45, 46, 15, 44, 26, 31, 13, 3, 28, 29, 25, 5, 8, 21, 24, 2, 3, 6, 8, 11, 14, 15, 16, 17, 18, 23, 24, 36, 38, 42, 39, 38, 38, 28, 40, 21, 46, 5, 27, 42, 26, 23, 34, 24, 16, 12, 23, 24, 26, 10, 44, 4, 47, 13, 8, 34, 8, 8, 43, 22, 8, 5, 23, 32, 27, 49, 8, 26, 27, 22, 48, 7, 28, 32, 45, 37, 25, 4, 5, 15, 32, 21, 34, 46, 7, 1, 1, 11, 32, 11, 14, 31, 37, 45, 5, 17, 29, 26, 2, 49, 6, 2, 13, 14, 17, 18, 30, 42, 40, 6, 7, 14, 15, 17, 25, 38, 3, 15, 31, 39, 2, 3, 8, 9, 19, 20, 25, 27, 48, 39, 2, 6, 8, 10, 11, 25, 30, 6, 10, 36, 38, 2, 4, 7, 9, 9, 5, 9, 36, 14, 42, 46, 6, 11, 25, 48, 3, 9, 10, 17, 18, 28, 30, 24, 24, 12, 19, 41, 10, 20, 38, 7, 18, 17, 31, 34, 37, 47, 31, 22, 37, 11, 24, 10, 40, 12, 21, 37, 48, 46, 49, 25, 20, 22, 16, 14, 19, 48, 9, 38, 35, 13, 4, 11, 26, 36, 23, 4, 20, 4, 18, 16, 29, 35, 1, 7, 14, 12, 15, 42, 44, 9, 20, 36, 35, 9, 3, 5, 2, 28, 34, 34, 35, 11, 19, 21, 24, 28, 22, 4, 20, 28, 42, 20, 32, 7, 15, 15, 3, 45, 8, 44, 4, 2, 3, 9, 14, 15, 26, 40, 45, 45, 3, 36, 20, 28, 3, 9, 10, 19, 1, 16, 26, 3, 33, 10, 15, 3, 6, 12, 15, 27, 27, 30, 3, 7, 47, 48, 17, 19, 8, 16, 19, 8, 8, 39, 28, 35, 15, 42, 9, 38, 26, 6, 9, 11, 28, 11, 28, 43, 37, 31, 24, 18, 42, 6, 15, 9, 46, 45, 6, 9, 16, 29, 30, 1, 40, 3, 33, 13, 26, 36, 5, 27, 10, 25, 32, 8, 35, 39, 46, 23, 44, 2, 47, 25, 11, 23, 12, 6, 15, 15, 43, 17, 20, 18, 8, 22, 1, 3, 15, 39, 14, 1, 2, 3, 31, 31, 25, 28, 11, 25, 32, 17, 2, 12, 27, 39, 33, 17, 29, 37, 14, 3, 3, 30, 21, 22, 38, 10, 15, 16, 16, 40, 11, 46, 49, 30, 47, 22, 40, 13, 46, 6, 18, 5, 12, 12, 14, 23, 30, 9, 42, 47, 3, 48, 25, 41, 15, 21, 19, 30, 3, 7, 4, 5, 8, 40, 42, 31, 43, 6, 28, 13, 1, 2, 5, 2, 3, 6, 9, 11, 12, 13, 14, 19, 23, 24, 25, 26, 28, 29, 37, 26, 24, 4, 5, 34, 35, 48, 40, 36, 10, 11, 38, 38, 44, 46, 17, 12, 24, 49, 19, 4, 25, 20, 26, 42, 39, 48, 31, 2, 3, 6, 10, 13, 18, 21, 23, 24, 27, 28, 30, 32, 35, 10, 18, 29, 2, 6, 2, 3, 6, 7, 8, 9, 13, 14, 15, 16, 17, 20, 23, 24, 26, 28, 39, 40, 43, 29, 9, 25, 5, 7, 8, 9, 10, 13, 14, 15, 18, 25, 35, 44, 17, 40, 49, 40, 7, 49, 10, 15, 20, 22, 29, 2, 3, 6, 8, 16, 17, 18, 35, 41, 42, 1, 2, 4, 5, 8, 23, 42, 37, 38, 2, 32, 8, 23, 33, 42, 41, 32, 49, 26, 47, 13, 45, 42, 5, 49, 10, 25, 38, 2, 26, 38, 3, 13, 22, 18, 46, 5, 8, 11, 14, 17, 18, 26, 35, 38, 43, 35, 36, 2, 4, 16, 18, 19, 22, 24, 31, 35, 40, 3, 5, 7, 11, 18, 24, 31, 18, 49, 7, 21, 4, 47, 29, 7, 9, 38, 22, 10, 33, 1, 6, 1, 6, 2, 4, 4, 9, 20, 11, 33, 25, 28, 11, 30, 4, 11, 32, 17, 29, 17, 39, 34, 35, 2, 32, 37, 11, 29, 15, 31, 46, 35, 45, 45, 19, 35, 8, 20, 48, 41, 15, 33, 9, 23, 20, 18, 33, 33, 36, 49, 24, 36, 12, 17, 40, 18, 21, 12, 6, 21, 25, 26, 25, 21, 4, 8, 27, 32, 25, 23, 32, 6, 19, 21, 2, 28, 35, 18, 11, 2, 6, 10, 3, 7, 18, 3, 9, 13, 15, 18, 27, 48, 18, 3, 2, 39, 38, 36, 36, 35, 13, 4, 4, 43, 1, 2, 7, 8, 5, 35, 7, 32, 3, 8, 14, 18, 19, 48, 48, 15, 24, 21, 11, 32, 24, 12, 47, 34, 13, 30, 23, 42, 16, 2, 8, 9, 11, 14, 19, 28, 31, 31, 28, 9, 33, 5, 8, 26, 5, 3, 35, 29, 2, 8, 34, 32, 17, 31, 5, 10, 13, 14, 40, 46, 3, 46, 17, 5, 12, 35, 35, 12, 18, 26, 6, 45, 31, 37, 43, 3, 6, 12, 49, 6, 10, 9, 26, 7, 18, 8, 20, 29, 22, 37, 20, 5, 21, 49, 44, 26, 33, 27, 37, 41, 19, 46, 5, 37, 33, 9, 29, 20, 30, 9, 35, 5, 29, 9, 6, 38, 29, 1, 3, 6, 8, 16, 27, 22, 16, 27, 37, 21, 21, 14, 14, 35, 14, 42, 7, 16, 11, 45, 26, 49, 40, 2, 3, 5, 7, 9, 11, 15, 25, 34, 38, 38, 26, 2, 5, 15, 17, 36, 19, 38, 5, 47, 44, 48, 23, 30, 3, 4, 28, 45, 21, 21, 26, 48, 6, 12, 26, 35, 39, 8, 8, 34, 3, 6, 39, 41, 43, 47, 45, 48, 48, 49, 28, 36, 2, 6, 16, 38, 16, 43, 14, 21, 30, 1, 8, 14, 3, 11, 42, 5, 17, 26, 29, 36, 17, 15, 19, 2, 5, 6, 16, 45, 18, 28, 42, 10, 12, 28, 46, 5, 1, 40, 9, 30, 5, 8, 10, 14, 16, 17, 25, 26, 27, 33, 26, 40, 43, 26, 18, 42, 3, 6, 13, 33, 6, 12, 16, 19, 40, 47, 47, 9, 35, 39, 49, 39, 28, 19, 41, 27, 27, 40, 9, 29, 10, 25, 43, 2, 3, 8, 11, 25, 30, 35, 49, 25, 35, 49, 30, 23, 43, 9, 9, 20, 10, 20, 2, 6, 7, 12, 13, 16, 17, 18, 19, 20, 48, 20, 4, 17, 27, 17, 27, 40, 20, 21, 29, 5, 6, 37, 47, 12, 29, 32, 3, 6, 35, 3, 44, 10, 38, 37, 4, 11, 11, 20, 43, 10, 10, 41, 8, 43, 4, 43, 46, 22, 44, 19, 38, 40, 39, 26, 11, 32, 4, 14, 15, 29, 28, 28, 7, 14, 22, 40, 6, 39, 23, 37, 42, 38, 41, 7, 10, 16, 18, 11, 17, 16, 32, 27, 37, 12, 5, 14, 28, 16, 30, 38, 6, 17, 26, 38, 13, 27, 31, 41, 36, 38, 19, 41, 30, 14, 38, 24, 46, 17, 3, 47, 18, 24, 5, 9, 12, 16, 17, 20, 40, 39, 16, 40, 32, 11, 20, 14, 19, 4, 23, 26, 24, 37, 43, 43, 19, 9, 32, 3, 15, 20, 7, 21, 46, 15, 25, 25, 25, 9, 9, 15, 18, 15, 45, 4, 14, 28, 46, 43, 14, 11, 21, 27, 25, 6, 10, 15, 37, 40, 22, 22, 14, 36, 14, 12, 7, 17, 20, 12, 23, 37, 10, 6, 7, 31, 31, 15, 7, 1, 3, 15, 18, 15, 18, 3, 15, 15, 31, 46, 1, 16, 27, 27, 12, 23, 8, 10, 13, 27, 37, 42, 26, 34, 38, 13, 16, 3, 13, 36, 28, 5, 2, 28, 14, 19, 7, 33, 8, 13, 19, 21, 15, 20, 25, 33, 3, 15, 16, 35, 7, 18, 39, 37, 12, 25, 11, 16, 18, 41, 1, 13, 1, 12, 31, 16, 3, 7, 13, 18, 26, 27, 39, 14, 11, 14, 20, 20, 40, 19, 5, 8, 20, 21, 33, 12, 9, 39, 17, 28, 14, 19, 4, 40, 2, 12, 15, 20, 16, 9, 11, 12, 14, 22, 25, 27, 34, 41, 47, 11, 34, 2, 5, 8, 20, 23, 38, 40, 45, 30, 12, 19, 24, 32, 10, 13, 41, 45, 45, 23, 30, 35, 38, 44, 2, 7, 10, 11, 13, 18, 23, 30, 16, 47, 2, 6, 17, 27, 19, 30, 35, 30, 2, 3, 49, 13, 2, 5, 8, 9, 11, 12, 14, 15, 20, 27, 37, 41, 9, 46, 9, 43, 10, 18, 7, 22, 22, 6, 32, 14, 39, 7, 30, 37, 35, 15, 11, 49, 49, 46, 32, 49, 1, 19, 44, 8, 23, 33, 48, 44, 31, 47, 29, 36, 19, 11, 42, 6, 8, 15, 16, 1, 4, 7, 11, 15, 25, 49, 3, 4, 36, 41, 45, 17, 31, 36, 16, 4, 5, 7, 8, 43, 34, 4, 43, 11, 24, 30, 10, 45, 36, 12, 49, 6, 47, 19, 6, 15, 22, 23, 31, 35, 33, 36, 40, 41, 6, 7, 13, 18, 20, 23, 20, 43, 43, 7, 18, 18, 1, 2, 3, 4, 6, 10, 11, 12, 13, 20, 21, 17, 38, 9, 36, 23, 13, 3, 9, 11, 16, 44, 4, 5, 7, 9, 11, 14, 16, 19, 21, 40, 4, 19, 40, 34, 27, 28, 14, 21, 21, 49, 34, 6, 35, 38, 5, 21, 22, 28, 29, 2, 5, 13, 19, 41, 15, 3, 6, 3, 13, 15, 18, 26, 27, 30, 35, 37, 15, 26, 37, 12, 14, 41, 34, 11, 20, 30, 30, 1, 2, 3, 6, 8, 3, 39, 39, 15, 14, 41, 30, 10, 12, 35, 34, 23, 26, 3, 35, 30, 15, 8, 36, 34, 7, 40, 20, 5, 15, 2, 3, 4, 6, 7, 10, 13, 14, 16, 19, 23, 25, 27, 32, 35, 35, 8, 13, 22, 40, 37, 14, 34, 43, 23, 24, 10, 44, 4, 11, 46, 15, 5, 1, 2, 47, 23, 19, 7, 1, 3, 4, 10, 14, 41, 24, 23, 49, 5, 7, 30, 36, 42, 42, 26, 38, 21, 21, 5, 33, 12, 8, 13, 17, 11, 25, 14, 1, 4, 34, 2, 9, 10, 12, 13, 16, 17, 24, 26, 31, 32, 35, 44, 6, 31, 29, 16, 23, 20, 16, 22, 12, 32, 3, 5, 10, 11, 36, 46, 36, 10, 29, 37, 19, 6, 28, 30, 40, 46, 20, 32, 42, 13, 23, 12, 5, 15, 18, 7, 16, 19, 26, 27, 24, 47, 4, 7, 17, 29, 30, 31, 43, 37, 21, 39, 30, 42, 42, 7, 25, 25, 38, 48, 23, 32, 28, 17, 23, 13, 15, 17, 44, 44, 47, 24, 2, 47, 47, 11, 46, 33, 27, 14, 29, 25, 34, 38, 5, 26, 34, 15, 37, 13, 34, 35, 45, 43, 10, 33, 16, 12, 46, 22, 18, 49, 25, 24, 40, 2, 5, 8, 10, 13, 26, 30, 35, 26, 14, 5, 40, 4, 6, 30, 31, 24, 13, 48, 21, 26, 49, 32, 40, 32, 26, 27, 11, 2, 10, 34, 26, 39, 22, 14, 19, 40, 43, 25, 7, 45, 45, 5, 30, 23, 40, 39, 14, 10, 33, 5, 10, 11, 18, 22, 26, 23, 46, 12, 3, 15, 36, 40, 48, 11, 19, 9, 37, 47, 17, 17, 11, 10, 13, 4, 7, 19, 45, 7, 31, 31, 42, 13, 12, 23, 16, 4, 14, 25, 6, 10, 3, 16, 18, 22, 3, 37, 9, 8, 39, 8, 35, 29, 31, 13, 34, 13, 23, 6, 10, 18, 35, 18, 23, 24, 30, 4, 18, 6, 26, 33, 2, 3, 17, 13, 29, 48, 19, 7, 10, 6, 10, 27, 32, 33, 44, 40, 37, 44, 34, 31, 16, 12, 44, 31, 39, 1, 4, 8, 9, 15, 17, 20, 30, 30, 35, 33, 8, 22, 17, 24, 28, 5, 6, 10, 23, 46, 9, 41, 26, 28, 15, 35, 34, 1, 2, 3, 4, 6, 7, 25, 16, 24, 36, 39, 18, 1, 2, 16, 35, 36, 13, 18, 1, 4, 6, 9, 10, 9, 48, 27, 21, 10, 12, 23, 29, 35, 19, 35, 27, 48, 15, 15, 11, 15, 6, 7, 19, 20, 27, 30, 41, 47, 5, 10, 26, 49, 13, 18, 28, 29, 35, 40, 49, 17, 24, 13, 6, 27, 44, 37, 20, 9, 13, 33, 34, 39, 8, 32, 43, 27, 21, 21, 7, 47, 10, 11, 15, 16, 36, 3, 7, 11, 13, 19, 24, 27, 45, 7, 3, 27, 29, 16, 13, 31, 30, 31, 12, 19, 34, 43, 47, 29, 44, 30, 48, 10, 47, 39, 2, 42, 8, 36, 8, 3, 4, 8, 13, 38, 48, 32, 35, 6, 20, 23, 27, 35, 40, 45, 23, 40, 2, 9, 38, 17, 25, 2, 5, 6, 10, 13, 16, 18, 20, 27, 28, 35, 37, 43, 44, 18, 3, 29, 6, 4, 4, 19, 6, 16, 46, 46, 38, 34, 7, 7, 17, 34, 28, 44, 8, 11, 26, 34, 16, 16, 13, 16, 17, 23, 27, 32, 43, 32, 26, 26, 19, 24, 38, 39, 44, 16, 6, 24, 10, 43, 30, 48, 24, 17, 23, 26, 28, 39, 42, 16, 18, 37, 18, 20, 7, 18, 20, 33, 37, 22, 4, 8, 49, 49, 16, 2, 3, 3, 8, 10, 14, 18, 35, 41, 24, 36, 6, 18, 27, 48, 2, 7, 8, 9, 17, 20, 5, 9, 12, 19, 28, 11, 17, 32, 40, 6, 37, 10, 2, 41, 42, 29, 9, 12, 33, 19, 41, 44, 20, 23, 24, 39, 37, 29, 27, 36, 7, 31, 18, 42, 42, 7, 28, 28, 3, 5, 10, 15, 25, 27, 18, 29, 29, 32, 4, 14, 30, 37, 16, 9, 42, 33, 27, 26, 30, 41, 3, 8, 10, 12, 13, 26, 27, 34, 37, 45, 20, 32, 22, 47, 48, 3, 11, 28, 46, 36, 49, 20, 1, 2, 5, 17, 28, 9, 33, 41, 25, 40, 26, 35, 23, 39, 2, 10, 18, 35, 27, 15, 21, 10, 49, 28, 43, 19, 39, 3, 9, 27, 33, 11, 8, 3, 4, 10, 15, 23, 26, 15, 22, 28, 5, 6, 19, 26, 28, 30, 43, 43, 7, 9, 16, 22, 27, 39, 42, 31, 31, 3, 5, 6, 7, 11, 13, 20, 21, 27, 37, 45, 12, 24, 39, 3, 5, 11, 34, 39, 33, 6, 43, 46, 28, 28, 14, 45, 15, 17, 45, 29, 4, 6, 11, 14, 4, 42, 25, 38, 3, 26, 28, 34, 2, 19, 41, 40, 2, 3, 11, 18, 21, 28, 38, 48, 33, 5, 3, 7, 11, 43, 48, 4, 7, 10, 11, 15, 16, 18, 19, 25, 26, 28, 35, 37, 41, 44, 46, 41, 25, 44, 16, 46, 30, 6, 10, 14, 16, 17, 22, 6, 7, 33, 11, 31, 41, 31, 41, 41, 40, 15, 30, 27, 49, 36, 38, 3, 27, 1, 2, 3, 4, 5, 6, 8, 9, 11, 14, 16, 19, 17, 37, 4, 4, 2, 10, 11, 17, 20, 26, 28, 19, 22, 1, 8, 8, 4, 8, 14, 24, 35, 4, 32, 1, 5, 6, 8, 16, 23, 35, 41, 8, 23, 35, 8, 18, 35, 42, 15, 24, 6, 30, 2, 16, 6, 28, 42, 22, 3, 26, 28, 28, 3, 26, 11, 41, 7, 20, 47, 42, 14, 19, 26, 39, 44, 6, 6, 20, 6, 9, 10, 24, 33, 33, 19, 28, 12, 33, 12, 33, 3, 7, 13, 21, 32, 44, 20, 7, 30, 26, 41, 5, 12, 4, 16, 20, 39, 34, 13, 8, 5, 14, 15, 18, 29, 20, 26, 3, 20, 33, 33, 2, 2, 14, 43, 15, 2, 4, 7, 9, 1, 4, 18, 14, 47, 8, 16, 22, 22, 14, 25, 4, 3, 18, 18, 13, 38, 48, 27, 47, 43, 37, 24, 7, 29, 38, 34, 11, 34, 3, 22, 45, 9, 2, 5, 7, 10, 13, 16, 19, 24, 39, 36, 1, 2, 6, 7, 25, 41, 6, 13, 14, 16, 20, 19, 2, 2, 8, 14, 20, 37, 48, 8, 36, 41, 44, 21, 48, 48, 12, 47, 3, 43, 1, 3, 40, 32, 7, 11, 13, 14, 15, 16, 19, 20, 21, 22, 28, 34, 36, 45, 46, 28, 34, 3, 33, 13, 13, 20, 44, 2, 39, 5, 43, 1, 2, 4, 6, 8, 8, 6, 45, 13, 7], \"Freq\": [0.9933318661574522, 0.9217813583822222, 0.0505855623502439, 0.011241236077831979, 0.32307697260731943, 0.05821206713645395, 0.5995842915054757, 0.9818174438991193, 0.88737971361233, 0.9314438105880463, 0.05924969819882382, 0.9310666859815172, 0.9929873680680126, 0.7657527175543241, 0.9838445853677298, 0.9400709208215599, 0.8458101971261426, 0.14048559781033532, 0.004344915396195938, 0.9809809645361109, 0.9350084485521346, 0.9721911782325263, 0.9778991330622503, 0.16362682412667004, 0.261802918602672, 0.020453353015833755, 0.5317871784116776, 0.996263149618512, 0.8391630137625016, 0.040574244379863254, 0.8791086282303705, 0.9962865769181133, 0.9835664032084295, 0.9298180225425879, 0.9194736145386361, 0.9298152146996562, 0.8919856943242612, 0.8852326074694802, 0.9061868735372521, 0.895265013089958, 0.9159978510404349, 0.9237002495286847, 0.958609595894936, 0.9285103918137434, 0.9701256954038073, 0.009637010219243118, 0.15773303123219318, 0.8061910485200984, 0.8960962592804647, 0.8347739200234077, 0.9425758887725924, 0.9394131105963547, 0.2717018437689201, 0.7103530132271766, 0.9548243517679336, 0.9448782789529515, 0.9150822547645395, 0.93348629326431, 0.015678710351984534, 0.0036181639273810463, 0.041005857843651856, 0.09464786410350982, 0.8728636356212573, 0.09434849817471815, 0.8626148404545659, 0.947545189567246, 0.8613050454109915, 0.7872007401740541, 0.7652824502056422, 0.05364129323871324, 0.16092387971613972, 0.8390522969618907, 0.9909433019418908, 0.9302843170821568, 0.009396811283658149, 0.690868002548863, 0.8227564988564152, 0.25167600325869344, 0.6711360086898491, 0.9196781650322388, 0.9614805396022409, 0.942288103721113, 0.9682965304355877, 0.027091765362431148, 0.9373750815401177, 0.9376903596978423, 0.8454265878330779, 0.02990895947522681, 0.03987861263363575, 0.07178150274054435, 0.46775838415000914, 0.28814684855236705, 0.08836503355605922, 0.012486363437269239, 0.020170279398665693, 0.034577621826284044, 0.0009604894951745568, 0.016328321417967466, 0.008644405456571011, 0.019209789903491134, 0.0009604894951745568, 0.0019209789903491135, 0.0019209789903491135, 0.03265664283593493, 0.0009604894951745568, 0.92518192250343, 0.9024246337655759, 0.9384551985942748, 0.045296577289993, 0.9285798344448565, 0.8931990997903488, 0.9168788603031065, 0.9621934950742855, 0.9295759548332798, 0.024462525127191572, 0.9366471350238967, 0.9399150363711507, 0.9547719506292942, 0.9471895014282977, 0.957148748613151, 0.061094684716167254, 0.9062378232898143, 0.9777794454743726, 0.951306977916523, 0.916624812815023, 0.8907502998153458, 0.9871160311325421, 0.6993600434428358, 0.9659402597136287, 0.9851005777041737, 0.91601558132253, 0.9804518835555044, 0.9716938514088131, 0.9319425822778414, 0.9465949768666425, 0.9340916841550585, 0.11518547317075854, 0.8619050923467105, 0.947970573935763, 0.08851546797954571, 0.8733526173981843, 0.1470496349967227, 0.7940680289823024, 0.9688353720037448, 0.9906927343871205, 0.7169423461517694, 0.0499363788441502, 0.3662001115237681, 0.37452284133112645, 0.18726142066556323, 0.966464324888905, 0.9454910869760933, 0.9784442757027578, 0.0022544798979326217, 0.004508959795865243, 0.9171536922262638, 0.9480674164732028, 0.8666712849188623, 0.9053960430758964, 0.9544542641997332, 0.9990753650367964, 0.9992241171966841, 0.952863242867524, 0.9943322947679227, 0.06405308916012542, 0.8643308416788008, 0.06713998502326399, 0.9918849724269578, 0.7972186506981985, 0.9509645660778816, 0.9765892882263656, 0.9652221559148986, 0.9376389892985525, 0.9738331215128853, 0.008229575674756778, 0.9540194361644623, 0.9385594564653191, 0.03841079626103619, 0.00835017310022526, 0.0016700346200450517, 0.0016700346200450517, 0.0016700346200450517, 0.0016700346200450517, 0.9470641385073757, 0.1690285079776195, 0.7266030667609359, 0.03841556999491353, 0.04719627170803662, 0.007683113998982706, 0.005487938570701932, 0.0010975877141403865, 0.9625362313938441, 0.010914656061163364, 0.02182931212232673, 0.0006821660038227103, 0.3221265109703099, 0.10545808394861336, 0.47743750733099505, 0.026843875914192492, 0.024926456206035886, 0.00575225912446982, 0.01725677737340946, 0.009587098540783033, 0.8989458151329142, 0.8733800991583389, 0.93333269010603, 0.025068853246649567, 0.0019283733266653514, 0.01349861328665746, 0.005785119979996054, 0.0019283733266653514, 0.009641866633326756, 0.9616357930869126, 0.01576452119814611, 0.004504148913756031, 0.004504148913756031, 0.08086015672594997, 0.031006526263334198, 0.02796667074732104, 0.8566312844125075, 0.9950914596653548, 0.9169765689836001, 0.060187651246027804, 0.9405267991213638, 0.9479748374067583, 0.9548520744958126, 0.8765122764003586, 0.9504211907363407, 0.3955322553290488, 0.57531964411498, 0.946848998526493, 0.7792468406698788, 0.15806223948679085, 0.03003182550249026, 0.007903111974339542, 0.007903111974339542, 0.003161244789735817, 0.0015806223948679084, 0.9459678563395766, 0.939901111324654, 0.9461780945427154, 0.9512898439612202, 0.8003711976807003, 0.9936323617146033, 0.0010307389644342358, 0.9368293876127581, 0.9448789992806294, 0.9643506326357676, 0.8473145358285739, 0.052293278971098096, 0.035134546808706535, 0.035134546808706535, 0.027780804453395865, 0.8980189200822272, 0.969080816533812, 0.9380303484295364, 0.971708517035548, 0.9779492204894553, 0.2750495681157147, 0.6265017940413502, 0.9852957504564118, 0.8744062101522425, 0.9308985785741544, 0.8875120686652221, 0.9457951964402185, 0.5849647992554967, 0.9536015875035537, 0.9691805034988237, 0.9402905947051906, 0.9671428003811959, 0.9370680095345792, 0.9478618750995598, 0.9331376229151426, 0.9325837683219588, 0.9070502721675853, 0.8819809279862579, 0.9424734717667401, 0.9018702271375885, 0.04111089354473338, 0.002569430846545836, 0.03854146269818754, 0.9449352355273909, 0.9907090855118285, 0.9198239762987822, 0.9891155729737809, 0.9467562474694646, 0.12482015045699271, 0.8479161944837091, 0.9275711092787273, 0.991739183895231, 0.0011478462776565172, 0.930249882699614, 0.9792063226927294, 0.9430850843307967, 0.8929235857135678, 0.9730655193415424, 0.04223764685310131, 0.9292282307682288, 0.9055793220643248, 0.9438435793166358, 0.944397545921336, 0.14010637540949927, 0.8369512425777983, 0.9854554950881942, 0.6236089346709431, 0.34581950013570484, 0.931705350543132, 0.968498486006636, 0.20560762027989063, 0.023364502304533026, 0.7429911732841502, 0.9108247822121511, 0.9670087034132384, 0.9583048176696175, 0.7933954454409846, 0.11371139934659064, 0.07753049955449362, 0.9442507021214509, 0.9203971405506496, 0.9441556405458448, 0.9981694067814562, 0.0004932885627780856, 0.9851602857592211, 0.9670467819379405, 0.9434777569383567, 0.9334870511762435, 0.8308351195891267, 0.9774079219406111, 0.33615394356248723, 0.5893242776262853, 0.018284524126829852, 0.0014065018559099886, 0.002813003711819977, 0.002813003711819977, 0.002813003711819977, 0.03938205196547968, 0.8812795199566726, 0.9614227190600387, 0.9092976638158258, 0.9195100813631665, 0.06224375935381435, 0.49521931991560514, 0.0389100894219404, 0.4350855453544245, 0.007074561713080073, 0.992393296535397, 0.0009309505596016857, 0.0009309505596016857, 0.2375723935570769, 0.7245958003490846, 0.9437100005030049, 0.9655864751908713, 0.9822684921384046, 0.002581520347275702, 0.001290760173637851, 0.001290760173637851, 0.0038722805209135533, 0.9496296471126086, 0.9431948500066291, 0.9360156606316767, 0.04368073082947825, 0.003120052202105589, 0.8979082884695764, 0.9770264048192973, 0.9294458225230732, 0.2746002437353562, 0.009985463408558406, 0.68899697519053, 0.9946064124900995, 0.9866470979154608, 0.9741130227462521, 0.7694159738260877, 0.19872333098819484, 0.9404223732022573, 0.8786521587209857, 0.9738356661677333, 0.9508944381991108, 0.9445353694925994, 0.09549182626990951, 0.02886962189555404, 0.868309397012433, 0.0011103700729059246, 0.9731124056728946, 0.8893745208646943, 0.9138100175952596, 0.9375564213814443, 0.8999458676959174, 0.9361738726971794, 0.9517894450204168, 0.9281232853244887, 0.23625832536930952, 0.7339088405089189, 0.9679443545390604, 0.7849607072810301, 0.9367014387569051, 0.06612642333541241, 0.011021070555902068, 0.7990276153029, 0.011021070555902068, 0.08265802916926551, 0.9985382764603917, 0.9769506533824068, 0.8874628017707153, 0.10137350641469094, 0.9695141258206477, 0.0024117266811458896, 0.014470360086875338, 0.9680753243671805, 0.965218500113329, 0.9891496002858965, 0.0052001408752691035, 0.9620260619247842, 0.21359209836416404, 0.7535054581180232, 0.9376885033390937, 0.9765117645557897, 0.903557407333397, 0.8497061185396867, 0.9874523192865943, 0.8235389837474103, 0.9806687100301732, 0.960006485469055, 0.9548203840624615, 0.9454439401680599, 0.011457729292411475, 0.9788174452660089, 0.18884740155927687, 0.74428093555715, 0.9463899162182285, 0.9231324147533656, 0.9451984622111302, 0.9721381370811947, 0.9642115008971314, 0.9943086237764623, 0.05461774760299476, 0.8972915677634853, 0.9158067649421688, 0.9527241259150349, 0.9922605010822083, 0.0007404929112553794, 0.0014809858225107587, 0.002221478733766138, 0.9225808269005523, 0.9689805451820518, 0.9352530527014997, 0.14576327486975496, 0.8059851669268804, 0.9385530324376803, 0.9268895328609094, 0.19746674039609802, 0.7879310131491362, 0.0019359484352558629, 0.9361787427029397, 0.9891773912632424, 0.9505382128420391, 0.9688727765925615, 0.9140991558692301, 0.9597205385912521, 0.9902962858558884, 0.9820916507914591, 0.9647524972785677, 0.05684003814700033, 0.9260189548115471, 0.009473339691166722, 0.956446298894124, 0.03157201374990312, 0.9480334946882358, 0.9456128793068885, 0.976093749163094, 0.9536198658325329, 0.8356146348819335, 0.4295128147181854, 0.9488289196753193, 0.9491527733788319, 0.9258474929509186, 0.9648279932506629, 0.9910123157464947, 0.8295991054809788, 0.9464852398473502, 0.9808731599952732, 0.9683083652803427, 0.9801428328736184, 0.9494628824866991, 0.9738508178519193, 0.9658363635292536, 0.8271432293277035, 0.9660885906420269, 0.9092118188342426, 0.7442820847990579, 0.9804187003190199, 0.738645643678544, 0.8813206400074203, 0.8494603282555979, 0.9184902449961206, 0.8747949679139045, 0.9349733779466874, 0.8659169195184002, 0.2035794803211218, 0.7807608640886978, 0.9710756301638447, 0.9735174049429066, 0.009249571543400538, 0.0023123928858501345, 0.8514197888318191, 0.9417227739966698, 0.8691725523716642, 0.9773348905172263, 0.9320637596665888, 0.9765214322293561, 0.9906030620758915, 0.0030355558592723947, 0.0010118519530907984, 0.6867119360852538, 0.19071587626312742, 0.02965193835893147, 0.009434707659660013, 0.01549987686944145, 0.013478153799514305, 0.008086892279708583, 0.0033695384498785763, 0.0033695384498785763, 0.0006739076899757153, 0.009434707659660013, 0.0047173538298300064, 0.010108615349635728, 0.004043446139854291, 0.002695630759902861, 0.0047173538298300064, 0.9478939664512716, 0.949416369571804, 0.005368252223601, 0.9609171480245791, 0.9792669514614637, 0.9298654348215403, 0.7805474194708968, 0.867620887099584, 0.9277760493827701, 0.9364118564167709, 0.97997355587802, 0.9327905909078891, 0.9240518551085186, 0.9294297840106819, 0.9547793004191935, 0.9474699450731459, 0.9345806604229272, 0.9648006291710554, 0.6978692228894003, 0.9392816021189117, 0.980681897393996, 0.9536233277129572, 0.17753160066906665, 0.5072331447687618, 0.2916590582420381, 0.8362338827869981, 0.8165864698946961, 0.9683713817110475, 0.8846991191173667, 0.009227630968629639, 0.031143254519125033, 0.015571627259562517, 0.003460361613236115, 0.024222531292652803, 0.0005767269355393524, 0.0028836346776967624, 0.0005767269355393524, 0.010381084839708345, 0.0005767269355393524, 0.006343996290932877, 0.0011534538710787049, 0.00692072322647223, 0.9817565022026596, 0.9625463436052923, 0.9661877275149412, 0.9781392683446769, 0.9756448151390075, 0.7068396239641547, 0.1184978414022053, 0.036141841627672616, 0.010072316519187451, 0.03969677686973878, 0.032586906385606455, 0.01184978414022053, 0.0017774676210330796, 0.007702359691143345, 0.01362725176125361, 0.0029624460350551325, 0.001184978414022053, 0.005332402863099239, 0.001184978414022053, 0.002369956828044106, 0.0017774676210330796, 0.0017774676210330796, 0.002369956828044106, 0.8555348843979179, 0.8807341435615532, 0.9255610687384004, 0.9599051334354285, 0.9826837979673723, 0.036701563848487884, 0.18962474655052072, 0.0030584636540406567, 0.11010469154546365, 0.0030584636540406567, 0.44347722983589527, 0.08257851865909774, 0.06116927308081314, 0.0030584636540406567, 0.045876954810609855, 0.0030584636540406567, 0.927832390478569, 0.010425083039085046, 0.6880396006394088, 0.9383463785601532, 0.9387983268551895, 0.872995677940344, 0.1615215520755262, 0.18342277947559757, 0.09034256302529432, 0.02737653425008919, 0.5228918041767036, 0.9783508238475952, 0.33030511180361916, 0.086045869461447, 0.4017786969207888, 0.006245264718975992, 0.0159601209484942, 0.006939183021084435, 0.006939183021084435, 0.14086541532801405, 0.0006939183021084436, 0.9555299512725022, 0.0008052218690498613, 0.0032208874761994453, 0.00026840728968328714, 0.03811383513502677, 0.00026840728968328714, 0.00026840728968328714, 0.9588291817408949, 0.900836479330467, 0.9682808079214225, 0.8885917601080476, 0.8850128326700245, 0.04498004781427323, 0.06625439475345651, 0.9848729123898616, 0.9880413224745799, 0.914539232621854, 0.701365002955359, 0.9427671746816283, 0.9334598245738215, 0.9400528384556301, 0.8185916292867987, 0.9014968496700146, 0.9651796778995306, 0.7011383127771588, 0.9253446648267101, 0.9627856732979967, 0.9186757725025351, 0.9817688610420429, 0.0018558957675652984, 0.005567687302695895, 0.43001014544094174, 0.5506604740178966, 0.8862199342686987, 0.9791425416177094, 0.8421143959892454, 0.4922248152219495, 0.22225457217929862, 0.102965395020918, 0.020090808784569366, 0.038925942020103146, 0.01632378213746261, 0.022602159882640537, 0.011301079941320269, 0.051482697510459, 0.012556755490355854, 0.8896298526739846, 0.9539796823744723, 0.9352539885183755, 0.02426604943182812, 0.003033256178978515, 0.005055426964964192, 0.0010110853929928383, 0.0020221707859856765, 0.0010110853929928383, 0.010110853929928384, 0.0010110853929928383, 0.01213302471591406, 0.3523485875620088, 0.5718044552476891, 0.03169918088793159, 0.021945586768568025, 0.00853439485444312, 0.006095996324602229, 0.0012191992649204458, 0.9606620154771105, 0.6521045425502208, 0.9388402429256417, 0.9563779039408853, 0.9727331214024518, 0.7438668842633339, 0.9575780347876935, 0.9472732984199592, 0.9552577388895799, 0.9606549957163305, 0.9850985342644267, 0.9693949517674876, 0.954849737657225, 0.9955220298504533, 0.0036439312952066378, 0.9992044856800686, 0.9802842572854643, 0.9912026273587419, 0.0012939982080401328, 0.27545006561960994, 0.6304745946404405, 0.06121112569324665, 0.9672414722050339, 0.7734688248947256, 0.8749616817267254, 0.935355064860315, 0.11450182431867689, 0.8608840865441262, 0.9713528909140599, 0.9753715947785117, 0.9632601533427967, 0.969805439098199, 0.9762496589484715, 0.9698672065157871, 0.9293703015109418, 0.987572924197096, 0.9687846863449153, 0.9813856020836866, 0.004662164380445067, 0.9164757288578443, 0.9619607005027621, 0.8738367681471467, 0.9731030086845234, 0.9960242989755845, 0.906587924198769, 0.9041118771671353, 0.8469750700455299, 0.8919008443432644, 0.968423303600181, 0.8894503267511563, 0.9339967696851329, 0.9616191311133027, 0.8624345248052595, 0.7927492512747675, 0.383281912607498, 0.5882931681882527, 0.10615890762833856, 0.8598871517895423, 0.9577186961778809, 0.1263694849925891, 0.8655117557039593, 0.9278298750080517, 0.9423784425912882, 0.9405419297109692, 0.9326669531491119, 0.9372205356965209, 0.964610786367085, 0.9296473735973189, 0.8825571723640531, 0.9175374866184096, 0.9126000596799383, 0.9864696983556819, 0.9845622247923282, 0.15484747463004384, 0.7515767671067981, 0.07175858580416665, 0.8675313316402979, 0.8505906597183996, 0.9417278686288947, 0.04766414059011277, 0.0014443678966700839, 0.0014443678966700839, 0.9279492873082933, 0.916185707481762, 0.8628068426402277, 0.15265001935538805, 0.7971723233003598, 0.9206641523163976, 0.9936193045439954, 0.8748004855371907, 0.9639910485512045, 0.9586320247321699, 0.9699762995222376, 0.020469179009763364, 0.9497699060530201, 0.008187671603905346, 0.03708801577721712, 0.931321285072341, 0.0041208906419130135, 0.985090921376732, 0.08355243165814141, 0.06338460332686591, 0.0028811183330393593, 0.818237606583178, 0.0028811183330393593, 0.014405591665196796, 0.9765222137500402, 0.9646949441745934, 0.9723055877411779, 0.9612937183066251, 0.9219978586055881, 0.9191652750815965, 0.9079231083501856, 0.9453071239537589, 0.9399241006790799, 0.9915683792993257, 0.9863089866855701, 0.9538520880343164, 0.9957558654907875, 0.0005122200954170718, 0.0005122200954170718, 0.0005122200954170718, 0.9598245439642686, 0.96696770523371, 0.9276202775928335, 0.9212267757136082, 0.962541264579595, 0.012287760824420362, 0.006826533791344645, 0.005461227033075716, 0.001365306758268929, 0.004095920274806787, 0.9180468302057355, 0.9296410681987252, 0.9614512189940554, 0.8998072079131173, 0.9826644412160871, 0.8712659374664785, 0.9651584236472469, 0.9807468903059645, 0.9219453890532934, 0.9230887170154295, 0.9446737303478534, 0.9477284779167208, 0.8808438523070488, 0.9136343919403163, 0.9424896024349902, 0.9308092363732693, 0.015752156307855328, 0.011456113678440238, 0.030072298405905626, 0.0014320142098050298, 0.0014320142098050298, 0.0028640284196100596, 0.899992910268842, 0.8315568291541849, 0.9619398838869487, 0.9448483395545282, 0.8962127532681672, 0.9837998912348046, 0.9791836060266573, 0.9655498137471925, 0.9556921991956346, 0.9813795855389903, 0.0071633546389707325, 0.9638577629489721, 0.9733762491071691, 0.003368083906945222, 0.006736167813890444, 0.9435145813068612, 0.004227756922122673, 0.9681563351660921, 0.9906338741063281, 0.0020659726258734686, 0.0010329863129367343, 0.3148628789435582, 0.6676259192414337, 0.9489104922234238, 0.9841508434517011, 0.8481385187422193, 0.9424133681860745, 0.16867347475952116, 0.1343140632344335, 0.6778174819040016, 0.949928113165215, 0.9833790405099012, 0.9597074066827661, 0.957712848164455, 0.945550362420971, 0.7863122536553367, 0.939370261255628, 0.9349347551129235, 0.8900048249432059, 0.43793540899907873, 0.23091139747224151, 0.01592492396360286, 0.2999194013145206, 0.9828470261290333, 0.941361325091701, 0.9845322468792617, 0.9504176319739517, 0.9714925403553711, 0.9200701107161177, 0.9376778242880031, 0.10653993539495529, 0.8624661436734476, 0.9012729566174279, 0.9243789150477271, 0.9155864037055546, 0.9965229869954771, 0.9019829189882266, 0.5761019340766684, 0.9848610494159316, 0.8898910307507376, 0.8614175486421385, 0.9468323420881025, 0.864726692021877, 0.931277888475753, 0.9423970385015579, 0.9543587852007929, 0.3825395924087914, 0.5997442762341221, 0.7640906856472918, 0.9680563030279139, 0.8583029836988445, 0.9857720878699181, 0.9633903022478587, 0.9712415598584231, 0.8815493477370926, 0.9789485582559472, 0.9390278616080532, 0.9759495312592391, 0.9422980654488151, 0.9526793289259005, 0.9378670056218277, 0.9921345556957643, 0.0007011551630358758, 0.0007011551630358758, 0.0007011551630358758, 0.0007011551630358758, 0.0021034654891076273, 0.9580318060607527, 0.9611661793596707, 0.9669585480927388, 0.8469914460036508, 0.9833786712902519, 0.9074279020427728, 0.9323278650065682, 0.9909049559547707, 0.9681172272449083, 0.9859669796103581, 0.9618755072649627, 0.09294345392582368, 0.8805169319288558, 0.9778133683512997, 0.6025576675830184, 0.9425490818401164, 0.8007855236588634, 0.8539142423800041, 0.04096714584884821, 0.7694698698566272, 0.00890590127148874, 0.021374163051572977, 0.001781180254297748, 0.03028006432306172, 0.01959298279727523, 0.007124721017190992, 0.007124721017190992, 0.0854966522062919, 0.8970524937211514, 0.9359724175676752, 0.9610363922708093, 0.015556344479203748, 0.0017284827199115275, 0.008642413599557638, 0.0017284827199115275, 0.2258195067545607, 0.7241797975232463, 0.9805046647209417, 0.9536236092307673, 0.85940404499898, 0.8636180806086708, 0.9373101275218411, 0.8593063178307664, 0.019827893827619545, 0.9728060409175838, 0.9325643135579728, 0.873401526548068, 0.9429247151039453, 0.9435023931060752, 0.8899371135894515, 0.8725393375129074, 0.8643596909167562, 0.06862092202697911, 0.023753396086262004, 0.009237431811324113, 0.02639266231806889, 0.979295463310789, 0.9664291100694506, 0.8991260356492163, 0.8120113821271276, 0.01943644265729827, 0.15549154125838616, 0.8798422250082347, 0.9788029316233803, 0.9741383347260208, 0.8743599974484033, 0.07137632632231863, 0.7344904750224369, 0.5911177853124585, 0.9578131760762214, 0.8980299101062278, 0.27713331902285765, 0.0024966965677734924, 0.6940816458410308, 0.00998678627109397, 0.9794824567354534, 0.8754553995074825, 0.10959235060252617, 0.8368870409647454, 0.888473439351125, 0.9878936329301214, 0.007127659689250516, 0.9634932564178241, 0.9887556691853849, 0.0026123003148887315, 0.0013061501574443658, 0.9713035014476037, 0.002632258811511121, 0.005264517623022242, 0.005264517623022242, 0.9524012418939665, 0.9765792961913321, 0.9723439179642407, 0.970727381949726, 0.9461682896507815, 0.0020658696280584747, 0.010329348140292374, 0.028922174792818646, 0.5372699554822952, 0.05878284316585247, 0.8817426474877871, 0.8652462578160927, 0.07291000382512554, 0.8985085765508117, 0.012866471263257448, 0.8849119842389785, 0.9801082069803317, 0.9954113378012598, 0.9592755691642998, 0.9395465074543313, 0.9725948156874787, 0.5671486901615258, 0.1355318561047764, 0.06672337531312068, 0.06463826983458566, 0.039617004092165405, 0.01668084382828017, 0.004170210957070043, 0.07506379722726077, 0.004170210957070043, 0.018765949306815192, 0.05413783275979486, 0.8481593799034528, 0.8301048722622005, 0.9472468305786805, 0.9176778343440835, 0.9502934938895029, 0.007761195106665921, 0.2367164507533106, 0.7334329375799296, 0.8307862687974561, 0.1679656208773311, 0.13702458545255958, 0.5127371584676423, 0.10608355002778808, 0.05304177501389404, 0.9244967159325715, 0.8522036119269687, 0.23595196073257854, 0.0648867892014591, 0.0648867892014591, 0.6016774998680753, 0.8227313311264478, 0.933758898486449, 0.9362873525934623, 0.8686996447398877, 0.8479789606342112, 0.9565332677070174, 0.9012747220539296, 0.9392225887262005, 0.9425993420511212, 0.9331561827021847, 0.9248012447786219, 0.8244358053224399, 0.8046044425578187, 0.006231876061119078, 0.07339765138651358, 0.002077292020373026, 0.03739125636671447, 0.06093389926427543, 0.004847014714203727, 0.0069243067345767535, 0.9783616219346342, 0.8920968780782919, 0.9846913687489689, 0.9625278818781485, 0.9742904631396847, 0.9320766978041864, 0.9627701729573489, 0.9511161394075307, 0.9455374989140395, 0.9709063243472679, 0.9524781278824297, 0.9461850299459423, 0.005437844999689324, 0.002718922499844662, 0.004078383749766993, 0.004078383749766993, 0.005437844999689324, 0.001359461249922331, 0.001359461249922331, 0.009516228749456316, 0.01359461249922331, 0.9486815040554912, 0.9573672787759432, 0.9832546955211156, 0.008989757216193058, 0.0022474393040482644, 0.946532364490737, 0.9052174492490696, 0.8451958254907328, 0.9470058167686386, 0.9424850914298253, 0.893779854081035, 0.02016600842665659, 0.9528438981595239, 0.949518222714183, 0.9771776678715505, 0.9792689016371101, 0.9115053207247861, 0.8915168299997521, 0.22720331838615926, 0.7526109921541526, 0.0035500518497837384, 0.9231498482735806, 0.06105488414507808, 0.9619837054968841, 0.9052977444174971, 0.9329052337624354, 0.07978154355235802, 0.9095095964968813, 0.976764753306806, 0.9649958629167639, 0.9267505745967888, 0.9851626580700278, 0.9795943841108342, 0.8481766656987372, 0.39801391393892244, 0.5572194795144915, 0.9727538881663672, 0.920414909512913, 0.834714640816807, 0.9084046419998241, 0.9302074452892184, 0.013353118195048332, 0.8412464462880449, 0.10682494556038666, 0.8548724852837366, 0.9399224390279496, 0.10375585383250441, 0.8185184024564237, 0.0031075517446822903, 0.2237437256171249, 0.7520275222131143, 0.9707893928798548, 0.9637283763874767, 0.8788909209394822, 0.9759829577708985, 0.9484874987211162, 0.9086391448505262, 0.9523343219326196, 0.9802953731861195, 0.9362333976128755, 0.9741301132063631, 0.880070517079762, 0.8521295119466981, 0.9655118066465688, 0.8215384293861663, 0.03710016069142695, 0.020611200384126085, 0.8409369756723443, 0.0742003213828539, 0.9798718984297571, 0.9510297334904211, 0.975011449963573, 0.0038538001974844785, 0.8986737491599567, 0.8827957783241366, 0.9488923853212172, 0.19841118897026322, 0.7275076928909652, 0.04668498564006193, 0.958327969714254, 0.04798779096004003, 0.9248556075934987, 0.28443219824042415, 0.6746996330354248, 0.0066147022846610275, 0.9641563006829087, 0.9751118234831102, 0.8560930000323195, 0.8403438175984398, 0.861790314845988, 0.9609030158601267, 0.913306964113575, 0.9719195492101003, 0.9883689585461634, 0.8581519261578431, 0.15775942986864058, 0.7775286186383, 0.9688555654775977, 0.8815043676486958, 0.9632785016780339, 0.1928123980997328, 0.6941246331590382, 0.979875571322112, 0.9110633475331021, 0.7602362586805058, 0.0027248611422240354, 0.15804194624899404, 0.040872917133360526, 0.005449722284448071, 0.0027248611422240354, 0.013624305711120176, 0.8714645987967986, 0.9359118943154108, 0.9121130511830172, 0.9241603681319358, 0.9834586727756786, 0.960521982591495, 0.05912161002533154, 0.8868241503799731, 0.9670000848478006, 0.035949470929671795, 0.9391799280376756, 0.9196979705736829, 0.012101289086495827, 0.930988871253043, 0.9063247130208402, 0.9051034021366248, 0.9612862127334634, 0.8812852641297704, 0.3090551023301917, 0.005066477087380191, 0.6586420213594248, 0.1354663101890885, 0.05268134285131219, 0.7676424244048349, 0.03378224501109767, 0.9416800796843475, 0.9599978824833985, 0.9670453124519778, 0.9975457414300882, 0.995653829028509, 0.9646409382494722, 0.9346901670004021, 0.9491266040722142, 0.8669636278503993, 0.9681770162117621, 0.8511462720486197, 0.12087284336785133, 0.8362379594266661, 0.9178324604906394, 0.965178429540367, 0.969587843762997, 0.007787854166771061, 0.9483635746284577, 0.8705625477411194, 0.8124644446341573, 0.04759205951831884, 0.0509914923410559, 0.00339943282273706, 0.0679886564547412, 0.9316994345794921, 0.9878646477716181, 0.9822998345655347, 0.9272067534779533, 0.9362157547056077, 0.9363852155497094, 0.6079368914614175, 0.21124071432509284, 0.17454631793998282, 0.160223233011502, 0.030812160194519614, 0.7764664369018943, 0.9795943841108342, 0.838770038375128, 0.09664839948355383, 0.04487247118879285, 0.9178805194673143, 0.9718361197330497, 0.9836484662197121, 0.986401456627428, 0.0068027686663960545, 0.0008503460832995068, 0.0008503460832995068, 0.9326141722694888, 0.9852289612304371, 0.9839301956472177, 0.002288209757319111, 0.9791199400202177, 0.8383072355819452, 0.12071624192380011, 0.9909442880330819, 0.0012069966967516222, 0.0012069966967516222, 0.8722360167228896, 0.9714548372443212, 0.9388200290014911, 0.08990036268043035, 0.8836547843954495, 0.015348842408853963, 0.9158379038150669, 0.003729355835635266, 0.9770912289364397, 0.9451543842328028, 0.9269537317061121, 0.8928666356867561, 0.02646118458062936, 0.9526026449026569, 0.2791760817571894, 0.6908425073991465, 0.9519757065083929, 0.9190149853896991, 0.9625619145645375, 0.17757571245872344, 0.7748758361835205, 0.9530748792954183, 0.007007903524231017, 0.7192630263523784, 0.2609091370101765, 0.07199153674878747, 0.15598166295570617, 0.11998589458131244, 0.6179273570937591, 0.09301200834836006, 0.03100400278278669, 0.8371080751352405, 0.7646963170317669, 0.9661405991115449, 0.009534282228074457, 0.0031780940760248186, 0.0031780940760248186, 0.25259680561952946, 0.7128843180817831, 0.9205857380951972, 0.9285068117912053, 0.9809387881957219, 0.9608745721352532, 0.11076634117978448, 0.1287980711392843, 0.7444528511850632, 0.9256943123756229, 0.9991270196064126, 0.9635638041690476, 0.9905638512851987, 0.9732398149362123, 0.9533446786221746, 0.9839526706051, 0.9679465667089144, 0.9388006223054973, 0.2099291217656212, 0.09330183189583165, 0.658944187764311, 0.005831364493489478, 0.8990564226486867, 0.9234081831357991, 0.0897156953451235, 0.0332280353130087, 0.8572833110756245, 0.9427239112377309, 0.88190161896098, 0.9782618039031112, 0.97202747543746, 0.9559636422014883, 0.9458071351593936, 0.9203300630113608, 0.8151363660403098, 0.9754325285629305, 0.00933368055369589, 0.933368055369589, 0.9110020624082859, 0.953241598477011, 0.9708025521451056, 0.004276663225308835, 0.9662058057727642, 0.9113186599989547, 0.9828560058799758, 0.0027569593432818394, 0.0027569593432818394, 0.0027569593432818394, 0.9407197198955719, 0.055135317746833945, 0.7598335976985553, 0.013783829436708486, 0.055135317746833945, 0.07581106190189668, 0.006891914718354243, 0.008614893397942804, 0.012060850757119925, 0.0017229786795885608, 0.0034459573591771216, 0.9416913208536888, 0.008333551511979547, 0.5045925258607591, 0.42516592456786184, 0.03737722413783401, 0.011213167241350203, 0.015885320258579454, 0.8812359107896586, 0.08861590164365282, 0.9545756183887936, 0.9665682164940822, 0.111181993384796, 0.8327749308429818, 0.02180039085976392, 0.019620351773787528, 0.9919442584589803, 0.9639459042295725, 0.6650940803067164, 0.19002688008763324, 0.7026789281349234, 0.5085680447079792, 0.47767372423506466, 0.9576499988995105, 0.8446189385948668, 0.9526220863254269, 0.8968430501110363, 0.041420462153722554, 0.02341156556514753, 0.0036017793177150047, 0.012606227612002517, 0.009004448294287513, 0.0018008896588575024, 0.0018008896588575024, 0.9629754007140706, 0.94054298742346, 0.9643682775595717, 0.0112572172477771, 0.9786258795548829, 0.8915347156896813, 0.9632006179208378, 0.8221375627845957, 0.15771618551377958, 0.8799537381917748, 0.9788822214869655, 0.9666123697653796, 0.019861898008877662, 0.9582896405331319, 0.8841278548406791, 0.0400327641401849, 0.00936937033068157, 0.023849306296280362, 0.007665848452375831, 0.01788697972221027, 0.0025552828174586102, 0.00425880469576435, 0.0025552828174586102, 0.0017035218783057401, 0.0017035218783057401, 0.0008517609391528701, 0.9250427921015186, 0.030082692426065646, 0.9677363648822389, 0.9687805750513684, 0.3830051739923255, 0.5825994195939599, 0.9856426224047354, 0.9584559660151175, 0.9059366292069911, 0.9886443108792426, 0.8612447211043964, 0.2088785796413457, 0.73107502874471, 0.9746291735690593, 0.9049206678085288, 0.8725295469225741, 0.9225851312410942, 0.9252622084589124, 0.9843319327760109, 0.9704932401070999, 0.5971021014387946, 0.8403325551193614, 0.889974409529402, 0.8891515029973309, 0.99228107038726, 0.0008591178098590995, 0.9019401252527798, 0.3186855147684276, 0.011381625527443841, 0.648752655064299, 0.7227234688411734, 0.9266573260419998, 0.8811107601106742, 0.8971705478952546, 0.9441450159062065, 0.9314565584056284, 0.9320879187665428, 0.970911997942397, 0.9533469456466491, 0.8325069063756118, 0.047983106995712496, 0.10316368004078186, 0.0023991553497856245, 0.9914598409987326, 0.7176450386037948, 0.016985681387072068, 0.15924076300380063, 0.06051148994144424, 0.04034099329429616, 0.9868162892288878, 0.16473831127030167, 0.8206123355801008, 0.003079220771407508, 0.001539610385703754, 0.8905019731511029, 0.9652363924287991, 0.9119654337282294, 0.9596715862125987, 0.9802845212220501, 0.2629219993507182, 0.1536173479352511, 0.5081189200935228, 0.05612941559172636, 0.9207615971885682, 0.9727694088787437, 0.9783616731725086, 0.9492283163336536, 0.20386184131404098, 0.10678477402164051, 0.6698317643175632, 0.966037882226605, 0.9834084922088959, 0.9113689798361067, 0.9841145928183938, 0.5198123134037222, 0.9879835718764693, 0.9485883832289745, 0.9498889522164915, 0.978305944871204, 0.0029556070842030333, 0.0014778035421015166, 0.008866821252609099, 0.8455493792616512, 0.9356516003438575, 0.9540371006142175, 0.9452304148970725, 0.8336210176066107, 0.935513642017542, 0.08228273429152924, 0.16177622335283715, 0.001394622615110665, 0.034865565377766625, 0.7112575337064392, 0.9492373065708088, 0.05092326232548409, 0.8487210387580681, 0.8394313183491131, 0.9933081460642683, 0.9481220676907404, 0.9651422065810055, 0.9845597391585457, 0.0014510828874849605, 0.0014510828874849605, 0.0007255414437424803, 0.00036277072187124014, 0.00036277072187124014, 0.00036277072187124014, 0.00036277072187124014, 0.007618185159296043, 0.00036277072187124014, 0.9456204491321932, 0.9322080747635623, 0.9427613232509094, 0.9570290690890484, 0.9023826574375358, 0.9606852130115884, 0.9845274356505023, 0.29427753752344127, 0.061873738658774824, 0.5961006529320989, 0.013582040193389596, 0.024145849232692616, 0.6862662059053407, 0.20426722577861314, 0.01970999546986618, 0.0008959088849939173, 0.047483170904677616, 0.0008959088849939173, 0.002687726654981752, 0.017918177699878347, 0.0008959088849939173, 0.015230451044896594, 0.9747467339390946, 0.044101301949818865, 0.9261273409461962, 0.8760229900210539, 0.9447323524337731, 0.02473121341449668, 0.9703072200224366, 0.9725684032261087, 0.8558610554675173, 0.9740684217146625, 0.9812068258797503, 0.9777932113077829, 0.864367791360867, 0.8726011812404049, 0.9624087861073819, 0.09389663127932073, 0.08450696815138865, 0.009389663127932072, 0.784036871182328, 0.9718639435413243, 0.0024919588295931393, 0.0024919588295931393, 0.007475876488779417, 0.8132938209978801, 0.9541258688976005, 0.959063789854252, 0.9834619550248187, 0.6667052984138354, 0.05570383694319252, 0.04351862261186915, 0.02437042866264673, 0.015666704140272898, 0.0017407449044747661, 0.09574096974611214, 0.010444469426848598, 0.07833352070136448, 0.920379082499464, 0.011650368132904607, 0.9473345530622934, 0.956072130562344, 0.9409765979999244, 0.8739877946017304, 0.9659699937866826, 0.9835067992377362, 0.9287679091514955, 0.9838282988988307, 0.966145460002379, 0.9930789107608117, 0.0007058130140446422, 0.0007058130140446422, 0.0007058130140446422, 0.9464229711780208, 0.4250623942972197, 0.5650427811742157, 0.9621808614796404, 0.9696670296663139, 0.9308740441381154, 0.9414381410389064, 0.8960305707638361, 0.08902705859651716, 0.8995442379023088, 0.8791474888413431, 0.8997596939050355, 0.908668665471271, 0.9551697902259383, 0.7299217498170241, 0.25169715510931867, 0.9000937405573626, 0.9892936442827758, 0.055376573806075954, 0.9067913960744938, 0.870906950406782, 0.9447424770749656, 0.9488039748277184, 0.975117080978539, 0.03748542911335127, 0.9408842707451167, 0.8815427456409597, 0.016506001478714224, 0.04034800361463477, 0.014060667926312116, 0.0018340001643015805, 0.007336000657206322, 0.004890667104804214, 0.0012226667762010536, 0.002445333552402107, 0.01528333470251317, 0.0012226667762010536, 0.002445333552402107, 0.0042793337167036875, 0.0006113333881005268, 0.003668000328603161, 0.9424640636280005, 0.984643245104655, 0.966788859614101, 0.9662194040801699, 0.9591862805868784, 0.9174674623374491, 0.9630524643385706, 0.9621147988190178, 0.9326047794143467, 0.9173064240234927, 0.9008653703979665, 0.9493346401363936, 0.9917456432818028, 0.9761746757046285, 0.0027811244322069185, 0.0027811244322069185, 0.9282803024575188, 0.9802662460807166, 0.9916792117583989, 0.0010909562285570946, 0.9421497095051313, 0.9190748448819518, 0.9653320254733717, 0.9829286681009649, 0.9924323108317605, 0.0027613586834495285, 0.0005522717366899057, 0.0011045434733798114, 0.9574512472292125, 0.9723293917063697, 0.9374145583023051, 0.9255183776191648, 0.502022403292009, 0.9548575112597536, 0.20139880828687365, 0.02341846607986903, 0.5433084130529615, 0.20139880828687365, 0.8885324916926214, 0.8056243573672809, 0.13588844582098714, 0.9977334801425085, 0.9869729801183851, 0.9714101398365652, 0.8193339543061133, 0.9322582641589474, 0.9669942738446029, 0.9600753117416915, 0.9618341204111873, 0.9763248106887792, 0.9767734987403862, 0.9869787208080428, 0.9924887044185047, 0.9926372509427709, 0.9562049025705304, 0.8958204722114556, 0.010793017737487417, 0.006745636085929635, 0.002698254434371854, 0.02293516269216076, 0.02293516269216076, 0.014840399389045198, 0.008094763303115562, 0.001349127217185927, 0.002698254434371854, 0.001349127217185927, 0.001349127217185927, 0.001349127217185927, 0.9654951825802258, 0.8652716391908812, 0.9625513543074886, 0.9693430686822211, 0.9274814137937667, 0.9308335356442784, 0.9408881876619634, 0.9103525791259025, 0.9827971505525829, 0.9412776794152362, 0.47911498734335, 0.0014133185467355457, 0.4494352978619035, 0.007066592733677728, 0.05370610477595074, 0.0028266370934710914, 0.9479662970790887, 0.1656933851172969, 0.009205188062072048, 0.8069881534416496, 0.9856947244714614, 0.32484105012128756, 0.023202932151520538, 0.023202932151520538, 0.5800733037880135, 0.007734310717173513, 0.9184104422331474, 0.9765058621227816, 0.8859482906489065, 0.9564924105018806, 0.9181520711353698, 0.9777054567382923, 0.3058564017984631, 0.6516071168749866, 0.9273838795103123, 0.9348987721628924, 0.17634100238251857, 0.10706418001795771, 0.6959171701167252, 0.0031489464711164034, 0.9557238469737177, 0.7817634474351293, 0.1667177727141715, 0.059157919350189894, 0.6803160725271838, 0.002688996334099541, 0.013444981670497704, 0.02688996334099541, 0.03764594867739357, 0.909164796203034, 0.8436084979629302, 0.8308856136307937, 0.9293550491749185, 0.9283234704852988, 0.932644049914472, 0.1536674888699334, 0.8032618736382883, 0.9385708828359114, 0.8856530564701326, 0.7763985049847069, 0.27735909599848124, 0.699607271996169, 0.8977250485997914, 0.9224786180803876, 0.930903508453125, 0.876870706503936, 0.09999402793465936, 0.007691848302666105, 0.9493828871769229, 0.9021078853945659, 0.8555981302489752, 0.9693544706747044, 0.7268220235975469, 0.2328653085312529, 0.8189288265799662, 0.9711246631004262, 0.8971979712731448, 0.92325752981946, 0.9475965037049782, 0.9476032915569538, 0.9650202430919527, 0.06929524687132205, 0.003299773660539145, 0.9074377566482649, 0.9791961211783472, 0.0029229734960547677, 0.9831225223443102, 0.9653104932531011, 0.8872430487695888, 0.9467865746128493, 0.8734576820038149, 0.8700543298919559, 0.6352337645585469, 0.8888686175358205, 0.951981026354861, 0.894242505738763, 0.9743527123301742, 0.9652390506095555, 0.8542593830312284, 0.9812317639534114, 0.9310407374270931, 0.6384779915294557, 0.899007857867838, 0.9570925236409814, 0.9031422061199941, 0.9253644562032638, 0.002203248705245866, 0.002203248705245866, 0.01762598964196693, 0.01762598964196693, 0.002203248705245866, 0.008812994820983465, 0.013219492231475198, 0.9017355793157906, 0.9574033753149506, 0.9701327302485138, 0.9603385423605921, 0.9585216651941454, 0.024116407026709537, 0.9592970795068905, 0.9643827861883983, 0.9647301564496651, 0.970409224135096, 0.7363089844517983, 0.9104369677576246, 0.9720484645524945, 0.7018196657464365, 0.8410762863925687, 0.10257027882836205, 0.9334381461524924, 0.9494225032633069, 0.007303250025102361, 0.9703085194929538, 0.9791863454120777, 0.9437437801719749, 0.8710489207114085, 0.8877965044335955, 0.8625575976718752, 0.9765811115227662, 0.9572955893957308, 0.9177142218132077, 0.9453191030772913, 0.014004727452996909, 0.947631443105231, 0.14993151973187271, 0.828193156614154, 0.8955800977622779, 0.9167307438342824, 0.06333776048309588, 0.9288509558800478, 0.02858002941169378, 0.9644910448488507, 0.9732520716164165, 0.9912688613563163, 0.9565604404008033, 0.0032842201243830408, 0.08538972323395906, 0.8604656725883566, 0.016421100621915204, 0.013136880497532163, 0.0032842201243830408, 0.9715542063142985, 0.8880198922547868, 0.9823441121683495, 0.4791325611539279, 0.2669452840714741, 0.0034223754368137706, 0.21218727708245377, 0.017111877184068855, 0.9446438548073802, 0.9890649648538142, 0.9405025441667245, 0.854730395323572, 0.8872882642063147, 0.9578253691714896, 0.9553642423204142, 0.9830303269744719, 0.982339349389474, 0.9522642194574534, 0.9810882820036095, 0.9831305972273673, 0.9259775794170034, 0.7895586169037623, 0.27020920794535813, 0.6433552570127574, 0.9311951201723887, 0.8706646741544434, 0.9442589949425645, 0.9689821514349748, 0.8830878402721068, 0.9767896103462496, 0.950516142197327, 0.028083431474011933, 0.006480791878618139, 0.9740772557201391, 0.9733444632706979, 0.7738305228409184, 0.189588478096025, 0.01934576307102296, 0.005803728921306888, 0.9673961966787658, 0.8312805836263354, 0.9446195735129979, 0.982165930590474, 0.004008840533022343, 0.942693483857939, 0.9489597162807426, 0.9791629098307907, 0.8379874998886858, 0.9753798174496857, 0.96783485311368, 0.9275876188926037, 0.028762406787367557, 0.06942798496872801, 0.7819783570161998, 0.12789365652134108, 0.915045902047177, 0.1404940140796165, 0.06244178403538512, 0.6868596243892363, 0.07024700703980825, 0.33192560911018804, 0.6559009042297129, 0.6160777331012135, 0.060507634501012035, 0.28603609036842054, 0.9776101852878296, 0.9885199351860925, 0.9341450266524393, 0.9475113443144965, 0.8667641372635063, 0.9088990743920232, 0.9771867281182902, 0.9897831076848326, 0.0014685209312831342, 0.7034037794446278, 0.12264476154419153, 0.0036071988689468097, 0.04689358529630853, 0.10100156833051067, 0.8932686531867264, 0.9597096538345936, 0.9508841806227737, 0.9293715118692139, 0.8816776695778638, 0.8843524815072623, 0.9547091615272829, 0.9297518702569991, 0.9195380890138465, 0.9529344912944074, 0.8474515393179929, 0.9945538543957032, 0.0003881943225588225, 0.0011645829676764675, 0.0003881943225588225, 0.0003881943225588225, 0.0003881943225588225, 0.0003881943225588225, 0.0003881943225588225, 0.9349974769539745, 0.8969051416613506, 0.9528759723289097, 0.968885881318279, 0.9609226062050392, 0.9532219223819239, 0.9635550824295868, 0.8665602542136402, 0.005489718731151956, 0.06587662477382347, 0.9140381687368007, 0.9287103422247377, 0.9521515899024079, 0.9581292961176776, 0.8099286605027756, 0.9510328399858751, 0.9600703887573577, 0.9842627532352728, 0.8844524238707934, 0.9740222196596785, 0.9943883284223981, 0.0009367765694040491, 0.00046838828470202457, 0.00046838828470202457, 0.00046838828470202457, 0.00046838828470202457, 0.937949891951985, 0.04384139392860094, 0.9255405384926865, 0.9185225212758201, 0.9139702346469544, 0.9265682974800226, 0.9839802806792151, 0.0009068942679071107, 0.004534471339535553, 0.0018137885358142213, 0.002720682803721332, 0.9841191903667207, 0.002497764442555129, 0.9964586800279293, 0.0003763061480468011, 0.0003763061480468011, 0.0003763061480468011, 0.0003763061480468011, 0.960783294027811, 0.7558555165321935, 0.8649079017983149, 0.931741557585825, 0.025681821186666894, 0.20031820525600177, 0.030818185424000274, 0.2208636622053353, 0.49822733102133776, 0.15554343737838724, 0.7874386517280854, 0.9518437711126372, 0.8682586145552161, 0.9340451449473539, 0.9664789418997053, 0.9852044268475588, 0.9145074661340232, 0.8881302160025715, 0.047920695108052414, 0.007986782518008736, 0.014376208532415724, 0.030349773568433196, 0.0031947130072034944, 0.9119003795501391, 0.6958603261114025, 0.9742234795744199, 0.9714597962085678, 0.010976946849814326, 0.005488473424907163, 0.09109736920787125, 0.007007489939067019, 0.01051123490860053, 0.8584175175357098, 0.0035037449695335095, 0.007007489939067019, 0.8814099646003887, 0.9624804150682219, 0.009482565665696767, 0.9722208885891269, 0.06943905813218565, 0.8911345793630492, 0.9512949239831818, 0.9635700353608692, 0.9316527545006377, 0.9491690977226225, 0.049379196203178356, 0.9184530493791174, 0.18255623109324376, 0.77890658599784, 0.2766072091815515, 0.07475870518420312, 0.6055455119920452, 0.9909807595182735, 0.9590103217424331, 0.8548676759051864, 0.9792638379979344, 0.010529718688149833, 0.0592804919974656, 0.1778414759923968, 0.6283732151731354, 0.08299268879645184, 0.03161626239864832, 0.9419566947959023, 0.017379274811732515, 0.019117202292905765, 0.003475854962346503, 0.0017379274811732514, 0.005213782443519755, 0.0017379274811732514, 0.7900670591365612, 0.9567960232624797, 0.8492156201493685, 0.008962697837988058, 0.12995911865082682, 0.9823118267900671, 0.13762852029584496, 0.8346503811489953, 0.9122955868682634, 0.8398074479480635, 0.9018246414583916, 0.0554969010128241, 0.01109938020256482, 0.013874225253206024, 0.8588184986324358, 0.9332291976285574, 0.9090955640960262, 0.9201490794092909, 0.7617802876644925, 0.9930130336018652, 0.855536154359451, 0.9616679451610556, 0.9733180373542172, 0.9669796461322593, 0.990492622625735, 0.0038615696788527683, 0.9935480923645894, 0.7628384325187748, 0.1423478414747953, 0.021899667919199277, 0.029199557225599037, 0.029199557225599037, 0.0036499446531998796, 0.9485378741905804, 0.977804837190831, 0.837474357959236, 0.02653384104425302, 0.06467623754536674, 0.0016583650652658138, 0.019900380783189765, 0.0033167301305316275, 0.038142396501113715, 0.9371986216759154, 0.9526176854264472, 0.9655224862712153, 0.011140644072360177, 0.9444927086844298, 0.9312705699674644, 0.9539994405177435, 0.8663058052292115, 0.029917467748155954, 0.006503797336555642, 0.010406075738489028, 0.002601518934622257, 0.005203037869244514, 0.002601518934622257, 0.009105316271177898, 0.03381974615008934, 0.0013007594673111285, 0.014308354140422412, 0.007804556803866771, 0.002601518934622257, 0.002601518934622257, 0.9196337765154537, 0.9727567662096315, 0.9446592979198397, 0.9561264082608022, 0.9805956912508557, 0.9694537393459768, 0.9339732501800779, 0.17736002992387806, 0.7470619442248198, 0.042996370890637105, 0.8260103459607523, 0.8894129356512097, 0.934854626525457, 0.9807735907685934, 0.9715042579503887, 0.9784408239576611, 0.9253551653406007, 0.9507507806059643, 0.8618233398979053, 0.9599406698249504, 0.018579496835321622, 0.008257554149031832, 0.9252517895212127, 0.9744345511572697, 0.96423125564665, 0.025749855609996108, 0.09527446575698559, 0.0720995957079891, 0.6128465635179073, 0.010299942243998442, 0.1467741769769778, 0.025749855609996108, 0.9246053965109176, 0.9293762402908761, 0.9254675113062222, 0.9746948485522574, 0.9090786452802045, 0.9146519774059686, 0.9637478442395598, 0.8736749815090809, 0.9561122923224036, 0.9603318063972135, 0.9894630862803302, 0.960698060932174, 0.8462985460247504, 0.8465891396643768, 0.7611905523534738, 0.953535158860487, 0.9361257216911751, 0.1917298846331926, 0.008917669052706632, 0.5662719848468711, 0.20510638821225255, 0.8938175660540695, 0.9362186536125405, 0.9363834879363421, 0.8720754043853152, 0.9849270618708059, 0.9651401677204982, 0.7534458736918139, 0.01772813820451327, 0.04875238006241149, 0.1506891747383628, 0.015512120928949111, 0.9503020558331208, 0.953200405599537, 0.01652948680230411, 0.02203931573640548, 0.9549471470278089, 0.9385918695468144, 0.969190166898839, 0.9747621924077777, 0.3269333972946862, 0.15110367101855246, 0.2170398183721026, 0.04945211051516262, 0.03846275262290426, 0.00824201841919377, 0.19506110258758588, 0.961170606829295, 0.973028873539312, 0.9861144199892313, 0.96074560851116, 0.9293495513538048, 0.9235641458179674, 0.8679981963358223, 0.035428497809625405, 0.027836676850419958, 0.029101980343620867, 0.026571373357219052, 0.006326517466004536, 0.27104726673641816, 0.041171736719455926, 0.12351521015836778, 0.5283706212330177, 0.013723912239818642, 0.28199728728920725, 0.6383674855118318, 0.058878554488955355, 0.003098871288892387, 0.9755198950427412, 0.0036812071511046836, 0.9927919970325152, 0.98780783997693, 0.9771591292679979, 0.9778185171944631, 0.9870254409798472, 0.27498102348258296, 0.7044034437156578, 0.7617826759169294, 0.9760753294613496, 0.9583398924414925, 0.8127546731778996, 0.9375763608757766, 0.9893058805570648, 0.9478590619243554, 0.9427038704872173, 0.9456262460709726, 0.8978157302226747, 0.9391520101715964, 0.9478802662097996, 0.9308284041505293, 0.9886771671544679, 0.9809734906781075, 0.9025136751297392, 0.8842447003759977, 0.9480921220207842, 0.9829347451951536, 0.9205233280041075, 0.1083711442046372, 0.7179588303557214, 0.019351990036542355, 0.019351990036542355, 0.1083711442046372, 0.01741679103288812, 0.9585751034304785, 0.9037093982750211, 0.891938202573617, 0.9690931651515267, 0.9490293888082725, 0.02564944294076412, 0.015389665764458473, 0.001709962862717608, 0.9328141254793109, 0.933829146333496, 0.8564631019433216, 0.9244110003421177, 0.9498215502899339, 0.05016777746649142, 0.02701341863580307, 0.8991609345917307, 0.8343685426617824, 0.015918000813897278, 0.014591500746072504, 0.014591500746072504, 0.006632500339123866, 0.010612000542598185, 0.007959000406948639, 0.043774502238217515, 0.0026530001356495463, 0.04112150210256797, 0.9713853849313434, 0.958645612297587, 0.9663399017254506, 0.005140105860241759, 0.9175346739379721, 0.9873895339856099, 0.0032506651324629133, 0.00487599769869437, 0.9233007035033148, 0.9467166524364745, 0.6353080770977039, 0.9671103834304109, 0.9909398206905653, 0.9816676859148429, 0.005740746701256391, 0.0019135822337521303, 0.906704674396839, 0.9532279646729573, 0.8584110478273707, 0.8577455916626304, 0.868605295863073, 0.957560427480226, 0.014964530136966093, 0.965212193834313, 0.9006189146618436, 0.990403198389905, 0.9674791482450754, 0.9580514921980169, 0.009362066699003422, 0.015603444498339036, 0.9519796515937105, 0.9868347752816795, 0.9492951168556429, 0.9797156864391411, 0.7914154059029053, 0.8789591774691311, 0.9551152243247846, 0.9704757057791727, 0.9862252538031988, 0.10158635670794387, 0.8736426676883172, 0.12505246618805024, 0.8646484805002331, 0.9447508306149207, 0.9429152325424528, 0.27047091200188195, 0.3928268007646381, 0.009659675428638641, 0.2994499382877979, 0.003219891809546214, 0.006439783619092428, 0.9458959688938919, 0.9254950797327652, 0.8713295943266793, 0.614858232094563, 0.15627646732403477, 0.1383431022212767, 0.023057183703546112, 0.0025619093003940124, 0.012809546501970063, 0.03842863950591019, 0.8840984110508688, 0.04595502862447996, 0.06193938640690778, 0.08391787835774601, 0.033966760287659103, 0.6913234740900029, 0.03196871556485562, 0.03796284973326606, 0.9657564447077224, 0.9660320567671334, 0.3288792313791278, 0.38807749302737077, 0.018636489778150574, 0.08331607194937903, 0.01644396156895639, 0.01754022567355348, 0.006577584627582555, 0.0010962641045970925, 0.13045542844705402, 0.0032887923137912777, 0.7910184900535456, 0.9596701752002282, 0.9669452063450441, 0.9262950444138148, 0.9733724109176584, 0.004830632312246444, 0.002415316156123222, 0.002415316156123222, 0.002415316156123222, 0.7853769675335689, 0.9855018532617528, 0.0021102823410315908, 0.9526911950426502, 0.9657611743807483, 0.9474247563036056, 0.05872363825922941, 0.8514927547588264, 0.87147991576913, 0.10331978382829891, 0.8193211986747831, 0.8725642739139021, 0.8343830547073878, 0.0021957448808089153, 0.03147234329159445, 0.12735320308691708, 0.9778631486199506, 0.9776901853327558, 0.9682489686981236, 0.8718572936939266, 0.9750695321553863, 0.0015379645617592842, 0.01076575193231499, 0.0030759291235185685, 0.9750361606502237, 0.9343690071625965, 0.8823395526136548, 0.8511138832347164, 0.9770324008079491, 0.7635719682250447, 0.002004125900853136, 0.14229293896057263, 0.002004125900853136, 0.0060123777025594075, 0.07415265833156602, 0.8856426623634962, 0.9388174867322296, 0.9600687775414427, 0.003450903172228259, 0.9766055977405973, 0.9731099115786491, 0.967446432685555, 0.9859142757882962, 0.7696753674496537, 0.06467860230669359, 0.046712323888167595, 0.02012223182874912, 0.00503055795718728, 0.01581032500830288, 0.023715487512454315, 0.008623813640892479, 0.0007186511367410399, 0.015091673871561838, 0.010779767051115599, 0.0007186511367410399, 0.0007186511367410399, 0.0021559534102231197, 0.00503055795718728, 0.006467860230669359, 0.9169548708717269, 0.8711628660278712, 0.9604497200716405, 0.12488917267424934, 0.816583052100861, 0.9210959455824159, 0.6491177989496286, 0.10513879842141872, 0.08685379000030242, 0.08685379000030242, 0.0548550252633489, 0.004571252105279075, 0.9200317037863879, 0.06285930895434949, 0.9475749163059872, 0.06470543454709156, 0.48107083945881113, 0.43887164301505577, 0.9736957384185189, 0.9362170439837466, 0.9028910498939503, 0.8920473562451721, 0.9651432103473601, 0.9934787728062472, 0.9556739680133381, 0.5481929837560306, 0.980679971266664, 0.9185036055881758, 0.9656585203551716, 0.9556964234843589, 0.9907902483237614, 0.0008982685841557221, 0.00044913429207786104, 0.0008982685841557221, 0.00044913429207786104, 0.0008982685841557221, 0.0017965371683114442, 0.00044913429207786104, 0.00044913429207786104, 0.00044913429207786104, 0.00044913429207786104, 0.00044913429207786104, 0.9601221211869233, 0.9270983708091051, 0.9947167087846949, 0.9801217434109311, 0.9461146314637281, 0.010022400757031018, 0.010022400757031018, 0.002004480151406204, 0.018040321362655834, 0.002004480151406204, 0.002004480151406204, 0.9734574461786503, 0.9284019004824606, 0.8448152672623093, 0.15026358508618148, 0.9855758475745224, 0.06938746733898758, 0.6184535132388023, 0.12972439545984635, 0.08145485296315932, 0.08145485296315932, 0.5507654787095732, 0.42837315010744575, 0.9718441094881509, 0.001159165206927661, 0.00023183304138553218, 0.02457430238686641, 0.00023183304138553218, 0.00023183304138553218, 0.00023183304138553218, 0.00023183304138553218, 0.964552888661917, 0.9766836420954423, 0.9445253527365715, 0.7102790315544948, 0.08117474646337083, 0.004227851378300565, 0.20040015533144676, 0.1466299866100394, 0.7973005521920893, 0.7991307356181584, 0.19351147858018183, 0.9801937534842003, 0.9467377909206737, 0.9619574375276877, 0.8699405514549259, 0.9519612093678487, 0.9026762692375339, 0.8697520652461022, 0.005271224637855164, 0.11596694203281362, 0.9594667044371934, 0.9859412224496475, 0.9355363516667397, 0.9627871479330141, 0.8698824950046993, 0.9845736942170328, 0.9234107912464375, 0.9577493323496103, 0.9452078380085798, 0.925514085388179, 0.028922315168380595, 0.9185049187693612, 0.922717560546776, 0.8964904771816566, 0.9787525307573859, 0.9380038701520708, 0.019816983172226847, 0.9509389308864581, 0.07130886728431023, 0.7996780116883361, 0.01528047156092362, 0.08658933884523384, 0.8657419819274873, 0.9370095890894417, 0.9573549419204996, 0.8903396856472172, 0.07647089324577326, 0.9632294676379397, 0.7686429130705904, 0.0847536337914562, 0.8942969634546758, 0.0029225390962571104, 0.9433050433338817, 0.8895704037052417, 0.07757881427661992, 0.9452606796495845, 0.9701770040680483, 0.828249812456783, 0.10352863270498645, 0.8541112198161382, 0.21017393436267023, 0.7679432217097566, 0.7655529666489165, 0.09360472954659241, 0.12034893798847596, 0.011700591193324051, 0.8923756792437466, 0.9749427831978755, 0.9836224630414063, 0.949564845807587, 0.017878836008929463, 0.0059596120029764875, 0.013905761340278471, 0.0019865373343254957, 0.14630626085673745, 0.804684434712056, 0.2558566846971104, 0.7036058829170536, 0.00984064171911963, 0.9372250889540726, 0.9781258642536013, 0.9639832823969677, 0.8983151982606081, 0.04491575991303041, 0.9210604057082848, 0.0019315660245703846, 0.9522620501131995, 0.028973490368555767, 0.0057946980737111535, 0.9854929362671921, 0.009716127540662457, 0.0006940091100473185, 0.9850824971071341, 0.9789217542674585, 0.13060254749186082, 0.8489165586970954, 0.9045726299212149, 0.9109908033006413, 0.17204602581892492, 0.7646490036396663, 0.9665188182982482, 0.3008506480828483, 0.681171278678147, 0.9746039016838495, 0.25350043481691104, 0.029250050171182044, 0.6532511204897323, 0.8988553690039828, 0.7948638598015, 0.8410688711837527, 0.9070042943957891, 0.9709757693539478, 0.15850542222668892, 0.13280184024398262, 0.6854288528721684, 0.9178672237350907, 0.11943309476506449, 0.8468892174250027, 0.9711069752109571, 0.0026678763055246074, 0.01067150522209843, 0.9769307941196198, 0.8456238383095664, 0.042997822286927105, 0.032248366715195334, 0.0017915759286219629, 0.039414670429683184, 0.0035831518572439257, 0.021498911143463553, 0.0017915759286219629, 0.0017915759286219629, 0.9410744322032891, 0.9780002472780824, 0.0008402063980052255, 0.013443302368083608, 0.0025206191940156763, 0.0008402063980052255, 0.9227151748206548, 0.13488213370613714, 0.007225828591400204, 0.06744106685306857, 0.0024086095304667347, 0.7755722688102886, 0.9338277177685118, 0.9779426666644973, 0.9538267631767023, 0.0035392458744961126, 0.0035392458744961126, 0.0061936802803681966, 0.0283139669959689, 0.0008848114686240281, 0.9528382017520156, 0.8950349503423503, 0.06974298314355976, 0.9077265043518417, 0.8733623759399718, 0.9198518650927408, 0.9481769695117241, 0.9798641356439727, 0.0026845592757369116, 0.9552228402538189, 0.9840221046653721, 0.9899118116755773, 0.004956639972624493, 0.0007080914246606418, 0.9455971955225837, 0.4590520594981939, 0.10403446107607793, 0.013004307634509741, 0.03381119984972533, 0.001300430763450974, 0.037712492140078255, 0.042914215193882145, 0.006502153817254871, 0.04811593824768604, 0.005201723053803896, 0.08582843038776429, 0.08062670733396039, 0.001300430763450974, 0.037712492140078255, 0.03901292290352923, 0.9318710162805262, 0.9524240406272051, 0.8920357635925351, 0.09301977213932852, 0.9847491022016797, 0.9541799425394045, 0.9102270739755085, 0.9777114404095397, 0.973341873555598, 0.8504156103345126, 0.9758368471513557, 0.9202723654561011, 0.9906994176778549, 0.0009328619752145526, 0.0009328619752145526, 0.0009328619752145526, 0.0009328619752145526, 0.9587994026059511, 0.9692712312417573, 0.8974412333817291, 0.9825982476361746, 0.9770549413660898], \"Term\": [\"1\", \"10\", \"10\", \"10\", \"100\", \"100\", \"100\", \"1000\", \"10000\", \"10_million\", \"11\", \"11\", \"12\", \"12_million\", \"13\", \"14\", \"15\", \"15\", \"15\", \"16\", \"17\", \"18\", \"19\", \"20\", \"20\", \"20\", \"20\", \"200\", \"2000\", \"2019\", \"2019\", \"2021\", \"2022\", \"2025\", \"2030\", \"20_million\", \"20_years\", \"22\", \"23\", \"24\", \"25\", \"26\", \"28\", \"2_billion\", \"3\", \"3\", \"30\", \"30\", \"300\", \"31\", \"36\", \"38\", \"4\", \"4\", \"40\", \"400\", \"40000\", \"5\", \"5\", \"5\", \"5\", \"50\", \"50\", \"500\", \"500\", \"500_million\", \"50_million\", \"55\", \"6\", \"6\", \"6\", \"66\", \"7\", \"70\", \"70\", \"75_billion\", \"77\", \"80\", \"80\", \"85\", \"90\", \"95\", \"abc\", \"able\", \"able\", \"abuse\", \"access\", \"access\", \"access\", \"access\", \"according\", \"according\", \"according\", \"according\", \"according\", \"according\", \"according\", \"according\", \"according\", \"according\", \"according\", \"according\", \"according\", \"according\", \"according\", \"according_memo\", \"account\", \"accounts\", \"accused\", \"accused\", \"acquisition\", \"across_us\", \"act\", \"action\", \"action\", \"activist\", \"activists\", \"actor\", \"add\", \"added\", \"adding\", \"adding\", \"additional\", \"address\", \"adds\", \"admin\", \"administration\", \"admissions\", \"adopt\", \"adults\", \"advantage\", \"advisory\", \"advisory_panel\", \"advocates\", \"affecting\", \"afghanistan\", \"africa\", \"africa\", \"african\", \"age\", \"age\", \"agencies\", \"agencies\", \"agency\", \"ages\", \"aggressively\", \"ago\", \"ago\", \"ago\", \"ago\", \"agreed\", \"agreement\", \"ahead\", \"ahead\", \"ahead\", \"ai\", \"aid\", \"aim\", \"aimed\", \"aims\", \"air\", \"air_lines\", \"air_travel\", \"airline\", \"airlines\", \"airlines\", \"airlines\", \"airport\", \"album\", \"alleged\", \"allegedly\", \"allowed\", \"allowing\", \"almost\", \"almost\", \"along\", \"also\", \"also\", \"also\", \"also\", \"also\", \"also\", \"also\", \"alternative\", \"amazon\", \"amazon\", \"amazon\", \"amazon\", \"amazon\", \"amazon\", \"amazon\", \"american\", \"american\", \"american\", \"american\", \"americans\", \"americans\", \"americans\", \"americans\", \"americans\", \"americans\", \"americans\", \"americans\", \"americans_get\", \"america\\u2019s\", \"amid\", \"amid\", \"amid\", \"amid\", \"amid\", \"amid\", \"amid\", \"among\", \"among\", \"among\", \"among\", \"amp\", \"amp\", \"amp\", \"amp\", \"amp_johnson\", \"analysis\", \"analysis\", \"analysts\", \"anniversary\", \"announce\", \"announced_new\", \"announcement\", \"announces\", \"announces\", \"annual\", \"another\", \"another\", \"another\", \"another\", \"another\", \"another\", \"another\", \"anthony\", \"anthony_fauci\", \"anticipated\", \"anyone\", \"apart\", \"app\", \"app\", \"appear\", \"appeared\", \"appears\", \"apple\", \"apple\", \"apple\", \"apple\", \"apple\", \"apple_ceo\", \"approach\", \"approximately\", \"apps\", \"april\", \"area\", \"area\", \"aren\\u2019t\", \"arm\", \"around_world\", \"arrest\", \"arrested\", \"article\", \"asian\", \"ask\", \"asking\", \"asks\", \"assault\", \"athletes\", \"atlanta\", \"attention\", \"attorney\", \"august\", \"author\", \"authorities\", \"authorities\", \"authorities\", \"authorities\", \"authority\", \"authorization\", \"auto\", \"available\", \"average\", \"avoid\", \"avoid\", \"a\\u2026\", \"back\", \"back\", \"backed\", \"bad\", \"barred\", \"base\", \"based\", \"battle\", \"battle\", \"bbgequality\", \"beach\", \"beat\", \"became\", \"became\", \"become\", \"becoming\", \"becoming\", \"becoming_first\", \"began\", \"begin\", \"begin\", \"begin\", \"beginning\", \"begins\", \"begun\", \"behind\", \"behind\", \"behind\", \"believe\", \"benefit\", \"benefits\", \"best\", \"best\", \"better\", \"betting\", \"beyond\", \"bid\", \"biden_admin\", \"biden_administration\", \"big\", \"big\", \"big\", \"big\", \"big\", \"big\", \"big\", \"big\", \"big_take\", \"big_us\", \"bigger\", \"biggest\", \"biggest\", \"bill\", \"bill\", \"bill\", \"bill\", \"billion\", \"billion\", \"billion\", \"billions\", \"billions\", \"bills\", \"bitcoin\", \"black\", \"black\", \"black\", \"black\", \"black\", \"blocking\", \"bloombergtv\", \"board\", \"board\", \"board\", \"body\", \"bonds\", \"books\", \"boost\", \"boost\", \"boost\", \"booster\", \"booster_shots\", \"boosters\", \"bopinion\", \"bopinion\", \"bought\", \"bowl\", \"box\", \"breach\", \"break\", \"breaking\", \"breaking\", \"breaking\", \"breaking\", \"breaking_news\", \"breaking_us\", \"breaks\", \"breakthrough\", \"briefing\", \"bring\", \"broke\", \"brought\", \"build\", \"build\", \"building\", \"buildings\", \"built\", \"businesses\", \"businesses\", \"businesses\", \"businesses\", \"businesses\", \"buy\", \"buying\", \"bw\", \"bw\", \"california\", \"california\", \"california\", \"call\", \"calling\", \"calls\", \"came\", \"came\", \"campaign\", \"campaign\", \"canada\", \"canceled\", \"capacity\", \"capitol_riot\", \"car\", \"card\", \"care\", \"carrier\", \"carry\", \"cars\", \"case\", \"case\", \"cash\", \"cash\", \"cast\", \"cause\", \"caused\", \"cbseveningnews\", \"cbsmornings\", \"cdc\", \"center\", \"center\", \"centers\", \"central\", \"ceo\", \"ceo\", \"ceo\", \"ceo\", \"ceo_tim\", \"certain\", \"chain\", \"chairman\", \"chairman\", \"challenges\", \"chance\", \"change\", \"change\", \"change\", \"changed\", \"charge\", \"charged\", \"charges\", \"charging\", \"check\", \"chief\", \"chief_executive\", \"child\", \"children\", \"children\", \"children\", \"china\", \"china\", \"chinas\", \"china\\u2019s\", \"chinese\", \"chips\", \"choice\", \"chose\", \"christmas\", \"cities\", \"citigroup\", \"citing\", \"city\", \"citys\", \"civil\", \"claims\", \"clear\", \"climate\", \"climate_change\", \"close\", \"closed\", \"closely\", \"cloud\", \"cnn\", \"cnnopinion\", \"cnns\", \"coal\", \"cocacola\", \"code\", \"cofounder\", \"collapse\", \"college\", \"combat\", \"come\", \"come\", \"comes\", \"coming\", \"coming\", \"coming\", \"commercial\", \"commitment\", \"committed\", \"committee\", \"common\", \"community\", \"companies\", \"companies\", \"companies\", \"company\", \"company\", \"company\", \"company\", \"company\", \"company\", \"company\", \"company\", \"company\", \"company\", \"company\", \"company\", \"company\", \"company\", \"company\", \"company\", \"company_said\", \"company_says\", \"companys\", \"companys\", \"company\\u2019s\", \"compared\", \"compensation\", \"complete\", \"concern\", \"concerned\", \"concerns\", \"conditions\", \"conference\", \"confirmed\", \"conservative\", \"consider\", \"considering\", \"consumers\", \"contains\", \"continued\", \"continues\", \"contract\", \"control\", \"control\", \"control\", \"controls\", \"convince\", \"cook\", \"coronavirus\", \"coronavirus\", \"coronavirus\", \"coronavirus\", \"coronavirus\", \"coronavirus\", \"coronavirus\", \"coronavirus\", \"coronavirus\", \"coronavirus\", \"coronavirus\", \"coronavirus\", \"coronavirus\", \"coronavirus\", \"coronavirus_pandemic\", \"coronavirus_vaccines\", \"corporations\", \"cost\", \"costs\", \"could\", \"could\", \"could\", \"could\", \"could\", \"could\", \"could\", \"could\", \"could\", \"could\", \"could\", \"could\", \"could\", \"could\", \"could\", \"could\", \"could\", \"could\", \"could_become\", \"could_make\", \"could_mean\", \"couldn\\u2019t\", \"countries\", \"country\", \"country\", \"country\", \"country\", \"country\", \"country\", \"country\", \"country\", \"country\", \"country\", \"country\", \"country\\u2019s\", \"country\\u2019s\", \"counts\", \"county\", \"couple\", \"course\", \"court\", \"court\", \"court\", \"court\", \"court\", \"cover\", \"covid\", \"covid\", \"covid\", \"covid\", \"covid\", \"covid\", \"covid\", \"covid\", \"covid\", \"covid19\", \"covid19\", \"covid19\", \"covid19\", \"covid19\", \"covid19\", \"covid19\", \"covid19_cases\", \"covid19_infections\", \"covid19_pandemic\", \"covid19_vaccinations\", \"covid19_vaccine\", \"covid19_vaccine\", \"covid19_vaccine\", \"covid19_vaccines\", \"covid_vaccine\", \"crackdown\", \"cracking\", \"created\", \"credit\", \"crime\", \"crimes\", \"criminal\", \"critical\", \"critical_race\", \"criticism\", \"current\", \"currently\", \"customers\", \"customers\", \"customers\", \"cut\", \"cut\", \"c\\u2026\", \"daily\", \"damage\", \"data\", \"data\", \"data\", \"data\", \"data\", \"data\", \"data\", \"data\", \"data\", \"data\", \"data_shows\", \"date\", \"day\", \"day\", \"day\", \"day\", \"day\", \"day\", \"day\", \"day\", \"day\", \"day\", \"days\", \"days\", \"days\", \"days\", \"days\", \"days\", \"days\", \"dc\", \"deadliest\", \"deadline\", \"deals\", \"deaths\", \"debuted\", \"decade\", \"decades\", \"decide\", \"decided\", \"defense\", \"delayed\", \"deliver\", \"delta\", \"delta\", \"delta_air\", \"delta_variant\", \"demand\", \"demand\", \"democrats\", \"democrats\", \"democrats\", \"department\", \"departure\", \"described\", \"designed\", \"despite\", \"despite\", \"details\", \"develop\", \"developing\", \"development\", \"devices\", \"didnt\", \"didn\\u2019t\", \"died\", \"different\", \"digital\", \"digital\", \"directly\", \"disappointing\", \"discrimination\", \"discuss\", \"disney\", \"dispute\", \"district\", \"diverse\", \"diversity\", \"division\", \"doctor\", \"doctors\", \"documentary\", \"doj\", \"dollar\", \"dollars\", \"dollars\", \"dont\", \"dont\", \"don\\u2019t\", \"doses\", \"doses\", \"doses_covid19\", \"double\", \"dozens\", \"dr_anthony\", \"drive\", \"driver\", \"drivers\", \"driving\", \"drop\", \"dropped\", \"drug\", \"due\", \"earlier\", \"earlier\", \"earlier\", \"earlier_month\", \"earlier_year\", \"early\", \"early\", \"early\", \"early\", \"earth\", \"easier\", \"easing\", \"economy\", \"economy\", \"effect\", \"effective\", \"effectively\", \"effectiveness\", \"effects\", \"efficacy\", \"effort\", \"effort\", \"effort\", \"efforts\", \"efforts\", \"efforts\", \"eight\", \"election\", \"election\", \"election\", \"election\", \"election\", \"election\", \"election_results\", \"elections\", \"electronics\", \"eligible\", \"elizabeth\", \"elon\", \"elon_musk\", \"embrace\", \"emerged\", \"emergency\", \"emergency_use\", \"emissions\", \"employees\", \"employees\", \"employees\", \"employees\", \"employees_get\", \"employees_vaccinated\", \"employers\", \"encourage\", \"end\", \"end\", \"end\", \"end\", \"end\", \"end\", \"end_year\", \"ended\", \"ending\", \"endorsed\", \"enough\", \"ensure\", \"enter\", \"episode\", \"equity\", \"era\", \"eric\", \"essential\", \"estate\", \"estimates\", \"europe\", \"even\", \"even\", \"even\", \"even\", \"even\", \"even\", \"even\", \"evening\", \"evening_briefing\", \"event\", \"events\", \"eventually\", \"every\", \"everything\", \"evidence\", \"exclusive\", \"executive\", \"executive\", \"expand\", \"expanding\", \"expanding\", \"expanding\", \"expansion\", \"expect\", \"expect\", \"expected\", \"expected\", \"expected\", \"expects\", \"expects\", \"expensive\", \"experience\", \"experienced\", \"expert\", \"experts\", \"experts\", \"experts\", \"experts_say\", \"explains\", \"explore\", \"extend\", \"extended\", \"extensive\", \"extra\", \"extraordinary\", \"extreme\", \"face\", \"face\", \"face\", \"face\", \"faces\", \"facilities\", \"facing\", \"failed\", \"fall\", \"false\", \"families\", \"fans\", \"fans\", \"fargo\", \"fast\", \"favor\", \"fda\", \"fears\", \"feb\", \"february\", \"fed\", \"federal_government\", \"feel\", \"feeling\", \"fell\", \"female\", \"fifth\", \"fight\", \"fight\", \"fights\", \"filed\", \"fill\", \"film\", \"final\", \"finally\", \"finance\", \"find\", \"finding\", \"finds\", \"fine\", \"fire\", \"firearms\", \"first\", \"first\", \"first\", \"first\", \"first\", \"first\", \"first_major\", \"first_quarter\", \"first_time\", \"fiscal\", \"five\", \"five_years\", \"flag\", \"flights\", \"florida\", \"flying\", \"focus\", \"follow\", \"follow\", \"food\", \"foray\", \"force\", \"forces\", \"forever\", \"former\", \"former\", \"former\", \"former\", \"former\", \"former\", \"former\", \"former\", \"former\", \"former\", \"former_president\", \"forward\", \"found\", \"found\", \"found\", \"found\", \"found\", \"founder\", \"founder\", \"four\", \"fourth\", \"fox\", \"fraud\", \"french\", \"fresh\", \"friday\", \"friday\", \"friday_night\", \"friend\", \"frontline\", \"frontline_workers\", \"frozen\", \"fueled\", \"full\", \"full\", \"full\", \"full\", \"full\", \"fully\", \"fully_vaccinated\", \"funding\", \"future\", \"future\", \"future\", \"gains\", \"game\", \"games\", \"gap\", \"gap\", \"garland\", \"gary\", \"gave\", \"gender\", \"general\", \"general\", \"general\", \"general\", \"general_motors\", \"generation\", \"georgia\", \"georgia\", \"germany\", \"get\", \"get\", \"gets\", \"getting\", \"getting\", \"getting\", \"giant\", \"giant\", \"giant\", \"giant\", \"girl\", \"give\", \"given\", \"giving\", \"global\", \"global\", \"global\", \"global\", \"go_beyond\", \"goal\", \"goal\", \"goals\", \"going\", \"going\", \"going\", \"gone\", \"good\", \"google\", \"google\\u2019s\", \"gop\", \"got\", \"government\", \"government\", \"government\", \"government\", \"government\", \"government\", \"government\", \"government\", \"government\", \"government\", \"governments\", \"governments\", \"grab\", \"grants\", \"greater\", \"ground\", \"groups\", \"groups\", \"groups\", \"grown\", \"growth\", \"growth\", \"growth\", \"growth\", \"growth\", \"gun\", \"gun_violence\", \"half\", \"half\", \"half\", \"half\", \"hall\", \"halloween\", \"halt\", \"hands\", \"happening\", \"hard\", \"harder\", \"harris\", \"hasn\\u2019t\", \"hate\", \"havent\", \"heads\", \"health\", \"health\", \"health\", \"health\", \"health\", \"health\", \"health\", \"health\", \"health_care\", \"health_experts\", \"health_insurance\", \"health_officials\", \"healthcare\", \"hear\", \"heard\", \"heard_street\", \"hearing\", \"heart\", \"held\", \"help\", \"help\", \"help\", \"help\", \"help\", \"help\", \"help\", \"help\", \"help\", \"help\", \"helped\", \"helping\", \"heres\", \"heres\", \"heres\", \"heres_know\", \"heres_latest\", \"hesitancy\", \"he\\u2019s\", \"high_risk\", \"high_school\", \"higher\", \"higher\", \"highest\", \"hire\", \"hires\", \"hiring\", \"historic\", \"history\", \"history\", \"history\", \"hit\", \"hit\", \"hits\", \"holding\", \"holds\", \"holiday\", \"holiday\", \"holiday_season\", \"hollywood\", \"homes\", \"hong\", \"hong_kong\", \"hoping\", \"hospital\", \"hospital\", \"hospitalizations\", \"hospitalized\", \"hospitals\", \"host\", \"hourly\", \"hours\", \"hours\", \"hours\", \"housing\", \"huge\", \"human\", \"human\", \"hundreds\", \"hundreds\", \"hundreds\", \"idea\", \"ideas\", \"ill\", \"illness\", \"images\", \"immediately\", \"immunity\", \"impact\", \"important\", \"impose\", \"improved\", \"incident\", \"include\", \"including_new\", \"increase\", \"increase\", \"increase\", \"increase\", \"increased\", \"increases\", \"india\", \"india\", \"indian\", \"india\\u2019s\", \"indigenous\", \"industry\", \"industry\", \"industry\", \"infection\", \"infections\", \"infections\", \"inflation\", \"inflation\", \"inflation\", \"information\", \"initial\", \"initiative\", \"innovation\", \"inoculated\", \"inside\", \"inspired\", \"instead\", \"insurance\", \"intended\", \"internal\", \"internal\", \"internet\", \"introduced\", \"investigation\", \"investing\", \"investing\", \"investments\", \"investor\", \"investors\", \"investors\", \"investors\", \"investors\", \"investors\", \"investors\", \"investors\", \"involving\", \"ipo\", \"isnt\", \"isn\\u2019t\", \"israel\", \"israeli\", \"issue\", \"issue\", \"issued\", \"issues\", \"issues\", \"james\", \"james\", \"jan\", \"jan_6\", \"japanese\", \"jersey\", \"jet\", \"job\", \"job\", \"job\", \"jobs\", \"jobs\", \"jobs\", \"joe\", \"joe\", \"joe_biden\", \"john\", \"johnson\", \"johnson_amp\", \"join\", \"joined\", \"joins\", \"jon\", \"judge\", \"july\", \"july\", \"jump\", \"jumped\", \"june\", \"justice\", \"justice\", \"keeping\", \"kelly\", \"key\", \"key\", \"key\", \"key\", \"key\", \"kick\", \"kids\", \"killed\", \"killing\", \"kind\", \"kingdom\", \"know\", \"know\", \"know\", \"known\", \"known\", \"known\", \"kong\", \"labor\", \"labor\", \"labor\", \"labor_day\", \"land\", \"large\", \"last\", \"last\", \"last\", \"last\", \"last_month\", \"last_week\", \"last_year\", \"last_year\", \"late\", \"later\", \"later\", \"latest\", \"latest\", \"latest\", \"latest_coronavirus\", \"launch\", \"launches\", \"law\", \"law\", \"law\", \"laws\", \"lawsuit\", \"lawsuit\", \"lawsuits\", \"lawyer\", \"lawyers\", \"lead\", \"lead\", \"leaders\", \"leaders\", \"learned\", \"least_one\", \"leave\", \"leaving\", \"leaving\", \"led\", \"led\", \"left\", \"left\", \"legal\", \"legal\", \"legal\", \"legal\", \"legislation\", \"legislation\", \"legislation\", \"legislative\", \"less\", \"less\", \"less\", \"less\", \"let\", \"let\", \"letter\", \"level\", \"levels\", \"light\", \"likely\", \"likely\", \"likely\", \"limited\", \"lines\", \"linked\", \"list\", \"listen\", \"little\", \"live\", \"lives\", \"living\", \"local\", \"local\", \"local\", \"local\", \"locations\", \"london\", \"long\", \"long\", \"long\", \"longterm\", \"longtime\", \"looking\", \"looks\", \"lose\", \"losing\", \"loss\", \"losses\", \"lost\", \"lot\", \"lot\", \"lots\", \"love\", \"low\", \"low\", \"lower\", \"luxury\", \"made\", \"made\", \"made\", \"made\", \"magic\", \"major\", \"major\", \"major\", \"major\", \"major\", \"major\", \"major\", \"major\", \"major\", \"major\", \"major_us\", \"major_us\", \"make\", \"make\", \"make\", \"make\", \"make\", \"maker\", \"maker\", \"makers\", \"makes\", \"making\", \"making\", \"making\", \"making\", \"man\", \"managed\", \"manager\", \"manager\", \"managing\", \"mandate\", \"mandate\", \"mandates\", \"manhattan\", \"manufacturing\", \"many\", \"many\", \"many\", \"many\", \"many\", \"many\", \"many\", \"many\", \"march\", \"mark\", \"markets\", \"markets\", \"markgurman\", \"marking\", \"martin\", \"mask\", \"mask\", \"mask_mandate\", \"masks\", \"mass\", \"mass\", \"massive\", \"may\", \"may\", \"may\", \"may\", \"may\", \"may\", \"may\", \"may\", \"may\", \"may\", \"may\", \"may\", \"mayor\", \"mayor\", \"mean\", \"means\", \"measures\", \"measures\", \"media\", \"medical\", \"meets\", \"members\", \"meme\", \"memo\", \"memo\", \"message\", \"met\", \"meta\", \"miami\", \"michael\", \"microsoft\", \"middle\", \"middle_east\", \"miles\", \"milestone\", \"military\", \"million\", \"million\", \"million_people\", \"millions\", \"millions\", \"millions\", \"mining\", \"minister\", \"miss\", \"missing\", \"mobile\", \"models\", \"moderate\", \"modern\", \"moment\", \"monday\", \"monday\", \"monday\", \"monday\", \"money\", \"month\", \"month\", \"month\", \"month\", \"month\", \"monthly\", \"months\", \"months\", \"months\", \"months\", \"months_ago\", \"morning\", \"mostly\", \"mother\", \"motors\", \"move\", \"move\", \"move\", \"move\", \"movement\", \"movie\", \"movies\", \"moving\", \"much\", \"much\", \"much\", \"multiple\", \"music\", \"musk\", \"must\", \"myanmar\", \"nail\", \"names\", \"nation\", \"national\", \"national\", \"national\", \"national\", \"nba\", \"nbcnews\", \"nbcnightlynews\", \"near\", \"nearing\", \"nearly_two\", \"need\", \"need\", \"need\", \"need\", \"need\", \"needs\", \"net\", \"net\", \"net_zero\", \"netflix\", \"network\", \"never\", \"new\", \"new\", \"new\", \"new\", \"new\", \"new\", \"new\", \"new\", \"new\", \"new\", \"new_apple\", \"new_covid\", \"new_data\", \"new_jersey\", \"new_report\", \"new_study\", \"new_york\", \"news\", \"news\", \"news\", \"news\", \"news\", \"next\", \"next\", \"next\", \"next\", \"next\", \"next\", \"next\", \"next\", \"next\", \"next\", \"next_week\", \"next_year\", \"next_year\", \"nfl\", \"night\", \"night\", \"normal\", \"north\", \"north_carolina\", \"nov\", \"nov_1\", \"november\", \"numbers\", \"obtained\", \"october\", \"offer\", \"offer\", \"offer\", \"offer\", \"offering\", \"offering\", \"offering\", \"offering\", \"offerings\", \"offers\", \"officer\", \"official\", \"officials\", \"officials\", \"officials\", \"officials\", \"officials\", \"officials\", \"officials\", \"officials\", \"officials\", \"officials_said\", \"officials_said\", \"officials_say\", \"offset\", \"often\", \"ok\", \"old\", \"older\", \"olympics\", \"omicron\", \"omicron_variant\", \"one\", \"one\", \"one\", \"one\", \"one_first\", \"online\", \"online\", \"opened\", \"opening\", \"opens\", \"operating\", \"operation\", \"opinion\", \"opinion\", \"opportunity\", \"opposition\", \"option\", \"options\", \"order\", \"order\", \"ordered\", \"others\", \"outside\", \"outside\", \"owned\", \"owners\", \"pace\", \"packages\", \"paid\", \"paid\", \"pandemic\", \"pandemic\", \"pandemic\", \"pandemic\", \"pandemic\", \"pandemic\", \"pandemic\", \"pandemic\", \"pandemic\", \"pandemic\", \"pandemic\", \"pandemic\", \"pandemic\", \"pandemic\", \"pandemic\", \"pandemic_began\", \"panel\", \"paper\", \"parents\", \"park\", \"particularly\", \"partner\", \"partnership\", \"parts\", \"party\", \"pass\", \"passed\", \"passengers\", \"past\", \"past\", \"past\", \"paul\", \"pause\", \"pay\", \"pay\", \"paying\", \"payment\", \"payments\", \"penalty\", \"people\", \"people\", \"people\", \"people\", \"people_killed\", \"per\", \"percent\", \"performance\", \"perhaps\", \"period\", \"person\", \"person\", \"person\", \"person\", \"person_familiar\", \"personal\", \"personal\", \"pfizer\", \"pfizer_vaccine\", \"pharmaceutical\", \"pharmacies\", \"phase\", \"phone\", \"photos\", \"pills\", \"pilot\", \"place\", \"places\", \"plan\", \"plane\", \"planning\", \"plans\", \"plans\", \"plans\", \"plans\", \"plans\", \"plans\", \"plans\", \"plans\", \"plans\", \"plans\", \"plans\", \"plans\", \"plans\", \"plant\", \"plants\", \"platform\", \"play\", \"playing\", \"pledge\", \"plus\", \"pm\", \"podcast\", \"point\", \"police\", \"police\", \"police\", \"police\", \"police\", \"police\", \"police_say\", \"policy\", \"policy\", \"policy\", \"polish\", \"political\", \"political\", \"political\", \"political\", \"political\", \"pop\", \"popular\", \"position\", \"positions\", \"positive\", \"possible\", \"post\", \"post\", \"posted\", \"posts\", \"potential\", \"potential\", \"potential\", \"potential\", \"potentially\", \"pouring\", \"power\", \"power\", \"power\", \"power\", \"power\", \"power\", \"power\", \"practices\", \"predicted\", \"predicts\", \"pregnant\", \"preliminary\", \"prepandemic\", \"pres\", \"pres\", \"president_joe\", \"president_trump\", \"presidential\", \"pressure\", \"pressure\", \"prevented\", \"previous\", \"previously\", \"price\", \"price\", \"price\", \"prime\", \"prime_minister\", \"prison\", \"privacy\", \"private\", \"private\", \"private_equity\", \"pro\", \"probably\", \"probe\", \"problem\", \"problems\", \"process\", \"production\", \"production\", \"production\", \"products\", \"products\", \"profit\", \"profits\", \"progress\", \"progressive\", \"prominent\", \"promote\", \"promoted\", \"prompting\", \"proposed\", \"prosecutors\", \"protect\", \"protected\", \"protecting\", \"protection\", \"protest\", \"protesters\", \"protests\", \"provide\", \"providing\", \"public\", \"public\", \"public\", \"public\", \"public\", \"public\", \"public\", \"public\", \"published\", \"purchase\", \"push\", \"pushed\", \"pushing\", \"put\", \"put\", \"quest\", \"question\", \"questions\", \"quick\", \"quickly\", \"quicktake\", \"race_theory\", \"racial\", \"racial\", \"racist\", \"raise\", \"raise\", \"raised\", \"raising\", \"rally\", \"range\", \"ransomware\", \"rapid\", \"rare\", \"rates\", \"rather\", \"reach\", \"reach\", \"reached\", \"read\", \"read\", \"read_big\", \"ready\", \"ready\", \"real\", \"real\", \"reality\", \"rebound\", \"received\", \"receiving\", \"recent\", \"recent\", \"recent\", \"recent\", \"recent\", \"recent\", \"recently\", \"recommendations\", \"recommended\", \"record\", \"record\", \"record\", \"record\", \"record\", \"records\", \"recovery\", \"red\", \"reflects\", \"refusing\", \"regular\", \"regulator\", \"regulators\", \"related\", \"relationship\", \"release\", \"released\", \"relief\", \"religious\", \"remain\", \"remain\", \"remains\", \"remarks\", \"remote\", \"rental\", \"reopening\", \"repeat\", \"reported\", \"reported\", \"reported\", \"reportedly\", \"reporting\", \"reports\", \"reports\", \"reports\", \"reports\", \"representation\", \"representing\", \"republicans\", \"require\", \"require\", \"require_employees\", \"requirement\", \"requirements\", \"requires\", \"research\", \"researchers\", \"residents\", \"residents\", \"response\", \"response\", \"response\", \"rest\", \"restrictions\", \"restrictions\", \"restrictions\", \"restrictions\", \"results\", \"results\", \"retail\", \"retail\", \"retail\", \"retailer\", \"return\", \"returns\", \"reveals\", \"reviewing\", \"rich\", \"richard\", \"right\", \"right\", \"rights\", \"rights\", \"rights\", \"rights\", \"rights\", \"riot\", \"risks\", \"rival\", \"rivals\", \"robert\", \"robust\", \"rollout\", \"rose\", \"roughly\", \"round\", \"royal\", \"rt\", \"rt\", \"rt\", \"rt\", \"rt\", \"rt\", \"rt\", \"rt\", \"rt_bloombergtv\", \"rt_bopinion\", \"rt_bw\", \"rt_cbseveningnews\", \"rt_cbsmornings\", \"rt_markgurman\", \"rt_todayshow\", \"rule\", \"rules\", \"rules\", \"rules\", \"ruling\", \"run\", \"running\", \"runs\", \"russia\", \"russian\", \"safe\", \"safely\", \"safety\", \"said\", \"said\", \"said\", \"said\", \"said\", \"said\", \"said_tuesday\", \"sale\", \"sale\", \"san\", \"saudi\", \"saw\", \"say\", \"say\", \"say\", \"say\", \"say\", \"saying\", \"saying\", \"says\", \"says\", \"says\", \"says\", \"says\", \"scale\", \"scandal\", \"scenes\", \"scheduled\", \"school\", \"school\", \"school\", \"school\", \"school\", \"schools\", \"schools\", \"scientists\", \"scoop\", \"scope\", \"search\", \"season\", \"sec\", \"second\", \"second\", \"second\", \"second\", \"second\", \"second\", \"secret\", \"secretly\", \"secured\", \"security\", \"security\", \"security\", \"see\", \"see\", \"see\", \"see\", \"see\", \"see\", \"seeing\", \"seek\", \"seek\", \"seeking\", \"seeks\", \"seeks\", \"sell\", \"selling\", \"senate\", \"send\", \"senior\", \"senior\", \"sent\", \"sent\", \"september\", \"september\", \"september\", \"series\", \"serious\", \"served\", \"service\", \"service\", \"services\", \"services\", \"services\", \"services\", \"services\", \"set\", \"set\", \"set\", \"set\", \"set\", \"set\", \"set\", \"setback\", \"settlement\", \"several\", \"several\", \"several\", \"severe\", \"share\", \"share\", \"shared\", \"shareholders\", \"shares\", \"shares\", \"shares\", \"shares\", \"shes\", \"shift\", \"shipments\", \"shipping\", \"shocked\", \"shooting\", \"shootings\", \"shopping\", \"shortage\", \"shortages\", \"shot\", \"shot\", \"shots\", \"show\", \"show\", \"show\", \"show\", \"show\", \"show\", \"showed\", \"showing\", \"shows\", \"shows\", \"shows\", \"shows\", \"shows\", \"shows\", \"shows\", \"shut\", \"side\", \"sign\", \"sign\", \"significant\", \"significantly\", \"signs\", \"since\", \"since\", \"since\", \"since\", \"since\", \"since\", \"since\", \"since\", \"since\", \"since\", \"since\", \"since\", \"since\", \"since\", \"singapore\", \"single\", \"site\", \"sites\", \"six\", \"six_months\", \"size\", \"small\", \"small\", \"small\", \"snow\", \"soared\", \"soaring\", \"social\", \"social_media\", \"software\", \"sold\", \"something\", \"sometimes\", \"soon\", \"soon\", \"soon\", \"source\", \"sources\", \"sources_say\", \"south\", \"south\", \"south\", \"south\", \"south\", \"south\", \"south\", \"south_african\", \"southeast\", \"southeast_asian\", \"space\", \"speak\", \"speaking\", \"speaks\", \"spend\", \"spending\", \"spike\", \"spokesperson\", \"sports\", \"spreading\", \"spreads\", \"spree\", \"spring\", \"st\", \"staff\", \"staff\", \"staff\", \"staff\", \"stage\", \"stake\", \"stand\", \"standard\", \"star\", \"stars\", \"start\", \"start\", \"start\", \"start\", \"start\", \"started\", \"starting\", \"starting\", \"starting\", \"starting_nov\", \"starts\", \"startup\", \"statement\", \"states\", \"states\", \"states\", \"states\", \"states\", \"states\", \"states\", \"status\", \"stay\", \"step\", \"stepping\", \"steps\", \"steve\", \"still\", \"still\", \"still\", \"still\", \"still\", \"still\", \"stock\", \"stock\", \"stock\", \"stock\", \"stock\", \"stocks\", \"stocks\", \"stocks\", \"stocks\", \"stop\", \"stop\", \"store\", \"stores\", \"story\", \"strategy\", \"streaming\", \"street\", \"street\", \"street\\u2019s\", \"strong\", \"stronger\", \"struggles\", \"students\", \"study\", \"submitted\", \"subscribers\", \"success\", \"sues\", \"suggests\", \"suing\", \"suit\", \"summer\", \"sunday\", \"super\", \"super_bowl\", \"suppliers\", \"supply\", \"supply_chain\", \"support\", \"support\", \"support\", \"support\", \"support\", \"support\", \"supporters\", \"supreme\", \"supreme_court\", \"sure\", \"surge\", \"surge\", \"surge\", \"surge\", \"surges\", \"surging\", \"surveillance\", \"suspected\", \"sweeping\", \"system\", \"system\", \"system\", \"take\", \"take\", \"take\", \"take\", \"take\", \"take\", \"take\", \"take\", \"take\", \"take\", \"taken\", \"takes\", \"taking\", \"taking\", \"talk\", \"target\", \"target\", \"target\", \"targeting\", \"targets\", \"teach\", \"team\", \"tech\", \"technology\", \"technology\", \"technology\", \"teen\", \"tell\", \"tens_millions\", \"term\", \"terms\", \"tesla\", \"test\", \"test\", \"tested\", \"testing\", \"tests\", \"texas\", \"texas\", \"texas\", \"thanks\", \"thats\", \"that\\u2019s\", \"theme\", \"theory\", \"therapy\", \"theres\", \"thing\", \"things\", \"think\", \"think\", \"third\", \"third\", \"though\", \"thought\", \"thousands\", \"thousands\", \"thousands\", \"thousands\", \"thousands\", \"thousands\", \"thousands_dollars\", \"threat\", \"threatening\", \"three\", \"three\", \"three\", \"three\", \"three\", \"three\", \"three\", \"three_weeks\", \"thursday\", \"thursday\", \"thursday\", \"thursday\", \"thursday\", \"thursday\", \"thursday\", \"tim\", \"tim_cook\", \"time\", \"time\", \"time\", \"time\", \"time\", \"time\", \"time\", \"time\", \"time\", \"time\", \"title\", \"todays\", \"todayshow\", \"together\", \"took\", \"took\", \"took\", \"took\", \"took\", \"top_executive\", \"toward\", \"toward\", \"town\", \"track\", \"trade\", \"traders\", \"traders\", \"trading\", \"trading\", \"traditional\", \"trans\", \"travel\", \"travel\", \"travel\", \"travel\", \"treat\", \"treatment\", \"trend\", \"trends\", \"trial\", \"trial\", \"trial\", \"trial\", \"tried\", \"trip\", \"troops\", \"truck\", \"true\", \"trump\", \"trump\", \"trump\", \"trump\", \"trump\", \"trump\", \"trumps\", \"try\", \"tsa\", \"turn\", \"turn\", \"turned\", \"turning\", \"tv\", \"two\", \"two\", \"two\", \"two\", \"two\", \"two\", \"two\", \"two\", \"two\", \"two\", \"two\", \"two\", \"two\", \"two\", \"two\", \"two\", \"two_months\", \"two_new\", \"two_weeks\", \"two_years\", \"two_years\", \"t\\u2026\", \"uk\", \"uk\", \"uk\", \"uk\", \"uk\", \"uk\", \"union\", \"union\", \"unit\", \"united\", \"united\", \"united\", \"united_airlines\", \"united_states\", \"university\", \"unlikely\", \"unusual\", \"unvaccinated\", \"unveiled\", \"upbeat\", \"update\", \"updated\", \"urged\", \"urging\", \"us\", \"us\", \"us\", \"us\", \"us\", \"us\", \"us\", \"us\", \"us\", \"us\", \"us\", \"us\", \"us_stocks\", \"usa\", \"use\", \"use_authorization\", \"used\", \"used\", \"used\", \"used\", \"used\", \"used\", \"used\", \"using\", \"vaccinate\", \"vaccinated\", \"vaccinated\", \"vaccinated_covid19\", \"vaccination\", \"vaccination\", \"vaccination\", \"vaccination\", \"vaccination\", \"vaccinations\", \"vaccinations\", \"vaccine\", \"vaccine\", \"vaccine\", \"vaccine\", \"vaccine\", \"vaccine\", \"vaccine\", \"vaccine\", \"vaccine_booster\", \"vaccine_mandate\", \"vaccine_mandates\", \"vaccines\", \"vaccines\", \"vaccines\", \"vaccines\", \"value\", \"value\", \"variant\", \"variant\", \"variants\", \"vehicle\", \"vehicles\", \"verdict\", \"version\", \"veteran\", \"via\", \"via\", \"via\", \"via_bopinion\", \"via_bw\", \"via_quicktake\", \"victims\", \"victory\", \"video\", \"view\", \"violence\", \"violent\", \"virgin\", \"virgin\", \"virginia\", \"vision\", \"voice\", \"vote\", \"voted\", \"voted\", \"votes\", \"voting\", \"voting\", \"voting\", \"voting\", \"voting_rights\", \"vulnerable\", \"wait\", \"wall\", \"wall\", \"wall_street\", \"wall_street\\u2019s\", \"want\", \"want\", \"want\", \"wanted\", \"wants\", \"wants\", \"war\", \"warehouse\", \"warehouses\", \"warning\", \"warning\", \"washington\", \"washington\", \"watch\", \"watch\", \"watch\", \"watch\", \"watched\", \"water\", \"wave\", \"way\", \"way\", \"way\", \"way\", \"way\", \"ways\", \"ways\", \"wealth\", \"wealth\", \"wealth\", \"wealth_management\", \"wear\", \"wear_masks\", \"weather\", \"weather\", \"web\", \"wednesday\", \"wednesday\", \"wednesday\", \"wednesday\", \"week\", \"week\", \"week\", \"weekend\", \"weekly\", \"well\", \"well\", \"wells\", \"wells_fargo\", \"went\", \"went\", \"whats\", \"white\", \"white\", \"white_house\", \"whose\", \"whose\", \"whose\", \"widespread\", \"wife\", \"winners\", \"winter\", \"within\", \"without\", \"without\", \"without\", \"witness\", \"woman\", \"woman\", \"women\", \"women\", \"women\", \"wont\", \"work\", \"work\", \"work\", \"work\", \"work\", \"work\", \"work\", \"work\", \"work\", \"worked\", \"workers\", \"workers\", \"workers\", \"workers\", \"workers\", \"workers_get\", \"working\", \"working\", \"working\", \"working\", \"working\", \"workplace\", \"works\", \"world\", \"world\", \"world\", \"world\", \"world\", \"world\", \"worlds\", \"world\\u2019s\", \"world\\u2019s\", \"worried\", \"worry\", \"worst\", \"worth\", \"writes\", \"writes\", \"wrote\", \"wsjwhatsnow\", \"year\", \"year\", \"year\", \"year_ago\", \"years\", \"years\", \"years\", \"years\", \"years\", \"years\", \"years\", \"years\", \"years\", \"years\", \"years\", \"years\", \"years\", \"years\", \"years\", \"years_ago\", \"years_old\", \"yet\", \"yet\", \"york\", \"york_city\", \"york_times\", \"young\", \"younger\", \"youth\", \"youtube\", \"zero\", \"\\u2014\", \"\\u2014\", \"\\u2014\", \"\\u2014\", \"\\u2014\", \"\\u2014_even\", \"\\u201ci\", \"\\u201cit\", \"\\u201cthe\", \"\\u201cwe\"]}, \"R\": 30, \"lambda.step\": 0.01, \"plot.opts\": {\"xlab\": \"PC1\", \"ylab\": \"PC2\"}, \"topic.order\": [24, 29, 21, 42, 49, 48, 28, 32, 23, 43, 6, 20, 18, 9, 15, 8, 36, 38, 19, 33, 4, 22, 30, 47, 27, 40, 44, 46, 3, 12, 37, 34, 11, 14, 10, 31, 1, 41, 26, 39, 17, 5, 25, 45, 7, 2, 13, 35, 16]};\n",
       "\n",
       "function LDAvis_load_lib(url, callback){\n",
       "  var s = document.createElement('script');\n",
       "  s.src = url;\n",
       "  s.async = true;\n",
       "  s.onreadystatechange = s.onload = callback;\n",
       "  s.onerror = function(){console.warn(\"failed to load library \" + url);};\n",
       "  document.getElementsByTagName(\"head\")[0].appendChild(s);\n",
       "}\n",
       "\n",
       "if(typeof(LDAvis) !== \"undefined\"){\n",
       "   // already loaded: just create the visualization\n",
       "   !function(LDAvis){\n",
       "       new LDAvis(\"#\" + \"ldavis_el5523615685467715681990132953\", ldavis_el5523615685467715681990132953_data);\n",
       "   }(LDAvis);\n",
       "}else if(typeof define === \"function\" && define.amd){\n",
       "   // require.js is available: use it to load d3/LDAvis\n",
       "   require.config({paths: {d3: \"https://d3js.org/d3.v5\"}});\n",
       "   require([\"d3\"], function(d3){\n",
       "      window.d3 = d3;\n",
       "      LDAvis_load_lib(\"https://cdn.jsdelivr.net/gh/bmabey/pyLDAvis@3.3.1/pyLDAvis/js/ldavis.v3.0.0.js\", function(){\n",
       "        new LDAvis(\"#\" + \"ldavis_el5523615685467715681990132953\", ldavis_el5523615685467715681990132953_data);\n",
       "      });\n",
       "    });\n",
       "}else{\n",
       "    // require.js not available: dynamically load d3 & LDAvis\n",
       "    LDAvis_load_lib(\"https://d3js.org/d3.v5.js\", function(){\n",
       "         LDAvis_load_lib(\"https://cdn.jsdelivr.net/gh/bmabey/pyLDAvis@3.3.1/pyLDAvis/js/ldavis.v3.0.0.js\", function(){\n",
       "                 new LDAvis(\"#\" + \"ldavis_el5523615685467715681990132953\", ldavis_el5523615685467715681990132953_data);\n",
       "            })\n",
       "         });\n",
       "}\n",
       "</script>"
      ],
      "text/plain": [
       "<IPython.core.display.HTML object>"
      ]
     },
     "execution_count": 78,
     "metadata": {},
     "output_type": "execute_result"
    }
   ],
   "source": [
    "vis_data = gensimvis.prepare(lda_m6,ldacorpus_m6,id2word_m6)\n",
    "pyLDAvis.display(vis_data)"
   ]
  },
  {
   "cell_type": "code",
   "execution_count": 79,
   "id": "informed-bullet",
   "metadata": {},
   "outputs": [
    {
     "name": "stderr",
     "output_type": "stream",
     "text": [
      "c:\\users\\tuski\\appdata\\local\\programs\\python\\python39\\lib\\site-packages\\ipykernel\\ipkernel.py:283: DeprecationWarning: `should_run_async` will not call `transform_cell` automatically in the future. Please pass the result to `transformed_cell` argument and any exception that happen during thetransform in `preprocessing_exc_tuple` in IPython 7.17 and above.\n",
      "  and should_run_async(code)\n"
     ]
    },
    {
     "name": "stdout",
     "output_type": "stream",
     "text": [
      "-13.908211625125162\n"
     ]
    }
   ],
   "source": [
    "cm_m6 = models.CoherenceModel(model=lda_m6, corpus=tfidfcorpus_m6[ldacorpus_m6], coherence='u_mass')\n",
    "co_m6 = cm_m6.get_coherence()\n",
    "print(co_m6)"
   ]
  },
  {
   "cell_type": "code",
   "execution_count": 82,
   "id": "improved-acrobat",
   "metadata": {},
   "outputs": [
    {
     "name": "stdout",
     "output_type": "stream",
     "text": [
      "[-17.355652023923653, -17.602033717653576, -14.876846496831048, -16.773037436890387, -16.24795081796783, -12.274350332649522, -15.6662360512322, -13.892313036645383, -12.312042256725434, -14.296400731696021, -13.986171987498198, -11.848371339939762, -16.98990366511105, -15.402381613750055, -15.55158545021476, -15.522169259470262, -14.751541511195171, -14.29910679808134, -15.833414723779189, -12.33878045102216, -6.491559756074229, -14.961863240325554, -14.3064714626039, -3.0632341402477956, -17.151251628096517, -15.152882690363667, -15.718077240702055, -9.67225994626952, -4.65790114732546, -16.62816067653658, -16.00180281281006, -6.5957208176475985, -13.90161833976681, -17.43727515319292, -17.886662399364926, -15.697264962859203, -13.946586291143445, -16.128447962835548, -17.325027471024757, -15.860030117862028, -16.56525028052509, -6.352171875414732, -11.895646788207873, -15.263185830721417, -17.40359317259659, -16.7034686834963, -15.211093356790688, -8.505316229694918, -7.198255454355721]\n"
     ]
    },
    {
     "name": "stderr",
     "output_type": "stream",
     "text": [
      "c:\\users\\tuski\\appdata\\local\\programs\\python\\python39\\lib\\site-packages\\ipykernel\\ipkernel.py:283: DeprecationWarning: `should_run_async` will not call `transform_cell` automatically in the future. Please pass the result to `transformed_cell` argument and any exception that happen during thetransform in `preprocessing_exc_tuple` in IPython 7.17 and above.\n",
      "  and should_run_async(code)\n"
     ]
    }
   ],
   "source": [
    "a= cm_m6.get_coherence_per_topic()\n",
    "print(a)"
   ]
  },
  {
   "cell_type": "code",
   "execution_count": 83,
   "id": "random-butterfly",
   "metadata": {},
   "outputs": [
    {
     "name": "stdout",
     "output_type": "stream",
     "text": [
      "Final Topics:\n"
     ]
    },
    {
     "name": "stderr",
     "output_type": "stream",
     "text": [
      "c:\\users\\tuski\\appdata\\local\\programs\\python\\python39\\lib\\site-packages\\ipykernel\\ipkernel.py:283: DeprecationWarning: `should_run_async` will not call `transform_cell` automatically in the future. Please pass the result to `transformed_cell` argument and any exception that happen during thetransform in `preprocessing_exc_tuple` in IPython 7.17 and above.\n",
      "  and should_run_async(code)\n"
     ]
    },
    {
     "data": {
      "text/plain": [
       "[(15,\n",
       "  '0.110*\"monthly\" + 0.094*\"health_insurance\" + 0.054*\"nov\" + 0.049*\"100\" + 0.045*\"middle\" + 0.035*\"age\" + 0.029*\"starting_nov\" + 0.027*\"face\" + 0.024*\"half\" + 0.023*\"dozens\"'),\n",
       " (6,\n",
       "  '0.068*\"music\" + 0.044*\"read\" + 0.025*\"20\" + 0.024*\"makers\" + 0.019*\"beyond\" + 0.019*\"gap\" + 0.018*\"built\" + 0.011*\"traders\" + 0.010*\"months_ago\" + 0.010*\"20_years\"'),\n",
       " (34,\n",
       "  '0.092*\"tv\" + 0.025*\"annual\" + 0.023*\"worth\" + 0.022*\"helped\" + 0.020*\"36\" + 0.019*\"atlanta\" + 0.017*\"steve\" + 0.014*\"talk\" + 0.014*\"end_year\" + 0.014*\"whose\"'),\n",
       " (1,\n",
       "  '0.048*\"canceled\" + 0.026*\"run\" + 0.026*\"conservative\" + 0.025*\"fifth\" + 0.023*\"town\" + 0.022*\"expensive\" + 0.021*\"arrested\" + 0.020*\"jobs\" + 0.017*\"two_years\" + 0.014*\"targeting\"'),\n",
       " (12,\n",
       "  '0.058*\"weekly\" + 0.052*\"hire\" + 0.050*\"games\" + 0.026*\"violence\" + 0.025*\"fourth\" + 0.025*\"names\" + 0.023*\"cities\" + 0.021*\"paying\" + 0.019*\"mark\" + 0.016*\"credit\"'),\n",
       " (24,\n",
       "  '0.054*\"wsjwhatsnow\" + 0.044*\"game\" + 0.029*\"means\" + 0.025*\"turning\" + 0.019*\"theres\" + 0.018*\"emissions\" + 0.018*\"moving\" + 0.014*\"hear\" + 0.013*\"jan\" + 0.013*\"advocates\"'),\n",
       " (16,\n",
       "  '0.082*\"insurance\" + 0.079*\"covid_vaccine\" + 0.039*\"story\" + 0.034*\"system\" + 0.030*\"per\" + 0.029*\"covid\" + 0.023*\"united\" + 0.022*\"stronger\" + 0.019*\"warning\" + 0.014*\"united_states\"'),\n",
       " (44,\n",
       "  '0.115*\"passengers\" + 0.060*\"february\" + 0.041*\"young\" + 0.037*\"based\" + 0.026*\"50\" + 0.025*\"two_weeks\" + 0.018*\"manufacturing\" + 0.017*\"sell\" + 0.017*\"prime\" + 0.014*\"17\"'),\n",
       " (4,\n",
       "  '0.058*\"covid19_vaccines\" + 0.040*\"strategy\" + 0.040*\"treatment\" + 0.038*\"lawsuit\" + 0.034*\"vaccines\" + 0.026*\"shortages\" + 0.023*\"focus\" + 0.020*\"moment\" + 0.019*\"announce\" + 0.017*\"version\"'),\n",
       " (40,\n",
       "  '0.037*\"production\" + 0.029*\"infections\" + 0.024*\"maker\" + 0.022*\"information\" + 0.022*\"without\" + 0.022*\"include\" + 0.020*\"decided\" + 0.017*\"hours\" + 0.016*\"breach\" + 0.016*\"fire\"'),\n",
       " (42,\n",
       "  '0.052*\"app\" + 0.047*\"store\" + 0.045*\"shooting\" + 0.038*\"man\" + 0.038*\"received\" + 0.032*\"calls\" + 0.029*\"security\" + 0.028*\"china\" + 0.023*\"hong\" + 0.022*\"law\"'),\n",
       " (31,\n",
       "  '0.074*\"covid19_vaccine\" + 0.054*\"booster\" + 0.052*\"shot\" + 0.047*\"shots\" + 0.043*\"vaccines\" + 0.035*\"7\" + 0.029*\"covid\" + 0.025*\"require\" + 0.024*\"booster_shots\" + 0.024*\"soon\"'),\n",
       " (5,\n",
       "  '0.046*\"breaking\" + 0.030*\"holiday\" + 0.026*\"season\" + 0.026*\"major\" + 0.023*\"news\" + 0.023*\"enough\" + 0.023*\"microsoft\" + 0.022*\"older\" + 0.021*\"israel\" + 0.020*\"regulators\"'),\n",
       " (47,\n",
       "  '0.031*\"variant\" + 0.031*\"national\" + 0.030*\"full\" + 0.027*\"members\" + 0.026*\"second\" + 0.023*\"shows\" + 0.022*\"nail\" + 0.022*\"toward\" + 0.021*\"step\" + 0.020*\"among\"'),\n",
       " (27,\n",
       "  '0.188*\"best\" + 0.039*\"netflix\" + 0.031*\"right\" + 0.031*\"amazon\" + 0.028*\"know\" + 0.026*\"service\" + 0.019*\"media\" + 0.019*\"video\" + 0.018*\"large\" + 0.016*\"years\"'),\n",
       " (48,\n",
       "  '0.078*\"fda\" + 0.063*\"2021\" + 0.040*\"expected\" + 0.032*\"5\" + 0.020*\"way\" + 0.020*\"days\" + 0.019*\"make\" + 0.018*\"access\" + 0.018*\"coming\" + 0.016*\"data\"'),\n",
       " (41,\n",
       "  '0.039*\"travel\" + 0.038*\"use\" + 0.037*\"two\" + 0.030*\"heres\" + 0.027*\"friday\" + 0.027*\"plane\" + 0.026*\"next\" + 0.024*\"emergency\" + 0.024*\"starting\" + 0.023*\"authorization\"'),\n",
       " (20,\n",
       "  '0.039*\"american\" + 0.033*\"target\" + 0.021*\"black\" + 0.021*\"getting\" + 0.019*\"end\" + 0.018*\"via\" + 0.017*\"trial\" + 0.017*\"take\" + 0.017*\"chief\" + 0.016*\"return\"'),\n",
       " (28,\n",
       "  '0.035*\"coronavirus\" + 0.033*\"pandemic\" + 0.027*\"could\" + 0.026*\"health\" + 0.024*\"world\" + 0.024*\"may\" + 0.023*\"company\" + 0.022*\"effective\" + 0.021*\"day\" + 0.017*\"demand\"'),\n",
       " (23,\n",
       "  '0.062*\"delta_air\" + 0.060*\"air_lines\" + 0.054*\"lines\" + 0.051*\"delta\" + 0.049*\"air\" + 0.032*\"vaccine\" + 0.030*\"buy\" + 0.027*\"covid19\" + 0.020*\"new\" + 0.020*\"says\"')]"
      ]
     },
     "execution_count": 83,
     "metadata": {},
     "output_type": "execute_result"
    }
   ],
   "source": [
    "print (\"Final Topics:\")\n",
    "topics"
   ]
  },
  {
   "cell_type": "code",
   "execution_count": 84,
   "id": "skilled-cameroon",
   "metadata": {},
   "outputs": [
    {
     "name": "stderr",
     "output_type": "stream",
     "text": [
      "c:\\users\\tuski\\appdata\\local\\programs\\python\\python39\\lib\\site-packages\\ipykernel\\ipkernel.py:283: DeprecationWarning: `should_run_async` will not call `transform_cell` automatically in the future. Please pass the result to `transformed_cell` argument and any exception that happen during thetransform in `preprocessing_exc_tuple` in IPython 7.17 and above.\n",
      "  and should_run_async(code)\n"
     ]
    }
   ],
   "source": [
    "scoresperdoc=lda_m6.inference(ldacorpus_m6)"
   ]
  },
  {
   "cell_type": "code",
   "execution_count": 85,
   "id": "assisted-gibraltar",
   "metadata": {},
   "outputs": [
    {
     "name": "stderr",
     "output_type": "stream",
     "text": [
      "c:\\users\\tuski\\appdata\\local\\programs\\python\\python39\\lib\\site-packages\\ipykernel\\ipkernel.py:283: DeprecationWarning: `should_run_async` will not call `transform_cell` automatically in the future. Please pass the result to `transformed_cell` argument and any exception that happen during thetransform in `preprocessing_exc_tuple` in IPython 7.17 and above.\n",
      "  and should_run_async(code)\n"
     ]
    },
    {
     "data": {
      "text/plain": [
       "38138"
      ]
     },
     "execution_count": 85,
     "metadata": {},
     "output_type": "execute_result"
    }
   ],
   "source": [
    "len(scoresperdoc[0])"
   ]
  },
  {
   "cell_type": "code",
   "execution_count": 104,
   "id": "accomplished-transition",
   "metadata": {},
   "outputs": [
    {
     "name": "stderr",
     "output_type": "stream",
     "text": [
      "c:\\users\\tuski\\appdata\\local\\programs\\python\\python39\\lib\\site-packages\\ipykernel\\ipkernel.py:283: DeprecationWarning: `should_run_async` will not call `transform_cell` automatically in the future. Please pass the result to `transformed_cell` argument and any exception that happen during thetransform in `preprocessing_exc_tuple` in IPython 7.17 and above.\n",
      "  and should_run_async(code)\n"
     ]
    },
    {
     "data": {
      "text/html": [
       "<div>\n",
       "<style scoped>\n",
       "    .dataframe tbody tr th:only-of-type {\n",
       "        vertical-align: middle;\n",
       "    }\n",
       "\n",
       "    .dataframe tbody tr th {\n",
       "        vertical-align: top;\n",
       "    }\n",
       "\n",
       "    .dataframe thead th {\n",
       "        text-align: right;\n",
       "    }\n",
       "</style>\n",
       "<table border=\"1\" class=\"dataframe\">\n",
       "  <thead>\n",
       "    <tr style=\"text-align: right;\">\n",
       "      <th></th>\n",
       "      <th>0</th>\n",
       "      <th>1</th>\n",
       "      <th>2</th>\n",
       "      <th>3</th>\n",
       "      <th>4</th>\n",
       "      <th>5</th>\n",
       "      <th>6</th>\n",
       "      <th>7</th>\n",
       "      <th>8</th>\n",
       "      <th>9</th>\n",
       "      <th>...</th>\n",
       "      <th>39</th>\n",
       "      <th>40</th>\n",
       "      <th>41</th>\n",
       "      <th>42</th>\n",
       "      <th>43</th>\n",
       "      <th>44</th>\n",
       "      <th>45</th>\n",
       "      <th>46</th>\n",
       "      <th>47</th>\n",
       "      <th>48</th>\n",
       "    </tr>\n",
       "  </thead>\n",
       "  <tbody>\n",
       "    <tr>\n",
       "      <th>0</th>\n",
       "      <td>1.074888</td>\n",
       "      <td>0.049223</td>\n",
       "      <td>0.082056</td>\n",
       "      <td>0.088322</td>\n",
       "      <td>0.065054</td>\n",
       "      <td>0.161616</td>\n",
       "      <td>0.047256</td>\n",
       "      <td>0.117966</td>\n",
       "      <td>0.125358</td>\n",
       "      <td>0.069225</td>\n",
       "      <td>...</td>\n",
       "      <td>0.082772</td>\n",
       "      <td>0.068392</td>\n",
       "      <td>0.241281</td>\n",
       "      <td>0.147856</td>\n",
       "      <td>0.085075</td>\n",
       "      <td>0.063868</td>\n",
       "      <td>0.082151</td>\n",
       "      <td>0.090792</td>\n",
       "      <td>0.183671</td>\n",
       "      <td>0.208462</td>\n",
       "    </tr>\n",
       "    <tr>\n",
       "      <th>1</th>\n",
       "      <td>1.074888</td>\n",
       "      <td>0.049223</td>\n",
       "      <td>0.082056</td>\n",
       "      <td>0.088322</td>\n",
       "      <td>0.065054</td>\n",
       "      <td>0.161616</td>\n",
       "      <td>0.047256</td>\n",
       "      <td>0.117966</td>\n",
       "      <td>0.125358</td>\n",
       "      <td>0.069225</td>\n",
       "      <td>...</td>\n",
       "      <td>0.082772</td>\n",
       "      <td>0.068392</td>\n",
       "      <td>0.241281</td>\n",
       "      <td>0.147856</td>\n",
       "      <td>0.085075</td>\n",
       "      <td>0.063868</td>\n",
       "      <td>0.082151</td>\n",
       "      <td>0.090792</td>\n",
       "      <td>0.183671</td>\n",
       "      <td>0.208462</td>\n",
       "    </tr>\n",
       "    <tr>\n",
       "      <th>2</th>\n",
       "      <td>1.074888</td>\n",
       "      <td>0.049223</td>\n",
       "      <td>0.082056</td>\n",
       "      <td>0.088322</td>\n",
       "      <td>0.065054</td>\n",
       "      <td>0.161616</td>\n",
       "      <td>0.047256</td>\n",
       "      <td>0.117966</td>\n",
       "      <td>0.125358</td>\n",
       "      <td>0.069225</td>\n",
       "      <td>...</td>\n",
       "      <td>0.082772</td>\n",
       "      <td>0.068392</td>\n",
       "      <td>0.241281</td>\n",
       "      <td>0.147856</td>\n",
       "      <td>0.085075</td>\n",
       "      <td>0.063868</td>\n",
       "      <td>0.082151</td>\n",
       "      <td>0.090792</td>\n",
       "      <td>0.183671</td>\n",
       "      <td>0.208462</td>\n",
       "    </tr>\n",
       "    <tr>\n",
       "      <th>3</th>\n",
       "      <td>1.074888</td>\n",
       "      <td>0.049223</td>\n",
       "      <td>0.082056</td>\n",
       "      <td>0.088322</td>\n",
       "      <td>0.065054</td>\n",
       "      <td>0.161616</td>\n",
       "      <td>0.047256</td>\n",
       "      <td>0.117966</td>\n",
       "      <td>0.125358</td>\n",
       "      <td>0.069225</td>\n",
       "      <td>...</td>\n",
       "      <td>0.082772</td>\n",
       "      <td>0.068392</td>\n",
       "      <td>0.241281</td>\n",
       "      <td>0.147856</td>\n",
       "      <td>0.085075</td>\n",
       "      <td>0.063868</td>\n",
       "      <td>0.082151</td>\n",
       "      <td>0.090792</td>\n",
       "      <td>0.183671</td>\n",
       "      <td>0.208462</td>\n",
       "    </tr>\n",
       "    <tr>\n",
       "      <th>4</th>\n",
       "      <td>0.075367</td>\n",
       "      <td>0.049223</td>\n",
       "      <td>0.082056</td>\n",
       "      <td>0.088322</td>\n",
       "      <td>0.065054</td>\n",
       "      <td>0.161618</td>\n",
       "      <td>0.047256</td>\n",
       "      <td>0.117966</td>\n",
       "      <td>0.125358</td>\n",
       "      <td>0.069225</td>\n",
       "      <td>...</td>\n",
       "      <td>0.082772</td>\n",
       "      <td>0.068392</td>\n",
       "      <td>0.263356</td>\n",
       "      <td>0.147856</td>\n",
       "      <td>0.085075</td>\n",
       "      <td>0.063868</td>\n",
       "      <td>0.082151</td>\n",
       "      <td>0.090790</td>\n",
       "      <td>0.183749</td>\n",
       "      <td>0.208462</td>\n",
       "    </tr>\n",
       "    <tr>\n",
       "      <th>...</th>\n",
       "      <td>...</td>\n",
       "      <td>...</td>\n",
       "      <td>...</td>\n",
       "      <td>...</td>\n",
       "      <td>...</td>\n",
       "      <td>...</td>\n",
       "      <td>...</td>\n",
       "      <td>...</td>\n",
       "      <td>...</td>\n",
       "      <td>...</td>\n",
       "      <td>...</td>\n",
       "      <td>...</td>\n",
       "      <td>...</td>\n",
       "      <td>...</td>\n",
       "      <td>...</td>\n",
       "      <td>...</td>\n",
       "      <td>...</td>\n",
       "      <td>...</td>\n",
       "      <td>...</td>\n",
       "      <td>...</td>\n",
       "      <td>...</td>\n",
       "    </tr>\n",
       "    <tr>\n",
       "      <th>38133</th>\n",
       "      <td>0.075367</td>\n",
       "      <td>0.049223</td>\n",
       "      <td>0.082056</td>\n",
       "      <td>0.088322</td>\n",
       "      <td>0.065054</td>\n",
       "      <td>0.161616</td>\n",
       "      <td>0.047256</td>\n",
       "      <td>0.117966</td>\n",
       "      <td>0.125358</td>\n",
       "      <td>0.069225</td>\n",
       "      <td>...</td>\n",
       "      <td>0.082772</td>\n",
       "      <td>0.068392</td>\n",
       "      <td>0.241273</td>\n",
       "      <td>0.147856</td>\n",
       "      <td>0.085075</td>\n",
       "      <td>0.063868</td>\n",
       "      <td>0.082151</td>\n",
       "      <td>1.090677</td>\n",
       "      <td>0.183683</td>\n",
       "      <td>0.208462</td>\n",
       "    </tr>\n",
       "    <tr>\n",
       "      <th>38134</th>\n",
       "      <td>0.075367</td>\n",
       "      <td>0.049223</td>\n",
       "      <td>0.082056</td>\n",
       "      <td>0.088322</td>\n",
       "      <td>0.065054</td>\n",
       "      <td>0.161616</td>\n",
       "      <td>0.047256</td>\n",
       "      <td>0.117966</td>\n",
       "      <td>0.125358</td>\n",
       "      <td>0.069225</td>\n",
       "      <td>...</td>\n",
       "      <td>0.082772</td>\n",
       "      <td>1.068229</td>\n",
       "      <td>0.241273</td>\n",
       "      <td>0.147856</td>\n",
       "      <td>0.085075</td>\n",
       "      <td>0.063868</td>\n",
       "      <td>0.082151</td>\n",
       "      <td>0.090790</td>\n",
       "      <td>1.186005</td>\n",
       "      <td>0.208462</td>\n",
       "    </tr>\n",
       "    <tr>\n",
       "      <th>38135</th>\n",
       "      <td>0.075367</td>\n",
       "      <td>0.049223</td>\n",
       "      <td>0.082056</td>\n",
       "      <td>0.088322</td>\n",
       "      <td>0.065054</td>\n",
       "      <td>0.161759</td>\n",
       "      <td>0.047256</td>\n",
       "      <td>0.117966</td>\n",
       "      <td>0.125453</td>\n",
       "      <td>0.069225</td>\n",
       "      <td>...</td>\n",
       "      <td>0.082772</td>\n",
       "      <td>0.068392</td>\n",
       "      <td>1.240971</td>\n",
       "      <td>0.147882</td>\n",
       "      <td>0.085075</td>\n",
       "      <td>1.063828</td>\n",
       "      <td>0.082151</td>\n",
       "      <td>0.090790</td>\n",
       "      <td>0.183676</td>\n",
       "      <td>0.208462</td>\n",
       "    </tr>\n",
       "    <tr>\n",
       "      <th>38136</th>\n",
       "      <td>0.075367</td>\n",
       "      <td>0.049223</td>\n",
       "      <td>0.082056</td>\n",
       "      <td>0.088322</td>\n",
       "      <td>0.065054</td>\n",
       "      <td>0.161616</td>\n",
       "      <td>0.047256</td>\n",
       "      <td>0.117967</td>\n",
       "      <td>1.125338</td>\n",
       "      <td>0.069225</td>\n",
       "      <td>...</td>\n",
       "      <td>1.082484</td>\n",
       "      <td>0.068392</td>\n",
       "      <td>1.270977</td>\n",
       "      <td>1.166870</td>\n",
       "      <td>1.109207</td>\n",
       "      <td>0.063868</td>\n",
       "      <td>0.082151</td>\n",
       "      <td>1.090647</td>\n",
       "      <td>1.225059</td>\n",
       "      <td>0.208462</td>\n",
       "    </tr>\n",
       "    <tr>\n",
       "      <th>38137</th>\n",
       "      <td>0.075367</td>\n",
       "      <td>0.049223</td>\n",
       "      <td>1.081565</td>\n",
       "      <td>0.088322</td>\n",
       "      <td>0.065054</td>\n",
       "      <td>1.161374</td>\n",
       "      <td>0.047256</td>\n",
       "      <td>0.117966</td>\n",
       "      <td>1.125205</td>\n",
       "      <td>0.069225</td>\n",
       "      <td>...</td>\n",
       "      <td>0.082772</td>\n",
       "      <td>0.068392</td>\n",
       "      <td>2.950723</td>\n",
       "      <td>1.725097</td>\n",
       "      <td>0.085075</td>\n",
       "      <td>1.063825</td>\n",
       "      <td>0.082151</td>\n",
       "      <td>0.090790</td>\n",
       "      <td>0.183675</td>\n",
       "      <td>0.209993</td>\n",
       "    </tr>\n",
       "  </tbody>\n",
       "</table>\n",
       "<p>38138 rows × 49 columns</p>\n",
       "</div>"
      ],
      "text/plain": [
       "             0         1         2         3         4         5         6   \\\n",
       "0      1.074888  0.049223  0.082056  0.088322  0.065054  0.161616  0.047256   \n",
       "1      1.074888  0.049223  0.082056  0.088322  0.065054  0.161616  0.047256   \n",
       "2      1.074888  0.049223  0.082056  0.088322  0.065054  0.161616  0.047256   \n",
       "3      1.074888  0.049223  0.082056  0.088322  0.065054  0.161616  0.047256   \n",
       "4      0.075367  0.049223  0.082056  0.088322  0.065054  0.161618  0.047256   \n",
       "...         ...       ...       ...       ...       ...       ...       ...   \n",
       "38133  0.075367  0.049223  0.082056  0.088322  0.065054  0.161616  0.047256   \n",
       "38134  0.075367  0.049223  0.082056  0.088322  0.065054  0.161616  0.047256   \n",
       "38135  0.075367  0.049223  0.082056  0.088322  0.065054  0.161759  0.047256   \n",
       "38136  0.075367  0.049223  0.082056  0.088322  0.065054  0.161616  0.047256   \n",
       "38137  0.075367  0.049223  1.081565  0.088322  0.065054  1.161374  0.047256   \n",
       "\n",
       "             7         8         9   ...        39        40        41  \\\n",
       "0      0.117966  0.125358  0.069225  ...  0.082772  0.068392  0.241281   \n",
       "1      0.117966  0.125358  0.069225  ...  0.082772  0.068392  0.241281   \n",
       "2      0.117966  0.125358  0.069225  ...  0.082772  0.068392  0.241281   \n",
       "3      0.117966  0.125358  0.069225  ...  0.082772  0.068392  0.241281   \n",
       "4      0.117966  0.125358  0.069225  ...  0.082772  0.068392  0.263356   \n",
       "...         ...       ...       ...  ...       ...       ...       ...   \n",
       "38133  0.117966  0.125358  0.069225  ...  0.082772  0.068392  0.241273   \n",
       "38134  0.117966  0.125358  0.069225  ...  0.082772  1.068229  0.241273   \n",
       "38135  0.117966  0.125453  0.069225  ...  0.082772  0.068392  1.240971   \n",
       "38136  0.117967  1.125338  0.069225  ...  1.082484  0.068392  1.270977   \n",
       "38137  0.117966  1.125205  0.069225  ...  0.082772  0.068392  2.950723   \n",
       "\n",
       "             42        43        44        45        46        47        48  \n",
       "0      0.147856  0.085075  0.063868  0.082151  0.090792  0.183671  0.208462  \n",
       "1      0.147856  0.085075  0.063868  0.082151  0.090792  0.183671  0.208462  \n",
       "2      0.147856  0.085075  0.063868  0.082151  0.090792  0.183671  0.208462  \n",
       "3      0.147856  0.085075  0.063868  0.082151  0.090792  0.183671  0.208462  \n",
       "4      0.147856  0.085075  0.063868  0.082151  0.090790  0.183749  0.208462  \n",
       "...         ...       ...       ...       ...       ...       ...       ...  \n",
       "38133  0.147856  0.085075  0.063868  0.082151  1.090677  0.183683  0.208462  \n",
       "38134  0.147856  0.085075  0.063868  0.082151  0.090790  1.186005  0.208462  \n",
       "38135  0.147882  0.085075  1.063828  0.082151  0.090790  0.183676  0.208462  \n",
       "38136  1.166870  1.109207  0.063868  0.082151  1.090647  1.225059  0.208462  \n",
       "38137  1.725097  0.085075  1.063825  0.082151  0.090790  0.183675  0.209993  \n",
       "\n",
       "[38138 rows x 49 columns]"
      ]
     },
     "execution_count": 104,
     "metadata": {},
     "output_type": "execute_result"
    }
   ],
   "source": [
    "df = pd.DataFrame.from_records(scoresperdoc[0])\n",
    "df\n",
    "#topic 23 has a very high score"
   ]
  },
  {
   "cell_type": "code",
   "execution_count": 99,
   "id": "alert-range",
   "metadata": {},
   "outputs": [
    {
     "name": "stderr",
     "output_type": "stream",
     "text": [
      "c:\\users\\tuski\\appdata\\local\\programs\\python\\python39\\lib\\site-packages\\ipykernel\\ipkernel.py:283: DeprecationWarning: `should_run_async` will not call `transform_cell` automatically in the future. Please pass the result to `transformed_cell` argument and any exception that happen during thetransform in `preprocessing_exc_tuple` in IPython 7.17 and above.\n",
      "  and should_run_async(code)\n"
     ]
    },
    {
     "data": {
      "text/html": [
       "<div>\n",
       "<style scoped>\n",
       "    .dataframe tbody tr th:only-of-type {\n",
       "        vertical-align: middle;\n",
       "    }\n",
       "\n",
       "    .dataframe tbody tr th {\n",
       "        vertical-align: top;\n",
       "    }\n",
       "\n",
       "    .dataframe thead th {\n",
       "        text-align: right;\n",
       "    }\n",
       "</style>\n",
       "<table border=\"1\" class=\"dataframe\">\n",
       "  <thead>\n",
       "    <tr style=\"text-align: right;\">\n",
       "      <th></th>\n",
       "      <th>0</th>\n",
       "      <th>1</th>\n",
       "      <th>2</th>\n",
       "      <th>3</th>\n",
       "      <th>4</th>\n",
       "      <th>5</th>\n",
       "      <th>6</th>\n",
       "      <th>7</th>\n",
       "      <th>8</th>\n",
       "      <th>9</th>\n",
       "      <th>...</th>\n",
       "      <th>39</th>\n",
       "      <th>40</th>\n",
       "      <th>41</th>\n",
       "      <th>42</th>\n",
       "      <th>43</th>\n",
       "      <th>44</th>\n",
       "      <th>45</th>\n",
       "      <th>46</th>\n",
       "      <th>47</th>\n",
       "      <th>48</th>\n",
       "    </tr>\n",
       "  </thead>\n",
       "  <tbody>\n",
       "    <tr>\n",
       "      <th>0</th>\n",
       "      <td>1</td>\n",
       "      <td>0</td>\n",
       "      <td>0</td>\n",
       "      <td>0</td>\n",
       "      <td>0</td>\n",
       "      <td>0</td>\n",
       "      <td>0</td>\n",
       "      <td>0</td>\n",
       "      <td>0</td>\n",
       "      <td>0</td>\n",
       "      <td>...</td>\n",
       "      <td>0</td>\n",
       "      <td>0</td>\n",
       "      <td>0</td>\n",
       "      <td>0</td>\n",
       "      <td>0</td>\n",
       "      <td>0</td>\n",
       "      <td>0</td>\n",
       "      <td>0</td>\n",
       "      <td>0</td>\n",
       "      <td>0</td>\n",
       "    </tr>\n",
       "    <tr>\n",
       "      <th>1</th>\n",
       "      <td>1</td>\n",
       "      <td>0</td>\n",
       "      <td>0</td>\n",
       "      <td>0</td>\n",
       "      <td>0</td>\n",
       "      <td>0</td>\n",
       "      <td>0</td>\n",
       "      <td>0</td>\n",
       "      <td>0</td>\n",
       "      <td>0</td>\n",
       "      <td>...</td>\n",
       "      <td>0</td>\n",
       "      <td>0</td>\n",
       "      <td>0</td>\n",
       "      <td>0</td>\n",
       "      <td>0</td>\n",
       "      <td>0</td>\n",
       "      <td>0</td>\n",
       "      <td>0</td>\n",
       "      <td>0</td>\n",
       "      <td>0</td>\n",
       "    </tr>\n",
       "    <tr>\n",
       "      <th>2</th>\n",
       "      <td>1</td>\n",
       "      <td>0</td>\n",
       "      <td>0</td>\n",
       "      <td>0</td>\n",
       "      <td>0</td>\n",
       "      <td>0</td>\n",
       "      <td>0</td>\n",
       "      <td>0</td>\n",
       "      <td>0</td>\n",
       "      <td>0</td>\n",
       "      <td>...</td>\n",
       "      <td>0</td>\n",
       "      <td>0</td>\n",
       "      <td>0</td>\n",
       "      <td>0</td>\n",
       "      <td>0</td>\n",
       "      <td>0</td>\n",
       "      <td>0</td>\n",
       "      <td>0</td>\n",
       "      <td>0</td>\n",
       "      <td>0</td>\n",
       "    </tr>\n",
       "    <tr>\n",
       "      <th>3</th>\n",
       "      <td>1</td>\n",
       "      <td>0</td>\n",
       "      <td>0</td>\n",
       "      <td>0</td>\n",
       "      <td>0</td>\n",
       "      <td>0</td>\n",
       "      <td>0</td>\n",
       "      <td>0</td>\n",
       "      <td>0</td>\n",
       "      <td>0</td>\n",
       "      <td>...</td>\n",
       "      <td>0</td>\n",
       "      <td>0</td>\n",
       "      <td>0</td>\n",
       "      <td>0</td>\n",
       "      <td>0</td>\n",
       "      <td>0</td>\n",
       "      <td>0</td>\n",
       "      <td>0</td>\n",
       "      <td>0</td>\n",
       "      <td>0</td>\n",
       "    </tr>\n",
       "    <tr>\n",
       "      <th>4</th>\n",
       "      <td>0</td>\n",
       "      <td>0</td>\n",
       "      <td>0</td>\n",
       "      <td>0</td>\n",
       "      <td>0</td>\n",
       "      <td>0</td>\n",
       "      <td>0</td>\n",
       "      <td>0</td>\n",
       "      <td>0</td>\n",
       "      <td>0</td>\n",
       "      <td>...</td>\n",
       "      <td>0</td>\n",
       "      <td>0</td>\n",
       "      <td>0</td>\n",
       "      <td>0</td>\n",
       "      <td>0</td>\n",
       "      <td>0</td>\n",
       "      <td>0</td>\n",
       "      <td>0</td>\n",
       "      <td>0</td>\n",
       "      <td>0</td>\n",
       "    </tr>\n",
       "    <tr>\n",
       "      <th>...</th>\n",
       "      <td>...</td>\n",
       "      <td>...</td>\n",
       "      <td>...</td>\n",
       "      <td>...</td>\n",
       "      <td>...</td>\n",
       "      <td>...</td>\n",
       "      <td>...</td>\n",
       "      <td>...</td>\n",
       "      <td>...</td>\n",
       "      <td>...</td>\n",
       "      <td>...</td>\n",
       "      <td>...</td>\n",
       "      <td>...</td>\n",
       "      <td>...</td>\n",
       "      <td>...</td>\n",
       "      <td>...</td>\n",
       "      <td>...</td>\n",
       "      <td>...</td>\n",
       "      <td>...</td>\n",
       "      <td>...</td>\n",
       "      <td>...</td>\n",
       "    </tr>\n",
       "    <tr>\n",
       "      <th>38133</th>\n",
       "      <td>0</td>\n",
       "      <td>0</td>\n",
       "      <td>0</td>\n",
       "      <td>0</td>\n",
       "      <td>0</td>\n",
       "      <td>0</td>\n",
       "      <td>0</td>\n",
       "      <td>0</td>\n",
       "      <td>0</td>\n",
       "      <td>0</td>\n",
       "      <td>...</td>\n",
       "      <td>0</td>\n",
       "      <td>0</td>\n",
       "      <td>0</td>\n",
       "      <td>0</td>\n",
       "      <td>0</td>\n",
       "      <td>0</td>\n",
       "      <td>0</td>\n",
       "      <td>1</td>\n",
       "      <td>0</td>\n",
       "      <td>0</td>\n",
       "    </tr>\n",
       "    <tr>\n",
       "      <th>38134</th>\n",
       "      <td>0</td>\n",
       "      <td>0</td>\n",
       "      <td>0</td>\n",
       "      <td>0</td>\n",
       "      <td>0</td>\n",
       "      <td>0</td>\n",
       "      <td>0</td>\n",
       "      <td>0</td>\n",
       "      <td>0</td>\n",
       "      <td>0</td>\n",
       "      <td>...</td>\n",
       "      <td>0</td>\n",
       "      <td>1</td>\n",
       "      <td>0</td>\n",
       "      <td>0</td>\n",
       "      <td>0</td>\n",
       "      <td>0</td>\n",
       "      <td>0</td>\n",
       "      <td>0</td>\n",
       "      <td>1</td>\n",
       "      <td>0</td>\n",
       "    </tr>\n",
       "    <tr>\n",
       "      <th>38135</th>\n",
       "      <td>0</td>\n",
       "      <td>0</td>\n",
       "      <td>0</td>\n",
       "      <td>0</td>\n",
       "      <td>0</td>\n",
       "      <td>0</td>\n",
       "      <td>0</td>\n",
       "      <td>0</td>\n",
       "      <td>0</td>\n",
       "      <td>0</td>\n",
       "      <td>...</td>\n",
       "      <td>0</td>\n",
       "      <td>0</td>\n",
       "      <td>1</td>\n",
       "      <td>0</td>\n",
       "      <td>0</td>\n",
       "      <td>1</td>\n",
       "      <td>0</td>\n",
       "      <td>0</td>\n",
       "      <td>0</td>\n",
       "      <td>0</td>\n",
       "    </tr>\n",
       "    <tr>\n",
       "      <th>38136</th>\n",
       "      <td>0</td>\n",
       "      <td>0</td>\n",
       "      <td>0</td>\n",
       "      <td>0</td>\n",
       "      <td>0</td>\n",
       "      <td>0</td>\n",
       "      <td>0</td>\n",
       "      <td>0</td>\n",
       "      <td>1</td>\n",
       "      <td>0</td>\n",
       "      <td>...</td>\n",
       "      <td>1</td>\n",
       "      <td>0</td>\n",
       "      <td>1</td>\n",
       "      <td>1</td>\n",
       "      <td>1</td>\n",
       "      <td>0</td>\n",
       "      <td>0</td>\n",
       "      <td>1</td>\n",
       "      <td>1</td>\n",
       "      <td>0</td>\n",
       "    </tr>\n",
       "    <tr>\n",
       "      <th>38137</th>\n",
       "      <td>0</td>\n",
       "      <td>0</td>\n",
       "      <td>1</td>\n",
       "      <td>0</td>\n",
       "      <td>0</td>\n",
       "      <td>1</td>\n",
       "      <td>0</td>\n",
       "      <td>0</td>\n",
       "      <td>1</td>\n",
       "      <td>0</td>\n",
       "      <td>...</td>\n",
       "      <td>0</td>\n",
       "      <td>0</td>\n",
       "      <td>1</td>\n",
       "      <td>1</td>\n",
       "      <td>0</td>\n",
       "      <td>1</td>\n",
       "      <td>0</td>\n",
       "      <td>0</td>\n",
       "      <td>0</td>\n",
       "      <td>0</td>\n",
       "    </tr>\n",
       "  </tbody>\n",
       "</table>\n",
       "<p>38138 rows × 49 columns</p>\n",
       "</div>"
      ],
      "text/plain": [
       "       0   1   2   3   4   5   6   7   8   9   ...  39  40  41  42  43  44  \\\n",
       "0       1   0   0   0   0   0   0   0   0   0  ...   0   0   0   0   0   0   \n",
       "1       1   0   0   0   0   0   0   0   0   0  ...   0   0   0   0   0   0   \n",
       "2       1   0   0   0   0   0   0   0   0   0  ...   0   0   0   0   0   0   \n",
       "3       1   0   0   0   0   0   0   0   0   0  ...   0   0   0   0   0   0   \n",
       "4       0   0   0   0   0   0   0   0   0   0  ...   0   0   0   0   0   0   \n",
       "...    ..  ..  ..  ..  ..  ..  ..  ..  ..  ..  ...  ..  ..  ..  ..  ..  ..   \n",
       "38133   0   0   0   0   0   0   0   0   0   0  ...   0   0   0   0   0   0   \n",
       "38134   0   0   0   0   0   0   0   0   0   0  ...   0   1   0   0   0   0   \n",
       "38135   0   0   0   0   0   0   0   0   0   0  ...   0   0   1   0   0   1   \n",
       "38136   0   0   0   0   0   0   0   0   1   0  ...   1   0   1   1   1   0   \n",
       "38137   0   0   1   0   0   1   0   0   1   0  ...   0   0   1   1   0   1   \n",
       "\n",
       "       45  46  47  48  \n",
       "0       0   0   0   0  \n",
       "1       0   0   0   0  \n",
       "2       0   0   0   0  \n",
       "3       0   0   0   0  \n",
       "4       0   0   0   0  \n",
       "...    ..  ..  ..  ..  \n",
       "38133   0   1   0   0  \n",
       "38134   0   0   1   0  \n",
       "38135   0   0   0   0  \n",
       "38136   0   1   1   0  \n",
       "38137   0   0   0   0  \n",
       "\n",
       "[38138 rows x 49 columns]"
      ]
     },
     "execution_count": 99,
     "metadata": {},
     "output_type": "execute_result"
    }
   ],
   "source": [
    "df = df.applymap(lambda x: int(x>1))\n",
    "df"
   ]
  },
  {
   "cell_type": "code",
   "execution_count": 100,
   "id": "level-officer",
   "metadata": {},
   "outputs": [
    {
     "name": "stderr",
     "output_type": "stream",
     "text": [
      "c:\\users\\tuski\\appdata\\local\\programs\\python\\python39\\lib\\site-packages\\ipykernel\\ipkernel.py:283: DeprecationWarning: `should_run_async` will not call `transform_cell` automatically in the future. Please pass the result to `transformed_cell` argument and any exception that happen during thetransform in `preprocessing_exc_tuple` in IPython 7.17 and above.\n",
      "  and should_run_async(code)\n"
     ]
    }
   ],
   "source": [
    "media_topic = media.merge(df, left_index=True, right_index=True)"
   ]
  },
  {
   "cell_type": "code",
   "execution_count": 101,
   "id": "czech-polyester",
   "metadata": {},
   "outputs": [
    {
     "name": "stderr",
     "output_type": "stream",
     "text": [
      "c:\\users\\tuski\\appdata\\local\\programs\\python\\python39\\lib\\site-packages\\ipykernel\\ipkernel.py:283: DeprecationWarning: `should_run_async` will not call `transform_cell` automatically in the future. Please pass the result to `transformed_cell` argument and any exception that happen during thetransform in `preprocessing_exc_tuple` in IPython 7.17 and above.\n",
      "  and should_run_async(code)\n"
     ]
    },
    {
     "data": {
      "text/html": [
       "<div>\n",
       "<style scoped>\n",
       "    .dataframe tbody tr th:only-of-type {\n",
       "        vertical-align: middle;\n",
       "    }\n",
       "\n",
       "    .dataframe tbody tr th {\n",
       "        vertical-align: top;\n",
       "    }\n",
       "\n",
       "    .dataframe thead th {\n",
       "        text-align: right;\n",
       "    }\n",
       "</style>\n",
       "<table border=\"1\" class=\"dataframe\">\n",
       "  <thead>\n",
       "    <tr style=\"text-align: right;\">\n",
       "      <th></th>\n",
       "      <th>created_at</th>\n",
       "      <th>text</th>\n",
       "      <th>id</th>\n",
       "      <th>author_id</th>\n",
       "      <th>lang</th>\n",
       "      <th>username</th>\n",
       "      <th>text_clean</th>\n",
       "      <th>source_media</th>\n",
       "      <th>0</th>\n",
       "      <th>1</th>\n",
       "      <th>...</th>\n",
       "      <th>39</th>\n",
       "      <th>40</th>\n",
       "      <th>41</th>\n",
       "      <th>42</th>\n",
       "      <th>43</th>\n",
       "      <th>44</th>\n",
       "      <th>45</th>\n",
       "      <th>46</th>\n",
       "      <th>47</th>\n",
       "      <th>48</th>\n",
       "    </tr>\n",
       "  </thead>\n",
       "  <tbody>\n",
       "    <tr>\n",
       "      <th>0</th>\n",
       "      <td>2021-12-31 12:06:05</td>\n",
       "      <td>'That was not the basis of the CDC's decision'...</td>\n",
       "      <td>1476887381336801280</td>\n",
       "      <td>2836421</td>\n",
       "      <td>en</td>\n",
       "      <td>MSNBC</td>\n",
       "      <td>that was not the basis of the cdcs decision dr...</td>\n",
       "      <td>1</td>\n",
       "      <td>1</td>\n",
       "      <td>0</td>\n",
       "      <td>...</td>\n",
       "      <td>0</td>\n",
       "      <td>0</td>\n",
       "      <td>0</td>\n",
       "      <td>0</td>\n",
       "      <td>0</td>\n",
       "      <td>0</td>\n",
       "      <td>0</td>\n",
       "      <td>0</td>\n",
       "      <td>0</td>\n",
       "      <td>0</td>\n",
       "    </tr>\n",
       "    <tr>\n",
       "      <th>1</th>\n",
       "      <td>2021-12-30 02:46:02</td>\n",
       "      <td>'That was not the basis of the CDC's decision'...</td>\n",
       "      <td>1476384051154112512</td>\n",
       "      <td>2836421</td>\n",
       "      <td>en</td>\n",
       "      <td>MSNBC</td>\n",
       "      <td>that was not the basis of the cdcs decision dr...</td>\n",
       "      <td>1</td>\n",
       "      <td>1</td>\n",
       "      <td>0</td>\n",
       "      <td>...</td>\n",
       "      <td>0</td>\n",
       "      <td>0</td>\n",
       "      <td>0</td>\n",
       "      <td>0</td>\n",
       "      <td>0</td>\n",
       "      <td>0</td>\n",
       "      <td>0</td>\n",
       "      <td>0</td>\n",
       "      <td>0</td>\n",
       "      <td>0</td>\n",
       "    </tr>\n",
       "    <tr>\n",
       "      <th>2</th>\n",
       "      <td>2021-12-29 13:31:07</td>\n",
       "      <td>'That was not the basis of the CDC's decision'...</td>\n",
       "      <td>1476184003526938624</td>\n",
       "      <td>2836421</td>\n",
       "      <td>en</td>\n",
       "      <td>MSNBC</td>\n",
       "      <td>that was not the basis of the cdcs decision dr...</td>\n",
       "      <td>1</td>\n",
       "      <td>1</td>\n",
       "      <td>0</td>\n",
       "      <td>...</td>\n",
       "      <td>0</td>\n",
       "      <td>0</td>\n",
       "      <td>0</td>\n",
       "      <td>0</td>\n",
       "      <td>0</td>\n",
       "      <td>0</td>\n",
       "      <td>0</td>\n",
       "      <td>0</td>\n",
       "      <td>0</td>\n",
       "      <td>0</td>\n",
       "    </tr>\n",
       "    <tr>\n",
       "      <th>3</th>\n",
       "      <td>2021-12-29 06:31:02</td>\n",
       "      <td>'That was not the basis of the CDC's decision'...</td>\n",
       "      <td>1476078288661581824</td>\n",
       "      <td>2836421</td>\n",
       "      <td>en</td>\n",
       "      <td>MSNBC</td>\n",
       "      <td>that was not the basis of the cdcs decision dr...</td>\n",
       "      <td>1</td>\n",
       "      <td>1</td>\n",
       "      <td>0</td>\n",
       "      <td>...</td>\n",
       "      <td>0</td>\n",
       "      <td>0</td>\n",
       "      <td>0</td>\n",
       "      <td>0</td>\n",
       "      <td>0</td>\n",
       "      <td>0</td>\n",
       "      <td>0</td>\n",
       "      <td>0</td>\n",
       "      <td>0</td>\n",
       "      <td>0</td>\n",
       "    </tr>\n",
       "    <tr>\n",
       "      <th>4</th>\n",
       "      <td>2021-08-25 19:34:01</td>\n",
       "      <td>Delta Air Lines CEO tells employees that they ...</td>\n",
       "      <td>1430614459077349376</td>\n",
       "      <td>2836421</td>\n",
       "      <td>en</td>\n",
       "      <td>MSNBC</td>\n",
       "      <td>delta air lines ceo tells employees that they ...</td>\n",
       "      <td>1</td>\n",
       "      <td>0</td>\n",
       "      <td>0</td>\n",
       "      <td>...</td>\n",
       "      <td>0</td>\n",
       "      <td>0</td>\n",
       "      <td>0</td>\n",
       "      <td>0</td>\n",
       "      <td>0</td>\n",
       "      <td>0</td>\n",
       "      <td>0</td>\n",
       "      <td>0</td>\n",
       "      <td>0</td>\n",
       "      <td>0</td>\n",
       "    </tr>\n",
       "  </tbody>\n",
       "</table>\n",
       "<p>5 rows × 57 columns</p>\n",
       "</div>"
      ],
      "text/plain": [
       "            created_at                                               text  \\\n",
       "0  2021-12-31 12:06:05  'That was not the basis of the CDC's decision'...   \n",
       "1  2021-12-30 02:46:02  'That was not the basis of the CDC's decision'...   \n",
       "2  2021-12-29 13:31:07  'That was not the basis of the CDC's decision'...   \n",
       "3  2021-12-29 06:31:02  'That was not the basis of the CDC's decision'...   \n",
       "4  2021-08-25 19:34:01  Delta Air Lines CEO tells employees that they ...   \n",
       "\n",
       "                    id  author_id lang username  \\\n",
       "0  1476887381336801280    2836421   en    MSNBC   \n",
       "1  1476384051154112512    2836421   en    MSNBC   \n",
       "2  1476184003526938624    2836421   en    MSNBC   \n",
       "3  1476078288661581824    2836421   en    MSNBC   \n",
       "4  1430614459077349376    2836421   en    MSNBC   \n",
       "\n",
       "                                          text_clean  source_media  0  1  ...  \\\n",
       "0  that was not the basis of the cdcs decision dr...             1  1  0  ...   \n",
       "1  that was not the basis of the cdcs decision dr...             1  1  0  ...   \n",
       "2  that was not the basis of the cdcs decision dr...             1  1  0  ...   \n",
       "3  that was not the basis of the cdcs decision dr...             1  1  0  ...   \n",
       "4  delta air lines ceo tells employees that they ...             1  0  0  ...   \n",
       "\n",
       "   39  40  41  42  43  44  45  46  47  48  \n",
       "0   0   0   0   0   0   0   0   0   0   0  \n",
       "1   0   0   0   0   0   0   0   0   0   0  \n",
       "2   0   0   0   0   0   0   0   0   0   0  \n",
       "3   0   0   0   0   0   0   0   0   0   0  \n",
       "4   0   0   0   0   0   0   0   0   0   0  \n",
       "\n",
       "[5 rows x 57 columns]"
      ]
     },
     "execution_count": 101,
     "metadata": {},
     "output_type": "execute_result"
    }
   ],
   "source": [
    "media_topic.head()"
   ]
  },
  {
   "cell_type": "code",
   "execution_count": 102,
   "id": "hydraulic-piano",
   "metadata": {},
   "outputs": [
    {
     "name": "stderr",
     "output_type": "stream",
     "text": [
      "c:\\users\\tuski\\appdata\\local\\programs\\python\\python39\\lib\\site-packages\\ipykernel\\ipkernel.py:283: DeprecationWarning: `should_run_async` will not call `transform_cell` automatically in the future. Please pass the result to `transformed_cell` argument and any exception that happen during thetransform in `preprocessing_exc_tuple` in IPython 7.17 and above.\n",
      "  and should_run_async(code)\n"
     ]
    }
   ],
   "source": [
    "media_topic.to_csv(\"media_topic_lda.csv\", sep = \",\")"
   ]
  },
  {
   "cell_type": "markdown",
   "id": "genetic-seventh",
   "metadata": {},
   "source": [
    "# Topic modeling  -  media"
   ]
  },
  {
   "cell_type": "code",
   "execution_count": null,
   "id": "treated-disclosure",
   "metadata": {},
   "outputs": [],
   "source": [
    "media = pd.read_csv(\"media_clean.csv\", header = 0, delimiter = \",\")\n",
    "media.drop(labels = [\"Unnamed: 0\"], axis = 1, inplace = True)\n",
    "media_text = media[\"text_clean\"].to_list() # get the preprocessed text for topic modeling"
   ]
  },
  {
   "cell_type": "code",
   "execution_count": null,
   "id": "undefined-devices",
   "metadata": {},
   "outputs": [],
   "source": [
    "media_text[:10]"
   ]
  },
  {
   "cell_type": "code",
   "execution_count": null,
   "id": "white-identifier",
   "metadata": {},
   "outputs": [],
   "source": [
    "vectorizer_model = CountVectorizer(ngram_range=(1, 3), stop_words=\"english\", min_df=5, max_df=.5) # custome the CountVectorizer"
   ]
  },
  {
   "cell_type": "code",
   "execution_count": null,
   "id": "political-earthquake",
   "metadata": {},
   "outputs": [],
   "source": [
    "hdbscan_model = HDBSCAN(min_cluster_size=10, min_samples=3) "
   ]
  },
  {
   "cell_type": "code",
   "execution_count": null,
   "id": "intellectual-ministry",
   "metadata": {},
   "outputs": [],
   "source": [
    "topic_model = BERTopic(vectorizer_model=vectorizer_model, calculate_probabilities=False, low_memory=True, verbose=True, \n",
    "                       nr_topics=\"auto\", diversity = 0.2, min_topic_size = 30, hdbscan_model=hdbscan_model) # create the topic model"
   ]
  },
  {
   "cell_type": "code",
   "execution_count": null,
   "id": "concrete-michael",
   "metadata": {},
   "outputs": [],
   "source": [
    "topics, probs = topic_model.fit_transform(media_text)"
   ]
  },
  {
   "cell_type": "code",
   "execution_count": null,
   "id": "demonstrated-bulgaria",
   "metadata": {},
   "outputs": [],
   "source": [
    "# min_samples=3\n",
    "topic_model.get_topic_info()"
   ]
  },
  {
   "cell_type": "code",
   "execution_count": null,
   "id": "third-cabin",
   "metadata": {},
   "outputs": [],
   "source": [
    "topic_model.get_topic(-1)"
   ]
  },
  {
   "cell_type": "code",
   "execution_count": null,
   "id": "nonprofit-dialogue",
   "metadata": {},
   "outputs": [],
   "source": [
    "topic_model.visualize_topics()"
   ]
  },
  {
   "cell_type": "code",
   "execution_count": null,
   "id": "unsigned-engagement",
   "metadata": {},
   "outputs": [],
   "source": [
    "topic_model.get_topic(1)"
   ]
  },
  {
   "cell_type": "code",
   "execution_count": null,
   "id": "boxed-sigma",
   "metadata": {},
   "outputs": [],
   "source": [
    "topic_model.get_representative_docs(1)"
   ]
  },
  {
   "cell_type": "code",
   "execution_count": null,
   "id": "hungarian-mauritius",
   "metadata": {},
   "outputs": [],
   "source": [
    "representative_docs = topic_model.get_representative_docs() #get representative docs for all topics, will return a dict"
   ]
  },
  {
   "cell_type": "code",
   "execution_count": null,
   "id": "massive-mandate",
   "metadata": {},
   "outputs": [],
   "source": [
    "df = pd.DataFrame.from_dict(representative_docs, orient ='index') \n",
    "df.head()"
   ]
  },
  {
   "cell_type": "code",
   "execution_count": null,
   "id": "selective-despite",
   "metadata": {},
   "outputs": [],
   "source": [
    "df.to_excel('media_representative_docs.xlsx')"
   ]
  },
  {
   "cell_type": "markdown",
   "id": "focused-japanese",
   "metadata": {},
   "source": [
    "### Dynamic topic modeling"
   ]
  },
  {
   "cell_type": "code",
   "execution_count": null,
   "id": "micro-cookie",
   "metadata": {},
   "outputs": [],
   "source": [
    "media.head()"
   ]
  },
  {
   "cell_type": "code",
   "execution_count": null,
   "id": "further-authorization",
   "metadata": {},
   "outputs": [],
   "source": [
    "timestamps = media.created_at.to_list()"
   ]
  },
  {
   "cell_type": "code",
   "execution_count": null,
   "id": "junior-mitchell",
   "metadata": {},
   "outputs": [],
   "source": [
    "topics_over_time = topic_model.topics_over_time(media_text, topics, timestamps, nr_bins=20)"
   ]
  },
  {
   "cell_type": "code",
   "execution_count": null,
   "id": "lyric-analysis",
   "metadata": {},
   "outputs": [],
   "source": [
    "topic_model.visualize_topics_over_time(topics_over_time, top_n_topics=10)"
   ]
  },
  {
   "cell_type": "markdown",
   "id": "framed-router",
   "metadata": {},
   "source": [
    "Save the topic and probability per doc to the original dataframe"
   ]
  },
  {
   "cell_type": "code",
   "execution_count": null,
   "id": "immediate-vampire",
   "metadata": {},
   "outputs": [],
   "source": [
    "media_topic = pd.DataFrame()"
   ]
  },
  {
   "cell_type": "code",
   "execution_count": null,
   "id": "distributed-schema",
   "metadata": {},
   "outputs": [],
   "source": [
    "media_topic['topic']  = topics\n",
    "media_topic['probs']  = probs"
   ]
  },
  {
   "cell_type": "code",
   "execution_count": null,
   "id": "tender-process",
   "metadata": {},
   "outputs": [],
   "source": [
    "media = media.join(media_topic)"
   ]
  },
  {
   "cell_type": "code",
   "execution_count": null,
   "id": "bored-loading",
   "metadata": {},
   "outputs": [],
   "source": [
    "media.head()"
   ]
  },
  {
   "cell_type": "code",
   "execution_count": null,
   "id": "quiet-adelaide",
   "metadata": {},
   "outputs": [],
   "source": [
    "media.to_csv(\"media_topic.csv\", sep = \",\")"
   ]
  },
  {
   "cell_type": "code",
   "execution_count": null,
   "id": "recognized-restaurant",
   "metadata": {},
   "outputs": [],
   "source": [
    "topic_model.save(\"media_model\") # save the model"
   ]
  },
  {
   "cell_type": "code",
   "execution_count": null,
   "id": "agreed-patio",
   "metadata": {},
   "outputs": [],
   "source": []
  },
  {
   "cell_type": "markdown",
   "id": "retired-garlic",
   "metadata": {},
   "source": [
    "### Other"
   ]
  },
  {
   "cell_type": "code",
   "execution_count": null,
   "id": "loose-password",
   "metadata": {},
   "outputs": [],
   "source": [
    "# manual = pd.read_excel('media_representative_docs.xlsx', index_col=0)\n",
    "\n",
    "# media_model = BERTopic.load(\"media_model\")"
   ]
  },
  {
   "cell_type": "markdown",
   "id": "compressed-candy",
   "metadata": {},
   "source": [
    "1. ```media_text = [str(text) for text in media_text if len(str(text)) > 0]```\n",
    "\n",
    "will report \"sequence item 0: expected str instance, float found\" if not do this\n",
    "but when using vectorizer should be fine\n",
    "https://githubhot.com/repo/MaartenGr/BERTopic/issues/259\n",
    "\n",
    "2. get topics and probabilities for each doc from a loaded model\n",
    "\n",
    "from: https://github.com/MaartenGr/BERTopic/issues/283\n",
    "\n",
    "3. If the model is a fresh one, no need to run the following codes, the topics and probs are already calculated:\n",
    "\n",
    "```topics = topic_model._map_predictions(topic_model.hdbscan_model.labels_)\n",
    "probs = topic_model.hdbscan_model.probabilities_```"
   ]
  }
 ],
 "metadata": {
  "kernelspec": {
   "display_name": "Python 3",
   "language": "python",
   "name": "python3"
  },
  "language_info": {
   "codemirror_mode": {
    "name": "ipython",
    "version": 3
   },
   "file_extension": ".py",
   "mimetype": "text/x-python",
   "name": "python",
   "nbconvert_exporter": "python",
   "pygments_lexer": "ipython3",
   "version": "3.9.1"
  }
 },
 "nbformat": 4,
 "nbformat_minor": 5
}
