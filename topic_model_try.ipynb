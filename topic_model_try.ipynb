{
 "cells": [
  {
   "cell_type": "code",
   "execution_count": 1,
   "id": "aware-memorabilia",
   "metadata": {},
   "outputs": [],
   "source": [
    "from bertopic import BERTopic\n",
    "from sklearn.feature_extraction.text import CountVectorizer\n",
    "import csv\n",
    "import pandas as pd\n",
    "from hdbscan import HDBSCAN\n",
    "from transformers import AutoModel\n",
    "from gensim.models.coherencemodel import CoherenceModel\n",
    "import gensim.corpora as corpora\n",
    "import nltk\n",
    "import random\n",
    "random.seed(\"ic2s2colgne\")\n",
    "import numpy as np"
   ]
  },
  {
   "cell_type": "code",
   "execution_count": 2,
   "id": "wireless-nirvana",
   "metadata": {},
   "outputs": [],
   "source": [
    "random.seed(2022)\n",
    "np.random.seed(2022)"
   ]
  },
  {
   "cell_type": "markdown",
   "id": "civil-valentine",
   "metadata": {},
   "source": [
    "### Datasets combination"
   ]
  },
  {
   "cell_type": "code",
   "execution_count": 3,
   "id": "productive-desktop",
   "metadata": {},
   "outputs": [],
   "source": [
    "media = pd.read_csv(\"media_clean.csv\", header = 0, delimiter = \",\")\n",
    "media.drop(labels = [\"Unnamed: 0\"], axis = 1, inplace = True)"
   ]
  },
  {
   "cell_type": "code",
   "execution_count": 4,
   "id": "structured-printing",
   "metadata": {},
   "outputs": [
    {
     "data": {
      "text/plain": [
       "38138"
      ]
     },
     "execution_count": 4,
     "metadata": {},
     "output_type": "execute_result"
    }
   ],
   "source": [
    "len(media)"
   ]
  },
  {
   "cell_type": "code",
   "execution_count": 5,
   "id": "robust-combat",
   "metadata": {},
   "outputs": [],
   "source": [
    "corporation = pd.read_csv(\"corporation_clean.csv\", header = 0, delimiter = \",\")\n",
    "corporation.drop(labels = [\"Unnamed: 0\"], axis = 1, inplace = True)"
   ]
  },
  {
   "cell_type": "code",
   "execution_count": 6,
   "id": "going-letter",
   "metadata": {},
   "outputs": [
    {
     "data": {
      "text/plain": [
       "161135"
      ]
     },
     "execution_count": 6,
     "metadata": {},
     "output_type": "execute_result"
    }
   ],
   "source": [
    "len(corporation)"
   ]
  },
  {
   "cell_type": "code",
   "execution_count": 7,
   "id": "stone-leadership",
   "metadata": {},
   "outputs": [],
   "source": [
    "media[\"source_media\"] = 1\n",
    "corporation[\"source_media\"] = 0"
   ]
  },
  {
   "cell_type": "code",
   "execution_count": 8,
   "id": "public-separation",
   "metadata": {},
   "outputs": [],
   "source": [
    "all_tweets = pd.concat([media, corporation], ignore_index=True)"
   ]
  },
  {
   "cell_type": "code",
   "execution_count": 9,
   "id": "thorough-profile",
   "metadata": {},
   "outputs": [
    {
     "data": {
      "text/plain": [
       "199273"
      ]
     },
     "execution_count": 9,
     "metadata": {},
     "output_type": "execute_result"
    }
   ],
   "source": [
    "len(all_tweets)"
   ]
  },
  {
   "cell_type": "code",
   "execution_count": 10,
   "id": "congressional-negotiation",
   "metadata": {},
   "outputs": [
    {
     "data": {
      "text/html": [
       "<div>\n",
       "<style scoped>\n",
       "    .dataframe tbody tr th:only-of-type {\n",
       "        vertical-align: middle;\n",
       "    }\n",
       "\n",
       "    .dataframe tbody tr th {\n",
       "        vertical-align: top;\n",
       "    }\n",
       "\n",
       "    .dataframe thead th {\n",
       "        text-align: right;\n",
       "    }\n",
       "</style>\n",
       "<table border=\"1\" class=\"dataframe\">\n",
       "  <thead>\n",
       "    <tr style=\"text-align: right;\">\n",
       "      <th></th>\n",
       "      <th>created_at</th>\n",
       "      <th>text</th>\n",
       "      <th>id</th>\n",
       "      <th>author_id</th>\n",
       "      <th>lang</th>\n",
       "      <th>username</th>\n",
       "      <th>text_clean</th>\n",
       "      <th>source_media</th>\n",
       "    </tr>\n",
       "  </thead>\n",
       "  <tbody>\n",
       "    <tr>\n",
       "      <th>0</th>\n",
       "      <td>2021-12-31 12:06:05</td>\n",
       "      <td>'That was not the basis of the CDC's decision'...</td>\n",
       "      <td>1476887381336801280</td>\n",
       "      <td>2836421</td>\n",
       "      <td>en</td>\n",
       "      <td>MSNBC</td>\n",
       "      <td>that was not the basis of the cdcs decision dr...</td>\n",
       "      <td>1</td>\n",
       "    </tr>\n",
       "    <tr>\n",
       "      <th>1</th>\n",
       "      <td>2021-12-30 02:46:02</td>\n",
       "      <td>'That was not the basis of the CDC's decision'...</td>\n",
       "      <td>1476384051154112512</td>\n",
       "      <td>2836421</td>\n",
       "      <td>en</td>\n",
       "      <td>MSNBC</td>\n",
       "      <td>that was not the basis of the cdcs decision dr...</td>\n",
       "      <td>1</td>\n",
       "    </tr>\n",
       "    <tr>\n",
       "      <th>2</th>\n",
       "      <td>2021-12-29 13:31:07</td>\n",
       "      <td>'That was not the basis of the CDC's decision'...</td>\n",
       "      <td>1476184003526938624</td>\n",
       "      <td>2836421</td>\n",
       "      <td>en</td>\n",
       "      <td>MSNBC</td>\n",
       "      <td>that was not the basis of the cdcs decision dr...</td>\n",
       "      <td>1</td>\n",
       "    </tr>\n",
       "    <tr>\n",
       "      <th>3</th>\n",
       "      <td>2021-12-29 06:31:02</td>\n",
       "      <td>'That was not the basis of the CDC's decision'...</td>\n",
       "      <td>1476078288661581824</td>\n",
       "      <td>2836421</td>\n",
       "      <td>en</td>\n",
       "      <td>MSNBC</td>\n",
       "      <td>that was not the basis of the cdcs decision dr...</td>\n",
       "      <td>1</td>\n",
       "    </tr>\n",
       "    <tr>\n",
       "      <th>4</th>\n",
       "      <td>2021-08-25 19:34:01</td>\n",
       "      <td>Delta Air Lines CEO tells employees that they ...</td>\n",
       "      <td>1430614459077349376</td>\n",
       "      <td>2836421</td>\n",
       "      <td>en</td>\n",
       "      <td>MSNBC</td>\n",
       "      <td>delta air lines ceo tells employees that they ...</td>\n",
       "      <td>1</td>\n",
       "    </tr>\n",
       "  </tbody>\n",
       "</table>\n",
       "</div>"
      ],
      "text/plain": [
       "            created_at                                               text  \\\n",
       "0  2021-12-31 12:06:05  'That was not the basis of the CDC's decision'...   \n",
       "1  2021-12-30 02:46:02  'That was not the basis of the CDC's decision'...   \n",
       "2  2021-12-29 13:31:07  'That was not the basis of the CDC's decision'...   \n",
       "3  2021-12-29 06:31:02  'That was not the basis of the CDC's decision'...   \n",
       "4  2021-08-25 19:34:01  Delta Air Lines CEO tells employees that they ...   \n",
       "\n",
       "                    id  author_id lang username  \\\n",
       "0  1476887381336801280    2836421   en    MSNBC   \n",
       "1  1476384051154112512    2836421   en    MSNBC   \n",
       "2  1476184003526938624    2836421   en    MSNBC   \n",
       "3  1476078288661581824    2836421   en    MSNBC   \n",
       "4  1430614459077349376    2836421   en    MSNBC   \n",
       "\n",
       "                                          text_clean  source_media  \n",
       "0  that was not the basis of the cdcs decision dr...             1  \n",
       "1  that was not the basis of the cdcs decision dr...             1  \n",
       "2  that was not the basis of the cdcs decision dr...             1  \n",
       "3  that was not the basis of the cdcs decision dr...             1  \n",
       "4  delta air lines ceo tells employees that they ...             1  "
      ]
     },
     "execution_count": 10,
     "metadata": {},
     "output_type": "execute_result"
    }
   ],
   "source": [
    "all_tweets.head()"
   ]
  },
  {
   "cell_type": "markdown",
   "id": "mobile-scale",
   "metadata": {},
   "source": [
    "### Sampling"
   ]
  },
  {
   "cell_type": "code",
   "execution_count": 11,
   "id": "straight-physics",
   "metadata": {},
   "outputs": [],
   "source": [
    "tryy = all_tweets.sample(40000, ignore_index = True)"
   ]
  },
  {
   "cell_type": "code",
   "execution_count": 12,
   "id": "boxed-variance",
   "metadata": {},
   "outputs": [],
   "source": [
    "text = tryy[\"text_clean\"].to_list()"
   ]
  },
  {
   "cell_type": "markdown",
   "id": "democratic-substance",
   "metadata": {},
   "source": [
    "### Reduce outliers"
   ]
  },
  {
   "cell_type": "markdown",
   "id": "computational-manitoba",
   "metadata": {},
   "source": [
    "**Reason for too many outliers**\n",
    "\n",
    "\"The reduced embeddings are clustering used HDBSCAN (McInnes et al., 2017). It is an extension of DBSCAN that finds clusters of varying\n",
    "densities by converting DBSCAN into a hierarchical clustering algorithm. HDBSCAN models clusters using a soft-clustering approach allowing noise to be modeled as outliers. This prevents unrelated documents to be assigned to any cluster and is expected to improve topic representations.‘Moreover, (Allaoui et al., 2020) demonstrated that reducing high dimensional embeddings with UMAP can improve the performance of well-known clustering algorithms, such as k-Means and HDBSCAN, both in terms of clustering accuracy and time.\"\n",
    "\n",
    "*from: Grootendorst, M. (2022). BERTopic: Neural topic modeling with a class-based TF-IDF procedure. arXiv preprint arXiv:2203.05794.*\n",
    "\n",
    "https://github.com/MaartenGr/BERTopic/issues/334\n",
    "\n",
    "\n",
    "Importantly HDBSCAN is noise aware – it has a notion of data samples that are not assigned to any cluster. This is handled by assigning these samples the label -1\n",
    "\n",
    "The amount of data classified as noise is controlled by the min_samples parameter. By default, if not otherwise set, this value is set to the same value as min_cluster_size. You can set it independently if you wish by specifying it separately. The lower the value, the less noise you’ll get\n",
    "https://hdbscan.readthedocs.io/en/latest/faq.html#q-most-of-data-is-classified-as-noise-why\n",
    "\n",
    "\n",
    "For hdbscan: \n",
    "- min_samples = the minimum number of neighbours to a core point.  The higher this is, the more points are going to be discarded as noise/outliers.\n",
    "- min_cluster_size = the minimum size a final cluster can be."
   ]
  },
  {
   "cell_type": "markdown",
   "id": "individual-sculpture",
   "metadata": {},
   "source": [
    "#### Original results"
   ]
  },
  {
   "cell_type": "code",
   "execution_count": 13,
   "id": "young-ambassador",
   "metadata": {},
   "outputs": [],
   "source": [
    "vectorizer_model = CountVectorizer(ngram_range=(1, 2), stop_words=\"english\", min_df=5, max_df=.5)"
   ]
  },
  {
   "cell_type": "code",
   "execution_count": 14,
   "id": "sharing-bonus",
   "metadata": {},
   "outputs": [],
   "source": [
    "topic_modela = BERTopic(vectorizer_model=vectorizer_model, calculate_probabilities=False, low_memory=True, verbose=True, \n",
    "                       nr_topics=\"auto\", diversity = 0.2, min_topic_size = 30)"
   ]
  },
  {
   "cell_type": "code",
   "execution_count": 18,
   "id": "smaller-moderator",
   "metadata": {},
   "outputs": [
    {
     "data": {
      "application/vnd.jupyter.widget-view+json": {
       "model_id": "b1a282c7805749c695bbd24c89198b37",
       "version_major": 2,
       "version_minor": 0
      },
      "text/plain": [
       "Batches:   0%|          | 0/1250 [00:00<?, ?it/s]"
      ]
     },
     "metadata": {},
     "output_type": "display_data"
    },
    {
     "name": "stderr",
     "output_type": "stream",
     "text": [
      "2022-06-08 17:59:24,826 - BERTopic - Transformed documents to Embeddings\n",
      "2022-06-08 17:59:53,873 - BERTopic - Reduced dimensionality\n",
      "2022-06-08 17:59:58,101 - BERTopic - Clustered reduced embeddings\n",
      "2022-06-08 18:00:24,114 - BERTopic - Reduced number of topics from 184 to 30\n"
     ]
    }
   ],
   "source": [
    "topics, probs = topic_modela.fit_transform(text)"
   ]
  },
  {
   "cell_type": "code",
   "execution_count": 19,
   "id": "laden-independence",
   "metadata": {},
   "outputs": [
    {
     "data": {
      "text/html": [
       "<div>\n",
       "<style scoped>\n",
       "    .dataframe tbody tr th:only-of-type {\n",
       "        vertical-align: middle;\n",
       "    }\n",
       "\n",
       "    .dataframe tbody tr th {\n",
       "        vertical-align: top;\n",
       "    }\n",
       "\n",
       "    .dataframe thead th {\n",
       "        text-align: right;\n",
       "    }\n",
       "</style>\n",
       "<table border=\"1\" class=\"dataframe\">\n",
       "  <thead>\n",
       "    <tr style=\"text-align: right;\">\n",
       "      <th></th>\n",
       "      <th>Topic</th>\n",
       "      <th>Count</th>\n",
       "      <th>Name</th>\n",
       "    </tr>\n",
       "  </thead>\n",
       "  <tbody>\n",
       "    <tr>\n",
       "      <th>0</th>\n",
       "      <td>0</td>\n",
       "      <td>19627</td>\n",
       "      <td>0_covid19_vaccine_data_card</td>\n",
       "    </tr>\n",
       "    <tr>\n",
       "      <th>1</th>\n",
       "      <td>-1</td>\n",
       "      <td>17399</td>\n",
       "      <td>-1_covid19_health_tech_amazon</td>\n",
       "    </tr>\n",
       "    <tr>\n",
       "      <th>2</th>\n",
       "      <td>1</td>\n",
       "      <td>328</td>\n",
       "      <td>1_happy_holiday_christmas_holiday season</td>\n",
       "    </tr>\n",
       "    <tr>\n",
       "      <th>3</th>\n",
       "      <td>2</td>\n",
       "      <td>321</td>\n",
       "      <td>2_students_teachers_education_schools</td>\n",
       "    </tr>\n",
       "    <tr>\n",
       "      <th>4</th>\n",
       "      <td>3</td>\n",
       "      <td>313</td>\n",
       "      <td>3_women_gender_womens_leadership</td>\n",
       "    </tr>\n",
       "    <tr>\n",
       "      <th>5</th>\n",
       "      <td>4</td>\n",
       "      <td>278</td>\n",
       "      <td>4_airlines_flight_southwest_max</td>\n",
       "    </tr>\n",
       "    <tr>\n",
       "      <th>6</th>\n",
       "      <td>5</td>\n",
       "      <td>220</td>\n",
       "      <td>5_diversity_diversity inclusion_workplace_equi...</td>\n",
       "    </tr>\n",
       "    <tr>\n",
       "      <th>7</th>\n",
       "      <td>6</td>\n",
       "      <td>173</td>\n",
       "      <td>6_retirement_income_tiaa_savings</td>\n",
       "    </tr>\n",
       "    <tr>\n",
       "      <th>8</th>\n",
       "      <td>7</td>\n",
       "      <td>131</td>\n",
       "      <td>7_giving_donate_grants_donating</td>\n",
       "    </tr>\n",
       "    <tr>\n",
       "      <th>9</th>\n",
       "      <td>8</td>\n",
       "      <td>100</td>\n",
       "      <td>8_kkr_real estate_estate_equity</td>\n",
       "    </tr>\n",
       "    <tr>\n",
       "      <th>10</th>\n",
       "      <td>9</td>\n",
       "      <td>91</td>\n",
       "      <td>9_accessible_inclusion_awareness_employment</td>\n",
       "    </tr>\n",
       "    <tr>\n",
       "      <th>11</th>\n",
       "      <td>10</td>\n",
       "      <td>86</td>\n",
       "      <td>10_supplychain_supply_chains_disruptions</td>\n",
       "    </tr>\n",
       "    <tr>\n",
       "      <th>12</th>\n",
       "      <td>11</td>\n",
       "      <td>74</td>\n",
       "      <td>11_tree_plant_academy_nature</td>\n",
       "    </tr>\n",
       "    <tr>\n",
       "      <th>13</th>\n",
       "      <td>12</td>\n",
       "      <td>73</td>\n",
       "      <td>12_olympic_dallas_turned_american</td>\n",
       "    </tr>\n",
       "    <tr>\n",
       "      <th>15</th>\n",
       "      <td>13</td>\n",
       "      <td>72</td>\n",
       "      <td>13_career_businesses_ct_cdw</td>\n",
       "    </tr>\n",
       "    <tr>\n",
       "      <th>14</th>\n",
       "      <td>14</td>\n",
       "      <td>72</td>\n",
       "      <td>14_mask_wear_travelers_require</td>\n",
       "    </tr>\n",
       "    <tr>\n",
       "      <th>16</th>\n",
       "      <td>15</td>\n",
       "      <td>68</td>\n",
       "      <td>15_riding_tradition_adventure_gift</td>\n",
       "    </tr>\n",
       "    <tr>\n",
       "      <th>17</th>\n",
       "      <td>16</td>\n",
       "      <td>62</td>\n",
       "      <td>16_travel_wednesday_trip_chat</td>\n",
       "    </tr>\n",
       "    <tr>\n",
       "      <th>18</th>\n",
       "      <td>17</td>\n",
       "      <td>57</td>\n",
       "      <td>17_interns_summer_students_programs</td>\n",
       "    </tr>\n",
       "    <tr>\n",
       "      <th>19</th>\n",
       "      <td>18</td>\n",
       "      <td>49</td>\n",
       "      <td>18_insurance_welcoming_ally_proud sponsor</td>\n",
       "    </tr>\n",
       "    <tr>\n",
       "      <th>20</th>\n",
       "      <td>19</td>\n",
       "      <td>47</td>\n",
       "      <td>19_esg_investors_sustainability_investment</td>\n",
       "    </tr>\n",
       "    <tr>\n",
       "      <th>21</th>\n",
       "      <td>20</td>\n",
       "      <td>46</td>\n",
       "      <td>20_resilience_resilient_chief operating_operat...</td>\n",
       "    </tr>\n",
       "    <tr>\n",
       "      <th>22</th>\n",
       "      <td>21</td>\n",
       "      <td>45</td>\n",
       "      <td>21_walma_delivery_gap_tuition</td>\n",
       "    </tr>\n",
       "    <tr>\n",
       "      <th>23</th>\n",
       "      <td>22</td>\n",
       "      <td>43</td>\n",
       "      <td>22_transformation_digital_leadership_initiatives</td>\n",
       "    </tr>\n",
       "    <tr>\n",
       "      <th>24</th>\n",
       "      <td>23</td>\n",
       "      <td>42</td>\n",
       "      <td>23_wireless_sound_speakers_music</td>\n",
       "    </tr>\n",
       "    <tr>\n",
       "      <th>25</th>\n",
       "      <td>24</td>\n",
       "      <td>41</td>\n",
       "      <td>24_games_strength_challenge_spo</td>\n",
       "    </tr>\n",
       "    <tr>\n",
       "      <th>26</th>\n",
       "      <td>25</td>\n",
       "      <td>40</td>\n",
       "      <td>25_diabetes_app_affordability_adults</td>\n",
       "    </tr>\n",
       "    <tr>\n",
       "      <th>27</th>\n",
       "      <td>26</td>\n",
       "      <td>37</td>\n",
       "      <td>26_bills_easier_monthly_payment</td>\n",
       "    </tr>\n",
       "    <tr>\n",
       "      <th>28</th>\n",
       "      <td>27</td>\n",
       "      <td>34</td>\n",
       "      <td>27_colgate_health_teeth_healthier</td>\n",
       "    </tr>\n",
       "    <tr>\n",
       "      <th>29</th>\n",
       "      <td>28</td>\n",
       "      <td>31</td>\n",
       "      <td>28_dont miss_miss_conversations_bloomberg</td>\n",
       "    </tr>\n",
       "  </tbody>\n",
       "</table>\n",
       "</div>"
      ],
      "text/plain": [
       "    Topic  Count                                               Name\n",
       "0       0  19627                        0_covid19_vaccine_data_card\n",
       "1      -1  17399                      -1_covid19_health_tech_amazon\n",
       "2       1    328           1_happy_holiday_christmas_holiday season\n",
       "3       2    321              2_students_teachers_education_schools\n",
       "4       3    313                   3_women_gender_womens_leadership\n",
       "5       4    278                    4_airlines_flight_southwest_max\n",
       "6       5    220  5_diversity_diversity inclusion_workplace_equi...\n",
       "7       6    173                   6_retirement_income_tiaa_savings\n",
       "8       7    131                    7_giving_donate_grants_donating\n",
       "9       8    100                    8_kkr_real estate_estate_equity\n",
       "10      9     91        9_accessible_inclusion_awareness_employment\n",
       "11     10     86           10_supplychain_supply_chains_disruptions\n",
       "12     11     74                       11_tree_plant_academy_nature\n",
       "13     12     73                  12_olympic_dallas_turned_american\n",
       "15     13     72                        13_career_businesses_ct_cdw\n",
       "14     14     72                     14_mask_wear_travelers_require\n",
       "16     15     68                 15_riding_tradition_adventure_gift\n",
       "17     16     62                      16_travel_wednesday_trip_chat\n",
       "18     17     57                17_interns_summer_students_programs\n",
       "19     18     49          18_insurance_welcoming_ally_proud sponsor\n",
       "20     19     47         19_esg_investors_sustainability_investment\n",
       "21     20     46  20_resilience_resilient_chief operating_operat...\n",
       "22     21     45                      21_walma_delivery_gap_tuition\n",
       "23     22     43   22_transformation_digital_leadership_initiatives\n",
       "24     23     42                   23_wireless_sound_speakers_music\n",
       "25     24     41                    24_games_strength_challenge_spo\n",
       "26     25     40               25_diabetes_app_affordability_adults\n",
       "27     26     37                    26_bills_easier_monthly_payment\n",
       "28     27     34                  27_colgate_health_teeth_healthier\n",
       "29     28     31          28_dont miss_miss_conversations_bloomberg"
      ]
     },
     "execution_count": 19,
     "metadata": {},
     "output_type": "execute_result"
    }
   ],
   "source": [
    "topic_modela.get_topic_info()"
   ]
  },
  {
   "cell_type": "code",
   "execution_count": 20,
   "id": "spread-special",
   "metadata": {},
   "outputs": [
    {
     "data": {
      "text/plain": [
       "[('covid19', 0.009876706346381565),\n",
       " ('health', 0.00819433643380386),\n",
       " ('tech', 0.008175962714220534),\n",
       " ('amazon', 0.007418425884371932),\n",
       " ('financial', 0.007244041964170928),\n",
       " ('communities', 0.007011570898784041),\n",
       " ('game', 0.0069204995394863515),\n",
       " ('sta', 0.006908631436662869),\n",
       " ('service', 0.006454063777933257),\n",
       " ('episode', 0.006409802180186001)]"
      ]
     },
     "execution_count": 20,
     "metadata": {},
     "output_type": "execute_result"
    }
   ],
   "source": [
    "topic_modela.get_topic(-1)\n",
    "# all_tweets[\"text_clean\"][all_tweets['topic'] == -1].to_list()[:10]"
   ]
  },
  {
   "cell_type": "code",
   "execution_count": 21,
   "id": "fifth-disclosure",
   "metadata": {},
   "outputs": [],
   "source": [
    "# Calculate cohenrence\n",
    "text_bigrams = [[\" \".join(tup) for tup in nltk.ngrams(n.split(),2)] for n in text]"
   ]
  },
  {
   "cell_type": "code",
   "execution_count": 22,
   "id": "tested-stuff",
   "metadata": {},
   "outputs": [],
   "source": [
    "assert len(text)==len(text_bigrams)\n",
    "text_uniandbigrams = []\n",
    "for a,b in zip([n.split() for n in text],text_bigrams):\n",
    "    text_uniandbigrams.append(a + b)"
   ]
  },
  {
   "cell_type": "code",
   "execution_count": 23,
   "id": "painful-upper",
   "metadata": {},
   "outputs": [],
   "source": [
    "id2word = corpora.Dictionary(text_uniandbigrams)\n",
    "corpus = [id2word.doc2bow(text) for text in text_uniandbigrams]"
   ]
  },
  {
   "cell_type": "code",
   "execution_count": 24,
   "id": "herbal-difference",
   "metadata": {},
   "outputs": [],
   "source": [
    "topics=[]\n",
    "for i in topic_modela.get_topics():\n",
    "    row=[]\n",
    "    topic= topic_modela.get_topic(i)\n",
    "    for word in topic:\n",
    "        row.append(word[0])\n",
    "        topics.append(row)"
   ]
  },
  {
   "cell_type": "code",
   "execution_count": 25,
   "id": "possible-hygiene",
   "metadata": {},
   "outputs": [
    {
     "name": "stdout",
     "output_type": "stream",
     "text": [
      "\n",
      "Coherence Score:  -10.136064900148764\n"
     ]
    }
   ],
   "source": [
    "cma = CoherenceModel(topics=topics, texts=text_uniandbigrams, corpus=corpus, dictionary=id2word, coherence='u_mass')\n",
    "coherence = cma.get_coherence() \n",
    "print('\\nCoherence Score: ', coherence)"
   ]
  },
  {
   "cell_type": "markdown",
   "id": "color-advisory",
   "metadata": {},
   "source": [
    "#### Option1: fine tune the hdbscan model\n",
    "- can reduce the outliers, but generate more topics (min_topic_size stops working)\n",
    "- Force texts go to topics will lower the coherence"
   ]
  },
  {
   "cell_type": "code",
   "execution_count": 26,
   "id": "linear-identification",
   "metadata": {},
   "outputs": [],
   "source": [
    "hdbscan_model = HDBSCAN(min_samples=5)"
   ]
  },
  {
   "cell_type": "code",
   "execution_count": 27,
   "id": "separated-appraisal",
   "metadata": {},
   "outputs": [],
   "source": [
    "topic_modelb = BERTopic(vectorizer_model=vectorizer_model, hdbscan_model=hdbscan_model, calculate_probabilities=False, low_memory=True, verbose=True, \n",
    "                       nr_topics=\"auto\", diversity = 0.2, min_topic_size = 30)"
   ]
  },
  {
   "cell_type": "code",
   "execution_count": 28,
   "id": "urban-forward",
   "metadata": {},
   "outputs": [
    {
     "data": {
      "application/vnd.jupyter.widget-view+json": {
       "model_id": "e694664402554501a003534ebbb8dc9c",
       "version_major": 2,
       "version_minor": 0
      },
      "text/plain": [
       "Batches:   0%|          | 0/1250 [00:00<?, ?it/s]"
      ]
     },
     "metadata": {},
     "output_type": "display_data"
    },
    {
     "name": "stderr",
     "output_type": "stream",
     "text": [
      "2022-06-08 18:16:19,959 - BERTopic - Transformed documents to Embeddings\n",
      "2022-06-08 18:16:38,504 - BERTopic - Reduced dimensionality\n",
      "2022-06-08 18:16:42,491 - BERTopic - Clustered reduced embeddings\n",
      "2022-06-08 18:20:33,115 - BERTopic - Reduced number of topics from 1269 to 822\n"
     ]
    }
   ],
   "source": [
    "topics, probs = topic_modelb.fit_transform(text)"
   ]
  },
  {
   "cell_type": "code",
   "execution_count": 29,
   "id": "married-iraqi",
   "metadata": {},
   "outputs": [
    {
     "data": {
      "text/html": [
       "<div>\n",
       "<style scoped>\n",
       "    .dataframe tbody tr th:only-of-type {\n",
       "        vertical-align: middle;\n",
       "    }\n",
       "\n",
       "    .dataframe tbody tr th {\n",
       "        vertical-align: top;\n",
       "    }\n",
       "\n",
       "    .dataframe thead th {\n",
       "        text-align: right;\n",
       "    }\n",
       "</style>\n",
       "<table border=\"1\" class=\"dataframe\">\n",
       "  <thead>\n",
       "    <tr style=\"text-align: right;\">\n",
       "      <th></th>\n",
       "      <th>Topic</th>\n",
       "      <th>Count</th>\n",
       "      <th>Name</th>\n",
       "    </tr>\n",
       "  </thead>\n",
       "  <tbody>\n",
       "    <tr>\n",
       "      <th>0</th>\n",
       "      <td>-1</td>\n",
       "      <td>15161</td>\n",
       "      <td>-1_amp_pandemic_work_join</td>\n",
       "    </tr>\n",
       "    <tr>\n",
       "      <th>1</th>\n",
       "      <td>0</td>\n",
       "      <td>741</td>\n",
       "      <td>0_vaccine_covid19 vaccine_vaccines_covid19</td>\n",
       "    </tr>\n",
       "    <tr>\n",
       "      <th>2</th>\n",
       "      <td>1</td>\n",
       "      <td>661</td>\n",
       "      <td>1_cash_fee_banking_visa</td>\n",
       "    </tr>\n",
       "    <tr>\n",
       "      <th>3</th>\n",
       "      <td>2</td>\n",
       "      <td>394</td>\n",
       "      <td>2_boeing_airlines_american airlines_aircraft</td>\n",
       "    </tr>\n",
       "    <tr>\n",
       "      <th>4</th>\n",
       "      <td>3</td>\n",
       "      <td>355</td>\n",
       "      <td>3_netflix_vegas_las vegas_new netflix</td>\n",
       "    </tr>\n",
       "    <tr>\n",
       "      <th>...</th>\n",
       "      <td>...</td>\n",
       "      <td>...</td>\n",
       "      <td>...</td>\n",
       "    </tr>\n",
       "    <tr>\n",
       "      <th>796</th>\n",
       "      <td>816</td>\n",
       "      <td>5</td>\n",
       "      <td>816_employees committed_hardworking_day today_...</td>\n",
       "    </tr>\n",
       "    <tr>\n",
       "      <th>797</th>\n",
       "      <td>817</td>\n",
       "      <td>5</td>\n",
       "      <td>817_plans expand_impact repo_foundations_susta...</td>\n",
       "    </tr>\n",
       "    <tr>\n",
       "      <th>798</th>\n",
       "      <td>818</td>\n",
       "      <td>5</td>\n",
       "      <td>818_togetherness_digital capabilities_minneapo...</td>\n",
       "    </tr>\n",
       "    <tr>\n",
       "      <th>799</th>\n",
       "      <td>819</td>\n",
       "      <td>5</td>\n",
       "      <td>819_spencer_mental wellbeing_pulse_steps taking</td>\n",
       "    </tr>\n",
       "    <tr>\n",
       "      <th>821</th>\n",
       "      <td>820</td>\n",
       "      <td>5</td>\n",
       "      <td>820_crews_dedication_officer lisa_work amp</td>\n",
       "    </tr>\n",
       "  </tbody>\n",
       "</table>\n",
       "<p>822 rows × 3 columns</p>\n",
       "</div>"
      ],
      "text/plain": [
       "     Topic  Count                                               Name\n",
       "0       -1  15161                          -1_amp_pandemic_work_join\n",
       "1        0    741         0_vaccine_covid19 vaccine_vaccines_covid19\n",
       "2        1    661                            1_cash_fee_banking_visa\n",
       "3        2    394       2_boeing_airlines_american airlines_aircraft\n",
       "4        3    355              3_netflix_vegas_las vegas_new netflix\n",
       "..     ...    ...                                                ...\n",
       "796    816      5  816_employees committed_hardworking_day today_...\n",
       "797    817      5  817_plans expand_impact repo_foundations_susta...\n",
       "798    818      5  818_togetherness_digital capabilities_minneapo...\n",
       "799    819      5    819_spencer_mental wellbeing_pulse_steps taking\n",
       "821    820      5         820_crews_dedication_officer lisa_work amp\n",
       "\n",
       "[822 rows x 3 columns]"
      ]
     },
     "execution_count": 29,
     "metadata": {},
     "output_type": "execute_result"
    }
   ],
   "source": [
    "topic_modelb.get_topic_info()"
   ]
  },
  {
   "cell_type": "code",
   "execution_count": 30,
   "id": "alien-trust",
   "metadata": {},
   "outputs": [
    {
     "data": {
      "text/plain": [
       "[('amp', 0.001280847923530813),\n",
       " ('pandemic', 0.0011384250234501736),\n",
       " ('work', 0.0011383323648571913),\n",
       " ('join', 0.0011080656436283454),\n",
       " ('day', 0.001090624688410012),\n",
       " ('cloud', 0.0010793524028327793),\n",
       " ('ceo', 0.0010634773733559557),\n",
       " ('suppo', 0.001022915152561685),\n",
       " ('industry', 0.001017115484560298),\n",
       " ('tech', 0.0010029119883239233)]"
      ]
     },
     "execution_count": 30,
     "metadata": {},
     "output_type": "execute_result"
    }
   ],
   "source": [
    "# Investigate the outliers\n",
    "topic_modelb.get_topic(-1)"
   ]
  },
  {
   "cell_type": "code",
   "execution_count": 31,
   "id": "curious-actor",
   "metadata": {},
   "outputs": [],
   "source": [
    "topics=[]\n",
    "for i in topic_modelb.get_topics():\n",
    "    row=[]\n",
    "    topic= topic_modelb.get_topic(i)\n",
    "    for word in topic:\n",
    "        row.append(word[0])\n",
    "        topics.append(row)"
   ]
  },
  {
   "cell_type": "code",
   "execution_count": 32,
   "id": "northern-letters",
   "metadata": {},
   "outputs": [
    {
     "name": "stdout",
     "output_type": "stream",
     "text": [
      "\n",
      "Coherence Score:  -12.15737822900106\n"
     ]
    }
   ],
   "source": [
    "cmb = CoherenceModel(topics=topics, texts=text_uniandbigrams, corpus=corpus, dictionary=id2word, coherence='u_mass')\n",
    "coherence = cmb.get_coherence() \n",
    "print('\\nCoherence Score: ', coherence)"
   ]
  },
  {
   "cell_type": "markdown",
   "id": "monetary-recycling",
   "metadata": {},
   "source": [
    "#### Option2: fine tune the transformer model"
   ]
  },
  {
   "cell_type": "code",
   "execution_count": 33,
   "id": "ongoing-token",
   "metadata": {},
   "outputs": [
    {
     "data": {
      "application/vnd.jupyter.widget-view+json": {
       "model_id": "5fd40089f3bb4c75a5b7dfab4ef3684f",
       "version_major": 2,
       "version_minor": 0
      },
      "text/plain": [
       "Downloading:   0%|          | 0.00/558 [00:00<?, ?B/s]"
      ]
     },
     "metadata": {},
     "output_type": "display_data"
    },
    {
     "data": {
      "application/vnd.jupyter.widget-view+json": {
       "model_id": "ab25e3aa6c6d45898953933812bdfcca",
       "version_major": 2,
       "version_minor": 0
      },
      "text/plain": [
       "Downloading:   0%|          | 0.00/517M [00:00<?, ?B/s]"
      ]
     },
     "metadata": {},
     "output_type": "display_data"
    },
    {
     "name": "stderr",
     "output_type": "stream",
     "text": [
      "Some weights of the model checkpoint at vinai/bertweet-base were not used when initializing RobertaModel: ['lm_head.layer_norm.weight', 'lm_head.decoder.bias', 'lm_head.layer_norm.bias', 'lm_head.dense.bias', 'lm_head.dense.weight', 'lm_head.bias', 'lm_head.decoder.weight']\n",
      "- This IS expected if you are initializing RobertaModel from the checkpoint of a model trained on another task or with another architecture (e.g. initializing a BertForSequenceClassification model from a BertForPreTraining model).\n",
      "- This IS NOT expected if you are initializing RobertaModel from the checkpoint of a model that you expect to be exactly identical (initializing a BertForSequenceClassification model from a BertForSequenceClassification model).\n"
     ]
    }
   ],
   "source": [
    "bertweet = AutoModel.from_pretrained(\"vinai/bertweet-base\")"
   ]
  },
  {
   "cell_type": "code",
   "execution_count": 34,
   "id": "qualified-beaver",
   "metadata": {},
   "outputs": [],
   "source": [
    "topic_modelc = BERTopic(vectorizer_model=vectorizer_model, embedding_model=bertweet, calculate_probabilities=False, low_memory=True, verbose=True, \n",
    "                       nr_topics=\"auto\", diversity = 0.2, min_topic_size = 30)"
   ]
  },
  {
   "cell_type": "code",
   "execution_count": 35,
   "id": "controlling-russian",
   "metadata": {},
   "outputs": [
    {
     "data": {
      "application/vnd.jupyter.widget-view+json": {
       "model_id": "4d9528fbbd1e4d6685eadf1b0b180f3d",
       "version_major": 2,
       "version_minor": 0
      },
      "text/plain": [
       "Batches:   0%|          | 0/1250 [00:00<?, ?it/s]"
      ]
     },
     "metadata": {},
     "output_type": "display_data"
    },
    {
     "name": "stderr",
     "output_type": "stream",
     "text": [
      "2022-06-08 18:36:34,842 - BERTopic - Transformed documents to Embeddings\n",
      "2022-06-08 18:36:53,515 - BERTopic - Reduced dimensionality\n",
      "2022-06-08 18:36:57,612 - BERTopic - Clustered reduced embeddings\n",
      "2022-06-08 18:37:35,131 - BERTopic - Reduced number of topics from 183 to 126\n"
     ]
    }
   ],
   "source": [
    "topics, probs = topic_modelc.fit_transform(text)"
   ]
  },
  {
   "cell_type": "code",
   "execution_count": 36,
   "id": "intensive-religion",
   "metadata": {},
   "outputs": [
    {
     "data": {
      "text/html": [
       "<div>\n",
       "<style scoped>\n",
       "    .dataframe tbody tr th:only-of-type {\n",
       "        vertical-align: middle;\n",
       "    }\n",
       "\n",
       "    .dataframe tbody tr th {\n",
       "        vertical-align: top;\n",
       "    }\n",
       "\n",
       "    .dataframe thead th {\n",
       "        text-align: right;\n",
       "    }\n",
       "</style>\n",
       "<table border=\"1\" class=\"dataframe\">\n",
       "  <thead>\n",
       "    <tr style=\"text-align: right;\">\n",
       "      <th></th>\n",
       "      <th>Topic</th>\n",
       "      <th>Count</th>\n",
       "      <th>Name</th>\n",
       "    </tr>\n",
       "  </thead>\n",
       "  <tbody>\n",
       "    <tr>\n",
       "      <th>0</th>\n",
       "      <td>-1</td>\n",
       "      <td>17892</td>\n",
       "      <td>-1_covid19_pandemic_data_ceo</td>\n",
       "    </tr>\n",
       "    <tr>\n",
       "      <th>1</th>\n",
       "      <td>0</td>\n",
       "      <td>1765</td>\n",
       "      <td>0_vaccine_covid19_covid_vaccines</td>\n",
       "    </tr>\n",
       "    <tr>\n",
       "      <th>2</th>\n",
       "      <td>1</td>\n",
       "      <td>1571</td>\n",
       "      <td>1_apple_cloud_security_cybersecurity</td>\n",
       "    </tr>\n",
       "    <tr>\n",
       "      <th>3</th>\n",
       "      <td>2</td>\n",
       "      <td>1071</td>\n",
       "      <td>2_sustainability_emissions_carbon_climate change</td>\n",
       "    </tr>\n",
       "    <tr>\n",
       "      <th>4</th>\n",
       "      <td>3</td>\n",
       "      <td>1028</td>\n",
       "      <td>3_netflix_disney_streaming_movies</td>\n",
       "    </tr>\n",
       "    <tr>\n",
       "      <th>...</th>\n",
       "      <td>...</td>\n",
       "      <td>...</td>\n",
       "      <td>...</td>\n",
       "    </tr>\n",
       "    <tr>\n",
       "      <th>121</th>\n",
       "      <td>120</td>\n",
       "      <td>32</td>\n",
       "      <td>120_valentine_valentines day_valentines_friends</td>\n",
       "    </tr>\n",
       "    <tr>\n",
       "      <th>122</th>\n",
       "      <td>121</td>\n",
       "      <td>32</td>\n",
       "      <td>121_trailblazers_trailblazer_df21_salesforce</td>\n",
       "    </tr>\n",
       "    <tr>\n",
       "      <th>123</th>\n",
       "      <td>122</td>\n",
       "      <td>31</td>\n",
       "      <td>122_juneteenth_slavery_historic_statue</td>\n",
       "    </tr>\n",
       "    <tr>\n",
       "      <th>124</th>\n",
       "      <td>123</td>\n",
       "      <td>31</td>\n",
       "      <td>123_gifts_gift_gifting_holiday season</td>\n",
       "    </tr>\n",
       "    <tr>\n",
       "      <th>125</th>\n",
       "      <td>124</td>\n",
       "      <td>30</td>\n",
       "      <td>124_omicron_pfizer_south africa_booster</td>\n",
       "    </tr>\n",
       "  </tbody>\n",
       "</table>\n",
       "<p>126 rows × 3 columns</p>\n",
       "</div>"
      ],
      "text/plain": [
       "     Topic  Count                                              Name\n",
       "0       -1  17892                      -1_covid19_pandemic_data_ceo\n",
       "1        0   1765                  0_vaccine_covid19_covid_vaccines\n",
       "2        1   1571              1_apple_cloud_security_cybersecurity\n",
       "3        2   1071  2_sustainability_emissions_carbon_climate change\n",
       "4        3   1028                 3_netflix_disney_streaming_movies\n",
       "..     ...    ...                                               ...\n",
       "121    120     32   120_valentine_valentines day_valentines_friends\n",
       "122    121     32      121_trailblazers_trailblazer_df21_salesforce\n",
       "123    122     31            122_juneteenth_slavery_historic_statue\n",
       "124    123     31             123_gifts_gift_gifting_holiday season\n",
       "125    124     30           124_omicron_pfizer_south africa_booster\n",
       "\n",
       "[126 rows x 3 columns]"
      ]
     },
     "execution_count": 36,
     "metadata": {},
     "output_type": "execute_result"
    }
   ],
   "source": [
    "topic_modelc.get_topic_info()"
   ]
  },
  {
   "cell_type": "code",
   "execution_count": 37,
   "id": "radio-language",
   "metadata": {},
   "outputs": [
    {
     "data": {
      "text/plain": [
       "[('covid19', 0.0046239186738339),\n",
       " ('pandemic', 0.0041639110059784705),\n",
       " ('data', 0.0037046881760774),\n",
       " ('ceo', 0.0035692291292427625),\n",
       " ('program', 0.003490336435868489),\n",
       " ('health', 0.0033655546311951077),\n",
       " ('tech', 0.003300576553909974),\n",
       " ('financial', 0.003247008254228667),\n",
       " ('employees', 0.003168455234804353),\n",
       " ('businesses', 0.00301553538031827)]"
      ]
     },
     "execution_count": 37,
     "metadata": {},
     "output_type": "execute_result"
    }
   ],
   "source": [
    "topic_modelc.get_topic(-1)"
   ]
  },
  {
   "cell_type": "code",
   "execution_count": 38,
   "id": "eleven-lease",
   "metadata": {},
   "outputs": [],
   "source": [
    "topics=[]\n",
    "for i in topic_modelc.get_topics():\n",
    "    row=[]\n",
    "    topic= topic_modelc.get_topic(i)\n",
    "    for word in topic:\n",
    "        row.append(word[0])\n",
    "        topics.append(row)"
   ]
  },
  {
   "cell_type": "code",
   "execution_count": 39,
   "id": "statutory-dubai",
   "metadata": {},
   "outputs": [
    {
     "name": "stdout",
     "output_type": "stream",
     "text": [
      "\n",
      "Coherence Score:  -10.299237950315236\n"
     ]
    }
   ],
   "source": [
    "cmc = CoherenceModel(topics=topics, texts=text_uniandbigrams, corpus=corpus, dictionary=id2word, coherence='u_mass')\n",
    "coherence = cmc.get_coherence() \n",
    "print('\\nCoherence Score: ', coherence)"
   ]
  },
  {
   "cell_type": "code",
   "execution_count": 15,
   "id": "present-casting",
   "metadata": {},
   "outputs": [],
   "source": [
    "# another transformer model\n",
    "from transformers import BertModel"
   ]
  },
  {
   "cell_type": "code",
   "execution_count": 16,
   "id": "broad-baptist",
   "metadata": {},
   "outputs": [
    {
     "name": "stderr",
     "output_type": "stream",
     "text": [
      "Some weights of the model checkpoint at bert-base-uncased were not used when initializing BertModel: ['cls.seq_relationship.bias', 'cls.predictions.decoder.weight', 'cls.predictions.transform.dense.weight', 'cls.predictions.transform.LayerNorm.weight', 'cls.predictions.transform.dense.bias', 'cls.predictions.bias', 'cls.predictions.transform.LayerNorm.bias', 'cls.seq_relationship.weight']\n",
      "- This IS expected if you are initializing BertModel from the checkpoint of a model trained on another task or with another architecture (e.g. initializing a BertForSequenceClassification model from a BertForPreTraining model).\n",
      "- This IS NOT expected if you are initializing BertModel from the checkpoint of a model that you expect to be exactly identical (initializing a BertForSequenceClassification model from a BertForSequenceClassification model).\n"
     ]
    }
   ],
   "source": [
    "model = BertModel.from_pretrained(\"bert-base-uncased\")"
   ]
  },
  {
   "cell_type": "code",
   "execution_count": 17,
   "id": "corporate-aging",
   "metadata": {},
   "outputs": [],
   "source": [
    "topic_modeld = BERTopic(vectorizer_model=vectorizer_model, embedding_model=model, calculate_probabilities=False, low_memory=True, verbose=True, \n",
    "                       nr_topics=\"auto\", diversity = 0.2, min_topic_size = 30)"
   ]
  },
  {
   "cell_type": "code",
   "execution_count": 18,
   "id": "fiscal-postage",
   "metadata": {},
   "outputs": [
    {
     "data": {
      "application/vnd.jupyter.widget-view+json": {
       "model_id": "b74fbf7985e347d7824dadc7c0e11d76",
       "version_major": 2,
       "version_minor": 0
      },
      "text/plain": [
       "Batches:   0%|          | 0/1250 [00:00<?, ?it/s]"
      ]
     },
     "metadata": {},
     "output_type": "display_data"
    },
    {
     "name": "stderr",
     "output_type": "stream",
     "text": [
      "2022-10-31 20:43:21,638 - BERTopic - Transformed documents to Embeddings\n",
      "2022-10-31 20:43:51,184 - BERTopic - Reduced dimensionality\n",
      "2022-10-31 20:43:55,335 - BERTopic - Clustered reduced embeddings\n",
      "2022-10-31 20:44:32,202 - BERTopic - Reduced number of topics from 185 to 127\n"
     ]
    }
   ],
   "source": [
    "topics, probs = topic_modeld.fit_transform(text)"
   ]
  },
  {
   "cell_type": "code",
   "execution_count": 19,
   "id": "korean-burke",
   "metadata": {},
   "outputs": [
    {
     "data": {
      "text/html": [
       "<div>\n",
       "<style scoped>\n",
       "    .dataframe tbody tr th:only-of-type {\n",
       "        vertical-align: middle;\n",
       "    }\n",
       "\n",
       "    .dataframe tbody tr th {\n",
       "        vertical-align: top;\n",
       "    }\n",
       "\n",
       "    .dataframe thead th {\n",
       "        text-align: right;\n",
       "    }\n",
       "</style>\n",
       "<table border=\"1\" class=\"dataframe\">\n",
       "  <thead>\n",
       "    <tr style=\"text-align: right;\">\n",
       "      <th></th>\n",
       "      <th>Topic</th>\n",
       "      <th>Count</th>\n",
       "      <th>Name</th>\n",
       "    </tr>\n",
       "  </thead>\n",
       "  <tbody>\n",
       "    <tr>\n",
       "      <th>0</th>\n",
       "      <td>-1</td>\n",
       "      <td>17915</td>\n",
       "      <td>-1_covid19_pandemic_health_tech</td>\n",
       "    </tr>\n",
       "    <tr>\n",
       "      <th>1</th>\n",
       "      <td>0</td>\n",
       "      <td>2830</td>\n",
       "      <td>0_netflix_apple_security_cybersecurity</td>\n",
       "    </tr>\n",
       "    <tr>\n",
       "      <th>2</th>\n",
       "      <td>1</td>\n",
       "      <td>1415</td>\n",
       "      <td>1_sustainability_emissions_carbon_sustainable</td>\n",
       "    </tr>\n",
       "    <tr>\n",
       "      <th>3</th>\n",
       "      <td>2</td>\n",
       "      <td>1326</td>\n",
       "      <td>2_vaccine_covid19_fda_vaccines</td>\n",
       "    </tr>\n",
       "    <tr>\n",
       "      <th>4</th>\n",
       "      <td>3</td>\n",
       "      <td>562</td>\n",
       "      <td>3_cash_card_purchases_credit</td>\n",
       "    </tr>\n",
       "    <tr>\n",
       "      <th>...</th>\n",
       "      <td>...</td>\n",
       "      <td>...</td>\n",
       "      <td>...</td>\n",
       "    </tr>\n",
       "    <tr>\n",
       "      <th>122</th>\n",
       "      <td>121</td>\n",
       "      <td>32</td>\n",
       "      <td>121_adp_hr_marketplace_accounting</td>\n",
       "    </tr>\n",
       "    <tr>\n",
       "      <th>123</th>\n",
       "      <td>122</td>\n",
       "      <td>31</td>\n",
       "      <td>122_pgampe_wildfires_sparking_san</td>\n",
       "    </tr>\n",
       "    <tr>\n",
       "      <th>124</th>\n",
       "      <td>123</td>\n",
       "      <td>31</td>\n",
       "      <td>123_bloomberglive_bloombergtv_conversations_bl...</td>\n",
       "    </tr>\n",
       "    <tr>\n",
       "      <th>125</th>\n",
       "      <td>124</td>\n",
       "      <td>31</td>\n",
       "      <td>124_zones_digital divide_spaces_nonprofits</td>\n",
       "    </tr>\n",
       "    <tr>\n",
       "      <th>126</th>\n",
       "      <td>125</td>\n",
       "      <td>31</td>\n",
       "      <td>125_generation_build better_creators_digital w...</td>\n",
       "    </tr>\n",
       "  </tbody>\n",
       "</table>\n",
       "<p>127 rows × 3 columns</p>\n",
       "</div>"
      ],
      "text/plain": [
       "     Topic  Count                                               Name\n",
       "0       -1  17915                    -1_covid19_pandemic_health_tech\n",
       "1        0   2830             0_netflix_apple_security_cybersecurity\n",
       "2        1   1415      1_sustainability_emissions_carbon_sustainable\n",
       "3        2   1326                     2_vaccine_covid19_fda_vaccines\n",
       "4        3    562                       3_cash_card_purchases_credit\n",
       "..     ...    ...                                                ...\n",
       "122    121     32                  121_adp_hr_marketplace_accounting\n",
       "123    122     31                  122_pgampe_wildfires_sparking_san\n",
       "124    123     31  123_bloomberglive_bloombergtv_conversations_bl...\n",
       "125    124     31         124_zones_digital divide_spaces_nonprofits\n",
       "126    125     31  125_generation_build better_creators_digital w...\n",
       "\n",
       "[127 rows x 3 columns]"
      ]
     },
     "execution_count": 19,
     "metadata": {},
     "output_type": "execute_result"
    }
   ],
   "source": [
    "topic_modeld.get_topic_info()"
   ]
  },
  {
   "cell_type": "code",
   "execution_count": 45,
   "id": "guided-disposition",
   "metadata": {},
   "outputs": [
    {
     "data": {
      "text/plain": [
       "[('covid19', 0.004384889400178895),\n",
       " ('pandemic', 0.003977198644704518),\n",
       " ('data', 0.0036418217928967126),\n",
       " ('cash', 0.0035203871516700414),\n",
       " ('tech', 0.0033444488165364976),\n",
       " ('innovation', 0.0033156774572741994),\n",
       " ('companies', 0.0032424087575896885),\n",
       " ('employees', 0.0032027078224905223),\n",
       " ('businesses', 0.0029668561701399797),\n",
       " ('microsoft', 0.002891244812657453)]"
      ]
     },
     "execution_count": 45,
     "metadata": {},
     "output_type": "execute_result"
    }
   ],
   "source": [
    "topic_modeld.get_topic(-1)"
   ]
  },
  {
   "cell_type": "code",
   "execution_count": 20,
   "id": "desirable-jacksonville",
   "metadata": {},
   "outputs": [],
   "source": [
    "topics=[]\n",
    "for i in topic_modeld.get_topics():\n",
    "    row=[]\n",
    "    topic= topic_modeld.get_topic(i)\n",
    "    for word in topic:\n",
    "        row.append(word[0])\n",
    "        topics.append(row)"
   ]
  },
  {
   "cell_type": "code",
   "execution_count": 22,
   "id": "shaped-needle",
   "metadata": {},
   "outputs": [],
   "source": [
    "# save representative docs  for manual coding\n",
    "representative_docs = topic_modeld.get_representative_docs()\n",
    "\n",
    "df = pd.DataFrame.from_dict(representative_docs, orient ='index') \n",
    "df.head()\n",
    "\n",
    "df.to_excel('try_representative_docs.xlsx')"
   ]
  },
  {
   "cell_type": "code",
   "execution_count": 23,
   "id": "aerial-amendment",
   "metadata": {},
   "outputs": [],
   "source": [
    "# save top terms for manual coding\n",
    "terms = topic_modeld.get_topics()\n",
    "\n",
    "df2 = pd.DataFrame.from_dict(terms, orient ='index') \n",
    "df2.to_excel('try_terms.xlsx')"
   ]
  },
  {
   "cell_type": "code",
   "execution_count": 47,
   "id": "rough-sample",
   "metadata": {},
   "outputs": [
    {
     "name": "stdout",
     "output_type": "stream",
     "text": [
      "\n",
      "Coherence Score:  -10.713354660056531\n"
     ]
    }
   ],
   "source": [
    "cmd = CoherenceModel(topics=topics, texts=text_uniandbigrams, corpus=corpus, dictionary=id2word, coherence='u_mass')\n",
    "coherence = cmd.get_coherence() \n",
    "print('\\nCoherence Score: ', coherence)"
   ]
  },
  {
   "cell_type": "code",
   "execution_count": 48,
   "id": "palestinian-navigator",
   "metadata": {},
   "outputs": [],
   "source": [
    "# another transformer model\n",
    "from transformers import GPT2Model"
   ]
  },
  {
   "cell_type": "code",
   "execution_count": 49,
   "id": "wireless-bread",
   "metadata": {},
   "outputs": [
    {
     "data": {
      "application/vnd.jupyter.widget-view+json": {
       "model_id": "fed87f58dc3144a8bf7bb1e1f06d6807",
       "version_major": 2,
       "version_minor": 0
      },
      "text/plain": [
       "Downloading:   0%|          | 0.00/762 [00:00<?, ?B/s]"
      ]
     },
     "metadata": {},
     "output_type": "display_data"
    },
    {
     "data": {
      "application/vnd.jupyter.widget-view+json": {
       "model_id": "f0406448d24248169be8ae22e447e521",
       "version_major": 2,
       "version_minor": 0
      },
      "text/plain": [
       "Downloading:   0%|          | 0.00/336M [00:00<?, ?B/s]"
      ]
     },
     "metadata": {},
     "output_type": "display_data"
    },
    {
     "name": "stderr",
     "output_type": "stream",
     "text": [
      "Some weights of the model checkpoint at distilgpt2 were not used when initializing GPT2Model: ['lm_head.weight']\n",
      "- This IS expected if you are initializing GPT2Model from the checkpoint of a model trained on another task or with another architecture (e.g. initializing a BertForSequenceClassification model from a BertForPreTraining model).\n",
      "- This IS NOT expected if you are initializing GPT2Model from the checkpoint of a model that you expect to be exactly identical (initializing a BertForSequenceClassification model from a BertForSequenceClassification model).\n"
     ]
    }
   ],
   "source": [
    "model = GPT2Model.from_pretrained('distilgpt2')"
   ]
  },
  {
   "cell_type": "code",
   "execution_count": 50,
   "id": "rocky-constant",
   "metadata": {},
   "outputs": [],
   "source": [
    "topic_modele = BERTopic(vectorizer_model=vectorizer_model, embedding_model=model, calculate_probabilities=False, low_memory=True, verbose=True, \n",
    "                       nr_topics=\"auto\", diversity = 0.2, min_topic_size = 30)"
   ]
  },
  {
   "cell_type": "code",
   "execution_count": 51,
   "id": "worst-andrews",
   "metadata": {},
   "outputs": [
    {
     "data": {
      "application/vnd.jupyter.widget-view+json": {
       "model_id": "3193caee0a19419cb5bb97d3767b265f",
       "version_major": 2,
       "version_minor": 0
      },
      "text/plain": [
       "Batches:   0%|          | 0/1250 [00:00<?, ?it/s]"
      ]
     },
     "metadata": {},
     "output_type": "display_data"
    },
    {
     "name": "stderr",
     "output_type": "stream",
     "text": [
      "2022-06-08 19:24:34,092 - BERTopic - Transformed documents to Embeddings\n",
      "2022-06-08 19:24:52,758 - BERTopic - Reduced dimensionality\n",
      "2022-06-08 19:24:56,710 - BERTopic - Clustered reduced embeddings\n",
      "2022-06-08 19:25:36,029 - BERTopic - Reduced number of topics from 188 to 124\n"
     ]
    }
   ],
   "source": [
    "topics, probs = topic_modele.fit_transform(text)"
   ]
  },
  {
   "cell_type": "code",
   "execution_count": 52,
   "id": "excessive-aurora",
   "metadata": {},
   "outputs": [
    {
     "data": {
      "text/html": [
       "<div>\n",
       "<style scoped>\n",
       "    .dataframe tbody tr th:only-of-type {\n",
       "        vertical-align: middle;\n",
       "    }\n",
       "\n",
       "    .dataframe tbody tr th {\n",
       "        vertical-align: top;\n",
       "    }\n",
       "\n",
       "    .dataframe thead th {\n",
       "        text-align: right;\n",
       "    }\n",
       "</style>\n",
       "<table border=\"1\" class=\"dataframe\">\n",
       "  <thead>\n",
       "    <tr style=\"text-align: right;\">\n",
       "      <th></th>\n",
       "      <th>Topic</th>\n",
       "      <th>Count</th>\n",
       "      <th>Name</th>\n",
       "    </tr>\n",
       "  </thead>\n",
       "  <tbody>\n",
       "    <tr>\n",
       "      <th>0</th>\n",
       "      <td>-1</td>\n",
       "      <td>16938</td>\n",
       "      <td>-1_digital_health_pandemic_covid19</td>\n",
       "    </tr>\n",
       "    <tr>\n",
       "      <th>1</th>\n",
       "      <td>0</td>\n",
       "      <td>2005</td>\n",
       "      <td>0_netflix_disney_streaming_nfl</td>\n",
       "    </tr>\n",
       "    <tr>\n",
       "      <th>2</th>\n",
       "      <td>1</td>\n",
       "      <td>1940</td>\n",
       "      <td>1_points_cash_earn_purchases</td>\n",
       "    </tr>\n",
       "    <tr>\n",
       "      <th>3</th>\n",
       "      <td>2</td>\n",
       "      <td>1336</td>\n",
       "      <td>2_vaccine_covid19_vaccines_covid</td>\n",
       "    </tr>\n",
       "    <tr>\n",
       "      <th>4</th>\n",
       "      <td>3</td>\n",
       "      <td>1146</td>\n",
       "      <td>3_sustainability_emissions_carbon_climate change</td>\n",
       "    </tr>\n",
       "    <tr>\n",
       "      <th>...</th>\n",
       "      <td>...</td>\n",
       "      <td>...</td>\n",
       "      <td>...</td>\n",
       "    </tr>\n",
       "    <tr>\n",
       "      <th>119</th>\n",
       "      <td>118</td>\n",
       "      <td>32</td>\n",
       "      <td>118_relief_storms_disaster_impacted</td>\n",
       "    </tr>\n",
       "    <tr>\n",
       "      <th>120</th>\n",
       "      <td>119</td>\n",
       "      <td>32</td>\n",
       "      <td>119_comcast_bold_designer_monica</td>\n",
       "    </tr>\n",
       "    <tr>\n",
       "      <th>121</th>\n",
       "      <td>120</td>\n",
       "      <td>32</td>\n",
       "      <td>120_wildlife_protecting_animals_backyard</td>\n",
       "    </tr>\n",
       "    <tr>\n",
       "      <th>122</th>\n",
       "      <td>121</td>\n",
       "      <td>31</td>\n",
       "      <td>121_iot_edge_internet_ecosystem</td>\n",
       "    </tr>\n",
       "    <tr>\n",
       "      <th>123</th>\n",
       "      <td>122</td>\n",
       "      <td>31</td>\n",
       "      <td>122_halloween_barbie_treats_tricks</td>\n",
       "    </tr>\n",
       "  </tbody>\n",
       "</table>\n",
       "<p>124 rows × 3 columns</p>\n",
       "</div>"
      ],
      "text/plain": [
       "     Topic  Count                                              Name\n",
       "0       -1  16938                -1_digital_health_pandemic_covid19\n",
       "1        0   2005                    0_netflix_disney_streaming_nfl\n",
       "2        1   1940                      1_points_cash_earn_purchases\n",
       "3        2   1336                  2_vaccine_covid19_vaccines_covid\n",
       "4        3   1146  3_sustainability_emissions_carbon_climate change\n",
       "..     ...    ...                                               ...\n",
       "119    118     32               118_relief_storms_disaster_impacted\n",
       "120    119     32                  119_comcast_bold_designer_monica\n",
       "121    120     32          120_wildlife_protecting_animals_backyard\n",
       "122    121     31                   121_iot_edge_internet_ecosystem\n",
       "123    122     31                122_halloween_barbie_treats_tricks\n",
       "\n",
       "[124 rows x 3 columns]"
      ]
     },
     "execution_count": 52,
     "metadata": {},
     "output_type": "execute_result"
    }
   ],
   "source": [
    "topic_modele.get_topic_info()"
   ]
  },
  {
   "cell_type": "code",
   "execution_count": 53,
   "id": "silver-anger",
   "metadata": {},
   "outputs": [
    {
     "data": {
      "text/plain": [
       "[('digital', 0.0042004737679891095),\n",
       " ('health', 0.00418569186462933),\n",
       " ('pandemic', 0.004147426909685661),\n",
       " ('covid19', 0.004002570021606288),\n",
       " ('data', 0.0038391853854446213),\n",
       " ('ceo', 0.0038295914943291937),\n",
       " ('amazon', 0.0033477511004835485),\n",
       " ('companies', 0.0032728694024012077),\n",
       " ('tech', 0.003207347043225077),\n",
       " ('security', 0.002976029133802952)]"
      ]
     },
     "execution_count": 53,
     "metadata": {},
     "output_type": "execute_result"
    }
   ],
   "source": [
    "topic_modele.get_topic(-1)"
   ]
  },
  {
   "cell_type": "code",
   "execution_count": 54,
   "id": "obvious-vietnam",
   "metadata": {},
   "outputs": [],
   "source": [
    "topics=[]\n",
    "for i in topic_modele.get_topics():\n",
    "    row=[]\n",
    "    topic= topic_modele.get_topic(i)\n",
    "    for word in topic:\n",
    "        row.append(word[0])\n",
    "        topics.append(row)"
   ]
  },
  {
   "cell_type": "code",
   "execution_count": 55,
   "id": "surprised-cement",
   "metadata": {},
   "outputs": [
    {
     "name": "stdout",
     "output_type": "stream",
     "text": [
      "\n",
      "Coherence Score:  -10.141653816637218\n"
     ]
    }
   ],
   "source": [
    "cme = CoherenceModel(topics=topics, texts=text_uniandbigrams, corpus=corpus, dictionary=id2word, coherence='u_mass')\n",
    "coherence = cme.get_coherence() \n",
    "print('\\nCoherence Score: ', coherence)"
   ]
  },
  {
   "cell_type": "markdown",
   "id": "moral-insulation",
   "metadata": {},
   "source": [
    "**Go with the \"bert-base-uncased\" model**"
   ]
  },
  {
   "cell_type": "markdown",
   "id": "hindu-madagascar",
   "metadata": {},
   "source": [
    "# LDA"
   ]
  },
  {
   "cell_type": "code",
   "execution_count": 24,
   "id": "complete-shame",
   "metadata": {},
   "outputs": [],
   "source": [
    "import csv\n",
    "from nltk.sentiment import vader\n",
    "import nltk\n",
    "import gensim\n",
    "from gensim import corpora\n",
    "from gensim import models\n",
    "import pyLDAvis\n",
    "import pyLDAvis.gensim_models as gensimvis\n",
    "import pandas as pd\n",
    "import random\n",
    "random.seed(\"ic2s2colgne\")\n",
    "import seaborn as sns\n",
    "import matplotlib.pyplot as plt\n",
    "import numpy as np\n",
    "%matplotlib inline"
   ]
  },
  {
   "cell_type": "code",
   "execution_count": 25,
   "id": "broken-basic",
   "metadata": {},
   "outputs": [
    {
     "name": "stderr",
     "output_type": "stream",
     "text": [
      "c:\\users\\tuski\\appdata\\local\\programs\\python\\python39\\lib\\site-packages\\ipykernel\\ipkernel.py:283: DeprecationWarning: `should_run_async` will not call `transform_cell` automatically in the future. Please pass the result to `transformed_cell` argument and any exception that happen during thetransform in `preprocessing_exc_tuple` in IPython 7.17 and above.\n",
      "  and should_run_async(code)\n"
     ]
    }
   ],
   "source": [
    "random.seed(2345)\n",
    "np.random.seed(2345)"
   ]
  },
  {
   "cell_type": "code",
   "execution_count": 27,
   "id": "initial-thousand",
   "metadata": {},
   "outputs": [
    {
     "name": "stderr",
     "output_type": "stream",
     "text": [
      "c:\\users\\tuski\\appdata\\local\\programs\\python\\python39\\lib\\site-packages\\ipykernel\\ipkernel.py:283: DeprecationWarning: `should_run_async` will not call `transform_cell` automatically in the future. Please pass the result to `transformed_cell` argument and any exception that happen during thetransform in `preprocessing_exc_tuple` in IPython 7.17 and above.\n",
      "  and should_run_async(code)\n"
     ]
    }
   ],
   "source": [
    "text_r = text"
   ]
  },
  {
   "cell_type": "code",
   "execution_count": 28,
   "id": "federal-organizer",
   "metadata": {},
   "outputs": [
    {
     "name": "stderr",
     "output_type": "stream",
     "text": [
      "c:\\users\\tuski\\appdata\\local\\programs\\python\\python39\\lib\\site-packages\\ipykernel\\ipkernel.py:283: DeprecationWarning: `should_run_async` will not call `transform_cell` automatically in the future. Please pass the result to `transformed_cell` argument and any exception that happen during thetransform in `preprocessing_exc_tuple` in IPython 7.17 and above.\n",
      "  and should_run_async(code)\n"
     ]
    }
   ],
   "source": [
    "from nltk.corpus import stopwords\n",
    "mystopwords = stopwords.words(\"english\")\n",
    "text = [\" \".join([w for w in n.split() if w not in mystopwords]) for n in text_r]"
   ]
  },
  {
   "cell_type": "markdown",
   "id": "designing-dialogue",
   "metadata": {},
   "source": [
    "#### Word frequency or tf-idf score"
   ]
  },
  {
   "cell_type": "code",
   "execution_count": 29,
   "id": "willing-liberia",
   "metadata": {},
   "outputs": [
    {
     "name": "stderr",
     "output_type": "stream",
     "text": [
      "c:\\users\\tuski\\appdata\\local\\programs\\python\\python39\\lib\\site-packages\\ipykernel\\ipkernel.py:283: DeprecationWarning: `should_run_async` will not call `transform_cell` automatically in the future. Please pass the result to `transformed_cell` argument and any exception that happen during thetransform in `preprocessing_exc_tuple` in IPython 7.17 and above.\n",
      "  and should_run_async(code)\n"
     ]
    },
    {
     "data": {
      "text/plain": [
       "[(0,\n",
       "  '0.013*\"we’re\" + 0.010*\"proud\" + 0.010*\"learn\" + 0.009*\"2021\" + 0.008*\"work\"'),\n",
       " (1, '0.009*\"us\" + 0.008*\"new\" + 0.006*\"earn\" + 0.005*\"cash\" + 0.005*\"apply\"'),\n",
       " (2,\n",
       "  '0.009*\"watch\" + 0.008*\"see\" + 0.007*\"netflix\" + 0.006*\"like\" + 0.006*\"live\"'),\n",
       " (3,\n",
       "  '0.026*\"covid19\" + 0.023*\"vaccine\" + 0.013*\"amp\" + 0.013*\"johnson\" + 0.010*\"us\"'),\n",
       " (4,\n",
       "  '0.012*\"home\" + 0.010*\"new\" + 0.010*\"people\" + 0.007*\"like\" + 0.006*\"learn\"'),\n",
       " (5,\n",
       "  '0.010*\"video\" + 0.008*\"free\" + 0.008*\"app\" + 0.006*\"new\" + 0.005*\"game\"'),\n",
       " (6,\n",
       "  '0.020*\"learn\" + 0.016*\"help\" + 0.009*\"amp\" + 0.008*\"new\" + 0.007*\"health\"'),\n",
       " (7,\n",
       "  '0.009*\"us\" + 0.008*\"happy\" + 0.008*\"family\" + 0.007*\"one\" + 0.007*\"time\"'),\n",
       " (8,\n",
       "  '0.026*\"get\" + 0.011*\"shop\" + 0.010*\"online\" + 0.008*\"new\" + 0.008*\"day\"'),\n",
       " (9,\n",
       "  '0.013*\"energy\" + 0.011*\"new\" + 0.007*\"2022\" + 0.006*\"games\" + 0.006*\"watch\"')]"
      ]
     },
     "execution_count": 29,
     "metadata": {},
     "output_type": "execute_result"
    }
   ],
   "source": [
    "ldainput_m1 = [n.split() for n in text]\n",
    "id2word_m1 = corpora.Dictionary(ldainput_m1)\n",
    "ldacorpus_m1 = [id2word_m1.doc2bow(doc) for doc in ldainput_m1]\n",
    "lda_m1 = models.LdaModel(ldacorpus_m1, id2word=id2word_m1, num_topics=10, random_state=40)\n",
    "lda_m1.print_topics(num_words=5)"
   ]
  },
  {
   "cell_type": "code",
   "execution_count": 30,
   "id": "coral-exhibit",
   "metadata": {},
   "outputs": [
    {
     "name": "stderr",
     "output_type": "stream",
     "text": [
      "c:\\users\\tuski\\appdata\\local\\programs\\python\\python39\\lib\\site-packages\\ipykernel\\ipkernel.py:283: DeprecationWarning: `should_run_async` will not call `transform_cell` automatically in the future. Please pass the result to `transformed_cell` argument and any exception that happen during thetransform in `preprocessing_exc_tuple` in IPython 7.17 and above.\n",
      "  and should_run_async(code)\n"
     ]
    },
    {
     "data": {
      "text/plain": [
       "[(0,\n",
       "  '0.003*\"futureofwork\" + 0.003*\"women\" + 0.003*\"retail\" + 0.002*\"committed\" + 0.002*\"2020\"'),\n",
       " (1,\n",
       "  '0.003*\"cash\" + 0.003*\"chance\" + 0.003*\"card\" + 0.002*\"zero\" + 0.002*\"insurance\"'),\n",
       " (2,\n",
       "  '0.006*\"shop\" + 0.005*\"online\" + 0.004*\"select\" + 0.004*\"gamestop\" + 0.003*\"click\"'),\n",
       " (3,\n",
       "  '0.005*\"unique\" + 0.004*\"athletes\" + 0.004*\"moment\" + 0.003*\"citi\" + 0.003*\"heading\"'),\n",
       " (4, '0.004*\"home\" + 0.003*\"get\" + 0.003*\"let\" + 0.003*\"10\" + 0.002*\"next\"'),\n",
       " (5,\n",
       "  '0.004*\"coffee\" + 0.004*\"teamusa\" + 0.003*\"booster\" + 0.003*\"company’s\" + 0.003*\"games\"'),\n",
       " (6, '0.006*\"learn\" + 0.005*\"help\" + 0.005*\"us\" + 0.005*\"new\" + 0.004*\"amp\"'),\n",
       " (7,\n",
       "  '0.005*\"vaccine\" + 0.004*\"johnson\" + 0.004*\"covid19\" + 0.003*\"biden\" + 0.003*\"pfizer\"'),\n",
       " (8,\n",
       "  '0.004*\"chooseglass\" + 0.003*\"glass\" + 0.003*\"storm\" + 0.002*\"announces\" + 0.002*\"disney\"'),\n",
       " (9,\n",
       "  '0.007*\"points\" + 0.004*\"terms\" + 0.004*\"movies\" + 0.004*\"netflix\" + 0.004*\"free\"')]"
      ]
     },
     "execution_count": 30,
     "metadata": {},
     "output_type": "execute_result"
    }
   ],
   "source": [
    "ldacorpus_m2 = ldacorpus_m1\n",
    "id2word_m2 = id2word_m1\n",
    "tfidfcorpus_m2 = models.TfidfModel(ldacorpus_m2)\n",
    "lda_m2 = models.ldamodel.LdaModel(corpus=tfidfcorpus_m2[ldacorpus_m2],id2word=id2word_m2,num_topics=10,random_state=40)\n",
    "lda_m2.print_topics(num_words=5)"
   ]
  },
  {
   "cell_type": "markdown",
   "id": "stock-spotlight",
   "metadata": {},
   "source": [
    "#### Number of topics\n",
    "I looped through several possible topic numbers and plotted the coherence and perplexity value to find out the inflection point."
   ]
  },
  {
   "cell_type": "code",
   "execution_count": 31,
   "id": "separated-specific",
   "metadata": {},
   "outputs": [
    {
     "name": "stderr",
     "output_type": "stream",
     "text": [
      "c:\\users\\tuski\\appdata\\local\\programs\\python\\python39\\lib\\site-packages\\ipykernel\\ipkernel.py:283: DeprecationWarning: `should_run_async` will not call `transform_cell` automatically in the future. Please pass the result to `transformed_cell` argument and any exception that happen during thetransform in `preprocessing_exc_tuple` in IPython 7.17 and above.\n",
      "  and should_run_async(code)\n"
     ]
    }
   ],
   "source": [
    "ldacorpus_perplex = ldacorpus_m2.copy()\n",
    "random.shuffle(ldacorpus_perplex)\n",
    "\n",
    "splitidx = int(0.8 * len(ldacorpus_perplex))\n",
    "\n",
    "train = ldacorpus_perplex[:splitidx]\n",
    "test = ldacorpus_perplex[splitidx:]\n",
    "\n",
    "tfidfcorpus_train = models.TfidfModel(train)\n",
    "tfidfcorpus_test = models.TfidfModel(test)"
   ]
  },
  {
   "cell_type": "code",
   "execution_count": 32,
   "id": "tamil-sheffield",
   "metadata": {},
   "outputs": [
    {
     "name": "stderr",
     "output_type": "stream",
     "text": [
      "c:\\users\\tuski\\appdata\\local\\programs\\python\\python39\\lib\\site-packages\\ipykernel\\ipkernel.py:283: DeprecationWarning: `should_run_async` will not call `transform_cell` automatically in the future. Please pass the result to `transformed_cell` argument and any exception that happen during thetransform in `preprocessing_exc_tuple` in IPython 7.17 and above.\n",
      "  and should_run_async(code)\n"
     ]
    },
    {
     "data": {
      "image/png": "[encoded data removed]",
      "text/plain": [
       "<Figure size 432x288 with 1 Axes>"
      ]
     },
     "metadata": {
      "needs_background": "light"
     },
     "output_type": "display_data"
    }
   ],
   "source": [
    "result = []\n",
    "\n",
    "for k in [10, 30, 50, 100, 150, 200]:\n",
    "    lda = models.ldamodel.LdaModel(corpus=tfidfcorpus_train[train], id2word=id2word_m1, num_topics=k, random_state=40)\n",
    "    perplexity = lda.log_perplexity(tfidfcorpus_test[test])\n",
    "    coherence = models.CoherenceModel(model=lda, corpus=tfidfcorpus_test[test], coherence= \"u_mass\").get_coherence()\n",
    "    result.append(dict(k=k, perplexity=perplexity, coherence=coherence))\n",
    "\n",
    "result = pd.DataFrame(result)\n",
    "result.plot(x=\"k\", y=[\"perplexity\", \"coherence\"])\n",
    "plt.show()"
   ]
  },
  {
   "cell_type": "markdown",
   "id": "metric-wales",
   "metadata": {},
   "source": [
    "no large difference to coherence, explore 25-40 topics for perplexity"
   ]
  },
  {
   "cell_type": "code",
   "execution_count": 35,
   "id": "distributed-cable",
   "metadata": {},
   "outputs": [
    {
     "name": "stderr",
     "output_type": "stream",
     "text": [
      "c:\\users\\tuski\\appdata\\local\\programs\\python\\python39\\lib\\site-packages\\ipykernel\\ipkernel.py:283: DeprecationWarning: `should_run_async` will not call `transform_cell` automatically in the future. Please pass the result to `transformed_cell` argument and any exception that happen during thetransform in `preprocessing_exc_tuple` in IPython 7.17 and above.\n",
      "  and should_run_async(code)\n"
     ]
    },
    {
     "name": "stdout",
     "output_type": "stream",
     "text": [
      "-15.395973639736692 -1918092.6792562576\n",
      "-15.646138519240749 -1949287.521311448\n",
      "-15.926415328549075 -1984226.3429163818\n",
      "-16.215568077756764 -2020282.558621487\n",
      "-16.492858839224372 -2054731.5733179108\n",
      "-16.870681423990114 -2101892.949428049\n",
      "-17.23424458212976 -2147113.715770131\n",
      "-17.557548953262934 -2187554.418214186\n",
      "-18.128367147114787 -2258517.914344881\n",
      "-18.574731900123876 -2314187.1908218553\n",
      "-19.027675880863914 -2370639.5637540547\n",
      "-19.62637125408239 -2445132.6885175025\n",
      "-20.361836647045834 -2536822.544131881\n",
      "-21.122143690779584 -2631582.3963421034\n",
      "-21.925940266051057 -2731703.6509164306\n"
     ]
    }
   ],
   "source": [
    "perplexityvalues = []\n",
    "for n in np.arange(25,40):\n",
    "    lda = models.LdaModel(corpus=tfidfcorpus_train[train], id2word=id2word_m1, num_topics=n, random_state=40)\n",
    "    print(lda.log_perplexity(test), lda.bound(test))\n",
    "    perplexityvalues.append((n, lda.log_perplexity(test)))"
   ]
  },
  {
   "cell_type": "code",
   "execution_count": 36,
   "id": "heard-hopkins",
   "metadata": {},
   "outputs": [
    {
     "name": "stderr",
     "output_type": "stream",
     "text": [
      "c:\\users\\tuski\\appdata\\local\\programs\\python\\python39\\lib\\site-packages\\ipykernel\\ipkernel.py:283: DeprecationWarning: `should_run_async` will not call `transform_cell` automatically in the future. Please pass the result to `transformed_cell` argument and any exception that happen during thetransform in `preprocessing_exc_tuple` in IPython 7.17 and above.\n",
      "  and should_run_async(code)\n"
     ]
    },
    {
     "data": {
      "text/plain": [
       "([<matplotlib.axis.XTick at 0x26d8f2cca90>,\n",
       "  <matplotlib.axis.XTick at 0x26d8f2cce50>,\n",
       "  <matplotlib.axis.XTick at 0x26d8f277b20>,\n",
       "  <matplotlib.axis.XTick at 0x26d8f18c5b0>,\n",
       "  <matplotlib.axis.XTick at 0x26d8f2280d0>,\n",
       "  <matplotlib.axis.XTick at 0x26d8f2281c0>,\n",
       "  <matplotlib.axis.XTick at 0x26d8f228610>,\n",
       "  <matplotlib.axis.XTick at 0x26d8f4aa130>,\n",
       "  <matplotlib.axis.XTick at 0x26d8f4aaa60>,\n",
       "  <matplotlib.axis.XTick at 0x26d8eef2700>,\n",
       "  <matplotlib.axis.XTick at 0x26d8eef24c0>,\n",
       "  <matplotlib.axis.XTick at 0x26d8eef2610>,\n",
       "  <matplotlib.axis.XTick at 0x26d8eef2d90>,\n",
       "  <matplotlib.axis.XTick at 0x26d8f4aa310>,\n",
       "  <matplotlib.axis.XTick at 0x26d8f0e0fd0>],\n",
       " [Text(0, 0, '25'),\n",
       "  Text(1, 0, '26'),\n",
       "  Text(2, 0, '27'),\n",
       "  Text(3, 0, '28'),\n",
       "  Text(4, 0, '29'),\n",
       "  Text(5, 0, '30'),\n",
       "  Text(6, 0, '31'),\n",
       "  Text(7, 0, '32'),\n",
       "  Text(8, 0, '33'),\n",
       "  Text(9, 0, '34'),\n",
       "  Text(10, 0, '35'),\n",
       "  Text(11, 0, '36'),\n",
       "  Text(12, 0, '37'),\n",
       "  Text(13, 0, '38'),\n",
       "  Text(14, 0, '39')])"
      ]
     },
     "execution_count": 36,
     "metadata": {},
     "output_type": "execute_result"
    },
    {
     "data": {
      "image/png": "[encoded data removed]",
      "text/plain": [
       "<Figure size 432x288 with 1 Axes>"
      ]
     },
     "metadata": {
      "needs_background": "light"
     },
     "output_type": "display_data"
    }
   ],
   "source": [
    "fig, ax = plt.subplots()\n",
    "plt.plot([e[1] for e in perplexityvalues])\n",
    "plt.xticks(range(len(perplexityvalues)), [e[0] for e in perplexityvalues])"
   ]
  },
  {
   "cell_type": "markdown",
   "id": "prospective-village",
   "metadata": {},
   "source": [
    "I looped through 31 topics to 33 topics and printed the typical words for the topics."
   ]
  },
  {
   "cell_type": "code",
   "execution_count": 37,
   "id": "suburban-healthcare",
   "metadata": {},
   "outputs": [
    {
     "name": "stderr",
     "output_type": "stream",
     "text": [
      "c:\\users\\tuski\\appdata\\local\\programs\\python\\python39\\lib\\site-packages\\ipykernel\\ipkernel.py:283: DeprecationWarning: `should_run_async` will not call `transform_cell` automatically in the future. Please pass the result to `transformed_cell` argument and any exception that happen during thetransform in `preprocessing_exc_tuple` in IPython 7.17 and above.\n",
      "  and should_run_async(code)\n"
     ]
    },
    {
     "name": "stdout",
     "output_type": "stream",
     "text": [
      "When the number of topics is 31\n",
      "[(13, '0.010*\"might\" + 0.009*\"weekend\" + 0.008*\"planning\" + 0.008*\"needed\" + 0.007*\"powerful\"'), (30, '0.008*\"digital\" + 0.007*\"glass\" + 0.007*\"inclusive\" + 0.007*\"chooseglass\" + 0.006*\"talent\"'), (3, '0.009*\"light\" + 0.008*\"price\" + 0.008*\"took\" + 0.007*\"earnings\" + 0.007*\"offering\"'), (11, '0.009*\"ibm\" + 0.008*\"programs\" + 0.008*\"common\" + 0.007*\"professionals\" + 0.007*\"open\"'), (4, '0.009*\"get\" + 0.008*\"right\" + 0.007*\"summer\" + 0.007*\"shop\" + 0.006*\"sale\"'), (1, '0.012*\"shows\" + 0.011*\"movies\" + 0.011*\"enjoy\" + 0.008*\"friends\" + 0.008*\"abbott\"'), (12, '0.006*\"travelers\" + 0.006*\"results\" + 0.006*\"athletes\" + 0.006*\"done\" + 0.005*\"tonight\"'), (16, '0.011*\"happy\" + 0.008*\"generation\" + 0.007*\"real\" + 0.007*\"water\" + 0.007*\"manufacturing\"'), (17, '0.010*\"powered\" + 0.009*\"panering\" + 0.008*\"storage\" + 0.008*\"resilience\" + 0.007*\"privacy\"'), (24, '0.012*\"congrats\" + 0.009*\"perfect\" + 0.009*\"planet\" + 0.008*\"gift\" + 0.008*\"shopping\"'), (5, '0.006*\"got\" + 0.006*\"wall\" + 0.005*\"guide\" + 0.005*\"innovations\" + 0.005*\"face\"'), (10, '0.011*\"here’s\" + 0.009*\"lets\" + 0.008*\"winter\" + 0.008*\"sharing\" + 0.008*\"doesn’t\"'), (22, '0.008*\"energy\" + 0.006*\"retail\" + 0.005*\"insurance\" + 0.005*\"payments\" + 0.005*\"natural\"'), (20, '0.016*\"cash\" + 0.010*\"good\" + 0.008*\"back\" + 0.008*\"deal\" + 0.008*\"car\"'), (26, '0.010*\"coffee\" + 0.009*\"bringing\" + 0.008*\"color\" + 0.007*\"hours\" + 0.007*\"hand\"'), (0, '0.007*\"stas\" + 0.007*\"makes\" + 0.006*\"holidays\" + 0.006*\"active\" + 0.005*\"kitchen\"'), (19, '0.008*\"seen\" + 0.007*\"lines\" + 0.007*\"atampt\" + 0.007*\"electric\" + 0.007*\"music\"'), (15, '0.012*\"games\" + 0.010*\"teamusa\" + 0.010*\"rise\" + 0.009*\"saving\" + 0.008*\"teamoftomorrow\"'), (25, '0.009*\"king\" + 0.008*\"bright\" + 0.007*\"a…\" + 0.007*\"announces\" + 0.007*\"path\"'), (21, '0.007*\"data\" + 0.007*\"research\" + 0.006*\"futureofwork\" + 0.005*\"learn\" + 0.005*\"covid19\"')]\n",
      "\n",
      "\n",
      "When the number of topics is 32\n",
      "[(28, '0.012*\"happy\" + 0.009*\"enjoy\" + 0.007*\"always\" + 0.007*\"anywhere\" + 0.007*\"connect\"'), (24, '0.007*\"we’re\" + 0.006*\"learn\" + 0.006*\"congratulations\" + 0.006*\"president\" + 0.005*\"recent\"'), (9, '0.010*\"holidays\" + 0.009*\"tweet\" + 0.008*\"ford\" + 0.008*\"mask\" + 0.007*\"welcome\"'), (14, '0.009*\"learn\" + 0.007*\"women\" + 0.006*\"future\" + 0.006*\"suppo\" + 0.006*\"technology\"'), (10, '0.009*\"inclusive\" + 0.008*\"face\" + 0.007*\"teams\" + 0.007*\"iphone\" + 0.006*\"study\"'), (15, '0.009*\"athletes\" + 0.008*\"human\" + 0.007*\"wait\" + 0.007*\"winter\" + 0.007*\"news\"'), (0, '0.008*\"soon\" + 0.008*\"wells\" + 0.008*\"months\" + 0.007*\"fresh\" + 0.007*\"fargo\"'), (17, '0.008*\"shopping\" + 0.008*\"deal\" + 0.008*\"plan\" + 0.008*\"2022\" + 0.007*\"stas\"'), (11, '0.009*\"gas\" + 0.009*\"road\" + 0.009*\"enter\" + 0.008*\"200\" + 0.008*\"friday\"'), (7, '0.012*\"johnson\" + 0.012*\"equity\" + 0.011*\"shots\" + 0.009*\"air\" + 0.009*\"max\"'), (23, '0.016*\"deals\" + 0.015*\"summer\" + 0.012*\"sale\" + 0.011*\"helped\" + 0.011*\"target\"'), (8, '0.015*\"netflix\" + 0.015*\"unlimited\" + 0.013*\"gamestop\" + 0.011*\"guide\" + 0.010*\"7\"'), (4, '0.009*\"holiday\" + 0.009*\"money\" + 0.009*\"game\" + 0.008*\"gift\" + 0.007*\"got\"'), (27, '0.011*\"test\" + 0.011*\"disney\" + 0.008*\"light\" + 0.008*\"pride\" + 0.008*\"progressive\"'), (31, '0.017*\"cash\" + 0.016*\"card\" + 0.011*\"earn\" + 0.011*\"apply\" + 0.010*\"terms\"'), (20, '0.010*\"kitchen\" + 0.009*\"received\" + 0.009*\"retirement\" + 0.008*\"equality\" + 0.008*\"october\"'), (26, '0.013*\"lets\" + 0.013*\"discoveryplus\" + 0.010*\"zero\" + 0.010*\"discovery\" + 0.010*\"tonight\"'), (25, '0.012*\"savings\" + 0.009*\"depot\" + 0.009*\"we’ll\" + 0.008*\"home\" + 0.008*\"capital\"'), (2, '0.007*\"5g\" + 0.007*\"campaign\" + 0.007*\"device\" + 0.006*\"disneyplus\" + 0.006*\"record\"'), (6, '0.007*\"help\" + 0.007*\"learn\" + 0.006*\"amp\" + 0.006*\"financial\" + 0.006*\"johnson\"')]\n",
      "\n",
      "\n",
      "When the number of topics is 33\n",
      "[(16, '0.011*\"miss\" + 0.011*\"tonight\" + 0.010*\"disney\" + 0.009*\"don’t\" + 0.008*\"creating\"'), (10, '0.010*\"whats\" + 0.009*\"serve\" + 0.009*\"lets\" + 0.008*\"believe\" + 0.007*\"hand\"'), (15, '0.009*\"insurance\" + 0.008*\"coffee\" + 0.007*\"foundation\" + 0.007*\"confidence\" + 0.007*\"different\"'), (6, '0.009*\"diversity\" + 0.009*\"inclusion\" + 0.009*\"learn\" + 0.007*\"equity\" + 0.007*\"excited\"'), (11, '0.009*\"click\" + 0.008*\"work\" + 0.007*\"unique\" + 0.006*\"like\" + 0.006*\"see\"'), (30, '0.012*\"buy\" + 0.011*\"select\" + 0.010*\"5g\" + 0.010*\"deal\" + 0.009*\"online\"'), (31, '0.017*\"happy\" + 0.012*\"soon\" + 0.012*\"difference\" + 0.012*\"step\" + 0.010*\"packaging\"'), (19, '0.006*\"learn\" + 0.006*\"2021\" + 0.006*\"us\" + 0.006*\"we’re\" + 0.005*\"workplace\"'), (32, '0.021*\"vaccine\" + 0.016*\"johnson\" + 0.015*\"covid19\" + 0.011*\"pfizer\" + 0.008*\"fda\"'), (23, '0.017*\"cash\" + 0.014*\"good\" + 0.013*\"zero\" + 0.012*\"done\" + 0.010*\"wait\"'), (28, '0.009*\"needs\" + 0.008*\"customer\" + 0.008*\"david\" + 0.008*\"economic\" + 0.008*\"transition\"'), (26, '0.014*\"free\" + 0.012*\"app\" + 0.010*\"unlimited\" + 0.010*\"rewards\" + 0.010*\"download\"'), (0, '0.006*\"moment\" + 0.006*\"everyone\" + 0.006*\"talks\" + 0.006*\"help\" + 0.006*\"electric\"'), (5, '0.007*\"helped\" + 0.007*\"real\" + 0.006*\"chief\" + 0.006*\"largest\" + 0.006*\"guide\"'), (12, '0.009*\"results\" + 0.007*\"50\" + 0.007*\"instore\" + 0.007*\"online\" + 0.006*\"sure\"'), (3, '0.014*\"money\" + 0.012*\"let\" + 0.010*\"chain\" + 0.010*\"supply\" + 0.009*\"what’s\"'), (9, '0.008*\"goals\" + 0.007*\"water\" + 0.006*\"edge\" + 0.006*\"practices\" + 0.005*\"tuesday\"'), (17, '0.015*\"car\" + 0.012*\"devices\" + 0.010*\"changed\" + 0.009*\"iphone\" + 0.008*\"tell\"'), (22, '0.013*\"weekend\" + 0.012*\"tap\" + 0.011*\"sale\" + 0.010*\"stas\" + 0.009*\"light\"'), (14, '0.011*\"shows\" + 0.010*\"movies\" + 0.009*\"price\" + 0.008*\"clinical\" + 0.007*\"tweet\"')]\n",
      "\n",
      "\n"
     ]
    }
   ],
   "source": [
    "ldacorpus_m3 = ldacorpus_m1\n",
    "id2word_m3 = id2word_m1\n",
    "tfidfcorpus_m3 = models.TfidfModel(ldacorpus_m3)\n",
    "for n in np.arange(31,34):\n",
    "    lda_m3 = models.ldamodel.LdaModel(corpus=tfidfcorpus_m3[ldacorpus_m3],id2word=id2word_m3,num_topics=n,random_state=40)\n",
    "    print(f\"When the number of topics is {n}\")\n",
    "    print(lda_m3.print_topics(num_words=5))\n",
    "    print(\"\\n\")"
   ]
  },
  {
   "cell_type": "markdown",
   "id": "prostate-startup",
   "metadata": {},
   "source": [
    "#### Filtering extremes\n",
    "I looped through different percentages for the \"no_above\" hyperparameter and realized there was no significant differences in results when varying the percentages. Therefore, I decided to set the \"no_above\" to 0.7 because I think model with no words occur in more than 70.0 % of the documents makes sense to me."
   ]
  },
  {
   "cell_type": "code",
   "execution_count": 38,
   "id": "exterior-yugoslavia",
   "metadata": {},
   "outputs": [
    {
     "name": "stderr",
     "output_type": "stream",
     "text": [
      "c:\\users\\tuski\\appdata\\local\\programs\\python\\python39\\lib\\site-packages\\ipykernel\\ipkernel.py:283: DeprecationWarning: `should_run_async` will not call `transform_cell` automatically in the future. Please pass the result to `transformed_cell` argument and any exception that happen during thetransform in `preprocessing_exc_tuple` in IPython 7.17 and above.\n",
      "  and should_run_async(code)\n"
     ]
    }
   ],
   "source": [
    "percentage = [0.4,0.5,0.6,0.7,0.8,0.9]"
   ]
  },
  {
   "cell_type": "code",
   "execution_count": 39,
   "id": "persistent-billion",
   "metadata": {},
   "outputs": [
    {
     "name": "stderr",
     "output_type": "stream",
     "text": [
      "c:\\users\\tuski\\appdata\\local\\programs\\python\\python39\\lib\\site-packages\\ipykernel\\ipkernel.py:283: DeprecationWarning: `should_run_async` will not call `transform_cell` automatically in the future. Please pass the result to `transformed_cell` argument and any exception that happen during thetransform in `preprocessing_exc_tuple` in IPython 7.17 and above.\n",
      "  and should_run_async(code)\n"
     ]
    },
    {
     "name": "stdout",
     "output_type": "stream",
     "text": [
      "\n",
      "Model with no words that occur more than in  40.0 % of the documents results in the following words:\n",
      "\n",
      "\n",
      "[(16, '0.014*\"chance\" + 0.014*\"win\" + 0.014*\"disney\" + 0.012*\"return\" + 0.010*\"track\" + 0.010*\"ends\" + 0.010*\"seen\" + 0.010*\"expediachat\" + 0.010*\"device\" + 0.009*\"enter\"'), (4, '0.014*\"results\" + 0.014*\"quaer\" + 0.012*\"earnings\" + 0.012*\"international\" + 0.011*\"airlines\" + 0.011*\"changed\" + 0.011*\"billion\" + 0.011*\"stocks\" + 0.011*\"matter\" + 0.010*\"meeting\"'), (3, '0.010*\"2022\" + 0.010*\"pro\" + 0.009*\"6\" + 0.009*\"car\" + 0.008*\"holidays\" + 0.008*\"iphone\" + 0.008*\"13\" + 0.008*\"construction\" + 0.008*\"red\" + 0.008*\"found\"'), (28, '0.013*\"click\" + 0.012*\"cash\" + 0.011*\"moment\" + 0.011*\"homes\" + 0.008*\"see\" + 0.008*\"like\" + 0.008*\"level\" + 0.008*\"retailers\" + 0.008*\"ask\" + 0.008*\"fight\"'), (18, '0.011*\"athletes\" + 0.011*\"fun\" + 0.011*\"training\" + 0.010*\"citi\" + 0.010*\"ones\" + 0.010*\"six\" + 0.010*\"summer\" + 0.009*\"remote\" + 0.009*\"loved\" + 0.009*\"follow\"'), (19, '0.015*\"data\" + 0.014*\"cloud\" + 0.014*\"ai\" + 0.009*\"security\" + 0.009*\"help\" + 0.009*\"business\" + 0.009*\"ibm\" + 0.009*\"learn\" + 0.009*\"technology\" + 0.008*\"approach\"'), (17, '0.012*\"sale\" + 0.012*\"gift\" + 0.010*\"music\" + 0.009*\"holiday\" + 0.009*\"tweet\" + 0.008*\"lines\" + 0.008*\"answer\" + 0.008*\"season\" + 0.007*\"ready\" + 0.007*\"push\"'), (9, '0.011*\"vision\" + 0.011*\"testing\" + 0.011*\"celebrating\" + 0.011*\"here’s\" + 0.010*\"company’s\" + 0.010*\"became\" + 0.009*\"clinical\" + 0.009*\"efficiency\" + 0.008*\"hour\" + 0.008*\"spot\"'), (24, '0.007*\"guide\" + 0.007*\"wall\" + 0.007*\"natural\" + 0.006*\"grant\" + 0.006*\"abbott\" + 0.006*\"edge\" + 0.006*\"software\" + 0.006*\"community\" + 0.006*\"road\" + 0.006*\"decision\"'), (13, '0.025*\"happy\" + 0.011*\"weekend\" + 0.011*\"place\" + 0.010*\"test\" + 0.010*\"tv\" + 0.009*\"thats\" + 0.009*\"max\" + 0.008*\"a…\" + 0.008*\"newest\" + 0.008*\"campaign\"'), (1, '0.011*\"kids\" + 0.011*\"glass\" + 0.010*\"chooseglass\" + 0.009*\"fresh\" + 0.008*\"else\" + 0.007*\"wednesday\" + 0.007*\"anyone\" + 0.007*\"brand\" + 0.007*\"saturday\" + 0.007*\"expected\"'), (27, '0.011*\"amazing\" + 0.010*\"kitchen\" + 0.009*\"saving\" + 0.009*\"december\" + 0.008*\"young\" + 0.008*\"thinking\" + 0.008*\"incredible\" + 0.007*\"purpose\" + 0.007*\"uk\" + 0.007*\"drivers\"'), (6, '0.014*\"terms\" + 0.014*\"apply\" + 0.010*\"markets\" + 0.009*\"morning\" + 0.009*\"extra\" + 0.009*\"lgbtq\" + 0.008*\"planet\" + 0.008*\"phone\" + 0.008*\"pride\" + 0.008*\"shopping\"'), (20, '0.016*\"helped\" + 0.016*\"games\" + 0.015*\"streaming\" + 0.014*\"panering\" + 0.014*\"wait\" + 0.012*\"light\" + 0.012*\"teamusa\" + 0.011*\"popular\" + 0.010*\"response\" + 0.010*\"offering\"'), (29, '0.016*\"card\" + 0.012*\"credit\" + 0.012*\"purchases\" + 0.011*\"coffee\" + 0.011*\"0\" + 0.010*\"nike\" + 0.009*\"easy\" + 0.009*\"money\" + 0.009*\"visa®\" + 0.009*\"intro\"'), (22, '0.016*\"free\" + 0.016*\"points\" + 0.015*\"mcdonalds\" + 0.013*\"app\" + 0.010*\"match\" + 0.010*\"download\" + 0.010*\"hand\" + 0.010*\"u\" + 0.010*\"rewards\" + 0.010*\"hours\"'), (5, '0.014*\"internet\" + 0.010*\"programs\" + 0.010*\"families\" + 0.009*\"21\" + 0.009*\"americans\" + 0.009*\"food\" + 0.008*\"hea\" + 0.008*\"futureofwork\" + 0.008*\"hosted\" + 0.008*\"pofolio\"'), (25, '0.012*\"discoveryplus\" + 0.012*\"stas\" + 0.011*\"discovery\" + 0.010*\"chain\" + 0.009*\"soon\" + 0.009*\"supply\" + 0.009*\"real\" + 0.009*\"visa\" + 0.009*\"recovery\" + 0.009*\"ford\"'), (31, '0.012*\"lets\" + 0.012*\"savings\" + 0.010*\"cash\" + 0.009*\"plan\" + 0.009*\"retirement\" + 0.008*\"insurance\" + 0.008*\"mind\" + 0.008*\"trip\" + 0.008*\"home\" + 0.008*\"name\"'), (11, '0.013*\"diversity\" + 0.013*\"work\" + 0.012*\"inclusion\" + 0.010*\"everyone\" + 0.009*\"women\" + 0.008*\"suppo\" + 0.008*\"make\" + 0.008*\"difference\" + 0.007*\"making\" + 0.007*\"done\"')]\n",
      "\n",
      "Model with no words that occur more than in  50.0 % of the documents results in the following words:\n",
      "\n",
      "\n",
      "[(16, '0.014*\"chance\" + 0.014*\"win\" + 0.014*\"disney\" + 0.012*\"return\" + 0.010*\"track\" + 0.010*\"ends\" + 0.010*\"seen\" + 0.010*\"expediachat\" + 0.010*\"device\" + 0.009*\"enter\"'), (4, '0.014*\"results\" + 0.014*\"quaer\" + 0.012*\"earnings\" + 0.012*\"international\" + 0.011*\"airlines\" + 0.011*\"changed\" + 0.011*\"billion\" + 0.011*\"stocks\" + 0.011*\"matter\" + 0.010*\"meeting\"'), (3, '0.010*\"2022\" + 0.010*\"pro\" + 0.009*\"6\" + 0.009*\"car\" + 0.008*\"holidays\" + 0.008*\"iphone\" + 0.008*\"13\" + 0.008*\"construction\" + 0.008*\"red\" + 0.008*\"found\"'), (28, '0.013*\"click\" + 0.012*\"cash\" + 0.011*\"moment\" + 0.011*\"homes\" + 0.008*\"see\" + 0.008*\"like\" + 0.008*\"level\" + 0.008*\"retailers\" + 0.008*\"ask\" + 0.008*\"fight\"'), (18, '0.011*\"athletes\" + 0.011*\"fun\" + 0.011*\"training\" + 0.010*\"citi\" + 0.010*\"ones\" + 0.010*\"six\" + 0.010*\"summer\" + 0.009*\"remote\" + 0.009*\"loved\" + 0.009*\"follow\"'), (19, '0.015*\"data\" + 0.014*\"cloud\" + 0.014*\"ai\" + 0.009*\"security\" + 0.009*\"help\" + 0.009*\"business\" + 0.009*\"ibm\" + 0.009*\"learn\" + 0.009*\"technology\" + 0.008*\"approach\"'), (17, '0.012*\"sale\" + 0.012*\"gift\" + 0.010*\"music\" + 0.009*\"holiday\" + 0.009*\"tweet\" + 0.008*\"lines\" + 0.008*\"answer\" + 0.008*\"season\" + 0.007*\"ready\" + 0.007*\"push\"'), (9, '0.011*\"vision\" + 0.011*\"testing\" + 0.011*\"celebrating\" + 0.011*\"here’s\" + 0.010*\"company’s\" + 0.010*\"became\" + 0.009*\"clinical\" + 0.009*\"efficiency\" + 0.008*\"hour\" + 0.008*\"spot\"'), (24, '0.007*\"guide\" + 0.007*\"wall\" + 0.007*\"natural\" + 0.006*\"grant\" + 0.006*\"abbott\" + 0.006*\"edge\" + 0.006*\"software\" + 0.006*\"community\" + 0.006*\"road\" + 0.006*\"decision\"'), (13, '0.025*\"happy\" + 0.011*\"weekend\" + 0.011*\"place\" + 0.010*\"test\" + 0.010*\"tv\" + 0.009*\"thats\" + 0.009*\"max\" + 0.008*\"a…\" + 0.008*\"newest\" + 0.008*\"campaign\"'), (1, '0.011*\"kids\" + 0.011*\"glass\" + 0.010*\"chooseglass\" + 0.009*\"fresh\" + 0.008*\"else\" + 0.007*\"wednesday\" + 0.007*\"anyone\" + 0.007*\"brand\" + 0.007*\"saturday\" + 0.007*\"expected\"'), (27, '0.011*\"amazing\" + 0.010*\"kitchen\" + 0.009*\"saving\" + 0.009*\"december\" + 0.008*\"young\" + 0.008*\"thinking\" + 0.008*\"incredible\" + 0.007*\"purpose\" + 0.007*\"uk\" + 0.007*\"drivers\"'), (6, '0.014*\"terms\" + 0.014*\"apply\" + 0.010*\"markets\" + 0.009*\"morning\" + 0.009*\"extra\" + 0.009*\"lgbtq\" + 0.008*\"planet\" + 0.008*\"phone\" + 0.008*\"pride\" + 0.008*\"shopping\"'), (20, '0.016*\"helped\" + 0.016*\"games\" + 0.015*\"streaming\" + 0.014*\"panering\" + 0.014*\"wait\" + 0.012*\"light\" + 0.012*\"teamusa\" + 0.011*\"popular\" + 0.010*\"response\" + 0.010*\"offering\"'), (29, '0.016*\"card\" + 0.012*\"credit\" + 0.012*\"purchases\" + 0.011*\"coffee\" + 0.011*\"0\" + 0.010*\"nike\" + 0.009*\"easy\" + 0.009*\"money\" + 0.009*\"visa®\" + 0.009*\"intro\"'), (22, '0.016*\"free\" + 0.016*\"points\" + 0.015*\"mcdonalds\" + 0.013*\"app\" + 0.010*\"match\" + 0.010*\"download\" + 0.010*\"hand\" + 0.010*\"u\" + 0.010*\"rewards\" + 0.010*\"hours\"'), (5, '0.014*\"internet\" + 0.010*\"programs\" + 0.010*\"families\" + 0.009*\"21\" + 0.009*\"americans\" + 0.009*\"food\" + 0.008*\"hea\" + 0.008*\"futureofwork\" + 0.008*\"hosted\" + 0.008*\"pofolio\"'), (25, '0.012*\"discoveryplus\" + 0.012*\"stas\" + 0.011*\"discovery\" + 0.010*\"chain\" + 0.009*\"soon\" + 0.009*\"supply\" + 0.009*\"real\" + 0.009*\"visa\" + 0.009*\"recovery\" + 0.009*\"ford\"'), (31, '0.012*\"lets\" + 0.012*\"savings\" + 0.010*\"cash\" + 0.009*\"plan\" + 0.009*\"retirement\" + 0.008*\"insurance\" + 0.008*\"mind\" + 0.008*\"trip\" + 0.008*\"home\" + 0.008*\"name\"'), (11, '0.013*\"diversity\" + 0.013*\"work\" + 0.012*\"inclusion\" + 0.010*\"everyone\" + 0.009*\"women\" + 0.008*\"suppo\" + 0.008*\"make\" + 0.008*\"difference\" + 0.007*\"making\" + 0.007*\"done\"')]\n",
      "\n",
      "Model with no words that occur more than in  60.0 % of the documents results in the following words:\n",
      "\n",
      "\n",
      "[(16, '0.014*\"chance\" + 0.014*\"win\" + 0.014*\"disney\" + 0.012*\"return\" + 0.010*\"track\" + 0.010*\"ends\" + 0.010*\"seen\" + 0.010*\"expediachat\" + 0.010*\"device\" + 0.009*\"enter\"'), (4, '0.014*\"results\" + 0.014*\"quaer\" + 0.012*\"earnings\" + 0.012*\"international\" + 0.011*\"airlines\" + 0.011*\"changed\" + 0.011*\"billion\" + 0.011*\"stocks\" + 0.011*\"matter\" + 0.010*\"meeting\"'), (3, '0.010*\"2022\" + 0.010*\"pro\" + 0.009*\"6\" + 0.009*\"car\" + 0.008*\"holidays\" + 0.008*\"iphone\" + 0.008*\"13\" + 0.008*\"construction\" + 0.008*\"red\" + 0.008*\"found\"'), (28, '0.013*\"click\" + 0.012*\"cash\" + 0.011*\"moment\" + 0.011*\"homes\" + 0.008*\"see\" + 0.008*\"like\" + 0.008*\"level\" + 0.008*\"retailers\" + 0.008*\"ask\" + 0.008*\"fight\"'), (18, '0.011*\"athletes\" + 0.011*\"fun\" + 0.011*\"training\" + 0.010*\"citi\" + 0.010*\"ones\" + 0.010*\"six\" + 0.010*\"summer\" + 0.009*\"remote\" + 0.009*\"loved\" + 0.009*\"follow\"'), (19, '0.015*\"data\" + 0.014*\"cloud\" + 0.014*\"ai\" + 0.009*\"security\" + 0.009*\"help\" + 0.009*\"business\" + 0.009*\"ibm\" + 0.009*\"learn\" + 0.009*\"technology\" + 0.008*\"approach\"'), (17, '0.012*\"sale\" + 0.012*\"gift\" + 0.010*\"music\" + 0.009*\"holiday\" + 0.009*\"tweet\" + 0.008*\"lines\" + 0.008*\"answer\" + 0.008*\"season\" + 0.007*\"ready\" + 0.007*\"push\"'), (9, '0.011*\"vision\" + 0.011*\"testing\" + 0.011*\"celebrating\" + 0.011*\"here’s\" + 0.010*\"company’s\" + 0.010*\"became\" + 0.009*\"clinical\" + 0.009*\"efficiency\" + 0.008*\"hour\" + 0.008*\"spot\"'), (24, '0.007*\"guide\" + 0.007*\"wall\" + 0.007*\"natural\" + 0.006*\"grant\" + 0.006*\"abbott\" + 0.006*\"edge\" + 0.006*\"software\" + 0.006*\"community\" + 0.006*\"road\" + 0.006*\"decision\"'), (13, '0.025*\"happy\" + 0.011*\"weekend\" + 0.011*\"place\" + 0.010*\"test\" + 0.010*\"tv\" + 0.009*\"thats\" + 0.009*\"max\" + 0.008*\"a…\" + 0.008*\"newest\" + 0.008*\"campaign\"'), (1, '0.011*\"kids\" + 0.011*\"glass\" + 0.010*\"chooseglass\" + 0.009*\"fresh\" + 0.008*\"else\" + 0.007*\"wednesday\" + 0.007*\"anyone\" + 0.007*\"brand\" + 0.007*\"saturday\" + 0.007*\"expected\"'), (27, '0.011*\"amazing\" + 0.010*\"kitchen\" + 0.009*\"saving\" + 0.009*\"december\" + 0.008*\"young\" + 0.008*\"thinking\" + 0.008*\"incredible\" + 0.007*\"purpose\" + 0.007*\"uk\" + 0.007*\"drivers\"'), (6, '0.014*\"terms\" + 0.014*\"apply\" + 0.010*\"markets\" + 0.009*\"morning\" + 0.009*\"extra\" + 0.009*\"lgbtq\" + 0.008*\"planet\" + 0.008*\"phone\" + 0.008*\"pride\" + 0.008*\"shopping\"'), (20, '0.016*\"helped\" + 0.016*\"games\" + 0.015*\"streaming\" + 0.014*\"panering\" + 0.014*\"wait\" + 0.012*\"light\" + 0.012*\"teamusa\" + 0.011*\"popular\" + 0.010*\"response\" + 0.010*\"offering\"'), (29, '0.016*\"card\" + 0.012*\"credit\" + 0.012*\"purchases\" + 0.011*\"coffee\" + 0.011*\"0\" + 0.010*\"nike\" + 0.009*\"easy\" + 0.009*\"money\" + 0.009*\"visa®\" + 0.009*\"intro\"'), (22, '0.016*\"free\" + 0.016*\"points\" + 0.015*\"mcdonalds\" + 0.013*\"app\" + 0.010*\"match\" + 0.010*\"download\" + 0.010*\"hand\" + 0.010*\"u\" + 0.010*\"rewards\" + 0.010*\"hours\"'), (5, '0.014*\"internet\" + 0.010*\"programs\" + 0.010*\"families\" + 0.009*\"21\" + 0.009*\"americans\" + 0.009*\"food\" + 0.008*\"hea\" + 0.008*\"futureofwork\" + 0.008*\"hosted\" + 0.008*\"pofolio\"'), (25, '0.012*\"discoveryplus\" + 0.012*\"stas\" + 0.011*\"discovery\" + 0.010*\"chain\" + 0.009*\"soon\" + 0.009*\"supply\" + 0.009*\"real\" + 0.009*\"visa\" + 0.009*\"recovery\" + 0.009*\"ford\"'), (31, '0.012*\"lets\" + 0.012*\"savings\" + 0.010*\"cash\" + 0.009*\"plan\" + 0.009*\"retirement\" + 0.008*\"insurance\" + 0.008*\"mind\" + 0.008*\"trip\" + 0.008*\"home\" + 0.008*\"name\"'), (11, '0.013*\"diversity\" + 0.013*\"work\" + 0.012*\"inclusion\" + 0.010*\"everyone\" + 0.009*\"women\" + 0.008*\"suppo\" + 0.008*\"make\" + 0.008*\"difference\" + 0.007*\"making\" + 0.007*\"done\"')]\n"
     ]
    },
    {
     "name": "stdout",
     "output_type": "stream",
     "text": [
      "\n",
      "Model with no words that occur more than in  70.0 % of the documents results in the following words:\n",
      "\n",
      "\n",
      "[(16, '0.014*\"chance\" + 0.014*\"win\" + 0.014*\"disney\" + 0.012*\"return\" + 0.010*\"track\" + 0.010*\"ends\" + 0.010*\"seen\" + 0.010*\"expediachat\" + 0.010*\"device\" + 0.009*\"enter\"'), (4, '0.014*\"results\" + 0.014*\"quaer\" + 0.012*\"earnings\" + 0.012*\"international\" + 0.011*\"airlines\" + 0.011*\"changed\" + 0.011*\"billion\" + 0.011*\"stocks\" + 0.011*\"matter\" + 0.010*\"meeting\"'), (3, '0.010*\"2022\" + 0.010*\"pro\" + 0.009*\"6\" + 0.009*\"car\" + 0.008*\"holidays\" + 0.008*\"iphone\" + 0.008*\"13\" + 0.008*\"construction\" + 0.008*\"red\" + 0.008*\"found\"'), (28, '0.013*\"click\" + 0.012*\"cash\" + 0.011*\"moment\" + 0.011*\"homes\" + 0.008*\"see\" + 0.008*\"like\" + 0.008*\"level\" + 0.008*\"retailers\" + 0.008*\"ask\" + 0.008*\"fight\"'), (18, '0.011*\"athletes\" + 0.011*\"fun\" + 0.011*\"training\" + 0.010*\"citi\" + 0.010*\"ones\" + 0.010*\"six\" + 0.010*\"summer\" + 0.009*\"remote\" + 0.009*\"loved\" + 0.009*\"follow\"'), (19, '0.015*\"data\" + 0.014*\"cloud\" + 0.014*\"ai\" + 0.009*\"security\" + 0.009*\"help\" + 0.009*\"business\" + 0.009*\"ibm\" + 0.009*\"learn\" + 0.009*\"technology\" + 0.008*\"approach\"'), (17, '0.012*\"sale\" + 0.012*\"gift\" + 0.010*\"music\" + 0.009*\"holiday\" + 0.009*\"tweet\" + 0.008*\"lines\" + 0.008*\"answer\" + 0.008*\"season\" + 0.007*\"ready\" + 0.007*\"push\"'), (9, '0.011*\"vision\" + 0.011*\"testing\" + 0.011*\"celebrating\" + 0.011*\"here’s\" + 0.010*\"company’s\" + 0.010*\"became\" + 0.009*\"clinical\" + 0.009*\"efficiency\" + 0.008*\"hour\" + 0.008*\"spot\"'), (24, '0.007*\"guide\" + 0.007*\"wall\" + 0.007*\"natural\" + 0.006*\"grant\" + 0.006*\"abbott\" + 0.006*\"edge\" + 0.006*\"software\" + 0.006*\"community\" + 0.006*\"road\" + 0.006*\"decision\"'), (13, '0.025*\"happy\" + 0.011*\"weekend\" + 0.011*\"place\" + 0.010*\"test\" + 0.010*\"tv\" + 0.009*\"thats\" + 0.009*\"max\" + 0.008*\"a…\" + 0.008*\"newest\" + 0.008*\"campaign\"'), (1, '0.011*\"kids\" + 0.011*\"glass\" + 0.010*\"chooseglass\" + 0.009*\"fresh\" + 0.008*\"else\" + 0.007*\"wednesday\" + 0.007*\"anyone\" + 0.007*\"brand\" + 0.007*\"saturday\" + 0.007*\"expected\"'), (27, '0.011*\"amazing\" + 0.010*\"kitchen\" + 0.009*\"saving\" + 0.009*\"december\" + 0.008*\"young\" + 0.008*\"thinking\" + 0.008*\"incredible\" + 0.007*\"purpose\" + 0.007*\"uk\" + 0.007*\"drivers\"'), (6, '0.014*\"terms\" + 0.014*\"apply\" + 0.010*\"markets\" + 0.009*\"morning\" + 0.009*\"extra\" + 0.009*\"lgbtq\" + 0.008*\"planet\" + 0.008*\"phone\" + 0.008*\"pride\" + 0.008*\"shopping\"'), (20, '0.016*\"helped\" + 0.016*\"games\" + 0.015*\"streaming\" + 0.014*\"panering\" + 0.014*\"wait\" + 0.012*\"light\" + 0.012*\"teamusa\" + 0.011*\"popular\" + 0.010*\"response\" + 0.010*\"offering\"'), (29, '0.016*\"card\" + 0.012*\"credit\" + 0.012*\"purchases\" + 0.011*\"coffee\" + 0.011*\"0\" + 0.010*\"nike\" + 0.009*\"easy\" + 0.009*\"money\" + 0.009*\"visa®\" + 0.009*\"intro\"'), (22, '0.016*\"free\" + 0.016*\"points\" + 0.015*\"mcdonalds\" + 0.013*\"app\" + 0.010*\"match\" + 0.010*\"download\" + 0.010*\"hand\" + 0.010*\"u\" + 0.010*\"rewards\" + 0.010*\"hours\"'), (5, '0.014*\"internet\" + 0.010*\"programs\" + 0.010*\"families\" + 0.009*\"21\" + 0.009*\"americans\" + 0.009*\"food\" + 0.008*\"hea\" + 0.008*\"futureofwork\" + 0.008*\"hosted\" + 0.008*\"pofolio\"'), (25, '0.012*\"discoveryplus\" + 0.012*\"stas\" + 0.011*\"discovery\" + 0.010*\"chain\" + 0.009*\"soon\" + 0.009*\"supply\" + 0.009*\"real\" + 0.009*\"visa\" + 0.009*\"recovery\" + 0.009*\"ford\"'), (31, '0.012*\"lets\" + 0.012*\"savings\" + 0.010*\"cash\" + 0.009*\"plan\" + 0.009*\"retirement\" + 0.008*\"insurance\" + 0.008*\"mind\" + 0.008*\"trip\" + 0.008*\"home\" + 0.008*\"name\"'), (11, '0.013*\"diversity\" + 0.013*\"work\" + 0.012*\"inclusion\" + 0.010*\"everyone\" + 0.009*\"women\" + 0.008*\"suppo\" + 0.008*\"make\" + 0.008*\"difference\" + 0.007*\"making\" + 0.007*\"done\"')]\n",
      "\n",
      "Model with no words that occur more than in  80.0 % of the documents results in the following words:\n",
      "\n",
      "\n",
      "[(16, '0.014*\"chance\" + 0.014*\"win\" + 0.014*\"disney\" + 0.012*\"return\" + 0.010*\"track\" + 0.010*\"ends\" + 0.010*\"seen\" + 0.010*\"expediachat\" + 0.010*\"device\" + 0.009*\"enter\"'), (4, '0.014*\"results\" + 0.014*\"quaer\" + 0.012*\"earnings\" + 0.012*\"international\" + 0.011*\"airlines\" + 0.011*\"changed\" + 0.011*\"billion\" + 0.011*\"stocks\" + 0.011*\"matter\" + 0.010*\"meeting\"'), (3, '0.010*\"2022\" + 0.010*\"pro\" + 0.009*\"6\" + 0.009*\"car\" + 0.008*\"holidays\" + 0.008*\"iphone\" + 0.008*\"13\" + 0.008*\"construction\" + 0.008*\"red\" + 0.008*\"found\"'), (28, '0.013*\"click\" + 0.012*\"cash\" + 0.011*\"moment\" + 0.011*\"homes\" + 0.008*\"see\" + 0.008*\"like\" + 0.008*\"level\" + 0.008*\"retailers\" + 0.008*\"ask\" + 0.008*\"fight\"'), (18, '0.011*\"athletes\" + 0.011*\"fun\" + 0.011*\"training\" + 0.010*\"citi\" + 0.010*\"ones\" + 0.010*\"six\" + 0.010*\"summer\" + 0.009*\"remote\" + 0.009*\"loved\" + 0.009*\"follow\"'), (19, '0.015*\"data\" + 0.014*\"cloud\" + 0.014*\"ai\" + 0.009*\"security\" + 0.009*\"help\" + 0.009*\"business\" + 0.009*\"ibm\" + 0.009*\"learn\" + 0.009*\"technology\" + 0.008*\"approach\"'), (17, '0.012*\"sale\" + 0.012*\"gift\" + 0.010*\"music\" + 0.009*\"holiday\" + 0.009*\"tweet\" + 0.008*\"lines\" + 0.008*\"answer\" + 0.008*\"season\" + 0.007*\"ready\" + 0.007*\"push\"'), (9, '0.011*\"vision\" + 0.011*\"testing\" + 0.011*\"celebrating\" + 0.011*\"here’s\" + 0.010*\"company’s\" + 0.010*\"became\" + 0.009*\"clinical\" + 0.009*\"efficiency\" + 0.008*\"hour\" + 0.008*\"spot\"'), (24, '0.007*\"guide\" + 0.007*\"wall\" + 0.007*\"natural\" + 0.006*\"grant\" + 0.006*\"abbott\" + 0.006*\"edge\" + 0.006*\"software\" + 0.006*\"community\" + 0.006*\"road\" + 0.006*\"decision\"'), (13, '0.025*\"happy\" + 0.011*\"weekend\" + 0.011*\"place\" + 0.010*\"test\" + 0.010*\"tv\" + 0.009*\"thats\" + 0.009*\"max\" + 0.008*\"a…\" + 0.008*\"newest\" + 0.008*\"campaign\"'), (1, '0.011*\"kids\" + 0.011*\"glass\" + 0.010*\"chooseglass\" + 0.009*\"fresh\" + 0.008*\"else\" + 0.007*\"wednesday\" + 0.007*\"anyone\" + 0.007*\"brand\" + 0.007*\"saturday\" + 0.007*\"expected\"'), (27, '0.011*\"amazing\" + 0.010*\"kitchen\" + 0.009*\"saving\" + 0.009*\"december\" + 0.008*\"young\" + 0.008*\"thinking\" + 0.008*\"incredible\" + 0.007*\"purpose\" + 0.007*\"uk\" + 0.007*\"drivers\"'), (6, '0.014*\"terms\" + 0.014*\"apply\" + 0.010*\"markets\" + 0.009*\"morning\" + 0.009*\"extra\" + 0.009*\"lgbtq\" + 0.008*\"planet\" + 0.008*\"phone\" + 0.008*\"pride\" + 0.008*\"shopping\"'), (20, '0.016*\"helped\" + 0.016*\"games\" + 0.015*\"streaming\" + 0.014*\"panering\" + 0.014*\"wait\" + 0.012*\"light\" + 0.012*\"teamusa\" + 0.011*\"popular\" + 0.010*\"response\" + 0.010*\"offering\"'), (29, '0.016*\"card\" + 0.012*\"credit\" + 0.012*\"purchases\" + 0.011*\"coffee\" + 0.011*\"0\" + 0.010*\"nike\" + 0.009*\"easy\" + 0.009*\"money\" + 0.009*\"visa®\" + 0.009*\"intro\"'), (22, '0.016*\"free\" + 0.016*\"points\" + 0.015*\"mcdonalds\" + 0.013*\"app\" + 0.010*\"match\" + 0.010*\"download\" + 0.010*\"hand\" + 0.010*\"u\" + 0.010*\"rewards\" + 0.010*\"hours\"'), (5, '0.014*\"internet\" + 0.010*\"programs\" + 0.010*\"families\" + 0.009*\"21\" + 0.009*\"americans\" + 0.009*\"food\" + 0.008*\"hea\" + 0.008*\"futureofwork\" + 0.008*\"hosted\" + 0.008*\"pofolio\"'), (25, '0.012*\"discoveryplus\" + 0.012*\"stas\" + 0.011*\"discovery\" + 0.010*\"chain\" + 0.009*\"soon\" + 0.009*\"supply\" + 0.009*\"real\" + 0.009*\"visa\" + 0.009*\"recovery\" + 0.009*\"ford\"'), (31, '0.012*\"lets\" + 0.012*\"savings\" + 0.010*\"cash\" + 0.009*\"plan\" + 0.009*\"retirement\" + 0.008*\"insurance\" + 0.008*\"mind\" + 0.008*\"trip\" + 0.008*\"home\" + 0.008*\"name\"'), (11, '0.013*\"diversity\" + 0.013*\"work\" + 0.012*\"inclusion\" + 0.010*\"everyone\" + 0.009*\"women\" + 0.008*\"suppo\" + 0.008*\"make\" + 0.008*\"difference\" + 0.007*\"making\" + 0.007*\"done\"')]\n",
      "\n",
      "Model with no words that occur more than in  90.0 % of the documents results in the following words:\n",
      "\n",
      "\n",
      "[(16, '0.014*\"chance\" + 0.014*\"win\" + 0.014*\"disney\" + 0.012*\"return\" + 0.010*\"track\" + 0.010*\"ends\" + 0.010*\"seen\" + 0.010*\"expediachat\" + 0.010*\"device\" + 0.009*\"enter\"'), (4, '0.014*\"results\" + 0.014*\"quaer\" + 0.012*\"earnings\" + 0.012*\"international\" + 0.011*\"airlines\" + 0.011*\"changed\" + 0.011*\"billion\" + 0.011*\"stocks\" + 0.011*\"matter\" + 0.010*\"meeting\"'), (3, '0.010*\"2022\" + 0.010*\"pro\" + 0.009*\"6\" + 0.009*\"car\" + 0.008*\"holidays\" + 0.008*\"iphone\" + 0.008*\"13\" + 0.008*\"construction\" + 0.008*\"red\" + 0.008*\"found\"'), (28, '0.013*\"click\" + 0.012*\"cash\" + 0.011*\"moment\" + 0.011*\"homes\" + 0.008*\"see\" + 0.008*\"like\" + 0.008*\"level\" + 0.008*\"retailers\" + 0.008*\"ask\" + 0.008*\"fight\"'), (18, '0.011*\"athletes\" + 0.011*\"fun\" + 0.011*\"training\" + 0.010*\"citi\" + 0.010*\"ones\" + 0.010*\"six\" + 0.010*\"summer\" + 0.009*\"remote\" + 0.009*\"loved\" + 0.009*\"follow\"'), (19, '0.015*\"data\" + 0.014*\"cloud\" + 0.014*\"ai\" + 0.009*\"security\" + 0.009*\"help\" + 0.009*\"business\" + 0.009*\"ibm\" + 0.009*\"learn\" + 0.009*\"technology\" + 0.008*\"approach\"'), (17, '0.012*\"sale\" + 0.012*\"gift\" + 0.010*\"music\" + 0.009*\"holiday\" + 0.009*\"tweet\" + 0.008*\"lines\" + 0.008*\"answer\" + 0.008*\"season\" + 0.007*\"ready\" + 0.007*\"push\"'), (9, '0.011*\"vision\" + 0.011*\"testing\" + 0.011*\"celebrating\" + 0.011*\"here’s\" + 0.010*\"company’s\" + 0.010*\"became\" + 0.009*\"clinical\" + 0.009*\"efficiency\" + 0.008*\"hour\" + 0.008*\"spot\"'), (24, '0.007*\"guide\" + 0.007*\"wall\" + 0.007*\"natural\" + 0.006*\"grant\" + 0.006*\"abbott\" + 0.006*\"edge\" + 0.006*\"software\" + 0.006*\"community\" + 0.006*\"road\" + 0.006*\"decision\"'), (13, '0.025*\"happy\" + 0.011*\"weekend\" + 0.011*\"place\" + 0.010*\"test\" + 0.010*\"tv\" + 0.009*\"thats\" + 0.009*\"max\" + 0.008*\"a…\" + 0.008*\"newest\" + 0.008*\"campaign\"'), (1, '0.011*\"kids\" + 0.011*\"glass\" + 0.010*\"chooseglass\" + 0.009*\"fresh\" + 0.008*\"else\" + 0.007*\"wednesday\" + 0.007*\"anyone\" + 0.007*\"brand\" + 0.007*\"saturday\" + 0.007*\"expected\"'), (27, '0.011*\"amazing\" + 0.010*\"kitchen\" + 0.009*\"saving\" + 0.009*\"december\" + 0.008*\"young\" + 0.008*\"thinking\" + 0.008*\"incredible\" + 0.007*\"purpose\" + 0.007*\"uk\" + 0.007*\"drivers\"'), (6, '0.014*\"terms\" + 0.014*\"apply\" + 0.010*\"markets\" + 0.009*\"morning\" + 0.009*\"extra\" + 0.009*\"lgbtq\" + 0.008*\"planet\" + 0.008*\"phone\" + 0.008*\"pride\" + 0.008*\"shopping\"'), (20, '0.016*\"helped\" + 0.016*\"games\" + 0.015*\"streaming\" + 0.014*\"panering\" + 0.014*\"wait\" + 0.012*\"light\" + 0.012*\"teamusa\" + 0.011*\"popular\" + 0.010*\"response\" + 0.010*\"offering\"'), (29, '0.016*\"card\" + 0.012*\"credit\" + 0.012*\"purchases\" + 0.011*\"coffee\" + 0.011*\"0\" + 0.010*\"nike\" + 0.009*\"easy\" + 0.009*\"money\" + 0.009*\"visa®\" + 0.009*\"intro\"'), (22, '0.016*\"free\" + 0.016*\"points\" + 0.015*\"mcdonalds\" + 0.013*\"app\" + 0.010*\"match\" + 0.010*\"download\" + 0.010*\"hand\" + 0.010*\"u\" + 0.010*\"rewards\" + 0.010*\"hours\"'), (5, '0.014*\"internet\" + 0.010*\"programs\" + 0.010*\"families\" + 0.009*\"21\" + 0.009*\"americans\" + 0.009*\"food\" + 0.008*\"hea\" + 0.008*\"futureofwork\" + 0.008*\"hosted\" + 0.008*\"pofolio\"'), (25, '0.012*\"discoveryplus\" + 0.012*\"stas\" + 0.011*\"discovery\" + 0.010*\"chain\" + 0.009*\"soon\" + 0.009*\"supply\" + 0.009*\"real\" + 0.009*\"visa\" + 0.009*\"recovery\" + 0.009*\"ford\"'), (31, '0.012*\"lets\" + 0.012*\"savings\" + 0.010*\"cash\" + 0.009*\"plan\" + 0.009*\"retirement\" + 0.008*\"insurance\" + 0.008*\"mind\" + 0.008*\"trip\" + 0.008*\"home\" + 0.008*\"name\"'), (11, '0.013*\"diversity\" + 0.013*\"work\" + 0.012*\"inclusion\" + 0.010*\"everyone\" + 0.009*\"women\" + 0.008*\"suppo\" + 0.008*\"make\" + 0.008*\"difference\" + 0.007*\"making\" + 0.007*\"done\"')]\n"
     ]
    }
   ],
   "source": [
    "for p in percentage:\n",
    "    id2word_m4 = id2word_m1    \n",
    "    id2word_m4.filter_extremes(no_below=5, no_above=p)\n",
    "    ldacorpus_m4 = [id2word_m4.doc2bow(doc) for doc in ldainput_m1]\n",
    "    tfidfcorpus_m4 = models.TfidfModel(ldacorpus_m4)\n",
    "    lda_m4 = models.ldamodel.LdaModel(corpus=tfidfcorpus_m4[ldacorpus_m4], id2word=id2word_m4, num_topics=32, random_state=40) \n",
    "    print (\"\\nModel with no words that occur more than in \",(p*100),\"% of the documents results in the following words:\\n\\n\")\n",
    "    print (lda_m4.print_topics())"
   ]
  },
  {
   "cell_type": "markdown",
   "id": "blessed-invitation",
   "metadata": {},
   "source": [
    "#### N-grams\n",
    "Including bigrams doesn't improve the model, therefore, use unigram only."
   ]
  },
  {
   "cell_type": "code",
   "execution_count": 40,
   "id": "innovative-collins",
   "metadata": {},
   "outputs": [
    {
     "name": "stderr",
     "output_type": "stream",
     "text": [
      "c:\\users\\tuski\\appdata\\local\\programs\\python\\python39\\lib\\site-packages\\ipykernel\\ipkernel.py:283: DeprecationWarning: `should_run_async` will not call `transform_cell` automatically in the future. Please pass the result to `transformed_cell` argument and any exception that happen during thetransform in `preprocessing_exc_tuple` in IPython 7.17 and above.\n",
      "  and should_run_async(code)\n"
     ]
    }
   ],
   "source": [
    "text_bigrams = [[\"_\".join(tup) for tup in nltk.ngrams(n.split(),2)] for n in text]"
   ]
  },
  {
   "cell_type": "code",
   "execution_count": 41,
   "id": "worse-geneva",
   "metadata": {},
   "outputs": [
    {
     "name": "stderr",
     "output_type": "stream",
     "text": [
      "c:\\users\\tuski\\appdata\\local\\programs\\python\\python39\\lib\\site-packages\\ipykernel\\ipkernel.py:283: DeprecationWarning: `should_run_async` will not call `transform_cell` automatically in the future. Please pass the result to `transformed_cell` argument and any exception that happen during thetransform in `preprocessing_exc_tuple` in IPython 7.17 and above.\n",
      "  and should_run_async(code)\n"
     ]
    }
   ],
   "source": [
    "assert len(text)==len(text_bigrams)\n",
    "text_uniandbigrams = []\n",
    "for a,b in zip([n.split() for n in text],text_bigrams):\n",
    "    text_uniandbigrams.append(a + b)"
   ]
  },
  {
   "cell_type": "code",
   "execution_count": 42,
   "id": "taken-diesel",
   "metadata": {},
   "outputs": [
    {
     "name": "stderr",
     "output_type": "stream",
     "text": [
      "c:\\users\\tuski\\appdata\\local\\programs\\python\\python39\\lib\\site-packages\\ipykernel\\ipkernel.py:283: DeprecationWarning: `should_run_async` will not call `transform_cell` automatically in the future. Please pass the result to `transformed_cell` argument and any exception that happen during thetransform in `preprocessing_exc_tuple` in IPython 7.17 and above.\n",
      "  and should_run_async(code)\n"
     ]
    },
    {
     "data": {
      "text/plain": [
       "[(14,\n",
       "  '0.010*\"ready\" + 0.010*\"tonight\" + 0.009*\"7\" + 0.009*\"red\" + 0.009*\"line\" + 0.009*\"get_ready\" + 0.008*\"thing\" + 0.008*\"athletes\" + 0.008*\"construction\" + 0.008*\"new_year\"'),\n",
       " (19,\n",
       "  '0.022*\"johnson\" + 0.011*\"johnson_amp\" + 0.010*\"tell\" + 0.010*\"amp\" + 0.010*\"amp_johnson\" + 0.008*\"vaccine\" + 0.007*\"productivity\" + 0.007*\"decision\" + 0.006*\"hand\" + 0.006*\"drug\"'),\n",
       " (3,\n",
       "  '0.011*\"generation\" + 0.009*\"next\" + 0.009*\"women\" + 0.008*\"brand\" + 0.008*\"next_generation\" + 0.008*\"something\" + 0.007*\"grant\" + 0.007*\"wait\" + 0.007*\"mind\" + 0.007*\"wants\"'),\n",
       " (15,\n",
       "  '0.008*\"intel\" + 0.008*\"film\" + 0.007*\"feel\" + 0.007*\"recovery\" + 0.007*\"watching\" + 0.007*\"faster\" + 0.007*\"looks\" + 0.006*\"oh\" + 0.006*\"powered\" + 0.006*\"netflix\"'),\n",
       " (16,\n",
       "  '0.010*\"ford\" + 0.008*\"post\" + 0.008*\"interview\" + 0.008*\"ideas\" + 0.007*\"problems\" + 0.007*\"large\" + 0.007*\"super\" + 0.007*\"create\" + 0.007*\"providers\" + 0.007*\"drivers\"'),\n",
       " (25,\n",
       "  '0.012*\"congrats\" + 0.011*\"zero\" + 0.009*\"space\" + 0.009*\"transformation\" + 0.008*\"t…\" + 0.008*\"lgbtq\" + 0.008*\"tour\" + 0.008*\"winning\" + 0.007*\"whole\" + 0.007*\"perfect\"'),\n",
       " (29,\n",
       "  '0.008*\"hea\" + 0.008*\"edge\" + 0.007*\"planet\" + 0.007*\"successful\" + 0.007*\"aicle\" + 0.007*\"safer\" + 0.007*\"dedicated\" + 0.007*\"ca\" + 0.006*\"automation\" + 0.006*\"xerox\"'),\n",
       " (9,\n",
       "  '0.010*\"night\" + 0.009*\"testing\" + 0.009*\"holiday\" + 0.008*\"lab\" + 0.008*\"thank\" + 0.008*\"expediachat\" + 0.008*\"media\" + 0.007*\"joe\" + 0.007*\"past\" + 0.007*\"united\"'),\n",
       " (6,\n",
       "  '0.011*\"let\" + 0.008*\"choose\" + 0.007*\"ig\" + 0.007*\"spending\" + 0.007*\"efficiency\" + 0.007*\"wanted\" + 0.006*\"disneyplus\" + 0.006*\"pride\" + 0.006*\"resource\" + 0.006*\"doesn’t\"'),\n",
       " (1,\n",
       "  '0.009*\"dont\" + 0.009*\"got\" + 0.008*\"david\" + 0.008*\"gets\" + 0.008*\"campaign\" + 0.008*\"natural\" + 0.007*\"clean\" + 0.007*\"white\" + 0.007*\"miss\" + 0.007*\"talks\"'),\n",
       " (7,\n",
       "  '0.006*\"thanks\" + 0.006*\"“the\" + 0.006*\"change\" + 0.006*\"paner\" + 0.006*\"learn\" + 0.006*\"climate\" + 0.006*\"seen\" + 0.006*\"community\" + 0.006*\"students\" + 0.006*\"world\"'),\n",
       " (28,\n",
       "  '0.015*\"small\" + 0.010*\"supply\" + 0.009*\"real\" + 0.009*\"chain\" + 0.008*\"businesses\" + 0.008*\"calling\" + 0.007*\"small_business\" + 0.007*\"supply_chain\" + 0.007*\"doses\" + 0.007*\"small_businesses\"'),\n",
       " (4,\n",
       "  '0.010*\"texas\" + 0.009*\"proud\" + 0.009*\"we’re_proud\" + 0.009*\"we’re\" + 0.008*\"2021\" + 0.008*\"honored\" + 0.007*\"abbott\" + 0.007*\"celebrating\" + 0.006*\"highlights\" + 0.006*\"nationwide\"'),\n",
       " (17,\n",
       "  '0.008*\"hard\" + 0.007*\"phone\" + 0.007*\"holidays\" + 0.006*\"retailers\" + 0.006*\"career\" + 0.006*\"christmas\" + 0.006*\"every\" + 0.006*\"mcgrawhillk12\" + 0.006*\"design\" + 0.006*\"job\"'),\n",
       " (31,\n",
       "  '0.008*\"health\" + 0.007*\"learn\" + 0.006*\"discoveryplus\" + 0.006*\"insights\" + 0.006*\"stream\" + 0.005*\"makes\" + 0.005*\"digital\" + 0.005*\"analytics\" + 0.005*\"trends\" + 0.005*\"suppo\"'),\n",
       " (30,\n",
       "  '0.009*\"someone\" + 0.009*\"congratulations\" + 0.008*\"book\" + 0.008*\"rates\" + 0.007*\"light\" + 0.007*\"yet\" + 0.007*\"country\" + 0.007*\"sunday\" + 0.007*\"winner\" + 0.006*\"youre\"'),\n",
       " (24,\n",
       "  '0.013*\"click\" + 0.012*\"homes\" + 0.011*\"see_click\" + 0.010*\"see\" + 0.010*\"anywhere\" + 0.009*\"room\" + 0.008*\"clear\" + 0.007*\"talent\" + 0.007*\"like\" + 0.006*\"“we\"'),\n",
       " (22,\n",
       "  '0.010*\"vision\" + 0.008*\"spend\" + 0.007*\"programs\" + 0.007*\"europe\" + 0.007*\"became\" + 0.007*\"remote\" + 0.007*\"feature\" + 0.006*\"thrilled\" + 0.006*\"goals\" + 0.006*\"age\"'),\n",
       " (2,\n",
       "  '0.010*\"credit\" + 0.009*\"software\" + 0.007*\"fully\" + 0.006*\"face\" + 0.006*\"cyber\" + 0.006*\"biden\" + 0.006*\"0\" + 0.006*\"federal\" + 0.006*\"platinum\" + 0.006*\"pro\"'),\n",
       " (13,\n",
       "  '0.014*\"vaccine\" + 0.013*\"covid19\" + 0.009*\"covid19_vaccine\" + 0.007*\"pfizer\" + 0.006*\"record\" + 0.006*\"clinical\" + 0.005*\"shot\" + 0.005*\"technologies\" + 0.005*\"medical\" + 0.005*\"water\"')]"
      ]
     },
     "execution_count": 42,
     "metadata": {},
     "output_type": "execute_result"
    }
   ],
   "source": [
    "id2word_m5 = corpora.Dictionary(text_uniandbigrams)\n",
    "id2word_m5.filter_extremes(no_below=5, no_above=0.7)\n",
    "ldacorpus_m5 = [id2word_m5.doc2bow(doc) for doc in text_uniandbigrams]\n",
    "tfidfcorpus_m5 = models.TfidfModel(ldacorpus_m5)\n",
    "lda_m5 = models.ldamodel.LdaModel(corpus=tfidfcorpus_m5[ldacorpus_m5],id2word=id2word_m5,num_topics=32, random_state=40)\n",
    "lda_m5.print_topics()"
   ]
  },
  {
   "cell_type": "markdown",
   "id": "seeing-mirror",
   "metadata": {},
   "source": [
    "#### Tuning alpha and eta\n",
    "I set both the alpha and eta to \"auto\", set iterations to 20 and passes to 5 to optimize the result."
   ]
  },
  {
   "cell_type": "code",
   "execution_count": 43,
   "id": "valuable-architecture",
   "metadata": {},
   "outputs": [
    {
     "name": "stderr",
     "output_type": "stream",
     "text": [
      "c:\\users\\tuski\\appdata\\local\\programs\\python\\python39\\lib\\site-packages\\ipykernel\\ipkernel.py:283: DeprecationWarning: `should_run_async` will not call `transform_cell` automatically in the future. Please pass the result to `transformed_cell` argument and any exception that happen during thetransform in `preprocessing_exc_tuple` in IPython 7.17 and above.\n",
      "  and should_run_async(code)\n"
     ]
    }
   ],
   "source": [
    "id2word_m6 = id2word_m5\n",
    "ldacorpus_m6 = ldacorpus_m5\n",
    "tfidfcorpus_m6 = models.TfidfModel(ldacorpus_m6)\n",
    "lda_m6 = models.ldamodel.LdaModel(corpus=tfidfcorpus_m6[ldacorpus_m6],\n",
    "                                  id2word=id2word_m6,\n",
    "                                  num_topics=32, \n",
    "                                  alpha='auto', \n",
    "                                  eta = 'auto',\n",
    "                                  passes=5,\n",
    "                                  iterations=20,\n",
    "                                  random_state=40)"
   ]
  },
  {
   "cell_type": "code",
   "execution_count": 56,
   "id": "loaded-potential",
   "metadata": {},
   "outputs": [
    {
     "name": "stderr",
     "output_type": "stream",
     "text": [
      "c:\\users\\tuski\\appdata\\local\\programs\\python\\python39\\lib\\site-packages\\ipykernel\\ipkernel.py:283: DeprecationWarning: `should_run_async` will not call `transform_cell` automatically in the future. Please pass the result to `transformed_cell` argument and any exception that happen during thetransform in `preprocessing_exc_tuple` in IPython 7.17 and above.\n",
      "  and should_run_async(code)\n"
     ]
    }
   ],
   "source": [
    "topics = lda_m6.print_topics(num_topics=32)"
   ]
  },
  {
   "cell_type": "code",
   "execution_count": 45,
   "id": "innovative-anderson",
   "metadata": {},
   "outputs": [
    {
     "name": "stderr",
     "output_type": "stream",
     "text": [
      "c:\\users\\tuski\\appdata\\local\\programs\\python\\python39\\lib\\site-packages\\ipykernel\\ipkernel.py:283: DeprecationWarning: `should_run_async` will not call `transform_cell` automatically in the future. Please pass the result to `transformed_cell` argument and any exception that happen during thetransform in `preprocessing_exc_tuple` in IPython 7.17 and above.\n",
      "  and should_run_async(code)\n"
     ]
    },
    {
     "data": {
      "text/plain": [
       "[([(0.014149794, 'new'),\n",
       "   (0.014133332, 'us'),\n",
       "   (0.010193349, 'one'),\n",
       "   (0.010002824, 'get'),\n",
       "   (0.009048642, 'day'),\n",
       "   (0.008835837, 'amp'),\n",
       "   (0.008620565, 'like'),\n",
       "   (0.008587712, 'year'),\n",
       "   (0.00797361, 'time'),\n",
       "   (0.007702085, 'see'),\n",
       "   (0.0075389715, 'home'),\n",
       "   (0.0073373616, 'today'),\n",
       "   (0.0071333223, 'take'),\n",
       "   (0.0070055085, 'it’s'),\n",
       "   (0.006595358, 'know'),\n",
       "   (0.0063941474, 'back'),\n",
       "   (0.0063385954, 'make'),\n",
       "   (0.0061345794, 'next'),\n",
       "   (0.006119511, 'find'),\n",
       "   (0.0059621343, 'go')],\n",
       "  -3.4186573982628703),\n",
       " ([(0.010153395, 'learn'),\n",
       "   (0.010147089, 'first'),\n",
       "   (0.0101427585, 'watch'),\n",
       "   (0.00921504, 'health'),\n",
       "   (0.008873086, 'latest'),\n",
       "   (0.0085668815, 'live'),\n",
       "   (0.0085511245, 'data'),\n",
       "   (0.008189054, 'team'),\n",
       "   (0.0077621327, 'digital'),\n",
       "   (0.007731902, '2021'),\n",
       "   (0.007547176, 'work'),\n",
       "   (0.0073091984, 'financial'),\n",
       "   (0.006994588, 'share'),\n",
       "   (0.006752103, 'tech'),\n",
       "   (0.006705477, '–'),\n",
       "   (0.006563952, 'global'),\n",
       "   (0.0064670574, 'solutions'),\n",
       "   (0.006404593, 'top'),\n",
       "   (0.006348643, 'pandemic'),\n",
       "   (0.0061581377, 'working')],\n",
       "  -3.8216295028247558),\n",
       " ([(0.012816031, 'covid19'),\n",
       "   (0.008654464, 'pa'),\n",
       "   (0.008625133, 'we’re'),\n",
       "   (0.008545891, 'world'),\n",
       "   (0.008523777, 'community'),\n",
       "   (0.008129601, 'great'),\n",
       "   (0.008086311, 'help'),\n",
       "   (0.00789772, 'good'),\n",
       "   (0.0077820905, 'better'),\n",
       "   (0.0077680126, 'together'),\n",
       "   (0.00776164, 'sta'),\n",
       "   (0.00768949, 'learn'),\n",
       "   (0.007633006, 'industry'),\n",
       "   (0.007373428, 'target'),\n",
       "   (0.0071953875, 'impact'),\n",
       "   (0.007176891, 'suppo'),\n",
       "   (0.0066628563, 'ai'),\n",
       "   (0.00661654, 'around'),\n",
       "   (0.0065798876, 'sustainability'),\n",
       "   (0.0065396978, 'going')],\n",
       "  -4.45708473921542),\n",
       " ([(0.0149934925, 'shop'),\n",
       "   (0.012458375, 'big'),\n",
       "   (0.012127325, 'says'),\n",
       "   (0.011037271, 'thank'),\n",
       "   (0.011011738, 'app'),\n",
       "   (0.009905276, 'online'),\n",
       "   (0.009669074, 'favorite'),\n",
       "   (0.009163692, 'via'),\n",
       "   (0.0088043995, 'coming'),\n",
       "   (0.008492905, 'air'),\n",
       "   (0.008383918, 'apply'),\n",
       "   (0.008287141, 'netflix'),\n",
       "   (0.008248654, 'weekend'),\n",
       "   (0.008166295, 'nike'),\n",
       "   (0.008001203, 'free'),\n",
       "   (0.007990774, 'card'),\n",
       "   (0.007528113, '5'),\n",
       "   (0.007432247, 'special'),\n",
       "   (0.00731054, 'deals'),\n",
       "   (0.0071053724, 'visit')],\n",
       "  -7.293302325650943),\n",
       " ([(0.017192569, 'women'),\n",
       "   (0.016702974, 'family'),\n",
       "   (0.015312663, 'shares'),\n",
       "   (0.015110761, 'security'),\n",
       "   (0.0138225285, 'cloud'),\n",
       "   (0.0136282975, 'discuss'),\n",
       "   (0.012050986, 'needs'),\n",
       "   (0.011477875, 'build'),\n",
       "   (0.01092088, 'safety'),\n",
       "   (0.009747778, 'effos'),\n",
       "   (0.009659268, 'approach'),\n",
       "   (0.009617971, 'leadership'),\n",
       "   (0.009504221, 'welcome'),\n",
       "   (0.009056072, 'insurance'),\n",
       "   (0.008996064, 'goals'),\n",
       "   (0.008875041, 'friends'),\n",
       "   (0.008632448, 'deliver'),\n",
       "   (0.0084290225, 'face'),\n",
       "   (0.008426341, 'ever'),\n",
       "   (0.008405434, 'diversity')],\n",
       "  -7.483799276169362),\n",
       " ([(0.025473045, 'vaccine'),\n",
       "   (0.014960147, 'pfizer'),\n",
       "   (0.014355771, 'covid19_vaccine'),\n",
       "   (0.013679467, 'research'),\n",
       "   (0.011916931, 'improve'),\n",
       "   (0.011475897, 'organizations'),\n",
       "   (0.010572493, 'recently'),\n",
       "   (0.0104856705, 'creating'),\n",
       "   (0.010263642, 'shot'),\n",
       "   (0.009834446, 'study'),\n",
       "   (0.009612813, 'manufacturing'),\n",
       "   (0.008587566, 'largest'),\n",
       "   (0.008454803, 'esg'),\n",
       "   (0.008235496, 'fda'),\n",
       "   (0.008015587, 'cancer'),\n",
       "   (0.0078748455, 'covid19'),\n",
       "   (0.0077078203, 'medical'),\n",
       "   (0.007475362, 'view'),\n",
       "   (0.007397055, 'clinical'),\n",
       "   (0.0072633843, 'strategies')],\n",
       "  -9.67518780781206),\n",
       " ([(0.020429319, 'travel'),\n",
       "   (0.020132596, 'news'),\n",
       "   (0.02006698, 'save'),\n",
       "   (0.019405892, 'got'),\n",
       "   (0.0143965, 'little'),\n",
       "   (0.013252557, 'ahead'),\n",
       "   (0.013191402, 'fun'),\n",
       "   (0.012919664, 'international'),\n",
       "   (0.010911733, 'winter'),\n",
       "   (0.010561455, 'try'),\n",
       "   (0.010349558, 'coronavirus'),\n",
       "   (0.010031744, 'lets'),\n",
       "   (0.009729879, 'expected'),\n",
       "   (0.009666633, 'can’t'),\n",
       "   (0.008820047, 'offering'),\n",
       "   (0.008705707, 'longer'),\n",
       "   (0.0086061545, 'account'),\n",
       "   (0.0086034555, 'content'),\n",
       "   (0.008598392, 'thanksgiving'),\n",
       "   (0.00837262, 'enough')],\n",
       "  -11.821026159666355),\n",
       " ([(0.016729586, 'growth'),\n",
       "   (0.014615338, 'texas'),\n",
       "   (0.014409542, 'honor'),\n",
       "   (0.012968799, 'we’re_proud'),\n",
       "   (0.012685916, 'tonight'),\n",
       "   (0.01177306, 'water'),\n",
       "   (0.011455072, 'education'),\n",
       "   (0.010438436, 'honored'),\n",
       "   (0.010236292, 'environment'),\n",
       "   (0.009849024, 'results'),\n",
       "   (0.00943623, 'recognized'),\n",
       "   (0.009042458, 'abbott'),\n",
       "   (0.008792219, 'quaer'),\n",
       "   (0.008374726, 'address'),\n",
       "   (0.008138835, 'highlights'),\n",
       "   (0.007997708, 'member'),\n",
       "   (0.007540852, 'disease'),\n",
       "   (0.007374459, '8'),\n",
       "   (0.007372189, 'cases'),\n",
       "   (0.007355807, 'gov')],\n",
       "  -12.808527551075143),\n",
       " ([(0.018492749, 'generation'),\n",
       "   (0.016801188, 'something'),\n",
       "   (0.012983181, 'updates'),\n",
       "   (0.0122168455, 'wait'),\n",
       "   (0.012103176, 'next_generation'),\n",
       "   (0.011964241, 'applications'),\n",
       "   (0.011666831, 'cisco'),\n",
       "   (0.011313295, 'grant'),\n",
       "   (0.011054271, 'joins'),\n",
       "   (0.010757864, 'cant'),\n",
       "   (0.010251354, 'answer'),\n",
       "   (0.009454812, 'apps'),\n",
       "   (0.009288878, 'question'),\n",
       "   (0.009037727, 'managing'),\n",
       "   (0.008996269, 'environmental'),\n",
       "   (0.008494228, 'womenshistorymonth'),\n",
       "   (0.008350559, 'covered'),\n",
       "   (0.008242599, 'initiatives'),\n",
       "   (0.0081499955, 'cover'),\n",
       "   (0.008000745, 'class')],\n",
       "  -15.518436898488309),\n",
       " ([(0.021911597, 'podcast'),\n",
       "   (0.015208878, 'talks'),\n",
       "   (0.014223328, 'clean'),\n",
       "   (0.013720539, 'true'),\n",
       "   (0.013704894, 'weeks'),\n",
       "   (0.012266318, 'gets'),\n",
       "   (0.0122266235, 'david'),\n",
       "   (0.01174204, 'natural'),\n",
       "   (0.011427449, 'conference'),\n",
       "   (0.010511028, 'white'),\n",
       "   (0.010314448, 'star'),\n",
       "   (0.009895269, 'dont_miss'),\n",
       "   (0.009670639, 'professionals'),\n",
       "   (0.008917309, 'dream'),\n",
       "   (0.008626283, 'upcoming'),\n",
       "   (0.008545569, 'voice'),\n",
       "   (0.008423517, 'washington'),\n",
       "   (0.008269941, 'patient'),\n",
       "   (0.008188303, 'hp'),\n",
       "   (0.007909342, 'starbucks')],\n",
       "  -15.858419172842419),\n",
       " ([(0.03406954, 'johnson'),\n",
       "   (0.017342344, 'johnson_amp'),\n",
       "   (0.015545204, 'tell'),\n",
       "   (0.01463564, 'amp_johnson'),\n",
       "   (0.012602167, 'talent'),\n",
       "   (0.010873454, 'prepare'),\n",
       "   (0.0108302105, 'decision'),\n",
       "   (0.010582414, 'repos'),\n",
       "   (0.010539144, 'programs'),\n",
       "   (0.01051334, 'productivity'),\n",
       "   (0.009851676, 'fight'),\n",
       "   (0.009612473, 'hand'),\n",
       "   (0.009415017, 'cognizant'),\n",
       "   (0.009412725, 'drug'),\n",
       "   (0.008818987, 'treat'),\n",
       "   (0.008142256, 'beginning'),\n",
       "   (0.008049113, 'beauty'),\n",
       "   (0.0076020793, 'vaccine'),\n",
       "   (0.0075034797, 'info'),\n",
       "   (0.007150307, 'team_members')],\n",
       "  -16.378431634631774),\n",
       " ([(0.013636425, 'human'),\n",
       "   (0.012857906, 'systems'),\n",
       "   (0.012347337, 'earnings'),\n",
       "   (0.011609161, 'ensure'),\n",
       "   (0.010913417, 'pro'),\n",
       "   (0.010042186, 'meeting'),\n",
       "   (0.009893893, 'treatment'),\n",
       "   (0.0097988965, 'iphone'),\n",
       "   (0.0096480055, 'effective'),\n",
       "   (0.00905423, 'newest'),\n",
       "   (0.008809792, 'public'),\n",
       "   (0.008637609, 'jobs'),\n",
       "   (0.007691053, 'comfo'),\n",
       "   (0.007543475, 'worldwide'),\n",
       "   (0.0075012487, 'max'),\n",
       "   (0.007436089, 'connection'),\n",
       "   (0.007200891, 'spo'),\n",
       "   (0.0071658, 'snapdragon'),\n",
       "   (0.007010477, 'eligible'),\n",
       "   (0.0068885256, 'staff')],\n",
       "  -16.465391683199815),\n",
       " ([(0.015324476, 'york'),\n",
       "   (0.015174546, 'new_york'),\n",
       "   (0.0127827525, 'someone'),\n",
       "   (0.01183073, 'yet'),\n",
       "   (0.011364606, 'verizon'),\n",
       "   (0.010994597, 'rates'),\n",
       "   (0.0108930655, 'inclusive'),\n",
       "   (0.010650208, 'equity'),\n",
       "   (0.010421023, 'saturday'),\n",
       "   (0.010352208, 'winner'),\n",
       "   (0.008251752, 'mastercard'),\n",
       "   (0.00776841, 'inclusion'),\n",
       "   (0.007722577, 'words'),\n",
       "   (0.00762674, 'asian'),\n",
       "   (0.0074977884, 'tag'),\n",
       "   (0.0073933597, 'ice'),\n",
       "   (0.0073923743, 'paid'),\n",
       "   (0.007375128, 'enteainment'),\n",
       "   (0.007300386, 'rest'),\n",
       "   (0.0068426193, 'problem')],\n",
       "  -16.994527463622678),\n",
       " ([(0.0148507245, 'faster'),\n",
       "   (0.0139071625, 'film'),\n",
       "   (0.013798021, 'looks'),\n",
       "   (0.012728819, 'watching'),\n",
       "   (0.0115702795, 'recovery'),\n",
       "   (0.011129336, 'powered'),\n",
       "   (0.010540658, 'without'),\n",
       "   (0.009376448, 'drop'),\n",
       "   (0.009357331, 'featured'),\n",
       "   (0.0089949835, 'playing'),\n",
       "   (0.008838712, 'answers'),\n",
       "   (0.008351589, 'epic'),\n",
       "   (0.008193531, 'laptop'),\n",
       "   (0.0077728787, '60'),\n",
       "   (0.0077674957, 'im'),\n",
       "   (0.0075154183, 'memory'),\n",
       "   (0.0073866774, 'revenue'),\n",
       "   (0.007372894, 'included'),\n",
       "   (0.0072929645, 'schools'),\n",
       "   (0.006979571, 'youth')],\n",
       "  -17.004180729801465),\n",
       " ([(0.014443104, 'zero'),\n",
       "   (0.0140044475, 'race'),\n",
       "   (0.01270957, 'lgbtq'),\n",
       "   (0.012551883, 'color'),\n",
       "   (0.01216141, 'transformation'),\n",
       "   (0.011885371, 't…'),\n",
       "   (0.01110664, 'tour'),\n",
       "   (0.010946435, 'official'),\n",
       "   (0.010543583, 'cities'),\n",
       "   (0.010295132, 'quality'),\n",
       "   (0.010280963, 'done'),\n",
       "   (0.010219646, 'whole'),\n",
       "   (0.009061398, 'announces'),\n",
       "   (0.009035733, 'hour'),\n",
       "   (0.008700865, 'includes'),\n",
       "   (0.008295384, 'season_2'),\n",
       "   (0.008051815, 'dollar'),\n",
       "   (0.0077792597, 'edition'),\n",
       "   (0.007719121, 'net'),\n",
       "   (0.00765116, 'steve')],\n",
       "  -17.061614472210817),\n",
       " ([(0.02082264, 'let'),\n",
       "   (0.011215471, 'ig'),\n",
       "   (0.011165985, 'follow'),\n",
       "   (0.010912959, 'along'),\n",
       "   (0.010501428, 'efficiency'),\n",
       "   (0.010305399, 'throughout'),\n",
       "   (0.009691746, 'wanted'),\n",
       "   (0.00964567, 'resource'),\n",
       "   (0.009611035, 'intelligence'),\n",
       "   (0.009371301, 'consider'),\n",
       "   (0.009354467, 'woman'),\n",
       "   (0.009279495, 'celebration'),\n",
       "   (0.009053018, 'enable'),\n",
       "   (0.0083650425, 'let_us'),\n",
       "   (0.007394175, 'digitaltransformation'),\n",
       "   (0.0072966465, 'brings'),\n",
       "   (0.007095537, 'players'),\n",
       "   (0.0070453975, 'potd'),\n",
       "   (0.0069228215, 'serious'),\n",
       "   (0.0068493807, 'massive')],\n",
       "  -17.104555983041088),\n",
       " ([(0.012575195, 'chain'),\n",
       "   (0.012117937, 'doses'),\n",
       "   (0.010724713, 'small_business'),\n",
       "   (0.010530838, 'supply_chain'),\n",
       "   (0.010071377, 'small_businesses'),\n",
       "   (0.009973973, 'raise'),\n",
       "   (0.009617431, 'hey'),\n",
       "   (0.00960352, 'found'),\n",
       "   (0.009349617, 'spos'),\n",
       "   (0.008560373, 'estate'),\n",
       "   (0.008487065, 'owners'),\n",
       "   (0.008454994, 'friend'),\n",
       "   (0.00804985, 'hundreds'),\n",
       "   (0.007598754, 'chance_win'),\n",
       "   (0.0074046697, 'climatechange'),\n",
       "   (0.007260869, 'florida'),\n",
       "   (0.007251034, 'real_estate'),\n",
       "   (0.0068581365, 'sweepstakes'),\n",
       "   (0.006807977, 'sites'),\n",
       "   (0.0067737466, 'scott')],\n",
       "  -17.280742512377433),\n",
       " ([(0.013225429, 'planet'),\n",
       "   (0.011901739, 'edge'),\n",
       "   (0.010692826, 'dedicated'),\n",
       "   (0.010619076, 'successful'),\n",
       "   (0.010415802, 'aicle'),\n",
       "   (0.010232136, 'track'),\n",
       "   (0.009662792, 'accelerate'),\n",
       "   (0.009624856, 'safer'),\n",
       "   (0.009484312, 'football'),\n",
       "   (0.008942398, 'ca'),\n",
       "   (0.00836796, 'advanced'),\n",
       "   (0.007991144, 'choice'),\n",
       "   (0.007850817, 'transforming'),\n",
       "   (0.007834529, 'remember'),\n",
       "   (0.007821182, 'womens'),\n",
       "   (0.007748762, 'rich'),\n",
       "   (0.007727088, 'delivers'),\n",
       "   (0.0077126934, 'seeing'),\n",
       "   (0.0075379997, 'model'),\n",
       "   (0.0075027044, 'honoring')],\n",
       "  -17.30411386276515),\n",
       " ([(0.023982426, 'everything'),\n",
       "   (0.015641823, 'glass'),\n",
       "   (0.01436968, 'chooseglass'),\n",
       "   (0.012178247, 'kitchen'),\n",
       "   (0.010870135, 'fans'),\n",
       "   (0.01070373, 'spoke'),\n",
       "   (0.010702639, 'loved'),\n",
       "   (0.010643163, 'return'),\n",
       "   (0.01048479, 'protection'),\n",
       "   (0.009801944, 'inclusion'),\n",
       "   (0.009785665, 'photos'),\n",
       "   (0.009713372, 'moving'),\n",
       "   (0.009319733, 'writes'),\n",
       "   (0.008855434, 'let’s'),\n",
       "   (0.00852732, 'forbes'),\n",
       "   (0.008496401, 'connectivity'),\n",
       "   (0.00844516, 'recycling'),\n",
       "   (0.008365998, 'plant'),\n",
       "   (0.008286241, 'prepared'),\n",
       "   (0.008274529, 'everything_need')],\n",
       "  -17.31377748167374),\n",
       " ([(0.018287048, 'committed'),\n",
       "   (0.01726755, 'moment'),\n",
       "   (0.013312555, 'call'),\n",
       "   (0.013289614, 'continues'),\n",
       "   (0.010666809, 'classic'),\n",
       "   (0.010659036, 'we’ll'),\n",
       "   (0.010191226, 'stocks'),\n",
       "   (0.01003363, 'man'),\n",
       "   (0.0091133835, 'society'),\n",
       "   (0.008597309, 'colleagues'),\n",
       "   (0.008031887, 'police'),\n",
       "   (0.007985532, 'amid'),\n",
       "   (0.007894916, 'fuel'),\n",
       "   (0.0077798422, 'advantage'),\n",
       "   (0.0077577853, 'approval'),\n",
       "   (0.007654386, 'look_like'),\n",
       "   (0.007543076, 'brinknewsnow'),\n",
       "   (0.007258146, 'walgreens'),\n",
       "   (0.00705541, 'responsibility'),\n",
       "   (0.007031988, 'cvs')],\n",
       "  -17.413365748313065),\n",
       " ([(0.015831375, 'sharing'),\n",
       "   (0.014238209, 'media'),\n",
       "   (0.013898079, 'testing'),\n",
       "   (0.012446675, 'lab'),\n",
       "   (0.01201185, 'modern'),\n",
       "   (0.011394568, 'expediachat'),\n",
       "   (0.0109131, 'wants'),\n",
       "   (0.010686326, 'joe'),\n",
       "   (0.010236665, 'holiday_season'),\n",
       "   (0.008996107, 'inspiration'),\n",
       "   (0.008947969, 'park'),\n",
       "   (0.0089125205, 'kind'),\n",
       "   (0.008725921, 'november'),\n",
       "   (0.008709503, 'gifts'),\n",
       "   (0.008564936, 'youll'),\n",
       "   (0.00805183, 'expansion'),\n",
       "   (0.007968954, 'panered'),\n",
       "   (0.007866848, 'networks'),\n",
       "   (0.007716416, '24'),\n",
       "   (0.0076332996, 'selected')],\n",
       "  -17.430818451746248),\n",
       " ([(0.01949094, 'goldman'),\n",
       "   (0.016968103, 'music'),\n",
       "   (0.015464002, 'sachs'),\n",
       "   (0.015448645, 'goldman_sachs'),\n",
       "   (0.013539933, 'anyone'),\n",
       "   (0.011996044, 'often'),\n",
       "   (0.0119399205, 'changes'),\n",
       "   (0.011842442, 'rise'),\n",
       "   (0.011644433, 'student'),\n",
       "   (0.010920482, 'issue'),\n",
       "   (0.010704311, 'chair'),\n",
       "   (0.010655395, 'double'),\n",
       "   (0.010116167, 'luck'),\n",
       "   (0.009053443, 'pressure'),\n",
       "   (0.008986637, 'explain'),\n",
       "   (0.008892284, 'female'),\n",
       "   (0.008801528, 'perspective'),\n",
       "   (0.008796269, 'death'),\n",
       "   (0.008739969, 'asked'),\n",
       "   (0.008211673, 'trump')],\n",
       "  -17.467665926849733),\n",
       " ([(0.015917256, 'sma'),\n",
       "   (0.014212477, 'make_sure'),\n",
       "   (0.014077652, 'road'),\n",
       "   (0.013249257, 'morning'),\n",
       "   (0.01259787, 'works'),\n",
       "   (0.011751917, 'speed'),\n",
       "   (0.011711721, 'depot'),\n",
       "   (0.011118893, 'home_depot'),\n",
       "   (0.010986069, 'confidence'),\n",
       "   (0.010609134, 'founder'),\n",
       "   (0.009530542, 'hosted'),\n",
       "   (0.009413909, 'beautiful'),\n",
       "   (0.009356653, 'colors'),\n",
       "   (0.009355277, 'delivered'),\n",
       "   (0.009316, 'jeff'),\n",
       "   (0.008625288, 'presented'),\n",
       "   (0.008326822, 'host'),\n",
       "   (0.008091875, 'variant'),\n",
       "   (0.008082788, 'goes'),\n",
       "   (0.0077838455, 'celebrates')],\n",
       "  -17.700094928105898),\n",
       " ([(0.014232746, 'vision'),\n",
       "   (0.013452951, 'within'),\n",
       "   (0.01233461, 'spend'),\n",
       "   (0.011673005, 'driving'),\n",
       "   (0.010768809, 'became'),\n",
       "   (0.010693306, 'europe'),\n",
       "   (0.010179011, 'movie'),\n",
       "   (0.009703327, 'huge'),\n",
       "   (0.00961231, 'feature'),\n",
       "   (0.009157409, 'crisis'),\n",
       "   (0.00893252, 'brought'),\n",
       "   (0.00855592, 'thrilled'),\n",
       "   (0.008237788, 'paper'),\n",
       "   (0.00804492, 'warm'),\n",
       "   (0.008035358, 'beach'),\n",
       "   (0.007835564, 'cars'),\n",
       "   (0.0077747027, 'knows'),\n",
       "   (0.0076566655, 'automotive'),\n",
       "   (0.0076068104, 'heard'),\n",
       "   (0.0075544845, 'finally')],\n",
       "  -17.780330718363306),\n",
       " ([(0.011337949, 'movies'),\n",
       "   (0.010944575, 'wall'),\n",
       "   (0.010197808, 'name'),\n",
       "   (0.009623925, 'response'),\n",
       "   (0.009314455, 'easier'),\n",
       "   (0.008888942, 'they’re'),\n",
       "   (0.008520534, 'summit'),\n",
       "   (0.0074922447, 'wealth'),\n",
       "   (0.00747411, 'you’ve'),\n",
       "   (0.007365306, 'covid19_pandemic'),\n",
       "   (0.0072328635, 'cards'),\n",
       "   (0.007208685, 'mcdonald’s'),\n",
       "   (0.006864583, 'sponsor'),\n",
       "   (0.006766968, 'gt'),\n",
       "   (0.00672792, 'adding'),\n",
       "   (0.0066573974, 'sound'),\n",
       "   (0.0066188304, 'mandate'),\n",
       "   (0.0066086496, 'cause'),\n",
       "   (0.006378142, 'beer'),\n",
       "   (0.006340012, 'fly')],\n",
       "  -18.02362261869553),\n",
       " ([(0.015051203, 'thing'),\n",
       "   (0.013756828, '7'),\n",
       "   (0.0125105055, 'walma'),\n",
       "   (0.012392079, 'get_ready'),\n",
       "   (0.012318097, 'red'),\n",
       "   (0.012053651, 'athletes'),\n",
       "   (0.011554757, 'new_year'),\n",
       "   (0.010905363, 'construction'),\n",
       "   (0.009671343, 'adventure'),\n",
       "   (0.009662828, 'kkr'),\n",
       "   (0.008874558, 'administration'),\n",
       "   (0.007858656, 'essentials'),\n",
       "   (0.0077576227, 'omicron'),\n",
       "   (0.0075193066, 'heading'),\n",
       "   (0.007435337, 'hurricane'),\n",
       "   (0.0071456516, 'camera'),\n",
       "   (0.0068940325, 'integrated'),\n",
       "   (0.0066747954, 'bigger'),\n",
       "   (0.0065780426, 'hr'),\n",
       "   (0.0062918016, 'tokyo')],\n",
       "  -18.071881186450284),\n",
       " ([(0.013840409, 'software'),\n",
       "   (0.010073101, 'fully'),\n",
       "   (0.01003072, 'salesforce'),\n",
       "   (0.008984087, 'biden'),\n",
       "   (0.008036038, 'tax'),\n",
       "   (0.007653699, 'samsung'),\n",
       "   (0.007629416, 'platinum'),\n",
       "   (0.007533946, 'the…'),\n",
       "   (0.0075331912, 'intro'),\n",
       "   (0.0073169875, 'sometimes'),\n",
       "   (0.007028274, 'apr'),\n",
       "   (0.007015479, 'nice'),\n",
       "   (0.007007772, 'intro_apr'),\n",
       "   (0.0069797463, 'awesome'),\n",
       "   (0.006815105, 'heritage'),\n",
       "   (0.006789733, 'solve'),\n",
       "   (0.0067322296, '0'),\n",
       "   (0.0066151056, '0_intro'),\n",
       "   (0.006613695, 'era'),\n",
       "   (0.0065809926, 'fashion')],\n",
       "  -18.144518608282876),\n",
       " ([(0.013379577, 'coffee'),\n",
       "   (0.010998686, 'giant'),\n",
       "   (0.010920804, 'cash'),\n",
       "   (0.009914302, 'cash_back'),\n",
       "   (0.009136943, 'finding'),\n",
       "   (0.009052446, 'packaging'),\n",
       "   (0.009041466, 'bw'),\n",
       "   (0.0088725425, 'private'),\n",
       "   (0.008680667, 'restaurant'),\n",
       "   (0.008649457, 'olympic'),\n",
       "   (0.008167595, 'teamusa'),\n",
       "   (0.008006386, 'professional'),\n",
       "   (0.0075805592, 'practices'),\n",
       "   (0.007053622, 'cast'),\n",
       "   (0.006897032, 'idea'),\n",
       "   (0.006789017, 'trade'),\n",
       "   (0.0066994415, 'teamoftomorrow'),\n",
       "   (0.0066318014, 'finish'),\n",
       "   (0.0064914497, 'via_bw'),\n",
       "   (0.0064487383, 'increasingly')],\n",
       "  -18.202849299995),\n",
       " ([(0.014768333, 'see_click'),\n",
       "   (0.014617856, 'homes'),\n",
       "   (0.013178496, 'anywhere'),\n",
       "   (0.013070726, 'room'),\n",
       "   (0.012669782, 'clear'),\n",
       "   (0.008515305, 'vegas'),\n",
       "   (0.008379726, 'opinion'),\n",
       "   (0.008207276, 'to…'),\n",
       "   (0.007961407, 'song'),\n",
       "   (0.007837528, 'anthem'),\n",
       "   (0.0077602854, 'america’s'),\n",
       "   (0.0077558155, 'known'),\n",
       "   (0.0077282796, 'main'),\n",
       "   (0.00770268, 'lessons'),\n",
       "   (0.0073439535, 'middle'),\n",
       "   (0.007237977, 'learned'),\n",
       "   (0.0072065494, 'click_homes'),\n",
       "   (0.007146119, 'signs'),\n",
       "   (0.007090896, 'front'),\n",
       "   (0.0068036024, 'nothing')],\n",
       "  -18.24114005113158),\n",
       " ([(0.013285045, 'ford'),\n",
       "   (0.011851169, 'post'),\n",
       "   (0.01170851, 'thrive'),\n",
       "   (0.011511361, 'interview'),\n",
       "   (0.00983707, 'communications'),\n",
       "   (0.009828178, 'large'),\n",
       "   (0.009592976, 'providers'),\n",
       "   (0.009450246, 'adp'),\n",
       "   (0.0092050675, 'engineers'),\n",
       "   (0.00915193, 'type'),\n",
       "   (0.008900038, 'healthier'),\n",
       "   (0.008889832, 'problems'),\n",
       "   (0.008728471, 'wellbeing'),\n",
       "   (0.008632832, 'super'),\n",
       "   (0.008626283, 'raising'),\n",
       "   (0.0084991185, 'promise'),\n",
       "   (0.007662259, 'smile'),\n",
       "   (0.0076063904, 'suppliers'),\n",
       "   (0.0075794775, 'smaer'),\n",
       "   (0.0075577185, 'independent')],\n",
       "  -18.44729027616769),\n",
       " ([(0.017009936, 'hard'),\n",
       "   (0.0123778, 'phone'),\n",
       "   (0.011904349, 'holidays'),\n",
       "   (0.011700383, 'tuesday'),\n",
       "   (0.01088968, 'job'),\n",
       "   (0.010759327, 'launched'),\n",
       "   (0.010745402, 'retailers'),\n",
       "   (0.010518182, 'christmas'),\n",
       "   (0.010054866, 'mcgrawhillk12'),\n",
       "   (0.0097336145, 'storm'),\n",
       "   (0.009721629, 'calls'),\n",
       "   (0.009453333, 'yes'),\n",
       "   (0.009153887, 'outside'),\n",
       "   (0.0087251, '18'),\n",
       "   (0.008422253, 'payment'),\n",
       "   (0.00834413, 'impacted'),\n",
       "   (0.008243904, 'pizza'),\n",
       "   (0.008183891, 'outlook'),\n",
       "   (0.008089282, '16'),\n",
       "   (0.0079545975, 'spirit')],\n",
       "  -18.764512657631055),\n",
       " ([(0.012746499, 'panering'),\n",
       "   (0.012434461, 'india'),\n",
       "   (0.011917469, '…'),\n",
       "   (0.011521026, 'lawsuit'),\n",
       "   (0.009681131, 'include'),\n",
       "   (0.0093721915, 'given'),\n",
       "   (0.009183147, 'activity'),\n",
       "   (0.009171298, 'chubb'),\n",
       "   (0.009003925, 'point'),\n",
       "   (0.008435199, 'adveising'),\n",
       "   (0.008296331, 'prime'),\n",
       "   (0.008243206, 'educators'),\n",
       "   (0.008242842, 'january'),\n",
       "   (0.007844171, 'choosing'),\n",
       "   (0.0077472385, 'preorder'),\n",
       "   (0.0076848133, 'closer'),\n",
       "   (0.007680287, 'core'),\n",
       "   (0.00751828, 'happen'),\n",
       "   (0.0074495845, 'guest'),\n",
       "   (0.007377696, 'runs')],\n",
       "  -19.30254612232194)]"
      ]
     },
     "execution_count": 45,
     "metadata": {},
     "output_type": "execute_result"
    }
   ],
   "source": [
    "lda_m6.top_topics(tfidfcorpus_m6[ldacorpus_m6])"
   ]
  },
  {
   "cell_type": "code",
   "execution_count": 46,
   "id": "placed-width",
   "metadata": {},
   "outputs": [
    {
     "name": "stderr",
     "output_type": "stream",
     "text": [
      "c:\\users\\tuski\\appdata\\local\\programs\\python\\python39\\lib\\site-packages\\ipykernel\\ipkernel.py:283: DeprecationWarning: `should_run_async` will not call `transform_cell` automatically in the future. Please pass the result to `transformed_cell` argument and any exception that happen during thetransform in `preprocessing_exc_tuple` in IPython 7.17 and above.\n",
      "  and should_run_async(code)\n"
     ]
    },
    {
     "data": {
      "text/html": [
       "\n",
       "<link rel=\"stylesheet\" type=\"text/css\" href=\"https://cdn.jsdelivr.net/gh/bmabey/pyLDAvis@3.3.1/pyLDAvis/js/ldavis.v1.0.0.css\">\n",
       "\n",
       "\n",
       "<div id=\"ldavis_el4284426724165546722596146401\"></div>\n",
       "<script type=\"text/javascript\">\n",
       "\n",
       "var ldavis_el4284426724165546722596146401_data = {\"mdsDat\": {\"x\": [-0.3615687901015061, -0.33888827480477884, -0.30351893552667825, -0.1554867021978759, -0.04938270524716024, -0.025114699514071723, 0.010571836707507469, 0.019014771560596735, 0.03743234029551216, 0.03227712315753902, 0.03911763252649666, 0.03420039416970797, 0.04749743935701725, 0.04919156784075092, 0.042116176919744605, 0.0440806127404995, 0.048702808161946734, 0.04779458168936446, 0.046710268417785375, 0.049424107693805945, 0.049667238594054273, 0.05266674690152294, 0.050635949223328286, 0.0548060961918502, 0.051837874046862346, 0.05682448982059471, 0.06139490300012575, 0.05490425977174627, 0.05360218090164086, 0.0635672783864195, 0.06620605537316387, 0.0697153739424884], \"y\": [0.028424751505908123, 0.0863042981401289, 0.12302893197385269, -0.3931765605803748, -0.028945252565549508, -0.038724146387418605, 0.00881813118958941, -0.010195980124739837, -0.0028798334621652315, -0.0022189396163645233, 0.006551563185200092, -0.050766117946139944, 0.01683257310909046, 0.015068467336001236, -0.0257008289532078, 0.016257969884329503, 0.015028180864579247, 0.016955689532699603, 0.01319948845094368, 0.014595679775617782, 0.014980518260410698, 0.018687404231564977, 0.014806564047590193, 0.018332921564577182, 0.011737128575334363, 0.017435878592234492, 0.013194960165042225, 0.007578995696945882, 0.020402779684934844, 0.013829527381420828, 0.020657835863849554, 0.019897420624116043], \"topics\": [1, 2, 3, 4, 5, 6, 7, 8, 9, 10, 11, 12, 13, 14, 15, 16, 17, 18, 19, 20, 21, 22, 23, 24, 25, 26, 27, 28, 29, 30, 31, 32], \"cluster\": [1, 1, 1, 1, 1, 1, 1, 1, 1, 1, 1, 1, 1, 1, 1, 1, 1, 1, 1, 1, 1, 1, 1, 1, 1, 1, 1, 1, 1, 1, 1, 1], \"Freq\": [20.372155769518972, 14.03187274416354, 10.697177026850275, 6.86436304140564, 4.3987166868205945, 3.338889964818707, 2.519699664481777, 2.377480251333413, 1.9214169078430023, 1.7961722618610614, 1.7271467886058063, 1.6693444333029883, 1.6028724717909535, 1.6015038749960908, 1.5993026339266063, 1.5912672611234142, 1.5824792626711104, 1.578295999574412, 1.5531682454158693, 1.5526915334363904, 1.5517136433781082, 1.4593371737967324, 1.4580779385014555, 1.4226962575705686, 1.4219532618424393, 1.397471496442727, 1.2263566318121741, 1.2173780542733983, 1.2052847167394276, 1.1943944086954985, 1.0493926082087446, 1.019926984798101]}, \"tinfo\": {\"Term\": [\"us\", \"covid19\", \"vaccine\", \"new\", \"learn\", \"shop\", \"one\", \"johnson\", \"day\", \"get\", \"first\", \"health\", \"watch\", \"work\", \"family\", \"women\", \"big\", \"live\", \"shares\", \"year\", \"latest\", \"amp\", \"security\", \"online\", \"help\", \"data\", \"pa\", \"like\", \"team\", \"says\", \"go\", \"season\", \"last\", \"happy\", \"summer\", \"innovation\", \"may\", \"meet\", \"would\", \"celebrate\", \"don\\u2019t\", \"join_us\", \"space\", \"said\", \"game\", \"stay\", \"want\", \"tomorrow\", \"food\", \"tips\", \"billion\", \"performance\", \"still\", \"comes\", \"tune\", \"2020\", \"long\", \"come\", \"key\", \"network\", \"week\", \"take\", \"day\", \"could\", \"1\", \"love\", \"two\", \"one\", \"know\", \"it\\u2019s\", \"year\", \"us\", \"life\", \"home\", \"apple\", \"time\", \"ceo\", \"back\", \"like\", \"new\", \"amazon\", \"company\", \"get\", \"next\", \"way\", \"\\u2014\", \"see\", \"today\", \"amp\", \"find\", \"make\", \"check\", \"join\", \"best\", \"health\", \"solutions\", \"tech\", \"repo\", \"create\", \"full\", \"viual\", \"event\", \"everyone\", \"excited\", \"working\", \"explore\", \"american\", \"healthcare\", \"episode\", \"play\", \"chief\", \"investment\", \"head\", \"insights\", \"congratulations\", \"expes\", \"management\", \"looking\", \"officer\", \"live\", \"futureofwork\", \"markets\", \"makes\", \"businesses\", \"\\u2013\", \"workplace\", \"register\", \"open\", \"first\", \"latest\", \"financial\", \"career\", \"top\", \"watch\", \"black\", \"data\", \"share\", \"hear\", \"digital\", \"team\", \"global\", \"pandemic\", \"2021\", \"work\", \"learn\", \"technology\", \"employees\", \"read\", \"amp\", \"business\", \"together\", \"impact\", \"target\", \"ai\", \"sustainability\", \"pa\", \"great\", \"going\", \"safe\", \"continue\", \"success\", \"thanks\", \"innovative\", \"design\", \"bring\", \"since\", \"well\", \"project\", \"journey\", \"school\", \"recent\", \"patients\", \"means\", \"what\\u2019s\", \"lives\", \"reduce\", \"2022\", \"shopping\", \"car\", \"takes\", \"never\", \"paner\", \"industry\", \"teams\", \"challenges\", \"students\", \"good\", \"nationwide\", \"that\\u2019s\", \"sta\", \"covid19\", \"around\", \"community\", \"provide\", \"better\", \"helping\", \"world\", \"communities\", \"we\\u2019re\", \"suppo\", \"help\", \"learn\", \"work\", \"change\", \"shop\", \"big\", \"coming\", \"nike\", \"weekend\", \"special\", \"deals\", \"buy\", \"visit\", \"select\", \"store\", \"here\\u2019s\", \"order\", \"rewards\", \"night\", \"exclusive\", \"disney\", \"staing\", \"style\", \"fresh\", \"instore\", \"soon\", \"amazing\", \"gift\", \"spring\", \"catch\", \"capital\", \"mcdonalds\", \"shots\", \"sunday\", \"app\", \"air\", \"thank\", \"via\", \"strategy\", \"staed\", \"says\", \"customer\", \"brand\", \"getting\", \"favorite\", \"away\", \"5\", \"card\", \"apply\", \"kids\", \"terms\", \"online\", \"announced\", \"free\", \"netflix\", \"month\", \"ready\", \"cloud\", \"shares\", \"approach\", \"welcome\", \"face\", \"family\", \"discuss\", \"leadership\", \"hybrid\", \"deliver\", \"retirement\", \"mind\", \"impoance\", \"needs\", \"goals\", \"cybersecurity\", \"incredible\", \"progressive\", \"security\", \"must\", \"times\", \"ibm\", \"trust\", \"stop\", \"clients\", \"feeling\", \"campaign\", \"manage\", \"emerging\", \"insurance\", \"build\", \"women\", \"friends\", \"effos\", \"put\", \"created\", \"safety\", \"suppoing\", \"perfect\", \"control\", \"diversity\", \"ever\", \"we\\u2019ve\", \"manufacturing\", \"study\", \"recently\", \"medical\", \"clinical\", \"esg\", \"strategies\", \"record\", \"expe\", \"require\", \"tool\", \"buying\", \"develop\", \"review\", \"creating\", \"trial\", \"countries\", \"privacy\", \"increased\", \"netapp\", \"especially\", \"view\", \"expanding\", \"vacation\", \"eah\", \"shot\", \"trials\", \"10_years\", \"research\", \"highspeed\", \"pfizer\", \"improve\", \"organizations\", \"vehicle\", \"emergency\", \"covid19_vaccine\", \"vaccine\", \"largest\", \"cancer\", \"fda\", \"transition\", \"six\", \"questions\", \"covid19\", \"texas\", \"we\\u2019re_proud\", \"tonight\", \"water\", \"honored\", \"recognized\", \"honor\", \"abbott\", \"environment\", \"highlights\", \"gov\", \"round\", \"equipment\", \"insight\", \"mask\", \"greg\", \"greater\", \"california\", \"cut\", \"contributions\", \"battlebots\", \"growth\", \"challenging\", \"we\\u2019re_celebrating\", \"veterans\", \"guidance\", \"prevent\", \"september\", \"present\", \"rights\", \"course\", \"voting\", \"education\", \"disease\", \"quaer\", \"8\", \"address\", \"member\", \"cases\", \"results\", \"lines\", \"little\", \"fun\", \"international\", \"expected\", \"can\\u2019t\", \"longer\", \"account\", \"thanksgiving\", \"try\", \"enough\", \"ask\", \"several\", \"doesn\\u2019t\", \"spot\", \"bright\", \"anniversary\", \"aist\", \"waste\", \"oh\", \"gaming\", \"help_us\", \"lower\", \"toys\", \"vehicles\", \"skin\", \"tip\", \"sharkweek\", \"hold\", \"sweet\", \"happens\", \"save\", \"ahead\", \"news\", \"travel\", \"winter\", \"content\", \"got\", \"coronavirus\", \"offering\", \"lets\", \"pro\", \"ensure\", \"meeting\", \"iphone\", \"newest\", \"comfo\", \"worldwide\", \"human\", \"connection\", \"spo\", \"snapdragon\", \"eligible\", \"staff\", \"windows\", \"heat\", \"option\", \"panerships\", \"90\", \"west\", \"jobs\", \"dose\", \"duke\", \"pas\", \"aimed\", \"chairman_ceo\", \"hospital\", \"sense\", \"air_max\", \"express\", \"begins\", \"earnings\", \"effective\", \"treatment\", \"systems\", \"public\", \"max\", \"movies\", \"wall\", \"they\\u2019re\", \"easier\", \"summit\", \"response\", \"wealth\", \"covid19_pandemic\", \"cards\", \"mcdonald\\u2019s\", \"gt\", \"adding\", \"sound\", \"mandate\", \"cause\", \"beer\", \"fly\", \"machines\", \"suppos\", \"passion\", \"extended\", \"you\\u2019ve\", \"netflixfilm\", \"favorites\", \"cofounder\", \"tests\", \"missing\", \"saw\", \"victory\", \"paicipate\", \"name\", \"sponsor\", \"reducing\", \"johnson\", \"johnson_amp\", \"tell\", \"amp_johnson\", \"talent\", \"decision\", \"productivity\", \"hand\", \"cognizant\", \"drug\", \"programs\", \"beginning\", \"beauty\", \"info\", \"team_members\", \"engineer\", \"isnt\", \"outcomes\", \"treat\", \"tell_us\", \"press\", \"blood\", \"damage\", \"earlier\", \"meals\", \"source\", \"moms\", \"andy\", \"effects\", \"rely\", \"prepare\", \"fight\", \"repos\", \"link\", \"cdc\", \"shape\", \"vaccine\", \"coffee\", \"giant\", \"cash_back\", \"finding\", \"packaging\", \"bw\", \"restaurant\", \"olympic\", \"professional\", \"cast\", \"idea\", \"trade\", \"teamoftomorrow\", \"finish\", \"via_bw\", \"increasingly\", \"threat\", \"lake\", \"table\", \"dining\", \"industries\", \"enabling\", \"atlanta\", \"plastic\", \"catalyst\", \"bottle\", \"expectations\", \"premieres\", \"divide\", \"3x\", \"private\", \"teamusa\", \"nfl\", \"practices\", \"cash\", \"bonus\", \"women\\u2019s\", \"earn\", \"phone\", \"holidays\", \"tuesday\", \"retailers\", \"launched\", \"christmas\", \"mcgrawhillk12\", \"storm\", \"outside\", \"payment\", \"impacted\", \"pizza\", \"outlook\", \"spirit\", \"16\", \"ct\", \"wind\", \"cdw\", \"jan\", \"hard_work\", \"hiv\", \"ondemand\", \"actually\", \"hard\", \"wellsfargo\", \"menu\", \"cleaning\", \"speak\", \"customer_experience\", \"nyc\", \"calls\", \"theyre\", \"yes\", \"take_look\", \"job\", \"gender\", \"18\", \"parents\", \"i\\u2019m\", \"york\", \"new_york\", \"someone\", \"yet\", \"rates\", \"winner\", \"mastercard\", \"words\", \"ice\", \"paid\", \"enteainment\", \"rest\", \"package\", \"get_free\", \"monthly\", \"across_country\", \"arrived\", \"2019\", \"rokautomation\", \"problem\", \"premiere\", \"actor\", \"wide\", \"forever\", \"diversity_equity\", \"lucky\", \"region\", \"hotel\", \"tag\", \"dei\", \"saturday\", \"inclusive\", \"verizon\", \"asian\", \"equity\", \"inclusion\", \"fully\", \"salesforce\", \"platinum\", \"the\\u2026\", \"tax\", \"sometimes\", \"nice\", \"awesome\", \"solve\", \"0_intro\", \"era\", \"fashion\", \"election\", \"credit_card\", \"president_biden\", \"agreement\", \"help_get\", \"attack\", \"compliance\", \"earned\", \"heritage\", \"consecutive\", \"allen\", \"eric\", \"theaters\", \"videos\", \"exploring\", \"vibes\", \"marks\", \"preparing\", \"intro\", \"apr\", \"intro_apr\", \"software\", \"samsung\", \"biden\", \"0\", \"chain\", \"doses\", \"small_business\", \"supply_chain\", \"small_businesses\", \"hey\", \"estate\", \"owners\", \"friend\", \"chance_win\", \"hundreds\", \"climatechange\", \"real_estate\", \"sweepstakes\", \"sites\", \"scott\", \"pass\", \"navigate\", \"charging\", \"saying\", \"transpoation\", \"caesarsrewards\", \"committee\", \"z\", \"custom\", \"authorization\", \"researchers\", \"covid_vaccine\", \"friends_family\", \"jabil\", \"raise\", \"spos\", \"florida\", \"found\", \"materials\", \"galaxy\", \"everything\", \"chooseglass\", \"kitchen\", \"loved\", \"glass\", \"photos\", \"writes\", \"spoke\", \"forbes\", \"connectivity\", \"recycling\", \"prepared\", \"everything_need\", \"happening\", \"moving\", \"didn\\u2019t\", \"machine\", \"loved_ones\", \"lincoln\", \"respond\", \"guess\", \"diversity_inclusion\", \"spent\", \"unexpected\", \"nascar\", \"billions\", \"fan\", \"channels\", \"charge\", \"help_build\", \"fans\", \"protection\", \"plant\", \"return\", \"let\\u2019s\", \"vaccination\", \"inclusion\", \"talks\", \"podcast\", \"gets\", \"david\", \"natural\", \"dont_miss\", \"professionals\", \"dream\", \"patient\", \"hp\", \"starbucks\", \"improving\", \"funds\", \"talksatgs\", \"we\\u2019ve_got\", \"amgen\", \"coverage\", \"beat\", \"she\\u2019s\", \"imagine\", \"voice\", \"page\", \"empowering\", \"clean_energy\", \"ad\", \"recommend\", \"nature\", \"true\", \"pretty\", \"firstever\", \"upcoming\", \"washington\", \"weeks\", \"clean\", \"conference\", \"conditions\", \"star\", \"white\", \"moment\", \"continues\", \"classic\", \"stocks\", \"society\", \"approval\", \"look_like\", \"man\", \"brinknewsnow\", \"walgreens\", \"responsibility\", \"cvs\", \"get_back\", \"seeking\", \"aviation\", \"flying\", \"committed\", \"amid\", \"coach\", \"sustainable_future\", \"comments\", \"inflation\", \"maintenance\", \"wrong\", \"meal\", \"men\", \"aren\\u2019t\", \"trend\", \"m\\u2026\", \"aircraft\", \"advantage\", \"fuel\", \"we\\u2019ll\", \"colleagues\", \"call\", \"putting\", \"police\", \"generation\", \"wait\", \"next_generation\", \"grant\", \"cisco\", \"answer\", \"cant\", \"apps\", \"question\", \"managing\", \"covered\", \"initiatives\", \"cover\", \"class\", \"womenshistorymonth\", \"allow\", \"budget\", \"autonation\", \"agency\", \"users\", \"announcing\", \"drvpnk\", \"black_women\", \"joins\", \"americas\", \"comprehensive\", \"suppoed\", \"rally\", \"applications\", \"brand_new\", \"updates\", \"something\", \"environmental\", \"youtube\", \"film\", \"recovery\", \"watching\", \"drop\", \"playing\", \"answers\", \"epic\", \"laptop\", \"60\", \"im\", \"memory\", \"revenue\", \"included\", \"looks\", \"youth\", \"we\\u2019re_working\", \"talking\", \"session\", \"came\", \"outage\", \"schools\", \"laptops\", \"developed\", \"thought\", \"closed\", \"faster\", \"looks_like\", \"generations\", \"statement\", \"hands\", \"featured\", \"powered\", \"without\", \"vision\", \"spend\", \"became\", \"europe\", \"feature\", \"huge\", \"warm\", \"beach\", \"cars\", \"knows\", \"automotive\", \"heard\", \"finally\", \"capitol\", \"ups\", \"met\", \"sarscov2\", \"quick\", \"youve\", \"introduce\", \"movement\", \"announcement\", \"remains\", \"brought\", \"pet\", \"gave\", \"crisis\", \"footprint\", \"q2\", \"tokyoolympics\", \"within\", \"movie\", \"driving\", \"thrilled\", \"paper\", \"despite\", \"officials\", \"lab\", \"expediachat\", \"wants\", \"joe\", \"inspiration\", \"park\", \"kind\", \"youll\", \"expansion\", \"networks\", \"panered\", \"24\", \"selected\", \"deep\", \"next_week\", \"united_states\", \"nasa\", \"dedication\", \"auto\", \"past_year\", \"books\", \"policies\", \"social_media\", \"physical\", \"dive\", \"paint\", \"leads\", \"modern\", \"headed\", \"gifts\", \"sharing\", \"holiday_season\", \"november\", \"media\", \"testing\", \"commercial\", \"inspired\", \"zero\", \"transformation\", \"t\\u2026\", \"lgbtq\", \"tour\", \"announces\", \"includes\", \"season_2\", \"edition\", \"hour\", \"net\", \"steve\", \"tree\", \"wins\", \"dollar\", \"harleydavidson\", \"19\", \"cx\", \"read_full\", \"instead\", \"ale\", \"eyes\", \"won\\u2019t\", \"finds\", \"accelerating\", \"offices\", \"bloomberglive\", \"digital_transformation\", \"models\", \"sets\", \"cities\", \"official\", \"race\", \"quality\", \"color\", \"whole\", \"done\", \"isn\\u2019t\", \"make_sure\", \"morning\", \"depot\", \"home_depot\", \"confidence\", \"founder\", \"sma\", \"hosted\", \"beautiful\", \"delivered\", \"jeff\", \"goes\", \"celebrates\", \"premium\", \"seat\", \"bezos\", \"presented\", \"application\", \"fit\", \"severe\", \"jeff_bezos\", \"tough\", \"aapi\", \"apply_today\", \"road\", \"easily\", \"delta_variant\", \"get_staed\", \"cigna\", \"wherever\", \"works\", \"speed\", \"colors\", \"host\", \"variant\", \"delta\", \"pickup\", \"planet\", \"edge\", \"dedicated\", \"successful\", \"aicle\", \"safer\", \"ca\", \"football\", \"choice\", \"transforming\", \"womens\", \"rich\", \"delivers\", \"seeing\", \"honoring\", \"levels\", \"apache\", \"recognition\", \"manufacturers\", \"player\", \"3d\", \"heroes\", \"hispanicheritagemonth\", \"foods\", \"loss\", \"eye\", \"cup\", \"mhhighered\", \"approved\", \"sat\", \"accelerate\", \"sector\", \"remember\", \"track\", \"advanced\", \"model\", \"items\", \"panering\", \"india\", \"\\u2026\", \"lawsuit\", \"include\", \"given\", \"activity\", \"point\", \"adveising\", \"educators\", \"january\", \"choosing\", \"preorder\", \"happen\", \"guest\", \"runs\", \"debut\", \"investigation\", \"recipe\", \"c\\u2026\", \"baby\", \"chubb\", \"eu\", \"australia\", \"surface\", \"rose\", \"antitrust\", \"presents\", \"buyers\", \"delicious\", \"prime\", \"closer\", \"core\", \"paying\", \"aim\", \"get_ready\", \"red\", \"new_year\", \"thing\", \"construction\", \"essentials\", \"omicron\", \"hurricane\", \"camera\", \"integrated\", \"bigger\", \"hr\", \"biden_administration\", \"forecast\", \"staying\", \"solutions_help\", \"joshuagates\", \"required\", \"productive\", \"raised\", \"authorities\", \"provider\", \"childhood\", \"faces\", \"oraclelive\", \"suppoing_year\\u2019s\", \"picks\", \"paralympic_athletes\", \"join_citi\", \"acquire\", \"7\", \"kkr\", \"adventure\", \"heading\", \"athletes\", \"administration\", \"walma\", \"tokyo\", \"paralympic\", \"see_click\", \"clear\", \"room\", \"anywhere\", \"vegas\", \"opinion\", \"to\\u2026\", \"song\", \"anthem\", \"america\\u2019s\", \"known\", \"lessons\", \"middle\", \"click_homes\", \"front\", \"awarded\", \"olympics\", \"3m\", \"wild\", \"turns\", \"africa\", \"s\\u2026\", \"national_anthem\", \"warning\", \"aboion\", \"vital\", \"comment\", \"fact\", \"ban\", \"unprecedented\", \"signs\", \"homes\", \"nothing\", \"learned\", \"main\", \"competitive\", \"walk\", \"ig\", \"efficiency\", \"wanted\", \"resource\", \"intelligence\", \"consider\", \"let_us\", \"players\", \"potd\", \"serious\", \"massive\", \"kong\", \"hong_kong\", \"pridemonth\", \"funding\", \"resource_group\", \"priorities\", \"celebrated\", \"woman\", \"eahday\", \"employee_resource\", \"lighting\", \"maximize\", \"illness\", \"famous\", \"effectiveness\", \"marvel\", \"habits\", \"streaming_disneyplus\", \"missed\", \"celebration\", \"let\", \"enable\", \"along\", \"digitaltransformation\", \"brings\", \"throughout\", \"follow\", \"operational\", \"hong\", \"music\", \"sachs\", \"goldman_sachs\", \"anyone\", \"student\", \"chair\", \"double\", \"luck\", \"issue\", \"goldman\", \"pressure\", \"death\", \"female\", \"perspective\", \"explain\", \"trump\", \"halloween\", \"expanded\", \"actions\", \"picture\", \"army\", \"died\", \"merck\", \"turning\", \"loan\", \"congress\", \"zoom\", \"london\", \"though\", \"today_announced\", \"encourage\", \"often\", \"changes\", \"rise\", \"asked\", \"ford\", \"post\", \"thrive\", \"communications\", \"providers\", \"engineers\", \"type\", \"healthier\", \"wellbeing\", \"raising\", \"promise\", \"smile\", \"suppliers\", \"smaer\", \"independent\", \"instagram\", \"masks\", \"tiaa\", \"slow\", \"brown\", \"latest_episode\", \"interview\", \"organized\", \"gone\", \"airline\", \"seats\", \"bowl\", \"fifth\", \"new_mymcdonalds\", \"of\\u2026\", \"adp\", \"problems\", \"large\", \"super\"], \"Freq\": [2148.0, 1111.0, 660.0, 2371.0, 2215.0, 691.0, 1476.0, 397.0, 1264.0, 1730.0, 991.0, 868.0, 1045.0, 1161.0, 499.0, 533.0, 576.0, 813.0, 455.0, 1254.0, 869.0, 1944.0, 454.0, 673.0, 1727.0, 898.0, 624.0, 1326.0, 900.0, 604.0, 811.2124059761051, 743.0802085156437, 690.3040158816127, 714.1964636307039, 612.000606731444, 622.8616627097958, 702.5929126837055, 570.7727800356487, 526.4050467218665, 583.2683513481711, 509.21906645560165, 498.9455312421837, 492.7074077143224, 529.3941924577051, 540.9711646318265, 487.96228893845984, 712.7956134082638, 455.27451658380915, 447.1319400296603, 487.9777800230092, 434.7526627281415, 419.3596883809154, 460.89144445332965, 402.2731171602864, 395.4499121589234, 467.0260089722096, 380.07771930753444, 420.66809896181144, 424.0081225145598, 377.837847869777, 781.7621752549447, 970.5651061303699, 1231.1648738541326, 716.4232515962345, 540.0975181498171, 808.5494600308695, 608.4614799754384, 1386.9145821676238, 897.3692564479439, 953.1746688913411, 1168.4505010599346, 1922.991641171572, 690.8225395460383, 1025.758034670541, 611.0572662085171, 1084.895329135543, 795.1930405965788, 869.9924234440767, 1172.9204234115018, 1925.23148093022, 625.4881143208784, 723.3690864305028, 1360.9915668572942, 834.6754117167069, 721.3013909529209, 754.8381634423838, 1047.9514050602845, 998.3268403147583, 1202.2105479132092, 832.6252031075734, 862.4339779901445, 745.9744753185062, 737.9060595597153, 731.2490114877214, 863.592190941735, 606.0635853842582, 632.7767895825064, 514.7163851728134, 506.1245602925911, 506.9664134615834, 475.16521471530876, 474.8625298581147, 444.82664366132303, 472.3152814275472, 577.1130181607099, 462.651447678096, 435.26165379906115, 411.60170018235584, 476.15077336797174, 424.5533914614864, 457.29162153037794, 386.31450998043545, 415.4435635168332, 360.04800160084903, 466.1800653515384, 345.6874030820256, 359.21980765335354, 490.55125855915327, 335.20964556216984, 802.8496765851943, 323.7148433567121, 314.9174319190733, 313.6795049663594, 493.3758371897595, 628.4071915337777, 351.0932036382001, 438.1452769238691, 444.70157232327256, 950.9396394373115, 831.5458244434828, 684.9852580021533, 429.2669575096967, 600.2097143593351, 950.5337903640842, 569.1587690826221, 801.372996914241, 655.501370184636, 554.5073120613191, 727.4322270566627, 767.44139601132, 615.1441311000797, 594.9663188919793, 724.5991386874242, 707.2874500903293, 951.5306080555528, 549.6005531263156, 514.4527578339568, 522.3687785477276, 559.3615288152296, 507.31378535651777, 554.9769445714322, 514.0663879805898, 526.7862896937564, 476.0202952749523, 470.0926871370387, 618.3084741754026, 580.810249569573, 467.22136991028896, 437.5943078746521, 393.1808953068382, 345.670637345612, 347.85691983571235, 341.6020812733568, 330.3401448022341, 451.35904475557214, 346.42077882693746, 464.475542024836, 333.29476672426676, 327.98535660861626, 327.87403971148507, 325.5043471634396, 336.86246329672804, 298.4959602395451, 308.5615561186658, 283.72444752449917, 284.31456680761744, 316.66376945113484, 279.5329637968644, 343.5567474341602, 275.5031989684989, 454.1673844311356, 397.0261854805137, 545.3315649886847, 319.49326798700173, 369.98612680346054, 417.8171943400113, 564.2437269367998, 379.0466768181657, 402.1513870906604, 554.5216631197762, 915.6269904151665, 472.7112624428363, 608.9716945740624, 391.943301590974, 555.9827223461098, 436.4396196302915, 610.5516226806859, 429.634850311935, 616.212948557799, 512.744924002422, 577.7173964139539, 549.3669854872571, 447.9871009095664, 402.25355510951573, 687.3831622667212, 571.1595884953225, 403.6415117036757, 374.38731256889787, 378.16312638185514, 340.73458687190544, 335.15487227775077, 311.5928086407441, 325.7488761501395, 301.15790292887533, 304.8211037022244, 324.0926639012662, 276.36403410032466, 243.8446759217704, 244.43893119580542, 229.13416798551907, 293.6051011385668, 225.4685334896079, 225.00665991388766, 217.86861568443385, 214.2474499963907, 213.6032820613881, 210.81739557480688, 251.06256333001755, 218.8179596196639, 231.82565165482112, 209.13776408338376, 202.0779618994587, 191.14807117595834, 183.79404474333552, 504.8379160759778, 389.36089737474015, 506.00845123459754, 420.11341567006093, 306.9344501723548, 246.02693516760797, 555.9824676288878, 280.1369445249622, 250.326106073645, 309.860211660929, 443.2828814305945, 255.3961906239082, 345.12961228938156, 366.3404864469165, 384.3643368639861, 290.7722480762248, 260.25740200269706, 454.111665925548, 260.635589679789, 366.81860618816125, 379.9275752394135, 317.6803386610905, 296.616640673235, 406.07787157558835, 449.8550100692774, 283.7697144508226, 279.2147601274833, 247.62759652263773, 490.6995273523277, 400.3717570636368, 282.556500944062, 209.21787852619215, 253.6038126028258, 201.49096815954113, 212.10177091865523, 200.1061093743839, 354.03355117785156, 264.2861216877691, 190.49408322565145, 185.93990867284444, 184.30453834405134, 443.92352819331, 200.41154685989926, 237.9293852098104, 173.36598571805064, 179.1763158776332, 224.46630496525276, 170.9631023025305, 153.0196110614833, 180.1660225255077, 150.93275359449592, 149.41497813404564, 266.0490323792379, 337.1966911239676, 505.0828189060929, 260.73072374534377, 286.36996189212005, 240.58569404832383, 195.25361103214553, 320.8333296255841, 246.83937163615838, 244.61604064583597, 225.41226238221057, 246.93461308257562, 247.54882601869195, 208.99426222582784, 214.3623076694069, 219.3046526979863, 235.76284004167238, 171.88165413730795, 164.95170249217452, 188.539112001041, 161.97088965201792, 159.4347854773919, 135.12912983352754, 135.42774485932176, 132.95547163241483, 131.49931191244673, 126.1822780785075, 127.95434231962561, 233.8267280842592, 115.70640150507383, 115.6134224411603, 119.97358395194743, 112.71799790149075, 111.59861470607522, 134.0739306445951, 166.6979207549499, 104.0632088169679, 103.96493387159403, 101.10179344066997, 228.8755773547418, 99.98334481257098, 105.56562961910426, 305.0472580388041, 94.32318978040807, 333.60597377898114, 265.74332342456916, 255.90843542130017, 122.16160333749086, 137.68953275838336, 320.1285992754516, 568.0398590965466, 191.49967588267273, 178.74474268298422, 183.64862507444775, 129.80824350542795, 136.57951600429573, 154.73282154670554, 175.60625795244758, 245.9537726996352, 218.2450382829488, 213.48455521834683, 198.12258076495348, 175.662895531505, 158.79731038008146, 242.49053745223452, 152.17072196637528, 172.2611287445441, 136.96414266475674, 123.78697075802327, 120.42637624173435, 118.0709054645902, 116.97261516168089, 113.13250553030115, 111.10936722878063, 110.43587069225597, 108.59731017212242, 103.69080425032573, 109.1174725213159, 102.54473561961153, 281.5333224900981, 100.5203356630514, 98.36640840121213, 97.82191413339733, 95.83867077477574, 94.62350889881706, 92.2688531038103, 90.72066915195788, 112.47725205546745, 104.61171055648394, 95.11100927158103, 192.77132968713934, 126.90099399591617, 147.95958388057895, 124.10085642642161, 140.93382661961584, 134.5891906799821, 124.06265413873115, 165.74399870098367, 116.15552504164029, 228.59655077246578, 209.46125937334497, 205.14644166337013, 154.49705122148987, 153.49279017642655, 138.234617791775, 136.6538567823361, 136.5305978247363, 167.70133157217364, 132.9456476435363, 130.37983535339185, 121.02785955636722, 120.26985024039233, 117.78712498723344, 117.45009640016944, 114.60610483571068, 114.46976578836919, 113.93854703913102, 114.64968541735995, 112.71789147378482, 108.71165740726951, 121.20669225873728, 105.79040532403688, 124.91076072469629, 97.5924868061496, 93.96904315564758, 90.92069459837879, 89.78835366947962, 88.22723127979985, 86.2919251583687, 318.6359549150939, 210.43232109509555, 319.67783693053923, 324.3893902511304, 173.26326078932382, 136.61100081843398, 308.13878731524636, 164.336694762338, 140.05016973940374, 159.290249737631, 140.04841107069245, 148.9766796543068, 128.86818229110102, 125.74612673645599, 116.1900528537355, 98.69684321354808, 96.80301767572851, 174.99191299281316, 95.42497130011863, 92.40674922041428, 91.95643366996651, 89.96322654134707, 88.39826078865704, 84.96424468156734, 84.03003621558825, 84.78154413697499, 79.83215447381892, 79.75660390846008, 79.24539614405941, 110.8436925659371, 77.08373450009823, 73.1012761452771, 71.6760577248248, 69.10050232080279, 68.82177254380386, 68.80570393111304, 67.59436717128905, 65.45201296042715, 64.93448292297819, 64.86156763400338, 158.44945251028506, 123.80979018685419, 126.96519005492976, 165.00141887751678, 113.0532612638002, 96.26114270406521, 136.0123427658143, 131.29334951854037, 106.63355919543308, 111.73809855492338, 102.21406273537943, 115.4505649600493, 89.87849202759129, 88.35570833863956, 86.76690173537148, 86.4768511574844, 81.17792433946292, 80.70949625925334, 79.86349352792644, 79.40083595879977, 79.27870557757477, 76.51349119068529, 76.05607344672393, 72.05636071982283, 71.12449300702909, 70.8224936167448, 70.42730577933085, 89.66094431838276, 65.77804466162888, 63.95085394417724, 63.042045931044875, 62.46320724913783, 62.420735617227585, 62.20898634993972, 61.428844534070095, 59.840250205169056, 122.33498019781202, 82.34893588522752, 75.57566862327937, 392.99894177570627, 200.04738668502387, 179.31702342271157, 168.82502078110406, 145.36850534317588, 124.92863256138916, 121.27346948363088, 110.88178489332323, 108.60409888300101, 108.57766038179638, 121.57112553924931, 93.92254455517427, 92.84811652491078, 86.55413104654374, 82.4802115454997, 82.12305006193633, 81.35890110188511, 80.63309387722575, 101.72876718188391, 75.22079105351754, 74.16042022716559, 69.2830109325021, 66.26992957792477, 64.49528949940178, 61.15334907142915, 56.89781393360532, 53.85274532289763, 52.000229301573974, 51.500379409640004, 51.37194157902153, 125.42745112617334, 113.64104696764397, 122.07025565077666, 80.46614779485267, 71.32649436439613, 65.8627755850742, 87.69149689042258, 149.17091795636102, 122.62600759269209, 110.5360515158495, 101.86915741882075, 100.92708723452897, 100.80466628980628, 96.78206356798324, 96.43410357827993, 89.26441036679057, 78.6418961909602, 76.8960478793986, 75.6917746674446, 74.6930834982866, 73.93895386526543, 72.3741514902759, 71.89795582056198, 69.49052561816016, 68.30680126537548, 67.92814258838865, 67.83322222654112, 66.35769680513309, 60.79184257098142, 60.160024856396305, 59.89568802855255, 59.544981614771274, 58.729423456815475, 57.17354566214734, 57.00401497813654, 55.65148159152412, 55.368459734839945, 98.92131506386892, 91.06174504429003, 71.597328814448, 84.51679841393745, 121.75769109545419, 69.11731306377783, 60.92535304657467, 69.60275520094517, 132.50683608898186, 127.43843960368838, 125.25495088857583, 115.03168815174422, 115.18074954631628, 112.59924866260558, 107.63935563240724, 104.20029560263804, 97.99419308304576, 90.16190462633499, 89.3255815695306, 88.2526505924544, 87.6101940875498, 85.15556138964135, 86.59738218005218, 82.62843685841517, 82.11788338676509, 80.62110299916486, 73.74357615432628, 68.81655918249201, 68.02278806415553, 67.23986430033008, 62.63494795550668, 182.09477945652483, 57.12028452603288, 55.023290502152356, 52.834168739890245, 52.424770837053494, 52.38628167152975, 51.47801014613268, 104.07199173756227, 82.7374986332278, 101.1998256209338, 77.8775647724482, 116.57620986018641, 74.80168174890441, 93.40394758579863, 72.28997581487612, 70.00891574413657, 163.9115172294798, 162.3078580602999, 136.72508834831504, 126.54220227204692, 117.59887323003582, 110.727841286056, 88.26123238906145, 82.60114810253643, 79.07981894236309, 79.06927969422354, 78.88481296733504, 78.08536915772562, 72.90878035071374, 72.83285891432857, 70.81789512694674, 69.96580986479158, 68.87646700096954, 68.87205904510778, 68.23612300389388, 73.18906657462895, 67.72394343646222, 67.46764944236183, 66.38611139982272, 66.2993468900917, 65.39101411884398, 60.334421326093846, 59.794513973032295, 59.734939328893795, 80.19679495773435, 59.510840845178095, 111.4638852423723, 116.51288240496517, 121.55651032866652, 81.57606676021553, 113.91526654451539, 83.09137754399883, 107.59440434568663, 107.14172020129611, 81.49252675652487, 80.47277877512742, 85.83580162643014, 78.15536642144103, 74.9348439273667, 74.55317208387567, 72.5235741724074, 70.65831375633164, 70.64324782795562, 70.29394112013404, 70.23148889276878, 69.06512043046395, 66.73509427870505, 66.4753127094903, 66.22617527587302, 61.54817218479857, 60.778034157056624, 59.95833126425456, 72.79458182295086, 58.79262930389836, 58.38560054298871, 57.97951682215547, 57.00576742300349, 56.5907107953395, 56.01006325070797, 54.69802929536244, 54.61269715035778, 52.38561073239559, 80.4647160911071, 75.07151164410095, 74.85252596281627, 147.8343699638553, 81.75190046633821, 95.9622542178196, 71.90935780948277, 133.64530301937413, 128.78570614725533, 113.97894917980994, 111.9185023563076, 107.0354971644456, 102.21109690332337, 90.97701370383963, 90.19791751768028, 89.8570765457238, 80.75721844262438, 85.55133140631987, 78.69454956086311, 77.06175739746426, 72.88616350561355, 72.35308232637907, 71.98929328282654, 69.92925226951847, 66.77756203797874, 65.4084821650992, 66.78706888411546, 64.97154335957535, 61.44076207081586, 60.2307795897132, 59.72450167892041, 59.35187884028508, 58.17929028391386, 58.11685984975729, 58.074299268406, 57.469721261406164, 56.9569503875049, 106.00031495007653, 99.36485307655126, 77.16627826701533, 102.06325332108054, 65.38423748044339, 61.15045931476162, 253.47024325829338, 151.873132622355, 128.71188158172123, 113.11618203296732, 165.31841940922024, 103.42468784404147, 98.50024970638266, 113.12771820191166, 90.1252371314761, 89.79845447551759, 89.25689433972492, 87.57727932579539, 87.45349190203761, 87.36677377200375, 102.66062335757734, 71.26417673160181, 70.95009665757392, 65.7088961881762, 64.50249049335882, 64.0550849855842, 64.00766070062356, 63.43975045880358, 63.378225864958324, 61.532704598847076, 59.6983897562368, 57.731093990044506, 57.4325513244455, 52.705714374122664, 52.36113530736947, 52.14653500419145, 114.88645243595609, 110.81374185696137, 88.42022679683289, 112.48757894327119, 93.59307644955013, 86.78079151125729, 103.59673622030276, 160.31769472672903, 230.97146196704057, 129.29999988063935, 128.88157427947598, 123.77354622011445, 104.30662449061198, 101.93879228079098, 93.99789468987065, 87.17395057832624, 86.31339101349171, 83.3728472293507, 81.17875853905925, 80.85373308733676, 80.22375330072296, 76.93685144716606, 76.15687086347621, 71.45691624450596, 67.73340746996604, 67.47847139883352, 67.42625409855226, 90.07935886374443, 66.37361752889484, 65.10053736498743, 63.4902732371563, 63.387119771710665, 63.37633565733598, 60.38562144396253, 144.6290318908995, 56.55815910809938, 55.315531673177205, 90.93017002113785, 88.79280469257326, 144.46411396884181, 149.9289553382283, 120.45742859561621, 76.91087532824442, 108.72521533167078, 110.79737530049331, 179.1203991713897, 137.85632489603523, 110.64934858840085, 105.71601641297305, 94.53529553220473, 80.47335265789255, 79.4007685911296, 104.08122996491234, 78.24612059805237, 75.2904763952717, 73.18744880522489, 72.94448374373319, 70.33460067142381, 69.63712250835951, 69.16651929326918, 67.81616219203079, 189.6958979917882, 82.83582668659184, 65.48562686959967, 65.32464361736139, 64.8002827098847, 64.12561859849986, 64.38460614769446, 60.902277607655634, 59.053527911840995, 59.00866301410675, 58.545257117882045, 57.68023116812415, 51.93240884828898, 50.9484290902189, 80.70215494158958, 81.89584718190906, 110.56871929544434, 89.18192975994452, 138.09430013847444, 67.3333380261149, 83.31667521263118, 191.77080762218958, 126.68934934031401, 125.5105875396374, 117.31948138419338, 120.98566507727212, 106.30710024155331, 111.55963663323703, 98.0469113741485, 96.32616947703455, 93.72171357043685, 86.5957444279973, 85.47619500073488, 84.51589411779256, 82.96816322334402, 88.0856053923369, 77.59276429563215, 77.37320238123024, 75.34859989064967, 74.66175181162991, 74.6598009227978, 73.80120702149384, 72.629070516554, 71.49447413483402, 114.63338754047773, 68.85986154319541, 65.17962082687342, 64.31910983926662, 63.996575762845126, 124.06982716352773, 59.51743158297589, 134.63628534004812, 174.22922650456, 93.29179368745976, 78.87459000805065, 144.12719857791762, 119.90885793089353, 131.91540567217768, 97.17303114516312, 93.21971875907764, 91.60019783879262, 86.55188102511839, 84.91384798513312, 80.55440787602994, 80.49862057057241, 77.88621108632162, 76.55200169596353, 76.40915530828678, 142.9961061338746, 72.33294676988454, 71.90814284685642, 71.65369289291577, 71.52387158633158, 67.54115986937694, 66.93209858392025, 75.58080551418041, 64.56011501298214, 64.04206521486314, 63.41003751187424, 62.176809900642354, 153.90582526059225, 60.21428874373154, 60.200269528995015, 59.415724351812344, 59.05191004525242, 96.97491864830822, 115.33913442663406, 109.23834859283672, 138.72035530442727, 120.22005375228504, 104.95887623403577, 104.22297904549927, 93.68698020986909, 94.57408529477593, 78.41031699878707, 78.317121448779, 76.36981826804647, 75.7766281837714, 74.62617101017175, 74.14025520367939, 73.63025760170916, 72.57900508049465, 71.8898826722437, 71.81505482413894, 70.52934746108568, 70.2982239494167, 68.32015361988195, 66.2980316682386, 62.018506898466114, 60.959189290450965, 59.57434081537003, 87.06136389874224, 57.16612949740318, 54.86455705364446, 89.25326114692558, 53.76720600309168, 50.77785003718565, 50.76512381130552, 131.12002990984212, 99.21037101730647, 113.77167872969989, 83.3908099148801, 80.29012216550773, 71.62787854684846, 66.63538104179219, 121.20762525708128, 110.96204026231433, 106.2734343715807, 104.0650720839211, 87.60545996130915, 87.13669187972185, 86.79148477755966, 83.40665400120031, 78.40995283506665, 76.60856906992039, 77.60288850468781, 75.1436359385251, 74.3342362475912, 69.81084237841493, 69.139591734684, 68.46348444793472, 68.40277414286486, 68.37944321071784, 67.40541193735486, 67.15367367356282, 66.32473404353827, 65.30464401841292, 61.50995519730243, 61.162594121812766, 59.806447980156456, 58.699169649415786, 58.22193531898135, 116.97323112292193, 56.56061423628898, 84.81447282931248, 154.16835089997466, 99.68620302299708, 84.97434753169838, 138.65385692665, 135.34161731876677, 66.77298722968666, 66.76981748788477, 137.2361640647251, 115.5558595186764, 112.93297584108049, 120.76438908471752, 105.5335935157245, 86.10001611128573, 82.67428994725715, 78.82147076569517, 73.91733446303604, 85.85614752920037, 73.34590519076343, 72.70015077802582, 71.63652872683977, 69.89021977408045, 76.50711739198219, 69.24499189377022, 65.86743238524242, 62.84561853801523, 62.41778218058434, 61.17697975525965, 60.90592617120876, 60.27641019551761, 59.97534426310536, 58.51677422031034, 57.219849632724774, 54.7792390924938, 54.70284321945719, 54.326000863922914, 53.65887985377456, 53.0890655759221, 100.18351079491754, 104.01134844635298, 133.06811567091825, 97.82276947188707, 119.26607248061775, 97.10550841579577, 97.68813645759552, 64.14833940694436, 134.97425391350177, 125.82666120456922, 111.22486554137357, 105.59483953131075, 104.33343138341368, 100.75372208229791, 151.16434762445374, 90.51046136544672, 89.40280883916152, 88.84598423526154, 88.47297826251432, 76.7613089048873, 73.92228263980779, 70.92546316445637, 67.3503442434382, 66.10228269200985, 81.91336048170533, 64.55750480855066, 62.725452270814316, 60.02196162156432, 59.2327390749778, 59.09688947361174, 55.54033992256446, 55.48398615225268, 133.69383858481524, 52.395925133381475, 51.76814864288632, 52.175984898532036, 48.708713375818306, 47.80601380292711, 119.6405181636465, 111.60660119650292, 88.85905664717724, 79.07886710641391, 76.84760628178945, 68.2483915235908, 60.58400899896648, 123.43790926807523, 111.08341453904049, 99.80016927117285, 99.11183673035089, 97.21460212801257, 89.83240339071712, 83.46277182708192, 88.52065303623965, 74.5843616446288, 73.27463661573111, 72.99803624974768, 72.32211643393828, 72.11982291653312, 71.98547342227964, 70.02556672796621, 68.92471969770408, 68.59712545827098, 64.8896974454103, 64.14660722866638, 64.04555391309678, 63.411718276662896, 62.89775496816007, 61.884244670785606, 60.79091220689136, 60.06160811190507, 59.17355934567111, 58.19904308499573, 53.495037539693676, 50.18765479076162, 48.94558259013611, 90.18647897941543, 62.7510144798552, 73.12260681148078, 95.50037698814921, 78.10132647533787, 70.35499071432868, 61.92018768053833, 104.40073007267668, 101.8449717595167, 97.61052674934467, 94.36343950444449, 79.29370453439213, 76.76332469807093, 75.2149477455245, 73.74702369205191, 69.08884889230428, 67.51632157676669, 67.5133390145653, 64.24800550678614, 63.454079486533246, 61.5787839673747, 61.016132380327484, 60.42732807075494, 58.797994768737475, 55.51161932276781, 54.74402909791194, 54.685548757459706, 53.88344166825292, 75.11789623941691, 51.476250804492004, 48.12062041676718, 47.87237741676622, 47.3995001891767, 46.74397344590746, 46.636349481459455, 45.949788072419665, 44.80404557500407, 67.95144765260532, 62.94278365401479, 62.90571139749645, 52.489471426909006, 47.48502954642195, 100.75474219068025, 100.1532226527865, 93.94682950537774, 122.37494666245317, 88.66687851943107, 63.89540164694292, 63.07394031170203, 60.453573001756666, 58.098262590328794, 56.05245403987553, 54.269930495748774, 53.4832747265585, 50.16124189507914, 49.31568206882202, 48.842814019495634, 45.81458590150411, 45.07240538352633, 44.72208185245952, 43.49736359999348, 43.04831008460143, 42.89634761265827, 42.62739103688285, 41.886622732125666, 44.87371493418769, 39.318760979668596, 39.20018050227218, 39.15657983887189, 39.15329350891084, 38.9059025269812, 38.89310931391854, 111.85093686571047, 78.56435947066515, 78.63358442113501, 61.1362929067871, 98.00312234529741, 72.15526639992149, 101.71761415270134, 51.155970055593635, 44.442251613494996, 118.88223721001279, 101.98930574538304, 105.21682514794769, 106.08435171575465, 68.54656401659872, 67.4551780045034, 66.06699455302657, 64.08779517954612, 63.09059356793957, 62.468802595071786, 62.43282090040125, 62.00508892670976, 59.11741080141614, 58.01133448184986, 57.08034608564702, 54.68121158449181, 53.63584195782992, 52.626855113590366, 52.54091737715777, 51.54148166928873, 49.225657217519135, 48.09480342094773, 47.472382702824746, 47.19523481479889, 47.14234745881321, 46.755526435807646, 46.65424240726325, 46.2301164748545, 45.39556156933756, 45.21807086794684, 57.52488251159479, 117.67092221163881, 54.76768910257173, 58.26431964419114, 62.21116181602243, 49.5741237556962, 48.62018714251524, 89.46663564829556, 83.77066083419712, 77.31177109188104, 76.94421742935329, 76.66793184185795, 74.75555921424353, 66.72855987475074, 56.60162216972387, 56.201654782217155, 55.223856842014406, 54.638013866125654, 52.95850669865398, 52.75047715017859, 52.519324127259715, 50.38618825311494, 47.94320153604164, 47.32045015178814, 45.2821558116982, 74.62126847559593, 42.791514306892275, 42.2474607426484, 39.771826279890945, 38.538080265860025, 38.44132570540544, 37.04980516068967, 36.31131753655888, 36.20696287510648, 35.75297385083964, 35.19824448490088, 53.64152027180658, 74.02321556227814, 166.10373619089552, 72.21659057650429, 87.05348099921517, 58.98387865648764, 58.205886108548555, 82.2069270527464, 89.07188357936214, 44.254006273731335, 44.44849976744814, 118.9233498449551, 108.38164631147242, 108.2740110364862, 94.89653249104421, 81.61165683500364, 75.02267437899667, 74.67984068899663, 70.90058929423975, 76.5377404158432, 136.60501225632837, 63.45233270208908, 61.64989549383304, 62.322828099939976, 61.68675519048842, 62.984115992246096, 57.55267291740981, 55.58415493676146, 55.26174518705444, 53.36163337267992, 53.269229566109736, 53.01212877600699, 50.694122516950564, 49.905986224617486, 48.762754698072015, 48.14002033831326, 46.952866570083, 46.44800230102776, 44.973412088328566, 44.96422816886795, 44.792680777749084, 56.8653606563123, 84.0759693931006, 83.68262088241418, 82.99942735136618, 61.25530679501762, 90.49569852200668, 80.72835779600908, 79.75658602164802, 67.00861821039979, 65.34589303490174, 62.70351680300165, 62.341551975199245, 60.625701914184916, 59.45701152907324, 58.76092580976303, 57.894699619392235, 52.19414056717623, 51.81357187899927, 51.63024534697073, 51.48202666261919, 51.131392267767836, 51.059964863178884, 46.32923314092333, 44.77096554871505, 44.60662351870556, 42.84206084323735, 78.41363789168784, 41.177146978283474, 40.78609161280076, 38.45946079702061, 38.219840537785394, 37.19319927037078, 35.55216432458139, 32.72931954500016, 32.55614028481104, 64.37363277043025, 60.55617771781842, 66.94805178073368, 58.80553701049751], \"Total\": [2148.0, 1111.0, 660.0, 2371.0, 2215.0, 691.0, 1476.0, 397.0, 1264.0, 1730.0, 991.0, 868.0, 1045.0, 1161.0, 499.0, 533.0, 576.0, 813.0, 455.0, 1254.0, 869.0, 1944.0, 454.0, 673.0, 1727.0, 898.0, 624.0, 1326.0, 900.0, 604.0, 815.472659513711, 747.5950161906652, 694.7507609045697, 718.9636387663056, 616.1511572096274, 627.2993164318643, 707.8053499987861, 575.3147974917458, 530.651721417586, 588.0824905665943, 513.4762209772332, 503.1350088296095, 496.937799899625, 533.9856088321088, 545.8047670093736, 492.32756150238987, 719.1854118596749, 459.48495172087115, 451.2971373707566, 492.58875385624884, 438.9051435786284, 423.5768187748033, 465.60087493743504, 406.4342454294913, 399.64806401157904, 472.0975895032178, 384.2390429324645, 425.3089935800746, 428.77503255113123, 382.08686046377437, 790.9256014630154, 988.0528505711687, 1264.5133268834875, 730.6183035058328, 549.9880399120095, 837.9001517853643, 623.2120204122642, 1476.1116874701254, 936.1683255181086, 1003.4671387333387, 1254.7637807188057, 2148.2618993256356, 717.3840059469521, 1104.0856297180744, 629.0659825607468, 1182.8968059902681, 842.431616086954, 936.6634119102257, 1326.0561547715058, 2371.373508044951, 647.2389267613378, 774.2849380126935, 1730.4217172397368, 937.1184875741699, 783.9877697572397, 836.1790359292495, 1358.6876214119027, 1344.3682097522028, 1944.5314921240315, 1059.788738022904, 1205.682467260257, 926.1928735286768, 1056.397805761183, 952.8370463001057, 868.9446626934355, 610.2733755155065, 637.7010374427061, 519.0931591247893, 510.72051095609146, 511.5951308395954, 479.5725308584431, 479.28608331465875, 449.03831902672596, 476.8018554504639, 582.7298930213318, 467.20815955299275, 439.7365957996718, 415.9002320233255, 481.20084724283174, 429.05779301089456, 462.20909198183136, 390.4772673411693, 420.21355765568006, 364.2713827125893, 471.7256161839565, 349.85913527476765, 363.6541914184723, 496.7029576381859, 339.49152035942393, 813.1123091082386, 327.88239135147074, 319.08513240855837, 317.8378974432072, 499.9256564753815, 637.2550426463213, 355.8579965061491, 445.1336061170649, 452.7481461609309, 991.7056180789682, 869.5317513213795, 720.9426265470221, 439.45200698322753, 630.8409304809988, 1045.7732358736685, 598.7183770697936, 898.3999471530815, 712.264628115822, 589.1191754113203, 824.2813439084254, 900.2856159576013, 716.5173437128126, 699.5333630338195, 1114.3775219953059, 1161.6252059237486, 2215.9681546230327, 792.146823682847, 754.913506296353, 1038.6314638879408, 1944.5314921240315, 1028.6169517862004, 559.2064944428067, 518.2983031051198, 531.2215657080258, 480.2375909667815, 474.3736561387128, 624.277344278637, 586.7688081034327, 472.1840398889611, 442.2682178846033, 397.7884429625017, 349.83038928150455, 352.0518150800773, 345.8930133474195, 334.54723691348875, 457.12648899835887, 350.85321210375406, 470.4268637473695, 337.5656216799208, 332.2012975003872, 332.0929821969723, 329.7125430507462, 341.3500489634369, 302.7200872018083, 312.97656802499597, 287.89709379998465, 288.4992822873652, 321.3326394723558, 283.69749527254305, 348.7869829915055, 279.7404397580867, 461.58906919451226, 403.8469618902451, 558.4809953826696, 324.98735934657327, 378.5641297360687, 430.917102544375, 592.2349825469379, 389.85243912355133, 416.9982184999471, 607.7235207814542, 1111.3197504618747, 511.1161091370607, 751.5691982268527, 422.14441875086214, 710.4396594896003, 523.5450981059716, 938.5357608098574, 534.6964956780685, 1297.243396894551, 936.938443763929, 1727.1220239952156, 2215.9681546230327, 1161.6252059237486, 530.760885758194, 691.599070065377, 576.8531595514064, 407.8880414605218, 378.57845882252303, 382.7373335860589, 344.9491978297518, 339.33135464988123, 315.8478067058596, 330.20388710529375, 305.362437829682, 309.47337121457235, 329.08726797867143, 280.6866953903661, 248.02171498201014, 248.7485579454314, 233.3103272686187, 298.9605552117877, 229.65032522630463, 229.2088794671141, 222.05801113390012, 218.42320611463745, 217.8095974559707, 215.02918109607737, 256.1663395830547, 223.28634923874117, 236.66697232598844, 213.50790424957387, 206.38906161871026, 195.32382729420507, 188.14677854363987, 518.3647471775372, 401.9654875212247, 525.7580725992402, 439.0376599543016, 317.8046398444258, 252.49525815435126, 604.0682838229702, 290.86115596175364, 257.9394921370248, 328.2183731578032, 491.10868773368384, 265.13262368851645, 386.949020696245, 419.24713550926856, 451.9488244745864, 318.05440431941, 273.9552824498719, 673.7394592372788, 275.8750025758526, 561.4027587440289, 680.6422496988724, 464.70597063412225, 695.320962957719, 410.266874010946, 455.71774858300387, 287.9838768461345, 283.40432807919916, 251.83678717800532, 499.0465786899863, 407.6040046168468, 287.77972085437614, 213.40337170819134, 258.7440219672665, 205.703356202872, 216.58619602080705, 204.38699649979054, 361.63821712229225, 270.0874756709375, 194.68030554289996, 190.12654138312269, 188.49127134586388, 454.12587394158874, 205.034126953752, 243.58750165686916, 177.55155927151606, 183.55081028147, 230.01932907362595, 175.219246523885, 157.20510550615077, 185.15708420369026, 155.11842632987359, 153.6008909246182, 273.9792397166024, 349.3849561797269, 533.2837208526839, 271.8907828098781, 301.985041063074, 252.11306269329722, 202.26691236773505, 368.61494976523494, 269.85788123587, 268.97881689826687, 249.11821161879112, 326.821714548086, 365.57991838802025, 325.0624326596807, 218.63275640394423, 223.72879027882723, 241.25578171041934, 176.07260357011964, 169.14166153221626, 193.3588976277156, 166.1941017106506, 163.624563484478, 139.3190329744715, 139.63619146160255, 137.14528380017165, 135.68908991953282, 130.37443485272001, 132.45622704258852, 242.1356639209894, 119.89631945113068, 119.827085261232, 124.36060964593764, 116.90851915715925, 115.79614186377566, 139.18295154943303, 173.05871664362462, 108.25298707072754, 108.15471187868006, 105.291571447756, 238.36048843072473, 104.17312281965701, 110.05905622662027, 318.4165257394659, 98.5129677874941, 349.7908263580392, 278.7408173068728, 274.2065936150524, 128.03605432871387, 145.35601972876816, 354.7738039019841, 660.343863263732, 213.2491018061906, 197.51997554516612, 208.5868947324889, 140.8592966822137, 154.81739479904553, 198.431254834222, 1111.3197504618747, 250.1595969072999, 222.45120990042443, 217.7672913706659, 202.36438594868963, 179.86859263742974, 163.00325664164455, 249.1572361848302, 156.37641907230002, 177.21718731050143, 141.16983977068148, 127.99266787838945, 124.63207334765902, 122.27671364055722, 121.18019197356425, 117.33894460365646, 115.3150643347053, 114.6636145474355, 112.81736749277674, 107.89659748433795, 113.55900653335542, 106.7504327255362, 293.21286356518186, 104.72603276897607, 102.57586113503268, 102.02844465311225, 100.0443678807004, 98.82922750930473, 96.49824812164587, 94.92636625788255, 117.89069911355622, 110.2569384762859, 99.78891347446208, 226.1501372484029, 139.62974134712397, 170.6517141465371, 137.6755428267111, 174.71855385567937, 164.71777556602055, 147.52825635196965, 262.81495765124674, 140.55336619580876, 232.9146837189933, 213.86549644644873, 210.16910571159949, 158.70187747353884, 157.6957103044716, 142.43753541758497, 140.85677443644929, 140.73351545054626, 172.87913616194464, 137.15654126008073, 134.648535032291, 125.23866519030103, 124.47276786620223, 121.99013612498675, 121.6530141816275, 118.80904450667849, 118.67268341417909, 118.14161430876116, 118.98262174945164, 117.04311643396491, 112.9145750673096, 125.92874412158402, 109.99332294984679, 130.26552890018348, 101.7954044319595, 98.17196078145749, 95.12361222418869, 93.99134423298295, 92.43014890560976, 90.4948427841786, 335.23718041276464, 221.12657871816722, 339.7888417643042, 353.50182792342906, 186.20232336645984, 145.70793230913725, 361.36762236403314, 183.59150147671556, 157.30789101050038, 215.73380302554796, 144.44661002536415, 153.6793418182569, 133.18010038589048, 129.96437694808355, 120.40271246499505, 102.91770757304572, 101.01567727247786, 182.64361801077226, 99.63763089686798, 96.61940881716363, 96.16909326671586, 94.17588644351585, 92.61117225773867, 89.17690428845738, 88.24269594872322, 89.15080132497695, 84.04483789456071, 83.96926350520943, 83.45805574080876, 116.77489288542822, 81.29639410959622, 77.31393574202644, 75.89026853954678, 73.31316191755214, 73.0344321405532, 73.01836352786239, 71.8070267680384, 69.6646725571765, 69.14714251972754, 69.07422733985757, 176.99388331701581, 136.75680111669524, 141.61273197527748, 190.15820083335032, 192.70244865584314, 149.23682645803058, 140.2344589591897, 135.51545402627576, 110.8557358701603, 116.2553700899083, 106.4376397975076, 120.71489314829505, 94.1005965477173, 92.57784012134654, 90.98900624310681, 90.69895566521974, 85.40002884719826, 84.93160076698868, 84.08559803566177, 83.62294046653511, 83.5012718974354, 80.73559569842062, 80.27817795445927, 76.27846572507875, 75.34659751476443, 75.04459814782265, 74.64941028706619, 95.06711510131566, 70.00014916936422, 68.17295845191258, 67.26415043878022, 66.68531208135617, 66.64284012496293, 66.43109085767506, 65.65094904180543, 64.06247375741454, 131.47684894378006, 93.71981148114855, 103.2681933248044, 397.2181110129625, 204.26655586157563, 183.53619260869485, 173.04418995765582, 149.87637110777646, 129.2031658604674, 125.49263866018258, 115.10095406987493, 112.82366477403207, 112.79682955834808, 126.35736145535385, 98.14171383858226, 97.06728570146248, 90.77330022309545, 86.6993807220514, 86.34241386963494, 85.57807027843681, 84.85226305377745, 107.37770005998634, 79.43996023006925, 78.38967660380752, 73.50218025404124, 70.48909875447647, 68.71445955970265, 65.37251824798085, 61.11698311989333, 58.07191449944931, 56.219398478125655, 55.719548586191685, 55.59111075557321, 137.0832355157215, 142.71879988007157, 163.33288223714106, 121.15994285273531, 105.28107282893534, 93.37279139876405, 660.343863263732, 153.49652785156266, 126.84324024618998, 114.7532840354848, 106.08639050135446, 105.14431981220511, 105.04703659410893, 100.99929609647535, 100.65209808251569, 93.48164288642587, 82.8591287105955, 81.13319236381648, 79.93733811016467, 78.9103160179219, 78.15618638490074, 76.59138400991121, 76.11518834019728, 73.70775815230567, 72.52403378501079, 72.14537510802396, 72.05045474617643, 70.57492932476839, 65.00907509061672, 64.37725737603161, 64.11292054818784, 63.762214134406555, 62.94665597645076, 61.39077818178262, 61.22124749777182, 59.8687141111594, 59.58569225447523, 129.61624296282213, 121.15309295221648, 87.30833885910472, 127.8461760357839, 412.5958095481324, 103.42067093856708, 71.27550481039209, 298.52233788240943, 136.74401580862983, 131.65639236130312, 129.49224328202627, 119.24964070654481, 119.43950382287925, 116.81720121740616, 111.85730818720783, 108.59702572067013, 102.21646871003523, 94.37996325147046, 93.54353412433119, 92.47060314725499, 91.8282841237318, 89.37351394444194, 90.9054555339079, 86.84638941321576, 86.3363624963474, 84.8390560450945, 77.96152994958818, 73.0345117372926, 72.24074061895612, 71.45781685513067, 66.85290051030728, 194.3917177700316, 61.33823708083345, 59.241243056952925, 57.052121294690814, 56.64272339185406, 56.60423422633032, 55.69596270093325, 114.87756366170977, 91.46228350066136, 124.92277375030031, 99.75134754810583, 189.4076342582307, 95.95697157041303, 139.65244363383337, 100.15794144356911, 95.90064877572159, 168.18275270574193, 166.57243813394462, 140.9433668460351, 130.76429268288834, 121.81713032109097, 114.94609837711116, 92.47949115549712, 86.81940519359158, 83.29807603341824, 83.28753679541938, 83.10307005839019, 82.30362624878077, 77.12703781144437, 77.05111600538372, 75.03615221800189, 74.18406696920628, 73.09472409202469, 73.09370212834475, 72.45438009494903, 77.72882065334426, 71.94220052751737, 71.68590653341698, 70.60436875453618, 70.51760398114685, 69.60927120989913, 64.552678417149, 64.01277106408742, 63.95319641994892, 85.87915596226046, 63.72909793623322, 124.8207126145909, 161.58240663415492, 175.84207800454104, 113.54399112220788, 253.55721801605043, 237.4789775997803, 111.81151051309712, 111.35884669241537, 85.70963288847757, 84.68988490708013, 90.38567649371427, 82.37247255339373, 79.1519500593194, 78.77028425234874, 76.74715586558365, 74.87541988828434, 74.86035395990832, 74.51104725208674, 74.44859502472148, 73.28222656241665, 70.95220041065775, 70.692418841443, 70.44328140782572, 65.76527831675126, 64.99514028900931, 64.17543739620724, 77.93899933044601, 63.00973543585103, 62.60270667494138, 62.196622954108136, 61.22287355495616, 60.807816927292166, 60.22716938266064, 58.91513542731511, 58.82980328231045, 56.60271686434826, 88.19884362209645, 83.02194558086875, 82.8418363570739, 173.95073354941727, 105.83873624596794, 197.7122739361568, 119.64716731401428, 137.86203353294243, 133.01762339231632, 118.19567968394382, 116.13523286044148, 111.25222766857948, 106.42782740745724, 95.19374421740791, 94.41464802181416, 94.07380704985768, 84.99108092230739, 90.06313461619264, 82.92707280438962, 81.27848790159814, 77.10289422394654, 76.56981283051294, 76.20602378696042, 74.14598277365235, 70.99429254211262, 69.62521266923308, 71.12054902227723, 69.18827386370923, 65.65749257494974, 64.44751009384707, 63.94123218305426, 63.56860934441893, 62.39602078804771, 62.33359035389114, 62.29102977253985, 61.68645176554001, 61.173680891638746, 118.09403665158723, 125.9213779821187, 91.66259501201358, 179.7138327818475, 79.8712991861392, 85.19495579311709, 260.25593317215953, 156.6551479008011, 132.9337539900139, 117.33805445898888, 171.6286385302547, 107.64656025233414, 102.72212211467533, 118.43035547565351, 94.35614439183465, 94.02032688381026, 93.52700435977944, 91.79915173408806, 91.6753643200666, 91.58864618029642, 107.92221206047167, 75.48604913989448, 75.17196906586659, 69.93076861419776, 68.72436290165149, 68.27695739387687, 68.22953310891623, 67.66162372536361, 67.60009827325099, 65.75457702203826, 63.92026216452943, 61.95296639833714, 61.65442373273813, 56.9275867824153, 56.583007715662106, 56.36840741248408, 129.97408097117156, 132.0601477092866, 103.77814131942822, 159.17555201779874, 131.24893718417326, 146.40215885964054, 237.4789775997803, 164.91317476449015, 238.11133047724303, 133.52147256245118, 133.10304694853917, 127.99501888917762, 108.52809715967514, 106.16026494985414, 98.21936735893381, 91.39676671567814, 90.53486368255487, 87.59469420966977, 85.40031161336448, 85.07520575639992, 84.44522596978612, 81.15832411622922, 80.37834353253938, 75.67838893242026, 71.9548801390292, 71.69999161036286, 71.64772676761542, 95.78952714770271, 70.595090197958, 69.32201051978255, 67.71174590621946, 67.60859244077383, 67.59780832639915, 64.6070941130257, 155.2306015027758, 60.77963179180504, 59.537004342240344, 98.66429509749375, 97.53434834094438, 175.16781646629934, 184.486193550112, 144.80969582273408, 87.23790632360009, 139.88772185366474, 144.80885501169587, 183.34529862504857, 142.67666847465182, 114.87625760628056, 109.93989169464815, 98.75917081387983, 84.69722793956765, 83.62464388616426, 109.64959706031621, 82.50729385694424, 79.5143516769468, 77.4113240869, 77.16835904019771, 74.55847595309892, 73.86099785125623, 73.39039457494428, 72.0400374737059, 201.82928592243601, 88.16588679442013, 69.70950215127478, 69.5485188990365, 69.0241579915598, 68.34949388017496, 68.65942461139532, 65.12615288933074, 63.27740319351608, 63.232538295781836, 62.76913239955713, 61.90410644979924, 56.156284129964064, 55.172304371893986, 89.93385562660248, 93.22340678872865, 133.6057157308468, 105.1250441284601, 182.56070136044718, 75.66324485579129, 113.65314178436267, 196.88118859194114, 130.9143848557736, 129.73562160731106, 121.54451545186703, 125.5252702399403, 110.54793418557011, 116.16535511029788, 102.27210955516037, 100.5518794961397, 97.98803961574428, 90.82077849567095, 89.70138488766123, 88.74317188398246, 87.19319729101767, 92.72959792538545, 81.8177983633058, 81.59824465235475, 79.57363395832331, 78.88678722173528, 78.88483499047145, 78.02624108916748, 76.85410458422764, 75.71950820250767, 121.49991167095872, 73.08489561086905, 69.41049788573217, 68.54414390694026, 68.22160983051877, 132.4572632503582, 63.7424656506495, 146.54157951354625, 228.68806551281034, 139.97362968150065, 101.95255882860117, 148.70613531225393, 124.19154911476886, 137.55378364752403, 101.3979490438092, 97.444029063427, 95.82450812132102, 90.77619185144235, 89.13815826766151, 84.77875590590416, 84.72293178084078, 82.1105214266161, 80.77631197849192, 80.63346559081518, 151.0064451591391, 76.55725705241294, 76.13245312938481, 75.87800317544416, 75.74818188970806, 71.7654711772533, 71.15640892023129, 80.39413275717153, 68.78442529551053, 68.26637549739154, 67.63463558149192, 66.40112018317075, 164.65331946590845, 64.43859902625992, 64.4245798115234, 63.64003561221863, 63.276220488859614, 106.0057886945965, 138.73025697273496, 199.83490940305472, 142.94678246800032, 124.4464809158581, 109.18551274438263, 108.44940621880866, 97.91340737344215, 98.87194583355803, 82.63674416236013, 82.54354861235207, 80.59624543161954, 80.00305534734446, 78.85259817374481, 78.3747295052761, 77.85668476528222, 76.80543224406772, 76.11630983581676, 76.041481987712, 74.75577462465874, 74.5246584913306, 72.54658078345501, 70.52445883181166, 66.24493406203918, 65.18561686147956, 63.800767978943064, 93.45749665682797, 61.39255666097622, 59.090984217217496, 96.22371213390478, 57.993633166664715, 55.004277200758686, 54.99155097487856, 153.45829907412602, 139.89318708278094, 172.39345029385706, 110.15041114144702, 111.8495643002828, 107.58716848607807, 104.97795267850324, 125.43530083927195, 115.18971314984626, 110.50119226530579, 108.29274497145302, 91.83313284884107, 91.36600067002522, 91.01915766509158, 87.63433478786516, 82.63762572259857, 80.83624195745232, 81.96771712071542, 79.37130882605702, 78.56190913512313, 74.03851526594686, 73.36726462221593, 72.69115734490104, 72.63044703039678, 72.60711609824976, 71.63310551644962, 71.38134656109474, 70.5524069310702, 69.53231690594484, 65.73762808483436, 65.39026700934468, 64.03412086768836, 62.92684253694769, 62.449608206513254, 125.52773662524056, 60.78828712382088, 91.15670332413308, 167.4893898704255, 108.87699277364679, 92.85231758968975, 158.57971086602527, 217.64376345802228, 92.06552631977337, 150.31774649360392, 141.46099174971914, 119.78068722289534, 117.15780357044282, 125.3617276115901, 109.75842124712348, 90.32484379627977, 86.89911763225119, 83.0462984506892, 78.15048247619237, 90.7858245615483, 77.57073287575747, 76.92497846301985, 75.86135641183381, 74.11504745907449, 81.16697725496545, 73.46981995397032, 70.09226007023646, 67.07044622300927, 66.64260986557838, 65.40184375866745, 65.1307538562028, 64.50123788051165, 64.23082138234277, 62.74160190530435, 61.444677317718785, 59.004066777487814, 58.927670904451205, 58.550828548916925, 57.8892501477444, 57.31389326091611, 108.5950523066045, 115.05983112598743, 170.1870912312064, 124.04525692347258, 184.8213808603356, 145.58678822798518, 161.4056121973678, 79.77915284792104, 139.20278557488987, 130.05519275713073, 115.45339712642402, 109.8233711163612, 108.56196295482636, 104.9822536974037, 157.81891583786614, 94.73899291800825, 93.63134039172306, 93.07451578782307, 92.70150986148079, 80.98984075708955, 78.15081419236932, 75.15409097093148, 71.57887579599974, 70.33081424457139, 87.16825086858044, 68.78603646993878, 66.95398384519682, 64.2504933377831, 63.46127062753931, 63.32602735564826, 59.76887364680485, 59.71251770481419, 143.98136685531435, 56.62445668594298, 55.99668019544782, 56.55126009479427, 52.93724510746563, 52.03454535548862, 132.83338096459823, 125.83241761495518, 104.84705049852876, 93.26288030233013, 104.28773181938678, 107.22161387102659, 84.28757140095571, 127.67403596518696, 115.30893324175902, 104.02585961108882, 103.33735541124845, 101.44012098617195, 94.05792207161468, 87.68829050797949, 93.35817521160085, 78.80988032552636, 77.50015548994527, 77.22355493064525, 76.54763591790059, 76.34534159743069, 76.2109921031772, 74.25108543762488, 73.15023837860164, 72.82264413916855, 69.11521612630787, 68.37212590956395, 68.27107259399435, 67.63723695756046, 67.12327364905764, 66.10976335168317, 65.01643088778893, 64.28712679280262, 63.39907802656865, 62.42456176589327, 57.72055622059122, 54.413173471659164, 53.171101271033656, 104.72958646262325, 71.68120892966093, 93.00024597339376, 146.96611789263073, 107.9576547647974, 105.94550788109824, 87.83536827371285, 108.63203912753136, 106.07628081437137, 101.84183634026644, 98.60817407427855, 83.52509722486384, 80.9946350191493, 79.44625680037917, 77.97833274690659, 73.32015794715896, 71.74763063162136, 71.74464806941998, 68.47974910348148, 67.68538854138792, 65.81009302222937, 65.24744143518215, 64.65863712560962, 63.02930382359212, 59.742928377622455, 58.97533815276659, 58.916857812314355, 58.11475072310757, 81.05684267771223, 55.70755985934665, 52.351969538850305, 52.10368647162087, 51.63080924403135, 50.975282500762106, 50.8676585363141, 50.18109712727431, 49.03586174625249, 89.21840421897639, 79.89501739251227, 83.15476469685716, 66.19658385479643, 55.12503911607075, 104.99521697172904, 104.39380396272327, 98.18730440788963, 128.0301864995095, 92.90735256833028, 68.13587569584215, 67.31441436060125, 64.69404705065588, 62.338736639227996, 60.29292808877473, 58.51040561325826, 57.7237487754577, 54.40171594397834, 53.55615611772122, 53.083288068394836, 50.05505995040331, 49.31287943242553, 48.96255590135872, 47.75469170882333, 47.288784133500634, 47.13682166155747, 46.86786508578205, 46.12709678102487, 49.52829060983835, 43.5592350285678, 43.440654551171384, 43.397053887771094, 43.393767557810044, 43.1463765758804, 43.133583362817745, 134.36260973827905, 94.435841944991, 98.88056429415369, 73.48791317655645, 129.69044036027992, 93.19902622183132, 161.81113937158844, 68.42841926422456, 66.89504813072796, 123.12312838493484, 106.24517347077874, 111.07402157097127, 112.12238128499159, 72.78745519152078, 71.69606917942545, 70.30788572794863, 68.32868635446818, 67.33148474286163, 66.70969376999385, 66.67371207532331, 66.24598010163182, 63.35830197633818, 62.2522256567719, 61.32123726056906, 58.92210275941385, 57.87673313275196, 56.86774628851241, 56.78180855207981, 55.78237284421077, 53.466548413749614, 52.33569459586977, 51.713273877746786, 51.43612598972093, 51.38323863373525, 51.0004306309308, 50.89513358218529, 50.47100764977654, 49.63649685751168, 49.45896204286888, 63.605298894969245, 140.25992587402789, 64.23703698814529, 71.24419713291708, 89.87098480524783, 70.58560392859859, 62.53015709312367, 93.70141036805676, 88.0054355539583, 81.54654581164223, 81.17899214911448, 80.90270656161914, 78.99034202546514, 70.96333459451193, 60.836396889485044, 60.43642950197833, 59.45878135516186, 58.87278858588683, 57.193281418415154, 56.985251869939766, 56.75409884702089, 54.620962972876114, 52.17797625580282, 51.55522487154931, 49.51693053145938, 81.60902477783716, 47.02628902665345, 46.48223546240958, 44.00660099965212, 42.7728549856212, 42.67610042516662, 41.28457988045085, 40.54609225632006, 40.441737594867654, 39.987748570600814, 39.43301920466206, 60.149210090754536, 86.0466858806523, 222.75027390735804, 94.67113994397266, 139.5356486935242, 83.44460145923746, 84.73935075366713, 151.93262167809922, 180.65185308343462, 57.07663314751796, 91.30606766212703, 123.54098297455347, 112.6230026092564, 112.51536733427018, 99.13788973419999, 85.85301313278762, 79.26403067678065, 78.92119763486573, 75.14226247192576, 81.24149550598986, 145.38885718229645, 67.69368899987306, 65.89125179161702, 66.6300059853822, 65.96400650093922, 67.54767763391067, 61.79402921519379, 59.82551123454544, 59.50310148483842, 57.6029896704639, 57.510585863893716, 57.25348507379097, 54.935478814734545, 54.15082472841405, 53.004110995855996, 52.381376636097244, 51.19422286786698, 50.689358598811744, 49.214768386112546, 49.20558446665193, 49.034037075533064, 62.98185245072566, 109.16077926548283, 112.49802391096782, 111.44021621007535, 86.69782540243557, 94.73660491880257, 84.96926419280497, 84.72331738851312, 71.24952648630605, 69.58679944659613, 66.94442325321978, 66.58245909001535, 64.86660831098081, 63.69791796756531, 63.001832206558916, 62.13560601618812, 56.43504696397211, 56.054478275795155, 55.87115174376662, 55.72293305941508, 55.37229950606487, 55.30087125997477, 50.570139537719214, 49.01187194551093, 48.84752991550145, 47.082967240033234, 86.27842863454988, 45.41805337507936, 45.026998009596646, 42.7003671938165, 42.46074693458128, 41.434105681608195, 39.793070721377276, 36.970225941796045, 36.79704668160693, 72.83836689224252, 84.20657659449077, 104.22032487558502, 91.28219316897116], \"Category\": [\"Default\", \"Default\", \"Default\", \"Default\", \"Default\", \"Default\", \"Default\", \"Default\", \"Default\", \"Default\", \"Default\", \"Default\", \"Default\", \"Default\", \"Default\", \"Default\", \"Default\", \"Default\", \"Default\", \"Default\", \"Default\", \"Default\", \"Default\", \"Default\", \"Default\", \"Default\", \"Default\", \"Default\", \"Default\", \"Default\", \"Topic1\", \"Topic1\", \"Topic1\", \"Topic1\", \"Topic1\", \"Topic1\", \"Topic1\", \"Topic1\", \"Topic1\", \"Topic1\", \"Topic1\", \"Topic1\", \"Topic1\", \"Topic1\", \"Topic1\", \"Topic1\", \"Topic1\", \"Topic1\", \"Topic1\", \"Topic1\", \"Topic1\", \"Topic1\", \"Topic1\", \"Topic1\", \"Topic1\", \"Topic1\", \"Topic1\", \"Topic1\", \"Topic1\", \"Topic1\", \"Topic1\", \"Topic1\", \"Topic1\", \"Topic1\", \"Topic1\", \"Topic1\", \"Topic1\", \"Topic1\", \"Topic1\", \"Topic1\", \"Topic1\", \"Topic1\", \"Topic1\", \"Topic1\", \"Topic1\", \"Topic1\", \"Topic1\", \"Topic1\", \"Topic1\", \"Topic1\", \"Topic1\", \"Topic1\", \"Topic1\", \"Topic1\", \"Topic1\", \"Topic1\", \"Topic1\", \"Topic1\", \"Topic1\", \"Topic1\", \"Topic1\", \"Topic1\", \"Topic1\", \"Topic1\", \"Topic2\", \"Topic2\", \"Topic2\", \"Topic2\", \"Topic2\", \"Topic2\", \"Topic2\", \"Topic2\", \"Topic2\", \"Topic2\", \"Topic2\", \"Topic2\", \"Topic2\", \"Topic2\", \"Topic2\", \"Topic2\", \"Topic2\", \"Topic2\", \"Topic2\", \"Topic2\", \"Topic2\", \"Topic2\", \"Topic2\", \"Topic2\", \"Topic2\", \"Topic2\", \"Topic2\", \"Topic2\", \"Topic2\", \"Topic2\", \"Topic2\", \"Topic2\", \"Topic2\", \"Topic2\", \"Topic2\", \"Topic2\", \"Topic2\", \"Topic2\", \"Topic2\", \"Topic2\", \"Topic2\", \"Topic2\", \"Topic2\", \"Topic2\", \"Topic2\", \"Topic2\", \"Topic2\", \"Topic2\", \"Topic2\", \"Topic2\", \"Topic2\", \"Topic2\", \"Topic2\", \"Topic2\", \"Topic2\", \"Topic2\", \"Topic3\", \"Topic3\", \"Topic3\", \"Topic3\", \"Topic3\", \"Topic3\", \"Topic3\", \"Topic3\", \"Topic3\", \"Topic3\", \"Topic3\", \"Topic3\", \"Topic3\", \"Topic3\", \"Topic3\", \"Topic3\", \"Topic3\", \"Topic3\", \"Topic3\", \"Topic3\", \"Topic3\", \"Topic3\", \"Topic3\", \"Topic3\", \"Topic3\", \"Topic3\", \"Topic3\", \"Topic3\", \"Topic3\", \"Topic3\", \"Topic3\", \"Topic3\", \"Topic3\", \"Topic3\", \"Topic3\", \"Topic3\", \"Topic3\", \"Topic3\", \"Topic3\", \"Topic3\", \"Topic3\", \"Topic3\", \"Topic3\", \"Topic3\", \"Topic3\", \"Topic3\", \"Topic3\", \"Topic3\", \"Topic3\", \"Topic3\", \"Topic3\", \"Topic3\", \"Topic3\", \"Topic3\", \"Topic4\", \"Topic4\", \"Topic4\", \"Topic4\", \"Topic4\", \"Topic4\", \"Topic4\", \"Topic4\", \"Topic4\", \"Topic4\", \"Topic4\", \"Topic4\", \"Topic4\", \"Topic4\", \"Topic4\", \"Topic4\", \"Topic4\", \"Topic4\", \"Topic4\", \"Topic4\", \"Topic4\", \"Topic4\", \"Topic4\", \"Topic4\", \"Topic4\", \"Topic4\", \"Topic4\", \"Topic4\", \"Topic4\", \"Topic4\", \"Topic4\", \"Topic4\", \"Topic4\", \"Topic4\", \"Topic4\", \"Topic4\", \"Topic4\", \"Topic4\", \"Topic4\", \"Topic4\", \"Topic4\", \"Topic4\", \"Topic4\", \"Topic4\", \"Topic4\", \"Topic4\", \"Topic4\", \"Topic4\", \"Topic4\", \"Topic4\", \"Topic4\", \"Topic4\", \"Topic4\", \"Topic5\", \"Topic5\", \"Topic5\", \"Topic5\", \"Topic5\", \"Topic5\", \"Topic5\", \"Topic5\", \"Topic5\", \"Topic5\", \"Topic5\", \"Topic5\", \"Topic5\", \"Topic5\", \"Topic5\", \"Topic5\", \"Topic5\", \"Topic5\", \"Topic5\", \"Topic5\", \"Topic5\", \"Topic5\", \"Topic5\", \"Topic5\", \"Topic5\", \"Topic5\", \"Topic5\", \"Topic5\", \"Topic5\", \"Topic5\", \"Topic5\", \"Topic5\", \"Topic5\", \"Topic5\", \"Topic5\", \"Topic5\", \"Topic5\", \"Topic5\", \"Topic5\", \"Topic5\", \"Topic5\", \"Topic5\", \"Topic5\", \"Topic6\", \"Topic6\", \"Topic6\", \"Topic6\", \"Topic6\", \"Topic6\", \"Topic6\", \"Topic6\", \"Topic6\", \"Topic6\", \"Topic6\", \"Topic6\", \"Topic6\", \"Topic6\", \"Topic6\", \"Topic6\", \"Topic6\", \"Topic6\", \"Topic6\", \"Topic6\", \"Topic6\", \"Topic6\", \"Topic6\", \"Topic6\", \"Topic6\", \"Topic6\", \"Topic6\", \"Topic6\", \"Topic6\", \"Topic6\", \"Topic6\", \"Topic6\", \"Topic6\", \"Topic6\", \"Topic6\", \"Topic6\", \"Topic6\", \"Topic6\", \"Topic6\", \"Topic6\", \"Topic6\", \"Topic6\", \"Topic6\", \"Topic6\", \"Topic7\", \"Topic7\", \"Topic7\", \"Topic7\", \"Topic7\", \"Topic7\", \"Topic7\", \"Topic7\", \"Topic7\", \"Topic7\", \"Topic7\", \"Topic7\", \"Topic7\", \"Topic7\", \"Topic7\", \"Topic7\", \"Topic7\", \"Topic7\", \"Topic7\", \"Topic7\", \"Topic7\", \"Topic7\", \"Topic7\", \"Topic7\", \"Topic7\", \"Topic7\", \"Topic7\", \"Topic7\", \"Topic7\", \"Topic7\", \"Topic7\", \"Topic7\", \"Topic7\", \"Topic7\", \"Topic7\", \"Topic7\", \"Topic7\", \"Topic7\", \"Topic7\", \"Topic7\", \"Topic7\", \"Topic8\", \"Topic8\", \"Topic8\", \"Topic8\", \"Topic8\", \"Topic8\", \"Topic8\", \"Topic8\", \"Topic8\", \"Topic8\", \"Topic8\", \"Topic8\", \"Topic8\", \"Topic8\", \"Topic8\", \"Topic8\", \"Topic8\", \"Topic8\", \"Topic8\", \"Topic8\", \"Topic8\", \"Topic8\", \"Topic8\", \"Topic8\", \"Topic8\", \"Topic8\", \"Topic8\", \"Topic8\", \"Topic8\", \"Topic8\", \"Topic8\", \"Topic8\", \"Topic8\", \"Topic8\", \"Topic8\", \"Topic8\", \"Topic8\", \"Topic8\", \"Topic8\", \"Topic8\", \"Topic9\", \"Topic9\", \"Topic9\", \"Topic9\", \"Topic9\", \"Topic9\", \"Topic9\", \"Topic9\", \"Topic9\", \"Topic9\", \"Topic9\", \"Topic9\", \"Topic9\", \"Topic9\", \"Topic9\", \"Topic9\", \"Topic9\", \"Topic9\", \"Topic9\", \"Topic9\", \"Topic9\", \"Topic9\", \"Topic9\", \"Topic9\", \"Topic9\", \"Topic9\", \"Topic9\", \"Topic9\", \"Topic9\", \"Topic9\", \"Topic9\", \"Topic9\", \"Topic9\", \"Topic9\", \"Topic9\", \"Topic9\", \"Topic10\", \"Topic10\", \"Topic10\", \"Topic10\", \"Topic10\", \"Topic10\", \"Topic10\", \"Topic10\", \"Topic10\", \"Topic10\", \"Topic10\", \"Topic10\", \"Topic10\", \"Topic10\", \"Topic10\", \"Topic10\", \"Topic10\", \"Topic10\", \"Topic10\", \"Topic10\", \"Topic10\", \"Topic10\", \"Topic10\", \"Topic10\", \"Topic10\", \"Topic10\", \"Topic10\", \"Topic10\", \"Topic10\", \"Topic10\", \"Topic10\", \"Topic10\", \"Topic10\", \"Topic11\", \"Topic11\", \"Topic11\", \"Topic11\", \"Topic11\", \"Topic11\", \"Topic11\", \"Topic11\", \"Topic11\", \"Topic11\", \"Topic11\", \"Topic11\", \"Topic11\", \"Topic11\", \"Topic11\", \"Topic11\", \"Topic11\", \"Topic11\", \"Topic11\", \"Topic11\", \"Topic11\", \"Topic11\", \"Topic11\", \"Topic11\", \"Topic11\", \"Topic11\", \"Topic11\", \"Topic11\", \"Topic11\", \"Topic11\", \"Topic11\", \"Topic11\", \"Topic11\", \"Topic11\", \"Topic11\", \"Topic11\", \"Topic11\", \"Topic12\", \"Topic12\", \"Topic12\", \"Topic12\", \"Topic12\", \"Topic12\", \"Topic12\", \"Topic12\", \"Topic12\", \"Topic12\", \"Topic12\", \"Topic12\", \"Topic12\", \"Topic12\", \"Topic12\", \"Topic12\", \"Topic12\", \"Topic12\", \"Topic12\", \"Topic12\", \"Topic12\", \"Topic12\", \"Topic12\", \"Topic12\", \"Topic12\", \"Topic12\", \"Topic12\", \"Topic12\", \"Topic12\", \"Topic12\", \"Topic12\", \"Topic12\", \"Topic12\", \"Topic12\", \"Topic12\", \"Topic12\", \"Topic12\", \"Topic12\", \"Topic13\", \"Topic13\", \"Topic13\", \"Topic13\", \"Topic13\", \"Topic13\", \"Topic13\", \"Topic13\", \"Topic13\", \"Topic13\", \"Topic13\", \"Topic13\", \"Topic13\", \"Topic13\", \"Topic13\", \"Topic13\", \"Topic13\", \"Topic13\", \"Topic13\", \"Topic13\", \"Topic13\", \"Topic13\", \"Topic13\", \"Topic13\", \"Topic13\", \"Topic13\", \"Topic13\", \"Topic13\", \"Topic13\", \"Topic13\", \"Topic13\", \"Topic13\", \"Topic13\", \"Topic13\", \"Topic13\", \"Topic13\", \"Topic13\", \"Topic13\", \"Topic13\", \"Topic14\", \"Topic14\", \"Topic14\", \"Topic14\", \"Topic14\", \"Topic14\", \"Topic14\", \"Topic14\", \"Topic14\", \"Topic14\", \"Topic14\", \"Topic14\", \"Topic14\", \"Topic14\", \"Topic14\", \"Topic14\", \"Topic14\", \"Topic14\", \"Topic14\", \"Topic14\", \"Topic14\", \"Topic14\", \"Topic14\", \"Topic14\", \"Topic14\", \"Topic14\", \"Topic14\", \"Topic14\", \"Topic14\", \"Topic14\", \"Topic14\", \"Topic14\", \"Topic14\", \"Topic14\", \"Topic14\", \"Topic14\", \"Topic15\", \"Topic15\", \"Topic15\", \"Topic15\", \"Topic15\", \"Topic15\", \"Topic15\", \"Topic15\", \"Topic15\", \"Topic15\", \"Topic15\", \"Topic15\", \"Topic15\", \"Topic15\", \"Topic15\", \"Topic15\", \"Topic15\", \"Topic15\", \"Topic15\", \"Topic15\", \"Topic15\", \"Topic15\", \"Topic15\", \"Topic15\", \"Topic15\", \"Topic15\", \"Topic15\", \"Topic15\", \"Topic15\", \"Topic15\", \"Topic15\", \"Topic15\", \"Topic15\", \"Topic15\", \"Topic15\", \"Topic15\", \"Topic15\", \"Topic16\", \"Topic16\", \"Topic16\", \"Topic16\", \"Topic16\", \"Topic16\", \"Topic16\", \"Topic16\", \"Topic16\", \"Topic16\", \"Topic16\", \"Topic16\", \"Topic16\", \"Topic16\", \"Topic16\", \"Topic16\", \"Topic16\", \"Topic16\", \"Topic16\", \"Topic16\", \"Topic16\", \"Topic16\", \"Topic16\", \"Topic16\", \"Topic16\", \"Topic16\", \"Topic16\", \"Topic16\", \"Topic16\", \"Topic16\", \"Topic16\", \"Topic16\", \"Topic16\", \"Topic16\", \"Topic16\", \"Topic16\", \"Topic17\", \"Topic17\", \"Topic17\", \"Topic17\", \"Topic17\", \"Topic17\", \"Topic17\", \"Topic17\", \"Topic17\", \"Topic17\", \"Topic17\", \"Topic17\", \"Topic17\", \"Topic17\", \"Topic17\", \"Topic17\", \"Topic17\", \"Topic17\", \"Topic17\", \"Topic17\", \"Topic17\", \"Topic17\", \"Topic17\", \"Topic17\", \"Topic17\", \"Topic17\", \"Topic17\", \"Topic17\", \"Topic17\", \"Topic17\", \"Topic17\", \"Topic17\", \"Topic17\", \"Topic17\", \"Topic17\", \"Topic17\", \"Topic17\", \"Topic18\", \"Topic18\", \"Topic18\", \"Topic18\", \"Topic18\", \"Topic18\", \"Topic18\", \"Topic18\", \"Topic18\", \"Topic18\", \"Topic18\", \"Topic18\", \"Topic18\", \"Topic18\", \"Topic18\", \"Topic18\", \"Topic18\", \"Topic18\", \"Topic18\", \"Topic18\", \"Topic18\", \"Topic18\", \"Topic18\", \"Topic18\", \"Topic18\", \"Topic18\", \"Topic18\", \"Topic18\", \"Topic18\", \"Topic18\", \"Topic18\", \"Topic18\", \"Topic18\", \"Topic18\", \"Topic18\", \"Topic18\", \"Topic18\", \"Topic18\", \"Topic19\", \"Topic19\", \"Topic19\", \"Topic19\", \"Topic19\", \"Topic19\", \"Topic19\", \"Topic19\", \"Topic19\", \"Topic19\", \"Topic19\", \"Topic19\", \"Topic19\", \"Topic19\", \"Topic19\", \"Topic19\", \"Topic19\", \"Topic19\", \"Topic19\", \"Topic19\", \"Topic19\", \"Topic19\", \"Topic19\", \"Topic19\", \"Topic19\", \"Topic19\", \"Topic19\", \"Topic19\", \"Topic19\", \"Topic19\", \"Topic19\", \"Topic19\", \"Topic19\", \"Topic19\", \"Topic19\", \"Topic19\", \"Topic19\", \"Topic20\", \"Topic20\", \"Topic20\", \"Topic20\", \"Topic20\", \"Topic20\", \"Topic20\", \"Topic20\", \"Topic20\", \"Topic20\", \"Topic20\", \"Topic20\", \"Topic20\", \"Topic20\", \"Topic20\", \"Topic20\", \"Topic20\", \"Topic20\", \"Topic20\", \"Topic20\", \"Topic20\", \"Topic20\", \"Topic20\", \"Topic20\", \"Topic20\", \"Topic20\", \"Topic20\", \"Topic20\", \"Topic20\", \"Topic20\", \"Topic20\", \"Topic20\", \"Topic20\", \"Topic20\", \"Topic21\", \"Topic21\", \"Topic21\", \"Topic21\", \"Topic21\", \"Topic21\", \"Topic21\", \"Topic21\", \"Topic21\", \"Topic21\", \"Topic21\", \"Topic21\", \"Topic21\", \"Topic21\", \"Topic21\", \"Topic21\", \"Topic21\", \"Topic21\", \"Topic21\", \"Topic21\", \"Topic21\", \"Topic21\", \"Topic21\", \"Topic21\", \"Topic21\", \"Topic21\", \"Topic21\", \"Topic21\", \"Topic21\", \"Topic21\", \"Topic21\", \"Topic21\", \"Topic21\", \"Topic22\", \"Topic22\", \"Topic22\", \"Topic22\", \"Topic22\", \"Topic22\", \"Topic22\", \"Topic22\", \"Topic22\", \"Topic22\", \"Topic22\", \"Topic22\", \"Topic22\", \"Topic22\", \"Topic22\", \"Topic22\", \"Topic22\", \"Topic22\", \"Topic22\", \"Topic22\", \"Topic22\", \"Topic22\", \"Topic22\", \"Topic22\", \"Topic22\", \"Topic22\", \"Topic22\", \"Topic22\", \"Topic22\", \"Topic22\", \"Topic22\", \"Topic22\", \"Topic22\", \"Topic22\", \"Topic22\", \"Topic22\", \"Topic22\", \"Topic23\", \"Topic23\", \"Topic23\", \"Topic23\", \"Topic23\", \"Topic23\", \"Topic23\", \"Topic23\", \"Topic23\", \"Topic23\", \"Topic23\", \"Topic23\", \"Topic23\", \"Topic23\", \"Topic23\", \"Topic23\", \"Topic23\", \"Topic23\", \"Topic23\", \"Topic23\", \"Topic23\", \"Topic23\", \"Topic23\", \"Topic23\", \"Topic23\", \"Topic23\", \"Topic23\", \"Topic23\", \"Topic23\", \"Topic23\", \"Topic23\", \"Topic23\", \"Topic23\", \"Topic23\", \"Topic23\", \"Topic23\", \"Topic23\", \"Topic24\", \"Topic24\", \"Topic24\", \"Topic24\", \"Topic24\", \"Topic24\", \"Topic24\", \"Topic24\", \"Topic24\", \"Topic24\", \"Topic24\", \"Topic24\", \"Topic24\", \"Topic24\", \"Topic24\", \"Topic24\", \"Topic24\", \"Topic24\", \"Topic24\", \"Topic24\", \"Topic24\", \"Topic24\", \"Topic24\", \"Topic24\", \"Topic24\", \"Topic24\", \"Topic24\", \"Topic24\", \"Topic24\", \"Topic24\", \"Topic24\", \"Topic24\", \"Topic24\", \"Topic24\", \"Topic24\", \"Topic24\", \"Topic24\", \"Topic24\", \"Topic25\", \"Topic25\", \"Topic25\", \"Topic25\", \"Topic25\", \"Topic25\", \"Topic25\", \"Topic25\", \"Topic25\", \"Topic25\", \"Topic25\", \"Topic25\", \"Topic25\", \"Topic25\", \"Topic25\", \"Topic25\", \"Topic25\", \"Topic25\", \"Topic25\", \"Topic25\", \"Topic25\", \"Topic25\", \"Topic25\", \"Topic25\", \"Topic25\", \"Topic25\", \"Topic25\", \"Topic25\", \"Topic25\", \"Topic25\", \"Topic25\", \"Topic25\", \"Topic25\", \"Topic25\", \"Topic25\", \"Topic25\", \"Topic25\", \"Topic26\", \"Topic26\", \"Topic26\", \"Topic26\", \"Topic26\", \"Topic26\", \"Topic26\", \"Topic26\", \"Topic26\", \"Topic26\", \"Topic26\", \"Topic26\", \"Topic26\", \"Topic26\", \"Topic26\", \"Topic26\", \"Topic26\", \"Topic26\", \"Topic26\", \"Topic26\", \"Topic26\", \"Topic26\", \"Topic26\", \"Topic26\", \"Topic26\", \"Topic26\", \"Topic26\", \"Topic26\", \"Topic26\", \"Topic26\", \"Topic26\", \"Topic26\", \"Topic26\", \"Topic26\", \"Topic26\", \"Topic26\", \"Topic26\", \"Topic27\", \"Topic27\", \"Topic27\", \"Topic27\", \"Topic27\", \"Topic27\", \"Topic27\", \"Topic27\", \"Topic27\", \"Topic27\", \"Topic27\", \"Topic27\", \"Topic27\", \"Topic27\", \"Topic27\", \"Topic27\", \"Topic27\", \"Topic27\", \"Topic27\", \"Topic27\", \"Topic27\", \"Topic27\", \"Topic27\", \"Topic27\", \"Topic27\", \"Topic27\", \"Topic27\", \"Topic27\", \"Topic27\", \"Topic27\", \"Topic27\", \"Topic27\", \"Topic27\", \"Topic27\", \"Topic27\", \"Topic28\", \"Topic28\", \"Topic28\", \"Topic28\", \"Topic28\", \"Topic28\", \"Topic28\", \"Topic28\", \"Topic28\", \"Topic28\", \"Topic28\", \"Topic28\", \"Topic28\", \"Topic28\", \"Topic28\", \"Topic28\", \"Topic28\", \"Topic28\", \"Topic28\", \"Topic28\", \"Topic28\", \"Topic28\", \"Topic28\", \"Topic28\", \"Topic28\", \"Topic28\", \"Topic28\", \"Topic28\", \"Topic28\", \"Topic28\", \"Topic28\", \"Topic28\", \"Topic28\", \"Topic28\", \"Topic28\", \"Topic28\", \"Topic28\", \"Topic28\", \"Topic28\", \"Topic29\", \"Topic29\", \"Topic29\", \"Topic29\", \"Topic29\", \"Topic29\", \"Topic29\", \"Topic29\", \"Topic29\", \"Topic29\", \"Topic29\", \"Topic29\", \"Topic29\", \"Topic29\", \"Topic29\", \"Topic29\", \"Topic29\", \"Topic29\", \"Topic29\", \"Topic29\", \"Topic29\", \"Topic29\", \"Topic29\", \"Topic29\", \"Topic29\", \"Topic29\", \"Topic29\", \"Topic29\", \"Topic29\", \"Topic29\", \"Topic29\", \"Topic29\", \"Topic29\", \"Topic29\", \"Topic29\", \"Topic29\", \"Topic29\", \"Topic30\", \"Topic30\", \"Topic30\", \"Topic30\", \"Topic30\", \"Topic30\", \"Topic30\", \"Topic30\", \"Topic30\", \"Topic30\", \"Topic30\", \"Topic30\", \"Topic30\", \"Topic30\", \"Topic30\", \"Topic30\", \"Topic30\", \"Topic30\", \"Topic30\", \"Topic30\", \"Topic30\", \"Topic30\", \"Topic30\", \"Topic30\", \"Topic30\", \"Topic30\", \"Topic30\", \"Topic30\", \"Topic30\", \"Topic30\", \"Topic30\", \"Topic30\", \"Topic30\", \"Topic30\", \"Topic30\", \"Topic30\", \"Topic30\", \"Topic30\", \"Topic30\", \"Topic30\", \"Topic31\", \"Topic31\", \"Topic31\", \"Topic31\", \"Topic31\", \"Topic31\", \"Topic31\", \"Topic31\", \"Topic31\", \"Topic31\", \"Topic31\", \"Topic31\", \"Topic31\", \"Topic31\", \"Topic31\", \"Topic31\", \"Topic31\", \"Topic31\", \"Topic31\", \"Topic31\", \"Topic31\", \"Topic31\", \"Topic31\", \"Topic31\", \"Topic31\", \"Topic31\", \"Topic31\", \"Topic31\", \"Topic31\", \"Topic31\", \"Topic31\", \"Topic31\", \"Topic31\", \"Topic31\", \"Topic31\", \"Topic32\", \"Topic32\", \"Topic32\", \"Topic32\", \"Topic32\", \"Topic32\", \"Topic32\", \"Topic32\", \"Topic32\", \"Topic32\", \"Topic32\", \"Topic32\", \"Topic32\", \"Topic32\", \"Topic32\", \"Topic32\", \"Topic32\", \"Topic32\", \"Topic32\", \"Topic32\", \"Topic32\", \"Topic32\", \"Topic32\", \"Topic32\", \"Topic32\", \"Topic32\", \"Topic32\", \"Topic32\", \"Topic32\", \"Topic32\", \"Topic32\", \"Topic32\", \"Topic32\", \"Topic32\"], \"logprob\": [30.0, 29.0, 28.0, 27.0, 26.0, 25.0, 24.0, 23.0, 22.0, 21.0, 20.0, 19.0, 18.0, 17.0, 16.0, 15.0, 14.0, 13.0, 12.0, 11.0, 10.0, 9.0, 8.0, 7.0, 6.0, 5.0, 4.0, 3.0, 2.0, 1.0, -5.1223, -5.2101, -5.2837, -5.2497, -5.4041, -5.3865, -5.2661, -5.4739, -5.5548, -5.4522, -5.588, -5.6084, -5.6209, -5.5491, -5.5275, -5.6306, -5.2517, -5.7, -5.718, -5.6306, -5.7461, -5.7821, -5.6877, -5.8237, -5.8408, -5.6745, -5.8805, -5.779, -5.7711, -5.8864, -5.1593, -4.943, -4.7051, -5.2466, -5.5291, -5.1256, -5.4099, -4.586, -5.0214, -4.9611, -4.7574, -4.2592, -5.283, -4.8877, -5.4057, -4.8316, -5.1423, -5.0524, -4.7536, -4.2581, -5.3823, -5.2369, -4.6049, -5.0938, -5.2398, -5.1944, -4.8663, -4.9148, -4.7289, -5.0963, -5.0611, -5.2062, -5.217, -5.2261, -4.6869, -5.041, -4.9979, -5.2044, -5.2212, -5.2196, -5.2844, -5.285, -5.3503, -5.2904, -5.09, -5.311, -5.3721, -5.428, -5.2823, -5.397, -5.3227, -5.4914, -5.4187, -5.5618, -5.3034, -5.6025, -5.5641, -5.2525, -5.6333, -4.7599, -5.6682, -5.6957, -5.6996, -5.2467, -5.0048, -5.587, -5.3655, -5.3506, -4.5906, -4.7247, -4.9186, -5.3859, -5.0507, -4.591, -5.1039, -4.7617, -4.9626, -5.1299, -4.8585, -4.805, -5.0262, -5.0595, -4.8624, -4.8866, -4.5899, -5.1388, -5.2049, -5.1896, -5.1212, -5.2189, -4.8577, -4.9343, -4.9099, -5.0112, -5.0237, -4.7497, -4.8122, -5.0299, -5.0954, -5.2024, -5.3312, -5.3249, -5.343, -5.3765, -5.0644, -5.329, -5.0358, -5.3676, -5.3837, -5.384, -5.3913, -5.357, -5.4779, -5.4447, -5.5287, -5.5266, -5.4188, -5.5435, -5.3373, -5.5581, -5.0582, -5.1927, -4.8753, -5.4099, -5.2632, -5.1416, -4.8412, -5.239, -5.1798, -4.8586, -4.3571, -5.0182, -4.7649, -5.2056, -4.8559, -5.098, -4.7623, -5.1137, -4.7531, -4.9369, -4.8176, -4.8679, -5.0719, -5.1796, -4.2001, -4.3854, -4.7325, -4.8077, -4.7977, -4.9019, -4.9184, -4.9913, -4.9469, -5.0254, -5.0133, -4.952, -5.1113, -5.2365, -5.2341, -5.2987, -5.0508, -5.3149, -5.3169, -5.3491, -5.3659, -5.3689, -5.382, -5.2073, -5.3448, -5.287, -5.39, -5.4244, -5.48, -5.5192, -4.5088, -4.7685, -4.5065, -4.6925, -5.0064, -5.2276, -4.4123, -5.0978, -5.2103, -4.9969, -4.6388, -5.1902, -4.8891, -4.8295, -4.7814, -5.0605, -5.1714, -4.6147, -5.1699, -4.8282, -4.7931, -4.972, -5.0406, -4.2815, -4.1791, -4.6398, -4.656, -4.7761, -4.0922, -4.2956, -4.6441, -4.9446, -4.7522, -4.9823, -4.9309, -4.9892, -4.4186, -4.711, -5.0384, -5.0626, -5.0714, -4.1923, -4.9876, -4.816, -5.1326, -5.0996, -4.8743, -5.1466, -5.2574, -5.0941, -5.2712, -5.2813, -4.7043, -4.4673, -4.0633, -4.7245, -4.6307, -4.8049, -5.0137, -4.5171, -4.7793, -4.7883, -4.8701, -4.7789, -4.7764, -4.9457, -4.6447, -4.6219, -4.5495, -4.8655, -4.9067, -4.773, -4.9249, -4.9407, -5.1061, -5.1039, -5.1223, -5.1333, -5.1746, -5.1607, -4.5577, -5.2613, -5.2621, -5.2251, -5.2874, -5.2974, -5.1139, -4.8961, -5.3673, -5.3683, -5.3962, -4.5791, -5.4073, -5.353, -4.2919, -5.4656, -4.2024, -4.4298, -4.4675, -5.207, -5.0873, -4.2436, -3.6701, -4.7574, -4.8264, -4.7993, -5.1463, -5.0954, -4.9706, -4.8441, -4.2257, -4.3452, -4.3673, -4.4419, -4.5623, -4.6632, -4.2399, -4.7058, -4.5818, -4.8111, -4.9123, -4.9398, -4.9595, -4.9689, -5.0023, -5.0203, -5.0264, -5.0432, -5.0894, -5.0384, -5.1005, -4.0906, -5.1205, -5.1421, -5.1477, -5.1682, -5.1809, -5.2061, -5.223, -5.0081, -5.0806, -5.1758, -4.4693, -4.8874, -4.7339, -4.9097, -4.7825, -4.8286, -4.91, -4.6204, -4.9759, -4.2408, -4.3282, -4.349, -4.6326, -4.6391, -4.7438, -4.7553, -4.7562, -4.5505, -4.7828, -4.8023, -4.8767, -4.883, -4.9038, -4.9067, -4.9312, -4.9324, -4.9371, -4.9308, -4.9478, -4.984, -4.8752, -5.0113, -4.8451, -5.0919, -5.1298, -5.1627, -5.1753, -5.1928, -5.215, -3.9087, -4.3236, -3.9054, -3.8908, -4.5179, -4.7556, -3.9422, -4.5708, -4.7307, -4.602, -4.5178, -4.456, -4.601, -4.6255, -4.7045, -4.8677, -4.8871, -4.295, -4.9014, -4.9336, -4.9384, -4.9603, -4.9779, -5.0175, -5.0286, -5.0197, -5.0798, -5.0808, -5.0872, -4.7516, -5.1149, -5.1679, -5.1876, -5.2242, -5.2282, -5.2285, -5.2462, -5.2784, -5.2864, -5.2875, -4.3943, -4.641, -4.6158, -4.3538, -4.7319, -4.8927, -4.4796, -4.5149, -4.7229, -4.6762, -4.7653, -4.6435, -4.8939, -4.911, -4.9291, -4.9325, -4.9957, -5.0015, -5.012, -5.0178, -5.0194, -5.0549, -5.0609, -5.1149, -5.1279, -5.1322, -5.1378, -4.8963, -5.2061, -5.2342, -5.2485, -5.2578, -5.2584, -5.2618, -5.2745, -5.3007, -4.5856, -4.9814, -5.0672, -3.3794, -4.0546, -4.164, -4.2243, -4.3739, -4.5254, -4.5551, -4.6447, -4.6654, -4.6657, -4.5527, -4.8107, -4.8222, -4.8924, -4.9406, -4.9449, -4.9543, -4.9632, -4.7308, -5.0327, -5.0469, -5.115, -5.1594, -5.1866, -5.2398, -5.3119, -5.3669, -5.4019, -5.4116, -5.4141, -4.5214, -4.6201, -4.5486, -4.9653, -5.0859, -5.1656, -4.8793, -4.314, -4.51, -4.6138, -4.6954, -4.7047, -4.7059, -4.7467, -4.7503, -4.8275, -4.9542, -4.9767, -4.9924, -5.0057, -5.0159, -5.0373, -5.0439, -5.0779, -5.0951, -5.1007, -5.1021, -5.1241, -5.2117, -5.2221, -5.2265, -5.2324, -5.2462, -5.273, -5.276, -5.3, -5.3051, -4.7248, -4.8076, -5.0481, -4.8822, -4.5171, -5.0833, -5.2095, -5.0763, -4.3919, -4.4309, -4.4481, -4.5333, -4.532, -4.5546, -4.5997, -4.6322, -4.6936, -4.7769, -4.7862, -4.7983, -4.8056, -4.834, -4.8172, -4.8641, -4.8703, -4.8887, -4.9779, -5.047, -5.0586, -5.0702, -5.1412, -4.074, -5.2333, -5.2707, -5.3113, -5.3191, -5.3198, -5.3373, -4.6334, -4.8628, -4.6614, -4.9233, -4.5199, -4.9636, -4.7416, -4.9978, -5.0299, -4.1783, -4.1881, -4.3597, -4.4371, -4.5104, -4.5706, -4.7973, -4.8636, -4.9072, -4.9073, -4.9096, -4.9198, -4.9884, -4.9895, -5.0175, -5.0296, -5.0453, -5.0454, -5.0547, -4.9846, -5.0622, -5.066, -5.0821, -5.0835, -5.0972, -5.1777, -5.1867, -5.1877, -4.8931, -5.1915, -4.5639, -4.5196, -4.4773, -4.8761, -4.5422, -4.8577, -4.5979, -4.6021, -4.8757, -4.8883, -4.8238, -4.9176, -4.9596, -4.9647, -4.9923, -5.0184, -5.0186, -5.0236, -5.0245, -5.0412, -5.0755, -5.0794, -5.0832, -5.1564, -5.169, -5.1826, -4.9886, -5.2022, -5.2092, -5.2162, -5.2331, -5.2404, -5.2507, -5.2744, -5.276, -5.3176, -4.8884, -4.9578, -4.9607, -4.2802, -4.8726, -4.7123, -5.0008, -4.376, -4.4131, -4.5352, -4.5534, -4.5981, -4.6442, -4.7606, -4.7692, -4.773, -4.8798, -4.8221, -4.9056, -4.9266, -4.9823, -4.9897, -4.9947, -5.0237, -5.0699, -5.0906, -5.0697, -5.0973, -5.1531, -5.173, -5.1815, -5.1877, -5.2077, -5.2088, -5.2095, -5.22, -5.2289, -4.6078, -4.6724, -4.9253, -4.6456, -5.0909, -5.1579, -3.7304, -4.2426, -4.4081, -4.5373, -4.1578, -4.6268, -4.6756, -4.5372, -4.7645, -4.7681, -4.7742, -4.7932, -4.7946, -4.7956, -4.6343, -4.9993, -5.0037, -5.0804, -5.099, -5.1059, -5.1067, -5.1156, -5.1166, -5.1461, -5.1764, -5.2099, -5.2151, -5.301, -5.3075, -5.3116, -4.5217, -4.5578, -4.7836, -4.5428, -4.7267, -4.8023, -4.6252, -4.1859, -3.8207, -4.4009, -4.4041, -4.4446, -4.6157, -4.6387, -4.7198, -4.7951, -4.805, -4.8397, -4.8664, -4.8704, -4.8782, -4.92, -4.9302, -4.9939, -5.0475, -5.0512, -5.052, -4.7623, -5.0677, -5.0871, -5.1121, -5.1138, -5.1139, -5.1623, -4.2889, -5.2278, -5.25, -4.7529, -4.7767, -4.29, -4.2529, -4.4717, -4.9204, -4.5742, -4.5553, -4.0589, -4.3208, -4.5406, -4.5862, -4.698, -4.8591, -4.8725, -4.6018, -4.8871, -4.9256, -4.954, -4.9573, -4.9937, -5.0037, -5.0105, -5.0302, -4.0016, -4.8301, -5.0652, -5.0676, -5.0757, -5.0861, -5.0821, -5.1377, -5.1685, -5.1693, -5.1772, -5.1921, -5.297, -5.3162, -4.8562, -4.8415, -4.5413, -4.7563, -4.319, -5.0373, -4.8243, -3.9904, -4.4049, -4.4143, -4.4818, -4.451, -4.5803, -4.5321, -4.6612, -4.6789, -4.7063, -4.7854, -4.7984, -4.8097, -4.8282, -4.7684, -4.8952, -4.898, -4.9246, -4.9337, -4.9337, -4.9453, -4.9613, -4.9771, -4.5049, -5.0146, -5.0695, -5.0828, -5.0878, -4.4258, -5.1604, -4.3441, -4.0863, -4.7109, -4.8788, -4.2754, -4.4593, -4.3639, -4.6696, -4.7111, -4.7286, -4.7853, -4.8044, -4.8571, -4.8578, -4.8908, -4.9081, -4.9099, -4.2832, -4.9648, -4.9707, -4.9742, -4.976, -5.0333, -5.0424, -4.9208, -5.0785, -5.0865, -5.0964, -5.1161, -4.2097, -5.1481, -5.1484, -5.1615, -5.1676, -4.6716, -4.4982, -4.5525, -4.2522, -4.3953, -4.5311, -4.5381, -4.6447, -4.6353, -4.8227, -4.8239, -4.8491, -4.8569, -4.8722, -4.8787, -4.8856, -4.9, -4.9095, -4.9106, -4.9286, -4.9319, -4.9605, -4.9905, -5.0572, -5.0745, -5.0974, -4.7181, -5.1387, -5.1798, -4.6932, -5.2, -5.2572, -5.2575, -4.3086, -4.5874, -4.4505, -4.7611, -4.799, -4.9132, -4.9854, -4.3863, -4.4746, -4.5178, -4.5388, -4.711, -4.7163, -4.7203, -4.7601, -4.8219, -4.8451, -4.8322, -4.8644, -4.8752, -4.938, -4.9477, -4.9575, -4.9584, -4.9587, -4.9731, -4.9768, -4.9892, -5.0047, -5.0646, -5.0703, -5.0927, -5.1114, -5.1195, -4.4219, -5.1485, -4.7433, -4.1458, -4.5818, -4.7415, -4.2518, -4.276, -4.9825, -4.9826, -4.2375, -4.4095, -4.4324, -4.3654, -4.5002, -4.7037, -4.7443, -4.7921, -4.8563, -4.7066, -4.8641, -4.8729, -4.8876, -4.9123, -4.8219, -4.9216, -4.9716, -5.0186, -5.0254, -5.0455, -5.0499, -5.0603, -5.0653, -5.0899, -5.1123, -5.1559, -5.1573, -5.1642, -5.1766, -5.1873, -4.5522, -4.5147, -4.2684, -4.5761, -4.3779, -4.5834, -4.5775, -4.998, -4.2536, -4.3238, -4.4472, -4.4991, -4.5111, -4.546, -4.1404, -4.6533, -4.6656, -4.6718, -4.676, -4.818, -4.8557, -4.8971, -4.9488, -4.9675, -4.7531, -4.9912, -5.02, -5.064, -5.0772, -5.0795, -5.1416, -5.1426, -4.2632, -5.1999, -5.2119, -5.2041, -5.2729, -5.2916, -4.3742, -4.4437, -4.6717, -4.7883, -4.8169, -4.9356, -5.0547, -4.3256, -4.4311, -4.5382, -4.5451, -4.5644, -4.6434, -4.717, -4.6581, -4.8294, -4.8471, -4.8509, -4.8602, -4.863, -4.8649, -4.8925, -4.9083, -4.9131, -4.9687, -4.9802, -4.9818, -4.9917, -4.9998, -5.0161, -5.0339, -5.046, -5.0609, -5.0775, -5.1618, -5.2256, -5.2506, -4.6395, -5.0022, -4.8492, -4.5822, -4.7833, -4.8878, -5.0155, -4.3625, -4.3873, -4.4297, -4.4636, -4.6376, -4.67, -4.6904, -4.7101, -4.7753, -4.7984, -4.7984, -4.848, -4.8604, -4.8904, -4.8996, -4.9093, -4.9366, -4.9941, -5.0081, -5.0091, -5.0239, -4.6917, -5.0696, -5.137, -5.1422, -5.1521, -5.166, -5.1684, -5.1832, -5.2084, -4.7919, -4.8685, -4.8691, -5.0501, -5.1503, -4.3907, -4.3967, -4.4607, -4.1963, -4.5185, -4.8461, -4.8591, -4.9015, -4.9413, -4.9771, -5.0094, -5.024, -5.0881, -5.1051, -5.1148, -5.1788, -5.1951, -5.2029, -5.2307, -5.2411, -5.2446, -5.2509, -5.2684, -5.1995, -5.3317, -5.3347, -5.3358, -5.3359, -5.3422, -5.3426, -4.2862, -4.6395, -4.6386, -4.8903, -4.4184, -4.7246, -4.3812, -5.0685, -5.2092, -4.2153, -4.3685, -4.3374, -4.3292, -4.7659, -4.7819, -4.8027, -4.8331, -4.8488, -4.8587, -4.8593, -4.8662, -4.9139, -4.9328, -4.9489, -4.9919, -5.0112, -5.0302, -5.0318, -5.051, -5.097, -5.1202, -5.1333, -5.1391, -5.1402, -5.1485, -5.1506, -5.1598, -5.178, -5.1819, -4.9412, -4.2255, -4.9903, -4.9284, -4.8629, -5.0899, -5.1094, -4.4905, -4.5562, -4.6365, -4.6412, -4.6448, -4.6701, -4.7837, -4.9483, -4.9554, -4.9729, -4.9836, -5.0148, -5.0188, -5.0231, -5.0646, -5.1143, -5.1274, -5.1714, -4.6719, -5.228, -5.2408, -5.3012, -5.3327, -5.3352, -5.3721, -5.3922, -5.3951, -5.4077, -5.4233, -5.002, -4.6799, -3.8717, -4.7047, -4.5178, -4.9071, -4.9203, -4.5751, -4.4949, -5.1944, -5.19, -4.0764, -4.1692, -4.1702, -4.3021, -4.4529, -4.5371, -4.5417, -4.5936, -4.5171, -3.9378, -4.7046, -4.7334, -4.7226, -4.7328, -4.712, -4.8022, -4.837, -4.8428, -4.8778, -4.8795, -4.8844, -4.9291, -4.9448, -4.9679, -4.9808, -5.0058, -5.0166, -5.0488, -5.049, -5.0529, -4.8142, -4.4232, -4.4279, -4.4361, -4.7398, -4.3211, -4.4353, -4.4474, -4.6216, -4.6467, -4.688, -4.6938, -4.7217, -4.7412, -4.7529, -4.7678, -4.8714, -4.8788, -4.8823, -4.8852, -4.892, -4.8934, -4.9906, -5.0249, -5.0285, -5.0689, -4.4644, -5.1085, -5.1181, -5.1768, -5.1831, -5.2103, -5.2554, -5.3381, -5.3435, -4.6617, -4.7228, -4.6225, -4.7522], \"loglift\": [30.0, 29.0, 28.0, 27.0, 26.0, 25.0, 24.0, 23.0, 22.0, 21.0, 20.0, 19.0, 18.0, 17.0, 16.0, 15.0, 14.0, 13.0, 12.0, 11.0, 10.0, 9.0, 8.0, 7.0, 6.0, 5.0, 4.0, 3.0, 2.0, 1.0, 1.5858, 1.5849, 1.5846, 1.5843, 1.5842, 1.5839, 1.5836, 1.5831, 1.583, 1.5828, 1.5827, 1.5826, 1.5825, 1.5824, 1.5821, 1.5821, 1.5821, 1.5818, 1.5817, 1.5816, 1.5815, 1.581, 1.5808, 1.5807, 1.5804, 1.5802, 1.5801, 1.58, 1.5798, 1.5798, 1.5793, 1.5731, 1.5643, 1.5714, 1.5729, 1.5553, 1.567, 1.5287, 1.5487, 1.5396, 1.5197, 1.4802, 1.5533, 1.5174, 1.562, 1.5045, 1.5333, 1.5172, 1.4683, 1.3826, 1.5568, 1.523, 1.3508, 1.4752, 1.5077, 1.4887, 1.3313, 1.2934, 1.1101, 1.3498, 1.256, 1.3746, 1.2322, 1.3263, 1.9577, 1.9569, 1.9561, 1.9554, 1.9548, 1.9548, 1.9546, 1.9546, 1.9544, 1.9544, 1.9542, 1.954, 1.9536, 1.9534, 1.9533, 1.9533, 1.9531, 1.9531, 1.9524, 1.9522, 1.952, 1.9518, 1.9516, 1.9514, 1.9511, 1.9511, 1.951, 1.9507, 1.9507, 1.9507, 1.9499, 1.9504, 1.948, 1.9459, 1.9219, 1.9192, 1.9127, 1.9404, 1.9141, 1.8684, 1.9132, 1.8495, 1.8808, 1.9033, 1.8388, 1.8042, 1.8113, 1.8019, 1.5334, 1.4677, 1.1185, 1.5983, 1.5803, 1.2766, 0.7179, 1.257, 2.2276, 2.227, 2.2268, 2.2264, 2.2261, 2.2256, 2.225, 2.2246, 2.2246, 2.2235, 2.2232, 2.2232, 2.2227, 2.2225, 2.2225, 2.2225, 2.2225, 2.2225, 2.2224, 2.2224, 2.2223, 2.222, 2.2211, 2.221, 2.2206, 2.2206, 2.2206, 2.2204, 2.2201, 2.2199, 2.219, 2.2182, 2.2114, 2.2181, 2.2123, 2.2043, 2.1868, 2.2071, 2.1989, 2.1436, 2.0415, 2.1571, 2.0248, 2.161, 1.99, 2.0532, 1.8052, 2.0164, 1.4908, 1.6324, 1.1401, 0.8405, 1.2824, 1.958, 2.6727, 2.6689, 2.6684, 2.6677, 2.6668, 2.6665, 2.6664, 2.6653, 2.6652, 2.665, 2.6637, 2.6635, 2.6633, 2.6618, 2.6613, 2.6608, 2.6608, 2.6604, 2.6603, 2.6598, 2.6595, 2.6593, 2.659, 2.6587, 2.6586, 2.6582, 2.6581, 2.6577, 2.6572, 2.6554, 2.6524, 2.647, 2.6405, 2.6348, 2.644, 2.6529, 2.5959, 2.6413, 2.6489, 2.6213, 2.5764, 2.6414, 2.5645, 2.5439, 2.5168, 2.5891, 2.6275, 2.2843, 2.622, 2.2533, 2.0958, 2.2985, 1.8269, 3.1136, 3.1109, 3.1091, 3.109, 3.107, 3.107, 3.106, 3.1055, 3.104, 3.1038, 3.1032, 3.1029, 3.1027, 3.1026, 3.1021, 3.1021, 3.1016, 3.1014, 3.1011, 3.1011, 3.1004, 3.1, 3.0997, 3.0994, 3.0993, 3.0969, 3.0965, 3.0965, 3.0962, 3.0945, 3.0883, 3.0695, 3.0819, 3.0708, 3.0771, 3.0886, 2.985, 3.0347, 3.0289, 3.0239, 2.8436, 2.734, 2.6821, 3.3798, 3.3796, 3.3765, 3.3754, 3.3744, 3.3743, 3.3738, 3.3736, 3.369, 3.3689, 3.3685, 3.3682, 3.3668, 3.365, 3.3646, 3.364, 3.3637, 3.3636, 3.363, 3.3626, 3.3621, 3.3621, 3.3601, 3.36, 3.3589, 3.3589, 3.3585, 3.3578, 3.3566, 3.3561, 3.3522, 3.3518, 3.3305, 3.3526, 3.3453, 3.2968, 3.249, 3.292, 3.2997, 3.2722, 3.3178, 3.2742, 3.1508, 1.5545, 3.6641, 3.6619, 3.6612, 3.6598, 3.6574, 3.6549, 3.6539, 3.6538, 3.6527, 3.6508, 3.6476, 3.6467, 3.646, 3.6457, 3.6445, 3.6439, 3.6435, 3.6429, 3.6413, 3.6411, 3.6408, 3.6404, 3.64, 3.6391, 3.6389, 3.6381, 3.6375, 3.6362, 3.6357, 3.634, 3.6285, 3.633, 3.5213, 3.5854, 3.5383, 3.5772, 3.4661, 3.479, 3.5078, 3.22, 3.4904, 3.7204, 3.7183, 3.7149, 3.7123, 3.7121, 3.7092, 3.7088, 3.7088, 3.7087, 3.7079, 3.7069, 3.7049, 3.7048, 3.7041, 3.704, 3.7031, 3.7031, 3.7029, 3.702, 3.7015, 3.7012, 3.7009, 3.7002, 3.6972, 3.697, 3.6954, 3.6939, 3.6934, 3.6926, 3.6916, 3.6883, 3.6896, 3.6781, 3.6532, 3.6671, 3.6747, 3.5798, 3.6283, 3.6229, 3.4358, 3.9212, 3.921, 3.9192, 3.9191, 3.9165, 3.9102, 3.9095, 3.9093, 3.9089, 3.9075, 3.9073, 3.9063, 3.9055, 3.9037, 3.9032, 3.9019, 3.9007, 3.9006, 3.9003, 3.9, 3.8989, 3.8961, 3.895, 3.8929, 3.8927, 3.8927, 3.8916, 3.8897, 3.8892, 3.8892, 3.8414, 3.8526, 3.8429, 3.8102, 3.4188, 3.5136, 3.9889, 3.9879, 3.9807, 3.9799, 3.979, 3.9749, 3.9736, 3.9728, 3.972, 3.9718, 3.9688, 3.9685, 3.968, 3.9677, 3.9676, 3.9658, 3.9655, 3.9626, 3.9618, 3.9616, 3.9613, 3.961, 3.9573, 3.9556, 3.9547, 3.9541, 3.9541, 3.9538, 3.953, 3.9513, 3.9474, 3.8902, 3.7073, 4.048, 4.0378, 4.0354, 4.034, 4.0282, 4.0251, 4.0245, 4.0214, 4.0206, 4.0206, 4.0201, 4.0148, 4.0143, 4.0111, 4.0088, 4.0086, 4.0081, 4.0077, 4.0047, 4.0041, 4.0032, 3.9996, 3.997, 3.9953, 3.992, 3.9872, 3.9833, 3.9807, 3.98, 3.9798, 3.9698, 3.8309, 3.7675, 3.6494, 3.6693, 3.7097, 2.0398, 4.0642, 4.0589, 4.0553, 4.0522, 4.0518, 4.0515, 4.0501, 4.0499, 4.0466, 4.0405, 4.0391, 4.0382, 4.0378, 4.0373, 4.0361, 4.0357, 4.0338, 4.0328, 4.0325, 4.0324, 4.0311, 4.0257, 4.025, 4.0247, 4.0243, 4.0234, 4.0216, 4.0214, 4.0197, 4.0193, 3.8225, 3.8072, 3.8944, 3.6789, 2.8723, 3.6897, 3.9358, 2.6367, 4.1019, 4.1008, 4.1001, 4.0974, 4.0971, 4.0966, 4.0949, 4.092, 4.0912, 4.0877, 4.0872, 4.0867, 4.0863, 4.085, 4.0848, 4.0836, 4.0833, 4.0824, 4.0778, 4.0739, 4.0732, 4.0725, 4.0682, 4.068, 4.0621, 4.0595, 4.0566, 4.056, 4.0559, 4.0546, 4.0346, 4.0331, 3.9228, 3.8858, 3.648, 3.8843, 3.7311, 3.8073, 3.8187, 4.1085, 4.1083, 4.1038, 4.1014, 4.099, 4.0968, 4.0875, 4.0844, 4.0823, 4.0823, 4.0821, 4.0816, 4.078, 4.0779, 4.0764, 4.0757, 4.0748, 4.0747, 4.0742, 4.074, 4.0738, 4.0736, 4.0726, 4.0725, 4.0717, 4.0666, 4.0661, 4.066, 4.0658, 4.0657, 4.021, 3.8072, 3.765, 3.8036, 3.3341, 3.0841, 4.0972, 4.097, 4.0851, 4.0845, 4.084, 4.083, 4.0809, 4.0806, 4.079, 4.0776, 4.0776, 4.0773, 4.0773, 4.0763, 4.0743, 4.0741, 4.0739, 4.0693, 4.0685, 4.0676, 4.0673, 4.0663, 4.0659, 4.0654, 4.0642, 4.0637, 4.063, 4.0613, 4.0612, 4.0582, 4.0438, 4.0349, 4.0342, 3.9729, 3.8774, 3.4127, 3.6265, 4.1096, 4.1083, 4.1043, 4.1037, 4.102, 4.1002, 4.0953, 4.0949, 4.0948, 4.0895, 4.0892, 4.0883, 4.0874, 4.0844, 4.084, 4.0837, 4.0821, 4.0794, 4.0782, 4.0778, 4.0778, 4.0743, 4.073, 4.0724, 4.072, 4.0707, 4.0706, 4.0705, 4.0698, 4.0692, 4.0326, 3.9038, 3.9685, 3.5749, 3.9405, 3.809, 4.1198, 4.1152, 4.1139, 4.1095, 4.1087, 4.1062, 4.1042, 4.1004, 4.1003, 4.1002, 4.0994, 4.0991, 4.099, 4.099, 4.0962, 4.0886, 4.0884, 4.0839, 4.0828, 4.0823, 4.0823, 4.0817, 4.0817, 4.0798, 4.0778, 4.0756, 4.0752, 4.0691, 4.0686, 4.0683, 4.0228, 3.9708, 3.986, 3.799, 3.808, 3.6232, 3.3166, 4.1206, 4.1184, 4.1167, 4.1166, 4.1153, 4.1092, 4.1082, 4.1049, 4.1015, 4.1011, 4.0994, 4.0981, 4.0979, 4.0975, 4.0954, 4.0949, 4.0914, 4.0884, 4.0881, 4.0881, 4.0874, 4.0872, 4.086, 4.0845, 4.0844, 4.0843, 4.0813, 4.0781, 4.0768, 4.0753, 4.0672, 4.0549, 3.9561, 3.9414, 3.9647, 4.0228, 3.8968, 3.8811, 4.1416, 4.1305, 4.1274, 4.1257, 4.1212, 4.1137, 4.113, 4.1128, 4.1118, 4.1103, 4.1088, 4.1086, 4.1066, 4.106, 4.1056, 4.1045, 4.1029, 4.1025, 4.1024, 4.1022, 4.1017, 4.1011, 4.1006, 4.0978, 4.0958, 4.0957, 4.0952, 4.0942, 4.0867, 4.0852, 4.0566, 4.0353, 3.9756, 4.0004, 3.8857, 4.0482, 3.8544, 4.1389, 4.1324, 4.1321, 4.1298, 4.1283, 4.1261, 4.1247, 4.123, 4.1222, 4.1207, 4.1175, 4.1169, 4.1164, 4.1155, 4.1138, 4.1122, 4.112, 4.1106, 4.1101, 4.1101, 4.1095, 4.1086, 4.1078, 4.107, 4.1056, 4.1023, 4.1016, 4.1012, 4.0998, 4.0966, 4.0804, 3.8932, 3.7595, 3.9085, 4.1345, 4.1307, 4.124, 4.1233, 4.1215, 4.1207, 4.1182, 4.1173, 4.1147, 4.1147, 4.113, 4.1121, 4.112, 4.1113, 4.1091, 4.1087, 4.1085, 4.1084, 4.1051, 4.1046, 4.1041, 4.1024, 4.1019, 4.1013, 4.1001, 4.0983, 4.098, 4.098, 4.0971, 4.0967, 4.0768, 3.9812, 3.5619, 4.1972, 4.1926, 4.1877, 4.1874, 4.1831, 4.1827, 4.1747, 4.1746, 4.1733, 4.1729, 4.1721, 4.1716, 4.1714, 4.1706, 4.1701, 4.17, 4.169, 4.1688, 4.1672, 4.1654, 4.1613, 4.1602, 4.1586, 4.1563, 4.1559, 4.153, 4.152, 4.1515, 4.1472, 4.1472, 4.0699, 3.8836, 3.8116, 3.9489, 3.8957, 3.8204, 3.7727, 4.1938, 4.1907, 4.189, 4.1882, 4.1809, 4.1807, 4.1805, 4.1786, 4.1755, 4.1743, 4.1733, 4.1733, 4.1727, 4.1693, 4.1687, 4.1681, 4.1681, 4.1681, 4.1672, 4.167, 4.1663, 4.1653, 4.1616, 4.1612, 4.1597, 4.1585, 4.158, 4.1575, 4.156, 4.1559, 4.1452, 4.1399, 4.1394, 4.0938, 3.753, 3.9068, 3.4166, 4.2223, 4.2167, 4.2159, 4.2153, 4.2134, 4.2047, 4.2028, 4.2004, 4.1969, 4.1968, 4.1966, 4.1961, 4.1953, 4.1939, 4.1935, 4.1934, 4.1904, 4.1876, 4.1871, 4.1858, 4.1855, 4.1849, 4.1841, 4.1829, 4.1814, 4.1783, 4.1782, 4.1777, 4.1767, 4.176, 4.172, 4.1517, 4.0066, 4.0151, 3.8146, 3.8476, 3.7505, 4.0346, 4.2223, 4.2201, 4.2158, 4.2139, 4.2134, 4.212, 4.2101, 4.2075, 4.2069, 4.2066, 4.2065, 4.1995, 4.1975, 4.1952, 4.1922, 4.1911, 4.191, 4.1897, 4.1879, 4.1851, 4.1842, 4.184, 4.1798, 4.1797, 4.179, 4.1755, 4.1746, 4.1726, 4.1699, 4.1684, 4.1485, 4.1332, 4.0877, 4.0882, 3.9478, 3.8014, 3.9229, 4.2368, 4.2332, 4.229, 4.2288, 4.228, 4.2245, 4.2211, 4.2173, 4.2154, 4.2144, 4.2142, 4.2137, 4.2136, 4.2135, 4.2119, 4.211, 4.2107, 4.2074, 4.2067, 4.2066, 4.206, 4.2055, 4.2045, 4.2033, 4.2025, 4.2015, 4.2004, 4.1945, 4.1897, 4.1877, 4.121, 4.1375, 4.03, 3.8394, 3.9468, 3.8611, 3.9209, 4.3614, 4.3604, 4.3587, 4.3571, 4.3491, 4.3475, 4.3464, 4.3453, 4.3417, 4.3403, 4.3403, 4.3373, 4.3366, 4.3347, 4.3341, 4.3334, 4.3316, 4.3277, 4.3267, 4.3266, 4.3255, 4.325, 4.3221, 4.3168, 4.3164, 4.3156, 4.3145, 4.3143, 4.313, 4.3109, 4.1288, 4.1626, 4.1221, 4.1691, 4.2519, 4.3672, 4.367, 4.3643, 4.3633, 4.3618, 4.3442, 4.3434, 4.3407, 4.338, 4.3355, 4.3332, 4.3322, 4.3273, 4.326, 4.3252, 4.3199, 4.3186, 4.3179, 4.3151, 4.3145, 4.3142, 4.3136, 4.312, 4.3098, 4.3061, 4.3058, 4.3056, 4.3056, 4.305, 4.305, 4.2251, 4.2245, 4.1794, 4.2245, 4.1283, 4.1526, 3.9442, 4.1176, 3.9995, 4.3834, 4.3776, 4.3643, 4.3631, 4.3584, 4.3575, 4.3562, 4.3544, 4.3534, 4.3528, 4.3527, 4.3523, 4.3492, 4.3479, 4.3468, 4.3438, 4.3424, 4.341, 4.3408, 4.3394, 4.3358, 4.3339, 4.3329, 4.3324, 4.3323, 4.3316, 4.3315, 4.3307, 4.3291, 4.3288, 4.318, 4.2428, 4.259, 4.2173, 4.0506, 4.0651, 4.1668, 4.3813, 4.3782, 4.3742, 4.374, 4.3738, 4.3724, 4.366, 4.3554, 4.3549, 4.3536, 4.3529, 4.3506, 4.3503, 4.35, 4.3468, 4.3429, 4.3418, 4.3381, 4.338, 4.3332, 4.332, 4.3264, 4.3233, 4.323, 4.3193, 4.3172, 4.3169, 4.3156, 4.3139, 4.313, 4.277, 4.1341, 4.1568, 3.9557, 4.0806, 4.0519, 3.8133, 3.7204, 4.1731, 3.7076, 4.5189, 4.5186, 4.5185, 4.5132, 4.5063, 4.502, 4.5017, 4.4989, 4.4973, 4.4946, 4.4923, 4.4904, 4.4901, 4.4899, 4.487, 4.4859, 4.4834, 4.483, 4.4805, 4.4803, 4.48, 4.4766, 4.4753, 4.4736, 4.4725, 4.4705, 4.4696, 4.4668, 4.4668, 4.4665, 4.4548, 4.2959, 4.2611, 4.2623, 4.2096, 4.5396, 4.5342, 4.525, 4.5241, 4.5226, 4.52, 4.5196, 4.5178, 4.5165, 4.5158, 4.5147, 4.5073, 4.5068, 4.5065, 4.5063, 4.5058, 4.5057, 4.4979, 4.4949, 4.4946, 4.491, 4.4899, 4.4874, 4.4865, 4.4808, 4.4802, 4.4775, 4.4727, 4.4636, 4.463, 4.4619, 4.2557, 4.1428, 4.1457]}, \"token.table\": {\"Topic\": [4, 15, 15, 1, 2, 4, 6, 13, 8, 13, 16, 24, 14, 1, 7, 1, 2, 3, 7, 3, 23, 26, 29, 12, 4, 6, 8, 9, 12, 21, 9, 28, 7, 9, 9, 25, 7, 29, 23, 26, 24, 8, 28, 14, 31, 27, 14, 13, 18, 10, 6, 7, 22, 11, 28, 20, 32, 7, 26, 19, 29, 27, 6, 28, 29, 20, 15, 8, 17, 21, 30, 3, 26, 17, 27, 9, 4, 9, 9, 19, 32, 8, 24, 15, 20, 13, 16, 25, 29, 30, 4, 1, 2, 6, 25, 2, 20, 29, 18, 11, 19, 1, 2, 3, 4, 11, 11, 11, 8, 4, 6, 7, 9, 22, 24, 20, 20, 21, 29, 27, 31, 9, 29, 26, 4, 10, 1, 4, 25, 13, 20, 25, 29, 30, 2, 4, 9, 12, 14, 25, 5, 19, 26, 20, 15, 30, 19, 31, 2, 3, 10, 14, 11, 14, 8, 20, 29, 31, 9, 28, 29, 12, 15, 27, 28, 16, 23, 22, 20, 19, 29, 4, 10, 16, 15, 27, 1, 3, 4, 12, 29, 7, 22, 18, 25, 11, 22, 10, 11, 9, 1, 2, 4, 2, 3, 5, 25, 11, 15, 23, 28, 28, 4, 7, 8, 28, 1, 17, 2, 4, 20, 11, 24, 12, 27, 23, 12, 32, 4, 7, 20, 20, 8, 3, 4, 17, 30, 19, 10, 22, 32, 20, 5, 8, 25, 1, 2, 5, 16, 2, 16, 4, 27, 6, 12, 26, 16, 7, 8, 17, 19, 21, 24, 26, 13, 20, 21, 28, 5, 11, 6, 9, 26, 20, 8, 4, 22, 3, 9, 4, 12, 15, 27, 10, 1, 2, 14, 22, 7, 8, 11, 4, 9, 12, 12, 12, 12, 4, 5, 10, 11, 16, 13, 1, 17, 30, 25, 14, 30, 1, 2, 16, 31, 9, 3, 5, 7, 16, 2, 3, 11, 15, 30, 31, 17, 17, 16, 1, 2, 3, 4, 2, 13, 28, 26, 10, 17, 27, 13, 27, 30, 25, 20, 18, 24, 20, 19, 7, 18, 18, 13, 29, 29, 5, 16, 6, 21, 22, 27, 5, 19, 12, 10, 11, 9, 19, 30, 8, 10, 19, 24, 23, 25, 1, 18, 1, 9, 4, 29, 19, 16, 23, 10, 17, 19, 20, 26, 16, 32, 2, 3, 2, 3, 26, 1, 2, 3, 11, 14, 29, 15, 20, 7, 18, 18, 20, 25, 25, 2, 7, 31, 9, 17, 15, 30, 28, 5, 8, 18, 3, 5, 19, 7, 5, 9, 22, 17, 27, 7, 8, 1, 2, 4, 8, 6, 7, 32, 20, 18, 20, 3, 6, 7, 11, 10, 6, 11, 16, 2, 5, 5, 20, 6, 7, 10, 15, 11, 22, 13, 26, 16, 4, 6, 13, 20, 23, 13, 7, 19, 24, 5, 27, 11, 1, 2, 5, 6, 18, 1, 2, 4, 4, 31, 27, 11, 26, 23, 23, 14, 27, 5, 6, 25, 26, 6, 25, 25, 25, 3, 7, 22, 6, 21, 17, 31, 2, 3, 24, 23, 30, 12, 5, 13, 6, 7, 4, 17, 23, 5, 7, 14, 17, 14, 17, 12, 8, 24, 27, 13, 21, 24, 18, 1, 9, 16, 31, 18, 6, 22, 26, 21, 11, 20, 9, 6, 30, 11, 4, 12, 15, 9, 19, 26, 10, 25, 26, 24, 7, 9, 12, 19, 20, 21, 22, 26, 30, 27, 9, 25, 30, 11, 30, 5, 6, 15, 9, 6, 9, 16, 5, 30, 2, 3, 18, 26, 30, 12, 26, 31, 11, 32, 8, 9, 14, 7, 11, 9, 17, 20, 22, 21, 2, 18, 7, 9, 10, 12, 14, 15, 17, 30, 15, 15, 6, 12, 6, 10, 28, 16, 27, 22, 2, 5, 8, 10, 17, 27, 29, 2, 17, 25, 17, 2, 4, 31, 6, 23, 6, 12, 8, 23, 2, 31, 2, 15, 9, 10, 26, 24, 5, 25, 28, 29, 5, 9, 16, 17, 30, 17, 9, 17, 18, 15, 17, 21, 2, 4, 8, 25, 29, 10, 6, 11, 22, 18, 21, 5, 31, 32, 9, 11, 21, 22, 2, 5, 1, 3, 4, 5, 12, 24, 12, 2, 4, 6, 7, 18, 25, 9, 16, 10, 19, 9, 12, 16, 17, 28, 30, 1, 26, 15, 26, 22, 17, 32, 28, 14, 11, 16, 21, 25, 25, 1, 2, 3, 4, 4, 16, 5, 16, 16, 29, 19, 28, 2, 15, 8, 30, 18, 2, 15, 16, 1, 5, 8, 22, 7, 13, 9, 20, 21, 1, 2, 3, 4, 12, 28, 19, 14, 28, 25, 18, 2, 4, 6, 12, 4, 13, 9, 23, 27, 10, 17, 2, 3, 1, 5, 7, 30, 25, 3, 8, 12, 31, 31, 32, 1, 2, 3, 12, 8, 10, 18, 7, 20, 3, 14, 7, 7, 7, 20, 22, 25, 26, 27, 10, 17, 27, 7, 30, 31, 11, 21, 27, 17, 8, 1, 9, 13, 25, 13, 24, 2, 17, 23, 16, 28, 1, 2, 2, 32, 2, 3, 5, 22, 9, 1, 2, 3, 5, 8, 17, 15, 8, 2, 3, 4, 30, 15, 26, 26, 16, 7, 6, 26, 13, 8, 13, 23, 13, 1, 2, 3, 4, 6, 25, 25, 7, 29, 4, 30, 30, 7, 29, 7, 26, 9, 18, 21, 25, 25, 14, 24, 31, 18, 28, 22, 9, 12, 16, 28, 5, 5, 14, 12, 30, 30, 21, 18, 3, 13, 5, 6, 7, 8, 11, 17, 18, 27, 21, 24, 7, 14, 17, 30, 10, 13, 14, 6, 12, 5, 32, 27, 12, 3, 5, 19, 11, 20, 1, 3, 7, 2, 23, 6, 12, 20, 23, 28, 31, 32, 24, 4, 5, 10, 17, 28, 30, 8, 14, 24, 32, 15, 30, 15, 30, 22, 27, 2, 9, 11, 7, 17, 24, 19, 31, 10, 26, 1, 4, 17, 13, 17, 16, 13, 27, 25, 25, 8, 10, 11, 13, 25, 9, 13, 23, 11, 11, 1, 2, 28, 28, 1, 12, 20, 28, 3, 1, 5, 2, 4, 6, 23, 17, 19, 28, 1, 2, 3, 4, 29, 22, 30, 23, 12, 21, 21, 9, 15, 32, 4, 5, 6, 8, 1, 2, 3, 4, 16, 32, 13, 27, 5, 20, 23, 1, 2, 3, 5, 6, 23, 29, 29, 12, 17, 18, 22, 30, 30, 8, 17, 10, 11, 17, 26, 14, 24, 1, 3, 30, 1, 2, 3, 4, 29, 17, 7, 26, 11, 16, 27, 8, 2, 4, 3, 31, 31, 1, 8, 19, 2, 15, 6, 9, 21, 21, 26, 1, 3, 4, 17, 17, 6, 8, 31, 14, 17, 10, 10, 29, 19, 1, 2, 3, 4, 25, 2, 19, 25, 5, 2, 20, 10, 26, 6, 2, 15, 30, 7, 32, 30, 14, 16, 21, 4, 6, 9, 30, 1, 9, 4, 10, 13, 19, 11, 3, 7, 23, 6, 1, 9, 7, 9, 17, 21, 19, 13, 31, 22, 26, 29, 5, 15, 30, 10, 20, 26, 24, 23, 30, 19, 11, 2, 4, 7, 15, 26, 30, 14, 25, 22, 21, 22, 10, 17, 27, 9, 31, 5, 17, 19, 10, 17, 23, 17, 29, 3, 7, 18, 18, 16, 4, 5, 24, 6, 3, 4, 8, 10, 21, 10, 1, 23, 3, 8, 19, 1, 2, 3, 4, 5, 6, 32, 28, 14, 9, 8, 9, 18, 26, 27, 1, 2, 3, 4, 7, 20, 20, 23, 12, 14, 19, 15, 4, 4, 8, 29, 14, 23, 13, 7, 8, 17, 23, 2, 24, 16, 24, 8, 22, 10, 31, 32, 8, 12, 29, 28, 13, 1, 2, 4, 10, 1, 2, 3, 4, 2, 5, 22, 19, 30, 29, 9, 28, 4, 6, 7, 17, 24, 30, 32, 21, 11, 13, 13, 16, 3, 5, 7, 14, 12, 18, 10, 14, 23, 2, 3, 1, 3, 23, 27, 9, 7, 22, 1, 28, 28, 10, 13, 23, 9, 16, 10, 23, 18, 3, 21, 27, 13, 5, 8, 13, 24, 1, 31, 22, 4, 6, 13, 17, 23, 28, 12, 25, 31, 13, 26, 17, 19, 12, 15, 2, 26, 30, 21, 12, 15, 18, 27, 11, 19, 25, 23, 32, 30, 9, 21, 7, 12, 14, 12, 25, 27, 10, 11, 26, 17, 15, 7, 14, 25, 27, 15, 11, 31, 18, 7, 30, 17, 27, 30, 6, 10, 12, 16, 30, 9, 14, 15, 32, 28, 11, 12, 18, 11, 22, 5, 3, 32, 9, 17, 2, 3, 28, 32, 9, 11, 12, 18, 22, 30, 31, 5, 8, 9, 19, 30, 22, 6, 7, 9, 23, 24, 20, 6, 8, 20, 21, 22, 7, 24, 29, 9, 16, 29, 28, 32, 20, 14, 1, 2, 3, 5, 24, 2, 4, 5, 17, 28, 16, 3, 6, 13, 19, 27, 26, 7, 18, 6, 21, 17, 28, 3, 7, 10, 14, 1, 2, 11, 22, 18, 26, 2, 7, 11, 6, 28, 6, 7, 16, 30, 30, 17, 10, 26, 19, 14, 12, 6, 7, 26, 13, 5, 8, 17, 21, 6, 4, 26, 7, 18, 16, 31, 6, 13, 25, 14, 9, 10, 29, 27, 7, 27, 31, 3, 26, 5, 6, 9, 11, 25, 26, 1, 15, 15, 17, 22, 26, 14, 29, 8, 18, 25, 10, 16, 4, 5, 6, 7, 11, 18, 3, 21, 27, 16, 1, 24, 25, 32, 10, 26, 4, 5, 30, 1, 2, 4, 5, 29, 29, 26, 19, 4, 23, 9, 7, 30, 21, 24, 8, 25, 6, 11, 2, 3, 5, 20, 11, 13, 23, 30, 8, 18, 4, 3, 4, 6, 11, 4, 16, 29, 3, 16, 6, 20, 28, 8, 32, 21, 25, 32, 16, 16, 32, 9, 23, 19, 11, 15, 27, 2, 28, 15, 14, 14, 20, 25, 28, 15, 29, 4, 10, 11, 1, 13, 4, 24, 25, 26, 22, 17, 13, 9, 11, 17, 20, 7, 10, 31, 12, 16, 17, 8, 4, 2, 3, 14, 4, 25, 9, 4, 17, 18, 20, 23, 18, 21, 1, 28, 24, 1, 4, 19, 5, 10, 25, 3, 4, 13, 6, 4, 7, 13, 20, 22, 30, 31, 2, 3, 6, 4, 3, 26, 1, 10, 4, 8, 20, 32, 32, 16, 1, 2, 3, 20, 5, 17, 28, 28, 10, 27, 3, 19, 16, 8, 9, 22, 23, 25, 26, 29, 12, 14, 24, 1, 3, 4, 5, 7, 13, 3, 11, 21, 18, 18, 3, 15, 2, 3, 11, 12, 3, 5, 28, 12, 29, 2, 13, 1, 2, 3, 5, 11, 11, 4, 12, 7, 10, 23, 10, 7, 4, 7, 23, 3, 8, 2, 3, 15, 8, 13, 32, 10, 15, 9, 28, 31, 21, 12, 7, 22, 20, 32, 10, 11, 19, 28, 30, 32, 1, 2, 3, 4, 5, 23, 8, 1, 3, 1, 2, 3, 4, 31, 3, 28, 29, 22, 1, 7, 6, 2, 3, 25, 24, 8, 29, 16, 19, 24, 26, 12, 24, 26, 6, 9, 16, 6, 8, 14, 16, 23, 27, 9, 11, 9, 11, 24, 19, 6, 6, 18, 21, 31, 5, 6, 8, 13, 1, 31, 29, 1, 2, 6, 32, 24, 17, 23, 29, 9, 18, 7, 20, 26, 22, 1, 2, 3, 4, 20, 6, 8, 17, 6, 11, 16, 25, 28, 29, 6, 19, 8, 24, 9, 14, 18, 7, 4, 6, 11, 12, 19, 12, 15, 10, 15, 6, 21, 22, 4, 29, 2, 18, 21, 6, 7, 20, 19, 16, 29, 10, 10, 19, 25, 28, 1, 4, 30, 23, 22, 29, 18, 26, 8, 2, 3, 4, 21, 30, 7, 1, 2, 3, 4, 10, 1, 3, 4, 4, 26, 11, 14, 18, 29, 32, 5, 3, 5, 32, 13, 9, 14, 19, 32, 1, 2, 3, 7, 7, 7, 21, 5, 6, 8, 13, 18, 20, 18, 3, 25, 7, 18, 8, 24, 26, 14, 29, 13, 9, 14, 24, 8, 10, 13, 10, 16, 17, 22, 11, 16, 17, 20, 21, 23, 26, 28, 29, 30, 4, 5, 13, 17, 19, 20, 26, 17, 20, 12, 24, 24, 14, 2, 3, 5, 2, 5, 2, 5, 7, 25, 1, 2, 3, 4, 5, 9, 1, 17, 19, 1, 2, 3, 4, 7, 10, 13, 14, 14, 23, 21, 15, 20, 22, 9, 10, 16, 24, 31, 2, 5, 12, 1, 3, 4, 27], \"Freq\": [0.3677479457956735, 0.6017693658474657, 0.9482417608600185, 0.9818395325221845, 0.005454664069567692, 0.007272885426090256, 0.9631192891726933, 0.9570382711249804, 0.03580316870866883, 0.6659389379812402, 0.2649434484441493, 0.9416160919032175, 0.943993777724425, 0.9892022547529168, 0.002118206112961278, 0.33292128805301113, 0.6505874227451026, 0.00987098158647742, 0.0026920858872211146, 0.9865166530251324, 0.9449258316297041, 0.9314395861488232, 0.9319869954246154, 0.9230403796453197, 0.8915903169343463, 0.010337279036919958, 0.0025843197592299895, 0.007752959277689968, 0.07752959277689968, 0.95542803305467, 0.1339658409066456, 0.8335652323080169, 0.9006683209963865, 0.06537108781425387, 0.9527295662779849, 0.9369425351885258, 0.9720135612628615, 0.9146951661614908, 0.09548400158697162, 0.8593560142827447, 0.9276637536114609, 0.9726191768065131, 0.9041678654878231, 0.9435988462193224, 0.9200911324777281, 0.9440344079199217, 0.9346328063629549, 0.9423674892054498, 0.9318342199652946, 0.9537086228037183, 0.16025773669766347, 0.8070121740846625, 0.011446981192690248, 0.18240533929546413, 0.7725402605454952, 0.05491611317861673, 0.8786578108578676, 0.24083516872096802, 0.7225055061629041, 0.900661930211298, 0.05559641544514186, 0.9410781691131591, 0.16181137430003523, 0.7989436606064239, 0.9164608798161921, 0.9507295535967224, 0.93362203587958, 0.9496823096406317, 0.018089186850297746, 0.004522296712574436, 0.009044593425148873, 0.9911760531734913, 0.9562291434295784, 0.07256230678725939, 0.8526071047502978, 0.9411679730523326, 0.9677447743059282, 0.01990220615539184, 0.933041061043558, 0.9243768332790636, 0.8899220896044856, 0.9606254507798482, 0.9365775211918662, 0.9264775132033748, 0.9533378013136805, 0.007166627377039669, 0.08599952852447602, 0.1433325475407934, 0.1146660380326347, 0.6234965818024512, 0.9812621660207268, 0.9656403132725387, 0.02317536751854093, 0.001545024501236062, 0.003090049002472124, 0.9892285612684607, 0.9441075262306107, 0.929400159049864, 0.9455283184485271, 0.011342255336599057, 0.9414071929377217, 0.6181437558962047, 0.2874728448801817, 0.07919645458237565, 0.00617115230512018, 0.007199677689306877, 0.9766291491286391, 0.9249476409861024, 0.967939776618064, 0.9460806436358341, 0.025373810365712023, 0.003624830052244575, 0.010874490156733726, 0.9357892574619021, 0.9521190005483531, 0.9483988843629371, 0.9588600708002759, 0.9600884137440194, 0.9356692525138346, 0.9220154885712959, 0.9582612687712625, 0.017837651832566945, 0.9453955471260481, 0.9475074795160797, 0.9742174844058987, 0.017362291801293245, 0.9712812597381194, 0.022255217080742507, 0.9449592291657425, 0.01509920974450294, 0.9361510041591824, 0.00754960487225147, 0.00754960487225147, 0.00754960487225147, 0.11063199480190607, 0.8496537200786386, 0.008850559584152486, 0.013275839376228728, 0.008850559584152486, 0.9210799027414941, 0.9861663198309432, 0.9445409483422624, 0.9188951279609203, 0.9582280098284645, 0.9033756011769821, 0.04818003206277238, 0.9399524534517268, 0.925707839997707, 0.0665210886375772, 0.9254257331051182, 0.001956502606987565, 0.9439805794072152, 0.24660045611628606, 0.7221870500548377, 0.9654765272330947, 0.24222060821620164, 0.011534314676961983, 0.7035931952946809, 0.0771066855214618, 0.7556455181103255, 0.13879203393863124, 0.9320061531906559, 0.942746713567968, 0.9168709491317091, 0.9122380017206111, 0.9295464561276993, 0.9353217275302174, 0.9511417725861621, 0.942523248834925, 0.9401775314007758, 0.9334357978460429, 0.9617828106268036, 0.018858486482878502, 0.0037716972965757003, 0.9521357033539418, 0.9291961047426215, 0.9288288502971705, 0.030960961676572352, 0.025622864835784014, 0.010676193681576672, 0.9065909733553241, 0.9648672831596021, 0.9449557392584385, 0.9450366655967227, 0.9505364296575587, 0.9580982854102698, 0.9616660430566328, 0.953730499340408, 0.9577986395734406, 0.9410166787706268, 0.7671825973166078, 0.20780048463568856, 0.019940450545848903, 0.21113686151440952, 0.782613966680078, 0.0014075790767627302, 0.9384222365247866, 0.10115709865568687, 0.48555407354729696, 0.20737205224415806, 0.18714063251302068, 0.919088656164612, 0.989853293763775, 0.0017335434216528458, 0.0017335434216528458, 0.9229127611407941, 0.9911025340309579, 0.9361940738572408, 0.9503633457599227, 0.04175585877679801, 0.9376711720064848, 0.9387476638314589, 0.9333475963979679, 0.6671780348532712, 0.290077406457944, 0.935474817527942, 0.9373015783725309, 0.8929841586136512, 0.9692195558297559, 0.003876878223319024, 0.011630634669957072, 0.9412877174980857, 0.9617517559024015, 0.9865978254469938, 0.004375156653866935, 0.25961964310952595, 0.6844517863796594, 0.9453709648414934, 0.021400102416009672, 0.9309044550964207, 0.921233889980577, 0.9436477503658891, 0.9645521194869193, 0.022897379691084137, 0.002862172461385517, 0.49581138937520086, 0.49289485179064085, 0.006805254363973345, 0.000972179194853335, 0.9861466272321181, 0.004000594836641453, 0.9878175291258458, 0.9166798382930967, 0.965442395388505, 0.9614740527165343, 0.9465345888165894, 0.9290638068513949, 0.9661632993428857, 0.14789601375759012, 0.016432890417510015, 0.7559129592054606, 0.01095526027834001, 0.027388150695850023, 0.016432890417510015, 0.9053116786691098, 0.06093443991042085, 0.9475308791890604, 0.9304006325258483, 0.9721475188169577, 0.005400819548983098, 0.906237455254589, 0.02531389539817288, 0.04556501171671118, 0.9641428797222467, 0.970222967413601, 0.9788864760514698, 0.9504536055213512, 0.9862753393190075, 0.002867079474764557, 0.8729934422936769, 0.016696595890862673, 0.10017957534517605, 0.0023852279844089534, 0.9561594701622647, 0.011377806724161426, 0.9762158169330503, 0.0022755613448322853, 0.9429719659147257, 0.8405169495405921, 0.06100526246665588, 0.07456198745924607, 0.6834776153176189, 0.012118397434709554, 0.2956888974069131, 0.9672925784474788, 0.9534254249272354, 0.9409961811163575, 0.9802804240907764, 0.0042253466555636915, 0.9460933732486816, 0.6743852251141426, 0.28495150356935606, 0.9547489537948899, 0.9913575210142755, 0.0017004417170056185, 0.9087800781878098, 0.9468871279811361, 0.09297278469383571, 0.8599982584179803, 0.9436967758792445, 0.051042718695355364, 0.9719862428112263, 0.9462047205980689, 0.9447598615843411, 0.9773773343448057, 0.013207801815470346, 0.9644211408523835, 0.9530411793920383, 0.23362686160052187, 0.7574032126081435, 0.03555618010824478, 0.01777809005412239, 0.17778090054122392, 0.7466797822731405, 0.9310073199233432, 0.9190038157976262, 0.9335698593668077, 0.8054477866557481, 0.13496109025733044, 0.03347035038381795, 0.021593774441172872, 0.9887300097029763, 0.0021635229971618737, 0.9105277143147102, 0.9516573263429718, 0.006383448060278434, 0.970284105162322, 0.9345828633701327, 0.9673232950487998, 0.9252766024727281, 0.024674042732606084, 0.925624291564988, 0.9639493288380078, 0.036834090642605906, 0.9208522660651477, 0.9519091234030291, 0.9662571040609123, 0.16261379468405096, 0.8130689734202547, 0.9304146445618872, 0.928975098511054, 0.9600436110921658, 0.9316935963026194, 0.9759201879497305, 0.952644261137097, 0.975513652315474, 0.933719187703008, 0.1627135261280806, 0.7885347804668522, 0.9895997598606214, 0.9324410301904781, 0.9707059963212263, 0.9366058976295079, 0.966109372695079, 0.095124811436752, 0.8466108217870928, 0.0190249622873504, 0.2542995825548809, 0.021642517664245183, 0.059516923576674256, 0.6438649005112942, 0.11445243278606476, 0.8488555431633136, 0.9898685575778605, 0.0023512317282134453, 0.9890898823626304, 0.9619335907743074, 0.9904678709221288, 0.923467465196934, 0.9416992816913192, 0.22809840816051172, 0.7277425403216327, 0.009909364693331025, 0.0049546823466655125, 0.9413896458664475, 0.0049546823466655125, 0.01981872938666205, 0.9309901951623778, 0.9403571266242338, 0.18889220486084943, 0.8041945355461907, 0.1836158271594657, 0.8103046285515552, 0.0013305494721700414, 0.9337647737997807, 0.05553511102820273, 0.005166056839832812, 0.09917036350756316, 0.14167194786794737, 0.7083597393397368, 0.9385317075823761, 0.9364577690684052, 0.0687774415142841, 0.8826438327666459, 0.828673793686409, 0.13811229894773486, 0.006905614947386742, 0.9579782565581959, 0.9878624013885994, 0.0021198763978296123, 0.9180723403362849, 0.9534550264280345, 0.9572398116762714, 0.9363632396150392, 0.9494831656232262, 0.9579435592521426, 0.02745217735650458, 0.9402370744602819, 0.006863044339126145, 0.9879623376515414, 0.002513899077993744, 0.967221911440393, 0.959853413018224, 0.9031856745355189, 0.07225485396284151, 0.004014158553491195, 0.19241230563670542, 0.7576234534445275, 0.08170312830031738, 0.89328753608347, 0.979991873409566, 0.012318333604310188, 0.001368703733812243, 0.001368703733812243, 0.9680616009903882, 0.9523210189858794, 0.009069723990341708, 0.9578201702224927, 0.9381806484200134, 0.9579305687645799, 0.82424522700987, 0.1583702619582283, 0.0035993241354142793, 0.01079797240624284, 0.950551448215403, 0.9019831692207149, 0.08737961951825675, 0.9311131989917513, 0.9907571541482553, 0.0019580180912020856, 0.9640726588314983, 0.014831887058946128, 0.9664003898093916, 0.008259832391533262, 0.008259832391533262, 0.9415652776492899, 0.031177346347075075, 0.9249279416298939, 0.9557104280419234, 0.9291214605160318, 0.928131047831078, 0.9626586234045573, 0.0034380665121591333, 0.013752266048636533, 0.0034380665121591333, 0.0034380665121591333, 0.9186591906195493, 0.9638858168358501, 0.9459835729041954, 0.9393108820317814, 0.9759590189164327, 0.9335188949690443, 0.9363149929024821, 0.09127338025769911, 0.8915850925172805, 0.011130900031426721, 0.0022261800062853446, 0.9691739066640187, 0.9734970552140528, 0.015816361579432215, 0.007117362710744497, 0.9872356191359025, 0.9409443334917476, 0.9360725316771794, 0.967468553634308, 0.9612994343316181, 0.9365473200723804, 0.945453859367108, 0.9414851605154599, 0.9176957108016781, 0.981665191987057, 0.0038648235905002245, 0.9562230783224107, 0.943083081344456, 0.32642672252723565, 0.6342004894814864, 0.928626479614541, 0.9614268853297798, 0.9864077881633659, 0.29743323902181557, 0.669224787799085, 0.9664471423583797, 0.9375039986185504, 0.9405711493579336, 0.928361800067191, 0.8819804128440484, 0.112825554875511, 0.922275590940359, 0.23967997510024616, 0.7070559265457262, 0.9437830786711117, 0.9813446273080789, 0.007360084704810592, 0.06445618185043911, 0.9095483438895298, 0.983407325396912, 0.0033449228754997007, 0.9370004489321571, 0.75576373602207, 0.01529886105307834, 0.11321157179277973, 0.10403225516093272, 0.9337836594208783, 0.9311038744165379, 0.935380036658608, 0.9640662938337639, 0.9486616676400804, 0.012320281397923122, 0.1239114286530748, 0.2478228573061496, 0.6071660004000665, 0.9582771901638242, 0.9912825155394457, 0.947151480005322, 0.9697963075128254, 0.9503150262239124, 0.957041391403851, 0.2900342206433678, 0.6612780230668787, 0.02900342206433678, 0.9566268441789778, 0.9663392173945453, 0.9498516753909511, 0.9442023523880512, 0.9592410732526163, 0.9143821655931337, 0.9313905749981708, 0.7537124410724315, 0.23448831500031203, 0.9349371415978224, 0.892686216263216, 0.07909877865623433, 0.005649912761159595, 0.9633963567737359, 0.9183311071470113, 0.9626314013960668, 0.9468911471217498, 0.8534153564895216, 0.008843682450668617, 0.03537472980267447, 0.004421841225334309, 0.017687364901337235, 0.05306209470401171, 0.008843682450668617, 0.004421841225334309, 0.004421841225334309, 0.9477664893094091, 0.9067190734754771, 0.06581025533289753, 0.8878784118681267, 0.9332451773108325, 0.9544864981492822, 0.9470667785172336, 0.03642564532758591, 0.9402460849228346, 0.9556586446784291, 0.9493930850439193, 0.01375932007310028, 0.01375932007310028, 0.9700464567821019, 0.9035710004516805, 0.6808727035786022, 0.31261859541741266, 0.9376531279549492, 0.19013186078304942, 0.7605274431321977, 0.9383305317753186, 0.031755179026604775, 0.905022602258236, 0.949707059659099, 0.941079136072323, 0.9696949104877254, 0.9695512632804562, 0.950626733097739, 0.9705604891394625, 0.005642793541508502, 0.1285956507733466, 0.09287463666963922, 0.6644108623289574, 0.08573043384889774, 0.9584010765992235, 0.9891919408026163, 0.002078134329417261, 0.9650243001040331, 0.21691356463975103, 0.011831648980350057, 0.22085744763320106, 0.44960266125330217, 0.023663297960700113, 0.0631021278952003, 0.0039438829934500185, 0.9484325980882251, 0.9325265142256257, 0.977456958633949, 0.005171729939862165, 0.9627615919066623, 0.0071847879993034505, 0.9392995884531572, 0.9559451700121172, 0.915495134390511, 0.9589725165499616, 0.9910573591350349, 0.6783742419264317, 0.24891958070687614, 0.019147660054375088, 0.010941520031071478, 0.0027353800077678696, 0.030089180085446567, 0.9910067384995587, 0.9721200086248957, 0.01152711472677742, 0.9490008645753129, 0.9899290336319533, 0.9815253472956812, 0.9243215669020913, 0.9607125199423011, 0.9438799737765174, 0.9689989739215107, 0.928478212659543, 0.9703728931983, 0.9636277143567846, 0.9889694597463152, 0.9326745523575541, 0.9909929664819661, 0.9298129162305004, 0.9400243832412255, 0.9377167177987507, 0.930612902214049, 0.9302147055092155, 0.984764786666003, 0.02019048078758767, 0.9085716354414451, 0.9114143374984444, 0.9838760968743462, 0.002003820971230848, 0.004007641942461696, 0.002003820971230848, 0.8962183969690899, 0.9245078706288085, 0.07693841668492363, 0.8847917918766217, 0.007693841668492362, 0.9394580076585838, 0.03644020065591391, 0.9352984835017903, 0.07941215656349525, 0.9020406501955999, 0.006108627427961173, 0.0020362091426537245, 0.0020362091426537245, 0.9387886554042382, 0.8821263686579092, 0.10067746598813095, 0.9600319560066335, 0.04716723550262938, 0.9150443687510099, 0.9732508337269857, 0.9305116978918182, 0.9046801201159981, 0.17516963442102806, 0.798773532959888, 0.9683527831425922, 0.9504643078894365, 0.9501449557516519, 0.04438633369934724, 0.78600571049095, 0.19909628441007257, 0.010379427149340276, 0.0009435842863036616, 0.9614805397559238, 0.9403648967880748, 0.946822042155019, 0.9589539301412661, 0.03428436763911993, 0.002016727508183525, 0.0010083637540917625, 0.9237952195888125, 0.9409447561128139, 0.10909575491168856, 0.8400373128200019, 0.9467080835231934, 0.9439195534124968, 0.13285222149874945, 0.23249138762281155, 0.10517467535317665, 0.005535509229114561, 0.011071018458229121, 0.49266032139119587, 0.9904782525415703, 0.9382243713943504, 0.010711434726883332, 0.9533176906926165, 0.9311366964165251, 0.953832954706746, 0.9500023784590734, 0.914927499507127, 0.9359365076789244, 0.12798124464864888, 0.5675689980070516, 0.1446744504723857, 0.1391100485311401, 0.9620673632242457, 0.17990649035276804, 0.11043764754328335, 0.049875066632450546, 0.6537196233610482, 0.9817254459175843, 0.9566956289150855, 0.9599442735890993, 0.025745631858711475, 0.9240278597421612, 0.9295311468976554, 0.8796074164703704, 0.07508843799137309, 0.9910180324975841, 0.9659112868111136, 0.9772497362721292, 0.9153994598159902, 0.9520987845969052, 0.9881591953277263, 0.23475568258485796, 0.7160048318838167, 0.9911969127061673, 0.001832156955094579, 0.9654561792512931, 0.9307680474202442, 0.17716273994251094, 0.7816003232757835, 0.005079205419023626, 0.9752074404525363, 0.9313215573238091, 0.7865134761316936, 0.03756309768446737, 0.03062837195810416, 0.1410060897693852, 0.0011557876210605343, 0.0005778938105302671, 0.9388603925331517, 0.9474230067595562, 0.9619485812119919, 0.9195197403706795, 0.9661367383411954, 0.04265452864599075, 0.944493134304081, 0.0030467520461421966, 0.9697008666860715, 0.979832090385241, 0.0039037135075109205, 0.021940240564519344, 0.9324602239920722, 0.9506802516215443, 0.011653066860676867, 0.9613780160058415, 0.8583183720483648, 0.13537704404665266, 0.9945152550958873, 0.9774610960548418, 0.0037025041517228857, 0.0037025041517228857, 0.9507365279423605, 0.9890211454623071, 0.0021178182986344904, 0.034390531000121474, 0.9423005494033284, 0.9598688833245725, 0.910564812498973, 0.005065556896180535, 0.0016885189653935116, 0.9523246964819406, 0.03377037930787023, 0.8523176425853894, 0.044276241173266985, 0.09131974741986316, 0.9688054953102233, 0.962610279575579, 0.9901685160769218, 0.00340849747358665, 0.9593278603169605, 0.9625802200293563, 0.9617586233126187, 0.006820983144061125, 0.0034104915720305625, 0.0034104915720305625, 0.006820983144061125, 0.0034104915720305625, 0.9484774313710012, 0.9380102293509097, 0.9349025595217917, 0.9595742572383167, 0.9002757416172056, 0.9360555195333383, 0.9643708073228885, 0.932419786519764, 0.9421047312462787, 0.94989939941613, 0.9503303984416177, 0.9930961198888683, 0.030865512527123676, 0.9362538799894181, 0.010288504175707891, 0.9447588319368128, 0.939161141857014, 0.9875930760426535, 0.0023797423519100083, 0.9376806404150779, 0.1088614393060776, 0.8300684747088417, 0.0011508212696771014, 0.9943095770010156, 0.9906221932015976, 0.9403913907068537, 0.9420844256384994, 0.05092348246694591, 0.0016974494155648637, 0.9441818870330954, 0.9519201458759986, 0.40240353046527144, 0.2518640802192706, 0.33466077785457105, 0.008684968283423125, 0.0005789978855615417, 0.9225025574961233, 0.9369239859497501, 0.9653315343481913, 0.15853457572283455, 0.832784036327179, 0.9845412798558918, 0.003038707653876209, 0.9366299365802013, 0.012830547076441115, 0.9385716246407251, 0.9583959617017702, 0.9704622476199234, 0.9541890992744306, 0.9378342449991763, 0.9412971048936983, 0.9575349808479244, 0.04592338447843527, 0.9184676895687054, 0.9646322348821117, 0.9292757485322825, 0.02536035181179718, 0.027171805512639837, 0.01268017590589859, 0.0009057268504213279, 0.0018114537008426558, 0.9651861796128055, 0.12833316350221374, 0.8412951829589568, 0.47094351011938307, 0.48189568477332223, 0.9300652056599574, 0.9712742190657436, 0.00802705966170036, 0.9784921170466494, 0.9427471610338136, 0.9449677679186954, 0.09650141589906631, 0.010722379544340702, 0.8470679840029155, 0.9605337485353664, 0.9381861010669391, 0.9472844512382685, 0.01101493547951475, 0.9499103052890696, 0.9181662855294996, 0.9608387819121503, 0.9581500952838032, 0.0164254302048652, 0.9548857073040169, 0.9274423650296539, 0.979365969370847, 0.9743648589165264, 0.9484012568106147, 0.9490567024001414, 0.9498256178899578, 0.8904281230341968, 0.9442543868399415, 0.9351308551255225, 0.9917068933481574, 0.951428667231107, 0.9785358336150557, 0.9542915263362878, 0.007175124258167577, 0.0035875621290837887, 0.014350248516335155, 0.0035875621290837887, 0.9484742908985374, 0.9458235024536218, 0.9425366929616013, 0.9551305267706873, 0.17264686084802283, 0.3495046207411194, 0.4379335006876677, 0.025265394270442363, 0.25374049597385756, 0.006188792584728233, 0.7240887324132033, 0.9665677130688393, 0.94593472827257, 0.9782958162858109, 0.9152425617226716, 0.9615721744477007, 0.9351762818816907, 0.9758613175844374, 0.01611514102433016, 0.93636391971241, 0.9584316069392461, 0.9475884915985514, 0.9931463078003667, 0.9887450361898193, 0.965504329499031, 0.9882741743785034, 0.9582598052584085, 0.19292465910692694, 0.08648346787551897, 0.013305148903925996, 0.4457224882815209, 0.09313604232748197, 0.13970406349122297, 0.9210381446126149, 0.9326954179623707, 0.9797493764819294, 0.9708764805506579, 0.010949734743052534, 0.003649911581017511, 0.9287988123175265, 0.9517604944570468, 0.9754050163838415, 0.004758073250652885, 0.04636153049266609, 0.9040498446069889, 0.9070413705510035, 0.04535206852755018, 0.905339660467289, 0.048284781891588746, 0.9358455363322717, 0.9373494323216934, 0.9885338591625171, 0.9694964340138591, 0.9465041655702027, 0.11281142602700037, 0.03760380867566679, 0.8022145850808915, 0.012308980697262903, 0.9477915136892434, 0.2504685803951266, 0.7058659992953569, 0.9497072332662108, 0.04584106267601857, 0.0009965448407830123, 0.7299220692834494, 0.22940407891765552, 0.9317732588458771, 0.9491860927799929, 0.9478058897745701, 0.9492833518191234, 0.9297008934201308, 0.13199045591750547, 0.168947783574407, 0.026398091183501095, 0.6177153336939256, 0.03695732765690153, 0.9505467935552366, 0.017126969253247505, 0.9603598101370076, 0.9893808693611535, 0.9791128026632665, 0.698600466581088, 0.2953432866846876, 0.0018932261966967154, 0.9038997731689409, 0.9917815124031454, 0.02469137597502525, 0.9465027457093012, 0.9125405070223984, 0.9873531574620585, 0.9888635480412171, 0.002332225349153814, 0.06917055604709134, 0.9149378095319809, 0.003144116183958697, 0.9558427284080102, 0.9704081629236965, 0.12707039777323123, 0.8365467853404389, 0.9581610224887372, 0.017090943544949607, 0.010681839715593503, 0.008545471772474804, 0.9299017269348484, 0.9499637191359176, 0.9266822725603396, 0.9646407286497828, 0.9376202129293888, 0.9535759056717824, 0.9449813634517997, 0.08635551664940519, 0.23028137773174717, 0.6428688461677942, 0.07502962434299698, 0.009378703042874623, 0.8956661405945265, 0.004689351521437311, 0.9931619205448812, 0.9568368248032983, 0.025300973732779525, 0.00460017704232355, 0.0092003540846471, 0.913281437441742, 0.9628305235639397, 0.9532678287825576, 0.9833910435377939, 0.003474880012501039, 0.9287488211007034, 0.31814536618191175, 0.42960906185131914, 0.24774724260123343, 0.0022563501147653316, 0.0009025400459061327, 0.12632607794300926, 0.814101391188282, 0.9359058452283775, 0.00897866460461369, 0.013467996906920535, 0.03591465841845476, 0.1795732920922738, 0.7452291621829362, 0.9441495440263817, 0.737019408966571, 0.241037794127432, 0.24381149810833472, 0.00761910931588546, 0.7161962756932332, 0.9432641851811696, 0.007976916233145042, 0.96520686421055, 0.9632219205777733, 0.030666978658047777, 0.908954545258249, 0.8845779236265608, 0.025639939815262632, 0.08295274646114381, 0.003770579384597446, 0.0007541158769194893, 0.9458072400470082, 0.8253092980953385, 0.1422947065681618, 0.6602842335212765, 0.11554974086622338, 0.18157816421835105, 0.9831926280624013, 0.9875634534184717, 0.007379054446464297, 0.9864635875668404, 0.9163562144130833, 0.9143596825845903, 0.9889676933918202, 0.9688457441742767, 0.9446975954545211, 0.9885183739084152, 0.0040265514212155405, 0.01324446779667111, 0.01324446779667111, 0.9469794474619844, 0.9311189396831686, 0.9333128262736017, 0.9655088357201213, 0.005967298119407424, 0.023869192477629697, 0.9630294325315827, 0.9437905704156709, 0.007940998752711308, 0.9608608490780681, 0.9448743977668577, 0.9294734389217917, 0.9445010006028834, 0.9439099137035726, 0.26704948267795736, 0.6898778302513898, 0.9321371444959357, 0.7149477772192981, 0.19905738576871412, 0.08045236008152196, 0.0016588115480726175, 0.9698081790710372, 0.9879249847986016, 0.9484758976614527, 0.009119960554437045, 0.9734497929916116, 0.9872016010586373, 0.9593007510775478, 0.9447168391742317, 0.9360539715359009, 0.9788103279666621, 0.9871973589689922, 0.9349002874625958, 0.8901694670153999, 0.9630221268964674, 0.9222277848072962, 0.934217680546302, 0.9515623291226246, 0.8138092238679905, 0.12520141905661392, 0.261329598904114, 0.07370834840885267, 0.643272858840896, 0.9117932392661302, 0.9932109159689251, 0.001412817803654232, 0.978734039564467, 0.9481917335127416, 0.9655158143019844, 0.9324023588573184, 0.9331138165521733, 0.9844077502572147, 0.10089563105281145, 0.8765307947712995, 0.9768697486858156, 0.9925001103560043, 0.9686131758890509, 0.8195836759942805, 0.12141980385100452, 0.03642594115530136, 0.9499391630305287, 0.9330639191489773, 0.928407257543946, 0.9233469711822131, 0.946851614644161, 0.918217069798312, 0.9312118248060715, 0.9788250770129114, 0.033250644472011405, 0.8977674007443079, 0.9303324990913191, 0.29260325067100573, 0.6607170176442064, 0.9328156758324163, 0.9320649216300309, 0.0318654674061549, 0.9762999179273478, 0.9298815178637183, 0.2905062739258192, 0.6843036674697074, 0.002151898325376438, 0.010759491626882191, 0.002151898325376438, 0.004303796650752876, 0.9462105651916201, 0.9688194475655922, 0.9359206236349523, 0.2644875048711663, 0.7076827833039314, 0.9698044332996499, 0.9543911122048386, 0.009265933128202317, 0.008094479871557897, 0.9632431047153898, 0.9754473705009726, 0.004877236852504864, 0.9259871945881416, 0.9279200177072057, 0.038029508922426465, 0.9362464748639248, 0.9386694917733792, 0.9088575616216208, 0.972162700461874, 0.017955511618029336, 0.9687877003038952, 0.9286905845824625, 0.9437378358303483, 0.008295583425535788, 0.9788788442132229, 0.9410765799637568, 0.9672170263820923, 0.37905375417724, 0.5582962270827566, 0.0014692005975862016, 0.052891221513103256, 0.004407601792758605, 0.9428551336414166, 0.9893038445268341, 0.9525430442514695, 0.9835588195193715, 0.0021664291178840785, 0.006499287353652235, 0.8117658367479369, 0.11132788618257419, 0.056929032706998166, 0.017711254619954986, 0.0004216965385703568, 0.0004216965385703568, 0.8926101791196365, 0.9573539121667427, 0.9725498516731332, 0.9634334445224807, 0.9417613549004331, 0.020601029638446976, 0.0029430042340638533, 0.005886008468127707, 0.020601029638446976, 0.8910292679866829, 0.05762344966620465, 0.03308012851208044, 0.011738110117189835, 0.0010671009197445304, 0.002134201839489061, 0.9712058911729102, 0.9404739341898062, 0.8246634965325729, 0.034360979022190534, 0.10308293706657161, 0.9475445638899891, 0.9809102091499436, 0.9879061824152298, 0.07783671592640133, 0.8562038751904146, 0.04307916166051796, 0.9154321852860067, 0.9156857611717956, 0.01907088055614291, 0.8899744259533359, 0.02542784074152388, 0.03814176111228582, 0.986769859952117, 0.9321391389412583, 0.0608379130361767, 0.9038775651089109, 0.3238775298288163, 0.6382292499567851, 0.19237678716938494, 0.7695071486775398, 0.8968111024109745, 0.9665277021896688, 0.9537804161945849, 0.9330174161029461, 0.9359065305465029, 0.9376161062383394, 0.9396307960796301, 0.04471206383652169, 0.010161832690118566, 0.0027098220506982843, 0.3087246815489639, 0.010389772936743976, 0.0014842532766777107, 0.6738509876116807, 0.9828864099684755, 0.002208733505547136, 0.006626200516641408, 0.15768274167011503, 0.7708934037205625, 0.9345003257058188, 0.953440672845483, 0.8953325276355822, 0.9833027519033346, 0.9336026410779462, 0.02552819721697509, 0.018234426583553637, 0.0036468853167107274, 0.0036468853167107274, 0.9027247306573575, 0.94158770821486, 0.954600349888889, 0.9583104033766603, 0.9587496147808002, 0.9532419162247561, 0.9899446226326049, 0.0016018521401822085, 0.0016018521401822085, 0.9464903887332753, 0.9605844631492491, 0.9349092099029442, 0.9365857495169807, 0.9485212678824811, 0.9375967015245993, 0.8505670085834552, 0.14295243841738742, 0.007428556564987409, 0.9830456521000004, 0.9515941487686904, 0.9573602855590931, 0.9518728574426522, 0.24139566540923696, 0.7152464160273687, 0.2690782128570108, 0.6577467425393597, 0.89874657571605, 0.2396215382833328, 0.7188646148499983, 0.9522141645906848, 0.9487382425387052, 0.944083514459456, 0.9461040734756736, 0.9386205672465875, 0.9518936295705532, 0.9872563400045012, 0.15106519729077267, 0.785539025912018, 0.9535922339808475, 0.9108523965761358, 0.03345988395585805, 0.011153294651952684, 0.03345988395585805, 0.9891948317945213, 0.9399065230993393, 0.9284513156011254, 0.034306217018158815, 0.954856373672087, 0.9726202584698881, 0.9568350327085032, 0.9328605431643628, 0.8986785163079897, 0.2372829074035134, 0.723712867580716, 0.9215694676703763, 0.951653790555083, 0.9633908654187024, 0.8479627682783099, 0.10599534603478873, 0.9358488037509298, 0.9450513001892613, 0.99054254909946, 0.9374394977006695, 0.9369391172778655, 0.9543940341328215, 0.004199716149566318, 0.008399432299132635, 0.9701344305498193, 0.9489815618420694, 0.21116882140870227, 0.7302921740384287, 0.026396102676087784, 0.9348171165923376, 0.9532858824833618, 0.9265934546673855, 0.13695642475263434, 0.8289467813975235, 0.3050540986778046, 0.6648614971182921, 0.9452032256643372, 0.9310493060775108, 0.94472568402779, 0.9307769572967299, 0.0437690281924509, 0.9118547540093936, 0.0072948380320751495, 0.9586145224403276, 0.9186838173266675, 0.9586377693293774, 0.011472066836670314, 0.9407094806069658, 0.9239662558174757, 0.9442977048240481, 0.9440018533818737, 0.930662827374028, 0.93781417095859, 0.961254098551522, 0.9338532560064082, 0.19054364566166684, 0.7621745826466674, 0.911643778435673, 0.9649357649632583, 0.15430164879672223, 0.7637931615437751, 0.023145247319508337, 0.023145247319508337, 0.9692162382725122, 0.9391625832786799, 0.23751113997084763, 0.7244089769110853, 0.9004350873456726, 0.9641999824997859, 0.9520585780475556, 0.9608114679082679, 0.9655155710346686, 0.007914062057661217, 0.9761725234606603, 0.986474861814424, 0.9334422518529766, 0.12872922145614518, 0.8405260930371833, 0.06159029669735957, 0.9285921655909597, 0.9174729832753697, 0.9340852074951912, 0.586396284988637, 0.1453017343334676, 0.0051893476547667, 0.0051893476547667, 0.12454434371440079, 0.0830295624762672, 0.0363254335833669, 0.9559203217216214, 0.027765320547930912, 0.003966474363990131, 0.8855025994153064, 0.052865826830764566, 0.9272006213963402, 0.11133787958136107, 0.8672634830548126, 0.16929305094636193, 0.008061573854588664, 0.7900342377496891, 0.9547310351735946, 0.7811269455988356, 0.08567198758180777, 0.04031622945026248, 0.07055340153795935, 0.939286424346957, 0.1880283620132307, 0.7814928796174901, 0.005875886312913459, 0.042339140415290376, 0.897589776804156, 0.025403484249174227, 0.9093065255940395, 0.9364807011732859, 0.9381191701426218, 0.9686650776370318, 0.418820356521505, 0.502584427825806, 0.07413601713139284, 0.0009628054172908161, 0.9303357135180815, 0.5335665394321784, 0.42714086849422367, 0.0014381847424047936, 0.00431455422721438, 0.027325510105691075, 0.9473601439685, 0.9887400612169771, 0.978214898423749, 0.004144978383151478, 0.004144978383151478, 0.9325932113781343, 0.9404586087268059, 0.9754406339841079, 0.9319828787318308, 0.9717367405846941, 0.9662493209510147, 0.9515968207175227, 0.9579112572208577, 0.9844045286640138, 0.23240456937707793, 0.7359478030274135, 0.9373129611891045, 0.006739549561690553, 0.9839742360068207, 0.9174128616397014, 0.9404275512765383, 0.1720425557215989, 0.784944160479795, 0.9921147889298128, 0.22653123788191126, 0.7469408384214371, 0.9667980670836513, 0.9190696680675373, 0.9578648573333045, 0.028264864642622102, 0.9304774467620471, 0.9485212610001581, 0.9199283576020606, 0.9373586996678263, 0.9526579281209779, 0.008283981983660678, 0.9430144860725034, 0.9477103689724178, 0.9604027329788993, 0.3234214702223847, 0.6316231065519513, 0.03043966778563621, 0.9643634925743506, 0.9771352481082838, 0.27014198760367303, 0.7036256421304973, 0.9532497599110811, 0.966356983419468, 0.9837848271378099, 0.9405907724860627, 0.9500325372752085, 0.008482433368528648, 0.215362109085985, 0.7447939605890315, 0.02083602944966257, 0.027781372599550092, 0.9306759820849281, 0.938521589873356, 0.009003005255923369, 0.009003005255923369, 0.9453155518719537, 0.9103091872501169, 0.9628340183771321, 0.9279502734250418, 0.9589515240923221, 0.9903492547915416, 0.9568572005181549, 0.8708274045977784, 0.021702863665988247, 0.013564289791242653, 0.07596002283095886, 0.002712857958248531, 0.005425715916497062, 0.990663402253456, 0.9608576523385254, 0.7747635970391124, 0.18896673098514935, 0.9497594046277212, 0.9215532277623527, 0.8892754870158037, 0.07210341786614624, 0.9515650967092241, 0.005965925371217706, 0.032812589541697385, 0.9332979362454182, 0.9420624688796125, 0.9204257447208448, 0.013243535895263954, 0.03973060768579186, 0.0033108839738159885, 0.011588093908355959, 0.0033108839738159885, 0.9876751921407823, 0.9453426188395626, 0.012438718668941614, 0.9448072005604351, 0.9938536024302584, 0.9512765947889683, 0.9360303477097132, 0.8949442189169706, 0.06975328785130258, 0.8788914269264126, 0.0044040652928250615, 0.9777024950071637, 0.008808130585650123, 0.7713325590697245, 0.22080130507721124, 0.002208013050772112, 0.0007360043502573708, 0.0029440174010294832, 0.9665121538169157, 0.9447456070710087, 0.9477261617960857, 0.9857139016157738, 0.9419323030035225, 0.946982531663142, 0.9533851835737435, 0.9250105492655749, 0.9505178633176233, 0.9247321545357682, 0.9661552988938332, 0.9338449696341311, 0.24632443408245847, 0.70684402823662, 0.9210060055001457, 0.07441054617607884, 0.987453311614958, 0.0021943406924776845, 0.011941054902326985, 0.03582316470698095, 0.9194612274791778, 0.005970527451163493, 0.9566499617942378, 0.934449202785073, 0.9933500921784898, 0.9869667680040991, 0.008390652381891158, 0.9607296977265375, 0.012585978572836736, 0.9778632880887986, 0.03144392110007342, 0.9118737119021292, 0.9861674001082855, 0.9403183492086077, 0.88491348260851, 0.006459222500792044, 0.08396989251029657, 0.9627153656578243, 0.9181448945681744, 0.012672752118349883, 0.9567927849354161, 0.9307128701853097, 0.9645022584991, 0.9617784941687022, 0.9214132493448012, 0.9566483043034077, 0.9431432469694381, 0.96193598242168, 0.005748754142022128, 0.8508156130192749, 0.12072383698246468, 0.992997604537644, 0.9189880113135168, 0.9511753129699492, 0.9720216216323058, 0.11369198450167295, 0.7608617424342727, 0.08745537269359457, 0.017491074538718916, 0.9469182796405741, 0.9366490622692162, 0.9825095060067737, 0.9514114410659359, 0.9326376579842459, 0.9920758696552759, 0.918034954644823, 0.9885513639266356, 0.05562954390195274, 0.8900727024312438, 0.023841233100836887, 0.964269934488027, 0.9319513079011125, 0.951064764588302, 0.9521896389792127, 0.008443781123375724, 0.9541472669414569, 0.008443781123375724, 0.03201030766694874, 0.8749484095632656, 0.0533505127782479, 0.09529755941603534, 0.7862048651822915, 0.08735609613136572, 0.9672913216450665, 0.9808033529440793, 0.07733779982641456, 0.9132442319927677, 0.003290970205379343, 0.9742757222379967, 0.007920940831203226, 0.9502093306312365, 0.979750408706271, 0.04289154130536592, 0.7791963337141475, 0.13582321413365875, 0.02144577065268296, 0.9475459758022359, 0.9270893617896128, 0.9912099954567162, 0.923077710198853, 0.948976541281624, 0.9901184143220236, 0.002147762287032589, 0.9641632201567837, 0.9738312032390145, 0.0043474607287456, 0.0043474607287456, 0.0032312957850795286, 0.9855452144492562, 0.9576689537290417, 0.9747638353739372, 0.9660022589672858, 0.012586348651039553, 0.003146587162759888, 0.003146587162759888, 0.003146587162759888, 0.887581035029193, 0.9551208164723558, 0.02088568763425489, 0.9700241590131716, 0.9788637382210226, 0.9816373629289612, 0.9890507245829284, 0.9580272265146789, 0.9932627616437064, 0.9583076080421363, 0.9779598748607963, 0.20814574387831997, 0.10955039151490524, 0.646347309937941, 0.927668967752289, 0.9643929515738713, 0.02561534341955878, 0.4237204723985348, 0.5475279655930689, 0.9337048557625919, 0.9152965956332733, 0.00370565423333309, 0.06670177619999562, 0.8977765276087065, 0.9423119602194021, 0.921239997598711, 0.9907801453935842, 0.9345993419983598, 0.9467867676662096, 0.9520703043534653, 0.8676985755907614, 0.005258779246004614, 0.04732901321404153, 0.010517558492009228, 0.04732901321404153, 0.9171560704534543, 0.9425413603877304, 0.9315415260387043, 0.023288538150967607, 0.9827409530155083, 0.007084641267876991, 0.005060458048483565, 0.002024183219393426, 0.18044869009232548, 0.7819443237334104, 0.9866288915491754, 0.9674640433863331, 0.9488916021356348, 0.9702075060315432, 0.9473596533286963, 0.9920530980281285, 0.9514781914143303, 0.8519518543947521, 0.1421771021675727, 0.9457968363451511, 0.9504460732734387, 0.9815766392926433, 0.0030770427564032706, 0.0030770427564032706, 0.751115780724566, 0.21460450877844744, 0.9926281483537205, 0.001568132935787868, 0.19567079658209624, 0.6943157298074383, 0.1047785555891225, 0.001262392236013524, 0.9752844790761996, 0.944109233977327, 0.9490599986790712, 0.03650230764150274, 0.09189328323601366, 0.2664905213844396, 0.6202796618430921, 0.9297399691908155, 0.9833722273351707, 0.9624198397914075, 0.02092217043024799, 0.007608061974635633, 0.9884908558725776, 0.973471028286377, 0.026379009578433955, 0.9640328955027683, 0.9310245777476365, 0.021866937096377416, 0.9074778894996628, 0.03280040564456613, 0.9652184360160098, 0.9446228447207625, 0.015621315993378343, 0.9529002755960789, 0.9145303421910946, 0.9314754113532893, 0.9361294079440347, 0.20880539402131781, 0.7535151175551903, 0.011803126114789989, 0.9442500891831991, 0.19745594901640823, 0.11847356940984494, 0.09872797450820411, 0.019745594901640823, 0.5397129273115159, 0.909627705608555, 0.9172397748522845, 0.024516086148125577, 0.032124526676854205, 0.021979939305216033, 0.9770616241848893, 0.004105300941953317, 0.9575035402344182, 0.9906844120570646, 0.002030091008313657, 0.7423561437710237, 0.18819248935277455, 0.04834984904320295, 0.017852251954413395, 0.9177298603963825, 0.9924777439378667, 0.7453043713178917, 0.18997954563005084, 0.9274151955324557, 0.9902391760511982, 0.9781083222339786, 0.9697745071116586, 0.9511113991010642, 0.04280001295954789, 0.9316864244246263, 0.9657573313790537, 0.9636948603537725, 0.9387282708995448, 0.23134584003123382, 0.06123860471415013, 0.02721715765073339, 0.6532117836176013, 0.9507446932403668, 0.9684365876457195, 0.9419335940489937, 0.9229067804682223, 0.04969498048675043, 0.9394655534844024, 0.0367749159215547, 0.916544058352594, 0.0028288396862734383, 0.0028288396862734383, 0.0028288396862734383, 0.025459557176460944, 0.0186258412955642, 0.9499179060737742, 0.8968120184431683, 0.0706151195624542, 0.9490998237512206, 0.9369329972807984, 0.9675025933325768, 0.9599405037815613, 0.9340941708417404, 0.038652172586554776, 0.9386020095569214, 0.9752068090874049, 0.005784387996150382, 0.9717771833532641, 0.9653087847722088, 0.988369607086488, 0.924456595523901, 0.9321941206270626, 0.9755909386949866, 0.016045903596957015, 0.0016045903596957015, 0.9311761813449974, 0.9645110829690241, 0.9429001418292162, 0.9354645390684496, 0.9098452159387403, 0.040541515003451406, 0.9223194663285196, 0.0068240017837910664, 0.9212402408117939, 0.04776801248653746, 0.9459207908962526, 0.8951422545843466, 0.07820275547070735, 0.02280913701228964, 0.001861970368350175, 0.9507530821235705, 0.961585475043006, 0.38250802062071104, 0.5942535320357476, 0.8601579140793026, 0.1332639021813004, 0.0015143625247875047, 0.7383418802640593, 0.2205436785204333, 0.9479655500861364, 0.9528566046465539, 0.015620600076173012, 0.9595784936764182, 0.0076766279494113465, 0.2729722063382373, 0.6938043577763532, 0.011373841930759888, 0.9605164553198022, 0.9566377518587285, 0.004555417865993945, 0.0022777089329969725, 0.020499380396972754, 0.006833126798990918, 0.9400535181696538, 0.933546186410022, 0.9291564080993896, 0.9373794831042007, 0.9649903988592428, 0.011556771243823268, 0.972389847467299, 0.9872688139980822, 0.9215608460273547, 0.9904654029073388, 0.93955991515883, 0.020879109225751778, 0.010021153304328937, 0.952009563911249, 0.9700996581843468, 0.9432259512686736, 0.1599228350747208, 0.783621891866132, 0.9666794163166053, 0.024720176963925013, 0.17304123874747507, 0.14832106178355006, 0.6303645125800877, 0.9913994197356136, 0.0027809240385290707, 0.9442460037222922, 0.9592656678807706, 0.9438900429904389, 0.9137546635878555, 0.9124990479137522, 0.05126399145582877, 0.964943645530887, 0.9093749652194032, 0.07745465003446021, 0.00956230247339015, 0.9596246391756451, 0.014539767260237048, 0.9784330334202371, 0.9196572036107863, 0.030612722450289696, 0.04336802347124374, 0.001275530102095404, 0.9564232672463672, 0.9887149923500956, 0.002528682844885155, 0.00505736568977031, 0.9876224941484739, 0.002612757921027709, 0.0057088112426884685, 0.0742145461549501, 0.8220688189471396, 0.05708811242688469, 0.017126433728065407, 0.9844592067134262, 0.9863382297172109, 0.004251457886712115, 0.9262469148527356, 0.9292735284335546, 0.9465832782559193, 0.1122706458922611, 0.8308027796027321, 0.029938838904602957, 0.27596979938923577, 0.24050999276380322, 0.4748530626362269, 0.00616692289137957, 0.955390468240779, 0.9799901744637985, 0.9457202157618403, 0.6429534114106918, 0.22149591206492733, 0.006152664224025759, 0.009228996336038638, 0.09536629547239926, 0.012305328448051519, 0.9487628143938265, 0.9872943586477108, 0.9224640990341034, 0.20716965131432724, 0.7665277098630108, 0.16485012336707788, 0.6662692486086065, 0.13737510280589824, 0.93478634770401, 0.9333975326162575, 0.949773625260957, 0.9531615913135256, 0.9656700102672042, 0.9444775710175889, 0.9290968924137606, 0.010741004536575267, 0.037593515878013434, 0.013032856561468378, 0.019549284842202568, 0.09122999593027864, 0.8536521047761788, 0.1351115282142354, 0.010008261349202621, 0.015012392023803932, 0.1501239202380393, 0.5454502435315428, 0.09007435214282358, 0.020016522698405242, 0.020016522698405242, 0.03676064023760666, 0.9190160059401665, 0.0037503488702076595, 0.946963089727434, 0.0037503488702076595, 0.0018751744351038298, 0.005625523305311489, 0.030002790961661276, 0.9453074268021144, 0.01078404330842291, 0.9489958111412162, 0.8558339946138984, 0.08418039291284247, 0.9341309780680178, 0.9560074710823577, 0.6086300438339566, 0.38566656242943786, 0.001721725725131419, 0.9901671544742222, 0.0017160609262984786, 0.9863484970020474, 0.002810109678068511, 0.06775405349652745, 0.9033873799536993, 0.19391908928750162, 0.15023401972273479, 0.651014085465184, 0.0010654895015796792, 0.0010654895015796792, 0.960246989567312, 0.9912339464288189, 0.9637651360967788, 0.9366436875775184, 0.9308524982534147, 0.02629977092668038, 0.03825421225698964, 0.0007969627553539508, 0.0007969627553539508, 0.16009891070763965, 0.8084994990735802, 0.9712131453804672, 0.9751297167013302, 0.9471173621722193, 0.9404725661828123, 0.18636118816735234, 0.7748702034326754, 0.9373288067562254, 0.010518884463194999, 0.9466996016875499, 0.9383616478992601, 0.9684648630372126, 0.9074883027041958, 0.9854767055151294, 0.001569230422794792, 0.006276921691179168, 0.9029166811877377, 0.09088962618578551, 0.0011959161340234937, 0.9622764427829995], \"Term\": [\"0\", \"0\", \"0_intro\", \"1\", \"1\", \"1\", \"10_years\", \"16\", \"18\", \"18\", \"18\", \"19\", \"2019\", \"2020\", \"2020\", \"2021\", \"2021\", \"2021\", \"2021\", \"2022\", \"24\", \"3d\", \"3m\", \"3x\", \"5\", \"5\", \"5\", \"5\", \"5\", \"60\", \"7\", \"7\", \"8\", \"8\", \"90\", \"aapi\", \"abbott\", \"aboion\", \"accelerate\", \"accelerate\", \"accelerating\", \"account\", \"acquire\", \"across_country\", \"actions\", \"activity\", \"actor\", \"actually\", \"ad\", \"adding\", \"address\", \"address\", \"address\", \"administration\", \"administration\", \"adp\", \"adp\", \"advanced\", \"advanced\", \"advantage\", \"advantage\", \"adveising\", \"adventure\", \"adventure\", \"africa\", \"agency\", \"agreement\", \"ahead\", \"ahead\", \"ahead\", \"ahead\", \"ai\", \"aicle\", \"aim\", \"aim\", \"aimed\", \"air\", \"air\", \"air_max\", \"aircraft\", \"airline\", \"aist\", \"ale\", \"allen\", \"allow\", \"along\", \"along\", \"along\", \"along\", \"along\", \"amazing\", \"amazon\", \"amazon\", \"amazon\", \"amazon\", \"american\", \"americas\", \"america\\u2019s\", \"amgen\", \"amid\", \"amid\", \"amp\", \"amp\", \"amp\", \"amp\", \"amp\", \"amp_johnson\", \"andy\", \"anniversary\", \"announced\", \"announced\", \"announced\", \"announced\", \"announcement\", \"announces\", \"announcing\", \"answer\", \"answers\", \"anthem\", \"antitrust\", \"anyone\", \"anywhere\", \"anywhere\", \"apache\", \"app\", \"app\", \"apple\", \"apple\", \"application\", \"applications\", \"applications\", \"applications\", \"applications\", \"applications\", \"apply\", \"apply\", \"apply\", \"apply\", \"apply\", \"apply_today\", \"approach\", \"approval\", \"approved\", \"apps\", \"apr\", \"apr\", \"aren\\u2019t\", \"army\", \"around\", \"around\", \"around\", \"arrived\", \"asian\", \"asian\", \"ask\", \"asked\", \"asked\", \"asked\", \"athletes\", \"athletes\", \"athletes\", \"atlanta\", \"attack\", \"australia\", \"authorities\", \"authorization\", \"auto\", \"automotive\", \"autonation\", \"aviation\", \"awarded\", \"away\", \"away\", \"away\", \"awesome\", \"baby\", \"back\", \"back\", \"back\", \"back\", \"ban\", \"battlebots\", \"beach\", \"beat\", \"beautiful\", \"beauty\", \"became\", \"beer\", \"beginning\", \"begins\", \"best\", \"best\", \"best\", \"better\", \"better\", \"better\", \"bezos\", \"biden\", \"biden\", \"biden\", \"biden\", \"biden_administration\", \"big\", \"big\", \"big\", \"bigger\", \"billion\", \"billions\", \"black\", \"black\", \"black_women\", \"blood\", \"bloomberglive\", \"bonus\", \"bonus\", \"books\", \"bottle\", \"bowl\", \"brand\", \"brand\", \"brand\", \"brand_new\", \"bright\", \"bring\", \"bring\", \"brings\", \"brings\", \"brinknewsnow\", \"brought\", \"brought\", \"brown\", \"budget\", \"build\", \"build\", \"build\", \"business\", \"business\", \"business\", \"business\", \"businesses\", \"businesses\", \"buy\", \"buyers\", \"buying\", \"bw\", \"ca\", \"caesarsrewards\", \"california\", \"call\", \"call\", \"call\", \"call\", \"call\", \"call\", \"calls\", \"calls\", \"came\", \"camera\", \"campaign\", \"campaign\", \"cancer\", \"cancer\", \"cancer\", \"cant\", \"can\\u2019t\", \"capital\", \"capitol\", \"car\", \"car\", \"card\", \"card\", \"card\", \"card\", \"cards\", \"career\", \"career\", \"career\", \"cars\", \"cases\", \"cases\", \"cases\", \"cash\", \"cash\", \"cash\", \"cash_back\", \"cast\", \"catalyst\", \"catch\", \"catch\", \"cause\", \"cdc\", \"cdc\", \"cdw\", \"celebrate\", \"celebrate\", \"celebrated\", \"celebrates\", \"celebration\", \"celebration\", \"ceo\", \"ceo\", \"chain\", \"chair\", \"chairman_ceo\", \"challenges\", \"challenges\", \"challenging\", \"chance_win\", \"change\", \"change\", \"changes\", \"changes\", \"changes\", \"changes\", \"channels\", \"charge\", \"charging\", \"check\", \"check\", \"check\", \"check\", \"chief\", \"chief\", \"childhood\", \"choice\", \"chooseglass\", \"chooseglass\", \"choosing\", \"christmas\", \"chubb\", \"chubb\", \"cigna\", \"cisco\", \"cities\", \"cities\", \"class\", \"classic\", \"clean\", \"clean\", \"clean_energy\", \"cleaning\", \"clear\", \"click_homes\", \"clients\", \"climatechange\", \"clinical\", \"closed\", \"closer\", \"closer\", \"cloud\", \"coach\", \"coffee\", \"cofounder\", \"cognizant\", \"colleagues\", \"colleagues\", \"colleagues\", \"color\", \"color\", \"color\", \"color\", \"colors\", \"colors\", \"come\", \"come\", \"comes\", \"comfo\", \"coming\", \"comment\", \"comments\", \"commercial\", \"commercial\", \"committed\", \"committed\", \"committed\", \"committed\", \"committed\", \"committee\", \"communications\", \"communities\", \"communities\", \"community\", \"community\", \"community\", \"company\", \"company\", \"company\", \"competitive\", \"competitive\", \"competitive\", \"compliance\", \"comprehensive\", \"conditions\", \"conditions\", \"conference\", \"conference\", \"conference\", \"confidence\", \"congratulations\", \"congratulations\", \"congress\", \"connection\", \"connectivity\", \"consecutive\", \"consider\", \"construction\", \"content\", \"content\", \"content\", \"continue\", \"continue\", \"continues\", \"contributions\", \"control\", \"control\", \"control\", \"core\", \"core\", \"coronavirus\", \"coronavirus\", \"could\", \"could\", \"could\", \"could\", \"countries\", \"course\", \"course\", \"cover\", \"coverage\", \"covered\", \"covid19\", \"covid19\", \"covid19\", \"covid19\", \"covid19_pandemic\", \"covid19_vaccine\", \"covid19_vaccine\", \"covid_vaccine\", \"create\", \"create\", \"created\", \"created\", \"creating\", \"creating\", \"creating\", \"credit_card\", \"crisis\", \"crisis\", \"ct\", \"cup\", \"custom\", \"customer\", \"customer\", \"customer\", \"customer\", \"customer\", \"customer_experience\", \"cut\", \"cvs\", \"cx\", \"cybersecurity\", \"c\\u2026\", \"damage\", \"data\", \"data\", \"data\", \"data\", \"david\", \"day\", \"day\", \"day\", \"deals\", \"death\", \"debut\", \"decision\", \"dedicated\", \"dedication\", \"deep\", \"dei\", \"delicious\", \"deliver\", \"deliver\", \"delivered\", \"delivers\", \"delta\", \"delta\", \"delta_variant\", \"depot\", \"design\", \"despite\", \"despite\", \"develop\", \"developed\", \"didn\\u2019t\", \"died\", \"digital\", \"digital\", \"digital_transformation\", \"digitaltransformation\", \"digitaltransformation\", \"dining\", \"discuss\", \"discuss\", \"disease\", \"disease\", \"disney\", \"disney\", \"dive\", \"diversity\", \"diversity\", \"diversity\", \"diversity\", \"diversity_equity\", \"diversity_inclusion\", \"divide\", \"doesn\\u2019t\", \"dollar\", \"dollar\", \"done\", \"done\", \"done\", \"dont_miss\", \"don\\u2019t\", \"dose\", \"doses\", \"double\", \"dream\", \"driving\", \"driving\", \"driving\", \"drop\", \"drug\", \"drvpnk\", \"duke\", \"eah\", \"eahday\", \"earlier\", \"earn\", \"earn\", \"earned\", \"earnings\", \"earnings\", \"earnings\", \"easier\", \"easily\", \"edge\", \"edition\", \"education\", \"education\", \"education\", \"education\", \"education\", \"education\", \"education\", \"education\", \"education\", \"educators\", \"effective\", \"effective\", \"effectiveness\", \"effects\", \"efficiency\", \"effos\", \"effos\", \"election\", \"eligible\", \"emergency\", \"emergency\", \"emergency\", \"emerging\", \"employee_resource\", \"employees\", \"employees\", \"empowering\", \"enable\", \"enable\", \"enabling\", \"encourage\", \"encourage\", \"engineer\", \"engineers\", \"enough\", \"ensure\", \"enteainment\", \"environment\", \"environment\", \"environmental\", \"environmental\", \"environmental\", \"environmental\", \"epic\", \"episode\", \"episode\", \"equipment\", \"equity\", \"equity\", \"equity\", \"equity\", \"equity\", \"equity\", \"equity\", \"era\", \"eric\", \"esg\", \"esg\", \"especially\", \"especially\", \"essentials\", \"estate\", \"eu\", \"europe\", \"event\", \"ever\", \"ever\", \"ever\", \"ever\", \"ever\", \"ever\", \"everyone\", \"everything\", \"everything\", \"everything_need\", \"excited\", \"exclusive\", \"expanded\", \"expanding\", \"expansion\", \"expe\", \"expectations\", \"expected\", \"expediachat\", \"expes\", \"explain\", \"explore\", \"exploring\", \"express\", \"extended\", \"eye\", \"eyes\", \"face\", \"faces\", \"faces\", \"fact\", \"family\", \"family\", \"family\", \"family\", \"famous\", \"fan\", \"fans\", \"fans\", \"fans\", \"fashion\", \"faster\", \"faster\", \"favorite\", \"favorite\", \"favorite\", \"favorite\", \"favorite\", \"favorites\", \"fda\", \"fda\", \"feature\", \"featured\", \"featured\", \"feeling\", \"female\", \"fifth\", \"fight\", \"fight\", \"film\", \"finally\", \"financial\", \"financial\", \"find\", \"find\", \"find\", \"find\", \"finding\", \"finds\", \"finish\", \"first\", \"first\", \"first\", \"first\", \"firstever\", \"fit\", \"florida\", \"florida\", \"fly\", \"flying\", \"follow\", \"follow\", \"follow\", \"follow\", \"follow\", \"follow\", \"food\", \"foods\", \"football\", \"football\", \"footprint\", \"forbes\", \"ford\", \"forecast\", \"forever\", \"found\", \"found\", \"found\", \"found\", \"founder\", \"free\", \"free\", \"free\", \"free\", \"fresh\", \"friend\", \"friends\", \"friends\", \"friends_family\", \"front\", \"fuel\", \"fuel\", \"full\", \"fully\", \"fun\", \"funding\", \"funds\", \"futureofwork\", \"galaxy\", \"galaxy\", \"game\", \"game\", \"gaming\", \"gave\", \"gender\", \"gender\", \"generation\", \"generation\", \"generations\", \"get\", \"get\", \"get\", \"get\", \"get\", \"get\", \"get_back\", \"get_free\", \"get_ready\", \"get_staed\", \"gets\", \"getting\", \"getting\", \"getting\", \"giant\", \"gift\", \"gift\", \"gifts\", \"gifts\", \"given\", \"glass\", \"glass\", \"global\", \"global\", \"go\", \"goals\", \"goals\", \"goals\", \"goes\", \"going\", \"going\", \"goldman\", \"goldman\", \"goldman_sachs\", \"gone\", \"good\", \"good\", \"good\", \"good\", \"got\", \"got\", \"got\", \"gov\", \"grant\", \"great\", \"great\", \"greater\", \"greg\", \"growth\", \"growth\", \"growth\", \"growth\", \"growth\", \"growth\", \"gt\", \"guess\", \"guest\", \"guidance\", \"habits\", \"halloween\", \"hand\", \"hands\", \"happen\", \"happening\", \"happens\", \"happy\", \"hard\", \"hard\", \"hard\", \"hard_work\", \"harleydavidson\", \"head\", \"head\", \"headed\", \"heading\", \"heading\", \"health\", \"health\", \"healthcare\", \"healthier\", \"hear\", \"hear\", \"hear\", \"heard\", \"heat\", \"help\", \"help\", \"help\", \"help\", \"help\", \"help_build\", \"help_get\", \"help_us\", \"helping\", \"helping\", \"here\\u2019s\", \"here\\u2019s\", \"heritage\", \"heritage\", \"heroes\", \"hey\", \"highlights\", \"highspeed\", \"hispanicheritagemonth\", \"hiv\", \"hold\", \"holiday_season\", \"holiday_season\", \"holidays\", \"home\", \"home\", \"home\", \"home\", \"home\", \"home\", \"home_depot\", \"homes\", \"homes\", \"hong\", \"hong\", \"hong_kong\", \"honor\", \"honor\", \"honored\", \"honoring\", \"hospital\", \"host\", \"host\", \"host\", \"hosted\", \"hotel\", \"hour\", \"hour\", \"hp\", \"hr\", \"huge\", \"human\", \"human\", \"hundreds\", \"hurricane\", \"hybrid\", \"ibm\", \"ice\", \"idea\", \"ig\", \"illness\", \"im\", \"imagine\", \"impact\", \"impacted\", \"impoance\", \"improve\", \"improve\", \"improve\", \"improve\", \"improve\", \"improving\", \"include\", \"included\", \"includes\", \"inclusion\", \"inclusion\", \"inclusion\", \"inclusion\", \"inclusive\", \"inclusive\", \"inclusive\", \"increased\", \"increasingly\", \"incredible\", \"independent\", \"india\", \"industries\", \"industry\", \"industry\", \"inflation\", \"info\", \"initiatives\", \"innovation\", \"innovative\", \"insight\", \"insights\", \"inspiration\", \"inspired\", \"inspired\", \"inspired\", \"inspired\", \"inspired\", \"inspired\", \"instagram\", \"instead\", \"instore\", \"insurance\", \"insurance\", \"insurance\", \"integrated\", \"intelligence\", \"international\", \"international\", \"interview\", \"interview\", \"intro\", \"intro\", \"intro_apr\", \"intro_apr\", \"introduce\", \"investigation\", \"investment\", \"iphone\", \"isnt\", \"isn\\u2019t\", \"isn\\u2019t\", \"isn\\u2019t\", \"issue\", \"issue\", \"items\", \"items\", \"it\\u2019s\", \"it\\u2019s\", \"it\\u2019s\", \"i\\u2019m\", \"i\\u2019m\", \"jabil\", \"jan\", \"january\", \"jeff\", \"jeff_bezos\", \"job\", \"job\", \"job\", \"job\", \"job\", \"jobs\", \"jobs\", \"joe\", \"johnson\", \"johnson_amp\", \"join\", \"join\", \"join\", \"join_citi\", \"join_us\", \"joins\", \"joins\", \"joshuagates\", \"journey\", \"key\", \"key\", \"kids\", \"kids\", \"kids\", \"kind\", \"kitchen\", \"kkr\", \"kkr\", \"know\", \"know\", \"know\", \"know\", \"known\", \"knows\", \"kong\", \"lab\", \"lake\", \"laptop\", \"laptops\", \"large\", \"large\", \"large\", \"largest\", \"largest\", \"largest\", \"largest\", \"last\", \"latest\", \"latest\", \"latest\", \"latest\", \"latest_episode\", \"launched\", \"lawsuit\", \"leadership\", \"leadership\", \"leads\", \"learn\", \"learn\", \"learn\", \"learn\", \"learn\", \"learned\", \"learned\", \"lessons\", \"let\", \"let\", \"let\", \"let\", \"let\", \"let_us\", \"lets\", \"lets\", \"let\\u2019s\", \"let\\u2019s\", \"let\\u2019s\", \"levels\", \"lgbtq\", \"lgbtq\", \"life\", \"life\", \"lighting\", \"like\", \"like\", \"like\", \"like\", \"like\", \"lincoln\", \"lines\", \"lines\", \"link\", \"link\", \"link\", \"little\", \"live\", \"live\", \"lives\", \"loan\", \"london\", \"long\", \"longer\", \"look_like\", \"looking\", \"looking\", \"looks\", \"looks\", \"looks\", \"looks_like\", \"loss\", \"love\", \"love\", \"love\", \"loved\", \"loved_ones\", \"lower\", \"lower\", \"luck\", \"lucky\", \"machine\", \"machines\", \"main\", \"main\", \"maintenance\", \"make\", \"make\", \"make\", \"make\", \"make_sure\", \"makes\", \"man\", \"man\", \"manage\", \"management\", \"managing\", \"mandate\", \"manufacturers\", \"manufacturing\", \"markets\", \"marks\", \"marvel\", \"mask\", \"masks\", \"massive\", \"mastercard\", \"materials\", \"materials\", \"max\", \"max\", \"max\", \"maximize\", \"may\", \"may\", \"mcdonalds\", \"mcdonald\\u2019s\", \"mcgrawhillk12\", \"meal\", \"meals\", \"means\", \"media\", \"media\", \"medical\", \"meet\", \"meeting\", \"member\", \"member\", \"member\", \"memory\", \"men\", \"menu\", \"merck\", \"met\", \"mhhighered\", \"middle\", \"mind\", \"missed\", \"missed\", \"missing\", \"model\", \"model\", \"models\", \"modern\", \"modern\", \"moment\", \"moms\", \"month\", \"month\", \"month\", \"month\", \"month\", \"month\", \"monthly\", \"morning\", \"movement\", \"movie\", \"movie\", \"movies\", \"moving\", \"moving\", \"music\", \"music\", \"must\", \"must\", \"m\\u2026\", \"name\", \"name\", \"nasa\", \"nascar\", \"national_anthem\", \"nationwide\", \"nationwide\", \"natural\", \"nature\", \"navigate\", \"needs\", \"needs\", \"net\", \"netapp\", \"netflix\", \"netflix\", \"netflix\", \"netflix\", \"netflix\", \"netflixfilm\", \"network\", \"networks\", \"never\", \"never\", \"never\", \"new\", \"new\", \"new\", \"new\", \"new\", \"new\", \"new_mymcdonalds\", \"new_year\", \"new_york\", \"newest\", \"news\", \"news\", \"news\", \"news\", \"news\", \"next\", \"next\", \"next\", \"next\", \"next\", \"next\", \"next_generation\", \"next_week\", \"nfl\", \"nfl\", \"nfl\", \"nice\", \"night\", \"nike\", \"nothing\", \"nothing\", \"november\", \"november\", \"nyc\", \"offering\", \"offering\", \"offering\", \"offering\", \"officer\", \"offices\", \"official\", \"official\", \"officials\", \"officials\", \"often\", \"often\", \"of\\u2026\", \"oh\", \"olympic\", \"olympics\", \"omicron\", \"ondemand\", \"one\", \"one\", \"one\", \"one\", \"online\", \"online\", \"online\", \"online\", \"open\", \"open\", \"open\", \"operational\", \"operational\", \"opinion\", \"option\", \"oraclelive\", \"order\", \"organizations\", \"organizations\", \"organizations\", \"organizations\", \"organizations\", \"organized\", \"outage\", \"outcomes\", \"outlook\", \"outside\", \"owners\", \"pa\", \"pa\", \"pa\", \"package\", \"packaging\", \"page\", \"paicipate\", \"paid\", \"paint\", \"pandemic\", \"pandemic\", \"paner\", \"paner\", \"panered\", \"panering\", \"panerships\", \"paper\", \"paper\", \"paralympic\", \"paralympic\", \"paralympic_athletes\", \"parents\", \"parents\", \"park\", \"pas\", \"pass\", \"passion\", \"past_year\", \"patient\", \"patients\", \"paying\", \"paying\", \"payment\", \"perfect\", \"perfect\", \"perfect\", \"perfect\", \"performance\", \"perspective\", \"pet\", \"pfizer\", \"pfizer\", \"phone\", \"photos\", \"physical\", \"picks\", \"pickup\", \"pickup\", \"picture\", \"pizza\", \"planet\", \"plant\", \"plant\", \"plastic\", \"platinum\", \"play\", \"player\", \"players\", \"playing\", \"podcast\", \"podcast\", \"podcast\", \"point\", \"police\", \"police\", \"police\", \"policies\", \"post\", \"potd\", \"powered\", \"powered\", \"practices\", \"practices\", \"premiere\", \"premieres\", \"premium\", \"preorder\", \"prepare\", \"prepare\", \"prepare\", \"prepared\", \"preparing\", \"present\", \"presented\", \"presented\", \"presents\", \"president_biden\", \"press\", \"pressure\", \"pretty\", \"prevent\", \"pridemonth\", \"prime\", \"prime\", \"priorities\", \"privacy\", \"private\", \"private\", \"private\", \"private\", \"pro\", \"problem\", \"problems\", \"problems\", \"productive\", \"productivity\", \"professional\", \"professionals\", \"programs\", \"programs\", \"progressive\", \"project\", \"promise\", \"protection\", \"protection\", \"provide\", \"provide\", \"provider\", \"providers\", \"public\", \"public\", \"public\", \"public\", \"public\", \"public\", \"public\", \"put\", \"put\", \"put\", \"putting\", \"putting\", \"q2\", \"quaer\", \"quaer\", \"quality\", \"quality\", \"quality\", \"question\", \"questions\", \"questions\", \"questions\", \"questions\", \"quick\", \"race\", \"race\", \"race\", \"raise\", \"raise\", \"raise\", \"raised\", \"raising\", \"rally\", \"rates\", \"read\", \"read\", \"read\", \"read\", \"read_full\", \"ready\", \"ready\", \"ready\", \"ready\", \"ready\", \"real_estate\", \"recent\", \"recently\", \"recently\", \"recently\", \"recipe\", \"recognition\", \"recognized\", \"recommend\", \"record\", \"recovery\", \"recycling\", \"red\", \"reduce\", \"reducing\", \"reducing\", \"region\", \"register\", \"register\", \"rely\", \"remains\", \"remember\", \"remember\", \"repo\", \"repos\", \"repos\", \"require\", \"required\", \"research\", \"research\", \"researchers\", \"resource\", \"resource_group\", \"respond\", \"response\", \"response\", \"responsibility\", \"rest\", \"restaurant\", \"results\", \"results\", \"results\", \"retailers\", \"retirement\", \"return\", \"return\", \"revenue\", \"review\", \"rewards\", \"rich\", \"rights\", \"rights\", \"rise\", \"rise\", \"road\", \"road\", \"road\", \"rokautomation\", \"room\", \"room\", \"room\", \"rose\", \"round\", \"runs\", \"sachs\", \"safe\", \"safer\", \"safety\", \"safety\", \"safety\", \"safety\", \"safety\", \"safety\", \"said\", \"salesforce\", \"samsung\", \"samsung\", \"sarscov2\", \"sat\", \"saturday\", \"saturday\", \"save\", \"save\", \"save\", \"saw\", \"saying\", \"says\", \"says\", \"says\", \"says\", \"says\", \"says\", \"school\", \"schools\", \"schools\", \"scott\", \"season\", \"season_2\", \"seat\", \"seats\", \"sector\", \"sector\", \"security\", \"security\", \"security\", \"see\", \"see\", \"see\", \"see\", \"see\", \"see_click\", \"seeing\", \"seeking\", \"select\", \"selected\", \"sense\", \"september\", \"serious\", \"session\", \"sets\", \"several\", \"severe\", \"shape\", \"shape\", \"share\", \"share\", \"shares\", \"shares\", \"sharing\", \"sharing\", \"sharing\", \"sharing\", \"sharkweek\", \"she\\u2019s\", \"shop\", \"shopping\", \"shot\", \"shot\", \"shot\", \"shots\", \"signs\", \"signs\", \"since\", \"sites\", \"six\", \"six\", \"six\", \"skin\", \"slow\", \"sma\", \"sma\", \"smaer\", \"small_business\", \"small_businesses\", \"smile\", \"snapdragon\", \"social_media\", \"society\", \"software\", \"software\", \"software\", \"solutions\", \"solutions_help\", \"solve\", \"someone\", \"something\", \"something\", \"something\", \"something\", \"sometimes\", \"song\", \"soon\", \"sound\", \"source\", \"space\", \"speak\", \"special\", \"speed\", \"speed\", \"speed\", \"spend\", \"spent\", \"spirit\", \"spo\", \"spoke\", \"spoke\", \"spoke\", \"sponsor\", \"sponsor\", \"sponsor\", \"spos\", \"spos\", \"spos\", \"spot\", \"spring\", \"sta\", \"sta\", \"sta\", \"staed\", \"staed\", \"staff\", \"staing\", \"star\", \"star\", \"star\", \"star\", \"starbucks\", \"statement\", \"stay\", \"staying\", \"steve\", \"still\", \"still\", \"stocks\", \"stop\", \"stop\", \"stop\", \"store\", \"store\", \"storm\", \"strategies\", \"strategy\", \"strategy\", \"strategy\", \"strategy\", \"strategy\", \"streaming_disneyplus\", \"student\", \"students\", \"students\", \"study\", \"style\", \"success\", \"successful\", \"summer\", \"summit\", \"sunday\", \"super\", \"super\", \"super\", \"suppliers\", \"supply_chain\", \"suppo\", \"suppo\", \"suppo\", \"suppoed\", \"suppoing\", \"suppoing\", \"suppoing\", \"suppoing_year\\u2019s\", \"suppos\", \"surface\", \"sustainability\", \"sustainable_future\", \"sweepstakes\", \"sweet\", \"systems\", \"systems\", \"systems\", \"systems\", \"systems\", \"s\\u2026\", \"table\", \"tag\", \"tag\", \"take\", \"take\", \"take\", \"take\", \"take_look\", \"take_look\", \"takes\", \"talent\", \"talking\", \"talks\", \"talksatgs\", \"target\", \"tax\", \"team\", \"team\", \"team_members\", \"teamoftomorrow\", \"teams\", \"teams\", \"teams\", \"teamusa\", \"teamusa\", \"tech\", \"tech\", \"technology\", \"technology\", \"technology\", \"technology\", \"tell\", \"tell_us\", \"terms\", \"terms\", \"testing\", \"testing\", \"testing\", \"tests\", \"texas\", \"thank\", \"thank\", \"thank\", \"thanks\", \"thanksgiving\", \"that\\u2019s\", \"that\\u2019s\", \"theaters\", \"theyre\", \"theyre\", \"theyre\", \"they\\u2019re\", \"the\\u2026\", \"thing\", \"thing\", \"though\", \"thought\", \"threat\", \"thrilled\", \"thrilled\", \"thrive\", \"thrive\", \"throughout\", \"throughout\", \"throughout\", \"throughout\", \"throughout\", \"tiaa\", \"time\", \"time\", \"time\", \"time\", \"times\", \"times\", \"tip\", \"tips\", \"tips\", \"today\", \"today\", \"today\", \"today\", \"today_announced\", \"together\", \"tokyo\", \"tokyo\", \"tokyoolympics\", \"tomorrow\", \"tonight\", \"tool\", \"top\", \"top\", \"tough\", \"tour\", \"toys\", \"to\\u2026\", \"track\", \"track\", \"track\", \"track\", \"trade\", \"transformation\", \"transforming\", \"transition\", \"transition\", \"transpoation\", \"travel\", \"travel\", \"travel\", \"travel\", \"travel\", \"travel\", \"treat\", \"treat\", \"treatment\", \"treatment\", \"tree\", \"trend\", \"trial\", \"trials\", \"true\", \"true\", \"trump\", \"trust\", \"try\", \"try\", \"tuesday\", \"tune\", \"turning\", \"turns\", \"two\", \"two\", \"two\", \"type\", \"t\\u2026\", \"unexpected\", \"united_states\", \"unprecedented\", \"upcoming\", \"upcoming\", \"updates\", \"updates\", \"updates\", \"ups\", \"us\", \"us\", \"us\", \"us\", \"users\", \"vacation\", \"vaccination\", \"vaccination\", \"vaccine\", \"vaccine\", \"vaccine\", \"variant\", \"variant\", \"vegas\", \"vehicle\", \"vehicle\", \"vehicles\", \"vehicles\", \"verizon\", \"verizon\", \"verizon\", \"veterans\", \"via\", \"via\", \"via\", \"via\", \"via\", \"via_bw\", \"vibes\", \"victory\", \"videos\", \"view\", \"view\", \"vision\", \"visit\", \"vital\", \"viual\", \"voice\", \"voice\", \"voting\", \"voting\", \"wait\", \"walgreens\", \"walk\", \"walk\", \"wall\", \"walma\", \"walma\", \"walma\", \"walma\", \"want\", \"want\", \"wanted\", \"wants\", \"warm\", \"warning\", \"washington\", \"washington\", \"waste\", \"watch\", \"watch\", \"watch\", \"watching\", \"watching\", \"water\", \"way\", \"way\", \"way\", \"way\", \"wealth\", \"week\", \"week\", \"week\", \"weekend\", \"weekend\", \"weeks\", \"weeks\", \"weeks\", \"weeks\", \"weeks\", \"welcome\", \"well\", \"well\", \"wellbeing\", \"wellsfargo\", \"west\", \"we\\u2019ll\", \"we\\u2019ll\", \"we\\u2019ll\", \"we\\u2019re\", \"we\\u2019re\", \"we\\u2019re\", \"we\\u2019re\", \"we\\u2019re_celebrating\", \"we\\u2019re_proud\", \"we\\u2019re_working\", \"we\\u2019ve\", \"we\\u2019ve\", \"we\\u2019ve\", \"we\\u2019ve\", \"we\\u2019ve\", \"we\\u2019ve\", \"we\\u2019ve_got\", \"what\\u2019s\", \"wherever\", \"white\", \"white\", \"whole\", \"whole\", \"whole\", \"wide\", \"wild\", \"wind\", \"windows\", \"winner\", \"wins\", \"winter\", \"winter\", \"winter\", \"within\", \"within\", \"within\", \"within\", \"without\", \"without\", \"without\", \"without\", \"without\", \"without\", \"without\", \"without\", \"woman\", \"woman\", \"women\", \"women\", \"women\", \"women\", \"women\", \"women\", \"womens\", \"womenshistorymonth\", \"womenshistorymonth\", \"women\\u2019s\", \"women\\u2019s\", \"won\\u2019t\", \"words\", \"work\", \"work\", \"work\", \"working\", \"working\", \"workplace\", \"workplace\", \"works\", \"works\", \"world\", \"world\", \"world\", \"world\", \"world\", \"worldwide\", \"would\", \"writes\", \"wrong\", \"year\", \"year\", \"year\", \"year\", \"year\", \"yes\", \"yes\", \"yet\", \"york\", \"youll\", \"youth\", \"youtube\", \"youtube\", \"youve\", \"you\\u2019ve\", \"you\\u2019ve\", \"z\", \"zero\", \"zoom\", \"\\u2013\", \"\\u2013\", \"\\u2013\", \"\\u2014\", \"\\u2014\", \"\\u2014\", \"\\u2026\"]}, \"R\": 30, \"lambda.step\": 0.01, \"plot.opts\": {\"xlab\": \"PC1\", \"ylab\": \"PC2\"}, \"topic.order\": [28, 32, 8, 11, 21, 14, 5, 1, 19, 24, 20, 6, 18, 31, 3, 29, 12, 2, 27, 4, 16, 23, 10, 26, 22, 30, 13, 15, 25, 7, 9, 17]};\n",
       "\n",
       "function LDAvis_load_lib(url, callback){\n",
       "  var s = document.createElement('script');\n",
       "  s.src = url;\n",
       "  s.async = true;\n",
       "  s.onreadystatechange = s.onload = callback;\n",
       "  s.onerror = function(){console.warn(\"failed to load library \" + url);};\n",
       "  document.getElementsByTagName(\"head\")[0].appendChild(s);\n",
       "}\n",
       "\n",
       "if(typeof(LDAvis) !== \"undefined\"){\n",
       "   // already loaded: just create the visualization\n",
       "   !function(LDAvis){\n",
       "       new LDAvis(\"#\" + \"ldavis_el4284426724165546722596146401\", ldavis_el4284426724165546722596146401_data);\n",
       "   }(LDAvis);\n",
       "}else if(typeof define === \"function\" && define.amd){\n",
       "   // require.js is available: use it to load d3/LDAvis\n",
       "   require.config({paths: {d3: \"https://d3js.org/d3.v5\"}});\n",
       "   require([\"d3\"], function(d3){\n",
       "      window.d3 = d3;\n",
       "      LDAvis_load_lib(\"https://cdn.jsdelivr.net/gh/bmabey/pyLDAvis@3.3.1/pyLDAvis/js/ldavis.v3.0.0.js\", function(){\n",
       "        new LDAvis(\"#\" + \"ldavis_el4284426724165546722596146401\", ldavis_el4284426724165546722596146401_data);\n",
       "      });\n",
       "    });\n",
       "}else{\n",
       "    // require.js not available: dynamically load d3 & LDAvis\n",
       "    LDAvis_load_lib(\"https://d3js.org/d3.v5.js\", function(){\n",
       "         LDAvis_load_lib(\"https://cdn.jsdelivr.net/gh/bmabey/pyLDAvis@3.3.1/pyLDAvis/js/ldavis.v3.0.0.js\", function(){\n",
       "                 new LDAvis(\"#\" + \"ldavis_el4284426724165546722596146401\", ldavis_el4284426724165546722596146401_data);\n",
       "            })\n",
       "         });\n",
       "}\n",
       "</script>"
      ],
      "text/plain": [
       "<IPython.core.display.HTML object>"
      ]
     },
     "execution_count": 46,
     "metadata": {},
     "output_type": "execute_result"
    }
   ],
   "source": [
    "vis_data = gensimvis.prepare(lda_m6,ldacorpus_m6,id2word_m6)\n",
    "pyLDAvis.display(vis_data)"
   ]
  },
  {
   "cell_type": "code",
   "execution_count": 47,
   "id": "informed-bullet",
   "metadata": {},
   "outputs": [
    {
     "name": "stderr",
     "output_type": "stream",
     "text": [
      "c:\\users\\tuski\\appdata\\local\\programs\\python\\python39\\lib\\site-packages\\ipykernel\\ipkernel.py:283: DeprecationWarning: `should_run_async` will not call `transform_cell` automatically in the future. Please pass the result to `transformed_cell` argument and any exception that happen during thetransform in `preprocessing_exc_tuple` in IPython 7.17 and above.\n",
      "  and should_run_async(code)\n"
     ]
    },
    {
     "name": "stdout",
     "output_type": "stream",
     "text": [
      "-15.001688851543307\n"
     ]
    }
   ],
   "source": [
    "cm_m6 = models.CoherenceModel(model=lda_m6, corpus=tfidfcorpus_m6[ldacorpus_m6], coherence='u_mass')\n",
    "co_m6 = cm_m6.get_coherence()\n",
    "print(co_m6)"
   ]
  },
  {
   "cell_type": "code",
   "execution_count": 48,
   "id": "improved-acrobat",
   "metadata": {},
   "outputs": [
    {
     "name": "stdout",
     "output_type": "stream",
     "text": [
      "[-11.821026159666355, -15.858419172842419, -18.144518608282876, -15.518436898488309, -12.808527551075143, -18.202849299995, -17.104555983041088, -4.45708473921542, -17.467665926849733, -17.430818451746248, -7.293302325650943, -17.31377748167374, -19.30254612232194, -9.67518780781206, -18.071881186450284, -17.004180729801465, -18.44729027616769, -18.764512657631055, -16.465391683199815, -16.378431634631774, -7.483799276169362, -17.700094928105898, -17.780330718363306, -18.02362261869553, -18.24114005113158, -17.061614472210817, -17.413365748313065, -3.4186573982628703, -17.280742512377433, -17.30411386276515, -16.994527463622678, -3.8216295028247558]\n"
     ]
    },
    {
     "name": "stderr",
     "output_type": "stream",
     "text": [
      "c:\\users\\tuski\\appdata\\local\\programs\\python\\python39\\lib\\site-packages\\ipykernel\\ipkernel.py:283: DeprecationWarning: `should_run_async` will not call `transform_cell` automatically in the future. Please pass the result to `transformed_cell` argument and any exception that happen during thetransform in `preprocessing_exc_tuple` in IPython 7.17 and above.\n",
      "  and should_run_async(code)\n"
     ]
    }
   ],
   "source": [
    "a= cm_m6.get_coherence_per_topic()\n",
    "print(a)"
   ]
  },
  {
   "cell_type": "code",
   "execution_count": 58,
   "id": "random-butterfly",
   "metadata": {
    "scrolled": true
   },
   "outputs": [
    {
     "name": "stdout",
     "output_type": "stream",
     "text": [
      "Final Topics:\n"
     ]
    },
    {
     "name": "stderr",
     "output_type": "stream",
     "text": [
      "c:\\users\\tuski\\appdata\\local\\programs\\python\\python39\\lib\\site-packages\\ipykernel\\ipkernel.py:283: DeprecationWarning: `should_run_async` will not call `transform_cell` automatically in the future. Please pass the result to `transformed_cell` argument and any exception that happen during thetransform in `preprocessing_exc_tuple` in IPython 7.17 and above.\n",
      "  and should_run_async(code)\n"
     ]
    },
    {
     "data": {
      "text/plain": [
       "[(0,\n",
       "  '0.020*\"travel\" + 0.020*\"news\" + 0.020*\"save\" + 0.019*\"got\" + 0.014*\"little\" + 0.013*\"ahead\" + 0.013*\"fun\" + 0.013*\"international\" + 0.011*\"winter\" + 0.011*\"try\"'),\n",
       " (1,\n",
       "  '0.022*\"podcast\" + 0.015*\"talks\" + 0.014*\"clean\" + 0.014*\"true\" + 0.014*\"weeks\" + 0.012*\"gets\" + 0.012*\"david\" + 0.012*\"natural\" + 0.011*\"conference\" + 0.011*\"white\"'),\n",
       " (2,\n",
       "  '0.014*\"software\" + 0.010*\"fully\" + 0.010*\"salesforce\" + 0.009*\"biden\" + 0.008*\"tax\" + 0.008*\"samsung\" + 0.008*\"platinum\" + 0.008*\"the…\" + 0.008*\"intro\" + 0.007*\"sometimes\"'),\n",
       " (3,\n",
       "  '0.018*\"generation\" + 0.017*\"something\" + 0.013*\"updates\" + 0.012*\"wait\" + 0.012*\"next_generation\" + 0.012*\"applications\" + 0.012*\"cisco\" + 0.011*\"grant\" + 0.011*\"joins\" + 0.011*\"cant\"'),\n",
       " (4,\n",
       "  '0.017*\"growth\" + 0.015*\"texas\" + 0.014*\"honor\" + 0.013*\"we’re_proud\" + 0.013*\"tonight\" + 0.012*\"water\" + 0.011*\"education\" + 0.010*\"honored\" + 0.010*\"environment\" + 0.010*\"results\"'),\n",
       " (5,\n",
       "  '0.013*\"coffee\" + 0.011*\"giant\" + 0.011*\"cash\" + 0.010*\"cash_back\" + 0.009*\"finding\" + 0.009*\"packaging\" + 0.009*\"bw\" + 0.009*\"private\" + 0.009*\"restaurant\" + 0.009*\"olympic\"'),\n",
       " (6,\n",
       "  '0.021*\"let\" + 0.011*\"ig\" + 0.011*\"follow\" + 0.011*\"along\" + 0.011*\"efficiency\" + 0.010*\"throughout\" + 0.010*\"wanted\" + 0.010*\"resource\" + 0.010*\"intelligence\" + 0.009*\"consider\"'),\n",
       " (7,\n",
       "  '0.013*\"covid19\" + 0.009*\"pa\" + 0.009*\"we’re\" + 0.009*\"world\" + 0.009*\"community\" + 0.008*\"great\" + 0.008*\"help\" + 0.008*\"good\" + 0.008*\"better\" + 0.008*\"together\"'),\n",
       " (8,\n",
       "  '0.019*\"goldman\" + 0.017*\"music\" + 0.015*\"sachs\" + 0.015*\"goldman_sachs\" + 0.014*\"anyone\" + 0.012*\"often\" + 0.012*\"changes\" + 0.012*\"rise\" + 0.012*\"student\" + 0.011*\"issue\"'),\n",
       " (9,\n",
       "  '0.016*\"sharing\" + 0.014*\"media\" + 0.014*\"testing\" + 0.012*\"lab\" + 0.012*\"modern\" + 0.011*\"expediachat\" + 0.011*\"wants\" + 0.011*\"joe\" + 0.010*\"holiday_season\" + 0.009*\"inspiration\"'),\n",
       " (10,\n",
       "  '0.015*\"shop\" + 0.012*\"big\" + 0.012*\"says\" + 0.011*\"thank\" + 0.011*\"app\" + 0.010*\"online\" + 0.010*\"favorite\" + 0.009*\"via\" + 0.009*\"coming\" + 0.008*\"air\"'),\n",
       " (11,\n",
       "  '0.024*\"everything\" + 0.016*\"glass\" + 0.014*\"chooseglass\" + 0.012*\"kitchen\" + 0.011*\"fans\" + 0.011*\"spoke\" + 0.011*\"loved\" + 0.011*\"return\" + 0.010*\"protection\" + 0.010*\"inclusion\"'),\n",
       " (12,\n",
       "  '0.013*\"panering\" + 0.012*\"india\" + 0.012*\"…\" + 0.012*\"lawsuit\" + 0.010*\"include\" + 0.009*\"given\" + 0.009*\"activity\" + 0.009*\"chubb\" + 0.009*\"point\" + 0.008*\"adveising\"'),\n",
       " (13,\n",
       "  '0.025*\"vaccine\" + 0.015*\"pfizer\" + 0.014*\"covid19_vaccine\" + 0.014*\"research\" + 0.012*\"improve\" + 0.011*\"organizations\" + 0.011*\"recently\" + 0.010*\"creating\" + 0.010*\"shot\" + 0.010*\"study\"'),\n",
       " (14,\n",
       "  '0.015*\"thing\" + 0.014*\"7\" + 0.013*\"walma\" + 0.012*\"get_ready\" + 0.012*\"red\" + 0.012*\"athletes\" + 0.012*\"new_year\" + 0.011*\"construction\" + 0.010*\"adventure\" + 0.010*\"kkr\"'),\n",
       " (15,\n",
       "  '0.015*\"faster\" + 0.014*\"film\" + 0.014*\"looks\" + 0.013*\"watching\" + 0.012*\"recovery\" + 0.011*\"powered\" + 0.011*\"without\" + 0.009*\"drop\" + 0.009*\"featured\" + 0.009*\"playing\"'),\n",
       " (16,\n",
       "  '0.013*\"ford\" + 0.012*\"post\" + 0.012*\"thrive\" + 0.012*\"interview\" + 0.010*\"communications\" + 0.010*\"large\" + 0.010*\"providers\" + 0.009*\"adp\" + 0.009*\"engineers\" + 0.009*\"type\"'),\n",
       " (17,\n",
       "  '0.017*\"hard\" + 0.012*\"phone\" + 0.012*\"holidays\" + 0.012*\"tuesday\" + 0.011*\"job\" + 0.011*\"launched\" + 0.011*\"retailers\" + 0.011*\"christmas\" + 0.010*\"mcgrawhillk12\" + 0.010*\"storm\"'),\n",
       " (18,\n",
       "  '0.014*\"human\" + 0.013*\"systems\" + 0.012*\"earnings\" + 0.012*\"ensure\" + 0.011*\"pro\" + 0.010*\"meeting\" + 0.010*\"treatment\" + 0.010*\"iphone\" + 0.010*\"effective\" + 0.009*\"newest\"'),\n",
       " (19,\n",
       "  '0.034*\"johnson\" + 0.017*\"johnson_amp\" + 0.016*\"tell\" + 0.015*\"amp_johnson\" + 0.013*\"talent\" + 0.011*\"prepare\" + 0.011*\"decision\" + 0.011*\"repos\" + 0.011*\"programs\" + 0.011*\"productivity\"'),\n",
       " (20,\n",
       "  '0.017*\"women\" + 0.017*\"family\" + 0.015*\"shares\" + 0.015*\"security\" + 0.014*\"cloud\" + 0.014*\"discuss\" + 0.012*\"needs\" + 0.011*\"build\" + 0.011*\"safety\" + 0.010*\"effos\"'),\n",
       " (21,\n",
       "  '0.016*\"sma\" + 0.014*\"make_sure\" + 0.014*\"road\" + 0.013*\"morning\" + 0.013*\"works\" + 0.012*\"speed\" + 0.012*\"depot\" + 0.011*\"home_depot\" + 0.011*\"confidence\" + 0.011*\"founder\"'),\n",
       " (22,\n",
       "  '0.014*\"vision\" + 0.013*\"within\" + 0.012*\"spend\" + 0.012*\"driving\" + 0.011*\"became\" + 0.011*\"europe\" + 0.010*\"movie\" + 0.010*\"huge\" + 0.010*\"feature\" + 0.009*\"crisis\"'),\n",
       " (23,\n",
       "  '0.011*\"movies\" + 0.011*\"wall\" + 0.010*\"name\" + 0.010*\"response\" + 0.009*\"easier\" + 0.009*\"they’re\" + 0.009*\"summit\" + 0.007*\"wealth\" + 0.007*\"you’ve\" + 0.007*\"covid19_pandemic\"'),\n",
       " (24,\n",
       "  '0.015*\"see_click\" + 0.015*\"homes\" + 0.013*\"anywhere\" + 0.013*\"room\" + 0.013*\"clear\" + 0.009*\"vegas\" + 0.008*\"opinion\" + 0.008*\"to…\" + 0.008*\"song\" + 0.008*\"anthem\"'),\n",
       " (25,\n",
       "  '0.014*\"zero\" + 0.014*\"race\" + 0.013*\"lgbtq\" + 0.013*\"color\" + 0.012*\"transformation\" + 0.012*\"t…\" + 0.011*\"tour\" + 0.011*\"official\" + 0.011*\"cities\" + 0.010*\"quality\"'),\n",
       " (26,\n",
       "  '0.018*\"committed\" + 0.017*\"moment\" + 0.013*\"call\" + 0.013*\"continues\" + 0.011*\"classic\" + 0.011*\"we’ll\" + 0.010*\"stocks\" + 0.010*\"man\" + 0.009*\"society\" + 0.009*\"colleagues\"'),\n",
       " (27,\n",
       "  '0.014*\"new\" + 0.014*\"us\" + 0.010*\"one\" + 0.010*\"get\" + 0.009*\"day\" + 0.009*\"amp\" + 0.009*\"like\" + 0.009*\"year\" + 0.008*\"time\" + 0.008*\"see\"'),\n",
       " (28,\n",
       "  '0.013*\"chain\" + 0.012*\"doses\" + 0.011*\"small_business\" + 0.011*\"supply_chain\" + 0.010*\"small_businesses\" + 0.010*\"raise\" + 0.010*\"hey\" + 0.010*\"found\" + 0.009*\"spos\" + 0.009*\"estate\"'),\n",
       " (29,\n",
       "  '0.013*\"planet\" + 0.012*\"edge\" + 0.011*\"dedicated\" + 0.011*\"successful\" + 0.010*\"aicle\" + 0.010*\"track\" + 0.010*\"accelerate\" + 0.010*\"safer\" + 0.009*\"football\" + 0.009*\"ca\"'),\n",
       " (30,\n",
       "  '0.015*\"york\" + 0.015*\"new_york\" + 0.013*\"someone\" + 0.012*\"yet\" + 0.011*\"verizon\" + 0.011*\"rates\" + 0.011*\"inclusive\" + 0.011*\"equity\" + 0.010*\"saturday\" + 0.010*\"winner\"'),\n",
       " (31,\n",
       "  '0.010*\"learn\" + 0.010*\"first\" + 0.010*\"watch\" + 0.009*\"health\" + 0.009*\"latest\" + 0.009*\"live\" + 0.009*\"data\" + 0.008*\"team\" + 0.008*\"digital\" + 0.008*\"2021\"')]"
      ]
     },
     "execution_count": 58,
     "metadata": {},
     "output_type": "execute_result"
    }
   ],
   "source": [
    "print (\"Final Topics:\")\n",
    "topics"
   ]
  },
  {
   "cell_type": "code",
   "execution_count": 61,
   "id": "random-andorra",
   "metadata": {},
   "outputs": [
    {
     "name": "stderr",
     "output_type": "stream",
     "text": [
      "c:\\users\\tuski\\appdata\\local\\programs\\python\\python39\\lib\\site-packages\\ipykernel\\ipkernel.py:283: DeprecationWarning: `should_run_async` will not call `transform_cell` automatically in the future. Please pass the result to `transformed_cell` argument and any exception that happen during thetransform in `preprocessing_exc_tuple` in IPython 7.17 and above.\n",
      "  and should_run_async(code)\n"
     ]
    }
   ],
   "source": [
    "# save topics\n",
    "df = pd.DataFrame(topics)\n",
    "\n",
    "df.to_excel('try_lda.xlsx')"
   ]
  },
  {
   "cell_type": "code",
   "execution_count": 52,
   "id": "skilled-cameroon",
   "metadata": {},
   "outputs": [
    {
     "name": "stderr",
     "output_type": "stream",
     "text": [
      "c:\\users\\tuski\\appdata\\local\\programs\\python\\python39\\lib\\site-packages\\ipykernel\\ipkernel.py:283: DeprecationWarning: `should_run_async` will not call `transform_cell` automatically in the future. Please pass the result to `transformed_cell` argument and any exception that happen during thetransform in `preprocessing_exc_tuple` in IPython 7.17 and above.\n",
      "  and should_run_async(code)\n"
     ]
    }
   ],
   "source": [
    "scoresperdoc=lda_m6.inference(ldacorpus_m6)"
   ]
  },
  {
   "cell_type": "code",
   "execution_count": 53,
   "id": "assisted-gibraltar",
   "metadata": {},
   "outputs": [
    {
     "name": "stderr",
     "output_type": "stream",
     "text": [
      "c:\\users\\tuski\\appdata\\local\\programs\\python\\python39\\lib\\site-packages\\ipykernel\\ipkernel.py:283: DeprecationWarning: `should_run_async` will not call `transform_cell` automatically in the future. Please pass the result to `transformed_cell` argument and any exception that happen during thetransform in `preprocessing_exc_tuple` in IPython 7.17 and above.\n",
      "  and should_run_async(code)\n"
     ]
    },
    {
     "data": {
      "text/plain": [
       "40000"
      ]
     },
     "execution_count": 53,
     "metadata": {},
     "output_type": "execute_result"
    }
   ],
   "source": [
    "len(scoresperdoc[0])"
   ]
  },
  {
   "cell_type": "code",
   "execution_count": 54,
   "id": "accomplished-transition",
   "metadata": {
    "collapsed": true
   },
   "outputs": [
    {
     "name": "stderr",
     "output_type": "stream",
     "text": [
      "c:\\users\\tuski\\appdata\\local\\programs\\python\\python39\\lib\\site-packages\\ipykernel\\ipkernel.py:283: DeprecationWarning: `should_run_async` will not call `transform_cell` automatically in the future. Please pass the result to `transformed_cell` argument and any exception that happen during thetransform in `preprocessing_exc_tuple` in IPython 7.17 and above.\n",
      "  and should_run_async(code)\n"
     ]
    },
    {
     "data": {
      "text/html": [
       "<div>\n",
       "<style scoped>\n",
       "    .dataframe tbody tr th:only-of-type {\n",
       "        vertical-align: middle;\n",
       "    }\n",
       "\n",
       "    .dataframe tbody tr th {\n",
       "        vertical-align: top;\n",
       "    }\n",
       "\n",
       "    .dataframe thead th {\n",
       "        text-align: right;\n",
       "    }\n",
       "</style>\n",
       "<table border=\"1\" class=\"dataframe\">\n",
       "  <thead>\n",
       "    <tr style=\"text-align: right;\">\n",
       "      <th></th>\n",
       "      <th>0</th>\n",
       "      <th>1</th>\n",
       "      <th>2</th>\n",
       "      <th>3</th>\n",
       "      <th>4</th>\n",
       "      <th>5</th>\n",
       "      <th>6</th>\n",
       "      <th>7</th>\n",
       "      <th>8</th>\n",
       "      <th>9</th>\n",
       "      <th>...</th>\n",
       "      <th>22</th>\n",
       "      <th>23</th>\n",
       "      <th>24</th>\n",
       "      <th>25</th>\n",
       "      <th>26</th>\n",
       "      <th>27</th>\n",
       "      <th>28</th>\n",
       "      <th>29</th>\n",
       "      <th>30</th>\n",
       "      <th>31</th>\n",
       "    </tr>\n",
       "  </thead>\n",
       "  <tbody>\n",
       "    <tr>\n",
       "      <th>0</th>\n",
       "      <td>0.245751</td>\n",
       "      <td>0.163783</td>\n",
       "      <td>0.123745</td>\n",
       "      <td>0.159938</td>\n",
       "      <td>0.245996</td>\n",
       "      <td>0.139191</td>\n",
       "      <td>0.112451</td>\n",
       "      <td>1.885903</td>\n",
       "      <td>0.103736</td>\n",
       "      <td>0.154225</td>\n",
       "      <td>...</td>\n",
       "      <td>0.147342</td>\n",
       "      <td>0.179190</td>\n",
       "      <td>0.115000</td>\n",
       "      <td>0.146005</td>\n",
       "      <td>0.158192</td>\n",
       "      <td>1.509199</td>\n",
       "      <td>0.122626</td>\n",
       "      <td>0.147461</td>\n",
       "      <td>0.150580</td>\n",
       "      <td>3.084435</td>\n",
       "    </tr>\n",
       "    <tr>\n",
       "      <th>1</th>\n",
       "      <td>1.245174</td>\n",
       "      <td>0.164094</td>\n",
       "      <td>0.123745</td>\n",
       "      <td>0.159938</td>\n",
       "      <td>0.245996</td>\n",
       "      <td>0.139191</td>\n",
       "      <td>1.111848</td>\n",
       "      <td>0.893134</td>\n",
       "      <td>1.103452</td>\n",
       "      <td>0.154225</td>\n",
       "      <td>...</td>\n",
       "      <td>0.147342</td>\n",
       "      <td>0.179401</td>\n",
       "      <td>8.160703</td>\n",
       "      <td>0.146005</td>\n",
       "      <td>0.158192</td>\n",
       "      <td>5.282814</td>\n",
       "      <td>0.122625</td>\n",
       "      <td>0.147461</td>\n",
       "      <td>0.150665</td>\n",
       "      <td>2.232061</td>\n",
       "    </tr>\n",
       "    <tr>\n",
       "      <th>2</th>\n",
       "      <td>0.245751</td>\n",
       "      <td>1.166454</td>\n",
       "      <td>0.123745</td>\n",
       "      <td>0.160247</td>\n",
       "      <td>1.242338</td>\n",
       "      <td>0.139191</td>\n",
       "      <td>0.112451</td>\n",
       "      <td>0.908618</td>\n",
       "      <td>0.103736</td>\n",
       "      <td>0.154240</td>\n",
       "      <td>...</td>\n",
       "      <td>0.147342</td>\n",
       "      <td>0.179190</td>\n",
       "      <td>0.115012</td>\n",
       "      <td>0.146005</td>\n",
       "      <td>0.158192</td>\n",
       "      <td>3.422740</td>\n",
       "      <td>0.122626</td>\n",
       "      <td>0.147461</td>\n",
       "      <td>0.150580</td>\n",
       "      <td>1.126911</td>\n",
       "    </tr>\n",
       "    <tr>\n",
       "      <th>3</th>\n",
       "      <td>2.112757</td>\n",
       "      <td>0.163783</td>\n",
       "      <td>0.123745</td>\n",
       "      <td>0.159938</td>\n",
       "      <td>0.246022</td>\n",
       "      <td>0.139191</td>\n",
       "      <td>0.112451</td>\n",
       "      <td>5.188249</td>\n",
       "      <td>0.103736</td>\n",
       "      <td>2.152368</td>\n",
       "      <td>...</td>\n",
       "      <td>0.147342</td>\n",
       "      <td>0.179190</td>\n",
       "      <td>1.113661</td>\n",
       "      <td>0.146005</td>\n",
       "      <td>0.158192</td>\n",
       "      <td>4.830050</td>\n",
       "      <td>0.122625</td>\n",
       "      <td>0.147461</td>\n",
       "      <td>0.150750</td>\n",
       "      <td>10.438732</td>\n",
       "    </tr>\n",
       "    <tr>\n",
       "      <th>4</th>\n",
       "      <td>0.245751</td>\n",
       "      <td>0.163783</td>\n",
       "      <td>0.123745</td>\n",
       "      <td>0.159938</td>\n",
       "      <td>0.245996</td>\n",
       "      <td>0.139191</td>\n",
       "      <td>0.112451</td>\n",
       "      <td>0.896150</td>\n",
       "      <td>0.103736</td>\n",
       "      <td>0.154225</td>\n",
       "      <td>...</td>\n",
       "      <td>0.147342</td>\n",
       "      <td>2.178287</td>\n",
       "      <td>0.115000</td>\n",
       "      <td>0.146005</td>\n",
       "      <td>0.158192</td>\n",
       "      <td>3.479974</td>\n",
       "      <td>0.122626</td>\n",
       "      <td>0.147461</td>\n",
       "      <td>0.150580</td>\n",
       "      <td>3.098558</td>\n",
       "    </tr>\n",
       "    <tr>\n",
       "      <th>...</th>\n",
       "      <td>...</td>\n",
       "      <td>...</td>\n",
       "      <td>...</td>\n",
       "      <td>...</td>\n",
       "      <td>...</td>\n",
       "      <td>...</td>\n",
       "      <td>...</td>\n",
       "      <td>...</td>\n",
       "      <td>...</td>\n",
       "      <td>...</td>\n",
       "      <td>...</td>\n",
       "      <td>...</td>\n",
       "      <td>...</td>\n",
       "      <td>...</td>\n",
       "      <td>...</td>\n",
       "      <td>...</td>\n",
       "      <td>...</td>\n",
       "      <td>...</td>\n",
       "      <td>...</td>\n",
       "      <td>...</td>\n",
       "      <td>...</td>\n",
       "    </tr>\n",
       "    <tr>\n",
       "      <th>39995</th>\n",
       "      <td>0.245751</td>\n",
       "      <td>0.163783</td>\n",
       "      <td>0.123745</td>\n",
       "      <td>0.159938</td>\n",
       "      <td>1.244262</td>\n",
       "      <td>1.139016</td>\n",
       "      <td>0.112451</td>\n",
       "      <td>0.913645</td>\n",
       "      <td>0.103736</td>\n",
       "      <td>0.154225</td>\n",
       "      <td>...</td>\n",
       "      <td>0.147342</td>\n",
       "      <td>0.179190</td>\n",
       "      <td>0.115000</td>\n",
       "      <td>0.146005</td>\n",
       "      <td>0.158192</td>\n",
       "      <td>5.345022</td>\n",
       "      <td>0.122625</td>\n",
       "      <td>0.147461</td>\n",
       "      <td>0.150580</td>\n",
       "      <td>4.197535</td>\n",
       "    </tr>\n",
       "    <tr>\n",
       "      <th>39996</th>\n",
       "      <td>0.245751</td>\n",
       "      <td>4.162194</td>\n",
       "      <td>5.120985</td>\n",
       "      <td>1.241207</td>\n",
       "      <td>0.245996</td>\n",
       "      <td>0.139235</td>\n",
       "      <td>0.112463</td>\n",
       "      <td>1.391706</td>\n",
       "      <td>0.103736</td>\n",
       "      <td>0.154225</td>\n",
       "      <td>...</td>\n",
       "      <td>0.147342</td>\n",
       "      <td>0.179190</td>\n",
       "      <td>0.115001</td>\n",
       "      <td>0.146005</td>\n",
       "      <td>0.158192</td>\n",
       "      <td>4.582439</td>\n",
       "      <td>0.122625</td>\n",
       "      <td>0.147461</td>\n",
       "      <td>0.150580</td>\n",
       "      <td>1.641779</td>\n",
       "    </tr>\n",
       "    <tr>\n",
       "      <th>39997</th>\n",
       "      <td>0.245751</td>\n",
       "      <td>0.163783</td>\n",
       "      <td>0.123745</td>\n",
       "      <td>0.159938</td>\n",
       "      <td>0.245996</td>\n",
       "      <td>0.139191</td>\n",
       "      <td>0.112451</td>\n",
       "      <td>0.886497</td>\n",
       "      <td>0.103736</td>\n",
       "      <td>1.153846</td>\n",
       "      <td>...</td>\n",
       "      <td>0.147342</td>\n",
       "      <td>0.179190</td>\n",
       "      <td>0.115000</td>\n",
       "      <td>0.146005</td>\n",
       "      <td>0.158192</td>\n",
       "      <td>1.509199</td>\n",
       "      <td>0.122625</td>\n",
       "      <td>0.147461</td>\n",
       "      <td>0.150580</td>\n",
       "      <td>1.085104</td>\n",
       "    </tr>\n",
       "    <tr>\n",
       "      <th>39998</th>\n",
       "      <td>1.244854</td>\n",
       "      <td>1.162465</td>\n",
       "      <td>0.123748</td>\n",
       "      <td>0.159938</td>\n",
       "      <td>0.245996</td>\n",
       "      <td>0.139191</td>\n",
       "      <td>0.112451</td>\n",
       "      <td>2.579722</td>\n",
       "      <td>0.103736</td>\n",
       "      <td>0.154225</td>\n",
       "      <td>...</td>\n",
       "      <td>0.147342</td>\n",
       "      <td>0.179190</td>\n",
       "      <td>0.115000</td>\n",
       "      <td>0.146005</td>\n",
       "      <td>0.158192</td>\n",
       "      <td>6.242500</td>\n",
       "      <td>0.122625</td>\n",
       "      <td>0.147461</td>\n",
       "      <td>0.150580</td>\n",
       "      <td>1.635877</td>\n",
       "    </tr>\n",
       "    <tr>\n",
       "      <th>39999</th>\n",
       "      <td>0.245751</td>\n",
       "      <td>0.163783</td>\n",
       "      <td>0.123816</td>\n",
       "      <td>0.159938</td>\n",
       "      <td>0.245996</td>\n",
       "      <td>0.139212</td>\n",
       "      <td>0.112451</td>\n",
       "      <td>1.021505</td>\n",
       "      <td>0.103736</td>\n",
       "      <td>0.154225</td>\n",
       "      <td>...</td>\n",
       "      <td>0.147342</td>\n",
       "      <td>0.179190</td>\n",
       "      <td>0.115000</td>\n",
       "      <td>0.146005</td>\n",
       "      <td>0.158192</td>\n",
       "      <td>5.145869</td>\n",
       "      <td>0.122625</td>\n",
       "      <td>0.147461</td>\n",
       "      <td>0.150580</td>\n",
       "      <td>2.039878</td>\n",
       "    </tr>\n",
       "  </tbody>\n",
       "</table>\n",
       "<p>40000 rows × 32 columns</p>\n",
       "</div>"
      ],
      "text/plain": [
       "             0         1         2         3         4         5         6   \\\n",
       "0      0.245751  0.163783  0.123745  0.159938  0.245996  0.139191  0.112451   \n",
       "1      1.245174  0.164094  0.123745  0.159938  0.245996  0.139191  1.111848   \n",
       "2      0.245751  1.166454  0.123745  0.160247  1.242338  0.139191  0.112451   \n",
       "3      2.112757  0.163783  0.123745  0.159938  0.246022  0.139191  0.112451   \n",
       "4      0.245751  0.163783  0.123745  0.159938  0.245996  0.139191  0.112451   \n",
       "...         ...       ...       ...       ...       ...       ...       ...   \n",
       "39995  0.245751  0.163783  0.123745  0.159938  1.244262  1.139016  0.112451   \n",
       "39996  0.245751  4.162194  5.120985  1.241207  0.245996  0.139235  0.112463   \n",
       "39997  0.245751  0.163783  0.123745  0.159938  0.245996  0.139191  0.112451   \n",
       "39998  1.244854  1.162465  0.123748  0.159938  0.245996  0.139191  0.112451   \n",
       "39999  0.245751  0.163783  0.123816  0.159938  0.245996  0.139212  0.112451   \n",
       "\n",
       "             7         8         9   ...        22        23        24  \\\n",
       "0      1.885903  0.103736  0.154225  ...  0.147342  0.179190  0.115000   \n",
       "1      0.893134  1.103452  0.154225  ...  0.147342  0.179401  8.160703   \n",
       "2      0.908618  0.103736  0.154240  ...  0.147342  0.179190  0.115012   \n",
       "3      5.188249  0.103736  2.152368  ...  0.147342  0.179190  1.113661   \n",
       "4      0.896150  0.103736  0.154225  ...  0.147342  2.178287  0.115000   \n",
       "...         ...       ...       ...  ...       ...       ...       ...   \n",
       "39995  0.913645  0.103736  0.154225  ...  0.147342  0.179190  0.115000   \n",
       "39996  1.391706  0.103736  0.154225  ...  0.147342  0.179190  0.115001   \n",
       "39997  0.886497  0.103736  1.153846  ...  0.147342  0.179190  0.115000   \n",
       "39998  2.579722  0.103736  0.154225  ...  0.147342  0.179190  0.115000   \n",
       "39999  1.021505  0.103736  0.154225  ...  0.147342  0.179190  0.115000   \n",
       "\n",
       "             25        26        27        28        29        30         31  \n",
       "0      0.146005  0.158192  1.509199  0.122626  0.147461  0.150580   3.084435  \n",
       "1      0.146005  0.158192  5.282814  0.122625  0.147461  0.150665   2.232061  \n",
       "2      0.146005  0.158192  3.422740  0.122626  0.147461  0.150580   1.126911  \n",
       "3      0.146005  0.158192  4.830050  0.122625  0.147461  0.150750  10.438732  \n",
       "4      0.146005  0.158192  3.479974  0.122626  0.147461  0.150580   3.098558  \n",
       "...         ...       ...       ...       ...       ...       ...        ...  \n",
       "39995  0.146005  0.158192  5.345022  0.122625  0.147461  0.150580   4.197535  \n",
       "39996  0.146005  0.158192  4.582439  0.122625  0.147461  0.150580   1.641779  \n",
       "39997  0.146005  0.158192  1.509199  0.122625  0.147461  0.150580   1.085104  \n",
       "39998  0.146005  0.158192  6.242500  0.122625  0.147461  0.150580   1.635877  \n",
       "39999  0.146005  0.158192  5.145869  0.122625  0.147461  0.150580   2.039878  \n",
       "\n",
       "[40000 rows x 32 columns]"
      ]
     },
     "execution_count": 54,
     "metadata": {},
     "output_type": "execute_result"
    }
   ],
   "source": [
    "df = pd.DataFrame.from_records(scoresperdoc[0])\n",
    "df\n",
    "#topic 23 has a very high score"
   ]
  },
  {
   "cell_type": "code",
   "execution_count": 55,
   "id": "alert-range",
   "metadata": {},
   "outputs": [
    {
     "name": "stderr",
     "output_type": "stream",
     "text": [
      "c:\\users\\tuski\\appdata\\local\\programs\\python\\python39\\lib\\site-packages\\ipykernel\\ipkernel.py:283: DeprecationWarning: `should_run_async` will not call `transform_cell` automatically in the future. Please pass the result to `transformed_cell` argument and any exception that happen during thetransform in `preprocessing_exc_tuple` in IPython 7.17 and above.\n",
      "  and should_run_async(code)\n"
     ]
    },
    {
     "data": {
      "text/html": [
       "<div>\n",
       "<style scoped>\n",
       "    .dataframe tbody tr th:only-of-type {\n",
       "        vertical-align: middle;\n",
       "    }\n",
       "\n",
       "    .dataframe tbody tr th {\n",
       "        vertical-align: top;\n",
       "    }\n",
       "\n",
       "    .dataframe thead th {\n",
       "        text-align: right;\n",
       "    }\n",
       "</style>\n",
       "<table border=\"1\" class=\"dataframe\">\n",
       "  <thead>\n",
       "    <tr style=\"text-align: right;\">\n",
       "      <th></th>\n",
       "      <th>0</th>\n",
       "      <th>1</th>\n",
       "      <th>2</th>\n",
       "      <th>3</th>\n",
       "      <th>4</th>\n",
       "      <th>5</th>\n",
       "      <th>6</th>\n",
       "      <th>7</th>\n",
       "      <th>8</th>\n",
       "      <th>9</th>\n",
       "      <th>...</th>\n",
       "      <th>22</th>\n",
       "      <th>23</th>\n",
       "      <th>24</th>\n",
       "      <th>25</th>\n",
       "      <th>26</th>\n",
       "      <th>27</th>\n",
       "      <th>28</th>\n",
       "      <th>29</th>\n",
       "      <th>30</th>\n",
       "      <th>31</th>\n",
       "    </tr>\n",
       "  </thead>\n",
       "  <tbody>\n",
       "    <tr>\n",
       "      <th>0</th>\n",
       "      <td>0</td>\n",
       "      <td>0</td>\n",
       "      <td>0</td>\n",
       "      <td>0</td>\n",
       "      <td>0</td>\n",
       "      <td>0</td>\n",
       "      <td>0</td>\n",
       "      <td>1</td>\n",
       "      <td>0</td>\n",
       "      <td>0</td>\n",
       "      <td>...</td>\n",
       "      <td>0</td>\n",
       "      <td>0</td>\n",
       "      <td>0</td>\n",
       "      <td>0</td>\n",
       "      <td>0</td>\n",
       "      <td>1</td>\n",
       "      <td>0</td>\n",
       "      <td>0</td>\n",
       "      <td>0</td>\n",
       "      <td>1</td>\n",
       "    </tr>\n",
       "    <tr>\n",
       "      <th>1</th>\n",
       "      <td>1</td>\n",
       "      <td>0</td>\n",
       "      <td>0</td>\n",
       "      <td>0</td>\n",
       "      <td>0</td>\n",
       "      <td>0</td>\n",
       "      <td>1</td>\n",
       "      <td>0</td>\n",
       "      <td>1</td>\n",
       "      <td>0</td>\n",
       "      <td>...</td>\n",
       "      <td>0</td>\n",
       "      <td>0</td>\n",
       "      <td>1</td>\n",
       "      <td>0</td>\n",
       "      <td>0</td>\n",
       "      <td>1</td>\n",
       "      <td>0</td>\n",
       "      <td>0</td>\n",
       "      <td>0</td>\n",
       "      <td>1</td>\n",
       "    </tr>\n",
       "    <tr>\n",
       "      <th>2</th>\n",
       "      <td>0</td>\n",
       "      <td>1</td>\n",
       "      <td>0</td>\n",
       "      <td>0</td>\n",
       "      <td>1</td>\n",
       "      <td>0</td>\n",
       "      <td>0</td>\n",
       "      <td>0</td>\n",
       "      <td>0</td>\n",
       "      <td>0</td>\n",
       "      <td>...</td>\n",
       "      <td>0</td>\n",
       "      <td>0</td>\n",
       "      <td>0</td>\n",
       "      <td>0</td>\n",
       "      <td>0</td>\n",
       "      <td>1</td>\n",
       "      <td>0</td>\n",
       "      <td>0</td>\n",
       "      <td>0</td>\n",
       "      <td>1</td>\n",
       "    </tr>\n",
       "    <tr>\n",
       "      <th>3</th>\n",
       "      <td>1</td>\n",
       "      <td>0</td>\n",
       "      <td>0</td>\n",
       "      <td>0</td>\n",
       "      <td>0</td>\n",
       "      <td>0</td>\n",
       "      <td>0</td>\n",
       "      <td>1</td>\n",
       "      <td>0</td>\n",
       "      <td>1</td>\n",
       "      <td>...</td>\n",
       "      <td>0</td>\n",
       "      <td>0</td>\n",
       "      <td>1</td>\n",
       "      <td>0</td>\n",
       "      <td>0</td>\n",
       "      <td>1</td>\n",
       "      <td>0</td>\n",
       "      <td>0</td>\n",
       "      <td>0</td>\n",
       "      <td>1</td>\n",
       "    </tr>\n",
       "    <tr>\n",
       "      <th>4</th>\n",
       "      <td>0</td>\n",
       "      <td>0</td>\n",
       "      <td>0</td>\n",
       "      <td>0</td>\n",
       "      <td>0</td>\n",
       "      <td>0</td>\n",
       "      <td>0</td>\n",
       "      <td>0</td>\n",
       "      <td>0</td>\n",
       "      <td>0</td>\n",
       "      <td>...</td>\n",
       "      <td>0</td>\n",
       "      <td>1</td>\n",
       "      <td>0</td>\n",
       "      <td>0</td>\n",
       "      <td>0</td>\n",
       "      <td>1</td>\n",
       "      <td>0</td>\n",
       "      <td>0</td>\n",
       "      <td>0</td>\n",
       "      <td>1</td>\n",
       "    </tr>\n",
       "    <tr>\n",
       "      <th>...</th>\n",
       "      <td>...</td>\n",
       "      <td>...</td>\n",
       "      <td>...</td>\n",
       "      <td>...</td>\n",
       "      <td>...</td>\n",
       "      <td>...</td>\n",
       "      <td>...</td>\n",
       "      <td>...</td>\n",
       "      <td>...</td>\n",
       "      <td>...</td>\n",
       "      <td>...</td>\n",
       "      <td>...</td>\n",
       "      <td>...</td>\n",
       "      <td>...</td>\n",
       "      <td>...</td>\n",
       "      <td>...</td>\n",
       "      <td>...</td>\n",
       "      <td>...</td>\n",
       "      <td>...</td>\n",
       "      <td>...</td>\n",
       "      <td>...</td>\n",
       "    </tr>\n",
       "    <tr>\n",
       "      <th>39995</th>\n",
       "      <td>0</td>\n",
       "      <td>0</td>\n",
       "      <td>0</td>\n",
       "      <td>0</td>\n",
       "      <td>1</td>\n",
       "      <td>1</td>\n",
       "      <td>0</td>\n",
       "      <td>0</td>\n",
       "      <td>0</td>\n",
       "      <td>0</td>\n",
       "      <td>...</td>\n",
       "      <td>0</td>\n",
       "      <td>0</td>\n",
       "      <td>0</td>\n",
       "      <td>0</td>\n",
       "      <td>0</td>\n",
       "      <td>1</td>\n",
       "      <td>0</td>\n",
       "      <td>0</td>\n",
       "      <td>0</td>\n",
       "      <td>1</td>\n",
       "    </tr>\n",
       "    <tr>\n",
       "      <th>39996</th>\n",
       "      <td>0</td>\n",
       "      <td>1</td>\n",
       "      <td>1</td>\n",
       "      <td>1</td>\n",
       "      <td>0</td>\n",
       "      <td>0</td>\n",
       "      <td>0</td>\n",
       "      <td>1</td>\n",
       "      <td>0</td>\n",
       "      <td>0</td>\n",
       "      <td>...</td>\n",
       "      <td>0</td>\n",
       "      <td>0</td>\n",
       "      <td>0</td>\n",
       "      <td>0</td>\n",
       "      <td>0</td>\n",
       "      <td>1</td>\n",
       "      <td>0</td>\n",
       "      <td>0</td>\n",
       "      <td>0</td>\n",
       "      <td>1</td>\n",
       "    </tr>\n",
       "    <tr>\n",
       "      <th>39997</th>\n",
       "      <td>0</td>\n",
       "      <td>0</td>\n",
       "      <td>0</td>\n",
       "      <td>0</td>\n",
       "      <td>0</td>\n",
       "      <td>0</td>\n",
       "      <td>0</td>\n",
       "      <td>0</td>\n",
       "      <td>0</td>\n",
       "      <td>1</td>\n",
       "      <td>...</td>\n",
       "      <td>0</td>\n",
       "      <td>0</td>\n",
       "      <td>0</td>\n",
       "      <td>0</td>\n",
       "      <td>0</td>\n",
       "      <td>1</td>\n",
       "      <td>0</td>\n",
       "      <td>0</td>\n",
       "      <td>0</td>\n",
       "      <td>1</td>\n",
       "    </tr>\n",
       "    <tr>\n",
       "      <th>39998</th>\n",
       "      <td>1</td>\n",
       "      <td>1</td>\n",
       "      <td>0</td>\n",
       "      <td>0</td>\n",
       "      <td>0</td>\n",
       "      <td>0</td>\n",
       "      <td>0</td>\n",
       "      <td>1</td>\n",
       "      <td>0</td>\n",
       "      <td>0</td>\n",
       "      <td>...</td>\n",
       "      <td>0</td>\n",
       "      <td>0</td>\n",
       "      <td>0</td>\n",
       "      <td>0</td>\n",
       "      <td>0</td>\n",
       "      <td>1</td>\n",
       "      <td>0</td>\n",
       "      <td>0</td>\n",
       "      <td>0</td>\n",
       "      <td>1</td>\n",
       "    </tr>\n",
       "    <tr>\n",
       "      <th>39999</th>\n",
       "      <td>0</td>\n",
       "      <td>0</td>\n",
       "      <td>0</td>\n",
       "      <td>0</td>\n",
       "      <td>0</td>\n",
       "      <td>0</td>\n",
       "      <td>0</td>\n",
       "      <td>1</td>\n",
       "      <td>0</td>\n",
       "      <td>0</td>\n",
       "      <td>...</td>\n",
       "      <td>0</td>\n",
       "      <td>0</td>\n",
       "      <td>0</td>\n",
       "      <td>0</td>\n",
       "      <td>0</td>\n",
       "      <td>1</td>\n",
       "      <td>0</td>\n",
       "      <td>0</td>\n",
       "      <td>0</td>\n",
       "      <td>1</td>\n",
       "    </tr>\n",
       "  </tbody>\n",
       "</table>\n",
       "<p>40000 rows × 32 columns</p>\n",
       "</div>"
      ],
      "text/plain": [
       "       0   1   2   3   4   5   6   7   8   9   ...  22  23  24  25  26  27  \\\n",
       "0       0   0   0   0   0   0   0   1   0   0  ...   0   0   0   0   0   1   \n",
       "1       1   0   0   0   0   0   1   0   1   0  ...   0   0   1   0   0   1   \n",
       "2       0   1   0   0   1   0   0   0   0   0  ...   0   0   0   0   0   1   \n",
       "3       1   0   0   0   0   0   0   1   0   1  ...   0   0   1   0   0   1   \n",
       "4       0   0   0   0   0   0   0   0   0   0  ...   0   1   0   0   0   1   \n",
       "...    ..  ..  ..  ..  ..  ..  ..  ..  ..  ..  ...  ..  ..  ..  ..  ..  ..   \n",
       "39995   0   0   0   0   1   1   0   0   0   0  ...   0   0   0   0   0   1   \n",
       "39996   0   1   1   1   0   0   0   1   0   0  ...   0   0   0   0   0   1   \n",
       "39997   0   0   0   0   0   0   0   0   0   1  ...   0   0   0   0   0   1   \n",
       "39998   1   1   0   0   0   0   0   1   0   0  ...   0   0   0   0   0   1   \n",
       "39999   0   0   0   0   0   0   0   1   0   0  ...   0   0   0   0   0   1   \n",
       "\n",
       "       28  29  30  31  \n",
       "0       0   0   0   1  \n",
       "1       0   0   0   1  \n",
       "2       0   0   0   1  \n",
       "3       0   0   0   1  \n",
       "4       0   0   0   1  \n",
       "...    ..  ..  ..  ..  \n",
       "39995   0   0   0   1  \n",
       "39996   0   0   0   1  \n",
       "39997   0   0   0   1  \n",
       "39998   0   0   0   1  \n",
       "39999   0   0   0   1  \n",
       "\n",
       "[40000 rows x 32 columns]"
      ]
     },
     "execution_count": 55,
     "metadata": {},
     "output_type": "execute_result"
    }
   ],
   "source": [
    "df = df.applymap(lambda x: int(x>1))\n",
    "df"
   ]
  },
  {
   "cell_type": "code",
   "execution_count": 100,
   "id": "level-officer",
   "metadata": {},
   "outputs": [
    {
     "name": "stderr",
     "output_type": "stream",
     "text": [
      "c:\\users\\tuski\\appdata\\local\\programs\\python\\python39\\lib\\site-packages\\ipykernel\\ipkernel.py:283: DeprecationWarning: `should_run_async` will not call `transform_cell` automatically in the future. Please pass the result to `transformed_cell` argument and any exception that happen during thetransform in `preprocessing_exc_tuple` in IPython 7.17 and above.\n",
      "  and should_run_async(code)\n"
     ]
    }
   ],
   "source": [
    "try_topic = tryy.merge(df, left_index=True, right_index=True)"
   ]
  },
  {
   "cell_type": "code",
   "execution_count": 101,
   "id": "czech-polyester",
   "metadata": {},
   "outputs": [
    {
     "name": "stderr",
     "output_type": "stream",
     "text": [
      "c:\\users\\tuski\\appdata\\local\\programs\\python\\python39\\lib\\site-packages\\ipykernel\\ipkernel.py:283: DeprecationWarning: `should_run_async` will not call `transform_cell` automatically in the future. Please pass the result to `transformed_cell` argument and any exception that happen during thetransform in `preprocessing_exc_tuple` in IPython 7.17 and above.\n",
      "  and should_run_async(code)\n"
     ]
    },
    {
     "data": {
      "text/html": [
       "<div>\n",
       "<style scoped>\n",
       "    .dataframe tbody tr th:only-of-type {\n",
       "        vertical-align: middle;\n",
       "    }\n",
       "\n",
       "    .dataframe tbody tr th {\n",
       "        vertical-align: top;\n",
       "    }\n",
       "\n",
       "    .dataframe thead th {\n",
       "        text-align: right;\n",
       "    }\n",
       "</style>\n",
       "<table border=\"1\" class=\"dataframe\">\n",
       "  <thead>\n",
       "    <tr style=\"text-align: right;\">\n",
       "      <th></th>\n",
       "      <th>created_at</th>\n",
       "      <th>text</th>\n",
       "      <th>id</th>\n",
       "      <th>author_id</th>\n",
       "      <th>lang</th>\n",
       "      <th>username</th>\n",
       "      <th>text_clean</th>\n",
       "      <th>source_media</th>\n",
       "      <th>0</th>\n",
       "      <th>1</th>\n",
       "      <th>...</th>\n",
       "      <th>39</th>\n",
       "      <th>40</th>\n",
       "      <th>41</th>\n",
       "      <th>42</th>\n",
       "      <th>43</th>\n",
       "      <th>44</th>\n",
       "      <th>45</th>\n",
       "      <th>46</th>\n",
       "      <th>47</th>\n",
       "      <th>48</th>\n",
       "    </tr>\n",
       "  </thead>\n",
       "  <tbody>\n",
       "    <tr>\n",
       "      <th>0</th>\n",
       "      <td>2021-12-31 12:06:05</td>\n",
       "      <td>'That was not the basis of the CDC's decision'...</td>\n",
       "      <td>1476887381336801280</td>\n",
       "      <td>2836421</td>\n",
       "      <td>en</td>\n",
       "      <td>MSNBC</td>\n",
       "      <td>that was not the basis of the cdcs decision dr...</td>\n",
       "      <td>1</td>\n",
       "      <td>1</td>\n",
       "      <td>0</td>\n",
       "      <td>...</td>\n",
       "      <td>0</td>\n",
       "      <td>0</td>\n",
       "      <td>0</td>\n",
       "      <td>0</td>\n",
       "      <td>0</td>\n",
       "      <td>0</td>\n",
       "      <td>0</td>\n",
       "      <td>0</td>\n",
       "      <td>0</td>\n",
       "      <td>0</td>\n",
       "    </tr>\n",
       "    <tr>\n",
       "      <th>1</th>\n",
       "      <td>2021-12-30 02:46:02</td>\n",
       "      <td>'That was not the basis of the CDC's decision'...</td>\n",
       "      <td>1476384051154112512</td>\n",
       "      <td>2836421</td>\n",
       "      <td>en</td>\n",
       "      <td>MSNBC</td>\n",
       "      <td>that was not the basis of the cdcs decision dr...</td>\n",
       "      <td>1</td>\n",
       "      <td>1</td>\n",
       "      <td>0</td>\n",
       "      <td>...</td>\n",
       "      <td>0</td>\n",
       "      <td>0</td>\n",
       "      <td>0</td>\n",
       "      <td>0</td>\n",
       "      <td>0</td>\n",
       "      <td>0</td>\n",
       "      <td>0</td>\n",
       "      <td>0</td>\n",
       "      <td>0</td>\n",
       "      <td>0</td>\n",
       "    </tr>\n",
       "    <tr>\n",
       "      <th>2</th>\n",
       "      <td>2021-12-29 13:31:07</td>\n",
       "      <td>'That was not the basis of the CDC's decision'...</td>\n",
       "      <td>1476184003526938624</td>\n",
       "      <td>2836421</td>\n",
       "      <td>en</td>\n",
       "      <td>MSNBC</td>\n",
       "      <td>that was not the basis of the cdcs decision dr...</td>\n",
       "      <td>1</td>\n",
       "      <td>1</td>\n",
       "      <td>0</td>\n",
       "      <td>...</td>\n",
       "      <td>0</td>\n",
       "      <td>0</td>\n",
       "      <td>0</td>\n",
       "      <td>0</td>\n",
       "      <td>0</td>\n",
       "      <td>0</td>\n",
       "      <td>0</td>\n",
       "      <td>0</td>\n",
       "      <td>0</td>\n",
       "      <td>0</td>\n",
       "    </tr>\n",
       "    <tr>\n",
       "      <th>3</th>\n",
       "      <td>2021-12-29 06:31:02</td>\n",
       "      <td>'That was not the basis of the CDC's decision'...</td>\n",
       "      <td>1476078288661581824</td>\n",
       "      <td>2836421</td>\n",
       "      <td>en</td>\n",
       "      <td>MSNBC</td>\n",
       "      <td>that was not the basis of the cdcs decision dr...</td>\n",
       "      <td>1</td>\n",
       "      <td>1</td>\n",
       "      <td>0</td>\n",
       "      <td>...</td>\n",
       "      <td>0</td>\n",
       "      <td>0</td>\n",
       "      <td>0</td>\n",
       "      <td>0</td>\n",
       "      <td>0</td>\n",
       "      <td>0</td>\n",
       "      <td>0</td>\n",
       "      <td>0</td>\n",
       "      <td>0</td>\n",
       "      <td>0</td>\n",
       "    </tr>\n",
       "    <tr>\n",
       "      <th>4</th>\n",
       "      <td>2021-08-25 19:34:01</td>\n",
       "      <td>Delta Air Lines CEO tells employees that they ...</td>\n",
       "      <td>1430614459077349376</td>\n",
       "      <td>2836421</td>\n",
       "      <td>en</td>\n",
       "      <td>MSNBC</td>\n",
       "      <td>delta air lines ceo tells employees that they ...</td>\n",
       "      <td>1</td>\n",
       "      <td>0</td>\n",
       "      <td>0</td>\n",
       "      <td>...</td>\n",
       "      <td>0</td>\n",
       "      <td>0</td>\n",
       "      <td>0</td>\n",
       "      <td>0</td>\n",
       "      <td>0</td>\n",
       "      <td>0</td>\n",
       "      <td>0</td>\n",
       "      <td>0</td>\n",
       "      <td>0</td>\n",
       "      <td>0</td>\n",
       "    </tr>\n",
       "  </tbody>\n",
       "</table>\n",
       "<p>5 rows × 57 columns</p>\n",
       "</div>"
      ],
      "text/plain": [
       "            created_at                                               text  \\\n",
       "0  2021-12-31 12:06:05  'That was not the basis of the CDC's decision'...   \n",
       "1  2021-12-30 02:46:02  'That was not the basis of the CDC's decision'...   \n",
       "2  2021-12-29 13:31:07  'That was not the basis of the CDC's decision'...   \n",
       "3  2021-12-29 06:31:02  'That was not the basis of the CDC's decision'...   \n",
       "4  2021-08-25 19:34:01  Delta Air Lines CEO tells employees that they ...   \n",
       "\n",
       "                    id  author_id lang username  \\\n",
       "0  1476887381336801280    2836421   en    MSNBC   \n",
       "1  1476384051154112512    2836421   en    MSNBC   \n",
       "2  1476184003526938624    2836421   en    MSNBC   \n",
       "3  1476078288661581824    2836421   en    MSNBC   \n",
       "4  1430614459077349376    2836421   en    MSNBC   \n",
       "\n",
       "                                          text_clean  source_media  0  1  ...  \\\n",
       "0  that was not the basis of the cdcs decision dr...             1  1  0  ...   \n",
       "1  that was not the basis of the cdcs decision dr...             1  1  0  ...   \n",
       "2  that was not the basis of the cdcs decision dr...             1  1  0  ...   \n",
       "3  that was not the basis of the cdcs decision dr...             1  1  0  ...   \n",
       "4  delta air lines ceo tells employees that they ...             1  0  0  ...   \n",
       "\n",
       "   39  40  41  42  43  44  45  46  47  48  \n",
       "0   0   0   0   0   0   0   0   0   0   0  \n",
       "1   0   0   0   0   0   0   0   0   0   0  \n",
       "2   0   0   0   0   0   0   0   0   0   0  \n",
       "3   0   0   0   0   0   0   0   0   0   0  \n",
       "4   0   0   0   0   0   0   0   0   0   0  \n",
       "\n",
       "[5 rows x 57 columns]"
      ]
     },
     "execution_count": 101,
     "metadata": {},
     "output_type": "execute_result"
    }
   ],
   "source": [
    "try_topic.head()"
   ]
  },
  {
   "cell_type": "code",
   "execution_count": 102,
   "id": "hydraulic-piano",
   "metadata": {},
   "outputs": [
    {
     "name": "stderr",
     "output_type": "stream",
     "text": [
      "c:\\users\\tuski\\appdata\\local\\programs\\python\\python39\\lib\\site-packages\\ipykernel\\ipkernel.py:283: DeprecationWarning: `should_run_async` will not call `transform_cell` automatically in the future. Please pass the result to `transformed_cell` argument and any exception that happen during thetransform in `preprocessing_exc_tuple` in IPython 7.17 and above.\n",
      "  and should_run_async(code)\n"
     ]
    }
   ],
   "source": [
    "try_topic.to_csv(\"try_topic_lda.csv\", sep = \",\")"
   ]
  },
  {
   "cell_type": "markdown",
   "id": "genetic-seventh",
   "metadata": {},
   "source": [
    "# Topic modeling  -  media"
   ]
  },
  {
   "cell_type": "code",
   "execution_count": null,
   "id": "treated-disclosure",
   "metadata": {},
   "outputs": [],
   "source": [
    "media = pd.read_csv(\"media_clean.csv\", header = 0, delimiter = \",\")\n",
    "media.drop(labels = [\"Unnamed: 0\"], axis = 1, inplace = True)\n",
    "media_text = media[\"text_clean\"].to_list() # get the preprocessed text for topic modeling"
   ]
  },
  {
   "cell_type": "code",
   "execution_count": null,
   "id": "undefined-devices",
   "metadata": {},
   "outputs": [],
   "source": [
    "media_text[:10]"
   ]
  },
  {
   "cell_type": "code",
   "execution_count": null,
   "id": "white-identifier",
   "metadata": {},
   "outputs": [],
   "source": [
    "vectorizer_model = CountVectorizer(ngram_range=(1, 3), stop_words=\"english\", min_df=5, max_df=.5) # custome the CountVectorizer"
   ]
  },
  {
   "cell_type": "code",
   "execution_count": null,
   "id": "political-earthquake",
   "metadata": {},
   "outputs": [],
   "source": [
    "hdbscan_model = HDBSCAN(min_cluster_size=10, min_samples=3) "
   ]
  },
  {
   "cell_type": "code",
   "execution_count": null,
   "id": "intellectual-ministry",
   "metadata": {},
   "outputs": [],
   "source": [
    "topic_model = BERTopic(vectorizer_model=vectorizer_model, calculate_probabilities=False, low_memory=True, verbose=True, \n",
    "                       nr_topics=\"auto\", diversity = 0.2, min_topic_size = 30, hdbscan_model=hdbscan_model) # create the topic model"
   ]
  },
  {
   "cell_type": "code",
   "execution_count": null,
   "id": "concrete-michael",
   "metadata": {},
   "outputs": [],
   "source": [
    "topics, probs = topic_model.fit_transform(media_text)"
   ]
  },
  {
   "cell_type": "code",
   "execution_count": null,
   "id": "demonstrated-bulgaria",
   "metadata": {},
   "outputs": [],
   "source": [
    "# min_samples=3\n",
    "topic_model.get_topic_info()"
   ]
  },
  {
   "cell_type": "code",
   "execution_count": null,
   "id": "third-cabin",
   "metadata": {},
   "outputs": [],
   "source": [
    "topic_model.get_topic(-1)"
   ]
  },
  {
   "cell_type": "code",
   "execution_count": null,
   "id": "nonprofit-dialogue",
   "metadata": {},
   "outputs": [],
   "source": [
    "topic_model.visualize_topics()"
   ]
  },
  {
   "cell_type": "code",
   "execution_count": null,
   "id": "unsigned-engagement",
   "metadata": {},
   "outputs": [],
   "source": [
    "topic_model.get_topic(1)"
   ]
  },
  {
   "cell_type": "code",
   "execution_count": null,
   "id": "boxed-sigma",
   "metadata": {},
   "outputs": [],
   "source": [
    "topic_model.get_representative_docs(1)"
   ]
  },
  {
   "cell_type": "code",
   "execution_count": null,
   "id": "hungarian-mauritius",
   "metadata": {},
   "outputs": [],
   "source": [
    "representative_docs = topic_model.get_representative_docs() #get representative docs for all topics, will return a dict"
   ]
  },
  {
   "cell_type": "code",
   "execution_count": null,
   "id": "massive-mandate",
   "metadata": {},
   "outputs": [],
   "source": [
    "df = pd.DataFrame.from_dict(representative_docs, orient ='index') \n",
    "df.head()"
   ]
  },
  {
   "cell_type": "code",
   "execution_count": null,
   "id": "selective-despite",
   "metadata": {},
   "outputs": [],
   "source": [
    "df.to_excel('media_representative_docs.xlsx')"
   ]
  },
  {
   "cell_type": "markdown",
   "id": "focused-japanese",
   "metadata": {},
   "source": [
    "### Dynamic topic modeling"
   ]
  },
  {
   "cell_type": "code",
   "execution_count": null,
   "id": "micro-cookie",
   "metadata": {},
   "outputs": [],
   "source": [
    "media.head()"
   ]
  },
  {
   "cell_type": "code",
   "execution_count": null,
   "id": "further-authorization",
   "metadata": {},
   "outputs": [],
   "source": [
    "timestamps = media.created_at.to_list()"
   ]
  },
  {
   "cell_type": "code",
   "execution_count": null,
   "id": "junior-mitchell",
   "metadata": {},
   "outputs": [],
   "source": [
    "topics_over_time = topic_model.topics_over_time(media_text, topics, timestamps, nr_bins=20)"
   ]
  },
  {
   "cell_type": "code",
   "execution_count": null,
   "id": "lyric-analysis",
   "metadata": {},
   "outputs": [],
   "source": [
    "topic_model.visualize_topics_over_time(topics_over_time, top_n_topics=10)"
   ]
  },
  {
   "cell_type": "markdown",
   "id": "framed-router",
   "metadata": {},
   "source": [
    "Save the topic and probability per doc to the original dataframe"
   ]
  },
  {
   "cell_type": "code",
   "execution_count": null,
   "id": "immediate-vampire",
   "metadata": {},
   "outputs": [],
   "source": [
    "media_topic = pd.DataFrame()"
   ]
  },
  {
   "cell_type": "code",
   "execution_count": null,
   "id": "distributed-schema",
   "metadata": {},
   "outputs": [],
   "source": [
    "media_topic['topic']  = topics\n",
    "media_topic['probs']  = probs"
   ]
  },
  {
   "cell_type": "code",
   "execution_count": null,
   "id": "tender-process",
   "metadata": {},
   "outputs": [],
   "source": [
    "media = media.join(media_topic)"
   ]
  },
  {
   "cell_type": "code",
   "execution_count": null,
   "id": "bored-loading",
   "metadata": {},
   "outputs": [],
   "source": [
    "media.head()"
   ]
  },
  {
   "cell_type": "code",
   "execution_count": null,
   "id": "quiet-adelaide",
   "metadata": {},
   "outputs": [],
   "source": [
    "media.to_csv(\"media_topic.csv\", sep = \",\")"
   ]
  },
  {
   "cell_type": "code",
   "execution_count": null,
   "id": "recognized-restaurant",
   "metadata": {},
   "outputs": [],
   "source": [
    "topic_model.save(\"media_model\") # save the model"
   ]
  },
  {
   "cell_type": "code",
   "execution_count": null,
   "id": "agreed-patio",
   "metadata": {},
   "outputs": [],
   "source": []
  },
  {
   "cell_type": "markdown",
   "id": "retired-garlic",
   "metadata": {},
   "source": [
    "### Other"
   ]
  },
  {
   "cell_type": "code",
   "execution_count": null,
   "id": "loose-password",
   "metadata": {},
   "outputs": [],
   "source": [
    "# manual = pd.read_excel('media_representative_docs.xlsx', index_col=0)\n",
    "\n",
    "# media_model = BERTopic.load(\"media_model\")"
   ]
  },
  {
   "cell_type": "markdown",
   "id": "compressed-candy",
   "metadata": {},
   "source": [
    "1. ```media_text = [str(text) for text in media_text if len(str(text)) > 0]```\n",
    "\n",
    "will report \"sequence item 0: expected str instance, float found\" if not do this\n",
    "but when using vectorizer should be fine\n",
    "https://githubhot.com/repo/MaartenGr/BERTopic/issues/259\n",
    "\n",
    "2. get topics and probabilities for each doc from a loaded model\n",
    "\n",
    "from: https://github.com/MaartenGr/BERTopic/issues/283\n",
    "\n",
    "3. If the model is a fresh one, no need to run the following codes, the topics and probs are already calculated:\n",
    "\n",
    "```topics = topic_model._map_predictions(topic_model.hdbscan_model.labels_)\n",
    "probs = topic_model.hdbscan_model.probabilities_```"
   ]
  }
 ],
 "metadata": {
  "kernelspec": {
   "display_name": "Python 3",
   "language": "python",
   "name": "python3"
  },
  "language_info": {
   "codemirror_mode": {
    "name": "ipython",
    "version": 3
   },
   "file_extension": ".py",
   "mimetype": "text/x-python",
   "name": "python",
   "nbconvert_exporter": "python",
   "pygments_lexer": "ipython3",
   "version": "3.9.1"
  }
 },
 "nbformat": 4,
 "nbformat_minor": 5
}
